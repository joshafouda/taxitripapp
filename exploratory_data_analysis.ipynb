{
 "cells": [
  {
   "cell_type": "markdown",
   "metadata": {},
   "source": [
    "# <center>**Analyse exploratoire des donnees**"
   ]
  },
  {
   "cell_type": "code",
   "execution_count": 1,
   "metadata": {},
   "outputs": [],
   "source": [
    "import pandas as pd\n",
    "import pyarrow.parquet as pq\n",
    "import matplotlib.pyplot as plt\n",
    "from sqlalchemy import create_engine\n",
    "import plotly_express as px\n",
    "\n",
    "import polars as pl"
   ]
  },
  {
   "cell_type": "code",
   "execution_count": 3,
   "metadata": {},
   "outputs": [],
   "source": [
    "# Définir les informations de connexion à la base de données\n",
    "db_user = 'postgres'\n",
    "db_password = 'HairiaMonAmour_2018' # renseigner votre mot de passe\n",
    "db_host = 'localhost'  # ou l'adresse IP du serveur de la base de données\n",
    "db_port = '5432'  # Port par défaut pour PostgreSQL\n",
    "db_name = 'nyc_yellow_taxi_record'\n",
    "\n",
    "connection_string = f'postgresql://{db_user}:{db_password}@{db_host}:{db_port}/{db_name}'\n",
    "\n",
    "# Create database engine\n",
    "engine = create_engine(connection_string)"
   ]
  },
  {
   "cell_type": "code",
   "execution_count": 4,
   "metadata": {},
   "outputs": [
    {
     "data": {
      "text/html": [
       "<div><style>\n",
       ".dataframe > thead > tr,\n",
       ".dataframe > tbody > tr {\n",
       "  text-align: right;\n",
       "  white-space: pre-wrap;\n",
       "}\n",
       "</style>\n",
       "<small>shape: (265, 4)</small><table border=\"1\" class=\"dataframe\"><thead><tr><th>locationid</th><th>borough</th><th>zone</th><th>service_zone</th></tr><tr><td>i64</td><td>str</td><td>str</td><td>str</td></tr></thead><tbody><tr><td>1</td><td>&quot;EWR&quot;</td><td>&quot;Newark Airport&quot;</td><td>&quot;EWR&quot;</td></tr><tr><td>2</td><td>&quot;Queens&quot;</td><td>&quot;Jamaica Bay&quot;</td><td>&quot;Boro Zone&quot;</td></tr><tr><td>3</td><td>&quot;Bronx&quot;</td><td>&quot;Allerton/Pelham Gardens&quot;</td><td>&quot;Boro Zone&quot;</td></tr><tr><td>4</td><td>&quot;Manhattan&quot;</td><td>&quot;Alphabet City&quot;</td><td>&quot;Yellow Zone&quot;</td></tr><tr><td>5</td><td>&quot;Staten Island&quot;</td><td>&quot;Arden Heights&quot;</td><td>&quot;Boro Zone&quot;</td></tr><tr><td>&hellip;</td><td>&hellip;</td><td>&hellip;</td><td>&hellip;</td></tr><tr><td>261</td><td>&quot;Manhattan&quot;</td><td>&quot;World Trade Center&quot;</td><td>&quot;Yellow Zone&quot;</td></tr><tr><td>262</td><td>&quot;Manhattan&quot;</td><td>&quot;Yorkville East&quot;</td><td>&quot;Yellow Zone&quot;</td></tr><tr><td>263</td><td>&quot;Manhattan&quot;</td><td>&quot;Yorkville West&quot;</td><td>&quot;Yellow Zone&quot;</td></tr><tr><td>264</td><td>&quot;Unknown&quot;</td><td>null</td><td>null</td></tr><tr><td>265</td><td>null</td><td>&quot;Outside of NYC&quot;</td><td>null</td></tr></tbody></table></div>"
      ],
      "text/plain": [
       "shape: (265, 4)\n",
       "┌────────────┬───────────────┬─────────────────────────┬──────────────┐\n",
       "│ locationid ┆ borough       ┆ zone                    ┆ service_zone │\n",
       "│ ---        ┆ ---           ┆ ---                     ┆ ---          │\n",
       "│ i64        ┆ str           ┆ str                     ┆ str          │\n",
       "╞════════════╪═══════════════╪═════════════════════════╪══════════════╡\n",
       "│ 1          ┆ EWR           ┆ Newark Airport          ┆ EWR          │\n",
       "│ 2          ┆ Queens        ┆ Jamaica Bay             ┆ Boro Zone    │\n",
       "│ 3          ┆ Bronx         ┆ Allerton/Pelham Gardens ┆ Boro Zone    │\n",
       "│ 4          ┆ Manhattan     ┆ Alphabet City           ┆ Yellow Zone  │\n",
       "│ 5          ┆ Staten Island ┆ Arden Heights           ┆ Boro Zone    │\n",
       "│ …          ┆ …             ┆ …                       ┆ …            │\n",
       "│ 261        ┆ Manhattan     ┆ World Trade Center      ┆ Yellow Zone  │\n",
       "│ 262        ┆ Manhattan     ┆ Yorkville East          ┆ Yellow Zone  │\n",
       "│ 263        ┆ Manhattan     ┆ Yorkville West          ┆ Yellow Zone  │\n",
       "│ 264        ┆ Unknown       ┆ null                    ┆ null         │\n",
       "│ 265        ┆ null          ┆ Outside of NYC          ┆ null         │\n",
       "└────────────┴───────────────┴─────────────────────────┴──────────────┘"
      ]
     },
     "execution_count": 4,
     "metadata": {},
     "output_type": "execute_result"
    }
   ],
   "source": [
    "df_zones = pl.read_database(\"SELECT * FROM taxi_zone;\", engine)\n",
    "df_zones\n"
   ]
  },
  {
   "cell_type": "code",
   "execution_count": 5,
   "metadata": {},
   "outputs": [
    {
     "data": {
      "text/plain": [
       "polars.dataframe.frame.DataFrame"
      ]
     },
     "execution_count": 5,
     "metadata": {},
     "output_type": "execute_result"
    }
   ],
   "source": [
    "type(df_zones)"
   ]
  },
  {
   "cell_type": "code",
   "execution_count": 5,
   "metadata": {},
   "outputs": [
    {
     "data": {
      "text/plain": [
       "generator"
      ]
     },
     "execution_count": 5,
     "metadata": {},
     "output_type": "execute_result"
    }
   ],
   "source": [
    "# Extraction des données des trajets en taxi de 2023\n",
    "query = \"SELECT * FROM ytaxi_histo WHERE (trip_distance > 0 AND passenger_count > 0 AND total_amount >= 0) AND (EXTRACT(YEAR FROM tpep_pickup_datetime) = 2023 AND EXTRACT(YEAR FROM tpep_dropoff_datetime) = 2023);\"\n",
    "\n",
    "# Définir la taille des morceaux pour la fusion\n",
    "chunksize = 100000  # par exemple, fusionner par paquets de 100 milles lignes\n",
    "\n",
    "result_generator = pl.read_database(query, engine, iter_batches=True, batch_size=chunksize)\n",
    "\n",
    "type(result_generator)"
   ]
  },
  {
   "cell_type": "code",
   "execution_count": 6,
   "metadata": {},
   "outputs": [],
   "source": [
    "# Création du dossier pour sauvegarder les fichiers Parquet si nécessaire\n",
    "import os\n",
    "if not os.path.exists(\"merged_chunk_parquet\"):\n",
    "    os.makedirs(\"merged_chunk_parquet\")"
   ]
  },
  {
   "cell_type": "code",
   "execution_count": 7,
   "metadata": {},
   "outputs": [],
   "source": [
    "# Sélectionner uniquement les colonnes pertinentes de df_zones pour réduire la mémoire utilisée\n",
    "df_zones_subset = df_zones.select([\n",
    "        \"locationid\", \"borough\", \"zone\", \"service_zone\"\n",
    "    ])\n",
    "\n",
    "# Initialiser une liste pour stocker les morceaux fusionnés\n",
    "merged_chunks = []\n",
    "\n",
    "# Parcourir les morceaux de données\n",
    "#for chunk in result_generator:\n",
    "for i, chunk in enumerate(result_generator):\n",
    "\n",
    "    # Fusionner les données des trajets avec les informations sur les zones pour les points de départ\n",
    "    merged_chunk = chunk.join(\n",
    "        df_zones_subset.rename({'borough': 'puborough', 'zone': 'puzone', 'service_zone': 'pu_service_zone'}), \n",
    "        how='left', left_on='pulocationid', right_on='locationid'\n",
    "    ) \n",
    "\n",
    "    # Fusionner les données des trajets avec les informations sur les zones pour les points de destination\n",
    "    merged_chunk = merged_chunk.join(\n",
    "        df_zones_subset.rename({'borough': 'doborough', 'zone': 'dozone', 'service_zone': 'do_service_zone'}), \n",
    "        how='left', left_on='dolocationid', right_on='locationid'\n",
    "    )\n",
    "\n",
    "    # Créer une nouvelle colonne par concaténation de puborough et doborough\n",
    "    merged_chunk = merged_chunk.with_columns(\n",
    "        pl.concat_str(\n",
    "            merged_chunk['puborough'], pl.lit(' - '), merged_chunk['doborough']\n",
    "        ).alias(\"Itineraire Arrondissement\")\n",
    "    )\n",
    "\n",
    "    # Créer une nouvelle colonne par concaténation de puzone et dozone\n",
    "    merged_chunk = merged_chunk.with_columns(\n",
    "        pl.concat_str(\n",
    "            merged_chunk['puzone'], pl.lit(' - '), merged_chunk['dozone']\n",
    "        ).alias(\"Itineraire zone\")\n",
    "    )\n",
    "\n",
    "    merged_chunk = merged_chunk.drop_nulls()\n",
    "\n",
    "    # Enregistrer le morceau fusionné au format Parquet\n",
    "    merged_chunk.write_parquet(f\"merged_chunk_parquet/chunk_{i}.parquet\")\n",
    "\n",
    "    # Ajouter le morceau fusionné à la liste\n",
    "    #merged_chunks.append(merged_chunk)\n",
    "\n",
    "# Concaténer tous les morceaux fusionnés pour former la DataFrame finale\n",
    "#df_trips = pl.concat(merged_chunks)\n",
    "\n",
    "\n",
    "# Supprimer les lignes avec des valeurs manquantes dans les données\n",
    "#df_trips = df_trips.drop_nulls()\n",
    "\n",
    "# Enregistrer la DataFrame nettoyée au format Parquet\n",
    "#df_trips.write_parquet(\"trips_cleaned.parquet\")"
   ]
  },
  {
   "cell_type": "code",
   "execution_count": 8,
   "metadata": {},
   "outputs": [
    {
     "name": "stderr",
     "output_type": "stream",
     "text": [
      "Setting default log level to \"WARN\".\n",
      "To adjust logging level use sc.setLogLevel(newLevel). For SparkR, use setLogLevel(newLevel).\n",
      "24/05/11 02:06:54 WARN NativeCodeLoader: Unable to load native-hadoop library for your platform... using builtin-java classes where applicable\n",
      "24/05/11 02:06:59 WARN SparkStringUtils: Truncated the string representation of a plan since it was too large. This behavior can be adjusted by setting 'spark.sql.debug.maxToStringFields'.\n",
      "24/05/11 02:07:00 WARN MemoryManager: Total allocation exceeds 95.00% (1,020,054,720 bytes) of heap memory\n",
      "Scaling row group sizes to 95.00% for 8 writers\n",
      "24/05/11 02:07:00 WARN MemoryManager: Total allocation exceeds 95.00% (1,020,054,720 bytes) of heap memory\n",
      "Scaling row group sizes to 84.44% for 9 writers\n",
      "24/05/11 02:07:00 WARN MemoryManager: Total allocation exceeds 95.00% (1,020,054,720 bytes) of heap memory\n",
      "Scaling row group sizes to 76.00% for 10 writers\n",
      "24/05/11 02:07:00 WARN MemoryManager: Total allocation exceeds 95.00% (1,020,054,720 bytes) of heap memory\n",
      "Scaling row group sizes to 69.09% for 11 writers\n",
      "24/05/11 02:07:00 WARN MemoryManager: Total allocation exceeds 95.00% (1,020,054,720 bytes) of heap memory\n",
      "Scaling row group sizes to 63.33% for 12 writers\n",
      "24/05/11 02:07:33 WARN MemoryManager: Total allocation exceeds 95.00% (1,020,054,720 bytes) of heap memory\n",
      "Scaling row group sizes to 69.09% for 11 writers\n",
      "24/05/11 02:07:34 WARN MemoryManager: Total allocation exceeds 95.00% (1,020,054,720 bytes) of heap memory\n",
      "Scaling row group sizes to 63.33% for 12 writers\n",
      "24/05/11 02:07:34 WARN MemoryManager: Total allocation exceeds 95.00% (1,020,054,720 bytes) of heap memory\n",
      "Scaling row group sizes to 69.09% for 11 writers\n",
      "24/05/11 02:07:35 WARN MemoryManager: Total allocation exceeds 95.00% (1,020,054,720 bytes) of heap memory\n",
      "Scaling row group sizes to 63.33% for 12 writers\n",
      "24/05/11 02:07:35 WARN MemoryManager: Total allocation exceeds 95.00% (1,020,054,720 bytes) of heap memory\n",
      "Scaling row group sizes to 69.09% for 11 writers\n",
      "24/05/11 02:07:35 WARN MemoryManager: Total allocation exceeds 95.00% (1,020,054,720 bytes) of heap memory\n",
      "Scaling row group sizes to 76.00% for 10 writers\n",
      "24/05/11 02:07:35 WARN MemoryManager: Total allocation exceeds 95.00% (1,020,054,720 bytes) of heap memory\n",
      "Scaling row group sizes to 84.44% for 9 writers\n",
      "24/05/11 02:07:35 WARN MemoryManager: Total allocation exceeds 95.00% (1,020,054,720 bytes) of heap memory\n",
      "Scaling row group sizes to 76.00% for 10 writers\n",
      "24/05/11 02:07:35 WARN MemoryManager: Total allocation exceeds 95.00% (1,020,054,720 bytes) of heap memory\n",
      "Scaling row group sizes to 69.09% for 11 writers\n",
      "24/05/11 02:07:35 WARN MemoryManager: Total allocation exceeds 95.00% (1,020,054,720 bytes) of heap memory\n",
      "Scaling row group sizes to 63.33% for 12 writers\n",
      "24/05/11 02:07:36 WARN MemoryManager: Total allocation exceeds 95.00% (1,020,054,720 bytes) of heap memory\n",
      "Scaling row group sizes to 69.09% for 11 writers\n",
      "24/05/11 02:07:36 WARN MemoryManager: Total allocation exceeds 95.00% (1,020,054,720 bytes) of heap memory\n",
      "Scaling row group sizes to 76.00% for 10 writers\n",
      "24/05/11 02:07:36 WARN MemoryManager: Total allocation exceeds 95.00% (1,020,054,720 bytes) of heap memory\n",
      "Scaling row group sizes to 69.09% for 11 writers\n",
      "24/05/11 02:07:36 WARN MemoryManager: Total allocation exceeds 95.00% (1,020,054,720 bytes) of heap memory\n",
      "Scaling row group sizes to 63.33% for 12 writers\n",
      "24/05/11 02:07:36 WARN MemoryManager: Total allocation exceeds 95.00% (1,020,054,720 bytes) of heap memory\n",
      "Scaling row group sizes to 69.09% for 11 writers\n",
      "24/05/11 02:07:36 WARN MemoryManager: Total allocation exceeds 95.00% (1,020,054,720 bytes) of heap memory\n",
      "Scaling row group sizes to 76.00% for 10 writers\n",
      "24/05/11 02:07:36 WARN MemoryManager: Total allocation exceeds 95.00% (1,020,054,720 bytes) of heap memory\n",
      "Scaling row group sizes to 84.44% for 9 writers\n",
      "24/05/11 02:07:36 WARN MemoryManager: Total allocation exceeds 95.00% (1,020,054,720 bytes) of heap memory\n",
      "Scaling row group sizes to 95.00% for 8 writers\n",
      "                                                                                \r"
     ]
    }
   ],
   "source": [
    "from pyspark.sql import SparkSession\n",
    "import os\n",
    "\n",
    "# Initialiser SparkSession\n",
    "spark = SparkSession.builder \\\n",
    "    .appName(\"Merge Parquet Files\") \\\n",
    "    .getOrCreate()\n",
    "\n",
    "# Chemin du dossier contenant les fichiers Parquet\n",
    "input_path = \"merged_chunk_parquet\"\n",
    "\n",
    "# Chemin du fichier Parquet de sortie\n",
    "output_path = \"merged_chunks_combined.parquet\"\n",
    "\n",
    "# Charger tous les fichiers Parquet dans un DataFrame Spark\n",
    "df = spark.read.parquet(input_path)\n",
    "\n",
    "# Écrire le DataFrame combiné au format Parquet\n",
    "df.write.parquet(output_path)\n",
    "\n",
    "# Arrêter SparkSession\n",
    "spark.stop()\n"
   ]
  },
  {
   "cell_type": "code",
   "execution_count": 9,
   "metadata": {},
   "outputs": [
    {
     "name": "stdout",
     "output_type": "stream",
     "text": [
      "Nombre de lignes dans le fichier Parquet: 35083378\n"
     ]
    }
   ],
   "source": [
    "from pyspark.sql import SparkSession\n",
    "\n",
    "# Initialiser SparkSession\n",
    "spark = SparkSession.builder \\\n",
    "    .appName(\"Count Rows in Parquet File\") \\\n",
    "    .getOrCreate()\n",
    "\n",
    "# Chemin du fichier Parquet\n",
    "parquet_file_path = \"merged_chunks_combined.parquet\"\n",
    "\n",
    "# Charger le fichier Parquet dans un DataFrame Spark\n",
    "df_trips = spark.read.parquet(parquet_file_path)\n",
    "\n",
    "# Compter le nombre de lignes dans le DataFrame\n",
    "row_count = df_trips.count()\n",
    "\n",
    "# Afficher le nombre de lignes\n",
    "print(\"Nombre de lignes dans le fichier Parquet:\", row_count)"
   ]
  },
  {
   "cell_type": "code",
   "execution_count": 10,
   "metadata": {},
   "outputs": [
    {
     "name": "stdout",
     "output_type": "stream",
     "text": [
      "+--------+--------------------+---------------------+---------------+-------------+----------+------------------+------------+------------+------------+-----------+-----+-------+----------+------------+---------------------+------------+--------------------+-----------+---------+--------------------+---------------+---------+--------------------+---------------+-------------------------+--------------------+\n",
      "|vendorid|tpep_pickup_datetime|tpep_dropoff_datetime|passenger_count|trip_distance|ratecodeid|store_and_fwd_flag|pulocationid|dolocationid|payment_type|fare_amount|extra|mta_tax|tip_amount|tolls_amount|improvement_surcharge|total_amount|congestion_surcharge|airport_fee|puborough|              puzone|pu_service_zone|doborough|              dozone|do_service_zone|Itineraire Arrondissement|     Itineraire zone|\n",
      "+--------+--------------------+---------------------+---------------+-------------+----------+------------------+------------+------------+------------+-----------+-----+-------+----------+------------+---------------------+------------+--------------------+-----------+---------+--------------------+---------------+---------+--------------------+---------------+-------------------------+--------------------+\n",
      "|       1| 2023-09-03 15:00:18|  2023-09-03 15:08:26|            4.0|          1.2|       1.0|                 N|          48|         142|           1|       10.0|  2.5|    0.5|       2.1|         0.0|                  1.0|        16.1|                 2.5|        0.0|Manhattan|        Clinton East|    Yellow Zone|Manhattan| Lincoln Square East|    Yellow Zone|     Manhattan - Manha...|Clinton East - Li...|\n",
      "|       1| 2023-09-03 15:25:22|  2023-09-03 15:34:52|            1.0|          1.0|       1.0|                 N|          68|         230|           2|       10.0|  2.5|    0.5|       0.0|         0.0|                  1.0|        14.0|                 2.5|        0.0|Manhattan|        East Chelsea|    Yellow Zone|Manhattan|Times Sq/Theatre ...|    Yellow Zone|     Manhattan - Manha...|East Chelsea - Ti...|\n",
      "|       1| 2023-09-03 15:41:32|  2023-09-03 15:51:29|            2.0|          2.4|       1.0|                 N|         161|         239|           1|       12.8|  2.5|    0.5|       5.0|         0.0|                  1.0|        21.8|                 2.5|        0.0|Manhattan|      Midtown Center|    Yellow Zone|Manhattan|Upper West Side S...|    Yellow Zone|     Manhattan - Manha...|Midtown Center - ...|\n",
      "|       1| 2023-09-03 15:52:48|  2023-09-03 16:02:16|            2.0|          2.1|       1.0|                 N|         239|          48|           1|       12.1|  2.5|    0.5|       3.2|         0.0|                  1.0|        19.3|                 2.5|        0.0|Manhattan|Upper West Side S...|    Yellow Zone|Manhattan|        Clinton East|    Yellow Zone|     Manhattan - Manha...|Upper West Side S...|\n",
      "|       2| 2023-09-03 15:23:16|  2023-09-03 15:35:53|            1.0|         2.15|       1.0|                 N|         239|         263|           1|       14.2|  0.0|    0.5|      3.64|         0.0|                  1.0|       21.84|                 2.5|        0.0|Manhattan|Upper West Side S...|    Yellow Zone|Manhattan|      Yorkville West|    Yellow Zone|     Manhattan - Manha...|Upper West Side S...|\n",
      "|       2| 2023-09-03 15:26:18|  2023-09-03 16:20:08|            1.0|        19.81|       2.0|                 N|         132|         238|           1|       70.0|  0.0|    0.5|     15.69|        6.94|                  1.0|       95.88|                 0.0|       1.75|   Queens|         JFK Airport|       Airports|Manhattan|Upper West Side N...|    Yellow Zone|       Queens - Manhattan|JFK Airport - Upp...|\n",
      "|       2| 2023-09-03 15:02:59|  2023-09-03 15:11:34|            2.0|         1.29|       1.0|                 N|         164|         234|           2|       10.0|  0.0|    0.5|       0.0|         0.0|                  1.0|        14.0|                 2.5|        0.0|Manhattan|       Midtown South|    Yellow Zone|Manhattan|            Union Sq|    Yellow Zone|     Manhattan - Manha...|Midtown South - U...|\n",
      "|       2| 2023-09-03 15:19:19|  2023-09-03 15:23:02|            2.0|          0.8|       1.0|                 N|          90|         100|           1|        6.5|  0.0|    0.5|       2.1|         0.0|                  1.0|        12.6|                 2.5|        0.0|Manhattan|            Flatiron|    Yellow Zone|Manhattan|    Garment District|    Yellow Zone|     Manhattan - Manha...|Flatiron - Garmen...|\n",
      "|       2| 2023-09-03 15:51:05|  2023-09-03 16:02:01|            4.0|          1.8|       1.0|                 N|         170|         141|           2|       12.1|  0.0|    0.5|       0.0|         0.0|                  1.0|        16.1|                 2.5|        0.0|Manhattan|         Murray Hill|    Yellow Zone|Manhattan|     Lenox Hill West|    Yellow Zone|     Manhattan - Manha...|Murray Hill - Len...|\n",
      "|       2| 2023-09-03 15:29:53|  2023-09-03 16:04:17|            1.0|        15.01|       2.0|                 N|         145|         132|           1|       70.0|  0.0|    0.5|     15.69|        6.94|                  1.0|       94.13|                 0.0|        0.0|   Queens|Long Island City/...|      Boro Zone|   Queens|         JFK Airport|       Airports|          Queens - Queens|Long Island City/...|\n",
      "|       1| 2023-09-03 15:11:28|  2023-09-03 15:16:25|            1.0|          0.8|       1.0|                 N|         238|         239|           1|        7.9|  2.5|    0.5|      2.35|         0.0|                  1.0|       14.25|                 2.5|        0.0|Manhattan|Upper West Side N...|    Yellow Zone|Manhattan|Upper West Side S...|    Yellow Zone|     Manhattan - Manha...|Upper West Side N...|\n",
      "|       1| 2023-09-03 15:22:13|  2023-09-03 15:42:17|            1.0|          2.6|       1.0|                 N|         239|         163|           1|       19.8|  2.5|    0.5|      20.0|         0.0|                  1.0|        43.8|                 2.5|        0.0|Manhattan|Upper West Side S...|    Yellow Zone|Manhattan|       Midtown North|    Yellow Zone|     Manhattan - Manha...|Upper West Side S...|\n",
      "|       2| 2023-09-03 15:05:20|  2023-09-03 15:32:25|            1.0|        10.67|       1.0|                 N|         138|         148|           1|       42.9|  5.0|    0.5|     11.77|        6.94|                  1.0|       72.36|                 2.5|       1.75|   Queens|   LaGuardia Airport|       Airports|Manhattan|     Lower East Side|    Yellow Zone|       Queens - Manhattan|LaGuardia Airport...|\n",
      "|       2| 2023-09-03 15:25:57|  2023-09-03 15:42:00|            1.0|         1.63|       1.0|                 N|          48|         100|           1|       14.9|  0.0|    0.5|      3.78|         0.0|                  1.0|       22.68|                 2.5|        0.0|Manhattan|        Clinton East|    Yellow Zone|Manhattan|    Garment District|    Yellow Zone|     Manhattan - Manha...|Clinton East - Ga...|\n",
      "|       2| 2023-09-03 15:51:31|  2023-09-03 16:00:16|            1.0|         1.33|       1.0|                 N|         161|         237|           1|       10.7|  0.0|    0.5|      2.94|         0.0|                  1.0|       17.64|                 2.5|        0.0|Manhattan|      Midtown Center|    Yellow Zone|Manhattan|Upper East Side S...|    Yellow Zone|     Manhattan - Manha...|Midtown Center - ...|\n",
      "|       2| 2023-09-03 15:26:30|  2023-09-03 15:31:30|            1.0|          0.9|       1.0|                 N|         162|         137|           1|        7.2|  0.0|    0.5|      2.24|         0.0|                  1.0|       13.44|                 2.5|        0.0|Manhattan|        Midtown East|    Yellow Zone|Manhattan|            Kips Bay|    Yellow Zone|     Manhattan - Manha...|Midtown East - Ki...|\n",
      "|       2| 2023-09-03 15:44:33|  2023-09-03 16:05:34|            1.0|         1.29|       1.0|                 N|         170|         230|           2|       17.0|  0.0|    0.5|       0.0|         0.0|                  1.0|        21.0|                 2.5|        0.0|Manhattan|         Murray Hill|    Yellow Zone|Manhattan|Times Sq/Theatre ...|    Yellow Zone|     Manhattan - Manha...|Murray Hill - Tim...|\n",
      "|       2| 2023-09-03 15:49:03|  2023-09-03 15:59:04|            1.0|          0.9|       1.0|                 N|         237|         161|           1|       10.0|  0.0|    0.5|       0.0|         0.0|                  1.0|        14.0|                 2.5|        0.0|Manhattan|Upper East Side S...|    Yellow Zone|Manhattan|      Midtown Center|    Yellow Zone|     Manhattan - Manha...|Upper East Side S...|\n",
      "|       2| 2023-09-03 15:40:13|  2023-09-03 16:01:05|            2.0|         5.35|       1.0|                 N|          12|         100|           1|       27.5|  0.0|    0.5|       3.0|         0.0|                  1.0|        34.5|                 2.5|        0.0|Manhattan|        Battery Park|    Yellow Zone|Manhattan|    Garment District|    Yellow Zone|     Manhattan - Manha...|Battery Park - Ga...|\n",
      "|       2| 2023-09-03 15:10:15|  2023-09-03 15:24:26|            1.0|         2.26|       1.0|                 N|          41|         239|           1|       15.6|  0.0|    0.5|      3.92|         0.0|                  1.0|       23.52|                 2.5|        0.0|Manhattan|      Central Harlem|      Boro Zone|Manhattan|Upper West Side S...|    Yellow Zone|     Manhattan - Manha...|Central Harlem - ...|\n",
      "+--------+--------------------+---------------------+---------------+-------------+----------+------------------+------------+------------+------------+-----------+-----+-------+----------+------------+---------------------+------------+--------------------+-----------+---------+--------------------+---------------+---------+--------------------+---------------+-------------------------+--------------------+\n",
      "only showing top 20 rows\n",
      "\n"
     ]
    }
   ],
   "source": [
    "df_trips.show()"
   ]
  },
  {
   "cell_type": "code",
   "execution_count": 11,
   "metadata": {},
   "outputs": [
    {
     "name": "stdout",
     "output_type": "stream",
     "text": [
      "root\n",
      " |-- vendorid: long (nullable = true)\n",
      " |-- tpep_pickup_datetime: timestamp_ntz (nullable = true)\n",
      " |-- tpep_dropoff_datetime: timestamp_ntz (nullable = true)\n",
      " |-- passenger_count: double (nullable = true)\n",
      " |-- trip_distance: double (nullable = true)\n",
      " |-- ratecodeid: double (nullable = true)\n",
      " |-- store_and_fwd_flag: string (nullable = true)\n",
      " |-- pulocationid: long (nullable = true)\n",
      " |-- dolocationid: long (nullable = true)\n",
      " |-- payment_type: long (nullable = true)\n",
      " |-- fare_amount: double (nullable = true)\n",
      " |-- extra: double (nullable = true)\n",
      " |-- mta_tax: double (nullable = true)\n",
      " |-- tip_amount: double (nullable = true)\n",
      " |-- tolls_amount: double (nullable = true)\n",
      " |-- improvement_surcharge: double (nullable = true)\n",
      " |-- total_amount: double (nullable = true)\n",
      " |-- congestion_surcharge: double (nullable = true)\n",
      " |-- airport_fee: double (nullable = true)\n",
      " |-- puborough: string (nullable = true)\n",
      " |-- puzone: string (nullable = true)\n",
      " |-- pu_service_zone: string (nullable = true)\n",
      " |-- doborough: string (nullable = true)\n",
      " |-- dozone: string (nullable = true)\n",
      " |-- do_service_zone: string (nullable = true)\n",
      " |-- Itineraire Arrondissement: string (nullable = true)\n",
      " |-- Itineraire zone: string (nullable = true)\n",
      "\n"
     ]
    }
   ],
   "source": [
    "df_trips.printSchema()"
   ]
  },
  {
   "cell_type": "code",
   "execution_count": null,
   "metadata": {},
   "outputs": [],
   "source": []
  },
  {
   "cell_type": "code",
   "execution_count": null,
   "metadata": {},
   "outputs": [],
   "source": []
  },
  {
   "cell_type": "code",
   "execution_count": null,
   "metadata": {},
   "outputs": [],
   "source": [
    "# Charger uniquement les colonnes pertinentes de df_zones pour réduire la mémoire utilisée\n",
    "df_zones_subset = df_zones[['locationid', 'borough', 'zone', 'service_zone']]\n",
    "\n",
    "# Initialiser une liste pour stocker les morceaux fusionnés\n",
    "merged_chunks = []\n",
    "\n",
    "# Parcourir les morceaux de df_trips\n",
    "for chunk in result_generator:\n",
    "    # Fusionner le morceau actuel avec df_zones_subset sur pulocationid\n",
    "    merged_chunk = pd.merge(chunk, df_zones_subset.rename(columns={'borough': 'puborough', 'zone': 'puzone', 'service_zone': 'pu_service_zone'}),\n",
    "                            how='left', left_on='pulocationid', right_on='locationid')\n",
    "    \n",
    "    # Fusionner le morceau actuel avec df_zones_subset sur dolocationid\n",
    "    merged_chunk = pd.merge(merged_chunk, df_zones_subset.rename(columns={'borough': 'doborough', 'zone': 'dozone', 'service_zone': 'do_service_zone'}),\n",
    "                            how='left', left_on='dolocationid', right_on='locationid')\n",
    "    \n",
    "    # Créer une nouvelle colonne par concaténation de puborough et doborough pour chaque morceau\n",
    "    merged_chunk['Itineraire Arrondissement'] = merged_chunk.apply(lambda row: f\"{row['puborough']} - {row['doborough']}\", axis=1)\n",
    "\n",
    "    # Créer une nouvelle colonne par concaténation de puzone et dozone pour chaque morceau\n",
    "    merged_chunk['Itineraire zone'] = merged_chunk.apply(lambda row: f\"{row['puzone']} - {row['dozone']}\", axis=1)\n",
    "    \n",
    "    # Ajouter le morceau fusionné à la liste\n",
    "    merged_chunks.append(merged_chunk)\n",
    "\n",
    "# Concaténer tous les morceaux fusionnés pour former la DataFrame finale\n",
    "df_trips = pd.concat(merged_chunks, ignore_index=True)\n",
    "\n",
    "# Supprimer les colonnes redondantes\n",
    "df_trips.drop(columns=['locationid_x', 'locationid_y'], inplace=True)\n",
    "\n",
    "# Supprimer les lignes avec des valeurs manquantes dans les donnees\n",
    "df_trips = df_trips.dropna(axis=0)\n",
    "\n",
    "# Enregistrer la DataFrame nettoyée au format Parquet\n",
    "df_trips.to_parquet('trips_cleaned.parquet', index=False)\n",
    "\n",
    "# Dimension de df_trips\n",
    "print(df_trips.shape)\n",
    "\n",
    "# Afficher la DataFrame avec les nouvelles colonnes\n",
    "df_trips.head()"
   ]
  },
  {
   "cell_type": "code",
   "execution_count": null,
   "metadata": {},
   "outputs": [],
   "source": []
  },
  {
   "cell_type": "code",
   "execution_count": null,
   "metadata": {},
   "outputs": [],
   "source": []
  },
  {
   "cell_type": "code",
   "execution_count": null,
   "metadata": {},
   "outputs": [],
   "source": []
  },
  {
   "cell_type": "code",
   "execution_count": null,
   "metadata": {},
   "outputs": [],
   "source": [
    "import polars as pl\n",
    "\n",
    "# URL JDBC pour PostgreSQL\n",
    "jdbc_url = f\"jdbc:postgresql://{db_host}:{db_port}/{db_name}\"\n",
    "\n",
    "# Requête SQL pour extraire les données des trajets en taxi de 2023\n",
    "query = \"\"\"\n",
    "    SELECT * FROM ytaxi_histo\n",
    "    WHERE \n",
    "\t(trip_distance > 0 AND passenger_count > 0 AND total_amount >= 0) \n",
    "\tAND \n",
    "\t(EXTRACT(YEAR FROM tpep_pickup_datetime) = 2023 AND EXTRACT(YEAR FROM tpep_dropoff_datetime) = 2023);\n",
    "\"\"\"\n",
    "\n",
    "# Charger les données avec la requête SQL spécifiée\n",
    "df_trips = pl.read_sql(jdbc_url, query, properties=connection_properties)\n",
    "\n",
    "# Charger les données des zones de taxi\n",
    "df_zones = pl.read_sql(jdbc_url, \"taxi_zone\", properties=connection_properties)\n",
    "\n",
    "# Sélectionner uniquement les colonnes pertinentes de df_zones pour réduire la mémoire utilisée\n",
    "df_zones_subset = df_zones.select([\n",
    "    \"locationid\", \"borough\", \"zone\", \"service_zone\"\n",
    "]).alias([\"locationid\", \"puborough\", \"puzone\", \"pu_service_zone\"])\n",
    "\n",
    "# Fusionner les données des trajets avec les informations sur les zones pour les points de départ\n",
    "df_trips = df_trips.join(df_zones_subset, on=\"pulocationid\", how=\"left\") \\\n",
    "                   .drop_in_place([\"locationid\"])\n",
    "\n",
    "# Fusionner les données des trajets avec les informations sur les zones pour les points de destination\n",
    "df_trips = df_trips.join(df_zones_subset, on=\"dolocationid\", how=\"left\") \\\n",
    "                   .drop_in_place([\"locationid\"])\n",
    "\n",
    "# Créer une nouvelle colonne par concaténation de puborough et doborough\n",
    "df_trips = df_trips.with_column(\n",
    "    pl.concat_str(\n",
    "        df_trips['puborough'], pl.lit(' - '), df_trips['doborough']\n",
    "    ).alias(\"Itineraire Arrondissement\")\n",
    ")\n",
    "\n",
    "# Créer une nouvelle colonne par concaténation de puzone et dozone\n",
    "df_trips = df_trips.with_column(\n",
    "    pl.concat_str(\n",
    "        df_trips['puzone'], pl.lit(' - '), df_trips['dozone']\n",
    "    ).alias(\"Itineraire zone\")\n",
    ")\n",
    "\n",
    "# Supprimer les colonnes redondantes\n",
    "df_trips = df_trips.drop_in_place([\"locationid_x\", \"locationid_y\"])\n",
    "\n",
    "# Supprimer les lignes avec des valeurs manquantes dans les données\n",
    "df_trips = df_trips.drop_na()\n",
    "\n",
    "# Enregistrer la DataFrame nettoyée au format Parquet\n",
    "df_trips.write_parquet(\"trips_cleaned.parquet\")\n",
    "\n",
    "# Dimension de df_trips\n",
    "print(df_trips.shape())\n",
    "\n",
    "# Afficher la DataFrame avec les nouvelles colonnes\n",
    "df_trips.head()\n"
   ]
  },
  {
   "cell_type": "code",
   "execution_count": null,
   "metadata": {},
   "outputs": [],
   "source": []
  },
  {
   "cell_type": "code",
   "execution_count": null,
   "metadata": {},
   "outputs": [],
   "source": []
  },
  {
   "cell_type": "code",
   "execution_count": null,
   "metadata": {},
   "outputs": [],
   "source": []
  },
  {
   "cell_type": "code",
   "execution_count": null,
   "metadata": {},
   "outputs": [],
   "source": [
    "# Supprimer les lignes avec des valeurs manquantes dans les donnees\n",
    "df.select(pl.col(\"a\").drop_nans())\n",
    "df_trips = df_trips.drop_nans()\n",
    "\n",
    "# Enregistrer la DataFrame nettoyée au format Parquet\n",
    "df_trips.to_parquet('trips_cleaned.parquet', index=False)\n",
    "\n",
    "# Dimension de df_trips\n",
    "print(df_trips.shape)\n",
    "\n",
    "# Afficher la DataFrame avec les nouvelles colonnes\n",
    "df_trips.head()"
   ]
  },
  {
   "cell_type": "code",
   "execution_count": 3,
   "metadata": {},
   "outputs": [
    {
     "ename": "",
     "evalue": "",
     "output_type": "error",
     "traceback": [
      "\u001b[1;31mThe Kernel crashed while executing code in the current cell or a previous cell. \n",
      "\u001b[1;31mPlease review the code in the cell(s) to identify a possible cause of the failure. \n",
      "\u001b[1;31mClick <a href='https://aka.ms/vscodeJupyterKernelCrash'>here</a> for more info. \n",
      "\u001b[1;31mView Jupyter <a href='command:jupyter.viewOutput'>log</a> for further details."
     ]
    }
   ],
   "source": [
    "# Extraction des données des trajets en taxi de 2023\n",
    "query = \"\"\"\n",
    "    SELECT * FROM ytaxi_histo\n",
    "    WHERE \n",
    "\t(trip_distance > 0 AND passenger_count > 0 AND total_amount >= 0) \n",
    "\tAND \n",
    "\t(EXTRACT(YEAR FROM tpep_pickup_datetime) = 2023 AND EXTRACT(YEAR FROM tpep_dropoff_datetime) = 2023);\n",
    "\"\"\"\n",
    "\n",
    "# Définir la taille des morceaux pour la fusion\n",
    "chunksize = 100000  # par exemple, fusionner par paquets de 100 milles lignes\n",
    "\n",
    "result_generator = pd.read_sql(query, engine, chunksize=chunksize)\n",
    "\n",
    "df_zones = pd.read_sql(\"SELECT * FROM taxi_zone;\", engine)\n",
    "\n",
    "# Charger uniquement les colonnes pertinentes de df_zones pour réduire la mémoire utilisée\n",
    "df_zones_subset = df_zones[['locationid', 'borough', 'zone', 'service_zone']]\n",
    "\n",
    "# Initialiser une liste pour stocker les morceaux fusionnés\n",
    "merged_chunks = []\n",
    "\n",
    "# Parcourir les morceaux de df_trips\n",
    "for chunk in result_generator:\n",
    "    # Fusionner le morceau actuel avec df_zones_subset sur pulocationid\n",
    "    merged_chunk = pd.merge(chunk, df_zones_subset.rename(columns={'borough': 'puborough', 'zone': 'puzone', 'service_zone': 'pu_service_zone'}),\n",
    "                            how='left', left_on='pulocationid', right_on='locationid')\n",
    "    \n",
    "    # Fusionner le morceau actuel avec df_zones_subset sur dolocationid\n",
    "    merged_chunk = pd.merge(merged_chunk, df_zones_subset.rename(columns={'borough': 'doborough', 'zone': 'dozone', 'service_zone': 'do_service_zone'}),\n",
    "                            how='left', left_on='dolocationid', right_on='locationid')\n",
    "    \n",
    "    # Créer une nouvelle colonne par concaténation de puborough et doborough pour chaque morceau\n",
    "    merged_chunk['Itineraire Arrondissement'] = merged_chunk.apply(lambda row: f\"{row['puborough']} - {row['doborough']}\", axis=1)\n",
    "\n",
    "    # Créer une nouvelle colonne par concaténation de puzone et dozone pour chaque morceau\n",
    "    merged_chunk['Itineraire zone'] = merged_chunk.apply(lambda row: f\"{row['puzone']} - {row['dozone']}\", axis=1)\n",
    "    \n",
    "    # Ajouter le morceau fusionné à la liste\n",
    "    merged_chunks.append(merged_chunk)\n",
    "\n",
    "# Concaténer tous les morceaux fusionnés pour former la DataFrame finale\n",
    "df_trips = pd.concat(merged_chunks, ignore_index=True)\n",
    "\n",
    "# Supprimer les colonnes redondantes\n",
    "df_trips.drop(columns=['locationid_x', 'locationid_y'], inplace=True)\n",
    "\n",
    "# Supprimer les lignes avec des valeurs manquantes dans les donnees\n",
    "df_trips = df_trips.dropna(axis=0)\n",
    "\n",
    "# Enregistrer la DataFrame nettoyée au format Parquet\n",
    "df_trips.to_parquet('trips_cleaned.parquet', index=False)\n",
    "\n",
    "# Dimension de df_trips\n",
    "print(df_trips.shape)\n",
    "\n",
    "# Afficher la DataFrame avec les nouvelles colonnes\n",
    "df_trips.head()"
   ]
  },
  {
   "cell_type": "code",
   "execution_count": null,
   "metadata": {},
   "outputs": [],
   "source": []
  },
  {
   "cell_type": "code",
   "execution_count": null,
   "metadata": {},
   "outputs": [],
   "source": []
  },
  {
   "cell_type": "code",
   "execution_count": null,
   "metadata": {},
   "outputs": [],
   "source": []
  },
  {
   "cell_type": "markdown",
   "metadata": {},
   "source": [
    "## Analyse des tentances temporelles des trajets en taxi au fil des mois, des jours de la semaine et des heures"
   ]
  },
  {
   "cell_type": "markdown",
   "metadata": {},
   "source": [
    "Toutes les analyses seront faites sur l'annee complete la plus recente soit 2023."
   ]
  },
  {
   "cell_type": "code",
   "execution_count": 3,
   "metadata": {},
   "outputs": [
    {
     "data": {
      "text/html": [
       "<div>\n",
       "<style scoped>\n",
       "    .dataframe tbody tr th:only-of-type {\n",
       "        vertical-align: middle;\n",
       "    }\n",
       "\n",
       "    .dataframe tbody tr th {\n",
       "        vertical-align: top;\n",
       "    }\n",
       "\n",
       "    .dataframe thead th {\n",
       "        text-align: right;\n",
       "    }\n",
       "</style>\n",
       "<table border=\"1\" class=\"dataframe\">\n",
       "  <thead>\n",
       "    <tr style=\"text-align: right;\">\n",
       "      <th></th>\n",
       "      <th>tpep_pickup_datetime</th>\n",
       "      <th>num_trips</th>\n",
       "    </tr>\n",
       "  </thead>\n",
       "  <tbody>\n",
       "    <tr>\n",
       "      <th>0</th>\n",
       "      <td>2023-01-01 00:00:05</td>\n",
       "      <td>1</td>\n",
       "    </tr>\n",
       "    <tr>\n",
       "      <th>1</th>\n",
       "      <td>2023-01-01 00:00:06</td>\n",
       "      <td>1</td>\n",
       "    </tr>\n",
       "    <tr>\n",
       "      <th>2</th>\n",
       "      <td>2023-01-01 00:00:08</td>\n",
       "      <td>1</td>\n",
       "    </tr>\n",
       "    <tr>\n",
       "      <th>3</th>\n",
       "      <td>2023-01-01 00:00:09</td>\n",
       "      <td>1</td>\n",
       "    </tr>\n",
       "    <tr>\n",
       "      <th>4</th>\n",
       "      <td>2023-01-01 00:00:13</td>\n",
       "      <td>1</td>\n",
       "    </tr>\n",
       "  </tbody>\n",
       "</table>\n",
       "</div>"
      ],
      "text/plain": [
       "  tpep_pickup_datetime  num_trips\n",
       "0  2023-01-01 00:00:05          1\n",
       "1  2023-01-01 00:00:06          1\n",
       "2  2023-01-01 00:00:08          1\n",
       "3  2023-01-01 00:00:09          1\n",
       "4  2023-01-01 00:00:13          1"
      ]
     },
     "execution_count": 3,
     "metadata": {},
     "output_type": "execute_result"
    }
   ],
   "source": [
    "# Extraction des données des trajets en taxi\n",
    "query = \"\"\"\n",
    "    SELECT tpep_pickup_datetime, COUNT(*) AS num_trips\n",
    "    FROM ytaxi_histo\n",
    "    WHERE \n",
    "\t(trip_distance > 0 AND passenger_count > 0) \n",
    "\tAND \n",
    "\t(EXTRACT(YEAR FROM tpep_pickup_datetime) = 2023 AND EXTRACT(YEAR FROM tpep_dropoff_datetime) = 2023)\n",
    "    AND total_amount > 0\n",
    "    GROUP BY tpep_pickup_datetime;\n",
    "\"\"\"\n",
    "df = pd.read_sql(query, engine)\n",
    "df.head()"
   ]
  },
  {
   "cell_type": "code",
   "execution_count": 5,
   "metadata": {},
   "outputs": [
    {
     "name": "stdout",
     "output_type": "stream",
     "text": [
      "<class 'pandas.core.frame.DataFrame'>\n",
      "RangeIndex: 18843134 entries, 0 to 18843133\n",
      "Data columns (total 2 columns):\n",
      " #   Column                Dtype         \n",
      "---  ------                -----         \n",
      " 0   tpep_pickup_datetime  datetime64[ns]\n",
      " 1   num_trips             int64         \n",
      "dtypes: datetime64[ns](1), int64(1)\n",
      "memory usage: 287.5 MB\n"
     ]
    }
   ],
   "source": [
    "df.info()"
   ]
  },
  {
   "cell_type": "code",
   "execution_count": 6,
   "metadata": {},
   "outputs": [
    {
     "data": {
      "application/vnd.plotly.v1+json": {
       "config": {
        "plotlyServerURL": "https://plot.ly"
       },
       "data": [
        {
         "hovertemplate": "x=%{x}<br>num_trips=%{y}<extra></extra>",
         "legendgroup": "",
         "line": {
          "color": "#636efa",
          "dash": "solid"
         },
         "marker": {
          "symbol": "circle"
         },
         "mode": "lines",
         "name": "",
         "orientation": "v",
         "showlegend": false,
         "type": "scatter",
         "x": [
          "2023-01-31T00:00:00",
          "2023-02-28T00:00:00",
          "2023-03-31T00:00:00",
          "2023-04-30T00:00:00",
          "2023-05-31T00:00:00",
          "2023-06-30T00:00:00",
          "2023-07-31T00:00:00",
          "2023-08-31T00:00:00",
          "2023-09-30T00:00:00",
          "2023-10-31T00:00:00",
          "2023-11-30T00:00:00",
          "2023-12-31T00:00:00"
         ],
         "xaxis": "x",
         "y": [
          2906641,
          2754749,
          3217068,
          3104611,
          3310158,
          3112723,
          2740824,
          2657120,
          2631427,
          3277334,
          3126074,
          3112179
         ],
         "yaxis": "y"
        }
       ],
       "layout": {
        "legend": {
         "tracegroupgap": 0
        },
        "template": {
         "data": {
          "bar": [
           {
            "error_x": {
             "color": "#2a3f5f"
            },
            "error_y": {
             "color": "#2a3f5f"
            },
            "marker": {
             "line": {
              "color": "#E5ECF6",
              "width": 0.5
             },
             "pattern": {
              "fillmode": "overlay",
              "size": 10,
              "solidity": 0.2
             }
            },
            "type": "bar"
           }
          ],
          "barpolar": [
           {
            "marker": {
             "line": {
              "color": "#E5ECF6",
              "width": 0.5
             },
             "pattern": {
              "fillmode": "overlay",
              "size": 10,
              "solidity": 0.2
             }
            },
            "type": "barpolar"
           }
          ],
          "carpet": [
           {
            "aaxis": {
             "endlinecolor": "#2a3f5f",
             "gridcolor": "white",
             "linecolor": "white",
             "minorgridcolor": "white",
             "startlinecolor": "#2a3f5f"
            },
            "baxis": {
             "endlinecolor": "#2a3f5f",
             "gridcolor": "white",
             "linecolor": "white",
             "minorgridcolor": "white",
             "startlinecolor": "#2a3f5f"
            },
            "type": "carpet"
           }
          ],
          "choropleth": [
           {
            "colorbar": {
             "outlinewidth": 0,
             "ticks": ""
            },
            "type": "choropleth"
           }
          ],
          "contour": [
           {
            "colorbar": {
             "outlinewidth": 0,
             "ticks": ""
            },
            "colorscale": [
             [
              0,
              "#0d0887"
             ],
             [
              0.1111111111111111,
              "#46039f"
             ],
             [
              0.2222222222222222,
              "#7201a8"
             ],
             [
              0.3333333333333333,
              "#9c179e"
             ],
             [
              0.4444444444444444,
              "#bd3786"
             ],
             [
              0.5555555555555556,
              "#d8576b"
             ],
             [
              0.6666666666666666,
              "#ed7953"
             ],
             [
              0.7777777777777778,
              "#fb9f3a"
             ],
             [
              0.8888888888888888,
              "#fdca26"
             ],
             [
              1,
              "#f0f921"
             ]
            ],
            "type": "contour"
           }
          ],
          "contourcarpet": [
           {
            "colorbar": {
             "outlinewidth": 0,
             "ticks": ""
            },
            "type": "contourcarpet"
           }
          ],
          "heatmap": [
           {
            "colorbar": {
             "outlinewidth": 0,
             "ticks": ""
            },
            "colorscale": [
             [
              0,
              "#0d0887"
             ],
             [
              0.1111111111111111,
              "#46039f"
             ],
             [
              0.2222222222222222,
              "#7201a8"
             ],
             [
              0.3333333333333333,
              "#9c179e"
             ],
             [
              0.4444444444444444,
              "#bd3786"
             ],
             [
              0.5555555555555556,
              "#d8576b"
             ],
             [
              0.6666666666666666,
              "#ed7953"
             ],
             [
              0.7777777777777778,
              "#fb9f3a"
             ],
             [
              0.8888888888888888,
              "#fdca26"
             ],
             [
              1,
              "#f0f921"
             ]
            ],
            "type": "heatmap"
           }
          ],
          "heatmapgl": [
           {
            "colorbar": {
             "outlinewidth": 0,
             "ticks": ""
            },
            "colorscale": [
             [
              0,
              "#0d0887"
             ],
             [
              0.1111111111111111,
              "#46039f"
             ],
             [
              0.2222222222222222,
              "#7201a8"
             ],
             [
              0.3333333333333333,
              "#9c179e"
             ],
             [
              0.4444444444444444,
              "#bd3786"
             ],
             [
              0.5555555555555556,
              "#d8576b"
             ],
             [
              0.6666666666666666,
              "#ed7953"
             ],
             [
              0.7777777777777778,
              "#fb9f3a"
             ],
             [
              0.8888888888888888,
              "#fdca26"
             ],
             [
              1,
              "#f0f921"
             ]
            ],
            "type": "heatmapgl"
           }
          ],
          "histogram": [
           {
            "marker": {
             "pattern": {
              "fillmode": "overlay",
              "size": 10,
              "solidity": 0.2
             }
            },
            "type": "histogram"
           }
          ],
          "histogram2d": [
           {
            "colorbar": {
             "outlinewidth": 0,
             "ticks": ""
            },
            "colorscale": [
             [
              0,
              "#0d0887"
             ],
             [
              0.1111111111111111,
              "#46039f"
             ],
             [
              0.2222222222222222,
              "#7201a8"
             ],
             [
              0.3333333333333333,
              "#9c179e"
             ],
             [
              0.4444444444444444,
              "#bd3786"
             ],
             [
              0.5555555555555556,
              "#d8576b"
             ],
             [
              0.6666666666666666,
              "#ed7953"
             ],
             [
              0.7777777777777778,
              "#fb9f3a"
             ],
             [
              0.8888888888888888,
              "#fdca26"
             ],
             [
              1,
              "#f0f921"
             ]
            ],
            "type": "histogram2d"
           }
          ],
          "histogram2dcontour": [
           {
            "colorbar": {
             "outlinewidth": 0,
             "ticks": ""
            },
            "colorscale": [
             [
              0,
              "#0d0887"
             ],
             [
              0.1111111111111111,
              "#46039f"
             ],
             [
              0.2222222222222222,
              "#7201a8"
             ],
             [
              0.3333333333333333,
              "#9c179e"
             ],
             [
              0.4444444444444444,
              "#bd3786"
             ],
             [
              0.5555555555555556,
              "#d8576b"
             ],
             [
              0.6666666666666666,
              "#ed7953"
             ],
             [
              0.7777777777777778,
              "#fb9f3a"
             ],
             [
              0.8888888888888888,
              "#fdca26"
             ],
             [
              1,
              "#f0f921"
             ]
            ],
            "type": "histogram2dcontour"
           }
          ],
          "mesh3d": [
           {
            "colorbar": {
             "outlinewidth": 0,
             "ticks": ""
            },
            "type": "mesh3d"
           }
          ],
          "parcoords": [
           {
            "line": {
             "colorbar": {
              "outlinewidth": 0,
              "ticks": ""
             }
            },
            "type": "parcoords"
           }
          ],
          "pie": [
           {
            "automargin": true,
            "type": "pie"
           }
          ],
          "scatter": [
           {
            "fillpattern": {
             "fillmode": "overlay",
             "size": 10,
             "solidity": 0.2
            },
            "type": "scatter"
           }
          ],
          "scatter3d": [
           {
            "line": {
             "colorbar": {
              "outlinewidth": 0,
              "ticks": ""
             }
            },
            "marker": {
             "colorbar": {
              "outlinewidth": 0,
              "ticks": ""
             }
            },
            "type": "scatter3d"
           }
          ],
          "scattercarpet": [
           {
            "marker": {
             "colorbar": {
              "outlinewidth": 0,
              "ticks": ""
             }
            },
            "type": "scattercarpet"
           }
          ],
          "scattergeo": [
           {
            "marker": {
             "colorbar": {
              "outlinewidth": 0,
              "ticks": ""
             }
            },
            "type": "scattergeo"
           }
          ],
          "scattergl": [
           {
            "marker": {
             "colorbar": {
              "outlinewidth": 0,
              "ticks": ""
             }
            },
            "type": "scattergl"
           }
          ],
          "scattermapbox": [
           {
            "marker": {
             "colorbar": {
              "outlinewidth": 0,
              "ticks": ""
             }
            },
            "type": "scattermapbox"
           }
          ],
          "scatterpolar": [
           {
            "marker": {
             "colorbar": {
              "outlinewidth": 0,
              "ticks": ""
             }
            },
            "type": "scatterpolar"
           }
          ],
          "scatterpolargl": [
           {
            "marker": {
             "colorbar": {
              "outlinewidth": 0,
              "ticks": ""
             }
            },
            "type": "scatterpolargl"
           }
          ],
          "scatterternary": [
           {
            "marker": {
             "colorbar": {
              "outlinewidth": 0,
              "ticks": ""
             }
            },
            "type": "scatterternary"
           }
          ],
          "surface": [
           {
            "colorbar": {
             "outlinewidth": 0,
             "ticks": ""
            },
            "colorscale": [
             [
              0,
              "#0d0887"
             ],
             [
              0.1111111111111111,
              "#46039f"
             ],
             [
              0.2222222222222222,
              "#7201a8"
             ],
             [
              0.3333333333333333,
              "#9c179e"
             ],
             [
              0.4444444444444444,
              "#bd3786"
             ],
             [
              0.5555555555555556,
              "#d8576b"
             ],
             [
              0.6666666666666666,
              "#ed7953"
             ],
             [
              0.7777777777777778,
              "#fb9f3a"
             ],
             [
              0.8888888888888888,
              "#fdca26"
             ],
             [
              1,
              "#f0f921"
             ]
            ],
            "type": "surface"
           }
          ],
          "table": [
           {
            "cells": {
             "fill": {
              "color": "#EBF0F8"
             },
             "line": {
              "color": "white"
             }
            },
            "header": {
             "fill": {
              "color": "#C8D4E3"
             },
             "line": {
              "color": "white"
             }
            },
            "type": "table"
           }
          ]
         },
         "layout": {
          "annotationdefaults": {
           "arrowcolor": "#2a3f5f",
           "arrowhead": 0,
           "arrowwidth": 1
          },
          "autotypenumbers": "strict",
          "coloraxis": {
           "colorbar": {
            "outlinewidth": 0,
            "ticks": ""
           }
          },
          "colorscale": {
           "diverging": [
            [
             0,
             "#8e0152"
            ],
            [
             0.1,
             "#c51b7d"
            ],
            [
             0.2,
             "#de77ae"
            ],
            [
             0.3,
             "#f1b6da"
            ],
            [
             0.4,
             "#fde0ef"
            ],
            [
             0.5,
             "#f7f7f7"
            ],
            [
             0.6,
             "#e6f5d0"
            ],
            [
             0.7,
             "#b8e186"
            ],
            [
             0.8,
             "#7fbc41"
            ],
            [
             0.9,
             "#4d9221"
            ],
            [
             1,
             "#276419"
            ]
           ],
           "sequential": [
            [
             0,
             "#0d0887"
            ],
            [
             0.1111111111111111,
             "#46039f"
            ],
            [
             0.2222222222222222,
             "#7201a8"
            ],
            [
             0.3333333333333333,
             "#9c179e"
            ],
            [
             0.4444444444444444,
             "#bd3786"
            ],
            [
             0.5555555555555556,
             "#d8576b"
            ],
            [
             0.6666666666666666,
             "#ed7953"
            ],
            [
             0.7777777777777778,
             "#fb9f3a"
            ],
            [
             0.8888888888888888,
             "#fdca26"
            ],
            [
             1,
             "#f0f921"
            ]
           ],
           "sequentialminus": [
            [
             0,
             "#0d0887"
            ],
            [
             0.1111111111111111,
             "#46039f"
            ],
            [
             0.2222222222222222,
             "#7201a8"
            ],
            [
             0.3333333333333333,
             "#9c179e"
            ],
            [
             0.4444444444444444,
             "#bd3786"
            ],
            [
             0.5555555555555556,
             "#d8576b"
            ],
            [
             0.6666666666666666,
             "#ed7953"
            ],
            [
             0.7777777777777778,
             "#fb9f3a"
            ],
            [
             0.8888888888888888,
             "#fdca26"
            ],
            [
             1,
             "#f0f921"
            ]
           ]
          },
          "colorway": [
           "#636efa",
           "#EF553B",
           "#00cc96",
           "#ab63fa",
           "#FFA15A",
           "#19d3f3",
           "#FF6692",
           "#B6E880",
           "#FF97FF",
           "#FECB52"
          ],
          "font": {
           "color": "#2a3f5f"
          },
          "geo": {
           "bgcolor": "white",
           "lakecolor": "white",
           "landcolor": "#E5ECF6",
           "showlakes": true,
           "showland": true,
           "subunitcolor": "white"
          },
          "hoverlabel": {
           "align": "left"
          },
          "hovermode": "closest",
          "mapbox": {
           "style": "light"
          },
          "paper_bgcolor": "white",
          "plot_bgcolor": "#E5ECF6",
          "polar": {
           "angularaxis": {
            "gridcolor": "white",
            "linecolor": "white",
            "ticks": ""
           },
           "bgcolor": "#E5ECF6",
           "radialaxis": {
            "gridcolor": "white",
            "linecolor": "white",
            "ticks": ""
           }
          },
          "scene": {
           "xaxis": {
            "backgroundcolor": "#E5ECF6",
            "gridcolor": "white",
            "gridwidth": 2,
            "linecolor": "white",
            "showbackground": true,
            "ticks": "",
            "zerolinecolor": "white"
           },
           "yaxis": {
            "backgroundcolor": "#E5ECF6",
            "gridcolor": "white",
            "gridwidth": 2,
            "linecolor": "white",
            "showbackground": true,
            "ticks": "",
            "zerolinecolor": "white"
           },
           "zaxis": {
            "backgroundcolor": "#E5ECF6",
            "gridcolor": "white",
            "gridwidth": 2,
            "linecolor": "white",
            "showbackground": true,
            "ticks": "",
            "zerolinecolor": "white"
           }
          },
          "shapedefaults": {
           "line": {
            "color": "#2a3f5f"
           }
          },
          "ternary": {
           "aaxis": {
            "gridcolor": "white",
            "linecolor": "white",
            "ticks": ""
           },
           "baxis": {
            "gridcolor": "white",
            "linecolor": "white",
            "ticks": ""
           },
           "bgcolor": "#E5ECF6",
           "caxis": {
            "gridcolor": "white",
            "linecolor": "white",
            "ticks": ""
           }
          },
          "title": {
           "x": 0.05
          },
          "xaxis": {
           "automargin": true,
           "gridcolor": "white",
           "linecolor": "white",
           "ticks": "",
           "title": {
            "standoff": 15
           },
           "zerolinecolor": "white",
           "zerolinewidth": 2
          },
          "yaxis": {
           "automargin": true,
           "gridcolor": "white",
           "linecolor": "white",
           "ticks": "",
           "title": {
            "standoff": 15
           },
           "zerolinecolor": "white",
           "zerolinewidth": 2
          }
         }
        },
        "title": {
         "text": "Tendances mensuelles des trajets en taxi"
        },
        "xaxis": {
         "anchor": "y",
         "domain": [
          0,
          1
         ],
         "title": {
          "text": "Mois"
         }
        },
        "yaxis": {
         "anchor": "x",
         "domain": [
          0,
          1
         ],
         "title": {
          "text": "Nombre total de trajets"
         }
        }
       }
      }
     },
     "metadata": {},
     "output_type": "display_data"
    },
    {
     "data": {
      "application/vnd.plotly.v1+json": {
       "config": {
        "plotlyServerURL": "https://plot.ly"
       },
       "data": [
        {
         "hovertemplate": "x=%{x}<br>num_trips=%{y}<extra></extra>",
         "legendgroup": "",
         "line": {
          "color": "#636efa",
          "dash": "solid"
         },
         "marker": {
          "symbol": "circle"
         },
         "mode": "lines",
         "name": "",
         "orientation": "v",
         "showlegend": false,
         "type": "scatter",
         "x": [
          "2023-01-01T00:00:00",
          "2023-01-02T00:00:00",
          "2023-01-03T00:00:00",
          "2023-01-04T00:00:00",
          "2023-01-05T00:00:00",
          "2023-01-06T00:00:00",
          "2023-01-07T00:00:00",
          "2023-01-08T00:00:00",
          "2023-01-09T00:00:00",
          "2023-01-10T00:00:00",
          "2023-01-11T00:00:00",
          "2023-01-12T00:00:00",
          "2023-01-13T00:00:00",
          "2023-01-14T00:00:00",
          "2023-01-15T00:00:00",
          "2023-01-16T00:00:00",
          "2023-01-17T00:00:00",
          "2023-01-18T00:00:00",
          "2023-01-19T00:00:00",
          "2023-01-20T00:00:00",
          "2023-01-21T00:00:00",
          "2023-01-22T00:00:00",
          "2023-01-23T00:00:00",
          "2023-01-24T00:00:00",
          "2023-01-25T00:00:00",
          "2023-01-26T00:00:00",
          "2023-01-27T00:00:00",
          "2023-01-28T00:00:00",
          "2023-01-29T00:00:00",
          "2023-01-30T00:00:00",
          "2023-01-31T00:00:00",
          "2023-02-01T00:00:00",
          "2023-02-02T00:00:00",
          "2023-02-03T00:00:00",
          "2023-02-04T00:00:00",
          "2023-02-05T00:00:00",
          "2023-02-06T00:00:00",
          "2023-02-07T00:00:00",
          "2023-02-08T00:00:00",
          "2023-02-09T00:00:00",
          "2023-02-10T00:00:00",
          "2023-02-11T00:00:00",
          "2023-02-12T00:00:00",
          "2023-02-13T00:00:00",
          "2023-02-14T00:00:00",
          "2023-02-15T00:00:00",
          "2023-02-16T00:00:00",
          "2023-02-17T00:00:00",
          "2023-02-18T00:00:00",
          "2023-02-19T00:00:00",
          "2023-02-20T00:00:00",
          "2023-02-21T00:00:00",
          "2023-02-22T00:00:00",
          "2023-02-23T00:00:00",
          "2023-02-24T00:00:00",
          "2023-02-25T00:00:00",
          "2023-02-26T00:00:00",
          "2023-02-27T00:00:00",
          "2023-02-28T00:00:00",
          "2023-03-01T00:00:00",
          "2023-03-02T00:00:00",
          "2023-03-03T00:00:00",
          "2023-03-04T00:00:00",
          "2023-03-05T00:00:00",
          "2023-03-06T00:00:00",
          "2023-03-07T00:00:00",
          "2023-03-08T00:00:00",
          "2023-03-09T00:00:00",
          "2023-03-10T00:00:00",
          "2023-03-11T00:00:00",
          "2023-03-12T00:00:00",
          "2023-03-13T00:00:00",
          "2023-03-14T00:00:00",
          "2023-03-15T00:00:00",
          "2023-03-16T00:00:00",
          "2023-03-17T00:00:00",
          "2023-03-18T00:00:00",
          "2023-03-19T00:00:00",
          "2023-03-20T00:00:00",
          "2023-03-21T00:00:00",
          "2023-03-22T00:00:00",
          "2023-03-23T00:00:00",
          "2023-03-24T00:00:00",
          "2023-03-25T00:00:00",
          "2023-03-26T00:00:00",
          "2023-03-27T00:00:00",
          "2023-03-28T00:00:00",
          "2023-03-29T00:00:00",
          "2023-03-30T00:00:00",
          "2023-03-31T00:00:00",
          "2023-04-01T00:00:00",
          "2023-04-02T00:00:00",
          "2023-04-03T00:00:00",
          "2023-04-04T00:00:00",
          "2023-04-05T00:00:00",
          "2023-04-06T00:00:00",
          "2023-04-07T00:00:00",
          "2023-04-08T00:00:00",
          "2023-04-09T00:00:00",
          "2023-04-10T00:00:00",
          "2023-04-11T00:00:00",
          "2023-04-12T00:00:00",
          "2023-04-13T00:00:00",
          "2023-04-14T00:00:00",
          "2023-04-15T00:00:00",
          "2023-04-16T00:00:00",
          "2023-04-17T00:00:00",
          "2023-04-18T00:00:00",
          "2023-04-19T00:00:00",
          "2023-04-20T00:00:00",
          "2023-04-21T00:00:00",
          "2023-04-22T00:00:00",
          "2023-04-23T00:00:00",
          "2023-04-24T00:00:00",
          "2023-04-25T00:00:00",
          "2023-04-26T00:00:00",
          "2023-04-27T00:00:00",
          "2023-04-28T00:00:00",
          "2023-04-29T00:00:00",
          "2023-04-30T00:00:00",
          "2023-05-01T00:00:00",
          "2023-05-02T00:00:00",
          "2023-05-03T00:00:00",
          "2023-05-04T00:00:00",
          "2023-05-05T00:00:00",
          "2023-05-06T00:00:00",
          "2023-05-07T00:00:00",
          "2023-05-08T00:00:00",
          "2023-05-09T00:00:00",
          "2023-05-10T00:00:00",
          "2023-05-11T00:00:00",
          "2023-05-12T00:00:00",
          "2023-05-13T00:00:00",
          "2023-05-14T00:00:00",
          "2023-05-15T00:00:00",
          "2023-05-16T00:00:00",
          "2023-05-17T00:00:00",
          "2023-05-18T00:00:00",
          "2023-05-19T00:00:00",
          "2023-05-20T00:00:00",
          "2023-05-21T00:00:00",
          "2023-05-22T00:00:00",
          "2023-05-23T00:00:00",
          "2023-05-24T00:00:00",
          "2023-05-25T00:00:00",
          "2023-05-26T00:00:00",
          "2023-05-27T00:00:00",
          "2023-05-28T00:00:00",
          "2023-05-29T00:00:00",
          "2023-05-30T00:00:00",
          "2023-05-31T00:00:00",
          "2023-06-01T00:00:00",
          "2023-06-02T00:00:00",
          "2023-06-03T00:00:00",
          "2023-06-04T00:00:00",
          "2023-06-05T00:00:00",
          "2023-06-06T00:00:00",
          "2023-06-07T00:00:00",
          "2023-06-08T00:00:00",
          "2023-06-09T00:00:00",
          "2023-06-10T00:00:00",
          "2023-06-11T00:00:00",
          "2023-06-12T00:00:00",
          "2023-06-13T00:00:00",
          "2023-06-14T00:00:00",
          "2023-06-15T00:00:00",
          "2023-06-16T00:00:00",
          "2023-06-17T00:00:00",
          "2023-06-18T00:00:00",
          "2023-06-19T00:00:00",
          "2023-06-20T00:00:00",
          "2023-06-21T00:00:00",
          "2023-06-22T00:00:00",
          "2023-06-23T00:00:00",
          "2023-06-24T00:00:00",
          "2023-06-25T00:00:00",
          "2023-06-26T00:00:00",
          "2023-06-27T00:00:00",
          "2023-06-28T00:00:00",
          "2023-06-29T00:00:00",
          "2023-06-30T00:00:00",
          "2023-07-01T00:00:00",
          "2023-07-02T00:00:00",
          "2023-07-03T00:00:00",
          "2023-07-04T00:00:00",
          "2023-07-05T00:00:00",
          "2023-07-06T00:00:00",
          "2023-07-07T00:00:00",
          "2023-07-08T00:00:00",
          "2023-07-09T00:00:00",
          "2023-07-10T00:00:00",
          "2023-07-11T00:00:00",
          "2023-07-12T00:00:00",
          "2023-07-13T00:00:00",
          "2023-07-14T00:00:00",
          "2023-07-15T00:00:00",
          "2023-07-16T00:00:00",
          "2023-07-17T00:00:00",
          "2023-07-18T00:00:00",
          "2023-07-19T00:00:00",
          "2023-07-20T00:00:00",
          "2023-07-21T00:00:00",
          "2023-07-22T00:00:00",
          "2023-07-23T00:00:00",
          "2023-07-24T00:00:00",
          "2023-07-25T00:00:00",
          "2023-07-26T00:00:00",
          "2023-07-27T00:00:00",
          "2023-07-28T00:00:00",
          "2023-07-29T00:00:00",
          "2023-07-30T00:00:00",
          "2023-07-31T00:00:00",
          "2023-08-01T00:00:00",
          "2023-08-02T00:00:00",
          "2023-08-03T00:00:00",
          "2023-08-04T00:00:00",
          "2023-08-05T00:00:00",
          "2023-08-06T00:00:00",
          "2023-08-07T00:00:00",
          "2023-08-08T00:00:00",
          "2023-08-09T00:00:00",
          "2023-08-10T00:00:00",
          "2023-08-11T00:00:00",
          "2023-08-12T00:00:00",
          "2023-08-13T00:00:00",
          "2023-08-14T00:00:00",
          "2023-08-15T00:00:00",
          "2023-08-16T00:00:00",
          "2023-08-17T00:00:00",
          "2023-08-18T00:00:00",
          "2023-08-19T00:00:00",
          "2023-08-20T00:00:00",
          "2023-08-21T00:00:00",
          "2023-08-22T00:00:00",
          "2023-08-23T00:00:00",
          "2023-08-24T00:00:00",
          "2023-08-25T00:00:00",
          "2023-08-26T00:00:00",
          "2023-08-27T00:00:00",
          "2023-08-28T00:00:00",
          "2023-08-29T00:00:00",
          "2023-08-30T00:00:00",
          "2023-08-31T00:00:00",
          "2023-09-01T00:00:00",
          "2023-09-02T00:00:00",
          "2023-09-03T00:00:00",
          "2023-09-04T00:00:00",
          "2023-09-05T00:00:00",
          "2023-09-06T00:00:00",
          "2023-09-07T00:00:00",
          "2023-09-08T00:00:00",
          "2023-09-09T00:00:00",
          "2023-09-10T00:00:00",
          "2023-09-11T00:00:00",
          "2023-09-12T00:00:00",
          "2023-09-13T00:00:00",
          "2023-09-14T00:00:00",
          "2023-09-15T00:00:00",
          "2023-09-16T00:00:00",
          "2023-09-17T00:00:00",
          "2023-09-18T00:00:00",
          "2023-09-19T00:00:00",
          "2023-09-20T00:00:00",
          "2023-09-21T00:00:00",
          "2023-09-22T00:00:00",
          "2023-09-23T00:00:00",
          "2023-09-24T00:00:00",
          "2023-09-25T00:00:00",
          "2023-09-26T00:00:00",
          "2023-09-27T00:00:00",
          "2023-09-28T00:00:00",
          "2023-09-29T00:00:00",
          "2023-09-30T00:00:00",
          "2023-10-01T00:00:00",
          "2023-10-02T00:00:00",
          "2023-10-03T00:00:00",
          "2023-10-04T00:00:00",
          "2023-10-05T00:00:00",
          "2023-10-06T00:00:00",
          "2023-10-07T00:00:00",
          "2023-10-08T00:00:00",
          "2023-10-09T00:00:00",
          "2023-10-10T00:00:00",
          "2023-10-11T00:00:00",
          "2023-10-12T00:00:00",
          "2023-10-13T00:00:00",
          "2023-10-14T00:00:00",
          "2023-10-15T00:00:00",
          "2023-10-16T00:00:00",
          "2023-10-17T00:00:00",
          "2023-10-18T00:00:00",
          "2023-10-19T00:00:00",
          "2023-10-20T00:00:00",
          "2023-10-21T00:00:00",
          "2023-10-22T00:00:00",
          "2023-10-23T00:00:00",
          "2023-10-24T00:00:00",
          "2023-10-25T00:00:00",
          "2023-10-26T00:00:00",
          "2023-10-27T00:00:00",
          "2023-10-28T00:00:00",
          "2023-10-29T00:00:00",
          "2023-10-30T00:00:00",
          "2023-10-31T00:00:00",
          "2023-11-01T00:00:00",
          "2023-11-02T00:00:00",
          "2023-11-03T00:00:00",
          "2023-11-04T00:00:00",
          "2023-11-05T00:00:00",
          "2023-11-06T00:00:00",
          "2023-11-07T00:00:00",
          "2023-11-08T00:00:00",
          "2023-11-09T00:00:00",
          "2023-11-10T00:00:00",
          "2023-11-11T00:00:00",
          "2023-11-12T00:00:00",
          "2023-11-13T00:00:00",
          "2023-11-14T00:00:00",
          "2023-11-15T00:00:00",
          "2023-11-16T00:00:00",
          "2023-11-17T00:00:00",
          "2023-11-18T00:00:00",
          "2023-11-19T00:00:00",
          "2023-11-20T00:00:00",
          "2023-11-21T00:00:00",
          "2023-11-22T00:00:00",
          "2023-11-23T00:00:00",
          "2023-11-24T00:00:00",
          "2023-11-25T00:00:00",
          "2023-11-26T00:00:00",
          "2023-11-27T00:00:00",
          "2023-11-28T00:00:00",
          "2023-11-29T00:00:00",
          "2023-11-30T00:00:00",
          "2023-12-01T00:00:00",
          "2023-12-02T00:00:00",
          "2023-12-03T00:00:00",
          "2023-12-04T00:00:00",
          "2023-12-05T00:00:00",
          "2023-12-06T00:00:00",
          "2023-12-07T00:00:00",
          "2023-12-08T00:00:00",
          "2023-12-09T00:00:00",
          "2023-12-10T00:00:00",
          "2023-12-11T00:00:00",
          "2023-12-12T00:00:00",
          "2023-12-13T00:00:00",
          "2023-12-14T00:00:00",
          "2023-12-15T00:00:00",
          "2023-12-16T00:00:00",
          "2023-12-17T00:00:00",
          "2023-12-18T00:00:00",
          "2023-12-19T00:00:00",
          "2023-12-20T00:00:00",
          "2023-12-21T00:00:00",
          "2023-12-22T00:00:00",
          "2023-12-23T00:00:00",
          "2023-12-24T00:00:00",
          "2023-12-25T00:00:00",
          "2023-12-26T00:00:00",
          "2023-12-27T00:00:00",
          "2023-12-28T00:00:00",
          "2023-12-29T00:00:00",
          "2023-12-30T00:00:00",
          "2023-12-31T00:00:00"
         ],
         "xaxis": "x",
         "y": [
          70675,
          62513,
          81267,
          90255,
          95909,
          97398,
          100037,
          80827,
          80711,
          95023,
          100885,
          105209,
          104946,
          107479,
          91866,
          76138,
          95816,
          100906,
          108126,
          103998,
          106549,
          84923,
          84919,
          98637,
          102877,
          108824,
          106029,
          106018,
          83503,
          79255,
          95123,
          101770,
          106853,
          107527,
          91710,
          79325,
          86124,
          100507,
          102762,
          109079,
          108426,
          108485,
          89271,
          88079,
          102618,
          104720,
          106916,
          105321,
          99734,
          85333,
          75523,
          94775,
          105065,
          109398,
          109134,
          107044,
          86244,
          87537,
          95469,
          109097,
          112589,
          109763,
          106526,
          91711,
          88559,
          107669,
          112574,
          115329,
          114511,
          105252,
          90072,
          94717,
          101524,
          113209,
          117302,
          106485,
          115047,
          95084,
          86419,
          96397,
          100437,
          107795,
          104823,
          108761,
          88949,
          90797,
          98941,
          105447,
          112699,
          108583,
          110073,
          94299,
          91672,
          102857,
          109479,
          102604,
          100614,
          96180,
          83655,
          84946,
          99662,
          107473,
          115554,
          117145,
          112054,
          92713,
          92460,
          109024,
          111340,
          118574,
          109425,
          110780,
          91989,
          94369,
          106893,
          113949,
          117870,
          116340,
          103002,
          87616,
          94122,
          109035,
          113215,
          119866,
          114864,
          114584,
          95058,
          93349,
          109821,
          114569,
          122929,
          118348,
          114748,
          102940,
          102877,
          118088,
          124953,
          126918,
          120333,
          110649,
          95952,
          97939,
          110246,
          118186,
          110541,
          96180,
          88310,
          77947,
          70397,
          94830,
          108364,
          116162,
          111699,
          111230,
          94035,
          97505,
          114835,
          116733,
          113344,
          108759,
          105893,
          90814,
          100766,
          111483,
          115817,
          120705,
          104141,
          99987,
          86326,
          81487,
          102485,
          110121,
          114939,
          108037,
          102621,
          88538,
          94069,
          103411,
          99183,
          98421,
          89177,
          76901,
          64653,
          61070,
          54308,
          80516,
          88224,
          85982,
          86451,
          75453,
          84362,
          98457,
          104703,
          106770,
          93246,
          94573,
          75390,
          88617,
          100596,
          105099,
          105737,
          94646,
          93445,
          81355,
          84902,
          96863,
          102766,
          106130,
          96401,
          90784,
          81615,
          80809,
          92887,
          95755,
          97339,
          86679,
          87271,
          75747,
          78083,
          90592,
          94807,
          98357,
          87017,
          84471,
          74688,
          78876,
          88438,
          94266,
          94543,
          84555,
          84228,
          73141,
          75480,
          82212,
          87319,
          90007,
          83735,
          85179,
          75975,
          73876,
          88720,
          86865,
          86012,
          81686,
          77747,
          73650,
          67763,
          96763,
          111034,
          121429,
          115561,
          108851,
          95883,
          99744,
          111222,
          111413,
          117572,
          108783,
          103091,
          86976,
          88858,
          97407,
          101372,
          36178,
          20,
          15,
          94,
          85106,
          105074,
          111401,
          118305,
          92963,
          105466,
          94311,
          93842,
          105842,
          111572,
          115248,
          107841,
          104644,
          90770,
          80053,
          103760,
          111172,
          118758,
          109127,
          110643,
          95261,
          95568,
          108625,
          112869,
          119688,
          115054,
          113980,
          101517,
          94248,
          106760,
          112993,
          121716,
          118002,
          118305,
          97701,
          91466,
          95998,
          117808,
          120272,
          115274,
          115391,
          99017,
          96411,
          106630,
          117171,
          121491,
          118127,
          115553,
          99909,
          97109,
          111077,
          117200,
          123477,
          114357,
          119063,
          93768,
          93480,
          102191,
          85806,
          58528,
          73825,
          84074,
          79948,
          91609,
          113025,
          107665,
          116818,
          120681,
          116893,
          100805,
          97558,
          115496,
          123643,
          126151,
          121053,
          123890,
          98753,
          101575,
          116322,
          124610,
          130416,
          127290,
          120478,
          97244,
          92243,
          111463,
          108426,
          107873,
          99092,
          77890,
          60785,
          41386,
          64842,
          76977,
          80214,
          81556,
          78391,
          68183
         ],
         "yaxis": "y"
        }
       ],
       "layout": {
        "legend": {
         "tracegroupgap": 0
        },
        "template": {
         "data": {
          "bar": [
           {
            "error_x": {
             "color": "#2a3f5f"
            },
            "error_y": {
             "color": "#2a3f5f"
            },
            "marker": {
             "line": {
              "color": "#E5ECF6",
              "width": 0.5
             },
             "pattern": {
              "fillmode": "overlay",
              "size": 10,
              "solidity": 0.2
             }
            },
            "type": "bar"
           }
          ],
          "barpolar": [
           {
            "marker": {
             "line": {
              "color": "#E5ECF6",
              "width": 0.5
             },
             "pattern": {
              "fillmode": "overlay",
              "size": 10,
              "solidity": 0.2
             }
            },
            "type": "barpolar"
           }
          ],
          "carpet": [
           {
            "aaxis": {
             "endlinecolor": "#2a3f5f",
             "gridcolor": "white",
             "linecolor": "white",
             "minorgridcolor": "white",
             "startlinecolor": "#2a3f5f"
            },
            "baxis": {
             "endlinecolor": "#2a3f5f",
             "gridcolor": "white",
             "linecolor": "white",
             "minorgridcolor": "white",
             "startlinecolor": "#2a3f5f"
            },
            "type": "carpet"
           }
          ],
          "choropleth": [
           {
            "colorbar": {
             "outlinewidth": 0,
             "ticks": ""
            },
            "type": "choropleth"
           }
          ],
          "contour": [
           {
            "colorbar": {
             "outlinewidth": 0,
             "ticks": ""
            },
            "colorscale": [
             [
              0,
              "#0d0887"
             ],
             [
              0.1111111111111111,
              "#46039f"
             ],
             [
              0.2222222222222222,
              "#7201a8"
             ],
             [
              0.3333333333333333,
              "#9c179e"
             ],
             [
              0.4444444444444444,
              "#bd3786"
             ],
             [
              0.5555555555555556,
              "#d8576b"
             ],
             [
              0.6666666666666666,
              "#ed7953"
             ],
             [
              0.7777777777777778,
              "#fb9f3a"
             ],
             [
              0.8888888888888888,
              "#fdca26"
             ],
             [
              1,
              "#f0f921"
             ]
            ],
            "type": "contour"
           }
          ],
          "contourcarpet": [
           {
            "colorbar": {
             "outlinewidth": 0,
             "ticks": ""
            },
            "type": "contourcarpet"
           }
          ],
          "heatmap": [
           {
            "colorbar": {
             "outlinewidth": 0,
             "ticks": ""
            },
            "colorscale": [
             [
              0,
              "#0d0887"
             ],
             [
              0.1111111111111111,
              "#46039f"
             ],
             [
              0.2222222222222222,
              "#7201a8"
             ],
             [
              0.3333333333333333,
              "#9c179e"
             ],
             [
              0.4444444444444444,
              "#bd3786"
             ],
             [
              0.5555555555555556,
              "#d8576b"
             ],
             [
              0.6666666666666666,
              "#ed7953"
             ],
             [
              0.7777777777777778,
              "#fb9f3a"
             ],
             [
              0.8888888888888888,
              "#fdca26"
             ],
             [
              1,
              "#f0f921"
             ]
            ],
            "type": "heatmap"
           }
          ],
          "heatmapgl": [
           {
            "colorbar": {
             "outlinewidth": 0,
             "ticks": ""
            },
            "colorscale": [
             [
              0,
              "#0d0887"
             ],
             [
              0.1111111111111111,
              "#46039f"
             ],
             [
              0.2222222222222222,
              "#7201a8"
             ],
             [
              0.3333333333333333,
              "#9c179e"
             ],
             [
              0.4444444444444444,
              "#bd3786"
             ],
             [
              0.5555555555555556,
              "#d8576b"
             ],
             [
              0.6666666666666666,
              "#ed7953"
             ],
             [
              0.7777777777777778,
              "#fb9f3a"
             ],
             [
              0.8888888888888888,
              "#fdca26"
             ],
             [
              1,
              "#f0f921"
             ]
            ],
            "type": "heatmapgl"
           }
          ],
          "histogram": [
           {
            "marker": {
             "pattern": {
              "fillmode": "overlay",
              "size": 10,
              "solidity": 0.2
             }
            },
            "type": "histogram"
           }
          ],
          "histogram2d": [
           {
            "colorbar": {
             "outlinewidth": 0,
             "ticks": ""
            },
            "colorscale": [
             [
              0,
              "#0d0887"
             ],
             [
              0.1111111111111111,
              "#46039f"
             ],
             [
              0.2222222222222222,
              "#7201a8"
             ],
             [
              0.3333333333333333,
              "#9c179e"
             ],
             [
              0.4444444444444444,
              "#bd3786"
             ],
             [
              0.5555555555555556,
              "#d8576b"
             ],
             [
              0.6666666666666666,
              "#ed7953"
             ],
             [
              0.7777777777777778,
              "#fb9f3a"
             ],
             [
              0.8888888888888888,
              "#fdca26"
             ],
             [
              1,
              "#f0f921"
             ]
            ],
            "type": "histogram2d"
           }
          ],
          "histogram2dcontour": [
           {
            "colorbar": {
             "outlinewidth": 0,
             "ticks": ""
            },
            "colorscale": [
             [
              0,
              "#0d0887"
             ],
             [
              0.1111111111111111,
              "#46039f"
             ],
             [
              0.2222222222222222,
              "#7201a8"
             ],
             [
              0.3333333333333333,
              "#9c179e"
             ],
             [
              0.4444444444444444,
              "#bd3786"
             ],
             [
              0.5555555555555556,
              "#d8576b"
             ],
             [
              0.6666666666666666,
              "#ed7953"
             ],
             [
              0.7777777777777778,
              "#fb9f3a"
             ],
             [
              0.8888888888888888,
              "#fdca26"
             ],
             [
              1,
              "#f0f921"
             ]
            ],
            "type": "histogram2dcontour"
           }
          ],
          "mesh3d": [
           {
            "colorbar": {
             "outlinewidth": 0,
             "ticks": ""
            },
            "type": "mesh3d"
           }
          ],
          "parcoords": [
           {
            "line": {
             "colorbar": {
              "outlinewidth": 0,
              "ticks": ""
             }
            },
            "type": "parcoords"
           }
          ],
          "pie": [
           {
            "automargin": true,
            "type": "pie"
           }
          ],
          "scatter": [
           {
            "fillpattern": {
             "fillmode": "overlay",
             "size": 10,
             "solidity": 0.2
            },
            "type": "scatter"
           }
          ],
          "scatter3d": [
           {
            "line": {
             "colorbar": {
              "outlinewidth": 0,
              "ticks": ""
             }
            },
            "marker": {
             "colorbar": {
              "outlinewidth": 0,
              "ticks": ""
             }
            },
            "type": "scatter3d"
           }
          ],
          "scattercarpet": [
           {
            "marker": {
             "colorbar": {
              "outlinewidth": 0,
              "ticks": ""
             }
            },
            "type": "scattercarpet"
           }
          ],
          "scattergeo": [
           {
            "marker": {
             "colorbar": {
              "outlinewidth": 0,
              "ticks": ""
             }
            },
            "type": "scattergeo"
           }
          ],
          "scattergl": [
           {
            "marker": {
             "colorbar": {
              "outlinewidth": 0,
              "ticks": ""
             }
            },
            "type": "scattergl"
           }
          ],
          "scattermapbox": [
           {
            "marker": {
             "colorbar": {
              "outlinewidth": 0,
              "ticks": ""
             }
            },
            "type": "scattermapbox"
           }
          ],
          "scatterpolar": [
           {
            "marker": {
             "colorbar": {
              "outlinewidth": 0,
              "ticks": ""
             }
            },
            "type": "scatterpolar"
           }
          ],
          "scatterpolargl": [
           {
            "marker": {
             "colorbar": {
              "outlinewidth": 0,
              "ticks": ""
             }
            },
            "type": "scatterpolargl"
           }
          ],
          "scatterternary": [
           {
            "marker": {
             "colorbar": {
              "outlinewidth": 0,
              "ticks": ""
             }
            },
            "type": "scatterternary"
           }
          ],
          "surface": [
           {
            "colorbar": {
             "outlinewidth": 0,
             "ticks": ""
            },
            "colorscale": [
             [
              0,
              "#0d0887"
             ],
             [
              0.1111111111111111,
              "#46039f"
             ],
             [
              0.2222222222222222,
              "#7201a8"
             ],
             [
              0.3333333333333333,
              "#9c179e"
             ],
             [
              0.4444444444444444,
              "#bd3786"
             ],
             [
              0.5555555555555556,
              "#d8576b"
             ],
             [
              0.6666666666666666,
              "#ed7953"
             ],
             [
              0.7777777777777778,
              "#fb9f3a"
             ],
             [
              0.8888888888888888,
              "#fdca26"
             ],
             [
              1,
              "#f0f921"
             ]
            ],
            "type": "surface"
           }
          ],
          "table": [
           {
            "cells": {
             "fill": {
              "color": "#EBF0F8"
             },
             "line": {
              "color": "white"
             }
            },
            "header": {
             "fill": {
              "color": "#C8D4E3"
             },
             "line": {
              "color": "white"
             }
            },
            "type": "table"
           }
          ]
         },
         "layout": {
          "annotationdefaults": {
           "arrowcolor": "#2a3f5f",
           "arrowhead": 0,
           "arrowwidth": 1
          },
          "autotypenumbers": "strict",
          "coloraxis": {
           "colorbar": {
            "outlinewidth": 0,
            "ticks": ""
           }
          },
          "colorscale": {
           "diverging": [
            [
             0,
             "#8e0152"
            ],
            [
             0.1,
             "#c51b7d"
            ],
            [
             0.2,
             "#de77ae"
            ],
            [
             0.3,
             "#f1b6da"
            ],
            [
             0.4,
             "#fde0ef"
            ],
            [
             0.5,
             "#f7f7f7"
            ],
            [
             0.6,
             "#e6f5d0"
            ],
            [
             0.7,
             "#b8e186"
            ],
            [
             0.8,
             "#7fbc41"
            ],
            [
             0.9,
             "#4d9221"
            ],
            [
             1,
             "#276419"
            ]
           ],
           "sequential": [
            [
             0,
             "#0d0887"
            ],
            [
             0.1111111111111111,
             "#46039f"
            ],
            [
             0.2222222222222222,
             "#7201a8"
            ],
            [
             0.3333333333333333,
             "#9c179e"
            ],
            [
             0.4444444444444444,
             "#bd3786"
            ],
            [
             0.5555555555555556,
             "#d8576b"
            ],
            [
             0.6666666666666666,
             "#ed7953"
            ],
            [
             0.7777777777777778,
             "#fb9f3a"
            ],
            [
             0.8888888888888888,
             "#fdca26"
            ],
            [
             1,
             "#f0f921"
            ]
           ],
           "sequentialminus": [
            [
             0,
             "#0d0887"
            ],
            [
             0.1111111111111111,
             "#46039f"
            ],
            [
             0.2222222222222222,
             "#7201a8"
            ],
            [
             0.3333333333333333,
             "#9c179e"
            ],
            [
             0.4444444444444444,
             "#bd3786"
            ],
            [
             0.5555555555555556,
             "#d8576b"
            ],
            [
             0.6666666666666666,
             "#ed7953"
            ],
            [
             0.7777777777777778,
             "#fb9f3a"
            ],
            [
             0.8888888888888888,
             "#fdca26"
            ],
            [
             1,
             "#f0f921"
            ]
           ]
          },
          "colorway": [
           "#636efa",
           "#EF553B",
           "#00cc96",
           "#ab63fa",
           "#FFA15A",
           "#19d3f3",
           "#FF6692",
           "#B6E880",
           "#FF97FF",
           "#FECB52"
          ],
          "font": {
           "color": "#2a3f5f"
          },
          "geo": {
           "bgcolor": "white",
           "lakecolor": "white",
           "landcolor": "#E5ECF6",
           "showlakes": true,
           "showland": true,
           "subunitcolor": "white"
          },
          "hoverlabel": {
           "align": "left"
          },
          "hovermode": "closest",
          "mapbox": {
           "style": "light"
          },
          "paper_bgcolor": "white",
          "plot_bgcolor": "#E5ECF6",
          "polar": {
           "angularaxis": {
            "gridcolor": "white",
            "linecolor": "white",
            "ticks": ""
           },
           "bgcolor": "#E5ECF6",
           "radialaxis": {
            "gridcolor": "white",
            "linecolor": "white",
            "ticks": ""
           }
          },
          "scene": {
           "xaxis": {
            "backgroundcolor": "#E5ECF6",
            "gridcolor": "white",
            "gridwidth": 2,
            "linecolor": "white",
            "showbackground": true,
            "ticks": "",
            "zerolinecolor": "white"
           },
           "yaxis": {
            "backgroundcolor": "#E5ECF6",
            "gridcolor": "white",
            "gridwidth": 2,
            "linecolor": "white",
            "showbackground": true,
            "ticks": "",
            "zerolinecolor": "white"
           },
           "zaxis": {
            "backgroundcolor": "#E5ECF6",
            "gridcolor": "white",
            "gridwidth": 2,
            "linecolor": "white",
            "showbackground": true,
            "ticks": "",
            "zerolinecolor": "white"
           }
          },
          "shapedefaults": {
           "line": {
            "color": "#2a3f5f"
           }
          },
          "ternary": {
           "aaxis": {
            "gridcolor": "white",
            "linecolor": "white",
            "ticks": ""
           },
           "baxis": {
            "gridcolor": "white",
            "linecolor": "white",
            "ticks": ""
           },
           "bgcolor": "#E5ECF6",
           "caxis": {
            "gridcolor": "white",
            "linecolor": "white",
            "ticks": ""
           }
          },
          "title": {
           "x": 0.05
          },
          "xaxis": {
           "automargin": true,
           "gridcolor": "white",
           "linecolor": "white",
           "ticks": "",
           "title": {
            "standoff": 15
           },
           "zerolinecolor": "white",
           "zerolinewidth": 2
          },
          "yaxis": {
           "automargin": true,
           "gridcolor": "white",
           "linecolor": "white",
           "ticks": "",
           "title": {
            "standoff": 15
           },
           "zerolinecolor": "white",
           "zerolinewidth": 2
          }
         }
        },
        "title": {
         "text": "Tendances journalières des trajets en taxi"
        },
        "xaxis": {
         "anchor": "y",
         "domain": [
          0,
          1
         ],
         "title": {
          "text": "Jour de la semaine"
         }
        },
        "yaxis": {
         "anchor": "x",
         "domain": [
          0,
          1
         ],
         "title": {
          "text": "Nombre total de trajets"
         }
        }
       }
      }
     },
     "metadata": {},
     "output_type": "display_data"
    },
    {
     "data": {
      "application/vnd.plotly.v1+json": {
       "config": {
        "plotlyServerURL": "https://plot.ly"
       },
       "data": [
        {
         "hovertemplate": "x=%{x}<br>num_trips=%{y}<extra></extra>",
         "legendgroup": "",
         "line": {
          "color": "#636efa",
          "dash": "solid"
         },
         "marker": {
          "symbol": "circle"
         },
         "mode": "lines",
         "name": "",
         "showlegend": false,
         "type": "scattergl",
         "x": [
          "2023-01-01T00:00:00",
          "2023-01-01T01:00:00",
          "2023-01-01T02:00:00",
          "2023-01-01T03:00:00",
          "2023-01-01T04:00:00",
          "2023-01-01T05:00:00",
          "2023-01-01T06:00:00",
          "2023-01-01T07:00:00",
          "2023-01-01T08:00:00",
          "2023-01-01T09:00:00",
          "2023-01-01T10:00:00",
          "2023-01-01T11:00:00",
          "2023-01-01T12:00:00",
          "2023-01-01T13:00:00",
          "2023-01-01T14:00:00",
          "2023-01-01T15:00:00",
          "2023-01-01T16:00:00",
          "2023-01-01T17:00:00",
          "2023-01-01T18:00:00",
          "2023-01-01T19:00:00",
          "2023-01-01T20:00:00",
          "2023-01-01T21:00:00",
          "2023-01-01T22:00:00",
          "2023-01-01T23:00:00",
          "2023-01-02T00:00:00",
          "2023-01-02T01:00:00",
          "2023-01-02T02:00:00",
          "2023-01-02T03:00:00",
          "2023-01-02T04:00:00",
          "2023-01-02T05:00:00",
          "2023-01-02T06:00:00",
          "2023-01-02T07:00:00",
          "2023-01-02T08:00:00",
          "2023-01-02T09:00:00",
          "2023-01-02T10:00:00",
          "2023-01-02T11:00:00",
          "2023-01-02T12:00:00",
          "2023-01-02T13:00:00",
          "2023-01-02T14:00:00",
          "2023-01-02T15:00:00",
          "2023-01-02T16:00:00",
          "2023-01-02T17:00:00",
          "2023-01-02T18:00:00",
          "2023-01-02T19:00:00",
          "2023-01-02T20:00:00",
          "2023-01-02T21:00:00",
          "2023-01-02T22:00:00",
          "2023-01-02T23:00:00",
          "2023-01-03T00:00:00",
          "2023-01-03T01:00:00",
          "2023-01-03T02:00:00",
          "2023-01-03T03:00:00",
          "2023-01-03T04:00:00",
          "2023-01-03T05:00:00",
          "2023-01-03T06:00:00",
          "2023-01-03T07:00:00",
          "2023-01-03T08:00:00",
          "2023-01-03T09:00:00",
          "2023-01-03T10:00:00",
          "2023-01-03T11:00:00",
          "2023-01-03T12:00:00",
          "2023-01-03T13:00:00",
          "2023-01-03T14:00:00",
          "2023-01-03T15:00:00",
          "2023-01-03T16:00:00",
          "2023-01-03T17:00:00",
          "2023-01-03T18:00:00",
          "2023-01-03T19:00:00",
          "2023-01-03T20:00:00",
          "2023-01-03T21:00:00",
          "2023-01-03T22:00:00",
          "2023-01-03T23:00:00",
          "2023-01-04T00:00:00",
          "2023-01-04T01:00:00",
          "2023-01-04T02:00:00",
          "2023-01-04T03:00:00",
          "2023-01-04T04:00:00",
          "2023-01-04T05:00:00",
          "2023-01-04T06:00:00",
          "2023-01-04T07:00:00",
          "2023-01-04T08:00:00",
          "2023-01-04T09:00:00",
          "2023-01-04T10:00:00",
          "2023-01-04T11:00:00",
          "2023-01-04T12:00:00",
          "2023-01-04T13:00:00",
          "2023-01-04T14:00:00",
          "2023-01-04T15:00:00",
          "2023-01-04T16:00:00",
          "2023-01-04T17:00:00",
          "2023-01-04T18:00:00",
          "2023-01-04T19:00:00",
          "2023-01-04T20:00:00",
          "2023-01-04T21:00:00",
          "2023-01-04T22:00:00",
          "2023-01-04T23:00:00",
          "2023-01-05T00:00:00",
          "2023-01-05T01:00:00",
          "2023-01-05T02:00:00",
          "2023-01-05T03:00:00",
          "2023-01-05T04:00:00",
          "2023-01-05T05:00:00",
          "2023-01-05T06:00:00",
          "2023-01-05T07:00:00",
          "2023-01-05T08:00:00",
          "2023-01-05T09:00:00",
          "2023-01-05T10:00:00",
          "2023-01-05T11:00:00",
          "2023-01-05T12:00:00",
          "2023-01-05T13:00:00",
          "2023-01-05T14:00:00",
          "2023-01-05T15:00:00",
          "2023-01-05T16:00:00",
          "2023-01-05T17:00:00",
          "2023-01-05T18:00:00",
          "2023-01-05T19:00:00",
          "2023-01-05T20:00:00",
          "2023-01-05T21:00:00",
          "2023-01-05T22:00:00",
          "2023-01-05T23:00:00",
          "2023-01-06T00:00:00",
          "2023-01-06T01:00:00",
          "2023-01-06T02:00:00",
          "2023-01-06T03:00:00",
          "2023-01-06T04:00:00",
          "2023-01-06T05:00:00",
          "2023-01-06T06:00:00",
          "2023-01-06T07:00:00",
          "2023-01-06T08:00:00",
          "2023-01-06T09:00:00",
          "2023-01-06T10:00:00",
          "2023-01-06T11:00:00",
          "2023-01-06T12:00:00",
          "2023-01-06T13:00:00",
          "2023-01-06T14:00:00",
          "2023-01-06T15:00:00",
          "2023-01-06T16:00:00",
          "2023-01-06T17:00:00",
          "2023-01-06T18:00:00",
          "2023-01-06T19:00:00",
          "2023-01-06T20:00:00",
          "2023-01-06T21:00:00",
          "2023-01-06T22:00:00",
          "2023-01-06T23:00:00",
          "2023-01-07T00:00:00",
          "2023-01-07T01:00:00",
          "2023-01-07T02:00:00",
          "2023-01-07T03:00:00",
          "2023-01-07T04:00:00",
          "2023-01-07T05:00:00",
          "2023-01-07T06:00:00",
          "2023-01-07T07:00:00",
          "2023-01-07T08:00:00",
          "2023-01-07T09:00:00",
          "2023-01-07T10:00:00",
          "2023-01-07T11:00:00",
          "2023-01-07T12:00:00",
          "2023-01-07T13:00:00",
          "2023-01-07T14:00:00",
          "2023-01-07T15:00:00",
          "2023-01-07T16:00:00",
          "2023-01-07T17:00:00",
          "2023-01-07T18:00:00",
          "2023-01-07T19:00:00",
          "2023-01-07T20:00:00",
          "2023-01-07T21:00:00",
          "2023-01-07T22:00:00",
          "2023-01-07T23:00:00",
          "2023-01-08T00:00:00",
          "2023-01-08T01:00:00",
          "2023-01-08T02:00:00",
          "2023-01-08T03:00:00",
          "2023-01-08T04:00:00",
          "2023-01-08T05:00:00",
          "2023-01-08T06:00:00",
          "2023-01-08T07:00:00",
          "2023-01-08T08:00:00",
          "2023-01-08T09:00:00",
          "2023-01-08T10:00:00",
          "2023-01-08T11:00:00",
          "2023-01-08T12:00:00",
          "2023-01-08T13:00:00",
          "2023-01-08T14:00:00",
          "2023-01-08T15:00:00",
          "2023-01-08T16:00:00",
          "2023-01-08T17:00:00",
          "2023-01-08T18:00:00",
          "2023-01-08T19:00:00",
          "2023-01-08T20:00:00",
          "2023-01-08T21:00:00",
          "2023-01-08T22:00:00",
          "2023-01-08T23:00:00",
          "2023-01-09T00:00:00",
          "2023-01-09T01:00:00",
          "2023-01-09T02:00:00",
          "2023-01-09T03:00:00",
          "2023-01-09T04:00:00",
          "2023-01-09T05:00:00",
          "2023-01-09T06:00:00",
          "2023-01-09T07:00:00",
          "2023-01-09T08:00:00",
          "2023-01-09T09:00:00",
          "2023-01-09T10:00:00",
          "2023-01-09T11:00:00",
          "2023-01-09T12:00:00",
          "2023-01-09T13:00:00",
          "2023-01-09T14:00:00",
          "2023-01-09T15:00:00",
          "2023-01-09T16:00:00",
          "2023-01-09T17:00:00",
          "2023-01-09T18:00:00",
          "2023-01-09T19:00:00",
          "2023-01-09T20:00:00",
          "2023-01-09T21:00:00",
          "2023-01-09T22:00:00",
          "2023-01-09T23:00:00",
          "2023-01-10T00:00:00",
          "2023-01-10T01:00:00",
          "2023-01-10T02:00:00",
          "2023-01-10T03:00:00",
          "2023-01-10T04:00:00",
          "2023-01-10T05:00:00",
          "2023-01-10T06:00:00",
          "2023-01-10T07:00:00",
          "2023-01-10T08:00:00",
          "2023-01-10T09:00:00",
          "2023-01-10T10:00:00",
          "2023-01-10T11:00:00",
          "2023-01-10T12:00:00",
          "2023-01-10T13:00:00",
          "2023-01-10T14:00:00",
          "2023-01-10T15:00:00",
          "2023-01-10T16:00:00",
          "2023-01-10T17:00:00",
          "2023-01-10T18:00:00",
          "2023-01-10T19:00:00",
          "2023-01-10T20:00:00",
          "2023-01-10T21:00:00",
          "2023-01-10T22:00:00",
          "2023-01-10T23:00:00",
          "2023-01-11T00:00:00",
          "2023-01-11T01:00:00",
          "2023-01-11T02:00:00",
          "2023-01-11T03:00:00",
          "2023-01-11T04:00:00",
          "2023-01-11T05:00:00",
          "2023-01-11T06:00:00",
          "2023-01-11T07:00:00",
          "2023-01-11T08:00:00",
          "2023-01-11T09:00:00",
          "2023-01-11T10:00:00",
          "2023-01-11T11:00:00",
          "2023-01-11T12:00:00",
          "2023-01-11T13:00:00",
          "2023-01-11T14:00:00",
          "2023-01-11T15:00:00",
          "2023-01-11T16:00:00",
          "2023-01-11T17:00:00",
          "2023-01-11T18:00:00",
          "2023-01-11T19:00:00",
          "2023-01-11T20:00:00",
          "2023-01-11T21:00:00",
          "2023-01-11T22:00:00",
          "2023-01-11T23:00:00",
          "2023-01-12T00:00:00",
          "2023-01-12T01:00:00",
          "2023-01-12T02:00:00",
          "2023-01-12T03:00:00",
          "2023-01-12T04:00:00",
          "2023-01-12T05:00:00",
          "2023-01-12T06:00:00",
          "2023-01-12T07:00:00",
          "2023-01-12T08:00:00",
          "2023-01-12T09:00:00",
          "2023-01-12T10:00:00",
          "2023-01-12T11:00:00",
          "2023-01-12T12:00:00",
          "2023-01-12T13:00:00",
          "2023-01-12T14:00:00",
          "2023-01-12T15:00:00",
          "2023-01-12T16:00:00",
          "2023-01-12T17:00:00",
          "2023-01-12T18:00:00",
          "2023-01-12T19:00:00",
          "2023-01-12T20:00:00",
          "2023-01-12T21:00:00",
          "2023-01-12T22:00:00",
          "2023-01-12T23:00:00",
          "2023-01-13T00:00:00",
          "2023-01-13T01:00:00",
          "2023-01-13T02:00:00",
          "2023-01-13T03:00:00",
          "2023-01-13T04:00:00",
          "2023-01-13T05:00:00",
          "2023-01-13T06:00:00",
          "2023-01-13T07:00:00",
          "2023-01-13T08:00:00",
          "2023-01-13T09:00:00",
          "2023-01-13T10:00:00",
          "2023-01-13T11:00:00",
          "2023-01-13T12:00:00",
          "2023-01-13T13:00:00",
          "2023-01-13T14:00:00",
          "2023-01-13T15:00:00",
          "2023-01-13T16:00:00",
          "2023-01-13T17:00:00",
          "2023-01-13T18:00:00",
          "2023-01-13T19:00:00",
          "2023-01-13T20:00:00",
          "2023-01-13T21:00:00",
          "2023-01-13T22:00:00",
          "2023-01-13T23:00:00",
          "2023-01-14T00:00:00",
          "2023-01-14T01:00:00",
          "2023-01-14T02:00:00",
          "2023-01-14T03:00:00",
          "2023-01-14T04:00:00",
          "2023-01-14T05:00:00",
          "2023-01-14T06:00:00",
          "2023-01-14T07:00:00",
          "2023-01-14T08:00:00",
          "2023-01-14T09:00:00",
          "2023-01-14T10:00:00",
          "2023-01-14T11:00:00",
          "2023-01-14T12:00:00",
          "2023-01-14T13:00:00",
          "2023-01-14T14:00:00",
          "2023-01-14T15:00:00",
          "2023-01-14T16:00:00",
          "2023-01-14T17:00:00",
          "2023-01-14T18:00:00",
          "2023-01-14T19:00:00",
          "2023-01-14T20:00:00",
          "2023-01-14T21:00:00",
          "2023-01-14T22:00:00",
          "2023-01-14T23:00:00",
          "2023-01-15T00:00:00",
          "2023-01-15T01:00:00",
          "2023-01-15T02:00:00",
          "2023-01-15T03:00:00",
          "2023-01-15T04:00:00",
          "2023-01-15T05:00:00",
          "2023-01-15T06:00:00",
          "2023-01-15T07:00:00",
          "2023-01-15T08:00:00",
          "2023-01-15T09:00:00",
          "2023-01-15T10:00:00",
          "2023-01-15T11:00:00",
          "2023-01-15T12:00:00",
          "2023-01-15T13:00:00",
          "2023-01-15T14:00:00",
          "2023-01-15T15:00:00",
          "2023-01-15T16:00:00",
          "2023-01-15T17:00:00",
          "2023-01-15T18:00:00",
          "2023-01-15T19:00:00",
          "2023-01-15T20:00:00",
          "2023-01-15T21:00:00",
          "2023-01-15T22:00:00",
          "2023-01-15T23:00:00",
          "2023-01-16T00:00:00",
          "2023-01-16T01:00:00",
          "2023-01-16T02:00:00",
          "2023-01-16T03:00:00",
          "2023-01-16T04:00:00",
          "2023-01-16T05:00:00",
          "2023-01-16T06:00:00",
          "2023-01-16T07:00:00",
          "2023-01-16T08:00:00",
          "2023-01-16T09:00:00",
          "2023-01-16T10:00:00",
          "2023-01-16T11:00:00",
          "2023-01-16T12:00:00",
          "2023-01-16T13:00:00",
          "2023-01-16T14:00:00",
          "2023-01-16T15:00:00",
          "2023-01-16T16:00:00",
          "2023-01-16T17:00:00",
          "2023-01-16T18:00:00",
          "2023-01-16T19:00:00",
          "2023-01-16T20:00:00",
          "2023-01-16T21:00:00",
          "2023-01-16T22:00:00",
          "2023-01-16T23:00:00",
          "2023-01-17T00:00:00",
          "2023-01-17T01:00:00",
          "2023-01-17T02:00:00",
          "2023-01-17T03:00:00",
          "2023-01-17T04:00:00",
          "2023-01-17T05:00:00",
          "2023-01-17T06:00:00",
          "2023-01-17T07:00:00",
          "2023-01-17T08:00:00",
          "2023-01-17T09:00:00",
          "2023-01-17T10:00:00",
          "2023-01-17T11:00:00",
          "2023-01-17T12:00:00",
          "2023-01-17T13:00:00",
          "2023-01-17T14:00:00",
          "2023-01-17T15:00:00",
          "2023-01-17T16:00:00",
          "2023-01-17T17:00:00",
          "2023-01-17T18:00:00",
          "2023-01-17T19:00:00",
          "2023-01-17T20:00:00",
          "2023-01-17T21:00:00",
          "2023-01-17T22:00:00",
          "2023-01-17T23:00:00",
          "2023-01-18T00:00:00",
          "2023-01-18T01:00:00",
          "2023-01-18T02:00:00",
          "2023-01-18T03:00:00",
          "2023-01-18T04:00:00",
          "2023-01-18T05:00:00",
          "2023-01-18T06:00:00",
          "2023-01-18T07:00:00",
          "2023-01-18T08:00:00",
          "2023-01-18T09:00:00",
          "2023-01-18T10:00:00",
          "2023-01-18T11:00:00",
          "2023-01-18T12:00:00",
          "2023-01-18T13:00:00",
          "2023-01-18T14:00:00",
          "2023-01-18T15:00:00",
          "2023-01-18T16:00:00",
          "2023-01-18T17:00:00",
          "2023-01-18T18:00:00",
          "2023-01-18T19:00:00",
          "2023-01-18T20:00:00",
          "2023-01-18T21:00:00",
          "2023-01-18T22:00:00",
          "2023-01-18T23:00:00",
          "2023-01-19T00:00:00",
          "2023-01-19T01:00:00",
          "2023-01-19T02:00:00",
          "2023-01-19T03:00:00",
          "2023-01-19T04:00:00",
          "2023-01-19T05:00:00",
          "2023-01-19T06:00:00",
          "2023-01-19T07:00:00",
          "2023-01-19T08:00:00",
          "2023-01-19T09:00:00",
          "2023-01-19T10:00:00",
          "2023-01-19T11:00:00",
          "2023-01-19T12:00:00",
          "2023-01-19T13:00:00",
          "2023-01-19T14:00:00",
          "2023-01-19T15:00:00",
          "2023-01-19T16:00:00",
          "2023-01-19T17:00:00",
          "2023-01-19T18:00:00",
          "2023-01-19T19:00:00",
          "2023-01-19T20:00:00",
          "2023-01-19T21:00:00",
          "2023-01-19T22:00:00",
          "2023-01-19T23:00:00",
          "2023-01-20T00:00:00",
          "2023-01-20T01:00:00",
          "2023-01-20T02:00:00",
          "2023-01-20T03:00:00",
          "2023-01-20T04:00:00",
          "2023-01-20T05:00:00",
          "2023-01-20T06:00:00",
          "2023-01-20T07:00:00",
          "2023-01-20T08:00:00",
          "2023-01-20T09:00:00",
          "2023-01-20T10:00:00",
          "2023-01-20T11:00:00",
          "2023-01-20T12:00:00",
          "2023-01-20T13:00:00",
          "2023-01-20T14:00:00",
          "2023-01-20T15:00:00",
          "2023-01-20T16:00:00",
          "2023-01-20T17:00:00",
          "2023-01-20T18:00:00",
          "2023-01-20T19:00:00",
          "2023-01-20T20:00:00",
          "2023-01-20T21:00:00",
          "2023-01-20T22:00:00",
          "2023-01-20T23:00:00",
          "2023-01-21T00:00:00",
          "2023-01-21T01:00:00",
          "2023-01-21T02:00:00",
          "2023-01-21T03:00:00",
          "2023-01-21T04:00:00",
          "2023-01-21T05:00:00",
          "2023-01-21T06:00:00",
          "2023-01-21T07:00:00",
          "2023-01-21T08:00:00",
          "2023-01-21T09:00:00",
          "2023-01-21T10:00:00",
          "2023-01-21T11:00:00",
          "2023-01-21T12:00:00",
          "2023-01-21T13:00:00",
          "2023-01-21T14:00:00",
          "2023-01-21T15:00:00",
          "2023-01-21T16:00:00",
          "2023-01-21T17:00:00",
          "2023-01-21T18:00:00",
          "2023-01-21T19:00:00",
          "2023-01-21T20:00:00",
          "2023-01-21T21:00:00",
          "2023-01-21T22:00:00",
          "2023-01-21T23:00:00",
          "2023-01-22T00:00:00",
          "2023-01-22T01:00:00",
          "2023-01-22T02:00:00",
          "2023-01-22T03:00:00",
          "2023-01-22T04:00:00",
          "2023-01-22T05:00:00",
          "2023-01-22T06:00:00",
          "2023-01-22T07:00:00",
          "2023-01-22T08:00:00",
          "2023-01-22T09:00:00",
          "2023-01-22T10:00:00",
          "2023-01-22T11:00:00",
          "2023-01-22T12:00:00",
          "2023-01-22T13:00:00",
          "2023-01-22T14:00:00",
          "2023-01-22T15:00:00",
          "2023-01-22T16:00:00",
          "2023-01-22T17:00:00",
          "2023-01-22T18:00:00",
          "2023-01-22T19:00:00",
          "2023-01-22T20:00:00",
          "2023-01-22T21:00:00",
          "2023-01-22T22:00:00",
          "2023-01-22T23:00:00",
          "2023-01-23T00:00:00",
          "2023-01-23T01:00:00",
          "2023-01-23T02:00:00",
          "2023-01-23T03:00:00",
          "2023-01-23T04:00:00",
          "2023-01-23T05:00:00",
          "2023-01-23T06:00:00",
          "2023-01-23T07:00:00",
          "2023-01-23T08:00:00",
          "2023-01-23T09:00:00",
          "2023-01-23T10:00:00",
          "2023-01-23T11:00:00",
          "2023-01-23T12:00:00",
          "2023-01-23T13:00:00",
          "2023-01-23T14:00:00",
          "2023-01-23T15:00:00",
          "2023-01-23T16:00:00",
          "2023-01-23T17:00:00",
          "2023-01-23T18:00:00",
          "2023-01-23T19:00:00",
          "2023-01-23T20:00:00",
          "2023-01-23T21:00:00",
          "2023-01-23T22:00:00",
          "2023-01-23T23:00:00",
          "2023-01-24T00:00:00",
          "2023-01-24T01:00:00",
          "2023-01-24T02:00:00",
          "2023-01-24T03:00:00",
          "2023-01-24T04:00:00",
          "2023-01-24T05:00:00",
          "2023-01-24T06:00:00",
          "2023-01-24T07:00:00",
          "2023-01-24T08:00:00",
          "2023-01-24T09:00:00",
          "2023-01-24T10:00:00",
          "2023-01-24T11:00:00",
          "2023-01-24T12:00:00",
          "2023-01-24T13:00:00",
          "2023-01-24T14:00:00",
          "2023-01-24T15:00:00",
          "2023-01-24T16:00:00",
          "2023-01-24T17:00:00",
          "2023-01-24T18:00:00",
          "2023-01-24T19:00:00",
          "2023-01-24T20:00:00",
          "2023-01-24T21:00:00",
          "2023-01-24T22:00:00",
          "2023-01-24T23:00:00",
          "2023-01-25T00:00:00",
          "2023-01-25T01:00:00",
          "2023-01-25T02:00:00",
          "2023-01-25T03:00:00",
          "2023-01-25T04:00:00",
          "2023-01-25T05:00:00",
          "2023-01-25T06:00:00",
          "2023-01-25T07:00:00",
          "2023-01-25T08:00:00",
          "2023-01-25T09:00:00",
          "2023-01-25T10:00:00",
          "2023-01-25T11:00:00",
          "2023-01-25T12:00:00",
          "2023-01-25T13:00:00",
          "2023-01-25T14:00:00",
          "2023-01-25T15:00:00",
          "2023-01-25T16:00:00",
          "2023-01-25T17:00:00",
          "2023-01-25T18:00:00",
          "2023-01-25T19:00:00",
          "2023-01-25T20:00:00",
          "2023-01-25T21:00:00",
          "2023-01-25T22:00:00",
          "2023-01-25T23:00:00",
          "2023-01-26T00:00:00",
          "2023-01-26T01:00:00",
          "2023-01-26T02:00:00",
          "2023-01-26T03:00:00",
          "2023-01-26T04:00:00",
          "2023-01-26T05:00:00",
          "2023-01-26T06:00:00",
          "2023-01-26T07:00:00",
          "2023-01-26T08:00:00",
          "2023-01-26T09:00:00",
          "2023-01-26T10:00:00",
          "2023-01-26T11:00:00",
          "2023-01-26T12:00:00",
          "2023-01-26T13:00:00",
          "2023-01-26T14:00:00",
          "2023-01-26T15:00:00",
          "2023-01-26T16:00:00",
          "2023-01-26T17:00:00",
          "2023-01-26T18:00:00",
          "2023-01-26T19:00:00",
          "2023-01-26T20:00:00",
          "2023-01-26T21:00:00",
          "2023-01-26T22:00:00",
          "2023-01-26T23:00:00",
          "2023-01-27T00:00:00",
          "2023-01-27T01:00:00",
          "2023-01-27T02:00:00",
          "2023-01-27T03:00:00",
          "2023-01-27T04:00:00",
          "2023-01-27T05:00:00",
          "2023-01-27T06:00:00",
          "2023-01-27T07:00:00",
          "2023-01-27T08:00:00",
          "2023-01-27T09:00:00",
          "2023-01-27T10:00:00",
          "2023-01-27T11:00:00",
          "2023-01-27T12:00:00",
          "2023-01-27T13:00:00",
          "2023-01-27T14:00:00",
          "2023-01-27T15:00:00",
          "2023-01-27T16:00:00",
          "2023-01-27T17:00:00",
          "2023-01-27T18:00:00",
          "2023-01-27T19:00:00",
          "2023-01-27T20:00:00",
          "2023-01-27T21:00:00",
          "2023-01-27T22:00:00",
          "2023-01-27T23:00:00",
          "2023-01-28T00:00:00",
          "2023-01-28T01:00:00",
          "2023-01-28T02:00:00",
          "2023-01-28T03:00:00",
          "2023-01-28T04:00:00",
          "2023-01-28T05:00:00",
          "2023-01-28T06:00:00",
          "2023-01-28T07:00:00",
          "2023-01-28T08:00:00",
          "2023-01-28T09:00:00",
          "2023-01-28T10:00:00",
          "2023-01-28T11:00:00",
          "2023-01-28T12:00:00",
          "2023-01-28T13:00:00",
          "2023-01-28T14:00:00",
          "2023-01-28T15:00:00",
          "2023-01-28T16:00:00",
          "2023-01-28T17:00:00",
          "2023-01-28T18:00:00",
          "2023-01-28T19:00:00",
          "2023-01-28T20:00:00",
          "2023-01-28T21:00:00",
          "2023-01-28T22:00:00",
          "2023-01-28T23:00:00",
          "2023-01-29T00:00:00",
          "2023-01-29T01:00:00",
          "2023-01-29T02:00:00",
          "2023-01-29T03:00:00",
          "2023-01-29T04:00:00",
          "2023-01-29T05:00:00",
          "2023-01-29T06:00:00",
          "2023-01-29T07:00:00",
          "2023-01-29T08:00:00",
          "2023-01-29T09:00:00",
          "2023-01-29T10:00:00",
          "2023-01-29T11:00:00",
          "2023-01-29T12:00:00",
          "2023-01-29T13:00:00",
          "2023-01-29T14:00:00",
          "2023-01-29T15:00:00",
          "2023-01-29T16:00:00",
          "2023-01-29T17:00:00",
          "2023-01-29T18:00:00",
          "2023-01-29T19:00:00",
          "2023-01-29T20:00:00",
          "2023-01-29T21:00:00",
          "2023-01-29T22:00:00",
          "2023-01-29T23:00:00",
          "2023-01-30T00:00:00",
          "2023-01-30T01:00:00",
          "2023-01-30T02:00:00",
          "2023-01-30T03:00:00",
          "2023-01-30T04:00:00",
          "2023-01-30T05:00:00",
          "2023-01-30T06:00:00",
          "2023-01-30T07:00:00",
          "2023-01-30T08:00:00",
          "2023-01-30T09:00:00",
          "2023-01-30T10:00:00",
          "2023-01-30T11:00:00",
          "2023-01-30T12:00:00",
          "2023-01-30T13:00:00",
          "2023-01-30T14:00:00",
          "2023-01-30T15:00:00",
          "2023-01-30T16:00:00",
          "2023-01-30T17:00:00",
          "2023-01-30T18:00:00",
          "2023-01-30T19:00:00",
          "2023-01-30T20:00:00",
          "2023-01-30T21:00:00",
          "2023-01-30T22:00:00",
          "2023-01-30T23:00:00",
          "2023-01-31T00:00:00",
          "2023-01-31T01:00:00",
          "2023-01-31T02:00:00",
          "2023-01-31T03:00:00",
          "2023-01-31T04:00:00",
          "2023-01-31T05:00:00",
          "2023-01-31T06:00:00",
          "2023-01-31T07:00:00",
          "2023-01-31T08:00:00",
          "2023-01-31T09:00:00",
          "2023-01-31T10:00:00",
          "2023-01-31T11:00:00",
          "2023-01-31T12:00:00",
          "2023-01-31T13:00:00",
          "2023-01-31T14:00:00",
          "2023-01-31T15:00:00",
          "2023-01-31T16:00:00",
          "2023-01-31T17:00:00",
          "2023-01-31T18:00:00",
          "2023-01-31T19:00:00",
          "2023-01-31T20:00:00",
          "2023-01-31T21:00:00",
          "2023-01-31T22:00:00",
          "2023-01-31T23:00:00",
          "2023-02-01T00:00:00",
          "2023-02-01T01:00:00",
          "2023-02-01T02:00:00",
          "2023-02-01T03:00:00",
          "2023-02-01T04:00:00",
          "2023-02-01T05:00:00",
          "2023-02-01T06:00:00",
          "2023-02-01T07:00:00",
          "2023-02-01T08:00:00",
          "2023-02-01T09:00:00",
          "2023-02-01T10:00:00",
          "2023-02-01T11:00:00",
          "2023-02-01T12:00:00",
          "2023-02-01T13:00:00",
          "2023-02-01T14:00:00",
          "2023-02-01T15:00:00",
          "2023-02-01T16:00:00",
          "2023-02-01T17:00:00",
          "2023-02-01T18:00:00",
          "2023-02-01T19:00:00",
          "2023-02-01T20:00:00",
          "2023-02-01T21:00:00",
          "2023-02-01T22:00:00",
          "2023-02-01T23:00:00",
          "2023-02-02T00:00:00",
          "2023-02-02T01:00:00",
          "2023-02-02T02:00:00",
          "2023-02-02T03:00:00",
          "2023-02-02T04:00:00",
          "2023-02-02T05:00:00",
          "2023-02-02T06:00:00",
          "2023-02-02T07:00:00",
          "2023-02-02T08:00:00",
          "2023-02-02T09:00:00",
          "2023-02-02T10:00:00",
          "2023-02-02T11:00:00",
          "2023-02-02T12:00:00",
          "2023-02-02T13:00:00",
          "2023-02-02T14:00:00",
          "2023-02-02T15:00:00",
          "2023-02-02T16:00:00",
          "2023-02-02T17:00:00",
          "2023-02-02T18:00:00",
          "2023-02-02T19:00:00",
          "2023-02-02T20:00:00",
          "2023-02-02T21:00:00",
          "2023-02-02T22:00:00",
          "2023-02-02T23:00:00",
          "2023-02-03T00:00:00",
          "2023-02-03T01:00:00",
          "2023-02-03T02:00:00",
          "2023-02-03T03:00:00",
          "2023-02-03T04:00:00",
          "2023-02-03T05:00:00",
          "2023-02-03T06:00:00",
          "2023-02-03T07:00:00",
          "2023-02-03T08:00:00",
          "2023-02-03T09:00:00",
          "2023-02-03T10:00:00",
          "2023-02-03T11:00:00",
          "2023-02-03T12:00:00",
          "2023-02-03T13:00:00",
          "2023-02-03T14:00:00",
          "2023-02-03T15:00:00",
          "2023-02-03T16:00:00",
          "2023-02-03T17:00:00",
          "2023-02-03T18:00:00",
          "2023-02-03T19:00:00",
          "2023-02-03T20:00:00",
          "2023-02-03T21:00:00",
          "2023-02-03T22:00:00",
          "2023-02-03T23:00:00",
          "2023-02-04T00:00:00",
          "2023-02-04T01:00:00",
          "2023-02-04T02:00:00",
          "2023-02-04T03:00:00",
          "2023-02-04T04:00:00",
          "2023-02-04T05:00:00",
          "2023-02-04T06:00:00",
          "2023-02-04T07:00:00",
          "2023-02-04T08:00:00",
          "2023-02-04T09:00:00",
          "2023-02-04T10:00:00",
          "2023-02-04T11:00:00",
          "2023-02-04T12:00:00",
          "2023-02-04T13:00:00",
          "2023-02-04T14:00:00",
          "2023-02-04T15:00:00",
          "2023-02-04T16:00:00",
          "2023-02-04T17:00:00",
          "2023-02-04T18:00:00",
          "2023-02-04T19:00:00",
          "2023-02-04T20:00:00",
          "2023-02-04T21:00:00",
          "2023-02-04T22:00:00",
          "2023-02-04T23:00:00",
          "2023-02-05T00:00:00",
          "2023-02-05T01:00:00",
          "2023-02-05T02:00:00",
          "2023-02-05T03:00:00",
          "2023-02-05T04:00:00",
          "2023-02-05T05:00:00",
          "2023-02-05T06:00:00",
          "2023-02-05T07:00:00",
          "2023-02-05T08:00:00",
          "2023-02-05T09:00:00",
          "2023-02-05T10:00:00",
          "2023-02-05T11:00:00",
          "2023-02-05T12:00:00",
          "2023-02-05T13:00:00",
          "2023-02-05T14:00:00",
          "2023-02-05T15:00:00",
          "2023-02-05T16:00:00",
          "2023-02-05T17:00:00",
          "2023-02-05T18:00:00",
          "2023-02-05T19:00:00",
          "2023-02-05T20:00:00",
          "2023-02-05T21:00:00",
          "2023-02-05T22:00:00",
          "2023-02-05T23:00:00",
          "2023-02-06T00:00:00",
          "2023-02-06T01:00:00",
          "2023-02-06T02:00:00",
          "2023-02-06T03:00:00",
          "2023-02-06T04:00:00",
          "2023-02-06T05:00:00",
          "2023-02-06T06:00:00",
          "2023-02-06T07:00:00",
          "2023-02-06T08:00:00",
          "2023-02-06T09:00:00",
          "2023-02-06T10:00:00",
          "2023-02-06T11:00:00",
          "2023-02-06T12:00:00",
          "2023-02-06T13:00:00",
          "2023-02-06T14:00:00",
          "2023-02-06T15:00:00",
          "2023-02-06T16:00:00",
          "2023-02-06T17:00:00",
          "2023-02-06T18:00:00",
          "2023-02-06T19:00:00",
          "2023-02-06T20:00:00",
          "2023-02-06T21:00:00",
          "2023-02-06T22:00:00",
          "2023-02-06T23:00:00",
          "2023-02-07T00:00:00",
          "2023-02-07T01:00:00",
          "2023-02-07T02:00:00",
          "2023-02-07T03:00:00",
          "2023-02-07T04:00:00",
          "2023-02-07T05:00:00",
          "2023-02-07T06:00:00",
          "2023-02-07T07:00:00",
          "2023-02-07T08:00:00",
          "2023-02-07T09:00:00",
          "2023-02-07T10:00:00",
          "2023-02-07T11:00:00",
          "2023-02-07T12:00:00",
          "2023-02-07T13:00:00",
          "2023-02-07T14:00:00",
          "2023-02-07T15:00:00",
          "2023-02-07T16:00:00",
          "2023-02-07T17:00:00",
          "2023-02-07T18:00:00",
          "2023-02-07T19:00:00",
          "2023-02-07T20:00:00",
          "2023-02-07T21:00:00",
          "2023-02-07T22:00:00",
          "2023-02-07T23:00:00",
          "2023-02-08T00:00:00",
          "2023-02-08T01:00:00",
          "2023-02-08T02:00:00",
          "2023-02-08T03:00:00",
          "2023-02-08T04:00:00",
          "2023-02-08T05:00:00",
          "2023-02-08T06:00:00",
          "2023-02-08T07:00:00",
          "2023-02-08T08:00:00",
          "2023-02-08T09:00:00",
          "2023-02-08T10:00:00",
          "2023-02-08T11:00:00",
          "2023-02-08T12:00:00",
          "2023-02-08T13:00:00",
          "2023-02-08T14:00:00",
          "2023-02-08T15:00:00",
          "2023-02-08T16:00:00",
          "2023-02-08T17:00:00",
          "2023-02-08T18:00:00",
          "2023-02-08T19:00:00",
          "2023-02-08T20:00:00",
          "2023-02-08T21:00:00",
          "2023-02-08T22:00:00",
          "2023-02-08T23:00:00",
          "2023-02-09T00:00:00",
          "2023-02-09T01:00:00",
          "2023-02-09T02:00:00",
          "2023-02-09T03:00:00",
          "2023-02-09T04:00:00",
          "2023-02-09T05:00:00",
          "2023-02-09T06:00:00",
          "2023-02-09T07:00:00",
          "2023-02-09T08:00:00",
          "2023-02-09T09:00:00",
          "2023-02-09T10:00:00",
          "2023-02-09T11:00:00",
          "2023-02-09T12:00:00",
          "2023-02-09T13:00:00",
          "2023-02-09T14:00:00",
          "2023-02-09T15:00:00",
          "2023-02-09T16:00:00",
          "2023-02-09T17:00:00",
          "2023-02-09T18:00:00",
          "2023-02-09T19:00:00",
          "2023-02-09T20:00:00",
          "2023-02-09T21:00:00",
          "2023-02-09T22:00:00",
          "2023-02-09T23:00:00",
          "2023-02-10T00:00:00",
          "2023-02-10T01:00:00",
          "2023-02-10T02:00:00",
          "2023-02-10T03:00:00",
          "2023-02-10T04:00:00",
          "2023-02-10T05:00:00",
          "2023-02-10T06:00:00",
          "2023-02-10T07:00:00",
          "2023-02-10T08:00:00",
          "2023-02-10T09:00:00",
          "2023-02-10T10:00:00",
          "2023-02-10T11:00:00",
          "2023-02-10T12:00:00",
          "2023-02-10T13:00:00",
          "2023-02-10T14:00:00",
          "2023-02-10T15:00:00",
          "2023-02-10T16:00:00",
          "2023-02-10T17:00:00",
          "2023-02-10T18:00:00",
          "2023-02-10T19:00:00",
          "2023-02-10T20:00:00",
          "2023-02-10T21:00:00",
          "2023-02-10T22:00:00",
          "2023-02-10T23:00:00",
          "2023-02-11T00:00:00",
          "2023-02-11T01:00:00",
          "2023-02-11T02:00:00",
          "2023-02-11T03:00:00",
          "2023-02-11T04:00:00",
          "2023-02-11T05:00:00",
          "2023-02-11T06:00:00",
          "2023-02-11T07:00:00",
          "2023-02-11T08:00:00",
          "2023-02-11T09:00:00",
          "2023-02-11T10:00:00",
          "2023-02-11T11:00:00",
          "2023-02-11T12:00:00",
          "2023-02-11T13:00:00",
          "2023-02-11T14:00:00",
          "2023-02-11T15:00:00",
          "2023-02-11T16:00:00",
          "2023-02-11T17:00:00",
          "2023-02-11T18:00:00",
          "2023-02-11T19:00:00",
          "2023-02-11T20:00:00",
          "2023-02-11T21:00:00",
          "2023-02-11T22:00:00",
          "2023-02-11T23:00:00",
          "2023-02-12T00:00:00",
          "2023-02-12T01:00:00",
          "2023-02-12T02:00:00",
          "2023-02-12T03:00:00",
          "2023-02-12T04:00:00",
          "2023-02-12T05:00:00",
          "2023-02-12T06:00:00",
          "2023-02-12T07:00:00",
          "2023-02-12T08:00:00",
          "2023-02-12T09:00:00",
          "2023-02-12T10:00:00",
          "2023-02-12T11:00:00",
          "2023-02-12T12:00:00",
          "2023-02-12T13:00:00",
          "2023-02-12T14:00:00",
          "2023-02-12T15:00:00",
          "2023-02-12T16:00:00",
          "2023-02-12T17:00:00",
          "2023-02-12T18:00:00",
          "2023-02-12T19:00:00",
          "2023-02-12T20:00:00",
          "2023-02-12T21:00:00",
          "2023-02-12T22:00:00",
          "2023-02-12T23:00:00",
          "2023-02-13T00:00:00",
          "2023-02-13T01:00:00",
          "2023-02-13T02:00:00",
          "2023-02-13T03:00:00",
          "2023-02-13T04:00:00",
          "2023-02-13T05:00:00",
          "2023-02-13T06:00:00",
          "2023-02-13T07:00:00",
          "2023-02-13T08:00:00",
          "2023-02-13T09:00:00",
          "2023-02-13T10:00:00",
          "2023-02-13T11:00:00",
          "2023-02-13T12:00:00",
          "2023-02-13T13:00:00",
          "2023-02-13T14:00:00",
          "2023-02-13T15:00:00",
          "2023-02-13T16:00:00",
          "2023-02-13T17:00:00",
          "2023-02-13T18:00:00",
          "2023-02-13T19:00:00",
          "2023-02-13T20:00:00",
          "2023-02-13T21:00:00",
          "2023-02-13T22:00:00",
          "2023-02-13T23:00:00",
          "2023-02-14T00:00:00",
          "2023-02-14T01:00:00",
          "2023-02-14T02:00:00",
          "2023-02-14T03:00:00",
          "2023-02-14T04:00:00",
          "2023-02-14T05:00:00",
          "2023-02-14T06:00:00",
          "2023-02-14T07:00:00",
          "2023-02-14T08:00:00",
          "2023-02-14T09:00:00",
          "2023-02-14T10:00:00",
          "2023-02-14T11:00:00",
          "2023-02-14T12:00:00",
          "2023-02-14T13:00:00",
          "2023-02-14T14:00:00",
          "2023-02-14T15:00:00",
          "2023-02-14T16:00:00",
          "2023-02-14T17:00:00",
          "2023-02-14T18:00:00",
          "2023-02-14T19:00:00",
          "2023-02-14T20:00:00",
          "2023-02-14T21:00:00",
          "2023-02-14T22:00:00",
          "2023-02-14T23:00:00",
          "2023-02-15T00:00:00",
          "2023-02-15T01:00:00",
          "2023-02-15T02:00:00",
          "2023-02-15T03:00:00",
          "2023-02-15T04:00:00",
          "2023-02-15T05:00:00",
          "2023-02-15T06:00:00",
          "2023-02-15T07:00:00",
          "2023-02-15T08:00:00",
          "2023-02-15T09:00:00",
          "2023-02-15T10:00:00",
          "2023-02-15T11:00:00",
          "2023-02-15T12:00:00",
          "2023-02-15T13:00:00",
          "2023-02-15T14:00:00",
          "2023-02-15T15:00:00",
          "2023-02-15T16:00:00",
          "2023-02-15T17:00:00",
          "2023-02-15T18:00:00",
          "2023-02-15T19:00:00",
          "2023-02-15T20:00:00",
          "2023-02-15T21:00:00",
          "2023-02-15T22:00:00",
          "2023-02-15T23:00:00",
          "2023-02-16T00:00:00",
          "2023-02-16T01:00:00",
          "2023-02-16T02:00:00",
          "2023-02-16T03:00:00",
          "2023-02-16T04:00:00",
          "2023-02-16T05:00:00",
          "2023-02-16T06:00:00",
          "2023-02-16T07:00:00",
          "2023-02-16T08:00:00",
          "2023-02-16T09:00:00",
          "2023-02-16T10:00:00",
          "2023-02-16T11:00:00",
          "2023-02-16T12:00:00",
          "2023-02-16T13:00:00",
          "2023-02-16T14:00:00",
          "2023-02-16T15:00:00",
          "2023-02-16T16:00:00",
          "2023-02-16T17:00:00",
          "2023-02-16T18:00:00",
          "2023-02-16T19:00:00",
          "2023-02-16T20:00:00",
          "2023-02-16T21:00:00",
          "2023-02-16T22:00:00",
          "2023-02-16T23:00:00",
          "2023-02-17T00:00:00",
          "2023-02-17T01:00:00",
          "2023-02-17T02:00:00",
          "2023-02-17T03:00:00",
          "2023-02-17T04:00:00",
          "2023-02-17T05:00:00",
          "2023-02-17T06:00:00",
          "2023-02-17T07:00:00",
          "2023-02-17T08:00:00",
          "2023-02-17T09:00:00",
          "2023-02-17T10:00:00",
          "2023-02-17T11:00:00",
          "2023-02-17T12:00:00",
          "2023-02-17T13:00:00",
          "2023-02-17T14:00:00",
          "2023-02-17T15:00:00",
          "2023-02-17T16:00:00",
          "2023-02-17T17:00:00",
          "2023-02-17T18:00:00",
          "2023-02-17T19:00:00",
          "2023-02-17T20:00:00",
          "2023-02-17T21:00:00",
          "2023-02-17T22:00:00",
          "2023-02-17T23:00:00",
          "2023-02-18T00:00:00",
          "2023-02-18T01:00:00",
          "2023-02-18T02:00:00",
          "2023-02-18T03:00:00",
          "2023-02-18T04:00:00",
          "2023-02-18T05:00:00",
          "2023-02-18T06:00:00",
          "2023-02-18T07:00:00",
          "2023-02-18T08:00:00",
          "2023-02-18T09:00:00",
          "2023-02-18T10:00:00",
          "2023-02-18T11:00:00",
          "2023-02-18T12:00:00",
          "2023-02-18T13:00:00",
          "2023-02-18T14:00:00",
          "2023-02-18T15:00:00",
          "2023-02-18T16:00:00",
          "2023-02-18T17:00:00",
          "2023-02-18T18:00:00",
          "2023-02-18T19:00:00",
          "2023-02-18T20:00:00",
          "2023-02-18T21:00:00",
          "2023-02-18T22:00:00",
          "2023-02-18T23:00:00",
          "2023-02-19T00:00:00",
          "2023-02-19T01:00:00",
          "2023-02-19T02:00:00",
          "2023-02-19T03:00:00",
          "2023-02-19T04:00:00",
          "2023-02-19T05:00:00",
          "2023-02-19T06:00:00",
          "2023-02-19T07:00:00",
          "2023-02-19T08:00:00",
          "2023-02-19T09:00:00",
          "2023-02-19T10:00:00",
          "2023-02-19T11:00:00",
          "2023-02-19T12:00:00",
          "2023-02-19T13:00:00",
          "2023-02-19T14:00:00",
          "2023-02-19T15:00:00",
          "2023-02-19T16:00:00",
          "2023-02-19T17:00:00",
          "2023-02-19T18:00:00",
          "2023-02-19T19:00:00",
          "2023-02-19T20:00:00",
          "2023-02-19T21:00:00",
          "2023-02-19T22:00:00",
          "2023-02-19T23:00:00",
          "2023-02-20T00:00:00",
          "2023-02-20T01:00:00",
          "2023-02-20T02:00:00",
          "2023-02-20T03:00:00",
          "2023-02-20T04:00:00",
          "2023-02-20T05:00:00",
          "2023-02-20T06:00:00",
          "2023-02-20T07:00:00",
          "2023-02-20T08:00:00",
          "2023-02-20T09:00:00",
          "2023-02-20T10:00:00",
          "2023-02-20T11:00:00",
          "2023-02-20T12:00:00",
          "2023-02-20T13:00:00",
          "2023-02-20T14:00:00",
          "2023-02-20T15:00:00",
          "2023-02-20T16:00:00",
          "2023-02-20T17:00:00",
          "2023-02-20T18:00:00",
          "2023-02-20T19:00:00",
          "2023-02-20T20:00:00",
          "2023-02-20T21:00:00",
          "2023-02-20T22:00:00",
          "2023-02-20T23:00:00",
          "2023-02-21T00:00:00",
          "2023-02-21T01:00:00",
          "2023-02-21T02:00:00",
          "2023-02-21T03:00:00",
          "2023-02-21T04:00:00",
          "2023-02-21T05:00:00",
          "2023-02-21T06:00:00",
          "2023-02-21T07:00:00",
          "2023-02-21T08:00:00",
          "2023-02-21T09:00:00",
          "2023-02-21T10:00:00",
          "2023-02-21T11:00:00",
          "2023-02-21T12:00:00",
          "2023-02-21T13:00:00",
          "2023-02-21T14:00:00",
          "2023-02-21T15:00:00",
          "2023-02-21T16:00:00",
          "2023-02-21T17:00:00",
          "2023-02-21T18:00:00",
          "2023-02-21T19:00:00",
          "2023-02-21T20:00:00",
          "2023-02-21T21:00:00",
          "2023-02-21T22:00:00",
          "2023-02-21T23:00:00",
          "2023-02-22T00:00:00",
          "2023-02-22T01:00:00",
          "2023-02-22T02:00:00",
          "2023-02-22T03:00:00",
          "2023-02-22T04:00:00",
          "2023-02-22T05:00:00",
          "2023-02-22T06:00:00",
          "2023-02-22T07:00:00",
          "2023-02-22T08:00:00",
          "2023-02-22T09:00:00",
          "2023-02-22T10:00:00",
          "2023-02-22T11:00:00",
          "2023-02-22T12:00:00",
          "2023-02-22T13:00:00",
          "2023-02-22T14:00:00",
          "2023-02-22T15:00:00",
          "2023-02-22T16:00:00",
          "2023-02-22T17:00:00",
          "2023-02-22T18:00:00",
          "2023-02-22T19:00:00",
          "2023-02-22T20:00:00",
          "2023-02-22T21:00:00",
          "2023-02-22T22:00:00",
          "2023-02-22T23:00:00",
          "2023-02-23T00:00:00",
          "2023-02-23T01:00:00",
          "2023-02-23T02:00:00",
          "2023-02-23T03:00:00",
          "2023-02-23T04:00:00",
          "2023-02-23T05:00:00",
          "2023-02-23T06:00:00",
          "2023-02-23T07:00:00",
          "2023-02-23T08:00:00",
          "2023-02-23T09:00:00",
          "2023-02-23T10:00:00",
          "2023-02-23T11:00:00",
          "2023-02-23T12:00:00",
          "2023-02-23T13:00:00",
          "2023-02-23T14:00:00",
          "2023-02-23T15:00:00",
          "2023-02-23T16:00:00",
          "2023-02-23T17:00:00",
          "2023-02-23T18:00:00",
          "2023-02-23T19:00:00",
          "2023-02-23T20:00:00",
          "2023-02-23T21:00:00",
          "2023-02-23T22:00:00",
          "2023-02-23T23:00:00",
          "2023-02-24T00:00:00",
          "2023-02-24T01:00:00",
          "2023-02-24T02:00:00",
          "2023-02-24T03:00:00",
          "2023-02-24T04:00:00",
          "2023-02-24T05:00:00",
          "2023-02-24T06:00:00",
          "2023-02-24T07:00:00",
          "2023-02-24T08:00:00",
          "2023-02-24T09:00:00",
          "2023-02-24T10:00:00",
          "2023-02-24T11:00:00",
          "2023-02-24T12:00:00",
          "2023-02-24T13:00:00",
          "2023-02-24T14:00:00",
          "2023-02-24T15:00:00",
          "2023-02-24T16:00:00",
          "2023-02-24T17:00:00",
          "2023-02-24T18:00:00",
          "2023-02-24T19:00:00",
          "2023-02-24T20:00:00",
          "2023-02-24T21:00:00",
          "2023-02-24T22:00:00",
          "2023-02-24T23:00:00",
          "2023-02-25T00:00:00",
          "2023-02-25T01:00:00",
          "2023-02-25T02:00:00",
          "2023-02-25T03:00:00",
          "2023-02-25T04:00:00",
          "2023-02-25T05:00:00",
          "2023-02-25T06:00:00",
          "2023-02-25T07:00:00",
          "2023-02-25T08:00:00",
          "2023-02-25T09:00:00",
          "2023-02-25T10:00:00",
          "2023-02-25T11:00:00",
          "2023-02-25T12:00:00",
          "2023-02-25T13:00:00",
          "2023-02-25T14:00:00",
          "2023-02-25T15:00:00",
          "2023-02-25T16:00:00",
          "2023-02-25T17:00:00",
          "2023-02-25T18:00:00",
          "2023-02-25T19:00:00",
          "2023-02-25T20:00:00",
          "2023-02-25T21:00:00",
          "2023-02-25T22:00:00",
          "2023-02-25T23:00:00",
          "2023-02-26T00:00:00",
          "2023-02-26T01:00:00",
          "2023-02-26T02:00:00",
          "2023-02-26T03:00:00",
          "2023-02-26T04:00:00",
          "2023-02-26T05:00:00",
          "2023-02-26T06:00:00",
          "2023-02-26T07:00:00",
          "2023-02-26T08:00:00",
          "2023-02-26T09:00:00",
          "2023-02-26T10:00:00",
          "2023-02-26T11:00:00",
          "2023-02-26T12:00:00",
          "2023-02-26T13:00:00",
          "2023-02-26T14:00:00",
          "2023-02-26T15:00:00",
          "2023-02-26T16:00:00",
          "2023-02-26T17:00:00",
          "2023-02-26T18:00:00",
          "2023-02-26T19:00:00",
          "2023-02-26T20:00:00",
          "2023-02-26T21:00:00",
          "2023-02-26T22:00:00",
          "2023-02-26T23:00:00",
          "2023-02-27T00:00:00",
          "2023-02-27T01:00:00",
          "2023-02-27T02:00:00",
          "2023-02-27T03:00:00",
          "2023-02-27T04:00:00",
          "2023-02-27T05:00:00",
          "2023-02-27T06:00:00",
          "2023-02-27T07:00:00",
          "2023-02-27T08:00:00",
          "2023-02-27T09:00:00",
          "2023-02-27T10:00:00",
          "2023-02-27T11:00:00",
          "2023-02-27T12:00:00",
          "2023-02-27T13:00:00",
          "2023-02-27T14:00:00",
          "2023-02-27T15:00:00",
          "2023-02-27T16:00:00",
          "2023-02-27T17:00:00",
          "2023-02-27T18:00:00",
          "2023-02-27T19:00:00",
          "2023-02-27T20:00:00",
          "2023-02-27T21:00:00",
          "2023-02-27T22:00:00",
          "2023-02-27T23:00:00",
          "2023-02-28T00:00:00",
          "2023-02-28T01:00:00",
          "2023-02-28T02:00:00",
          "2023-02-28T03:00:00",
          "2023-02-28T04:00:00",
          "2023-02-28T05:00:00",
          "2023-02-28T06:00:00",
          "2023-02-28T07:00:00",
          "2023-02-28T08:00:00",
          "2023-02-28T09:00:00",
          "2023-02-28T10:00:00",
          "2023-02-28T11:00:00",
          "2023-02-28T12:00:00",
          "2023-02-28T13:00:00",
          "2023-02-28T14:00:00",
          "2023-02-28T15:00:00",
          "2023-02-28T16:00:00",
          "2023-02-28T17:00:00",
          "2023-02-28T18:00:00",
          "2023-02-28T19:00:00",
          "2023-02-28T20:00:00",
          "2023-02-28T21:00:00",
          "2023-02-28T22:00:00",
          "2023-02-28T23:00:00",
          "2023-03-01T00:00:00",
          "2023-03-01T01:00:00",
          "2023-03-01T02:00:00",
          "2023-03-01T03:00:00",
          "2023-03-01T04:00:00",
          "2023-03-01T05:00:00",
          "2023-03-01T06:00:00",
          "2023-03-01T07:00:00",
          "2023-03-01T08:00:00",
          "2023-03-01T09:00:00",
          "2023-03-01T10:00:00",
          "2023-03-01T11:00:00",
          "2023-03-01T12:00:00",
          "2023-03-01T13:00:00",
          "2023-03-01T14:00:00",
          "2023-03-01T15:00:00",
          "2023-03-01T16:00:00",
          "2023-03-01T17:00:00",
          "2023-03-01T18:00:00",
          "2023-03-01T19:00:00",
          "2023-03-01T20:00:00",
          "2023-03-01T21:00:00",
          "2023-03-01T22:00:00",
          "2023-03-01T23:00:00",
          "2023-03-02T00:00:00",
          "2023-03-02T01:00:00",
          "2023-03-02T02:00:00",
          "2023-03-02T03:00:00",
          "2023-03-02T04:00:00",
          "2023-03-02T05:00:00",
          "2023-03-02T06:00:00",
          "2023-03-02T07:00:00",
          "2023-03-02T08:00:00",
          "2023-03-02T09:00:00",
          "2023-03-02T10:00:00",
          "2023-03-02T11:00:00",
          "2023-03-02T12:00:00",
          "2023-03-02T13:00:00",
          "2023-03-02T14:00:00",
          "2023-03-02T15:00:00",
          "2023-03-02T16:00:00",
          "2023-03-02T17:00:00",
          "2023-03-02T18:00:00",
          "2023-03-02T19:00:00",
          "2023-03-02T20:00:00",
          "2023-03-02T21:00:00",
          "2023-03-02T22:00:00",
          "2023-03-02T23:00:00",
          "2023-03-03T00:00:00",
          "2023-03-03T01:00:00",
          "2023-03-03T02:00:00",
          "2023-03-03T03:00:00",
          "2023-03-03T04:00:00",
          "2023-03-03T05:00:00",
          "2023-03-03T06:00:00",
          "2023-03-03T07:00:00",
          "2023-03-03T08:00:00",
          "2023-03-03T09:00:00",
          "2023-03-03T10:00:00",
          "2023-03-03T11:00:00",
          "2023-03-03T12:00:00",
          "2023-03-03T13:00:00",
          "2023-03-03T14:00:00",
          "2023-03-03T15:00:00",
          "2023-03-03T16:00:00",
          "2023-03-03T17:00:00",
          "2023-03-03T18:00:00",
          "2023-03-03T19:00:00",
          "2023-03-03T20:00:00",
          "2023-03-03T21:00:00",
          "2023-03-03T22:00:00",
          "2023-03-03T23:00:00",
          "2023-03-04T00:00:00",
          "2023-03-04T01:00:00",
          "2023-03-04T02:00:00",
          "2023-03-04T03:00:00",
          "2023-03-04T04:00:00",
          "2023-03-04T05:00:00",
          "2023-03-04T06:00:00",
          "2023-03-04T07:00:00",
          "2023-03-04T08:00:00",
          "2023-03-04T09:00:00",
          "2023-03-04T10:00:00",
          "2023-03-04T11:00:00",
          "2023-03-04T12:00:00",
          "2023-03-04T13:00:00",
          "2023-03-04T14:00:00",
          "2023-03-04T15:00:00",
          "2023-03-04T16:00:00",
          "2023-03-04T17:00:00",
          "2023-03-04T18:00:00",
          "2023-03-04T19:00:00",
          "2023-03-04T20:00:00",
          "2023-03-04T21:00:00",
          "2023-03-04T22:00:00",
          "2023-03-04T23:00:00",
          "2023-03-05T00:00:00",
          "2023-03-05T01:00:00",
          "2023-03-05T02:00:00",
          "2023-03-05T03:00:00",
          "2023-03-05T04:00:00",
          "2023-03-05T05:00:00",
          "2023-03-05T06:00:00",
          "2023-03-05T07:00:00",
          "2023-03-05T08:00:00",
          "2023-03-05T09:00:00",
          "2023-03-05T10:00:00",
          "2023-03-05T11:00:00",
          "2023-03-05T12:00:00",
          "2023-03-05T13:00:00",
          "2023-03-05T14:00:00",
          "2023-03-05T15:00:00",
          "2023-03-05T16:00:00",
          "2023-03-05T17:00:00",
          "2023-03-05T18:00:00",
          "2023-03-05T19:00:00",
          "2023-03-05T20:00:00",
          "2023-03-05T21:00:00",
          "2023-03-05T22:00:00",
          "2023-03-05T23:00:00",
          "2023-03-06T00:00:00",
          "2023-03-06T01:00:00",
          "2023-03-06T02:00:00",
          "2023-03-06T03:00:00",
          "2023-03-06T04:00:00",
          "2023-03-06T05:00:00",
          "2023-03-06T06:00:00",
          "2023-03-06T07:00:00",
          "2023-03-06T08:00:00",
          "2023-03-06T09:00:00",
          "2023-03-06T10:00:00",
          "2023-03-06T11:00:00",
          "2023-03-06T12:00:00",
          "2023-03-06T13:00:00",
          "2023-03-06T14:00:00",
          "2023-03-06T15:00:00",
          "2023-03-06T16:00:00",
          "2023-03-06T17:00:00",
          "2023-03-06T18:00:00",
          "2023-03-06T19:00:00",
          "2023-03-06T20:00:00",
          "2023-03-06T21:00:00",
          "2023-03-06T22:00:00",
          "2023-03-06T23:00:00",
          "2023-03-07T00:00:00",
          "2023-03-07T01:00:00",
          "2023-03-07T02:00:00",
          "2023-03-07T03:00:00",
          "2023-03-07T04:00:00",
          "2023-03-07T05:00:00",
          "2023-03-07T06:00:00",
          "2023-03-07T07:00:00",
          "2023-03-07T08:00:00",
          "2023-03-07T09:00:00",
          "2023-03-07T10:00:00",
          "2023-03-07T11:00:00",
          "2023-03-07T12:00:00",
          "2023-03-07T13:00:00",
          "2023-03-07T14:00:00",
          "2023-03-07T15:00:00",
          "2023-03-07T16:00:00",
          "2023-03-07T17:00:00",
          "2023-03-07T18:00:00",
          "2023-03-07T19:00:00",
          "2023-03-07T20:00:00",
          "2023-03-07T21:00:00",
          "2023-03-07T22:00:00",
          "2023-03-07T23:00:00",
          "2023-03-08T00:00:00",
          "2023-03-08T01:00:00",
          "2023-03-08T02:00:00",
          "2023-03-08T03:00:00",
          "2023-03-08T04:00:00",
          "2023-03-08T05:00:00",
          "2023-03-08T06:00:00",
          "2023-03-08T07:00:00",
          "2023-03-08T08:00:00",
          "2023-03-08T09:00:00",
          "2023-03-08T10:00:00",
          "2023-03-08T11:00:00",
          "2023-03-08T12:00:00",
          "2023-03-08T13:00:00",
          "2023-03-08T14:00:00",
          "2023-03-08T15:00:00",
          "2023-03-08T16:00:00",
          "2023-03-08T17:00:00",
          "2023-03-08T18:00:00",
          "2023-03-08T19:00:00",
          "2023-03-08T20:00:00",
          "2023-03-08T21:00:00",
          "2023-03-08T22:00:00",
          "2023-03-08T23:00:00",
          "2023-03-09T00:00:00",
          "2023-03-09T01:00:00",
          "2023-03-09T02:00:00",
          "2023-03-09T03:00:00",
          "2023-03-09T04:00:00",
          "2023-03-09T05:00:00",
          "2023-03-09T06:00:00",
          "2023-03-09T07:00:00",
          "2023-03-09T08:00:00",
          "2023-03-09T09:00:00",
          "2023-03-09T10:00:00",
          "2023-03-09T11:00:00",
          "2023-03-09T12:00:00",
          "2023-03-09T13:00:00",
          "2023-03-09T14:00:00",
          "2023-03-09T15:00:00",
          "2023-03-09T16:00:00",
          "2023-03-09T17:00:00",
          "2023-03-09T18:00:00",
          "2023-03-09T19:00:00",
          "2023-03-09T20:00:00",
          "2023-03-09T21:00:00",
          "2023-03-09T22:00:00",
          "2023-03-09T23:00:00",
          "2023-03-10T00:00:00",
          "2023-03-10T01:00:00",
          "2023-03-10T02:00:00",
          "2023-03-10T03:00:00",
          "2023-03-10T04:00:00",
          "2023-03-10T05:00:00",
          "2023-03-10T06:00:00",
          "2023-03-10T07:00:00",
          "2023-03-10T08:00:00",
          "2023-03-10T09:00:00",
          "2023-03-10T10:00:00",
          "2023-03-10T11:00:00",
          "2023-03-10T12:00:00",
          "2023-03-10T13:00:00",
          "2023-03-10T14:00:00",
          "2023-03-10T15:00:00",
          "2023-03-10T16:00:00",
          "2023-03-10T17:00:00",
          "2023-03-10T18:00:00",
          "2023-03-10T19:00:00",
          "2023-03-10T20:00:00",
          "2023-03-10T21:00:00",
          "2023-03-10T22:00:00",
          "2023-03-10T23:00:00",
          "2023-03-11T00:00:00",
          "2023-03-11T01:00:00",
          "2023-03-11T02:00:00",
          "2023-03-11T03:00:00",
          "2023-03-11T04:00:00",
          "2023-03-11T05:00:00",
          "2023-03-11T06:00:00",
          "2023-03-11T07:00:00",
          "2023-03-11T08:00:00",
          "2023-03-11T09:00:00",
          "2023-03-11T10:00:00",
          "2023-03-11T11:00:00",
          "2023-03-11T12:00:00",
          "2023-03-11T13:00:00",
          "2023-03-11T14:00:00",
          "2023-03-11T15:00:00",
          "2023-03-11T16:00:00",
          "2023-03-11T17:00:00",
          "2023-03-11T18:00:00",
          "2023-03-11T19:00:00",
          "2023-03-11T20:00:00",
          "2023-03-11T21:00:00",
          "2023-03-11T22:00:00",
          "2023-03-11T23:00:00",
          "2023-03-12T00:00:00",
          "2023-03-12T01:00:00",
          "2023-03-12T02:00:00",
          "2023-03-12T03:00:00",
          "2023-03-12T04:00:00",
          "2023-03-12T05:00:00",
          "2023-03-12T06:00:00",
          "2023-03-12T07:00:00",
          "2023-03-12T08:00:00",
          "2023-03-12T09:00:00",
          "2023-03-12T10:00:00",
          "2023-03-12T11:00:00",
          "2023-03-12T12:00:00",
          "2023-03-12T13:00:00",
          "2023-03-12T14:00:00",
          "2023-03-12T15:00:00",
          "2023-03-12T16:00:00",
          "2023-03-12T17:00:00",
          "2023-03-12T18:00:00",
          "2023-03-12T19:00:00",
          "2023-03-12T20:00:00",
          "2023-03-12T21:00:00",
          "2023-03-12T22:00:00",
          "2023-03-12T23:00:00",
          "2023-03-13T00:00:00",
          "2023-03-13T01:00:00",
          "2023-03-13T02:00:00",
          "2023-03-13T03:00:00",
          "2023-03-13T04:00:00",
          "2023-03-13T05:00:00",
          "2023-03-13T06:00:00",
          "2023-03-13T07:00:00",
          "2023-03-13T08:00:00",
          "2023-03-13T09:00:00",
          "2023-03-13T10:00:00",
          "2023-03-13T11:00:00",
          "2023-03-13T12:00:00",
          "2023-03-13T13:00:00",
          "2023-03-13T14:00:00",
          "2023-03-13T15:00:00",
          "2023-03-13T16:00:00",
          "2023-03-13T17:00:00",
          "2023-03-13T18:00:00",
          "2023-03-13T19:00:00",
          "2023-03-13T20:00:00",
          "2023-03-13T21:00:00",
          "2023-03-13T22:00:00",
          "2023-03-13T23:00:00",
          "2023-03-14T00:00:00",
          "2023-03-14T01:00:00",
          "2023-03-14T02:00:00",
          "2023-03-14T03:00:00",
          "2023-03-14T04:00:00",
          "2023-03-14T05:00:00",
          "2023-03-14T06:00:00",
          "2023-03-14T07:00:00",
          "2023-03-14T08:00:00",
          "2023-03-14T09:00:00",
          "2023-03-14T10:00:00",
          "2023-03-14T11:00:00",
          "2023-03-14T12:00:00",
          "2023-03-14T13:00:00",
          "2023-03-14T14:00:00",
          "2023-03-14T15:00:00",
          "2023-03-14T16:00:00",
          "2023-03-14T17:00:00",
          "2023-03-14T18:00:00",
          "2023-03-14T19:00:00",
          "2023-03-14T20:00:00",
          "2023-03-14T21:00:00",
          "2023-03-14T22:00:00",
          "2023-03-14T23:00:00",
          "2023-03-15T00:00:00",
          "2023-03-15T01:00:00",
          "2023-03-15T02:00:00",
          "2023-03-15T03:00:00",
          "2023-03-15T04:00:00",
          "2023-03-15T05:00:00",
          "2023-03-15T06:00:00",
          "2023-03-15T07:00:00",
          "2023-03-15T08:00:00",
          "2023-03-15T09:00:00",
          "2023-03-15T10:00:00",
          "2023-03-15T11:00:00",
          "2023-03-15T12:00:00",
          "2023-03-15T13:00:00",
          "2023-03-15T14:00:00",
          "2023-03-15T15:00:00",
          "2023-03-15T16:00:00",
          "2023-03-15T17:00:00",
          "2023-03-15T18:00:00",
          "2023-03-15T19:00:00",
          "2023-03-15T20:00:00",
          "2023-03-15T21:00:00",
          "2023-03-15T22:00:00",
          "2023-03-15T23:00:00",
          "2023-03-16T00:00:00",
          "2023-03-16T01:00:00",
          "2023-03-16T02:00:00",
          "2023-03-16T03:00:00",
          "2023-03-16T04:00:00",
          "2023-03-16T05:00:00",
          "2023-03-16T06:00:00",
          "2023-03-16T07:00:00",
          "2023-03-16T08:00:00",
          "2023-03-16T09:00:00",
          "2023-03-16T10:00:00",
          "2023-03-16T11:00:00",
          "2023-03-16T12:00:00",
          "2023-03-16T13:00:00",
          "2023-03-16T14:00:00",
          "2023-03-16T15:00:00",
          "2023-03-16T16:00:00",
          "2023-03-16T17:00:00",
          "2023-03-16T18:00:00",
          "2023-03-16T19:00:00",
          "2023-03-16T20:00:00",
          "2023-03-16T21:00:00",
          "2023-03-16T22:00:00",
          "2023-03-16T23:00:00",
          "2023-03-17T00:00:00",
          "2023-03-17T01:00:00",
          "2023-03-17T02:00:00",
          "2023-03-17T03:00:00",
          "2023-03-17T04:00:00",
          "2023-03-17T05:00:00",
          "2023-03-17T06:00:00",
          "2023-03-17T07:00:00",
          "2023-03-17T08:00:00",
          "2023-03-17T09:00:00",
          "2023-03-17T10:00:00",
          "2023-03-17T11:00:00",
          "2023-03-17T12:00:00",
          "2023-03-17T13:00:00",
          "2023-03-17T14:00:00",
          "2023-03-17T15:00:00",
          "2023-03-17T16:00:00",
          "2023-03-17T17:00:00",
          "2023-03-17T18:00:00",
          "2023-03-17T19:00:00",
          "2023-03-17T20:00:00",
          "2023-03-17T21:00:00",
          "2023-03-17T22:00:00",
          "2023-03-17T23:00:00",
          "2023-03-18T00:00:00",
          "2023-03-18T01:00:00",
          "2023-03-18T02:00:00",
          "2023-03-18T03:00:00",
          "2023-03-18T04:00:00",
          "2023-03-18T05:00:00",
          "2023-03-18T06:00:00",
          "2023-03-18T07:00:00",
          "2023-03-18T08:00:00",
          "2023-03-18T09:00:00",
          "2023-03-18T10:00:00",
          "2023-03-18T11:00:00",
          "2023-03-18T12:00:00",
          "2023-03-18T13:00:00",
          "2023-03-18T14:00:00",
          "2023-03-18T15:00:00",
          "2023-03-18T16:00:00",
          "2023-03-18T17:00:00",
          "2023-03-18T18:00:00",
          "2023-03-18T19:00:00",
          "2023-03-18T20:00:00",
          "2023-03-18T21:00:00",
          "2023-03-18T22:00:00",
          "2023-03-18T23:00:00",
          "2023-03-19T00:00:00",
          "2023-03-19T01:00:00",
          "2023-03-19T02:00:00",
          "2023-03-19T03:00:00",
          "2023-03-19T04:00:00",
          "2023-03-19T05:00:00",
          "2023-03-19T06:00:00",
          "2023-03-19T07:00:00",
          "2023-03-19T08:00:00",
          "2023-03-19T09:00:00",
          "2023-03-19T10:00:00",
          "2023-03-19T11:00:00",
          "2023-03-19T12:00:00",
          "2023-03-19T13:00:00",
          "2023-03-19T14:00:00",
          "2023-03-19T15:00:00",
          "2023-03-19T16:00:00",
          "2023-03-19T17:00:00",
          "2023-03-19T18:00:00",
          "2023-03-19T19:00:00",
          "2023-03-19T20:00:00",
          "2023-03-19T21:00:00",
          "2023-03-19T22:00:00",
          "2023-03-19T23:00:00",
          "2023-03-20T00:00:00",
          "2023-03-20T01:00:00",
          "2023-03-20T02:00:00",
          "2023-03-20T03:00:00",
          "2023-03-20T04:00:00",
          "2023-03-20T05:00:00",
          "2023-03-20T06:00:00",
          "2023-03-20T07:00:00",
          "2023-03-20T08:00:00",
          "2023-03-20T09:00:00",
          "2023-03-20T10:00:00",
          "2023-03-20T11:00:00",
          "2023-03-20T12:00:00",
          "2023-03-20T13:00:00",
          "2023-03-20T14:00:00",
          "2023-03-20T15:00:00",
          "2023-03-20T16:00:00",
          "2023-03-20T17:00:00",
          "2023-03-20T18:00:00",
          "2023-03-20T19:00:00",
          "2023-03-20T20:00:00",
          "2023-03-20T21:00:00",
          "2023-03-20T22:00:00",
          "2023-03-20T23:00:00",
          "2023-03-21T00:00:00",
          "2023-03-21T01:00:00",
          "2023-03-21T02:00:00",
          "2023-03-21T03:00:00",
          "2023-03-21T04:00:00",
          "2023-03-21T05:00:00",
          "2023-03-21T06:00:00",
          "2023-03-21T07:00:00",
          "2023-03-21T08:00:00",
          "2023-03-21T09:00:00",
          "2023-03-21T10:00:00",
          "2023-03-21T11:00:00",
          "2023-03-21T12:00:00",
          "2023-03-21T13:00:00",
          "2023-03-21T14:00:00",
          "2023-03-21T15:00:00",
          "2023-03-21T16:00:00",
          "2023-03-21T17:00:00",
          "2023-03-21T18:00:00",
          "2023-03-21T19:00:00",
          "2023-03-21T20:00:00",
          "2023-03-21T21:00:00",
          "2023-03-21T22:00:00",
          "2023-03-21T23:00:00",
          "2023-03-22T00:00:00",
          "2023-03-22T01:00:00",
          "2023-03-22T02:00:00",
          "2023-03-22T03:00:00",
          "2023-03-22T04:00:00",
          "2023-03-22T05:00:00",
          "2023-03-22T06:00:00",
          "2023-03-22T07:00:00",
          "2023-03-22T08:00:00",
          "2023-03-22T09:00:00",
          "2023-03-22T10:00:00",
          "2023-03-22T11:00:00",
          "2023-03-22T12:00:00",
          "2023-03-22T13:00:00",
          "2023-03-22T14:00:00",
          "2023-03-22T15:00:00",
          "2023-03-22T16:00:00",
          "2023-03-22T17:00:00",
          "2023-03-22T18:00:00",
          "2023-03-22T19:00:00",
          "2023-03-22T20:00:00",
          "2023-03-22T21:00:00",
          "2023-03-22T22:00:00",
          "2023-03-22T23:00:00",
          "2023-03-23T00:00:00",
          "2023-03-23T01:00:00",
          "2023-03-23T02:00:00",
          "2023-03-23T03:00:00",
          "2023-03-23T04:00:00",
          "2023-03-23T05:00:00",
          "2023-03-23T06:00:00",
          "2023-03-23T07:00:00",
          "2023-03-23T08:00:00",
          "2023-03-23T09:00:00",
          "2023-03-23T10:00:00",
          "2023-03-23T11:00:00",
          "2023-03-23T12:00:00",
          "2023-03-23T13:00:00",
          "2023-03-23T14:00:00",
          "2023-03-23T15:00:00",
          "2023-03-23T16:00:00",
          "2023-03-23T17:00:00",
          "2023-03-23T18:00:00",
          "2023-03-23T19:00:00",
          "2023-03-23T20:00:00",
          "2023-03-23T21:00:00",
          "2023-03-23T22:00:00",
          "2023-03-23T23:00:00",
          "2023-03-24T00:00:00",
          "2023-03-24T01:00:00",
          "2023-03-24T02:00:00",
          "2023-03-24T03:00:00",
          "2023-03-24T04:00:00",
          "2023-03-24T05:00:00",
          "2023-03-24T06:00:00",
          "2023-03-24T07:00:00",
          "2023-03-24T08:00:00",
          "2023-03-24T09:00:00",
          "2023-03-24T10:00:00",
          "2023-03-24T11:00:00",
          "2023-03-24T12:00:00",
          "2023-03-24T13:00:00",
          "2023-03-24T14:00:00",
          "2023-03-24T15:00:00",
          "2023-03-24T16:00:00",
          "2023-03-24T17:00:00",
          "2023-03-24T18:00:00",
          "2023-03-24T19:00:00",
          "2023-03-24T20:00:00",
          "2023-03-24T21:00:00",
          "2023-03-24T22:00:00",
          "2023-03-24T23:00:00",
          "2023-03-25T00:00:00",
          "2023-03-25T01:00:00",
          "2023-03-25T02:00:00",
          "2023-03-25T03:00:00",
          "2023-03-25T04:00:00",
          "2023-03-25T05:00:00",
          "2023-03-25T06:00:00",
          "2023-03-25T07:00:00",
          "2023-03-25T08:00:00",
          "2023-03-25T09:00:00",
          "2023-03-25T10:00:00",
          "2023-03-25T11:00:00",
          "2023-03-25T12:00:00",
          "2023-03-25T13:00:00",
          "2023-03-25T14:00:00",
          "2023-03-25T15:00:00",
          "2023-03-25T16:00:00",
          "2023-03-25T17:00:00",
          "2023-03-25T18:00:00",
          "2023-03-25T19:00:00",
          "2023-03-25T20:00:00",
          "2023-03-25T21:00:00",
          "2023-03-25T22:00:00",
          "2023-03-25T23:00:00",
          "2023-03-26T00:00:00",
          "2023-03-26T01:00:00",
          "2023-03-26T02:00:00",
          "2023-03-26T03:00:00",
          "2023-03-26T04:00:00",
          "2023-03-26T05:00:00",
          "2023-03-26T06:00:00",
          "2023-03-26T07:00:00",
          "2023-03-26T08:00:00",
          "2023-03-26T09:00:00",
          "2023-03-26T10:00:00",
          "2023-03-26T11:00:00",
          "2023-03-26T12:00:00",
          "2023-03-26T13:00:00",
          "2023-03-26T14:00:00",
          "2023-03-26T15:00:00",
          "2023-03-26T16:00:00",
          "2023-03-26T17:00:00",
          "2023-03-26T18:00:00",
          "2023-03-26T19:00:00",
          "2023-03-26T20:00:00",
          "2023-03-26T21:00:00",
          "2023-03-26T22:00:00",
          "2023-03-26T23:00:00",
          "2023-03-27T00:00:00",
          "2023-03-27T01:00:00",
          "2023-03-27T02:00:00",
          "2023-03-27T03:00:00",
          "2023-03-27T04:00:00",
          "2023-03-27T05:00:00",
          "2023-03-27T06:00:00",
          "2023-03-27T07:00:00",
          "2023-03-27T08:00:00",
          "2023-03-27T09:00:00",
          "2023-03-27T10:00:00",
          "2023-03-27T11:00:00",
          "2023-03-27T12:00:00",
          "2023-03-27T13:00:00",
          "2023-03-27T14:00:00",
          "2023-03-27T15:00:00",
          "2023-03-27T16:00:00",
          "2023-03-27T17:00:00",
          "2023-03-27T18:00:00",
          "2023-03-27T19:00:00",
          "2023-03-27T20:00:00",
          "2023-03-27T21:00:00",
          "2023-03-27T22:00:00",
          "2023-03-27T23:00:00",
          "2023-03-28T00:00:00",
          "2023-03-28T01:00:00",
          "2023-03-28T02:00:00",
          "2023-03-28T03:00:00",
          "2023-03-28T04:00:00",
          "2023-03-28T05:00:00",
          "2023-03-28T06:00:00",
          "2023-03-28T07:00:00",
          "2023-03-28T08:00:00",
          "2023-03-28T09:00:00",
          "2023-03-28T10:00:00",
          "2023-03-28T11:00:00",
          "2023-03-28T12:00:00",
          "2023-03-28T13:00:00",
          "2023-03-28T14:00:00",
          "2023-03-28T15:00:00",
          "2023-03-28T16:00:00",
          "2023-03-28T17:00:00",
          "2023-03-28T18:00:00",
          "2023-03-28T19:00:00",
          "2023-03-28T20:00:00",
          "2023-03-28T21:00:00",
          "2023-03-28T22:00:00",
          "2023-03-28T23:00:00",
          "2023-03-29T00:00:00",
          "2023-03-29T01:00:00",
          "2023-03-29T02:00:00",
          "2023-03-29T03:00:00",
          "2023-03-29T04:00:00",
          "2023-03-29T05:00:00",
          "2023-03-29T06:00:00",
          "2023-03-29T07:00:00",
          "2023-03-29T08:00:00",
          "2023-03-29T09:00:00",
          "2023-03-29T10:00:00",
          "2023-03-29T11:00:00",
          "2023-03-29T12:00:00",
          "2023-03-29T13:00:00",
          "2023-03-29T14:00:00",
          "2023-03-29T15:00:00",
          "2023-03-29T16:00:00",
          "2023-03-29T17:00:00",
          "2023-03-29T18:00:00",
          "2023-03-29T19:00:00",
          "2023-03-29T20:00:00",
          "2023-03-29T21:00:00",
          "2023-03-29T22:00:00",
          "2023-03-29T23:00:00",
          "2023-03-30T00:00:00",
          "2023-03-30T01:00:00",
          "2023-03-30T02:00:00",
          "2023-03-30T03:00:00",
          "2023-03-30T04:00:00",
          "2023-03-30T05:00:00",
          "2023-03-30T06:00:00",
          "2023-03-30T07:00:00",
          "2023-03-30T08:00:00",
          "2023-03-30T09:00:00",
          "2023-03-30T10:00:00",
          "2023-03-30T11:00:00",
          "2023-03-30T12:00:00",
          "2023-03-30T13:00:00",
          "2023-03-30T14:00:00",
          "2023-03-30T15:00:00",
          "2023-03-30T16:00:00",
          "2023-03-30T17:00:00",
          "2023-03-30T18:00:00",
          "2023-03-30T19:00:00",
          "2023-03-30T20:00:00",
          "2023-03-30T21:00:00",
          "2023-03-30T22:00:00",
          "2023-03-30T23:00:00",
          "2023-03-31T00:00:00",
          "2023-03-31T01:00:00",
          "2023-03-31T02:00:00",
          "2023-03-31T03:00:00",
          "2023-03-31T04:00:00",
          "2023-03-31T05:00:00",
          "2023-03-31T06:00:00",
          "2023-03-31T07:00:00",
          "2023-03-31T08:00:00",
          "2023-03-31T09:00:00",
          "2023-03-31T10:00:00",
          "2023-03-31T11:00:00",
          "2023-03-31T12:00:00",
          "2023-03-31T13:00:00",
          "2023-03-31T14:00:00",
          "2023-03-31T15:00:00",
          "2023-03-31T16:00:00",
          "2023-03-31T17:00:00",
          "2023-03-31T18:00:00",
          "2023-03-31T19:00:00",
          "2023-03-31T20:00:00",
          "2023-03-31T21:00:00",
          "2023-03-31T22:00:00",
          "2023-03-31T23:00:00",
          "2023-04-01T00:00:00",
          "2023-04-01T01:00:00",
          "2023-04-01T02:00:00",
          "2023-04-01T03:00:00",
          "2023-04-01T04:00:00",
          "2023-04-01T05:00:00",
          "2023-04-01T06:00:00",
          "2023-04-01T07:00:00",
          "2023-04-01T08:00:00",
          "2023-04-01T09:00:00",
          "2023-04-01T10:00:00",
          "2023-04-01T11:00:00",
          "2023-04-01T12:00:00",
          "2023-04-01T13:00:00",
          "2023-04-01T14:00:00",
          "2023-04-01T15:00:00",
          "2023-04-01T16:00:00",
          "2023-04-01T17:00:00",
          "2023-04-01T18:00:00",
          "2023-04-01T19:00:00",
          "2023-04-01T20:00:00",
          "2023-04-01T21:00:00",
          "2023-04-01T22:00:00",
          "2023-04-01T23:00:00",
          "2023-04-02T00:00:00",
          "2023-04-02T01:00:00",
          "2023-04-02T02:00:00",
          "2023-04-02T03:00:00",
          "2023-04-02T04:00:00",
          "2023-04-02T05:00:00",
          "2023-04-02T06:00:00",
          "2023-04-02T07:00:00",
          "2023-04-02T08:00:00",
          "2023-04-02T09:00:00",
          "2023-04-02T10:00:00",
          "2023-04-02T11:00:00",
          "2023-04-02T12:00:00",
          "2023-04-02T13:00:00",
          "2023-04-02T14:00:00",
          "2023-04-02T15:00:00",
          "2023-04-02T16:00:00",
          "2023-04-02T17:00:00",
          "2023-04-02T18:00:00",
          "2023-04-02T19:00:00",
          "2023-04-02T20:00:00",
          "2023-04-02T21:00:00",
          "2023-04-02T22:00:00",
          "2023-04-02T23:00:00",
          "2023-04-03T00:00:00",
          "2023-04-03T01:00:00",
          "2023-04-03T02:00:00",
          "2023-04-03T03:00:00",
          "2023-04-03T04:00:00",
          "2023-04-03T05:00:00",
          "2023-04-03T06:00:00",
          "2023-04-03T07:00:00",
          "2023-04-03T08:00:00",
          "2023-04-03T09:00:00",
          "2023-04-03T10:00:00",
          "2023-04-03T11:00:00",
          "2023-04-03T12:00:00",
          "2023-04-03T13:00:00",
          "2023-04-03T14:00:00",
          "2023-04-03T15:00:00",
          "2023-04-03T16:00:00",
          "2023-04-03T17:00:00",
          "2023-04-03T18:00:00",
          "2023-04-03T19:00:00",
          "2023-04-03T20:00:00",
          "2023-04-03T21:00:00",
          "2023-04-03T22:00:00",
          "2023-04-03T23:00:00",
          "2023-04-04T00:00:00",
          "2023-04-04T01:00:00",
          "2023-04-04T02:00:00",
          "2023-04-04T03:00:00",
          "2023-04-04T04:00:00",
          "2023-04-04T05:00:00",
          "2023-04-04T06:00:00",
          "2023-04-04T07:00:00",
          "2023-04-04T08:00:00",
          "2023-04-04T09:00:00",
          "2023-04-04T10:00:00",
          "2023-04-04T11:00:00",
          "2023-04-04T12:00:00",
          "2023-04-04T13:00:00",
          "2023-04-04T14:00:00",
          "2023-04-04T15:00:00",
          "2023-04-04T16:00:00",
          "2023-04-04T17:00:00",
          "2023-04-04T18:00:00",
          "2023-04-04T19:00:00",
          "2023-04-04T20:00:00",
          "2023-04-04T21:00:00",
          "2023-04-04T22:00:00",
          "2023-04-04T23:00:00",
          "2023-04-05T00:00:00",
          "2023-04-05T01:00:00",
          "2023-04-05T02:00:00",
          "2023-04-05T03:00:00",
          "2023-04-05T04:00:00",
          "2023-04-05T05:00:00",
          "2023-04-05T06:00:00",
          "2023-04-05T07:00:00",
          "2023-04-05T08:00:00",
          "2023-04-05T09:00:00",
          "2023-04-05T10:00:00",
          "2023-04-05T11:00:00",
          "2023-04-05T12:00:00",
          "2023-04-05T13:00:00",
          "2023-04-05T14:00:00",
          "2023-04-05T15:00:00",
          "2023-04-05T16:00:00",
          "2023-04-05T17:00:00",
          "2023-04-05T18:00:00",
          "2023-04-05T19:00:00",
          "2023-04-05T20:00:00",
          "2023-04-05T21:00:00",
          "2023-04-05T22:00:00",
          "2023-04-05T23:00:00",
          "2023-04-06T00:00:00",
          "2023-04-06T01:00:00",
          "2023-04-06T02:00:00",
          "2023-04-06T03:00:00",
          "2023-04-06T04:00:00",
          "2023-04-06T05:00:00",
          "2023-04-06T06:00:00",
          "2023-04-06T07:00:00",
          "2023-04-06T08:00:00",
          "2023-04-06T09:00:00",
          "2023-04-06T10:00:00",
          "2023-04-06T11:00:00",
          "2023-04-06T12:00:00",
          "2023-04-06T13:00:00",
          "2023-04-06T14:00:00",
          "2023-04-06T15:00:00",
          "2023-04-06T16:00:00",
          "2023-04-06T17:00:00",
          "2023-04-06T18:00:00",
          "2023-04-06T19:00:00",
          "2023-04-06T20:00:00",
          "2023-04-06T21:00:00",
          "2023-04-06T22:00:00",
          "2023-04-06T23:00:00",
          "2023-04-07T00:00:00",
          "2023-04-07T01:00:00",
          "2023-04-07T02:00:00",
          "2023-04-07T03:00:00",
          "2023-04-07T04:00:00",
          "2023-04-07T05:00:00",
          "2023-04-07T06:00:00",
          "2023-04-07T07:00:00",
          "2023-04-07T08:00:00",
          "2023-04-07T09:00:00",
          "2023-04-07T10:00:00",
          "2023-04-07T11:00:00",
          "2023-04-07T12:00:00",
          "2023-04-07T13:00:00",
          "2023-04-07T14:00:00",
          "2023-04-07T15:00:00",
          "2023-04-07T16:00:00",
          "2023-04-07T17:00:00",
          "2023-04-07T18:00:00",
          "2023-04-07T19:00:00",
          "2023-04-07T20:00:00",
          "2023-04-07T21:00:00",
          "2023-04-07T22:00:00",
          "2023-04-07T23:00:00",
          "2023-04-08T00:00:00",
          "2023-04-08T01:00:00",
          "2023-04-08T02:00:00",
          "2023-04-08T03:00:00",
          "2023-04-08T04:00:00",
          "2023-04-08T05:00:00",
          "2023-04-08T06:00:00",
          "2023-04-08T07:00:00",
          "2023-04-08T08:00:00",
          "2023-04-08T09:00:00",
          "2023-04-08T10:00:00",
          "2023-04-08T11:00:00",
          "2023-04-08T12:00:00",
          "2023-04-08T13:00:00",
          "2023-04-08T14:00:00",
          "2023-04-08T15:00:00",
          "2023-04-08T16:00:00",
          "2023-04-08T17:00:00",
          "2023-04-08T18:00:00",
          "2023-04-08T19:00:00",
          "2023-04-08T20:00:00",
          "2023-04-08T21:00:00",
          "2023-04-08T22:00:00",
          "2023-04-08T23:00:00",
          "2023-04-09T00:00:00",
          "2023-04-09T01:00:00",
          "2023-04-09T02:00:00",
          "2023-04-09T03:00:00",
          "2023-04-09T04:00:00",
          "2023-04-09T05:00:00",
          "2023-04-09T06:00:00",
          "2023-04-09T07:00:00",
          "2023-04-09T08:00:00",
          "2023-04-09T09:00:00",
          "2023-04-09T10:00:00",
          "2023-04-09T11:00:00",
          "2023-04-09T12:00:00",
          "2023-04-09T13:00:00",
          "2023-04-09T14:00:00",
          "2023-04-09T15:00:00",
          "2023-04-09T16:00:00",
          "2023-04-09T17:00:00",
          "2023-04-09T18:00:00",
          "2023-04-09T19:00:00",
          "2023-04-09T20:00:00",
          "2023-04-09T21:00:00",
          "2023-04-09T22:00:00",
          "2023-04-09T23:00:00",
          "2023-04-10T00:00:00",
          "2023-04-10T01:00:00",
          "2023-04-10T02:00:00",
          "2023-04-10T03:00:00",
          "2023-04-10T04:00:00",
          "2023-04-10T05:00:00",
          "2023-04-10T06:00:00",
          "2023-04-10T07:00:00",
          "2023-04-10T08:00:00",
          "2023-04-10T09:00:00",
          "2023-04-10T10:00:00",
          "2023-04-10T11:00:00",
          "2023-04-10T12:00:00",
          "2023-04-10T13:00:00",
          "2023-04-10T14:00:00",
          "2023-04-10T15:00:00",
          "2023-04-10T16:00:00",
          "2023-04-10T17:00:00",
          "2023-04-10T18:00:00",
          "2023-04-10T19:00:00",
          "2023-04-10T20:00:00",
          "2023-04-10T21:00:00",
          "2023-04-10T22:00:00",
          "2023-04-10T23:00:00",
          "2023-04-11T00:00:00",
          "2023-04-11T01:00:00",
          "2023-04-11T02:00:00",
          "2023-04-11T03:00:00",
          "2023-04-11T04:00:00",
          "2023-04-11T05:00:00",
          "2023-04-11T06:00:00",
          "2023-04-11T07:00:00",
          "2023-04-11T08:00:00",
          "2023-04-11T09:00:00",
          "2023-04-11T10:00:00",
          "2023-04-11T11:00:00",
          "2023-04-11T12:00:00",
          "2023-04-11T13:00:00",
          "2023-04-11T14:00:00",
          "2023-04-11T15:00:00",
          "2023-04-11T16:00:00",
          "2023-04-11T17:00:00",
          "2023-04-11T18:00:00",
          "2023-04-11T19:00:00",
          "2023-04-11T20:00:00",
          "2023-04-11T21:00:00",
          "2023-04-11T22:00:00",
          "2023-04-11T23:00:00",
          "2023-04-12T00:00:00",
          "2023-04-12T01:00:00",
          "2023-04-12T02:00:00",
          "2023-04-12T03:00:00",
          "2023-04-12T04:00:00",
          "2023-04-12T05:00:00",
          "2023-04-12T06:00:00",
          "2023-04-12T07:00:00",
          "2023-04-12T08:00:00",
          "2023-04-12T09:00:00",
          "2023-04-12T10:00:00",
          "2023-04-12T11:00:00",
          "2023-04-12T12:00:00",
          "2023-04-12T13:00:00",
          "2023-04-12T14:00:00",
          "2023-04-12T15:00:00",
          "2023-04-12T16:00:00",
          "2023-04-12T17:00:00",
          "2023-04-12T18:00:00",
          "2023-04-12T19:00:00",
          "2023-04-12T20:00:00",
          "2023-04-12T21:00:00",
          "2023-04-12T22:00:00",
          "2023-04-12T23:00:00",
          "2023-04-13T00:00:00",
          "2023-04-13T01:00:00",
          "2023-04-13T02:00:00",
          "2023-04-13T03:00:00",
          "2023-04-13T04:00:00",
          "2023-04-13T05:00:00",
          "2023-04-13T06:00:00",
          "2023-04-13T07:00:00",
          "2023-04-13T08:00:00",
          "2023-04-13T09:00:00",
          "2023-04-13T10:00:00",
          "2023-04-13T11:00:00",
          "2023-04-13T12:00:00",
          "2023-04-13T13:00:00",
          "2023-04-13T14:00:00",
          "2023-04-13T15:00:00",
          "2023-04-13T16:00:00",
          "2023-04-13T17:00:00",
          "2023-04-13T18:00:00",
          "2023-04-13T19:00:00",
          "2023-04-13T20:00:00",
          "2023-04-13T21:00:00",
          "2023-04-13T22:00:00",
          "2023-04-13T23:00:00",
          "2023-04-14T00:00:00",
          "2023-04-14T01:00:00",
          "2023-04-14T02:00:00",
          "2023-04-14T03:00:00",
          "2023-04-14T04:00:00",
          "2023-04-14T05:00:00",
          "2023-04-14T06:00:00",
          "2023-04-14T07:00:00",
          "2023-04-14T08:00:00",
          "2023-04-14T09:00:00",
          "2023-04-14T10:00:00",
          "2023-04-14T11:00:00",
          "2023-04-14T12:00:00",
          "2023-04-14T13:00:00",
          "2023-04-14T14:00:00",
          "2023-04-14T15:00:00",
          "2023-04-14T16:00:00",
          "2023-04-14T17:00:00",
          "2023-04-14T18:00:00",
          "2023-04-14T19:00:00",
          "2023-04-14T20:00:00",
          "2023-04-14T21:00:00",
          "2023-04-14T22:00:00",
          "2023-04-14T23:00:00",
          "2023-04-15T00:00:00",
          "2023-04-15T01:00:00",
          "2023-04-15T02:00:00",
          "2023-04-15T03:00:00",
          "2023-04-15T04:00:00",
          "2023-04-15T05:00:00",
          "2023-04-15T06:00:00",
          "2023-04-15T07:00:00",
          "2023-04-15T08:00:00",
          "2023-04-15T09:00:00",
          "2023-04-15T10:00:00",
          "2023-04-15T11:00:00",
          "2023-04-15T12:00:00",
          "2023-04-15T13:00:00",
          "2023-04-15T14:00:00",
          "2023-04-15T15:00:00",
          "2023-04-15T16:00:00",
          "2023-04-15T17:00:00",
          "2023-04-15T18:00:00",
          "2023-04-15T19:00:00",
          "2023-04-15T20:00:00",
          "2023-04-15T21:00:00",
          "2023-04-15T22:00:00",
          "2023-04-15T23:00:00",
          "2023-04-16T00:00:00",
          "2023-04-16T01:00:00",
          "2023-04-16T02:00:00",
          "2023-04-16T03:00:00",
          "2023-04-16T04:00:00",
          "2023-04-16T05:00:00",
          "2023-04-16T06:00:00",
          "2023-04-16T07:00:00",
          "2023-04-16T08:00:00",
          "2023-04-16T09:00:00",
          "2023-04-16T10:00:00",
          "2023-04-16T11:00:00",
          "2023-04-16T12:00:00",
          "2023-04-16T13:00:00",
          "2023-04-16T14:00:00",
          "2023-04-16T15:00:00",
          "2023-04-16T16:00:00",
          "2023-04-16T17:00:00",
          "2023-04-16T18:00:00",
          "2023-04-16T19:00:00",
          "2023-04-16T20:00:00",
          "2023-04-16T21:00:00",
          "2023-04-16T22:00:00",
          "2023-04-16T23:00:00",
          "2023-04-17T00:00:00",
          "2023-04-17T01:00:00",
          "2023-04-17T02:00:00",
          "2023-04-17T03:00:00",
          "2023-04-17T04:00:00",
          "2023-04-17T05:00:00",
          "2023-04-17T06:00:00",
          "2023-04-17T07:00:00",
          "2023-04-17T08:00:00",
          "2023-04-17T09:00:00",
          "2023-04-17T10:00:00",
          "2023-04-17T11:00:00",
          "2023-04-17T12:00:00",
          "2023-04-17T13:00:00",
          "2023-04-17T14:00:00",
          "2023-04-17T15:00:00",
          "2023-04-17T16:00:00",
          "2023-04-17T17:00:00",
          "2023-04-17T18:00:00",
          "2023-04-17T19:00:00",
          "2023-04-17T20:00:00",
          "2023-04-17T21:00:00",
          "2023-04-17T22:00:00",
          "2023-04-17T23:00:00",
          "2023-04-18T00:00:00",
          "2023-04-18T01:00:00",
          "2023-04-18T02:00:00",
          "2023-04-18T03:00:00",
          "2023-04-18T04:00:00",
          "2023-04-18T05:00:00",
          "2023-04-18T06:00:00",
          "2023-04-18T07:00:00",
          "2023-04-18T08:00:00",
          "2023-04-18T09:00:00",
          "2023-04-18T10:00:00",
          "2023-04-18T11:00:00",
          "2023-04-18T12:00:00",
          "2023-04-18T13:00:00",
          "2023-04-18T14:00:00",
          "2023-04-18T15:00:00",
          "2023-04-18T16:00:00",
          "2023-04-18T17:00:00",
          "2023-04-18T18:00:00",
          "2023-04-18T19:00:00",
          "2023-04-18T20:00:00",
          "2023-04-18T21:00:00",
          "2023-04-18T22:00:00",
          "2023-04-18T23:00:00",
          "2023-04-19T00:00:00",
          "2023-04-19T01:00:00",
          "2023-04-19T02:00:00",
          "2023-04-19T03:00:00",
          "2023-04-19T04:00:00",
          "2023-04-19T05:00:00",
          "2023-04-19T06:00:00",
          "2023-04-19T07:00:00",
          "2023-04-19T08:00:00",
          "2023-04-19T09:00:00",
          "2023-04-19T10:00:00",
          "2023-04-19T11:00:00",
          "2023-04-19T12:00:00",
          "2023-04-19T13:00:00",
          "2023-04-19T14:00:00",
          "2023-04-19T15:00:00",
          "2023-04-19T16:00:00",
          "2023-04-19T17:00:00",
          "2023-04-19T18:00:00",
          "2023-04-19T19:00:00",
          "2023-04-19T20:00:00",
          "2023-04-19T21:00:00",
          "2023-04-19T22:00:00",
          "2023-04-19T23:00:00",
          "2023-04-20T00:00:00",
          "2023-04-20T01:00:00",
          "2023-04-20T02:00:00",
          "2023-04-20T03:00:00",
          "2023-04-20T04:00:00",
          "2023-04-20T05:00:00",
          "2023-04-20T06:00:00",
          "2023-04-20T07:00:00",
          "2023-04-20T08:00:00",
          "2023-04-20T09:00:00",
          "2023-04-20T10:00:00",
          "2023-04-20T11:00:00",
          "2023-04-20T12:00:00",
          "2023-04-20T13:00:00",
          "2023-04-20T14:00:00",
          "2023-04-20T15:00:00",
          "2023-04-20T16:00:00",
          "2023-04-20T17:00:00",
          "2023-04-20T18:00:00",
          "2023-04-20T19:00:00",
          "2023-04-20T20:00:00",
          "2023-04-20T21:00:00",
          "2023-04-20T22:00:00",
          "2023-04-20T23:00:00",
          "2023-04-21T00:00:00",
          "2023-04-21T01:00:00",
          "2023-04-21T02:00:00",
          "2023-04-21T03:00:00",
          "2023-04-21T04:00:00",
          "2023-04-21T05:00:00",
          "2023-04-21T06:00:00",
          "2023-04-21T07:00:00",
          "2023-04-21T08:00:00",
          "2023-04-21T09:00:00",
          "2023-04-21T10:00:00",
          "2023-04-21T11:00:00",
          "2023-04-21T12:00:00",
          "2023-04-21T13:00:00",
          "2023-04-21T14:00:00",
          "2023-04-21T15:00:00",
          "2023-04-21T16:00:00",
          "2023-04-21T17:00:00",
          "2023-04-21T18:00:00",
          "2023-04-21T19:00:00",
          "2023-04-21T20:00:00",
          "2023-04-21T21:00:00",
          "2023-04-21T22:00:00",
          "2023-04-21T23:00:00",
          "2023-04-22T00:00:00",
          "2023-04-22T01:00:00",
          "2023-04-22T02:00:00",
          "2023-04-22T03:00:00",
          "2023-04-22T04:00:00",
          "2023-04-22T05:00:00",
          "2023-04-22T06:00:00",
          "2023-04-22T07:00:00",
          "2023-04-22T08:00:00",
          "2023-04-22T09:00:00",
          "2023-04-22T10:00:00",
          "2023-04-22T11:00:00",
          "2023-04-22T12:00:00",
          "2023-04-22T13:00:00",
          "2023-04-22T14:00:00",
          "2023-04-22T15:00:00",
          "2023-04-22T16:00:00",
          "2023-04-22T17:00:00",
          "2023-04-22T18:00:00",
          "2023-04-22T19:00:00",
          "2023-04-22T20:00:00",
          "2023-04-22T21:00:00",
          "2023-04-22T22:00:00",
          "2023-04-22T23:00:00",
          "2023-04-23T00:00:00",
          "2023-04-23T01:00:00",
          "2023-04-23T02:00:00",
          "2023-04-23T03:00:00",
          "2023-04-23T04:00:00",
          "2023-04-23T05:00:00",
          "2023-04-23T06:00:00",
          "2023-04-23T07:00:00",
          "2023-04-23T08:00:00",
          "2023-04-23T09:00:00",
          "2023-04-23T10:00:00",
          "2023-04-23T11:00:00",
          "2023-04-23T12:00:00",
          "2023-04-23T13:00:00",
          "2023-04-23T14:00:00",
          "2023-04-23T15:00:00",
          "2023-04-23T16:00:00",
          "2023-04-23T17:00:00",
          "2023-04-23T18:00:00",
          "2023-04-23T19:00:00",
          "2023-04-23T20:00:00",
          "2023-04-23T21:00:00",
          "2023-04-23T22:00:00",
          "2023-04-23T23:00:00",
          "2023-04-24T00:00:00",
          "2023-04-24T01:00:00",
          "2023-04-24T02:00:00",
          "2023-04-24T03:00:00",
          "2023-04-24T04:00:00",
          "2023-04-24T05:00:00",
          "2023-04-24T06:00:00",
          "2023-04-24T07:00:00",
          "2023-04-24T08:00:00",
          "2023-04-24T09:00:00",
          "2023-04-24T10:00:00",
          "2023-04-24T11:00:00",
          "2023-04-24T12:00:00",
          "2023-04-24T13:00:00",
          "2023-04-24T14:00:00",
          "2023-04-24T15:00:00",
          "2023-04-24T16:00:00",
          "2023-04-24T17:00:00",
          "2023-04-24T18:00:00",
          "2023-04-24T19:00:00",
          "2023-04-24T20:00:00",
          "2023-04-24T21:00:00",
          "2023-04-24T22:00:00",
          "2023-04-24T23:00:00",
          "2023-04-25T00:00:00",
          "2023-04-25T01:00:00",
          "2023-04-25T02:00:00",
          "2023-04-25T03:00:00",
          "2023-04-25T04:00:00",
          "2023-04-25T05:00:00",
          "2023-04-25T06:00:00",
          "2023-04-25T07:00:00",
          "2023-04-25T08:00:00",
          "2023-04-25T09:00:00",
          "2023-04-25T10:00:00",
          "2023-04-25T11:00:00",
          "2023-04-25T12:00:00",
          "2023-04-25T13:00:00",
          "2023-04-25T14:00:00",
          "2023-04-25T15:00:00",
          "2023-04-25T16:00:00",
          "2023-04-25T17:00:00",
          "2023-04-25T18:00:00",
          "2023-04-25T19:00:00",
          "2023-04-25T20:00:00",
          "2023-04-25T21:00:00",
          "2023-04-25T22:00:00",
          "2023-04-25T23:00:00",
          "2023-04-26T00:00:00",
          "2023-04-26T01:00:00",
          "2023-04-26T02:00:00",
          "2023-04-26T03:00:00",
          "2023-04-26T04:00:00",
          "2023-04-26T05:00:00",
          "2023-04-26T06:00:00",
          "2023-04-26T07:00:00",
          "2023-04-26T08:00:00",
          "2023-04-26T09:00:00",
          "2023-04-26T10:00:00",
          "2023-04-26T11:00:00",
          "2023-04-26T12:00:00",
          "2023-04-26T13:00:00",
          "2023-04-26T14:00:00",
          "2023-04-26T15:00:00",
          "2023-04-26T16:00:00",
          "2023-04-26T17:00:00",
          "2023-04-26T18:00:00",
          "2023-04-26T19:00:00",
          "2023-04-26T20:00:00",
          "2023-04-26T21:00:00",
          "2023-04-26T22:00:00",
          "2023-04-26T23:00:00",
          "2023-04-27T00:00:00",
          "2023-04-27T01:00:00",
          "2023-04-27T02:00:00",
          "2023-04-27T03:00:00",
          "2023-04-27T04:00:00",
          "2023-04-27T05:00:00",
          "2023-04-27T06:00:00",
          "2023-04-27T07:00:00",
          "2023-04-27T08:00:00",
          "2023-04-27T09:00:00",
          "2023-04-27T10:00:00",
          "2023-04-27T11:00:00",
          "2023-04-27T12:00:00",
          "2023-04-27T13:00:00",
          "2023-04-27T14:00:00",
          "2023-04-27T15:00:00",
          "2023-04-27T16:00:00",
          "2023-04-27T17:00:00",
          "2023-04-27T18:00:00",
          "2023-04-27T19:00:00",
          "2023-04-27T20:00:00",
          "2023-04-27T21:00:00",
          "2023-04-27T22:00:00",
          "2023-04-27T23:00:00",
          "2023-04-28T00:00:00",
          "2023-04-28T01:00:00",
          "2023-04-28T02:00:00",
          "2023-04-28T03:00:00",
          "2023-04-28T04:00:00",
          "2023-04-28T05:00:00",
          "2023-04-28T06:00:00",
          "2023-04-28T07:00:00",
          "2023-04-28T08:00:00",
          "2023-04-28T09:00:00",
          "2023-04-28T10:00:00",
          "2023-04-28T11:00:00",
          "2023-04-28T12:00:00",
          "2023-04-28T13:00:00",
          "2023-04-28T14:00:00",
          "2023-04-28T15:00:00",
          "2023-04-28T16:00:00",
          "2023-04-28T17:00:00",
          "2023-04-28T18:00:00",
          "2023-04-28T19:00:00",
          "2023-04-28T20:00:00",
          "2023-04-28T21:00:00",
          "2023-04-28T22:00:00",
          "2023-04-28T23:00:00",
          "2023-04-29T00:00:00",
          "2023-04-29T01:00:00",
          "2023-04-29T02:00:00",
          "2023-04-29T03:00:00",
          "2023-04-29T04:00:00",
          "2023-04-29T05:00:00",
          "2023-04-29T06:00:00",
          "2023-04-29T07:00:00",
          "2023-04-29T08:00:00",
          "2023-04-29T09:00:00",
          "2023-04-29T10:00:00",
          "2023-04-29T11:00:00",
          "2023-04-29T12:00:00",
          "2023-04-29T13:00:00",
          "2023-04-29T14:00:00",
          "2023-04-29T15:00:00",
          "2023-04-29T16:00:00",
          "2023-04-29T17:00:00",
          "2023-04-29T18:00:00",
          "2023-04-29T19:00:00",
          "2023-04-29T20:00:00",
          "2023-04-29T21:00:00",
          "2023-04-29T22:00:00",
          "2023-04-29T23:00:00",
          "2023-04-30T00:00:00",
          "2023-04-30T01:00:00",
          "2023-04-30T02:00:00",
          "2023-04-30T03:00:00",
          "2023-04-30T04:00:00",
          "2023-04-30T05:00:00",
          "2023-04-30T06:00:00",
          "2023-04-30T07:00:00",
          "2023-04-30T08:00:00",
          "2023-04-30T09:00:00",
          "2023-04-30T10:00:00",
          "2023-04-30T11:00:00",
          "2023-04-30T12:00:00",
          "2023-04-30T13:00:00",
          "2023-04-30T14:00:00",
          "2023-04-30T15:00:00",
          "2023-04-30T16:00:00",
          "2023-04-30T17:00:00",
          "2023-04-30T18:00:00",
          "2023-04-30T19:00:00",
          "2023-04-30T20:00:00",
          "2023-04-30T21:00:00",
          "2023-04-30T22:00:00",
          "2023-04-30T23:00:00",
          "2023-05-01T00:00:00",
          "2023-05-01T01:00:00",
          "2023-05-01T02:00:00",
          "2023-05-01T03:00:00",
          "2023-05-01T04:00:00",
          "2023-05-01T05:00:00",
          "2023-05-01T06:00:00",
          "2023-05-01T07:00:00",
          "2023-05-01T08:00:00",
          "2023-05-01T09:00:00",
          "2023-05-01T10:00:00",
          "2023-05-01T11:00:00",
          "2023-05-01T12:00:00",
          "2023-05-01T13:00:00",
          "2023-05-01T14:00:00",
          "2023-05-01T15:00:00",
          "2023-05-01T16:00:00",
          "2023-05-01T17:00:00",
          "2023-05-01T18:00:00",
          "2023-05-01T19:00:00",
          "2023-05-01T20:00:00",
          "2023-05-01T21:00:00",
          "2023-05-01T22:00:00",
          "2023-05-01T23:00:00",
          "2023-05-02T00:00:00",
          "2023-05-02T01:00:00",
          "2023-05-02T02:00:00",
          "2023-05-02T03:00:00",
          "2023-05-02T04:00:00",
          "2023-05-02T05:00:00",
          "2023-05-02T06:00:00",
          "2023-05-02T07:00:00",
          "2023-05-02T08:00:00",
          "2023-05-02T09:00:00",
          "2023-05-02T10:00:00",
          "2023-05-02T11:00:00",
          "2023-05-02T12:00:00",
          "2023-05-02T13:00:00",
          "2023-05-02T14:00:00",
          "2023-05-02T15:00:00",
          "2023-05-02T16:00:00",
          "2023-05-02T17:00:00",
          "2023-05-02T18:00:00",
          "2023-05-02T19:00:00",
          "2023-05-02T20:00:00",
          "2023-05-02T21:00:00",
          "2023-05-02T22:00:00",
          "2023-05-02T23:00:00",
          "2023-05-03T00:00:00",
          "2023-05-03T01:00:00",
          "2023-05-03T02:00:00",
          "2023-05-03T03:00:00",
          "2023-05-03T04:00:00",
          "2023-05-03T05:00:00",
          "2023-05-03T06:00:00",
          "2023-05-03T07:00:00",
          "2023-05-03T08:00:00",
          "2023-05-03T09:00:00",
          "2023-05-03T10:00:00",
          "2023-05-03T11:00:00",
          "2023-05-03T12:00:00",
          "2023-05-03T13:00:00",
          "2023-05-03T14:00:00",
          "2023-05-03T15:00:00",
          "2023-05-03T16:00:00",
          "2023-05-03T17:00:00",
          "2023-05-03T18:00:00",
          "2023-05-03T19:00:00",
          "2023-05-03T20:00:00",
          "2023-05-03T21:00:00",
          "2023-05-03T22:00:00",
          "2023-05-03T23:00:00",
          "2023-05-04T00:00:00",
          "2023-05-04T01:00:00",
          "2023-05-04T02:00:00",
          "2023-05-04T03:00:00",
          "2023-05-04T04:00:00",
          "2023-05-04T05:00:00",
          "2023-05-04T06:00:00",
          "2023-05-04T07:00:00",
          "2023-05-04T08:00:00",
          "2023-05-04T09:00:00",
          "2023-05-04T10:00:00",
          "2023-05-04T11:00:00",
          "2023-05-04T12:00:00",
          "2023-05-04T13:00:00",
          "2023-05-04T14:00:00",
          "2023-05-04T15:00:00",
          "2023-05-04T16:00:00",
          "2023-05-04T17:00:00",
          "2023-05-04T18:00:00",
          "2023-05-04T19:00:00",
          "2023-05-04T20:00:00",
          "2023-05-04T21:00:00",
          "2023-05-04T22:00:00",
          "2023-05-04T23:00:00",
          "2023-05-05T00:00:00",
          "2023-05-05T01:00:00",
          "2023-05-05T02:00:00",
          "2023-05-05T03:00:00",
          "2023-05-05T04:00:00",
          "2023-05-05T05:00:00",
          "2023-05-05T06:00:00",
          "2023-05-05T07:00:00",
          "2023-05-05T08:00:00",
          "2023-05-05T09:00:00",
          "2023-05-05T10:00:00",
          "2023-05-05T11:00:00",
          "2023-05-05T12:00:00",
          "2023-05-05T13:00:00",
          "2023-05-05T14:00:00",
          "2023-05-05T15:00:00",
          "2023-05-05T16:00:00",
          "2023-05-05T17:00:00",
          "2023-05-05T18:00:00",
          "2023-05-05T19:00:00",
          "2023-05-05T20:00:00",
          "2023-05-05T21:00:00",
          "2023-05-05T22:00:00",
          "2023-05-05T23:00:00",
          "2023-05-06T00:00:00",
          "2023-05-06T01:00:00",
          "2023-05-06T02:00:00",
          "2023-05-06T03:00:00",
          "2023-05-06T04:00:00",
          "2023-05-06T05:00:00",
          "2023-05-06T06:00:00",
          "2023-05-06T07:00:00",
          "2023-05-06T08:00:00",
          "2023-05-06T09:00:00",
          "2023-05-06T10:00:00",
          "2023-05-06T11:00:00",
          "2023-05-06T12:00:00",
          "2023-05-06T13:00:00",
          "2023-05-06T14:00:00",
          "2023-05-06T15:00:00",
          "2023-05-06T16:00:00",
          "2023-05-06T17:00:00",
          "2023-05-06T18:00:00",
          "2023-05-06T19:00:00",
          "2023-05-06T20:00:00",
          "2023-05-06T21:00:00",
          "2023-05-06T22:00:00",
          "2023-05-06T23:00:00",
          "2023-05-07T00:00:00",
          "2023-05-07T01:00:00",
          "2023-05-07T02:00:00",
          "2023-05-07T03:00:00",
          "2023-05-07T04:00:00",
          "2023-05-07T05:00:00",
          "2023-05-07T06:00:00",
          "2023-05-07T07:00:00",
          "2023-05-07T08:00:00",
          "2023-05-07T09:00:00",
          "2023-05-07T10:00:00",
          "2023-05-07T11:00:00",
          "2023-05-07T12:00:00",
          "2023-05-07T13:00:00",
          "2023-05-07T14:00:00",
          "2023-05-07T15:00:00",
          "2023-05-07T16:00:00",
          "2023-05-07T17:00:00",
          "2023-05-07T18:00:00",
          "2023-05-07T19:00:00",
          "2023-05-07T20:00:00",
          "2023-05-07T21:00:00",
          "2023-05-07T22:00:00",
          "2023-05-07T23:00:00",
          "2023-05-08T00:00:00",
          "2023-05-08T01:00:00",
          "2023-05-08T02:00:00",
          "2023-05-08T03:00:00",
          "2023-05-08T04:00:00",
          "2023-05-08T05:00:00",
          "2023-05-08T06:00:00",
          "2023-05-08T07:00:00",
          "2023-05-08T08:00:00",
          "2023-05-08T09:00:00",
          "2023-05-08T10:00:00",
          "2023-05-08T11:00:00",
          "2023-05-08T12:00:00",
          "2023-05-08T13:00:00",
          "2023-05-08T14:00:00",
          "2023-05-08T15:00:00",
          "2023-05-08T16:00:00",
          "2023-05-08T17:00:00",
          "2023-05-08T18:00:00",
          "2023-05-08T19:00:00",
          "2023-05-08T20:00:00",
          "2023-05-08T21:00:00",
          "2023-05-08T22:00:00",
          "2023-05-08T23:00:00",
          "2023-05-09T00:00:00",
          "2023-05-09T01:00:00",
          "2023-05-09T02:00:00",
          "2023-05-09T03:00:00",
          "2023-05-09T04:00:00",
          "2023-05-09T05:00:00",
          "2023-05-09T06:00:00",
          "2023-05-09T07:00:00",
          "2023-05-09T08:00:00",
          "2023-05-09T09:00:00",
          "2023-05-09T10:00:00",
          "2023-05-09T11:00:00",
          "2023-05-09T12:00:00",
          "2023-05-09T13:00:00",
          "2023-05-09T14:00:00",
          "2023-05-09T15:00:00",
          "2023-05-09T16:00:00",
          "2023-05-09T17:00:00",
          "2023-05-09T18:00:00",
          "2023-05-09T19:00:00",
          "2023-05-09T20:00:00",
          "2023-05-09T21:00:00",
          "2023-05-09T22:00:00",
          "2023-05-09T23:00:00",
          "2023-05-10T00:00:00",
          "2023-05-10T01:00:00",
          "2023-05-10T02:00:00",
          "2023-05-10T03:00:00",
          "2023-05-10T04:00:00",
          "2023-05-10T05:00:00",
          "2023-05-10T06:00:00",
          "2023-05-10T07:00:00",
          "2023-05-10T08:00:00",
          "2023-05-10T09:00:00",
          "2023-05-10T10:00:00",
          "2023-05-10T11:00:00",
          "2023-05-10T12:00:00",
          "2023-05-10T13:00:00",
          "2023-05-10T14:00:00",
          "2023-05-10T15:00:00",
          "2023-05-10T16:00:00",
          "2023-05-10T17:00:00",
          "2023-05-10T18:00:00",
          "2023-05-10T19:00:00",
          "2023-05-10T20:00:00",
          "2023-05-10T21:00:00",
          "2023-05-10T22:00:00",
          "2023-05-10T23:00:00",
          "2023-05-11T00:00:00",
          "2023-05-11T01:00:00",
          "2023-05-11T02:00:00",
          "2023-05-11T03:00:00",
          "2023-05-11T04:00:00",
          "2023-05-11T05:00:00",
          "2023-05-11T06:00:00",
          "2023-05-11T07:00:00",
          "2023-05-11T08:00:00",
          "2023-05-11T09:00:00",
          "2023-05-11T10:00:00",
          "2023-05-11T11:00:00",
          "2023-05-11T12:00:00",
          "2023-05-11T13:00:00",
          "2023-05-11T14:00:00",
          "2023-05-11T15:00:00",
          "2023-05-11T16:00:00",
          "2023-05-11T17:00:00",
          "2023-05-11T18:00:00",
          "2023-05-11T19:00:00",
          "2023-05-11T20:00:00",
          "2023-05-11T21:00:00",
          "2023-05-11T22:00:00",
          "2023-05-11T23:00:00",
          "2023-05-12T00:00:00",
          "2023-05-12T01:00:00",
          "2023-05-12T02:00:00",
          "2023-05-12T03:00:00",
          "2023-05-12T04:00:00",
          "2023-05-12T05:00:00",
          "2023-05-12T06:00:00",
          "2023-05-12T07:00:00",
          "2023-05-12T08:00:00",
          "2023-05-12T09:00:00",
          "2023-05-12T10:00:00",
          "2023-05-12T11:00:00",
          "2023-05-12T12:00:00",
          "2023-05-12T13:00:00",
          "2023-05-12T14:00:00",
          "2023-05-12T15:00:00",
          "2023-05-12T16:00:00",
          "2023-05-12T17:00:00",
          "2023-05-12T18:00:00",
          "2023-05-12T19:00:00",
          "2023-05-12T20:00:00",
          "2023-05-12T21:00:00",
          "2023-05-12T22:00:00",
          "2023-05-12T23:00:00",
          "2023-05-13T00:00:00",
          "2023-05-13T01:00:00",
          "2023-05-13T02:00:00",
          "2023-05-13T03:00:00",
          "2023-05-13T04:00:00",
          "2023-05-13T05:00:00",
          "2023-05-13T06:00:00",
          "2023-05-13T07:00:00",
          "2023-05-13T08:00:00",
          "2023-05-13T09:00:00",
          "2023-05-13T10:00:00",
          "2023-05-13T11:00:00",
          "2023-05-13T12:00:00",
          "2023-05-13T13:00:00",
          "2023-05-13T14:00:00",
          "2023-05-13T15:00:00",
          "2023-05-13T16:00:00",
          "2023-05-13T17:00:00",
          "2023-05-13T18:00:00",
          "2023-05-13T19:00:00",
          "2023-05-13T20:00:00",
          "2023-05-13T21:00:00",
          "2023-05-13T22:00:00",
          "2023-05-13T23:00:00",
          "2023-05-14T00:00:00",
          "2023-05-14T01:00:00",
          "2023-05-14T02:00:00",
          "2023-05-14T03:00:00",
          "2023-05-14T04:00:00",
          "2023-05-14T05:00:00",
          "2023-05-14T06:00:00",
          "2023-05-14T07:00:00",
          "2023-05-14T08:00:00",
          "2023-05-14T09:00:00",
          "2023-05-14T10:00:00",
          "2023-05-14T11:00:00",
          "2023-05-14T12:00:00",
          "2023-05-14T13:00:00",
          "2023-05-14T14:00:00",
          "2023-05-14T15:00:00",
          "2023-05-14T16:00:00",
          "2023-05-14T17:00:00",
          "2023-05-14T18:00:00",
          "2023-05-14T19:00:00",
          "2023-05-14T20:00:00",
          "2023-05-14T21:00:00",
          "2023-05-14T22:00:00",
          "2023-05-14T23:00:00",
          "2023-05-15T00:00:00",
          "2023-05-15T01:00:00",
          "2023-05-15T02:00:00",
          "2023-05-15T03:00:00",
          "2023-05-15T04:00:00",
          "2023-05-15T05:00:00",
          "2023-05-15T06:00:00",
          "2023-05-15T07:00:00",
          "2023-05-15T08:00:00",
          "2023-05-15T09:00:00",
          "2023-05-15T10:00:00",
          "2023-05-15T11:00:00",
          "2023-05-15T12:00:00",
          "2023-05-15T13:00:00",
          "2023-05-15T14:00:00",
          "2023-05-15T15:00:00",
          "2023-05-15T16:00:00",
          "2023-05-15T17:00:00",
          "2023-05-15T18:00:00",
          "2023-05-15T19:00:00",
          "2023-05-15T20:00:00",
          "2023-05-15T21:00:00",
          "2023-05-15T22:00:00",
          "2023-05-15T23:00:00",
          "2023-05-16T00:00:00",
          "2023-05-16T01:00:00",
          "2023-05-16T02:00:00",
          "2023-05-16T03:00:00",
          "2023-05-16T04:00:00",
          "2023-05-16T05:00:00",
          "2023-05-16T06:00:00",
          "2023-05-16T07:00:00",
          "2023-05-16T08:00:00",
          "2023-05-16T09:00:00",
          "2023-05-16T10:00:00",
          "2023-05-16T11:00:00",
          "2023-05-16T12:00:00",
          "2023-05-16T13:00:00",
          "2023-05-16T14:00:00",
          "2023-05-16T15:00:00",
          "2023-05-16T16:00:00",
          "2023-05-16T17:00:00",
          "2023-05-16T18:00:00",
          "2023-05-16T19:00:00",
          "2023-05-16T20:00:00",
          "2023-05-16T21:00:00",
          "2023-05-16T22:00:00",
          "2023-05-16T23:00:00",
          "2023-05-17T00:00:00",
          "2023-05-17T01:00:00",
          "2023-05-17T02:00:00",
          "2023-05-17T03:00:00",
          "2023-05-17T04:00:00",
          "2023-05-17T05:00:00",
          "2023-05-17T06:00:00",
          "2023-05-17T07:00:00",
          "2023-05-17T08:00:00",
          "2023-05-17T09:00:00",
          "2023-05-17T10:00:00",
          "2023-05-17T11:00:00",
          "2023-05-17T12:00:00",
          "2023-05-17T13:00:00",
          "2023-05-17T14:00:00",
          "2023-05-17T15:00:00",
          "2023-05-17T16:00:00",
          "2023-05-17T17:00:00",
          "2023-05-17T18:00:00",
          "2023-05-17T19:00:00",
          "2023-05-17T20:00:00",
          "2023-05-17T21:00:00",
          "2023-05-17T22:00:00",
          "2023-05-17T23:00:00",
          "2023-05-18T00:00:00",
          "2023-05-18T01:00:00",
          "2023-05-18T02:00:00",
          "2023-05-18T03:00:00",
          "2023-05-18T04:00:00",
          "2023-05-18T05:00:00",
          "2023-05-18T06:00:00",
          "2023-05-18T07:00:00",
          "2023-05-18T08:00:00",
          "2023-05-18T09:00:00",
          "2023-05-18T10:00:00",
          "2023-05-18T11:00:00",
          "2023-05-18T12:00:00",
          "2023-05-18T13:00:00",
          "2023-05-18T14:00:00",
          "2023-05-18T15:00:00",
          "2023-05-18T16:00:00",
          "2023-05-18T17:00:00",
          "2023-05-18T18:00:00",
          "2023-05-18T19:00:00",
          "2023-05-18T20:00:00",
          "2023-05-18T21:00:00",
          "2023-05-18T22:00:00",
          "2023-05-18T23:00:00",
          "2023-05-19T00:00:00",
          "2023-05-19T01:00:00",
          "2023-05-19T02:00:00",
          "2023-05-19T03:00:00",
          "2023-05-19T04:00:00",
          "2023-05-19T05:00:00",
          "2023-05-19T06:00:00",
          "2023-05-19T07:00:00",
          "2023-05-19T08:00:00",
          "2023-05-19T09:00:00",
          "2023-05-19T10:00:00",
          "2023-05-19T11:00:00",
          "2023-05-19T12:00:00",
          "2023-05-19T13:00:00",
          "2023-05-19T14:00:00",
          "2023-05-19T15:00:00",
          "2023-05-19T16:00:00",
          "2023-05-19T17:00:00",
          "2023-05-19T18:00:00",
          "2023-05-19T19:00:00",
          "2023-05-19T20:00:00",
          "2023-05-19T21:00:00",
          "2023-05-19T22:00:00",
          "2023-05-19T23:00:00",
          "2023-05-20T00:00:00",
          "2023-05-20T01:00:00",
          "2023-05-20T02:00:00",
          "2023-05-20T03:00:00",
          "2023-05-20T04:00:00",
          "2023-05-20T05:00:00",
          "2023-05-20T06:00:00",
          "2023-05-20T07:00:00",
          "2023-05-20T08:00:00",
          "2023-05-20T09:00:00",
          "2023-05-20T10:00:00",
          "2023-05-20T11:00:00",
          "2023-05-20T12:00:00",
          "2023-05-20T13:00:00",
          "2023-05-20T14:00:00",
          "2023-05-20T15:00:00",
          "2023-05-20T16:00:00",
          "2023-05-20T17:00:00",
          "2023-05-20T18:00:00",
          "2023-05-20T19:00:00",
          "2023-05-20T20:00:00",
          "2023-05-20T21:00:00",
          "2023-05-20T22:00:00",
          "2023-05-20T23:00:00",
          "2023-05-21T00:00:00",
          "2023-05-21T01:00:00",
          "2023-05-21T02:00:00",
          "2023-05-21T03:00:00",
          "2023-05-21T04:00:00",
          "2023-05-21T05:00:00",
          "2023-05-21T06:00:00",
          "2023-05-21T07:00:00",
          "2023-05-21T08:00:00",
          "2023-05-21T09:00:00",
          "2023-05-21T10:00:00",
          "2023-05-21T11:00:00",
          "2023-05-21T12:00:00",
          "2023-05-21T13:00:00",
          "2023-05-21T14:00:00",
          "2023-05-21T15:00:00",
          "2023-05-21T16:00:00",
          "2023-05-21T17:00:00",
          "2023-05-21T18:00:00",
          "2023-05-21T19:00:00",
          "2023-05-21T20:00:00",
          "2023-05-21T21:00:00",
          "2023-05-21T22:00:00",
          "2023-05-21T23:00:00",
          "2023-05-22T00:00:00",
          "2023-05-22T01:00:00",
          "2023-05-22T02:00:00",
          "2023-05-22T03:00:00",
          "2023-05-22T04:00:00",
          "2023-05-22T05:00:00",
          "2023-05-22T06:00:00",
          "2023-05-22T07:00:00",
          "2023-05-22T08:00:00",
          "2023-05-22T09:00:00",
          "2023-05-22T10:00:00",
          "2023-05-22T11:00:00",
          "2023-05-22T12:00:00",
          "2023-05-22T13:00:00",
          "2023-05-22T14:00:00",
          "2023-05-22T15:00:00",
          "2023-05-22T16:00:00",
          "2023-05-22T17:00:00",
          "2023-05-22T18:00:00",
          "2023-05-22T19:00:00",
          "2023-05-22T20:00:00",
          "2023-05-22T21:00:00",
          "2023-05-22T22:00:00",
          "2023-05-22T23:00:00",
          "2023-05-23T00:00:00",
          "2023-05-23T01:00:00",
          "2023-05-23T02:00:00",
          "2023-05-23T03:00:00",
          "2023-05-23T04:00:00",
          "2023-05-23T05:00:00",
          "2023-05-23T06:00:00",
          "2023-05-23T07:00:00",
          "2023-05-23T08:00:00",
          "2023-05-23T09:00:00",
          "2023-05-23T10:00:00",
          "2023-05-23T11:00:00",
          "2023-05-23T12:00:00",
          "2023-05-23T13:00:00",
          "2023-05-23T14:00:00",
          "2023-05-23T15:00:00",
          "2023-05-23T16:00:00",
          "2023-05-23T17:00:00",
          "2023-05-23T18:00:00",
          "2023-05-23T19:00:00",
          "2023-05-23T20:00:00",
          "2023-05-23T21:00:00",
          "2023-05-23T22:00:00",
          "2023-05-23T23:00:00",
          "2023-05-24T00:00:00",
          "2023-05-24T01:00:00",
          "2023-05-24T02:00:00",
          "2023-05-24T03:00:00",
          "2023-05-24T04:00:00",
          "2023-05-24T05:00:00",
          "2023-05-24T06:00:00",
          "2023-05-24T07:00:00",
          "2023-05-24T08:00:00",
          "2023-05-24T09:00:00",
          "2023-05-24T10:00:00",
          "2023-05-24T11:00:00",
          "2023-05-24T12:00:00",
          "2023-05-24T13:00:00",
          "2023-05-24T14:00:00",
          "2023-05-24T15:00:00",
          "2023-05-24T16:00:00",
          "2023-05-24T17:00:00",
          "2023-05-24T18:00:00",
          "2023-05-24T19:00:00",
          "2023-05-24T20:00:00",
          "2023-05-24T21:00:00",
          "2023-05-24T22:00:00",
          "2023-05-24T23:00:00",
          "2023-05-25T00:00:00",
          "2023-05-25T01:00:00",
          "2023-05-25T02:00:00",
          "2023-05-25T03:00:00",
          "2023-05-25T04:00:00",
          "2023-05-25T05:00:00",
          "2023-05-25T06:00:00",
          "2023-05-25T07:00:00",
          "2023-05-25T08:00:00",
          "2023-05-25T09:00:00",
          "2023-05-25T10:00:00",
          "2023-05-25T11:00:00",
          "2023-05-25T12:00:00",
          "2023-05-25T13:00:00",
          "2023-05-25T14:00:00",
          "2023-05-25T15:00:00",
          "2023-05-25T16:00:00",
          "2023-05-25T17:00:00",
          "2023-05-25T18:00:00",
          "2023-05-25T19:00:00",
          "2023-05-25T20:00:00",
          "2023-05-25T21:00:00",
          "2023-05-25T22:00:00",
          "2023-05-25T23:00:00",
          "2023-05-26T00:00:00",
          "2023-05-26T01:00:00",
          "2023-05-26T02:00:00",
          "2023-05-26T03:00:00",
          "2023-05-26T04:00:00",
          "2023-05-26T05:00:00",
          "2023-05-26T06:00:00",
          "2023-05-26T07:00:00",
          "2023-05-26T08:00:00",
          "2023-05-26T09:00:00",
          "2023-05-26T10:00:00",
          "2023-05-26T11:00:00",
          "2023-05-26T12:00:00",
          "2023-05-26T13:00:00",
          "2023-05-26T14:00:00",
          "2023-05-26T15:00:00",
          "2023-05-26T16:00:00",
          "2023-05-26T17:00:00",
          "2023-05-26T18:00:00",
          "2023-05-26T19:00:00",
          "2023-05-26T20:00:00",
          "2023-05-26T21:00:00",
          "2023-05-26T22:00:00",
          "2023-05-26T23:00:00",
          "2023-05-27T00:00:00",
          "2023-05-27T01:00:00",
          "2023-05-27T02:00:00",
          "2023-05-27T03:00:00",
          "2023-05-27T04:00:00",
          "2023-05-27T05:00:00",
          "2023-05-27T06:00:00",
          "2023-05-27T07:00:00",
          "2023-05-27T08:00:00",
          "2023-05-27T09:00:00",
          "2023-05-27T10:00:00",
          "2023-05-27T11:00:00",
          "2023-05-27T12:00:00",
          "2023-05-27T13:00:00",
          "2023-05-27T14:00:00",
          "2023-05-27T15:00:00",
          "2023-05-27T16:00:00",
          "2023-05-27T17:00:00",
          "2023-05-27T18:00:00",
          "2023-05-27T19:00:00",
          "2023-05-27T20:00:00",
          "2023-05-27T21:00:00",
          "2023-05-27T22:00:00",
          "2023-05-27T23:00:00",
          "2023-05-28T00:00:00",
          "2023-05-28T01:00:00",
          "2023-05-28T02:00:00",
          "2023-05-28T03:00:00",
          "2023-05-28T04:00:00",
          "2023-05-28T05:00:00",
          "2023-05-28T06:00:00",
          "2023-05-28T07:00:00",
          "2023-05-28T08:00:00",
          "2023-05-28T09:00:00",
          "2023-05-28T10:00:00",
          "2023-05-28T11:00:00",
          "2023-05-28T12:00:00",
          "2023-05-28T13:00:00",
          "2023-05-28T14:00:00",
          "2023-05-28T15:00:00",
          "2023-05-28T16:00:00",
          "2023-05-28T17:00:00",
          "2023-05-28T18:00:00",
          "2023-05-28T19:00:00",
          "2023-05-28T20:00:00",
          "2023-05-28T21:00:00",
          "2023-05-28T22:00:00",
          "2023-05-28T23:00:00",
          "2023-05-29T00:00:00",
          "2023-05-29T01:00:00",
          "2023-05-29T02:00:00",
          "2023-05-29T03:00:00",
          "2023-05-29T04:00:00",
          "2023-05-29T05:00:00",
          "2023-05-29T06:00:00",
          "2023-05-29T07:00:00",
          "2023-05-29T08:00:00",
          "2023-05-29T09:00:00",
          "2023-05-29T10:00:00",
          "2023-05-29T11:00:00",
          "2023-05-29T12:00:00",
          "2023-05-29T13:00:00",
          "2023-05-29T14:00:00",
          "2023-05-29T15:00:00",
          "2023-05-29T16:00:00",
          "2023-05-29T17:00:00",
          "2023-05-29T18:00:00",
          "2023-05-29T19:00:00",
          "2023-05-29T20:00:00",
          "2023-05-29T21:00:00",
          "2023-05-29T22:00:00",
          "2023-05-29T23:00:00",
          "2023-05-30T00:00:00",
          "2023-05-30T01:00:00",
          "2023-05-30T02:00:00",
          "2023-05-30T03:00:00",
          "2023-05-30T04:00:00",
          "2023-05-30T05:00:00",
          "2023-05-30T06:00:00",
          "2023-05-30T07:00:00",
          "2023-05-30T08:00:00",
          "2023-05-30T09:00:00",
          "2023-05-30T10:00:00",
          "2023-05-30T11:00:00",
          "2023-05-30T12:00:00",
          "2023-05-30T13:00:00",
          "2023-05-30T14:00:00",
          "2023-05-30T15:00:00",
          "2023-05-30T16:00:00",
          "2023-05-30T17:00:00",
          "2023-05-30T18:00:00",
          "2023-05-30T19:00:00",
          "2023-05-30T20:00:00",
          "2023-05-30T21:00:00",
          "2023-05-30T22:00:00",
          "2023-05-30T23:00:00",
          "2023-05-31T00:00:00",
          "2023-05-31T01:00:00",
          "2023-05-31T02:00:00",
          "2023-05-31T03:00:00",
          "2023-05-31T04:00:00",
          "2023-05-31T05:00:00",
          "2023-05-31T06:00:00",
          "2023-05-31T07:00:00",
          "2023-05-31T08:00:00",
          "2023-05-31T09:00:00",
          "2023-05-31T10:00:00",
          "2023-05-31T11:00:00",
          "2023-05-31T12:00:00",
          "2023-05-31T13:00:00",
          "2023-05-31T14:00:00",
          "2023-05-31T15:00:00",
          "2023-05-31T16:00:00",
          "2023-05-31T17:00:00",
          "2023-05-31T18:00:00",
          "2023-05-31T19:00:00",
          "2023-05-31T20:00:00",
          "2023-05-31T21:00:00",
          "2023-05-31T22:00:00",
          "2023-05-31T23:00:00",
          "2023-06-01T00:00:00",
          "2023-06-01T01:00:00",
          "2023-06-01T02:00:00",
          "2023-06-01T03:00:00",
          "2023-06-01T04:00:00",
          "2023-06-01T05:00:00",
          "2023-06-01T06:00:00",
          "2023-06-01T07:00:00",
          "2023-06-01T08:00:00",
          "2023-06-01T09:00:00",
          "2023-06-01T10:00:00",
          "2023-06-01T11:00:00",
          "2023-06-01T12:00:00",
          "2023-06-01T13:00:00",
          "2023-06-01T14:00:00",
          "2023-06-01T15:00:00",
          "2023-06-01T16:00:00",
          "2023-06-01T17:00:00",
          "2023-06-01T18:00:00",
          "2023-06-01T19:00:00",
          "2023-06-01T20:00:00",
          "2023-06-01T21:00:00",
          "2023-06-01T22:00:00",
          "2023-06-01T23:00:00",
          "2023-06-02T00:00:00",
          "2023-06-02T01:00:00",
          "2023-06-02T02:00:00",
          "2023-06-02T03:00:00",
          "2023-06-02T04:00:00",
          "2023-06-02T05:00:00",
          "2023-06-02T06:00:00",
          "2023-06-02T07:00:00",
          "2023-06-02T08:00:00",
          "2023-06-02T09:00:00",
          "2023-06-02T10:00:00",
          "2023-06-02T11:00:00",
          "2023-06-02T12:00:00",
          "2023-06-02T13:00:00",
          "2023-06-02T14:00:00",
          "2023-06-02T15:00:00",
          "2023-06-02T16:00:00",
          "2023-06-02T17:00:00",
          "2023-06-02T18:00:00",
          "2023-06-02T19:00:00",
          "2023-06-02T20:00:00",
          "2023-06-02T21:00:00",
          "2023-06-02T22:00:00",
          "2023-06-02T23:00:00",
          "2023-06-03T00:00:00",
          "2023-06-03T01:00:00",
          "2023-06-03T02:00:00",
          "2023-06-03T03:00:00",
          "2023-06-03T04:00:00",
          "2023-06-03T05:00:00",
          "2023-06-03T06:00:00",
          "2023-06-03T07:00:00",
          "2023-06-03T08:00:00",
          "2023-06-03T09:00:00",
          "2023-06-03T10:00:00",
          "2023-06-03T11:00:00",
          "2023-06-03T12:00:00",
          "2023-06-03T13:00:00",
          "2023-06-03T14:00:00",
          "2023-06-03T15:00:00",
          "2023-06-03T16:00:00",
          "2023-06-03T17:00:00",
          "2023-06-03T18:00:00",
          "2023-06-03T19:00:00",
          "2023-06-03T20:00:00",
          "2023-06-03T21:00:00",
          "2023-06-03T22:00:00",
          "2023-06-03T23:00:00",
          "2023-06-04T00:00:00",
          "2023-06-04T01:00:00",
          "2023-06-04T02:00:00",
          "2023-06-04T03:00:00",
          "2023-06-04T04:00:00",
          "2023-06-04T05:00:00",
          "2023-06-04T06:00:00",
          "2023-06-04T07:00:00",
          "2023-06-04T08:00:00",
          "2023-06-04T09:00:00",
          "2023-06-04T10:00:00",
          "2023-06-04T11:00:00",
          "2023-06-04T12:00:00",
          "2023-06-04T13:00:00",
          "2023-06-04T14:00:00",
          "2023-06-04T15:00:00",
          "2023-06-04T16:00:00",
          "2023-06-04T17:00:00",
          "2023-06-04T18:00:00",
          "2023-06-04T19:00:00",
          "2023-06-04T20:00:00",
          "2023-06-04T21:00:00",
          "2023-06-04T22:00:00",
          "2023-06-04T23:00:00",
          "2023-06-05T00:00:00",
          "2023-06-05T01:00:00",
          "2023-06-05T02:00:00",
          "2023-06-05T03:00:00",
          "2023-06-05T04:00:00",
          "2023-06-05T05:00:00",
          "2023-06-05T06:00:00",
          "2023-06-05T07:00:00",
          "2023-06-05T08:00:00",
          "2023-06-05T09:00:00",
          "2023-06-05T10:00:00",
          "2023-06-05T11:00:00",
          "2023-06-05T12:00:00",
          "2023-06-05T13:00:00",
          "2023-06-05T14:00:00",
          "2023-06-05T15:00:00",
          "2023-06-05T16:00:00",
          "2023-06-05T17:00:00",
          "2023-06-05T18:00:00",
          "2023-06-05T19:00:00",
          "2023-06-05T20:00:00",
          "2023-06-05T21:00:00",
          "2023-06-05T22:00:00",
          "2023-06-05T23:00:00",
          "2023-06-06T00:00:00",
          "2023-06-06T01:00:00",
          "2023-06-06T02:00:00",
          "2023-06-06T03:00:00",
          "2023-06-06T04:00:00",
          "2023-06-06T05:00:00",
          "2023-06-06T06:00:00",
          "2023-06-06T07:00:00",
          "2023-06-06T08:00:00",
          "2023-06-06T09:00:00",
          "2023-06-06T10:00:00",
          "2023-06-06T11:00:00",
          "2023-06-06T12:00:00",
          "2023-06-06T13:00:00",
          "2023-06-06T14:00:00",
          "2023-06-06T15:00:00",
          "2023-06-06T16:00:00",
          "2023-06-06T17:00:00",
          "2023-06-06T18:00:00",
          "2023-06-06T19:00:00",
          "2023-06-06T20:00:00",
          "2023-06-06T21:00:00",
          "2023-06-06T22:00:00",
          "2023-06-06T23:00:00",
          "2023-06-07T00:00:00",
          "2023-06-07T01:00:00",
          "2023-06-07T02:00:00",
          "2023-06-07T03:00:00",
          "2023-06-07T04:00:00",
          "2023-06-07T05:00:00",
          "2023-06-07T06:00:00",
          "2023-06-07T07:00:00",
          "2023-06-07T08:00:00",
          "2023-06-07T09:00:00",
          "2023-06-07T10:00:00",
          "2023-06-07T11:00:00",
          "2023-06-07T12:00:00",
          "2023-06-07T13:00:00",
          "2023-06-07T14:00:00",
          "2023-06-07T15:00:00",
          "2023-06-07T16:00:00",
          "2023-06-07T17:00:00",
          "2023-06-07T18:00:00",
          "2023-06-07T19:00:00",
          "2023-06-07T20:00:00",
          "2023-06-07T21:00:00",
          "2023-06-07T22:00:00",
          "2023-06-07T23:00:00",
          "2023-06-08T00:00:00",
          "2023-06-08T01:00:00",
          "2023-06-08T02:00:00",
          "2023-06-08T03:00:00",
          "2023-06-08T04:00:00",
          "2023-06-08T05:00:00",
          "2023-06-08T06:00:00",
          "2023-06-08T07:00:00",
          "2023-06-08T08:00:00",
          "2023-06-08T09:00:00",
          "2023-06-08T10:00:00",
          "2023-06-08T11:00:00",
          "2023-06-08T12:00:00",
          "2023-06-08T13:00:00",
          "2023-06-08T14:00:00",
          "2023-06-08T15:00:00",
          "2023-06-08T16:00:00",
          "2023-06-08T17:00:00",
          "2023-06-08T18:00:00",
          "2023-06-08T19:00:00",
          "2023-06-08T20:00:00",
          "2023-06-08T21:00:00",
          "2023-06-08T22:00:00",
          "2023-06-08T23:00:00",
          "2023-06-09T00:00:00",
          "2023-06-09T01:00:00",
          "2023-06-09T02:00:00",
          "2023-06-09T03:00:00",
          "2023-06-09T04:00:00",
          "2023-06-09T05:00:00",
          "2023-06-09T06:00:00",
          "2023-06-09T07:00:00",
          "2023-06-09T08:00:00",
          "2023-06-09T09:00:00",
          "2023-06-09T10:00:00",
          "2023-06-09T11:00:00",
          "2023-06-09T12:00:00",
          "2023-06-09T13:00:00",
          "2023-06-09T14:00:00",
          "2023-06-09T15:00:00",
          "2023-06-09T16:00:00",
          "2023-06-09T17:00:00",
          "2023-06-09T18:00:00",
          "2023-06-09T19:00:00",
          "2023-06-09T20:00:00",
          "2023-06-09T21:00:00",
          "2023-06-09T22:00:00",
          "2023-06-09T23:00:00",
          "2023-06-10T00:00:00",
          "2023-06-10T01:00:00",
          "2023-06-10T02:00:00",
          "2023-06-10T03:00:00",
          "2023-06-10T04:00:00",
          "2023-06-10T05:00:00",
          "2023-06-10T06:00:00",
          "2023-06-10T07:00:00",
          "2023-06-10T08:00:00",
          "2023-06-10T09:00:00",
          "2023-06-10T10:00:00",
          "2023-06-10T11:00:00",
          "2023-06-10T12:00:00",
          "2023-06-10T13:00:00",
          "2023-06-10T14:00:00",
          "2023-06-10T15:00:00",
          "2023-06-10T16:00:00",
          "2023-06-10T17:00:00",
          "2023-06-10T18:00:00",
          "2023-06-10T19:00:00",
          "2023-06-10T20:00:00",
          "2023-06-10T21:00:00",
          "2023-06-10T22:00:00",
          "2023-06-10T23:00:00",
          "2023-06-11T00:00:00",
          "2023-06-11T01:00:00",
          "2023-06-11T02:00:00",
          "2023-06-11T03:00:00",
          "2023-06-11T04:00:00",
          "2023-06-11T05:00:00",
          "2023-06-11T06:00:00",
          "2023-06-11T07:00:00",
          "2023-06-11T08:00:00",
          "2023-06-11T09:00:00",
          "2023-06-11T10:00:00",
          "2023-06-11T11:00:00",
          "2023-06-11T12:00:00",
          "2023-06-11T13:00:00",
          "2023-06-11T14:00:00",
          "2023-06-11T15:00:00",
          "2023-06-11T16:00:00",
          "2023-06-11T17:00:00",
          "2023-06-11T18:00:00",
          "2023-06-11T19:00:00",
          "2023-06-11T20:00:00",
          "2023-06-11T21:00:00",
          "2023-06-11T22:00:00",
          "2023-06-11T23:00:00",
          "2023-06-12T00:00:00",
          "2023-06-12T01:00:00",
          "2023-06-12T02:00:00",
          "2023-06-12T03:00:00",
          "2023-06-12T04:00:00",
          "2023-06-12T05:00:00",
          "2023-06-12T06:00:00",
          "2023-06-12T07:00:00",
          "2023-06-12T08:00:00",
          "2023-06-12T09:00:00",
          "2023-06-12T10:00:00",
          "2023-06-12T11:00:00",
          "2023-06-12T12:00:00",
          "2023-06-12T13:00:00",
          "2023-06-12T14:00:00",
          "2023-06-12T15:00:00",
          "2023-06-12T16:00:00",
          "2023-06-12T17:00:00",
          "2023-06-12T18:00:00",
          "2023-06-12T19:00:00",
          "2023-06-12T20:00:00",
          "2023-06-12T21:00:00",
          "2023-06-12T22:00:00",
          "2023-06-12T23:00:00",
          "2023-06-13T00:00:00",
          "2023-06-13T01:00:00",
          "2023-06-13T02:00:00",
          "2023-06-13T03:00:00",
          "2023-06-13T04:00:00",
          "2023-06-13T05:00:00",
          "2023-06-13T06:00:00",
          "2023-06-13T07:00:00",
          "2023-06-13T08:00:00",
          "2023-06-13T09:00:00",
          "2023-06-13T10:00:00",
          "2023-06-13T11:00:00",
          "2023-06-13T12:00:00",
          "2023-06-13T13:00:00",
          "2023-06-13T14:00:00",
          "2023-06-13T15:00:00",
          "2023-06-13T16:00:00",
          "2023-06-13T17:00:00",
          "2023-06-13T18:00:00",
          "2023-06-13T19:00:00",
          "2023-06-13T20:00:00",
          "2023-06-13T21:00:00",
          "2023-06-13T22:00:00",
          "2023-06-13T23:00:00",
          "2023-06-14T00:00:00",
          "2023-06-14T01:00:00",
          "2023-06-14T02:00:00",
          "2023-06-14T03:00:00",
          "2023-06-14T04:00:00",
          "2023-06-14T05:00:00",
          "2023-06-14T06:00:00",
          "2023-06-14T07:00:00",
          "2023-06-14T08:00:00",
          "2023-06-14T09:00:00",
          "2023-06-14T10:00:00",
          "2023-06-14T11:00:00",
          "2023-06-14T12:00:00",
          "2023-06-14T13:00:00",
          "2023-06-14T14:00:00",
          "2023-06-14T15:00:00",
          "2023-06-14T16:00:00",
          "2023-06-14T17:00:00",
          "2023-06-14T18:00:00",
          "2023-06-14T19:00:00",
          "2023-06-14T20:00:00",
          "2023-06-14T21:00:00",
          "2023-06-14T22:00:00",
          "2023-06-14T23:00:00",
          "2023-06-15T00:00:00",
          "2023-06-15T01:00:00",
          "2023-06-15T02:00:00",
          "2023-06-15T03:00:00",
          "2023-06-15T04:00:00",
          "2023-06-15T05:00:00",
          "2023-06-15T06:00:00",
          "2023-06-15T07:00:00",
          "2023-06-15T08:00:00",
          "2023-06-15T09:00:00",
          "2023-06-15T10:00:00",
          "2023-06-15T11:00:00",
          "2023-06-15T12:00:00",
          "2023-06-15T13:00:00",
          "2023-06-15T14:00:00",
          "2023-06-15T15:00:00",
          "2023-06-15T16:00:00",
          "2023-06-15T17:00:00",
          "2023-06-15T18:00:00",
          "2023-06-15T19:00:00",
          "2023-06-15T20:00:00",
          "2023-06-15T21:00:00",
          "2023-06-15T22:00:00",
          "2023-06-15T23:00:00",
          "2023-06-16T00:00:00",
          "2023-06-16T01:00:00",
          "2023-06-16T02:00:00",
          "2023-06-16T03:00:00",
          "2023-06-16T04:00:00",
          "2023-06-16T05:00:00",
          "2023-06-16T06:00:00",
          "2023-06-16T07:00:00",
          "2023-06-16T08:00:00",
          "2023-06-16T09:00:00",
          "2023-06-16T10:00:00",
          "2023-06-16T11:00:00",
          "2023-06-16T12:00:00",
          "2023-06-16T13:00:00",
          "2023-06-16T14:00:00",
          "2023-06-16T15:00:00",
          "2023-06-16T16:00:00",
          "2023-06-16T17:00:00",
          "2023-06-16T18:00:00",
          "2023-06-16T19:00:00",
          "2023-06-16T20:00:00",
          "2023-06-16T21:00:00",
          "2023-06-16T22:00:00",
          "2023-06-16T23:00:00",
          "2023-06-17T00:00:00",
          "2023-06-17T01:00:00",
          "2023-06-17T02:00:00",
          "2023-06-17T03:00:00",
          "2023-06-17T04:00:00",
          "2023-06-17T05:00:00",
          "2023-06-17T06:00:00",
          "2023-06-17T07:00:00",
          "2023-06-17T08:00:00",
          "2023-06-17T09:00:00",
          "2023-06-17T10:00:00",
          "2023-06-17T11:00:00",
          "2023-06-17T12:00:00",
          "2023-06-17T13:00:00",
          "2023-06-17T14:00:00",
          "2023-06-17T15:00:00",
          "2023-06-17T16:00:00",
          "2023-06-17T17:00:00",
          "2023-06-17T18:00:00",
          "2023-06-17T19:00:00",
          "2023-06-17T20:00:00",
          "2023-06-17T21:00:00",
          "2023-06-17T22:00:00",
          "2023-06-17T23:00:00",
          "2023-06-18T00:00:00",
          "2023-06-18T01:00:00",
          "2023-06-18T02:00:00",
          "2023-06-18T03:00:00",
          "2023-06-18T04:00:00",
          "2023-06-18T05:00:00",
          "2023-06-18T06:00:00",
          "2023-06-18T07:00:00",
          "2023-06-18T08:00:00",
          "2023-06-18T09:00:00",
          "2023-06-18T10:00:00",
          "2023-06-18T11:00:00",
          "2023-06-18T12:00:00",
          "2023-06-18T13:00:00",
          "2023-06-18T14:00:00",
          "2023-06-18T15:00:00",
          "2023-06-18T16:00:00",
          "2023-06-18T17:00:00",
          "2023-06-18T18:00:00",
          "2023-06-18T19:00:00",
          "2023-06-18T20:00:00",
          "2023-06-18T21:00:00",
          "2023-06-18T22:00:00",
          "2023-06-18T23:00:00",
          "2023-06-19T00:00:00",
          "2023-06-19T01:00:00",
          "2023-06-19T02:00:00",
          "2023-06-19T03:00:00",
          "2023-06-19T04:00:00",
          "2023-06-19T05:00:00",
          "2023-06-19T06:00:00",
          "2023-06-19T07:00:00",
          "2023-06-19T08:00:00",
          "2023-06-19T09:00:00",
          "2023-06-19T10:00:00",
          "2023-06-19T11:00:00",
          "2023-06-19T12:00:00",
          "2023-06-19T13:00:00",
          "2023-06-19T14:00:00",
          "2023-06-19T15:00:00",
          "2023-06-19T16:00:00",
          "2023-06-19T17:00:00",
          "2023-06-19T18:00:00",
          "2023-06-19T19:00:00",
          "2023-06-19T20:00:00",
          "2023-06-19T21:00:00",
          "2023-06-19T22:00:00",
          "2023-06-19T23:00:00",
          "2023-06-20T00:00:00",
          "2023-06-20T01:00:00",
          "2023-06-20T02:00:00",
          "2023-06-20T03:00:00",
          "2023-06-20T04:00:00",
          "2023-06-20T05:00:00",
          "2023-06-20T06:00:00",
          "2023-06-20T07:00:00",
          "2023-06-20T08:00:00",
          "2023-06-20T09:00:00",
          "2023-06-20T10:00:00",
          "2023-06-20T11:00:00",
          "2023-06-20T12:00:00",
          "2023-06-20T13:00:00",
          "2023-06-20T14:00:00",
          "2023-06-20T15:00:00",
          "2023-06-20T16:00:00",
          "2023-06-20T17:00:00",
          "2023-06-20T18:00:00",
          "2023-06-20T19:00:00",
          "2023-06-20T20:00:00",
          "2023-06-20T21:00:00",
          "2023-06-20T22:00:00",
          "2023-06-20T23:00:00",
          "2023-06-21T00:00:00",
          "2023-06-21T01:00:00",
          "2023-06-21T02:00:00",
          "2023-06-21T03:00:00",
          "2023-06-21T04:00:00",
          "2023-06-21T05:00:00",
          "2023-06-21T06:00:00",
          "2023-06-21T07:00:00",
          "2023-06-21T08:00:00",
          "2023-06-21T09:00:00",
          "2023-06-21T10:00:00",
          "2023-06-21T11:00:00",
          "2023-06-21T12:00:00",
          "2023-06-21T13:00:00",
          "2023-06-21T14:00:00",
          "2023-06-21T15:00:00",
          "2023-06-21T16:00:00",
          "2023-06-21T17:00:00",
          "2023-06-21T18:00:00",
          "2023-06-21T19:00:00",
          "2023-06-21T20:00:00",
          "2023-06-21T21:00:00",
          "2023-06-21T22:00:00",
          "2023-06-21T23:00:00",
          "2023-06-22T00:00:00",
          "2023-06-22T01:00:00",
          "2023-06-22T02:00:00",
          "2023-06-22T03:00:00",
          "2023-06-22T04:00:00",
          "2023-06-22T05:00:00",
          "2023-06-22T06:00:00",
          "2023-06-22T07:00:00",
          "2023-06-22T08:00:00",
          "2023-06-22T09:00:00",
          "2023-06-22T10:00:00",
          "2023-06-22T11:00:00",
          "2023-06-22T12:00:00",
          "2023-06-22T13:00:00",
          "2023-06-22T14:00:00",
          "2023-06-22T15:00:00",
          "2023-06-22T16:00:00",
          "2023-06-22T17:00:00",
          "2023-06-22T18:00:00",
          "2023-06-22T19:00:00",
          "2023-06-22T20:00:00",
          "2023-06-22T21:00:00",
          "2023-06-22T22:00:00",
          "2023-06-22T23:00:00",
          "2023-06-23T00:00:00",
          "2023-06-23T01:00:00",
          "2023-06-23T02:00:00",
          "2023-06-23T03:00:00",
          "2023-06-23T04:00:00",
          "2023-06-23T05:00:00",
          "2023-06-23T06:00:00",
          "2023-06-23T07:00:00",
          "2023-06-23T08:00:00",
          "2023-06-23T09:00:00",
          "2023-06-23T10:00:00",
          "2023-06-23T11:00:00",
          "2023-06-23T12:00:00",
          "2023-06-23T13:00:00",
          "2023-06-23T14:00:00",
          "2023-06-23T15:00:00",
          "2023-06-23T16:00:00",
          "2023-06-23T17:00:00",
          "2023-06-23T18:00:00",
          "2023-06-23T19:00:00",
          "2023-06-23T20:00:00",
          "2023-06-23T21:00:00",
          "2023-06-23T22:00:00",
          "2023-06-23T23:00:00",
          "2023-06-24T00:00:00",
          "2023-06-24T01:00:00",
          "2023-06-24T02:00:00",
          "2023-06-24T03:00:00",
          "2023-06-24T04:00:00",
          "2023-06-24T05:00:00",
          "2023-06-24T06:00:00",
          "2023-06-24T07:00:00",
          "2023-06-24T08:00:00",
          "2023-06-24T09:00:00",
          "2023-06-24T10:00:00",
          "2023-06-24T11:00:00",
          "2023-06-24T12:00:00",
          "2023-06-24T13:00:00",
          "2023-06-24T14:00:00",
          "2023-06-24T15:00:00",
          "2023-06-24T16:00:00",
          "2023-06-24T17:00:00",
          "2023-06-24T18:00:00",
          "2023-06-24T19:00:00",
          "2023-06-24T20:00:00",
          "2023-06-24T21:00:00",
          "2023-06-24T22:00:00",
          "2023-06-24T23:00:00",
          "2023-06-25T00:00:00",
          "2023-06-25T01:00:00",
          "2023-06-25T02:00:00",
          "2023-06-25T03:00:00",
          "2023-06-25T04:00:00",
          "2023-06-25T05:00:00",
          "2023-06-25T06:00:00",
          "2023-06-25T07:00:00",
          "2023-06-25T08:00:00",
          "2023-06-25T09:00:00",
          "2023-06-25T10:00:00",
          "2023-06-25T11:00:00",
          "2023-06-25T12:00:00",
          "2023-06-25T13:00:00",
          "2023-06-25T14:00:00",
          "2023-06-25T15:00:00",
          "2023-06-25T16:00:00",
          "2023-06-25T17:00:00",
          "2023-06-25T18:00:00",
          "2023-06-25T19:00:00",
          "2023-06-25T20:00:00",
          "2023-06-25T21:00:00",
          "2023-06-25T22:00:00",
          "2023-06-25T23:00:00",
          "2023-06-26T00:00:00",
          "2023-06-26T01:00:00",
          "2023-06-26T02:00:00",
          "2023-06-26T03:00:00",
          "2023-06-26T04:00:00",
          "2023-06-26T05:00:00",
          "2023-06-26T06:00:00",
          "2023-06-26T07:00:00",
          "2023-06-26T08:00:00",
          "2023-06-26T09:00:00",
          "2023-06-26T10:00:00",
          "2023-06-26T11:00:00",
          "2023-06-26T12:00:00",
          "2023-06-26T13:00:00",
          "2023-06-26T14:00:00",
          "2023-06-26T15:00:00",
          "2023-06-26T16:00:00",
          "2023-06-26T17:00:00",
          "2023-06-26T18:00:00",
          "2023-06-26T19:00:00",
          "2023-06-26T20:00:00",
          "2023-06-26T21:00:00",
          "2023-06-26T22:00:00",
          "2023-06-26T23:00:00",
          "2023-06-27T00:00:00",
          "2023-06-27T01:00:00",
          "2023-06-27T02:00:00",
          "2023-06-27T03:00:00",
          "2023-06-27T04:00:00",
          "2023-06-27T05:00:00",
          "2023-06-27T06:00:00",
          "2023-06-27T07:00:00",
          "2023-06-27T08:00:00",
          "2023-06-27T09:00:00",
          "2023-06-27T10:00:00",
          "2023-06-27T11:00:00",
          "2023-06-27T12:00:00",
          "2023-06-27T13:00:00",
          "2023-06-27T14:00:00",
          "2023-06-27T15:00:00",
          "2023-06-27T16:00:00",
          "2023-06-27T17:00:00",
          "2023-06-27T18:00:00",
          "2023-06-27T19:00:00",
          "2023-06-27T20:00:00",
          "2023-06-27T21:00:00",
          "2023-06-27T22:00:00",
          "2023-06-27T23:00:00",
          "2023-06-28T00:00:00",
          "2023-06-28T01:00:00",
          "2023-06-28T02:00:00",
          "2023-06-28T03:00:00",
          "2023-06-28T04:00:00",
          "2023-06-28T05:00:00",
          "2023-06-28T06:00:00",
          "2023-06-28T07:00:00",
          "2023-06-28T08:00:00",
          "2023-06-28T09:00:00",
          "2023-06-28T10:00:00",
          "2023-06-28T11:00:00",
          "2023-06-28T12:00:00",
          "2023-06-28T13:00:00",
          "2023-06-28T14:00:00",
          "2023-06-28T15:00:00",
          "2023-06-28T16:00:00",
          "2023-06-28T17:00:00",
          "2023-06-28T18:00:00",
          "2023-06-28T19:00:00",
          "2023-06-28T20:00:00",
          "2023-06-28T21:00:00",
          "2023-06-28T22:00:00",
          "2023-06-28T23:00:00",
          "2023-06-29T00:00:00",
          "2023-06-29T01:00:00",
          "2023-06-29T02:00:00",
          "2023-06-29T03:00:00",
          "2023-06-29T04:00:00",
          "2023-06-29T05:00:00",
          "2023-06-29T06:00:00",
          "2023-06-29T07:00:00",
          "2023-06-29T08:00:00",
          "2023-06-29T09:00:00",
          "2023-06-29T10:00:00",
          "2023-06-29T11:00:00",
          "2023-06-29T12:00:00",
          "2023-06-29T13:00:00",
          "2023-06-29T14:00:00",
          "2023-06-29T15:00:00",
          "2023-06-29T16:00:00",
          "2023-06-29T17:00:00",
          "2023-06-29T18:00:00",
          "2023-06-29T19:00:00",
          "2023-06-29T20:00:00",
          "2023-06-29T21:00:00",
          "2023-06-29T22:00:00",
          "2023-06-29T23:00:00",
          "2023-06-30T00:00:00",
          "2023-06-30T01:00:00",
          "2023-06-30T02:00:00",
          "2023-06-30T03:00:00",
          "2023-06-30T04:00:00",
          "2023-06-30T05:00:00",
          "2023-06-30T06:00:00",
          "2023-06-30T07:00:00",
          "2023-06-30T08:00:00",
          "2023-06-30T09:00:00",
          "2023-06-30T10:00:00",
          "2023-06-30T11:00:00",
          "2023-06-30T12:00:00",
          "2023-06-30T13:00:00",
          "2023-06-30T14:00:00",
          "2023-06-30T15:00:00",
          "2023-06-30T16:00:00",
          "2023-06-30T17:00:00",
          "2023-06-30T18:00:00",
          "2023-06-30T19:00:00",
          "2023-06-30T20:00:00",
          "2023-06-30T21:00:00",
          "2023-06-30T22:00:00",
          "2023-06-30T23:00:00",
          "2023-07-01T00:00:00",
          "2023-07-01T01:00:00",
          "2023-07-01T02:00:00",
          "2023-07-01T03:00:00",
          "2023-07-01T04:00:00",
          "2023-07-01T05:00:00",
          "2023-07-01T06:00:00",
          "2023-07-01T07:00:00",
          "2023-07-01T08:00:00",
          "2023-07-01T09:00:00",
          "2023-07-01T10:00:00",
          "2023-07-01T11:00:00",
          "2023-07-01T12:00:00",
          "2023-07-01T13:00:00",
          "2023-07-01T14:00:00",
          "2023-07-01T15:00:00",
          "2023-07-01T16:00:00",
          "2023-07-01T17:00:00",
          "2023-07-01T18:00:00",
          "2023-07-01T19:00:00",
          "2023-07-01T20:00:00",
          "2023-07-01T21:00:00",
          "2023-07-01T22:00:00",
          "2023-07-01T23:00:00",
          "2023-07-02T00:00:00",
          "2023-07-02T01:00:00",
          "2023-07-02T02:00:00",
          "2023-07-02T03:00:00",
          "2023-07-02T04:00:00",
          "2023-07-02T05:00:00",
          "2023-07-02T06:00:00",
          "2023-07-02T07:00:00",
          "2023-07-02T08:00:00",
          "2023-07-02T09:00:00",
          "2023-07-02T10:00:00",
          "2023-07-02T11:00:00",
          "2023-07-02T12:00:00",
          "2023-07-02T13:00:00",
          "2023-07-02T14:00:00",
          "2023-07-02T15:00:00",
          "2023-07-02T16:00:00",
          "2023-07-02T17:00:00",
          "2023-07-02T18:00:00",
          "2023-07-02T19:00:00",
          "2023-07-02T20:00:00",
          "2023-07-02T21:00:00",
          "2023-07-02T22:00:00",
          "2023-07-02T23:00:00",
          "2023-07-03T00:00:00",
          "2023-07-03T01:00:00",
          "2023-07-03T02:00:00",
          "2023-07-03T03:00:00",
          "2023-07-03T04:00:00",
          "2023-07-03T05:00:00",
          "2023-07-03T06:00:00",
          "2023-07-03T07:00:00",
          "2023-07-03T08:00:00",
          "2023-07-03T09:00:00",
          "2023-07-03T10:00:00",
          "2023-07-03T11:00:00",
          "2023-07-03T12:00:00",
          "2023-07-03T13:00:00",
          "2023-07-03T14:00:00",
          "2023-07-03T15:00:00",
          "2023-07-03T16:00:00",
          "2023-07-03T17:00:00",
          "2023-07-03T18:00:00",
          "2023-07-03T19:00:00",
          "2023-07-03T20:00:00",
          "2023-07-03T21:00:00",
          "2023-07-03T22:00:00",
          "2023-07-03T23:00:00",
          "2023-07-04T00:00:00",
          "2023-07-04T01:00:00",
          "2023-07-04T02:00:00",
          "2023-07-04T03:00:00",
          "2023-07-04T04:00:00",
          "2023-07-04T05:00:00",
          "2023-07-04T06:00:00",
          "2023-07-04T07:00:00",
          "2023-07-04T08:00:00",
          "2023-07-04T09:00:00",
          "2023-07-04T10:00:00",
          "2023-07-04T11:00:00",
          "2023-07-04T12:00:00",
          "2023-07-04T13:00:00",
          "2023-07-04T14:00:00",
          "2023-07-04T15:00:00",
          "2023-07-04T16:00:00",
          "2023-07-04T17:00:00",
          "2023-07-04T18:00:00",
          "2023-07-04T19:00:00",
          "2023-07-04T20:00:00",
          "2023-07-04T21:00:00",
          "2023-07-04T22:00:00",
          "2023-07-04T23:00:00",
          "2023-07-05T00:00:00",
          "2023-07-05T01:00:00",
          "2023-07-05T02:00:00",
          "2023-07-05T03:00:00",
          "2023-07-05T04:00:00",
          "2023-07-05T05:00:00",
          "2023-07-05T06:00:00",
          "2023-07-05T07:00:00",
          "2023-07-05T08:00:00",
          "2023-07-05T09:00:00",
          "2023-07-05T10:00:00",
          "2023-07-05T11:00:00",
          "2023-07-05T12:00:00",
          "2023-07-05T13:00:00",
          "2023-07-05T14:00:00",
          "2023-07-05T15:00:00",
          "2023-07-05T16:00:00",
          "2023-07-05T17:00:00",
          "2023-07-05T18:00:00",
          "2023-07-05T19:00:00",
          "2023-07-05T20:00:00",
          "2023-07-05T21:00:00",
          "2023-07-05T22:00:00",
          "2023-07-05T23:00:00",
          "2023-07-06T00:00:00",
          "2023-07-06T01:00:00",
          "2023-07-06T02:00:00",
          "2023-07-06T03:00:00",
          "2023-07-06T04:00:00",
          "2023-07-06T05:00:00",
          "2023-07-06T06:00:00",
          "2023-07-06T07:00:00",
          "2023-07-06T08:00:00",
          "2023-07-06T09:00:00",
          "2023-07-06T10:00:00",
          "2023-07-06T11:00:00",
          "2023-07-06T12:00:00",
          "2023-07-06T13:00:00",
          "2023-07-06T14:00:00",
          "2023-07-06T15:00:00",
          "2023-07-06T16:00:00",
          "2023-07-06T17:00:00",
          "2023-07-06T18:00:00",
          "2023-07-06T19:00:00",
          "2023-07-06T20:00:00",
          "2023-07-06T21:00:00",
          "2023-07-06T22:00:00",
          "2023-07-06T23:00:00",
          "2023-07-07T00:00:00",
          "2023-07-07T01:00:00",
          "2023-07-07T02:00:00",
          "2023-07-07T03:00:00",
          "2023-07-07T04:00:00",
          "2023-07-07T05:00:00",
          "2023-07-07T06:00:00",
          "2023-07-07T07:00:00",
          "2023-07-07T08:00:00",
          "2023-07-07T09:00:00",
          "2023-07-07T10:00:00",
          "2023-07-07T11:00:00",
          "2023-07-07T12:00:00",
          "2023-07-07T13:00:00",
          "2023-07-07T14:00:00",
          "2023-07-07T15:00:00",
          "2023-07-07T16:00:00",
          "2023-07-07T17:00:00",
          "2023-07-07T18:00:00",
          "2023-07-07T19:00:00",
          "2023-07-07T20:00:00",
          "2023-07-07T21:00:00",
          "2023-07-07T22:00:00",
          "2023-07-07T23:00:00",
          "2023-07-08T00:00:00",
          "2023-07-08T01:00:00",
          "2023-07-08T02:00:00",
          "2023-07-08T03:00:00",
          "2023-07-08T04:00:00",
          "2023-07-08T05:00:00",
          "2023-07-08T06:00:00",
          "2023-07-08T07:00:00",
          "2023-07-08T08:00:00",
          "2023-07-08T09:00:00",
          "2023-07-08T10:00:00",
          "2023-07-08T11:00:00",
          "2023-07-08T12:00:00",
          "2023-07-08T13:00:00",
          "2023-07-08T14:00:00",
          "2023-07-08T15:00:00",
          "2023-07-08T16:00:00",
          "2023-07-08T17:00:00",
          "2023-07-08T18:00:00",
          "2023-07-08T19:00:00",
          "2023-07-08T20:00:00",
          "2023-07-08T21:00:00",
          "2023-07-08T22:00:00",
          "2023-07-08T23:00:00",
          "2023-07-09T00:00:00",
          "2023-07-09T01:00:00",
          "2023-07-09T02:00:00",
          "2023-07-09T03:00:00",
          "2023-07-09T04:00:00",
          "2023-07-09T05:00:00",
          "2023-07-09T06:00:00",
          "2023-07-09T07:00:00",
          "2023-07-09T08:00:00",
          "2023-07-09T09:00:00",
          "2023-07-09T10:00:00",
          "2023-07-09T11:00:00",
          "2023-07-09T12:00:00",
          "2023-07-09T13:00:00",
          "2023-07-09T14:00:00",
          "2023-07-09T15:00:00",
          "2023-07-09T16:00:00",
          "2023-07-09T17:00:00",
          "2023-07-09T18:00:00",
          "2023-07-09T19:00:00",
          "2023-07-09T20:00:00",
          "2023-07-09T21:00:00",
          "2023-07-09T22:00:00",
          "2023-07-09T23:00:00",
          "2023-07-10T00:00:00",
          "2023-07-10T01:00:00",
          "2023-07-10T02:00:00",
          "2023-07-10T03:00:00",
          "2023-07-10T04:00:00",
          "2023-07-10T05:00:00",
          "2023-07-10T06:00:00",
          "2023-07-10T07:00:00",
          "2023-07-10T08:00:00",
          "2023-07-10T09:00:00",
          "2023-07-10T10:00:00",
          "2023-07-10T11:00:00",
          "2023-07-10T12:00:00",
          "2023-07-10T13:00:00",
          "2023-07-10T14:00:00",
          "2023-07-10T15:00:00",
          "2023-07-10T16:00:00",
          "2023-07-10T17:00:00",
          "2023-07-10T18:00:00",
          "2023-07-10T19:00:00",
          "2023-07-10T20:00:00",
          "2023-07-10T21:00:00",
          "2023-07-10T22:00:00",
          "2023-07-10T23:00:00",
          "2023-07-11T00:00:00",
          "2023-07-11T01:00:00",
          "2023-07-11T02:00:00",
          "2023-07-11T03:00:00",
          "2023-07-11T04:00:00",
          "2023-07-11T05:00:00",
          "2023-07-11T06:00:00",
          "2023-07-11T07:00:00",
          "2023-07-11T08:00:00",
          "2023-07-11T09:00:00",
          "2023-07-11T10:00:00",
          "2023-07-11T11:00:00",
          "2023-07-11T12:00:00",
          "2023-07-11T13:00:00",
          "2023-07-11T14:00:00",
          "2023-07-11T15:00:00",
          "2023-07-11T16:00:00",
          "2023-07-11T17:00:00",
          "2023-07-11T18:00:00",
          "2023-07-11T19:00:00",
          "2023-07-11T20:00:00",
          "2023-07-11T21:00:00",
          "2023-07-11T22:00:00",
          "2023-07-11T23:00:00",
          "2023-07-12T00:00:00",
          "2023-07-12T01:00:00",
          "2023-07-12T02:00:00",
          "2023-07-12T03:00:00",
          "2023-07-12T04:00:00",
          "2023-07-12T05:00:00",
          "2023-07-12T06:00:00",
          "2023-07-12T07:00:00",
          "2023-07-12T08:00:00",
          "2023-07-12T09:00:00",
          "2023-07-12T10:00:00",
          "2023-07-12T11:00:00",
          "2023-07-12T12:00:00",
          "2023-07-12T13:00:00",
          "2023-07-12T14:00:00",
          "2023-07-12T15:00:00",
          "2023-07-12T16:00:00",
          "2023-07-12T17:00:00",
          "2023-07-12T18:00:00",
          "2023-07-12T19:00:00",
          "2023-07-12T20:00:00",
          "2023-07-12T21:00:00",
          "2023-07-12T22:00:00",
          "2023-07-12T23:00:00",
          "2023-07-13T00:00:00",
          "2023-07-13T01:00:00",
          "2023-07-13T02:00:00",
          "2023-07-13T03:00:00",
          "2023-07-13T04:00:00",
          "2023-07-13T05:00:00",
          "2023-07-13T06:00:00",
          "2023-07-13T07:00:00",
          "2023-07-13T08:00:00",
          "2023-07-13T09:00:00",
          "2023-07-13T10:00:00",
          "2023-07-13T11:00:00",
          "2023-07-13T12:00:00",
          "2023-07-13T13:00:00",
          "2023-07-13T14:00:00",
          "2023-07-13T15:00:00",
          "2023-07-13T16:00:00",
          "2023-07-13T17:00:00",
          "2023-07-13T18:00:00",
          "2023-07-13T19:00:00",
          "2023-07-13T20:00:00",
          "2023-07-13T21:00:00",
          "2023-07-13T22:00:00",
          "2023-07-13T23:00:00",
          "2023-07-14T00:00:00",
          "2023-07-14T01:00:00",
          "2023-07-14T02:00:00",
          "2023-07-14T03:00:00",
          "2023-07-14T04:00:00",
          "2023-07-14T05:00:00",
          "2023-07-14T06:00:00",
          "2023-07-14T07:00:00",
          "2023-07-14T08:00:00",
          "2023-07-14T09:00:00",
          "2023-07-14T10:00:00",
          "2023-07-14T11:00:00",
          "2023-07-14T12:00:00",
          "2023-07-14T13:00:00",
          "2023-07-14T14:00:00",
          "2023-07-14T15:00:00",
          "2023-07-14T16:00:00",
          "2023-07-14T17:00:00",
          "2023-07-14T18:00:00",
          "2023-07-14T19:00:00",
          "2023-07-14T20:00:00",
          "2023-07-14T21:00:00",
          "2023-07-14T22:00:00",
          "2023-07-14T23:00:00",
          "2023-07-15T00:00:00",
          "2023-07-15T01:00:00",
          "2023-07-15T02:00:00",
          "2023-07-15T03:00:00",
          "2023-07-15T04:00:00",
          "2023-07-15T05:00:00",
          "2023-07-15T06:00:00",
          "2023-07-15T07:00:00",
          "2023-07-15T08:00:00",
          "2023-07-15T09:00:00",
          "2023-07-15T10:00:00",
          "2023-07-15T11:00:00",
          "2023-07-15T12:00:00",
          "2023-07-15T13:00:00",
          "2023-07-15T14:00:00",
          "2023-07-15T15:00:00",
          "2023-07-15T16:00:00",
          "2023-07-15T17:00:00",
          "2023-07-15T18:00:00",
          "2023-07-15T19:00:00",
          "2023-07-15T20:00:00",
          "2023-07-15T21:00:00",
          "2023-07-15T22:00:00",
          "2023-07-15T23:00:00",
          "2023-07-16T00:00:00",
          "2023-07-16T01:00:00",
          "2023-07-16T02:00:00",
          "2023-07-16T03:00:00",
          "2023-07-16T04:00:00",
          "2023-07-16T05:00:00",
          "2023-07-16T06:00:00",
          "2023-07-16T07:00:00",
          "2023-07-16T08:00:00",
          "2023-07-16T09:00:00",
          "2023-07-16T10:00:00",
          "2023-07-16T11:00:00",
          "2023-07-16T12:00:00",
          "2023-07-16T13:00:00",
          "2023-07-16T14:00:00",
          "2023-07-16T15:00:00",
          "2023-07-16T16:00:00",
          "2023-07-16T17:00:00",
          "2023-07-16T18:00:00",
          "2023-07-16T19:00:00",
          "2023-07-16T20:00:00",
          "2023-07-16T21:00:00",
          "2023-07-16T22:00:00",
          "2023-07-16T23:00:00",
          "2023-07-17T00:00:00",
          "2023-07-17T01:00:00",
          "2023-07-17T02:00:00",
          "2023-07-17T03:00:00",
          "2023-07-17T04:00:00",
          "2023-07-17T05:00:00",
          "2023-07-17T06:00:00",
          "2023-07-17T07:00:00",
          "2023-07-17T08:00:00",
          "2023-07-17T09:00:00",
          "2023-07-17T10:00:00",
          "2023-07-17T11:00:00",
          "2023-07-17T12:00:00",
          "2023-07-17T13:00:00",
          "2023-07-17T14:00:00",
          "2023-07-17T15:00:00",
          "2023-07-17T16:00:00",
          "2023-07-17T17:00:00",
          "2023-07-17T18:00:00",
          "2023-07-17T19:00:00",
          "2023-07-17T20:00:00",
          "2023-07-17T21:00:00",
          "2023-07-17T22:00:00",
          "2023-07-17T23:00:00",
          "2023-07-18T00:00:00",
          "2023-07-18T01:00:00",
          "2023-07-18T02:00:00",
          "2023-07-18T03:00:00",
          "2023-07-18T04:00:00",
          "2023-07-18T05:00:00",
          "2023-07-18T06:00:00",
          "2023-07-18T07:00:00",
          "2023-07-18T08:00:00",
          "2023-07-18T09:00:00",
          "2023-07-18T10:00:00",
          "2023-07-18T11:00:00",
          "2023-07-18T12:00:00",
          "2023-07-18T13:00:00",
          "2023-07-18T14:00:00",
          "2023-07-18T15:00:00",
          "2023-07-18T16:00:00",
          "2023-07-18T17:00:00",
          "2023-07-18T18:00:00",
          "2023-07-18T19:00:00",
          "2023-07-18T20:00:00",
          "2023-07-18T21:00:00",
          "2023-07-18T22:00:00",
          "2023-07-18T23:00:00",
          "2023-07-19T00:00:00",
          "2023-07-19T01:00:00",
          "2023-07-19T02:00:00",
          "2023-07-19T03:00:00",
          "2023-07-19T04:00:00",
          "2023-07-19T05:00:00",
          "2023-07-19T06:00:00",
          "2023-07-19T07:00:00",
          "2023-07-19T08:00:00",
          "2023-07-19T09:00:00",
          "2023-07-19T10:00:00",
          "2023-07-19T11:00:00",
          "2023-07-19T12:00:00",
          "2023-07-19T13:00:00",
          "2023-07-19T14:00:00",
          "2023-07-19T15:00:00",
          "2023-07-19T16:00:00",
          "2023-07-19T17:00:00",
          "2023-07-19T18:00:00",
          "2023-07-19T19:00:00",
          "2023-07-19T20:00:00",
          "2023-07-19T21:00:00",
          "2023-07-19T22:00:00",
          "2023-07-19T23:00:00",
          "2023-07-20T00:00:00",
          "2023-07-20T01:00:00",
          "2023-07-20T02:00:00",
          "2023-07-20T03:00:00",
          "2023-07-20T04:00:00",
          "2023-07-20T05:00:00",
          "2023-07-20T06:00:00",
          "2023-07-20T07:00:00",
          "2023-07-20T08:00:00",
          "2023-07-20T09:00:00",
          "2023-07-20T10:00:00",
          "2023-07-20T11:00:00",
          "2023-07-20T12:00:00",
          "2023-07-20T13:00:00",
          "2023-07-20T14:00:00",
          "2023-07-20T15:00:00",
          "2023-07-20T16:00:00",
          "2023-07-20T17:00:00",
          "2023-07-20T18:00:00",
          "2023-07-20T19:00:00",
          "2023-07-20T20:00:00",
          "2023-07-20T21:00:00",
          "2023-07-20T22:00:00",
          "2023-07-20T23:00:00",
          "2023-07-21T00:00:00",
          "2023-07-21T01:00:00",
          "2023-07-21T02:00:00",
          "2023-07-21T03:00:00",
          "2023-07-21T04:00:00",
          "2023-07-21T05:00:00",
          "2023-07-21T06:00:00",
          "2023-07-21T07:00:00",
          "2023-07-21T08:00:00",
          "2023-07-21T09:00:00",
          "2023-07-21T10:00:00",
          "2023-07-21T11:00:00",
          "2023-07-21T12:00:00",
          "2023-07-21T13:00:00",
          "2023-07-21T14:00:00",
          "2023-07-21T15:00:00",
          "2023-07-21T16:00:00",
          "2023-07-21T17:00:00",
          "2023-07-21T18:00:00",
          "2023-07-21T19:00:00",
          "2023-07-21T20:00:00",
          "2023-07-21T21:00:00",
          "2023-07-21T22:00:00",
          "2023-07-21T23:00:00",
          "2023-07-22T00:00:00",
          "2023-07-22T01:00:00",
          "2023-07-22T02:00:00",
          "2023-07-22T03:00:00",
          "2023-07-22T04:00:00",
          "2023-07-22T05:00:00",
          "2023-07-22T06:00:00",
          "2023-07-22T07:00:00",
          "2023-07-22T08:00:00",
          "2023-07-22T09:00:00",
          "2023-07-22T10:00:00",
          "2023-07-22T11:00:00",
          "2023-07-22T12:00:00",
          "2023-07-22T13:00:00",
          "2023-07-22T14:00:00",
          "2023-07-22T15:00:00",
          "2023-07-22T16:00:00",
          "2023-07-22T17:00:00",
          "2023-07-22T18:00:00",
          "2023-07-22T19:00:00",
          "2023-07-22T20:00:00",
          "2023-07-22T21:00:00",
          "2023-07-22T22:00:00",
          "2023-07-22T23:00:00",
          "2023-07-23T00:00:00",
          "2023-07-23T01:00:00",
          "2023-07-23T02:00:00",
          "2023-07-23T03:00:00",
          "2023-07-23T04:00:00",
          "2023-07-23T05:00:00",
          "2023-07-23T06:00:00",
          "2023-07-23T07:00:00",
          "2023-07-23T08:00:00",
          "2023-07-23T09:00:00",
          "2023-07-23T10:00:00",
          "2023-07-23T11:00:00",
          "2023-07-23T12:00:00",
          "2023-07-23T13:00:00",
          "2023-07-23T14:00:00",
          "2023-07-23T15:00:00",
          "2023-07-23T16:00:00",
          "2023-07-23T17:00:00",
          "2023-07-23T18:00:00",
          "2023-07-23T19:00:00",
          "2023-07-23T20:00:00",
          "2023-07-23T21:00:00",
          "2023-07-23T22:00:00",
          "2023-07-23T23:00:00",
          "2023-07-24T00:00:00",
          "2023-07-24T01:00:00",
          "2023-07-24T02:00:00",
          "2023-07-24T03:00:00",
          "2023-07-24T04:00:00",
          "2023-07-24T05:00:00",
          "2023-07-24T06:00:00",
          "2023-07-24T07:00:00",
          "2023-07-24T08:00:00",
          "2023-07-24T09:00:00",
          "2023-07-24T10:00:00",
          "2023-07-24T11:00:00",
          "2023-07-24T12:00:00",
          "2023-07-24T13:00:00",
          "2023-07-24T14:00:00",
          "2023-07-24T15:00:00",
          "2023-07-24T16:00:00",
          "2023-07-24T17:00:00",
          "2023-07-24T18:00:00",
          "2023-07-24T19:00:00",
          "2023-07-24T20:00:00",
          "2023-07-24T21:00:00",
          "2023-07-24T22:00:00",
          "2023-07-24T23:00:00",
          "2023-07-25T00:00:00",
          "2023-07-25T01:00:00",
          "2023-07-25T02:00:00",
          "2023-07-25T03:00:00",
          "2023-07-25T04:00:00",
          "2023-07-25T05:00:00",
          "2023-07-25T06:00:00",
          "2023-07-25T07:00:00",
          "2023-07-25T08:00:00",
          "2023-07-25T09:00:00",
          "2023-07-25T10:00:00",
          "2023-07-25T11:00:00",
          "2023-07-25T12:00:00",
          "2023-07-25T13:00:00",
          "2023-07-25T14:00:00",
          "2023-07-25T15:00:00",
          "2023-07-25T16:00:00",
          "2023-07-25T17:00:00",
          "2023-07-25T18:00:00",
          "2023-07-25T19:00:00",
          "2023-07-25T20:00:00",
          "2023-07-25T21:00:00",
          "2023-07-25T22:00:00",
          "2023-07-25T23:00:00",
          "2023-07-26T00:00:00",
          "2023-07-26T01:00:00",
          "2023-07-26T02:00:00",
          "2023-07-26T03:00:00",
          "2023-07-26T04:00:00",
          "2023-07-26T05:00:00",
          "2023-07-26T06:00:00",
          "2023-07-26T07:00:00",
          "2023-07-26T08:00:00",
          "2023-07-26T09:00:00",
          "2023-07-26T10:00:00",
          "2023-07-26T11:00:00",
          "2023-07-26T12:00:00",
          "2023-07-26T13:00:00",
          "2023-07-26T14:00:00",
          "2023-07-26T15:00:00",
          "2023-07-26T16:00:00",
          "2023-07-26T17:00:00",
          "2023-07-26T18:00:00",
          "2023-07-26T19:00:00",
          "2023-07-26T20:00:00",
          "2023-07-26T21:00:00",
          "2023-07-26T22:00:00",
          "2023-07-26T23:00:00",
          "2023-07-27T00:00:00",
          "2023-07-27T01:00:00",
          "2023-07-27T02:00:00",
          "2023-07-27T03:00:00",
          "2023-07-27T04:00:00",
          "2023-07-27T05:00:00",
          "2023-07-27T06:00:00",
          "2023-07-27T07:00:00",
          "2023-07-27T08:00:00",
          "2023-07-27T09:00:00",
          "2023-07-27T10:00:00",
          "2023-07-27T11:00:00",
          "2023-07-27T12:00:00",
          "2023-07-27T13:00:00",
          "2023-07-27T14:00:00",
          "2023-07-27T15:00:00",
          "2023-07-27T16:00:00",
          "2023-07-27T17:00:00",
          "2023-07-27T18:00:00",
          "2023-07-27T19:00:00",
          "2023-07-27T20:00:00",
          "2023-07-27T21:00:00",
          "2023-07-27T22:00:00",
          "2023-07-27T23:00:00",
          "2023-07-28T00:00:00",
          "2023-07-28T01:00:00",
          "2023-07-28T02:00:00",
          "2023-07-28T03:00:00",
          "2023-07-28T04:00:00",
          "2023-07-28T05:00:00",
          "2023-07-28T06:00:00",
          "2023-07-28T07:00:00",
          "2023-07-28T08:00:00",
          "2023-07-28T09:00:00",
          "2023-07-28T10:00:00",
          "2023-07-28T11:00:00",
          "2023-07-28T12:00:00",
          "2023-07-28T13:00:00",
          "2023-07-28T14:00:00",
          "2023-07-28T15:00:00",
          "2023-07-28T16:00:00",
          "2023-07-28T17:00:00",
          "2023-07-28T18:00:00",
          "2023-07-28T19:00:00",
          "2023-07-28T20:00:00",
          "2023-07-28T21:00:00",
          "2023-07-28T22:00:00",
          "2023-07-28T23:00:00",
          "2023-07-29T00:00:00",
          "2023-07-29T01:00:00",
          "2023-07-29T02:00:00",
          "2023-07-29T03:00:00",
          "2023-07-29T04:00:00",
          "2023-07-29T05:00:00",
          "2023-07-29T06:00:00",
          "2023-07-29T07:00:00",
          "2023-07-29T08:00:00",
          "2023-07-29T09:00:00",
          "2023-07-29T10:00:00",
          "2023-07-29T11:00:00",
          "2023-07-29T12:00:00",
          "2023-07-29T13:00:00",
          "2023-07-29T14:00:00",
          "2023-07-29T15:00:00",
          "2023-07-29T16:00:00",
          "2023-07-29T17:00:00",
          "2023-07-29T18:00:00",
          "2023-07-29T19:00:00",
          "2023-07-29T20:00:00",
          "2023-07-29T21:00:00",
          "2023-07-29T22:00:00",
          "2023-07-29T23:00:00",
          "2023-07-30T00:00:00",
          "2023-07-30T01:00:00",
          "2023-07-30T02:00:00",
          "2023-07-30T03:00:00",
          "2023-07-30T04:00:00",
          "2023-07-30T05:00:00",
          "2023-07-30T06:00:00",
          "2023-07-30T07:00:00",
          "2023-07-30T08:00:00",
          "2023-07-30T09:00:00",
          "2023-07-30T10:00:00",
          "2023-07-30T11:00:00",
          "2023-07-30T12:00:00",
          "2023-07-30T13:00:00",
          "2023-07-30T14:00:00",
          "2023-07-30T15:00:00",
          "2023-07-30T16:00:00",
          "2023-07-30T17:00:00",
          "2023-07-30T18:00:00",
          "2023-07-30T19:00:00",
          "2023-07-30T20:00:00",
          "2023-07-30T21:00:00",
          "2023-07-30T22:00:00",
          "2023-07-30T23:00:00",
          "2023-07-31T00:00:00",
          "2023-07-31T01:00:00",
          "2023-07-31T02:00:00",
          "2023-07-31T03:00:00",
          "2023-07-31T04:00:00",
          "2023-07-31T05:00:00",
          "2023-07-31T06:00:00",
          "2023-07-31T07:00:00",
          "2023-07-31T08:00:00",
          "2023-07-31T09:00:00",
          "2023-07-31T10:00:00",
          "2023-07-31T11:00:00",
          "2023-07-31T12:00:00",
          "2023-07-31T13:00:00",
          "2023-07-31T14:00:00",
          "2023-07-31T15:00:00",
          "2023-07-31T16:00:00",
          "2023-07-31T17:00:00",
          "2023-07-31T18:00:00",
          "2023-07-31T19:00:00",
          "2023-07-31T20:00:00",
          "2023-07-31T21:00:00",
          "2023-07-31T22:00:00",
          "2023-07-31T23:00:00",
          "2023-08-01T00:00:00",
          "2023-08-01T01:00:00",
          "2023-08-01T02:00:00",
          "2023-08-01T03:00:00",
          "2023-08-01T04:00:00",
          "2023-08-01T05:00:00",
          "2023-08-01T06:00:00",
          "2023-08-01T07:00:00",
          "2023-08-01T08:00:00",
          "2023-08-01T09:00:00",
          "2023-08-01T10:00:00",
          "2023-08-01T11:00:00",
          "2023-08-01T12:00:00",
          "2023-08-01T13:00:00",
          "2023-08-01T14:00:00",
          "2023-08-01T15:00:00",
          "2023-08-01T16:00:00",
          "2023-08-01T17:00:00",
          "2023-08-01T18:00:00",
          "2023-08-01T19:00:00",
          "2023-08-01T20:00:00",
          "2023-08-01T21:00:00",
          "2023-08-01T22:00:00",
          "2023-08-01T23:00:00",
          "2023-08-02T00:00:00",
          "2023-08-02T01:00:00",
          "2023-08-02T02:00:00",
          "2023-08-02T03:00:00",
          "2023-08-02T04:00:00",
          "2023-08-02T05:00:00",
          "2023-08-02T06:00:00",
          "2023-08-02T07:00:00",
          "2023-08-02T08:00:00",
          "2023-08-02T09:00:00",
          "2023-08-02T10:00:00",
          "2023-08-02T11:00:00",
          "2023-08-02T12:00:00",
          "2023-08-02T13:00:00",
          "2023-08-02T14:00:00",
          "2023-08-02T15:00:00",
          "2023-08-02T16:00:00",
          "2023-08-02T17:00:00",
          "2023-08-02T18:00:00",
          "2023-08-02T19:00:00",
          "2023-08-02T20:00:00",
          "2023-08-02T21:00:00",
          "2023-08-02T22:00:00",
          "2023-08-02T23:00:00",
          "2023-08-03T00:00:00",
          "2023-08-03T01:00:00",
          "2023-08-03T02:00:00",
          "2023-08-03T03:00:00",
          "2023-08-03T04:00:00",
          "2023-08-03T05:00:00",
          "2023-08-03T06:00:00",
          "2023-08-03T07:00:00",
          "2023-08-03T08:00:00",
          "2023-08-03T09:00:00",
          "2023-08-03T10:00:00",
          "2023-08-03T11:00:00",
          "2023-08-03T12:00:00",
          "2023-08-03T13:00:00",
          "2023-08-03T14:00:00",
          "2023-08-03T15:00:00",
          "2023-08-03T16:00:00",
          "2023-08-03T17:00:00",
          "2023-08-03T18:00:00",
          "2023-08-03T19:00:00",
          "2023-08-03T20:00:00",
          "2023-08-03T21:00:00",
          "2023-08-03T22:00:00",
          "2023-08-03T23:00:00",
          "2023-08-04T00:00:00",
          "2023-08-04T01:00:00",
          "2023-08-04T02:00:00",
          "2023-08-04T03:00:00",
          "2023-08-04T04:00:00",
          "2023-08-04T05:00:00",
          "2023-08-04T06:00:00",
          "2023-08-04T07:00:00",
          "2023-08-04T08:00:00",
          "2023-08-04T09:00:00",
          "2023-08-04T10:00:00",
          "2023-08-04T11:00:00",
          "2023-08-04T12:00:00",
          "2023-08-04T13:00:00",
          "2023-08-04T14:00:00",
          "2023-08-04T15:00:00",
          "2023-08-04T16:00:00",
          "2023-08-04T17:00:00",
          "2023-08-04T18:00:00",
          "2023-08-04T19:00:00",
          "2023-08-04T20:00:00",
          "2023-08-04T21:00:00",
          "2023-08-04T22:00:00",
          "2023-08-04T23:00:00",
          "2023-08-05T00:00:00",
          "2023-08-05T01:00:00",
          "2023-08-05T02:00:00",
          "2023-08-05T03:00:00",
          "2023-08-05T04:00:00",
          "2023-08-05T05:00:00",
          "2023-08-05T06:00:00",
          "2023-08-05T07:00:00",
          "2023-08-05T08:00:00",
          "2023-08-05T09:00:00",
          "2023-08-05T10:00:00",
          "2023-08-05T11:00:00",
          "2023-08-05T12:00:00",
          "2023-08-05T13:00:00",
          "2023-08-05T14:00:00",
          "2023-08-05T15:00:00",
          "2023-08-05T16:00:00",
          "2023-08-05T17:00:00",
          "2023-08-05T18:00:00",
          "2023-08-05T19:00:00",
          "2023-08-05T20:00:00",
          "2023-08-05T21:00:00",
          "2023-08-05T22:00:00",
          "2023-08-05T23:00:00",
          "2023-08-06T00:00:00",
          "2023-08-06T01:00:00",
          "2023-08-06T02:00:00",
          "2023-08-06T03:00:00",
          "2023-08-06T04:00:00",
          "2023-08-06T05:00:00",
          "2023-08-06T06:00:00",
          "2023-08-06T07:00:00",
          "2023-08-06T08:00:00",
          "2023-08-06T09:00:00",
          "2023-08-06T10:00:00",
          "2023-08-06T11:00:00",
          "2023-08-06T12:00:00",
          "2023-08-06T13:00:00",
          "2023-08-06T14:00:00",
          "2023-08-06T15:00:00",
          "2023-08-06T16:00:00",
          "2023-08-06T17:00:00",
          "2023-08-06T18:00:00",
          "2023-08-06T19:00:00",
          "2023-08-06T20:00:00",
          "2023-08-06T21:00:00",
          "2023-08-06T22:00:00",
          "2023-08-06T23:00:00",
          "2023-08-07T00:00:00",
          "2023-08-07T01:00:00",
          "2023-08-07T02:00:00",
          "2023-08-07T03:00:00",
          "2023-08-07T04:00:00",
          "2023-08-07T05:00:00",
          "2023-08-07T06:00:00",
          "2023-08-07T07:00:00",
          "2023-08-07T08:00:00",
          "2023-08-07T09:00:00",
          "2023-08-07T10:00:00",
          "2023-08-07T11:00:00",
          "2023-08-07T12:00:00",
          "2023-08-07T13:00:00",
          "2023-08-07T14:00:00",
          "2023-08-07T15:00:00",
          "2023-08-07T16:00:00",
          "2023-08-07T17:00:00",
          "2023-08-07T18:00:00",
          "2023-08-07T19:00:00",
          "2023-08-07T20:00:00",
          "2023-08-07T21:00:00",
          "2023-08-07T22:00:00",
          "2023-08-07T23:00:00",
          "2023-08-08T00:00:00",
          "2023-08-08T01:00:00",
          "2023-08-08T02:00:00",
          "2023-08-08T03:00:00",
          "2023-08-08T04:00:00",
          "2023-08-08T05:00:00",
          "2023-08-08T06:00:00",
          "2023-08-08T07:00:00",
          "2023-08-08T08:00:00",
          "2023-08-08T09:00:00",
          "2023-08-08T10:00:00",
          "2023-08-08T11:00:00",
          "2023-08-08T12:00:00",
          "2023-08-08T13:00:00",
          "2023-08-08T14:00:00",
          "2023-08-08T15:00:00",
          "2023-08-08T16:00:00",
          "2023-08-08T17:00:00",
          "2023-08-08T18:00:00",
          "2023-08-08T19:00:00",
          "2023-08-08T20:00:00",
          "2023-08-08T21:00:00",
          "2023-08-08T22:00:00",
          "2023-08-08T23:00:00",
          "2023-08-09T00:00:00",
          "2023-08-09T01:00:00",
          "2023-08-09T02:00:00",
          "2023-08-09T03:00:00",
          "2023-08-09T04:00:00",
          "2023-08-09T05:00:00",
          "2023-08-09T06:00:00",
          "2023-08-09T07:00:00",
          "2023-08-09T08:00:00",
          "2023-08-09T09:00:00",
          "2023-08-09T10:00:00",
          "2023-08-09T11:00:00",
          "2023-08-09T12:00:00",
          "2023-08-09T13:00:00",
          "2023-08-09T14:00:00",
          "2023-08-09T15:00:00",
          "2023-08-09T16:00:00",
          "2023-08-09T17:00:00",
          "2023-08-09T18:00:00",
          "2023-08-09T19:00:00",
          "2023-08-09T20:00:00",
          "2023-08-09T21:00:00",
          "2023-08-09T22:00:00",
          "2023-08-09T23:00:00",
          "2023-08-10T00:00:00",
          "2023-08-10T01:00:00",
          "2023-08-10T02:00:00",
          "2023-08-10T03:00:00",
          "2023-08-10T04:00:00",
          "2023-08-10T05:00:00",
          "2023-08-10T06:00:00",
          "2023-08-10T07:00:00",
          "2023-08-10T08:00:00",
          "2023-08-10T09:00:00",
          "2023-08-10T10:00:00",
          "2023-08-10T11:00:00",
          "2023-08-10T12:00:00",
          "2023-08-10T13:00:00",
          "2023-08-10T14:00:00",
          "2023-08-10T15:00:00",
          "2023-08-10T16:00:00",
          "2023-08-10T17:00:00",
          "2023-08-10T18:00:00",
          "2023-08-10T19:00:00",
          "2023-08-10T20:00:00",
          "2023-08-10T21:00:00",
          "2023-08-10T22:00:00",
          "2023-08-10T23:00:00",
          "2023-08-11T00:00:00",
          "2023-08-11T01:00:00",
          "2023-08-11T02:00:00",
          "2023-08-11T03:00:00",
          "2023-08-11T04:00:00",
          "2023-08-11T05:00:00",
          "2023-08-11T06:00:00",
          "2023-08-11T07:00:00",
          "2023-08-11T08:00:00",
          "2023-08-11T09:00:00",
          "2023-08-11T10:00:00",
          "2023-08-11T11:00:00",
          "2023-08-11T12:00:00",
          "2023-08-11T13:00:00",
          "2023-08-11T14:00:00",
          "2023-08-11T15:00:00",
          "2023-08-11T16:00:00",
          "2023-08-11T17:00:00",
          "2023-08-11T18:00:00",
          "2023-08-11T19:00:00",
          "2023-08-11T20:00:00",
          "2023-08-11T21:00:00",
          "2023-08-11T22:00:00",
          "2023-08-11T23:00:00",
          "2023-08-12T00:00:00",
          "2023-08-12T01:00:00",
          "2023-08-12T02:00:00",
          "2023-08-12T03:00:00",
          "2023-08-12T04:00:00",
          "2023-08-12T05:00:00",
          "2023-08-12T06:00:00",
          "2023-08-12T07:00:00",
          "2023-08-12T08:00:00",
          "2023-08-12T09:00:00",
          "2023-08-12T10:00:00",
          "2023-08-12T11:00:00",
          "2023-08-12T12:00:00",
          "2023-08-12T13:00:00",
          "2023-08-12T14:00:00",
          "2023-08-12T15:00:00",
          "2023-08-12T16:00:00",
          "2023-08-12T17:00:00",
          "2023-08-12T18:00:00",
          "2023-08-12T19:00:00",
          "2023-08-12T20:00:00",
          "2023-08-12T21:00:00",
          "2023-08-12T22:00:00",
          "2023-08-12T23:00:00",
          "2023-08-13T00:00:00",
          "2023-08-13T01:00:00",
          "2023-08-13T02:00:00",
          "2023-08-13T03:00:00",
          "2023-08-13T04:00:00",
          "2023-08-13T05:00:00",
          "2023-08-13T06:00:00",
          "2023-08-13T07:00:00",
          "2023-08-13T08:00:00",
          "2023-08-13T09:00:00",
          "2023-08-13T10:00:00",
          "2023-08-13T11:00:00",
          "2023-08-13T12:00:00",
          "2023-08-13T13:00:00",
          "2023-08-13T14:00:00",
          "2023-08-13T15:00:00",
          "2023-08-13T16:00:00",
          "2023-08-13T17:00:00",
          "2023-08-13T18:00:00",
          "2023-08-13T19:00:00",
          "2023-08-13T20:00:00",
          "2023-08-13T21:00:00",
          "2023-08-13T22:00:00",
          "2023-08-13T23:00:00",
          "2023-08-14T00:00:00",
          "2023-08-14T01:00:00",
          "2023-08-14T02:00:00",
          "2023-08-14T03:00:00",
          "2023-08-14T04:00:00",
          "2023-08-14T05:00:00",
          "2023-08-14T06:00:00",
          "2023-08-14T07:00:00",
          "2023-08-14T08:00:00",
          "2023-08-14T09:00:00",
          "2023-08-14T10:00:00",
          "2023-08-14T11:00:00",
          "2023-08-14T12:00:00",
          "2023-08-14T13:00:00",
          "2023-08-14T14:00:00",
          "2023-08-14T15:00:00",
          "2023-08-14T16:00:00",
          "2023-08-14T17:00:00",
          "2023-08-14T18:00:00",
          "2023-08-14T19:00:00",
          "2023-08-14T20:00:00",
          "2023-08-14T21:00:00",
          "2023-08-14T22:00:00",
          "2023-08-14T23:00:00",
          "2023-08-15T00:00:00",
          "2023-08-15T01:00:00",
          "2023-08-15T02:00:00",
          "2023-08-15T03:00:00",
          "2023-08-15T04:00:00",
          "2023-08-15T05:00:00",
          "2023-08-15T06:00:00",
          "2023-08-15T07:00:00",
          "2023-08-15T08:00:00",
          "2023-08-15T09:00:00",
          "2023-08-15T10:00:00",
          "2023-08-15T11:00:00",
          "2023-08-15T12:00:00",
          "2023-08-15T13:00:00",
          "2023-08-15T14:00:00",
          "2023-08-15T15:00:00",
          "2023-08-15T16:00:00",
          "2023-08-15T17:00:00",
          "2023-08-15T18:00:00",
          "2023-08-15T19:00:00",
          "2023-08-15T20:00:00",
          "2023-08-15T21:00:00",
          "2023-08-15T22:00:00",
          "2023-08-15T23:00:00",
          "2023-08-16T00:00:00",
          "2023-08-16T01:00:00",
          "2023-08-16T02:00:00",
          "2023-08-16T03:00:00",
          "2023-08-16T04:00:00",
          "2023-08-16T05:00:00",
          "2023-08-16T06:00:00",
          "2023-08-16T07:00:00",
          "2023-08-16T08:00:00",
          "2023-08-16T09:00:00",
          "2023-08-16T10:00:00",
          "2023-08-16T11:00:00",
          "2023-08-16T12:00:00",
          "2023-08-16T13:00:00",
          "2023-08-16T14:00:00",
          "2023-08-16T15:00:00",
          "2023-08-16T16:00:00",
          "2023-08-16T17:00:00",
          "2023-08-16T18:00:00",
          "2023-08-16T19:00:00",
          "2023-08-16T20:00:00",
          "2023-08-16T21:00:00",
          "2023-08-16T22:00:00",
          "2023-08-16T23:00:00",
          "2023-08-17T00:00:00",
          "2023-08-17T01:00:00",
          "2023-08-17T02:00:00",
          "2023-08-17T03:00:00",
          "2023-08-17T04:00:00",
          "2023-08-17T05:00:00",
          "2023-08-17T06:00:00",
          "2023-08-17T07:00:00",
          "2023-08-17T08:00:00",
          "2023-08-17T09:00:00",
          "2023-08-17T10:00:00",
          "2023-08-17T11:00:00",
          "2023-08-17T12:00:00",
          "2023-08-17T13:00:00",
          "2023-08-17T14:00:00",
          "2023-08-17T15:00:00",
          "2023-08-17T16:00:00",
          "2023-08-17T17:00:00",
          "2023-08-17T18:00:00",
          "2023-08-17T19:00:00",
          "2023-08-17T20:00:00",
          "2023-08-17T21:00:00",
          "2023-08-17T22:00:00",
          "2023-08-17T23:00:00",
          "2023-08-18T00:00:00",
          "2023-08-18T01:00:00",
          "2023-08-18T02:00:00",
          "2023-08-18T03:00:00",
          "2023-08-18T04:00:00",
          "2023-08-18T05:00:00",
          "2023-08-18T06:00:00",
          "2023-08-18T07:00:00",
          "2023-08-18T08:00:00",
          "2023-08-18T09:00:00",
          "2023-08-18T10:00:00",
          "2023-08-18T11:00:00",
          "2023-08-18T12:00:00",
          "2023-08-18T13:00:00",
          "2023-08-18T14:00:00",
          "2023-08-18T15:00:00",
          "2023-08-18T16:00:00",
          "2023-08-18T17:00:00",
          "2023-08-18T18:00:00",
          "2023-08-18T19:00:00",
          "2023-08-18T20:00:00",
          "2023-08-18T21:00:00",
          "2023-08-18T22:00:00",
          "2023-08-18T23:00:00",
          "2023-08-19T00:00:00",
          "2023-08-19T01:00:00",
          "2023-08-19T02:00:00",
          "2023-08-19T03:00:00",
          "2023-08-19T04:00:00",
          "2023-08-19T05:00:00",
          "2023-08-19T06:00:00",
          "2023-08-19T07:00:00",
          "2023-08-19T08:00:00",
          "2023-08-19T09:00:00",
          "2023-08-19T10:00:00",
          "2023-08-19T11:00:00",
          "2023-08-19T12:00:00",
          "2023-08-19T13:00:00",
          "2023-08-19T14:00:00",
          "2023-08-19T15:00:00",
          "2023-08-19T16:00:00",
          "2023-08-19T17:00:00",
          "2023-08-19T18:00:00",
          "2023-08-19T19:00:00",
          "2023-08-19T20:00:00",
          "2023-08-19T21:00:00",
          "2023-08-19T22:00:00",
          "2023-08-19T23:00:00",
          "2023-08-20T00:00:00",
          "2023-08-20T01:00:00",
          "2023-08-20T02:00:00",
          "2023-08-20T03:00:00",
          "2023-08-20T04:00:00",
          "2023-08-20T05:00:00",
          "2023-08-20T06:00:00",
          "2023-08-20T07:00:00",
          "2023-08-20T08:00:00",
          "2023-08-20T09:00:00",
          "2023-08-20T10:00:00",
          "2023-08-20T11:00:00",
          "2023-08-20T12:00:00",
          "2023-08-20T13:00:00",
          "2023-08-20T14:00:00",
          "2023-08-20T15:00:00",
          "2023-08-20T16:00:00",
          "2023-08-20T17:00:00",
          "2023-08-20T18:00:00",
          "2023-08-20T19:00:00",
          "2023-08-20T20:00:00",
          "2023-08-20T21:00:00",
          "2023-08-20T22:00:00",
          "2023-08-20T23:00:00",
          "2023-08-21T00:00:00",
          "2023-08-21T01:00:00",
          "2023-08-21T02:00:00",
          "2023-08-21T03:00:00",
          "2023-08-21T04:00:00",
          "2023-08-21T05:00:00",
          "2023-08-21T06:00:00",
          "2023-08-21T07:00:00",
          "2023-08-21T08:00:00",
          "2023-08-21T09:00:00",
          "2023-08-21T10:00:00",
          "2023-08-21T11:00:00",
          "2023-08-21T12:00:00",
          "2023-08-21T13:00:00",
          "2023-08-21T14:00:00",
          "2023-08-21T15:00:00",
          "2023-08-21T16:00:00",
          "2023-08-21T17:00:00",
          "2023-08-21T18:00:00",
          "2023-08-21T19:00:00",
          "2023-08-21T20:00:00",
          "2023-08-21T21:00:00",
          "2023-08-21T22:00:00",
          "2023-08-21T23:00:00",
          "2023-08-22T00:00:00",
          "2023-08-22T01:00:00",
          "2023-08-22T02:00:00",
          "2023-08-22T03:00:00",
          "2023-08-22T04:00:00",
          "2023-08-22T05:00:00",
          "2023-08-22T06:00:00",
          "2023-08-22T07:00:00",
          "2023-08-22T08:00:00",
          "2023-08-22T09:00:00",
          "2023-08-22T10:00:00",
          "2023-08-22T11:00:00",
          "2023-08-22T12:00:00",
          "2023-08-22T13:00:00",
          "2023-08-22T14:00:00",
          "2023-08-22T15:00:00",
          "2023-08-22T16:00:00",
          "2023-08-22T17:00:00",
          "2023-08-22T18:00:00",
          "2023-08-22T19:00:00",
          "2023-08-22T20:00:00",
          "2023-08-22T21:00:00",
          "2023-08-22T22:00:00",
          "2023-08-22T23:00:00",
          "2023-08-23T00:00:00",
          "2023-08-23T01:00:00",
          "2023-08-23T02:00:00",
          "2023-08-23T03:00:00",
          "2023-08-23T04:00:00",
          "2023-08-23T05:00:00",
          "2023-08-23T06:00:00",
          "2023-08-23T07:00:00",
          "2023-08-23T08:00:00",
          "2023-08-23T09:00:00",
          "2023-08-23T10:00:00",
          "2023-08-23T11:00:00",
          "2023-08-23T12:00:00",
          "2023-08-23T13:00:00",
          "2023-08-23T14:00:00",
          "2023-08-23T15:00:00",
          "2023-08-23T16:00:00",
          "2023-08-23T17:00:00",
          "2023-08-23T18:00:00",
          "2023-08-23T19:00:00",
          "2023-08-23T20:00:00",
          "2023-08-23T21:00:00",
          "2023-08-23T22:00:00",
          "2023-08-23T23:00:00",
          "2023-08-24T00:00:00",
          "2023-08-24T01:00:00",
          "2023-08-24T02:00:00",
          "2023-08-24T03:00:00",
          "2023-08-24T04:00:00",
          "2023-08-24T05:00:00",
          "2023-08-24T06:00:00",
          "2023-08-24T07:00:00",
          "2023-08-24T08:00:00",
          "2023-08-24T09:00:00",
          "2023-08-24T10:00:00",
          "2023-08-24T11:00:00",
          "2023-08-24T12:00:00",
          "2023-08-24T13:00:00",
          "2023-08-24T14:00:00",
          "2023-08-24T15:00:00",
          "2023-08-24T16:00:00",
          "2023-08-24T17:00:00",
          "2023-08-24T18:00:00",
          "2023-08-24T19:00:00",
          "2023-08-24T20:00:00",
          "2023-08-24T21:00:00",
          "2023-08-24T22:00:00",
          "2023-08-24T23:00:00",
          "2023-08-25T00:00:00",
          "2023-08-25T01:00:00",
          "2023-08-25T02:00:00",
          "2023-08-25T03:00:00",
          "2023-08-25T04:00:00",
          "2023-08-25T05:00:00",
          "2023-08-25T06:00:00",
          "2023-08-25T07:00:00",
          "2023-08-25T08:00:00",
          "2023-08-25T09:00:00",
          "2023-08-25T10:00:00",
          "2023-08-25T11:00:00",
          "2023-08-25T12:00:00",
          "2023-08-25T13:00:00",
          "2023-08-25T14:00:00",
          "2023-08-25T15:00:00",
          "2023-08-25T16:00:00",
          "2023-08-25T17:00:00",
          "2023-08-25T18:00:00",
          "2023-08-25T19:00:00",
          "2023-08-25T20:00:00",
          "2023-08-25T21:00:00",
          "2023-08-25T22:00:00",
          "2023-08-25T23:00:00",
          "2023-08-26T00:00:00",
          "2023-08-26T01:00:00",
          "2023-08-26T02:00:00",
          "2023-08-26T03:00:00",
          "2023-08-26T04:00:00",
          "2023-08-26T05:00:00",
          "2023-08-26T06:00:00",
          "2023-08-26T07:00:00",
          "2023-08-26T08:00:00",
          "2023-08-26T09:00:00",
          "2023-08-26T10:00:00",
          "2023-08-26T11:00:00",
          "2023-08-26T12:00:00",
          "2023-08-26T13:00:00",
          "2023-08-26T14:00:00",
          "2023-08-26T15:00:00",
          "2023-08-26T16:00:00",
          "2023-08-26T17:00:00",
          "2023-08-26T18:00:00",
          "2023-08-26T19:00:00",
          "2023-08-26T20:00:00",
          "2023-08-26T21:00:00",
          "2023-08-26T22:00:00",
          "2023-08-26T23:00:00",
          "2023-08-27T00:00:00",
          "2023-08-27T01:00:00",
          "2023-08-27T02:00:00",
          "2023-08-27T03:00:00",
          "2023-08-27T04:00:00",
          "2023-08-27T05:00:00",
          "2023-08-27T06:00:00",
          "2023-08-27T07:00:00",
          "2023-08-27T08:00:00",
          "2023-08-27T09:00:00",
          "2023-08-27T10:00:00",
          "2023-08-27T11:00:00",
          "2023-08-27T12:00:00",
          "2023-08-27T13:00:00",
          "2023-08-27T14:00:00",
          "2023-08-27T15:00:00",
          "2023-08-27T16:00:00",
          "2023-08-27T17:00:00",
          "2023-08-27T18:00:00",
          "2023-08-27T19:00:00",
          "2023-08-27T20:00:00",
          "2023-08-27T21:00:00",
          "2023-08-27T22:00:00",
          "2023-08-27T23:00:00",
          "2023-08-28T00:00:00",
          "2023-08-28T01:00:00",
          "2023-08-28T02:00:00",
          "2023-08-28T03:00:00",
          "2023-08-28T04:00:00",
          "2023-08-28T05:00:00",
          "2023-08-28T06:00:00",
          "2023-08-28T07:00:00",
          "2023-08-28T08:00:00",
          "2023-08-28T09:00:00",
          "2023-08-28T10:00:00",
          "2023-08-28T11:00:00",
          "2023-08-28T12:00:00",
          "2023-08-28T13:00:00",
          "2023-08-28T14:00:00",
          "2023-08-28T15:00:00",
          "2023-08-28T16:00:00",
          "2023-08-28T17:00:00",
          "2023-08-28T18:00:00",
          "2023-08-28T19:00:00",
          "2023-08-28T20:00:00",
          "2023-08-28T21:00:00",
          "2023-08-28T22:00:00",
          "2023-08-28T23:00:00",
          "2023-08-29T00:00:00",
          "2023-08-29T01:00:00",
          "2023-08-29T02:00:00",
          "2023-08-29T03:00:00",
          "2023-08-29T04:00:00",
          "2023-08-29T05:00:00",
          "2023-08-29T06:00:00",
          "2023-08-29T07:00:00",
          "2023-08-29T08:00:00",
          "2023-08-29T09:00:00",
          "2023-08-29T10:00:00",
          "2023-08-29T11:00:00",
          "2023-08-29T12:00:00",
          "2023-08-29T13:00:00",
          "2023-08-29T14:00:00",
          "2023-08-29T15:00:00",
          "2023-08-29T16:00:00",
          "2023-08-29T17:00:00",
          "2023-08-29T18:00:00",
          "2023-08-29T19:00:00",
          "2023-08-29T20:00:00",
          "2023-08-29T21:00:00",
          "2023-08-29T22:00:00",
          "2023-08-29T23:00:00",
          "2023-08-30T00:00:00",
          "2023-08-30T01:00:00",
          "2023-08-30T02:00:00",
          "2023-08-30T03:00:00",
          "2023-08-30T04:00:00",
          "2023-08-30T05:00:00",
          "2023-08-30T06:00:00",
          "2023-08-30T07:00:00",
          "2023-08-30T08:00:00",
          "2023-08-30T09:00:00",
          "2023-08-30T10:00:00",
          "2023-08-30T11:00:00",
          "2023-08-30T12:00:00",
          "2023-08-30T13:00:00",
          "2023-08-30T14:00:00",
          "2023-08-30T15:00:00",
          "2023-08-30T16:00:00",
          "2023-08-30T17:00:00",
          "2023-08-30T18:00:00",
          "2023-08-30T19:00:00",
          "2023-08-30T20:00:00",
          "2023-08-30T21:00:00",
          "2023-08-30T22:00:00",
          "2023-08-30T23:00:00",
          "2023-08-31T00:00:00",
          "2023-08-31T01:00:00",
          "2023-08-31T02:00:00",
          "2023-08-31T03:00:00",
          "2023-08-31T04:00:00",
          "2023-08-31T05:00:00",
          "2023-08-31T06:00:00",
          "2023-08-31T07:00:00",
          "2023-08-31T08:00:00",
          "2023-08-31T09:00:00",
          "2023-08-31T10:00:00",
          "2023-08-31T11:00:00",
          "2023-08-31T12:00:00",
          "2023-08-31T13:00:00",
          "2023-08-31T14:00:00",
          "2023-08-31T15:00:00",
          "2023-08-31T16:00:00",
          "2023-08-31T17:00:00",
          "2023-08-31T18:00:00",
          "2023-08-31T19:00:00",
          "2023-08-31T20:00:00",
          "2023-08-31T21:00:00",
          "2023-08-31T22:00:00",
          "2023-08-31T23:00:00",
          "2023-09-01T00:00:00",
          "2023-09-01T01:00:00",
          "2023-09-01T02:00:00",
          "2023-09-01T03:00:00",
          "2023-09-01T04:00:00",
          "2023-09-01T05:00:00",
          "2023-09-01T06:00:00",
          "2023-09-01T07:00:00",
          "2023-09-01T08:00:00",
          "2023-09-01T09:00:00",
          "2023-09-01T10:00:00",
          "2023-09-01T11:00:00",
          "2023-09-01T12:00:00",
          "2023-09-01T13:00:00",
          "2023-09-01T14:00:00",
          "2023-09-01T15:00:00",
          "2023-09-01T16:00:00",
          "2023-09-01T17:00:00",
          "2023-09-01T18:00:00",
          "2023-09-01T19:00:00",
          "2023-09-01T20:00:00",
          "2023-09-01T21:00:00",
          "2023-09-01T22:00:00",
          "2023-09-01T23:00:00",
          "2023-09-02T00:00:00",
          "2023-09-02T01:00:00",
          "2023-09-02T02:00:00",
          "2023-09-02T03:00:00",
          "2023-09-02T04:00:00",
          "2023-09-02T05:00:00",
          "2023-09-02T06:00:00",
          "2023-09-02T07:00:00",
          "2023-09-02T08:00:00",
          "2023-09-02T09:00:00",
          "2023-09-02T10:00:00",
          "2023-09-02T11:00:00",
          "2023-09-02T12:00:00",
          "2023-09-02T13:00:00",
          "2023-09-02T14:00:00",
          "2023-09-02T15:00:00",
          "2023-09-02T16:00:00",
          "2023-09-02T17:00:00",
          "2023-09-02T18:00:00",
          "2023-09-02T19:00:00",
          "2023-09-02T20:00:00",
          "2023-09-02T21:00:00",
          "2023-09-02T22:00:00",
          "2023-09-02T23:00:00",
          "2023-09-03T00:00:00",
          "2023-09-03T01:00:00",
          "2023-09-03T02:00:00",
          "2023-09-03T03:00:00",
          "2023-09-03T04:00:00",
          "2023-09-03T05:00:00",
          "2023-09-03T06:00:00",
          "2023-09-03T07:00:00",
          "2023-09-03T08:00:00",
          "2023-09-03T09:00:00",
          "2023-09-03T10:00:00",
          "2023-09-03T11:00:00",
          "2023-09-03T12:00:00",
          "2023-09-03T13:00:00",
          "2023-09-03T14:00:00",
          "2023-09-03T15:00:00",
          "2023-09-03T16:00:00",
          "2023-09-03T17:00:00",
          "2023-09-03T18:00:00",
          "2023-09-03T19:00:00",
          "2023-09-03T20:00:00",
          "2023-09-03T21:00:00",
          "2023-09-03T22:00:00",
          "2023-09-03T23:00:00",
          "2023-09-04T00:00:00",
          "2023-09-04T01:00:00",
          "2023-09-04T02:00:00",
          "2023-09-04T03:00:00",
          "2023-09-04T04:00:00",
          "2023-09-04T05:00:00",
          "2023-09-04T06:00:00",
          "2023-09-04T07:00:00",
          "2023-09-04T08:00:00",
          "2023-09-04T09:00:00",
          "2023-09-04T10:00:00",
          "2023-09-04T11:00:00",
          "2023-09-04T12:00:00",
          "2023-09-04T13:00:00",
          "2023-09-04T14:00:00",
          "2023-09-04T15:00:00",
          "2023-09-04T16:00:00",
          "2023-09-04T17:00:00",
          "2023-09-04T18:00:00",
          "2023-09-04T19:00:00",
          "2023-09-04T20:00:00",
          "2023-09-04T21:00:00",
          "2023-09-04T22:00:00",
          "2023-09-04T23:00:00",
          "2023-09-05T00:00:00",
          "2023-09-05T01:00:00",
          "2023-09-05T02:00:00",
          "2023-09-05T03:00:00",
          "2023-09-05T04:00:00",
          "2023-09-05T05:00:00",
          "2023-09-05T06:00:00",
          "2023-09-05T07:00:00",
          "2023-09-05T08:00:00",
          "2023-09-05T09:00:00",
          "2023-09-05T10:00:00",
          "2023-09-05T11:00:00",
          "2023-09-05T12:00:00",
          "2023-09-05T13:00:00",
          "2023-09-05T14:00:00",
          "2023-09-05T15:00:00",
          "2023-09-05T16:00:00",
          "2023-09-05T17:00:00",
          "2023-09-05T18:00:00",
          "2023-09-05T19:00:00",
          "2023-09-05T20:00:00",
          "2023-09-05T21:00:00",
          "2023-09-05T22:00:00",
          "2023-09-05T23:00:00",
          "2023-09-06T00:00:00",
          "2023-09-06T01:00:00",
          "2023-09-06T02:00:00",
          "2023-09-06T03:00:00",
          "2023-09-06T04:00:00",
          "2023-09-06T05:00:00",
          "2023-09-06T06:00:00",
          "2023-09-06T07:00:00",
          "2023-09-06T08:00:00",
          "2023-09-06T09:00:00",
          "2023-09-06T10:00:00",
          "2023-09-06T11:00:00",
          "2023-09-06T12:00:00",
          "2023-09-06T13:00:00",
          "2023-09-06T14:00:00",
          "2023-09-06T15:00:00",
          "2023-09-06T16:00:00",
          "2023-09-06T17:00:00",
          "2023-09-06T18:00:00",
          "2023-09-06T19:00:00",
          "2023-09-06T20:00:00",
          "2023-09-06T21:00:00",
          "2023-09-06T22:00:00",
          "2023-09-06T23:00:00",
          "2023-09-07T00:00:00",
          "2023-09-07T01:00:00",
          "2023-09-07T02:00:00",
          "2023-09-07T03:00:00",
          "2023-09-07T04:00:00",
          "2023-09-07T05:00:00",
          "2023-09-07T06:00:00",
          "2023-09-07T07:00:00",
          "2023-09-07T08:00:00",
          "2023-09-07T09:00:00",
          "2023-09-07T10:00:00",
          "2023-09-07T11:00:00",
          "2023-09-07T12:00:00",
          "2023-09-07T13:00:00",
          "2023-09-07T14:00:00",
          "2023-09-07T15:00:00",
          "2023-09-07T16:00:00",
          "2023-09-07T17:00:00",
          "2023-09-07T18:00:00",
          "2023-09-07T19:00:00",
          "2023-09-07T20:00:00",
          "2023-09-07T21:00:00",
          "2023-09-07T22:00:00",
          "2023-09-07T23:00:00",
          "2023-09-08T00:00:00",
          "2023-09-08T01:00:00",
          "2023-09-08T02:00:00",
          "2023-09-08T03:00:00",
          "2023-09-08T04:00:00",
          "2023-09-08T05:00:00",
          "2023-09-08T06:00:00",
          "2023-09-08T07:00:00",
          "2023-09-08T08:00:00",
          "2023-09-08T09:00:00",
          "2023-09-08T10:00:00",
          "2023-09-08T11:00:00",
          "2023-09-08T12:00:00",
          "2023-09-08T13:00:00",
          "2023-09-08T14:00:00",
          "2023-09-08T15:00:00",
          "2023-09-08T16:00:00",
          "2023-09-08T17:00:00",
          "2023-09-08T18:00:00",
          "2023-09-08T19:00:00",
          "2023-09-08T20:00:00",
          "2023-09-08T21:00:00",
          "2023-09-08T22:00:00",
          "2023-09-08T23:00:00",
          "2023-09-09T00:00:00",
          "2023-09-09T01:00:00",
          "2023-09-09T02:00:00",
          "2023-09-09T03:00:00",
          "2023-09-09T04:00:00",
          "2023-09-09T05:00:00",
          "2023-09-09T06:00:00",
          "2023-09-09T07:00:00",
          "2023-09-09T08:00:00",
          "2023-09-09T09:00:00",
          "2023-09-09T10:00:00",
          "2023-09-09T11:00:00",
          "2023-09-09T12:00:00",
          "2023-09-09T13:00:00",
          "2023-09-09T14:00:00",
          "2023-09-09T15:00:00",
          "2023-09-09T16:00:00",
          "2023-09-09T17:00:00",
          "2023-09-09T18:00:00",
          "2023-09-09T19:00:00",
          "2023-09-09T20:00:00",
          "2023-09-09T21:00:00",
          "2023-09-09T22:00:00",
          "2023-09-09T23:00:00",
          "2023-09-10T00:00:00",
          "2023-09-10T01:00:00",
          "2023-09-10T02:00:00",
          "2023-09-10T03:00:00",
          "2023-09-10T04:00:00",
          "2023-09-10T05:00:00",
          "2023-09-10T06:00:00",
          "2023-09-10T07:00:00",
          "2023-09-10T08:00:00",
          "2023-09-10T09:00:00",
          "2023-09-10T10:00:00",
          "2023-09-10T11:00:00",
          "2023-09-10T12:00:00",
          "2023-09-10T13:00:00",
          "2023-09-10T14:00:00",
          "2023-09-10T15:00:00",
          "2023-09-10T16:00:00",
          "2023-09-10T17:00:00",
          "2023-09-10T18:00:00",
          "2023-09-10T19:00:00",
          "2023-09-10T20:00:00",
          "2023-09-10T21:00:00",
          "2023-09-10T22:00:00",
          "2023-09-10T23:00:00",
          "2023-09-11T00:00:00",
          "2023-09-11T01:00:00",
          "2023-09-11T02:00:00",
          "2023-09-11T03:00:00",
          "2023-09-11T04:00:00",
          "2023-09-11T05:00:00",
          "2023-09-11T06:00:00",
          "2023-09-11T07:00:00",
          "2023-09-11T08:00:00",
          "2023-09-11T09:00:00",
          "2023-09-11T10:00:00",
          "2023-09-11T11:00:00",
          "2023-09-11T12:00:00",
          "2023-09-11T13:00:00",
          "2023-09-11T14:00:00",
          "2023-09-11T15:00:00",
          "2023-09-11T16:00:00",
          "2023-09-11T17:00:00",
          "2023-09-11T18:00:00",
          "2023-09-11T19:00:00",
          "2023-09-11T20:00:00",
          "2023-09-11T21:00:00",
          "2023-09-11T22:00:00",
          "2023-09-11T23:00:00",
          "2023-09-12T00:00:00",
          "2023-09-12T01:00:00",
          "2023-09-12T02:00:00",
          "2023-09-12T03:00:00",
          "2023-09-12T04:00:00",
          "2023-09-12T05:00:00",
          "2023-09-12T06:00:00",
          "2023-09-12T07:00:00",
          "2023-09-12T08:00:00",
          "2023-09-12T09:00:00",
          "2023-09-12T10:00:00",
          "2023-09-12T11:00:00",
          "2023-09-12T12:00:00",
          "2023-09-12T13:00:00",
          "2023-09-12T14:00:00",
          "2023-09-12T15:00:00",
          "2023-09-12T16:00:00",
          "2023-09-12T17:00:00",
          "2023-09-12T18:00:00",
          "2023-09-12T19:00:00",
          "2023-09-12T20:00:00",
          "2023-09-12T21:00:00",
          "2023-09-12T22:00:00",
          "2023-09-12T23:00:00",
          "2023-09-13T00:00:00",
          "2023-09-13T01:00:00",
          "2023-09-13T02:00:00",
          "2023-09-13T03:00:00",
          "2023-09-13T04:00:00",
          "2023-09-13T05:00:00",
          "2023-09-13T06:00:00",
          "2023-09-13T07:00:00",
          "2023-09-13T08:00:00",
          "2023-09-13T09:00:00",
          "2023-09-13T10:00:00",
          "2023-09-13T11:00:00",
          "2023-09-13T12:00:00",
          "2023-09-13T13:00:00",
          "2023-09-13T14:00:00",
          "2023-09-13T15:00:00",
          "2023-09-13T16:00:00",
          "2023-09-13T17:00:00",
          "2023-09-13T18:00:00",
          "2023-09-13T19:00:00",
          "2023-09-13T20:00:00",
          "2023-09-13T21:00:00",
          "2023-09-13T22:00:00",
          "2023-09-13T23:00:00",
          "2023-09-14T00:00:00",
          "2023-09-14T01:00:00",
          "2023-09-14T02:00:00",
          "2023-09-14T03:00:00",
          "2023-09-14T04:00:00",
          "2023-09-14T05:00:00",
          "2023-09-14T06:00:00",
          "2023-09-14T07:00:00",
          "2023-09-14T08:00:00",
          "2023-09-14T09:00:00",
          "2023-09-14T10:00:00",
          "2023-09-14T11:00:00",
          "2023-09-14T12:00:00",
          "2023-09-14T13:00:00",
          "2023-09-14T14:00:00",
          "2023-09-14T15:00:00",
          "2023-09-14T16:00:00",
          "2023-09-14T17:00:00",
          "2023-09-14T18:00:00",
          "2023-09-14T19:00:00",
          "2023-09-14T20:00:00",
          "2023-09-14T21:00:00",
          "2023-09-14T22:00:00",
          "2023-09-14T23:00:00",
          "2023-09-15T00:00:00",
          "2023-09-15T01:00:00",
          "2023-09-15T02:00:00",
          "2023-09-15T03:00:00",
          "2023-09-15T04:00:00",
          "2023-09-15T05:00:00",
          "2023-09-15T06:00:00",
          "2023-09-15T07:00:00",
          "2023-09-15T08:00:00",
          "2023-09-15T09:00:00",
          "2023-09-15T10:00:00",
          "2023-09-15T11:00:00",
          "2023-09-15T12:00:00",
          "2023-09-15T13:00:00",
          "2023-09-15T14:00:00",
          "2023-09-15T15:00:00",
          "2023-09-15T16:00:00",
          "2023-09-15T17:00:00",
          "2023-09-15T18:00:00",
          "2023-09-15T19:00:00",
          "2023-09-15T20:00:00",
          "2023-09-15T21:00:00",
          "2023-09-15T22:00:00",
          "2023-09-15T23:00:00",
          "2023-09-16T00:00:00",
          "2023-09-16T01:00:00",
          "2023-09-16T02:00:00",
          "2023-09-16T03:00:00",
          "2023-09-16T04:00:00",
          "2023-09-16T05:00:00",
          "2023-09-16T06:00:00",
          "2023-09-16T07:00:00",
          "2023-09-16T08:00:00",
          "2023-09-16T09:00:00",
          "2023-09-16T10:00:00",
          "2023-09-16T11:00:00",
          "2023-09-16T12:00:00",
          "2023-09-16T13:00:00",
          "2023-09-16T14:00:00",
          "2023-09-16T15:00:00",
          "2023-09-16T16:00:00",
          "2023-09-16T17:00:00",
          "2023-09-16T18:00:00",
          "2023-09-16T19:00:00",
          "2023-09-16T20:00:00",
          "2023-09-16T21:00:00",
          "2023-09-16T22:00:00",
          "2023-09-16T23:00:00",
          "2023-09-17T00:00:00",
          "2023-09-17T01:00:00",
          "2023-09-17T02:00:00",
          "2023-09-17T03:00:00",
          "2023-09-17T04:00:00",
          "2023-09-17T05:00:00",
          "2023-09-17T06:00:00",
          "2023-09-17T07:00:00",
          "2023-09-17T08:00:00",
          "2023-09-17T09:00:00",
          "2023-09-17T10:00:00",
          "2023-09-17T11:00:00",
          "2023-09-17T12:00:00",
          "2023-09-17T13:00:00",
          "2023-09-17T14:00:00",
          "2023-09-17T15:00:00",
          "2023-09-17T16:00:00",
          "2023-09-17T17:00:00",
          "2023-09-17T18:00:00",
          "2023-09-17T19:00:00",
          "2023-09-17T20:00:00",
          "2023-09-17T21:00:00",
          "2023-09-17T22:00:00",
          "2023-09-17T23:00:00",
          "2023-09-18T00:00:00",
          "2023-09-18T01:00:00",
          "2023-09-18T02:00:00",
          "2023-09-18T03:00:00",
          "2023-09-18T04:00:00",
          "2023-09-18T05:00:00",
          "2023-09-18T06:00:00",
          "2023-09-18T07:00:00",
          "2023-09-18T08:00:00",
          "2023-09-18T09:00:00",
          "2023-09-18T10:00:00",
          "2023-09-18T11:00:00",
          "2023-09-18T12:00:00",
          "2023-09-18T13:00:00",
          "2023-09-18T14:00:00",
          "2023-09-18T15:00:00",
          "2023-09-18T16:00:00",
          "2023-09-18T17:00:00",
          "2023-09-18T18:00:00",
          "2023-09-18T19:00:00",
          "2023-09-18T20:00:00",
          "2023-09-18T21:00:00",
          "2023-09-18T22:00:00",
          "2023-09-18T23:00:00",
          "2023-09-19T00:00:00",
          "2023-09-19T01:00:00",
          "2023-09-19T02:00:00",
          "2023-09-19T03:00:00",
          "2023-09-19T04:00:00",
          "2023-09-19T05:00:00",
          "2023-09-19T06:00:00",
          "2023-09-19T07:00:00",
          "2023-09-19T08:00:00",
          "2023-09-19T09:00:00",
          "2023-09-19T10:00:00",
          "2023-09-19T11:00:00",
          "2023-09-19T12:00:00",
          "2023-09-19T13:00:00",
          "2023-09-19T14:00:00",
          "2023-09-19T15:00:00",
          "2023-09-19T16:00:00",
          "2023-09-19T17:00:00",
          "2023-09-19T18:00:00",
          "2023-09-19T19:00:00",
          "2023-09-19T20:00:00",
          "2023-09-19T21:00:00",
          "2023-09-19T22:00:00",
          "2023-09-19T23:00:00",
          "2023-09-20T00:00:00",
          "2023-09-20T01:00:00",
          "2023-09-20T02:00:00",
          "2023-09-20T03:00:00",
          "2023-09-20T04:00:00",
          "2023-09-20T05:00:00",
          "2023-09-20T06:00:00",
          "2023-09-20T07:00:00",
          "2023-09-20T08:00:00",
          "2023-09-20T09:00:00",
          "2023-09-20T10:00:00",
          "2023-09-20T11:00:00",
          "2023-09-20T12:00:00",
          "2023-09-20T13:00:00",
          "2023-09-20T14:00:00",
          "2023-09-20T15:00:00",
          "2023-09-20T16:00:00",
          "2023-09-20T17:00:00",
          "2023-09-20T18:00:00",
          "2023-09-20T19:00:00",
          "2023-09-20T20:00:00",
          "2023-09-20T21:00:00",
          "2023-09-20T22:00:00",
          "2023-09-20T23:00:00",
          "2023-09-21T00:00:00",
          "2023-09-21T01:00:00",
          "2023-09-21T02:00:00",
          "2023-09-21T03:00:00",
          "2023-09-21T04:00:00",
          "2023-09-21T05:00:00",
          "2023-09-21T06:00:00",
          "2023-09-21T07:00:00",
          "2023-09-21T08:00:00",
          "2023-09-21T09:00:00",
          "2023-09-21T10:00:00",
          "2023-09-21T11:00:00",
          "2023-09-21T12:00:00",
          "2023-09-21T13:00:00",
          "2023-09-21T14:00:00",
          "2023-09-21T15:00:00",
          "2023-09-21T16:00:00",
          "2023-09-21T17:00:00",
          "2023-09-21T18:00:00",
          "2023-09-21T19:00:00",
          "2023-09-21T20:00:00",
          "2023-09-21T21:00:00",
          "2023-09-21T22:00:00",
          "2023-09-21T23:00:00",
          "2023-09-22T00:00:00",
          "2023-09-22T01:00:00",
          "2023-09-22T02:00:00",
          "2023-09-22T03:00:00",
          "2023-09-22T04:00:00",
          "2023-09-22T05:00:00",
          "2023-09-22T06:00:00",
          "2023-09-22T07:00:00",
          "2023-09-22T08:00:00",
          "2023-09-22T09:00:00",
          "2023-09-22T10:00:00",
          "2023-09-22T11:00:00",
          "2023-09-22T12:00:00",
          "2023-09-22T13:00:00",
          "2023-09-22T14:00:00",
          "2023-09-22T15:00:00",
          "2023-09-22T16:00:00",
          "2023-09-22T17:00:00",
          "2023-09-22T18:00:00",
          "2023-09-22T19:00:00",
          "2023-09-22T20:00:00",
          "2023-09-22T21:00:00",
          "2023-09-22T22:00:00",
          "2023-09-22T23:00:00",
          "2023-09-23T00:00:00",
          "2023-09-23T01:00:00",
          "2023-09-23T02:00:00",
          "2023-09-23T03:00:00",
          "2023-09-23T04:00:00",
          "2023-09-23T05:00:00",
          "2023-09-23T06:00:00",
          "2023-09-23T07:00:00",
          "2023-09-23T08:00:00",
          "2023-09-23T09:00:00",
          "2023-09-23T10:00:00",
          "2023-09-23T11:00:00",
          "2023-09-23T12:00:00",
          "2023-09-23T13:00:00",
          "2023-09-23T14:00:00",
          "2023-09-23T15:00:00",
          "2023-09-23T16:00:00",
          "2023-09-23T17:00:00",
          "2023-09-23T18:00:00",
          "2023-09-23T19:00:00",
          "2023-09-23T20:00:00",
          "2023-09-23T21:00:00",
          "2023-09-23T22:00:00",
          "2023-09-23T23:00:00",
          "2023-09-24T00:00:00",
          "2023-09-24T01:00:00",
          "2023-09-24T02:00:00",
          "2023-09-24T03:00:00",
          "2023-09-24T04:00:00",
          "2023-09-24T05:00:00",
          "2023-09-24T06:00:00",
          "2023-09-24T07:00:00",
          "2023-09-24T08:00:00",
          "2023-09-24T09:00:00",
          "2023-09-24T10:00:00",
          "2023-09-24T11:00:00",
          "2023-09-24T12:00:00",
          "2023-09-24T13:00:00",
          "2023-09-24T14:00:00",
          "2023-09-24T15:00:00",
          "2023-09-24T16:00:00",
          "2023-09-24T17:00:00",
          "2023-09-24T18:00:00",
          "2023-09-24T19:00:00",
          "2023-09-24T20:00:00",
          "2023-09-24T21:00:00",
          "2023-09-24T22:00:00",
          "2023-09-24T23:00:00",
          "2023-09-25T00:00:00",
          "2023-09-25T01:00:00",
          "2023-09-25T02:00:00",
          "2023-09-25T03:00:00",
          "2023-09-25T04:00:00",
          "2023-09-25T05:00:00",
          "2023-09-25T06:00:00",
          "2023-09-25T07:00:00",
          "2023-09-25T08:00:00",
          "2023-09-25T09:00:00",
          "2023-09-25T10:00:00",
          "2023-09-25T11:00:00",
          "2023-09-25T12:00:00",
          "2023-09-25T13:00:00",
          "2023-09-25T14:00:00",
          "2023-09-25T15:00:00",
          "2023-09-25T16:00:00",
          "2023-09-25T17:00:00",
          "2023-09-25T18:00:00",
          "2023-09-25T19:00:00",
          "2023-09-25T20:00:00",
          "2023-09-25T21:00:00",
          "2023-09-25T22:00:00",
          "2023-09-25T23:00:00",
          "2023-09-26T00:00:00",
          "2023-09-26T01:00:00",
          "2023-09-26T02:00:00",
          "2023-09-26T03:00:00",
          "2023-09-26T04:00:00",
          "2023-09-26T05:00:00",
          "2023-09-26T06:00:00",
          "2023-09-26T07:00:00",
          "2023-09-26T08:00:00",
          "2023-09-26T09:00:00",
          "2023-09-26T10:00:00",
          "2023-09-26T11:00:00",
          "2023-09-26T12:00:00",
          "2023-09-26T13:00:00",
          "2023-09-26T14:00:00",
          "2023-09-26T15:00:00",
          "2023-09-26T16:00:00",
          "2023-09-26T17:00:00",
          "2023-09-26T18:00:00",
          "2023-09-26T19:00:00",
          "2023-09-26T20:00:00",
          "2023-09-26T21:00:00",
          "2023-09-26T22:00:00",
          "2023-09-26T23:00:00",
          "2023-09-27T00:00:00",
          "2023-09-27T01:00:00",
          "2023-09-27T02:00:00",
          "2023-09-27T03:00:00",
          "2023-09-27T04:00:00",
          "2023-09-27T05:00:00",
          "2023-09-27T06:00:00",
          "2023-09-27T07:00:00",
          "2023-09-27T08:00:00",
          "2023-09-27T09:00:00",
          "2023-09-27T10:00:00",
          "2023-09-27T11:00:00",
          "2023-09-27T12:00:00",
          "2023-09-27T13:00:00",
          "2023-09-27T14:00:00",
          "2023-09-27T15:00:00",
          "2023-09-27T16:00:00",
          "2023-09-27T17:00:00",
          "2023-09-27T18:00:00",
          "2023-09-27T19:00:00",
          "2023-09-27T20:00:00",
          "2023-09-27T21:00:00",
          "2023-09-27T22:00:00",
          "2023-09-27T23:00:00",
          "2023-09-28T00:00:00",
          "2023-09-28T01:00:00",
          "2023-09-28T02:00:00",
          "2023-09-28T03:00:00",
          "2023-09-28T04:00:00",
          "2023-09-28T05:00:00",
          "2023-09-28T06:00:00",
          "2023-09-28T07:00:00",
          "2023-09-28T08:00:00",
          "2023-09-28T09:00:00",
          "2023-09-28T10:00:00",
          "2023-09-28T11:00:00",
          "2023-09-28T12:00:00",
          "2023-09-28T13:00:00",
          "2023-09-28T14:00:00",
          "2023-09-28T15:00:00",
          "2023-09-28T16:00:00",
          "2023-09-28T17:00:00",
          "2023-09-28T18:00:00",
          "2023-09-28T19:00:00",
          "2023-09-28T20:00:00",
          "2023-09-28T21:00:00",
          "2023-09-28T22:00:00",
          "2023-09-28T23:00:00",
          "2023-09-29T00:00:00",
          "2023-09-29T01:00:00",
          "2023-09-29T02:00:00",
          "2023-09-29T03:00:00",
          "2023-09-29T04:00:00",
          "2023-09-29T05:00:00",
          "2023-09-29T06:00:00",
          "2023-09-29T07:00:00",
          "2023-09-29T08:00:00",
          "2023-09-29T09:00:00",
          "2023-09-29T10:00:00",
          "2023-09-29T11:00:00",
          "2023-09-29T12:00:00",
          "2023-09-29T13:00:00",
          "2023-09-29T14:00:00",
          "2023-09-29T15:00:00",
          "2023-09-29T16:00:00",
          "2023-09-29T17:00:00",
          "2023-09-29T18:00:00",
          "2023-09-29T19:00:00",
          "2023-09-29T20:00:00",
          "2023-09-29T21:00:00",
          "2023-09-29T22:00:00",
          "2023-09-29T23:00:00",
          "2023-09-30T00:00:00",
          "2023-09-30T01:00:00",
          "2023-09-30T02:00:00",
          "2023-09-30T03:00:00",
          "2023-09-30T04:00:00",
          "2023-09-30T05:00:00",
          "2023-09-30T06:00:00",
          "2023-09-30T07:00:00",
          "2023-09-30T08:00:00",
          "2023-09-30T09:00:00",
          "2023-09-30T10:00:00",
          "2023-09-30T11:00:00",
          "2023-09-30T12:00:00",
          "2023-09-30T13:00:00",
          "2023-09-30T14:00:00",
          "2023-09-30T15:00:00",
          "2023-09-30T16:00:00",
          "2023-09-30T17:00:00",
          "2023-09-30T18:00:00",
          "2023-09-30T19:00:00",
          "2023-09-30T20:00:00",
          "2023-09-30T21:00:00",
          "2023-09-30T22:00:00",
          "2023-09-30T23:00:00",
          "2023-10-01T00:00:00",
          "2023-10-01T01:00:00",
          "2023-10-01T02:00:00",
          "2023-10-01T03:00:00",
          "2023-10-01T04:00:00",
          "2023-10-01T05:00:00",
          "2023-10-01T06:00:00",
          "2023-10-01T07:00:00",
          "2023-10-01T08:00:00",
          "2023-10-01T09:00:00",
          "2023-10-01T10:00:00",
          "2023-10-01T11:00:00",
          "2023-10-01T12:00:00",
          "2023-10-01T13:00:00",
          "2023-10-01T14:00:00",
          "2023-10-01T15:00:00",
          "2023-10-01T16:00:00",
          "2023-10-01T17:00:00",
          "2023-10-01T18:00:00",
          "2023-10-01T19:00:00",
          "2023-10-01T20:00:00",
          "2023-10-01T21:00:00",
          "2023-10-01T22:00:00",
          "2023-10-01T23:00:00",
          "2023-10-02T00:00:00",
          "2023-10-02T01:00:00",
          "2023-10-02T02:00:00",
          "2023-10-02T03:00:00",
          "2023-10-02T04:00:00",
          "2023-10-02T05:00:00",
          "2023-10-02T06:00:00",
          "2023-10-02T07:00:00",
          "2023-10-02T08:00:00",
          "2023-10-02T09:00:00",
          "2023-10-02T10:00:00",
          "2023-10-02T11:00:00",
          "2023-10-02T12:00:00",
          "2023-10-02T13:00:00",
          "2023-10-02T14:00:00",
          "2023-10-02T15:00:00",
          "2023-10-02T16:00:00",
          "2023-10-02T17:00:00",
          "2023-10-02T18:00:00",
          "2023-10-02T19:00:00",
          "2023-10-02T20:00:00",
          "2023-10-02T21:00:00",
          "2023-10-02T22:00:00",
          "2023-10-02T23:00:00",
          "2023-10-03T00:00:00",
          "2023-10-03T01:00:00",
          "2023-10-03T02:00:00",
          "2023-10-03T03:00:00",
          "2023-10-03T04:00:00",
          "2023-10-03T05:00:00",
          "2023-10-03T06:00:00",
          "2023-10-03T07:00:00",
          "2023-10-03T08:00:00",
          "2023-10-03T09:00:00",
          "2023-10-03T10:00:00",
          "2023-10-03T11:00:00",
          "2023-10-03T12:00:00",
          "2023-10-03T13:00:00",
          "2023-10-03T14:00:00",
          "2023-10-03T15:00:00",
          "2023-10-03T16:00:00",
          "2023-10-03T17:00:00",
          "2023-10-03T18:00:00",
          "2023-10-03T19:00:00",
          "2023-10-03T20:00:00",
          "2023-10-03T21:00:00",
          "2023-10-03T22:00:00",
          "2023-10-03T23:00:00",
          "2023-10-04T00:00:00",
          "2023-10-04T01:00:00",
          "2023-10-04T02:00:00",
          "2023-10-04T03:00:00",
          "2023-10-04T04:00:00",
          "2023-10-04T05:00:00",
          "2023-10-04T06:00:00",
          "2023-10-04T07:00:00",
          "2023-10-04T08:00:00",
          "2023-10-04T09:00:00",
          "2023-10-04T10:00:00",
          "2023-10-04T11:00:00",
          "2023-10-04T12:00:00",
          "2023-10-04T13:00:00",
          "2023-10-04T14:00:00",
          "2023-10-04T15:00:00",
          "2023-10-04T16:00:00",
          "2023-10-04T17:00:00",
          "2023-10-04T18:00:00",
          "2023-10-04T19:00:00",
          "2023-10-04T20:00:00",
          "2023-10-04T21:00:00",
          "2023-10-04T22:00:00",
          "2023-10-04T23:00:00",
          "2023-10-05T00:00:00",
          "2023-10-05T01:00:00",
          "2023-10-05T02:00:00",
          "2023-10-05T03:00:00",
          "2023-10-05T04:00:00",
          "2023-10-05T05:00:00",
          "2023-10-05T06:00:00",
          "2023-10-05T07:00:00",
          "2023-10-05T08:00:00",
          "2023-10-05T09:00:00",
          "2023-10-05T10:00:00",
          "2023-10-05T11:00:00",
          "2023-10-05T12:00:00",
          "2023-10-05T13:00:00",
          "2023-10-05T14:00:00",
          "2023-10-05T15:00:00",
          "2023-10-05T16:00:00",
          "2023-10-05T17:00:00",
          "2023-10-05T18:00:00",
          "2023-10-05T19:00:00",
          "2023-10-05T20:00:00",
          "2023-10-05T21:00:00",
          "2023-10-05T22:00:00",
          "2023-10-05T23:00:00",
          "2023-10-06T00:00:00",
          "2023-10-06T01:00:00",
          "2023-10-06T02:00:00",
          "2023-10-06T03:00:00",
          "2023-10-06T04:00:00",
          "2023-10-06T05:00:00",
          "2023-10-06T06:00:00",
          "2023-10-06T07:00:00",
          "2023-10-06T08:00:00",
          "2023-10-06T09:00:00",
          "2023-10-06T10:00:00",
          "2023-10-06T11:00:00",
          "2023-10-06T12:00:00",
          "2023-10-06T13:00:00",
          "2023-10-06T14:00:00",
          "2023-10-06T15:00:00",
          "2023-10-06T16:00:00",
          "2023-10-06T17:00:00",
          "2023-10-06T18:00:00",
          "2023-10-06T19:00:00",
          "2023-10-06T20:00:00",
          "2023-10-06T21:00:00",
          "2023-10-06T22:00:00",
          "2023-10-06T23:00:00",
          "2023-10-07T00:00:00",
          "2023-10-07T01:00:00",
          "2023-10-07T02:00:00",
          "2023-10-07T03:00:00",
          "2023-10-07T04:00:00",
          "2023-10-07T05:00:00",
          "2023-10-07T06:00:00",
          "2023-10-07T07:00:00",
          "2023-10-07T08:00:00",
          "2023-10-07T09:00:00",
          "2023-10-07T10:00:00",
          "2023-10-07T11:00:00",
          "2023-10-07T12:00:00",
          "2023-10-07T13:00:00",
          "2023-10-07T14:00:00",
          "2023-10-07T15:00:00",
          "2023-10-07T16:00:00",
          "2023-10-07T17:00:00",
          "2023-10-07T18:00:00",
          "2023-10-07T19:00:00",
          "2023-10-07T20:00:00",
          "2023-10-07T21:00:00",
          "2023-10-07T22:00:00",
          "2023-10-07T23:00:00",
          "2023-10-08T00:00:00",
          "2023-10-08T01:00:00",
          "2023-10-08T02:00:00",
          "2023-10-08T03:00:00",
          "2023-10-08T04:00:00",
          "2023-10-08T05:00:00",
          "2023-10-08T06:00:00",
          "2023-10-08T07:00:00",
          "2023-10-08T08:00:00",
          "2023-10-08T09:00:00",
          "2023-10-08T10:00:00",
          "2023-10-08T11:00:00",
          "2023-10-08T12:00:00",
          "2023-10-08T13:00:00",
          "2023-10-08T14:00:00",
          "2023-10-08T15:00:00",
          "2023-10-08T16:00:00",
          "2023-10-08T17:00:00",
          "2023-10-08T18:00:00",
          "2023-10-08T19:00:00",
          "2023-10-08T20:00:00",
          "2023-10-08T21:00:00",
          "2023-10-08T22:00:00",
          "2023-10-08T23:00:00",
          "2023-10-09T00:00:00",
          "2023-10-09T01:00:00",
          "2023-10-09T02:00:00",
          "2023-10-09T03:00:00",
          "2023-10-09T04:00:00",
          "2023-10-09T05:00:00",
          "2023-10-09T06:00:00",
          "2023-10-09T07:00:00",
          "2023-10-09T08:00:00",
          "2023-10-09T09:00:00",
          "2023-10-09T10:00:00",
          "2023-10-09T11:00:00",
          "2023-10-09T12:00:00",
          "2023-10-09T13:00:00",
          "2023-10-09T14:00:00",
          "2023-10-09T15:00:00",
          "2023-10-09T16:00:00",
          "2023-10-09T17:00:00",
          "2023-10-09T18:00:00",
          "2023-10-09T19:00:00",
          "2023-10-09T20:00:00",
          "2023-10-09T21:00:00",
          "2023-10-09T22:00:00",
          "2023-10-09T23:00:00",
          "2023-10-10T00:00:00",
          "2023-10-10T01:00:00",
          "2023-10-10T02:00:00",
          "2023-10-10T03:00:00",
          "2023-10-10T04:00:00",
          "2023-10-10T05:00:00",
          "2023-10-10T06:00:00",
          "2023-10-10T07:00:00",
          "2023-10-10T08:00:00",
          "2023-10-10T09:00:00",
          "2023-10-10T10:00:00",
          "2023-10-10T11:00:00",
          "2023-10-10T12:00:00",
          "2023-10-10T13:00:00",
          "2023-10-10T14:00:00",
          "2023-10-10T15:00:00",
          "2023-10-10T16:00:00",
          "2023-10-10T17:00:00",
          "2023-10-10T18:00:00",
          "2023-10-10T19:00:00",
          "2023-10-10T20:00:00",
          "2023-10-10T21:00:00",
          "2023-10-10T22:00:00",
          "2023-10-10T23:00:00",
          "2023-10-11T00:00:00",
          "2023-10-11T01:00:00",
          "2023-10-11T02:00:00",
          "2023-10-11T03:00:00",
          "2023-10-11T04:00:00",
          "2023-10-11T05:00:00",
          "2023-10-11T06:00:00",
          "2023-10-11T07:00:00",
          "2023-10-11T08:00:00",
          "2023-10-11T09:00:00",
          "2023-10-11T10:00:00",
          "2023-10-11T11:00:00",
          "2023-10-11T12:00:00",
          "2023-10-11T13:00:00",
          "2023-10-11T14:00:00",
          "2023-10-11T15:00:00",
          "2023-10-11T16:00:00",
          "2023-10-11T17:00:00",
          "2023-10-11T18:00:00",
          "2023-10-11T19:00:00",
          "2023-10-11T20:00:00",
          "2023-10-11T21:00:00",
          "2023-10-11T22:00:00",
          "2023-10-11T23:00:00",
          "2023-10-12T00:00:00",
          "2023-10-12T01:00:00",
          "2023-10-12T02:00:00",
          "2023-10-12T03:00:00",
          "2023-10-12T04:00:00",
          "2023-10-12T05:00:00",
          "2023-10-12T06:00:00",
          "2023-10-12T07:00:00",
          "2023-10-12T08:00:00",
          "2023-10-12T09:00:00",
          "2023-10-12T10:00:00",
          "2023-10-12T11:00:00",
          "2023-10-12T12:00:00",
          "2023-10-12T13:00:00",
          "2023-10-12T14:00:00",
          "2023-10-12T15:00:00",
          "2023-10-12T16:00:00",
          "2023-10-12T17:00:00",
          "2023-10-12T18:00:00",
          "2023-10-12T19:00:00",
          "2023-10-12T20:00:00",
          "2023-10-12T21:00:00",
          "2023-10-12T22:00:00",
          "2023-10-12T23:00:00",
          "2023-10-13T00:00:00",
          "2023-10-13T01:00:00",
          "2023-10-13T02:00:00",
          "2023-10-13T03:00:00",
          "2023-10-13T04:00:00",
          "2023-10-13T05:00:00",
          "2023-10-13T06:00:00",
          "2023-10-13T07:00:00",
          "2023-10-13T08:00:00",
          "2023-10-13T09:00:00",
          "2023-10-13T10:00:00",
          "2023-10-13T11:00:00",
          "2023-10-13T12:00:00",
          "2023-10-13T13:00:00",
          "2023-10-13T14:00:00",
          "2023-10-13T15:00:00",
          "2023-10-13T16:00:00",
          "2023-10-13T17:00:00",
          "2023-10-13T18:00:00",
          "2023-10-13T19:00:00",
          "2023-10-13T20:00:00",
          "2023-10-13T21:00:00",
          "2023-10-13T22:00:00",
          "2023-10-13T23:00:00",
          "2023-10-14T00:00:00",
          "2023-10-14T01:00:00",
          "2023-10-14T02:00:00",
          "2023-10-14T03:00:00",
          "2023-10-14T04:00:00",
          "2023-10-14T05:00:00",
          "2023-10-14T06:00:00",
          "2023-10-14T07:00:00",
          "2023-10-14T08:00:00",
          "2023-10-14T09:00:00",
          "2023-10-14T10:00:00",
          "2023-10-14T11:00:00",
          "2023-10-14T12:00:00",
          "2023-10-14T13:00:00",
          "2023-10-14T14:00:00",
          "2023-10-14T15:00:00",
          "2023-10-14T16:00:00",
          "2023-10-14T17:00:00",
          "2023-10-14T18:00:00",
          "2023-10-14T19:00:00",
          "2023-10-14T20:00:00",
          "2023-10-14T21:00:00",
          "2023-10-14T22:00:00",
          "2023-10-14T23:00:00",
          "2023-10-15T00:00:00",
          "2023-10-15T01:00:00",
          "2023-10-15T02:00:00",
          "2023-10-15T03:00:00",
          "2023-10-15T04:00:00",
          "2023-10-15T05:00:00",
          "2023-10-15T06:00:00",
          "2023-10-15T07:00:00",
          "2023-10-15T08:00:00",
          "2023-10-15T09:00:00",
          "2023-10-15T10:00:00",
          "2023-10-15T11:00:00",
          "2023-10-15T12:00:00",
          "2023-10-15T13:00:00",
          "2023-10-15T14:00:00",
          "2023-10-15T15:00:00",
          "2023-10-15T16:00:00",
          "2023-10-15T17:00:00",
          "2023-10-15T18:00:00",
          "2023-10-15T19:00:00",
          "2023-10-15T20:00:00",
          "2023-10-15T21:00:00",
          "2023-10-15T22:00:00",
          "2023-10-15T23:00:00",
          "2023-10-16T00:00:00",
          "2023-10-16T01:00:00",
          "2023-10-16T02:00:00",
          "2023-10-16T03:00:00",
          "2023-10-16T04:00:00",
          "2023-10-16T05:00:00",
          "2023-10-16T06:00:00",
          "2023-10-16T07:00:00",
          "2023-10-16T08:00:00",
          "2023-10-16T09:00:00",
          "2023-10-16T10:00:00",
          "2023-10-16T11:00:00",
          "2023-10-16T12:00:00",
          "2023-10-16T13:00:00",
          "2023-10-16T14:00:00",
          "2023-10-16T15:00:00",
          "2023-10-16T16:00:00",
          "2023-10-16T17:00:00",
          "2023-10-16T18:00:00",
          "2023-10-16T19:00:00",
          "2023-10-16T20:00:00",
          "2023-10-16T21:00:00",
          "2023-10-16T22:00:00",
          "2023-10-16T23:00:00",
          "2023-10-17T00:00:00",
          "2023-10-17T01:00:00",
          "2023-10-17T02:00:00",
          "2023-10-17T03:00:00",
          "2023-10-17T04:00:00",
          "2023-10-17T05:00:00",
          "2023-10-17T06:00:00",
          "2023-10-17T07:00:00",
          "2023-10-17T08:00:00",
          "2023-10-17T09:00:00",
          "2023-10-17T10:00:00",
          "2023-10-17T11:00:00",
          "2023-10-17T12:00:00",
          "2023-10-17T13:00:00",
          "2023-10-17T14:00:00",
          "2023-10-17T15:00:00",
          "2023-10-17T16:00:00",
          "2023-10-17T17:00:00",
          "2023-10-17T18:00:00",
          "2023-10-17T19:00:00",
          "2023-10-17T20:00:00",
          "2023-10-17T21:00:00",
          "2023-10-17T22:00:00",
          "2023-10-17T23:00:00",
          "2023-10-18T00:00:00",
          "2023-10-18T01:00:00",
          "2023-10-18T02:00:00",
          "2023-10-18T03:00:00",
          "2023-10-18T04:00:00",
          "2023-10-18T05:00:00",
          "2023-10-18T06:00:00",
          "2023-10-18T07:00:00",
          "2023-10-18T08:00:00",
          "2023-10-18T09:00:00",
          "2023-10-18T10:00:00",
          "2023-10-18T11:00:00",
          "2023-10-18T12:00:00",
          "2023-10-18T13:00:00",
          "2023-10-18T14:00:00",
          "2023-10-18T15:00:00",
          "2023-10-18T16:00:00",
          "2023-10-18T17:00:00",
          "2023-10-18T18:00:00",
          "2023-10-18T19:00:00",
          "2023-10-18T20:00:00",
          "2023-10-18T21:00:00",
          "2023-10-18T22:00:00",
          "2023-10-18T23:00:00",
          "2023-10-19T00:00:00",
          "2023-10-19T01:00:00",
          "2023-10-19T02:00:00",
          "2023-10-19T03:00:00",
          "2023-10-19T04:00:00",
          "2023-10-19T05:00:00",
          "2023-10-19T06:00:00",
          "2023-10-19T07:00:00",
          "2023-10-19T08:00:00",
          "2023-10-19T09:00:00",
          "2023-10-19T10:00:00",
          "2023-10-19T11:00:00",
          "2023-10-19T12:00:00",
          "2023-10-19T13:00:00",
          "2023-10-19T14:00:00",
          "2023-10-19T15:00:00",
          "2023-10-19T16:00:00",
          "2023-10-19T17:00:00",
          "2023-10-19T18:00:00",
          "2023-10-19T19:00:00",
          "2023-10-19T20:00:00",
          "2023-10-19T21:00:00",
          "2023-10-19T22:00:00",
          "2023-10-19T23:00:00",
          "2023-10-20T00:00:00",
          "2023-10-20T01:00:00",
          "2023-10-20T02:00:00",
          "2023-10-20T03:00:00",
          "2023-10-20T04:00:00",
          "2023-10-20T05:00:00",
          "2023-10-20T06:00:00",
          "2023-10-20T07:00:00",
          "2023-10-20T08:00:00",
          "2023-10-20T09:00:00",
          "2023-10-20T10:00:00",
          "2023-10-20T11:00:00",
          "2023-10-20T12:00:00",
          "2023-10-20T13:00:00",
          "2023-10-20T14:00:00",
          "2023-10-20T15:00:00",
          "2023-10-20T16:00:00",
          "2023-10-20T17:00:00",
          "2023-10-20T18:00:00",
          "2023-10-20T19:00:00",
          "2023-10-20T20:00:00",
          "2023-10-20T21:00:00",
          "2023-10-20T22:00:00",
          "2023-10-20T23:00:00",
          "2023-10-21T00:00:00",
          "2023-10-21T01:00:00",
          "2023-10-21T02:00:00",
          "2023-10-21T03:00:00",
          "2023-10-21T04:00:00",
          "2023-10-21T05:00:00",
          "2023-10-21T06:00:00",
          "2023-10-21T07:00:00",
          "2023-10-21T08:00:00",
          "2023-10-21T09:00:00",
          "2023-10-21T10:00:00",
          "2023-10-21T11:00:00",
          "2023-10-21T12:00:00",
          "2023-10-21T13:00:00",
          "2023-10-21T14:00:00",
          "2023-10-21T15:00:00",
          "2023-10-21T16:00:00",
          "2023-10-21T17:00:00",
          "2023-10-21T18:00:00",
          "2023-10-21T19:00:00",
          "2023-10-21T20:00:00",
          "2023-10-21T21:00:00",
          "2023-10-21T22:00:00",
          "2023-10-21T23:00:00",
          "2023-10-22T00:00:00",
          "2023-10-22T01:00:00",
          "2023-10-22T02:00:00",
          "2023-10-22T03:00:00",
          "2023-10-22T04:00:00",
          "2023-10-22T05:00:00",
          "2023-10-22T06:00:00",
          "2023-10-22T07:00:00",
          "2023-10-22T08:00:00",
          "2023-10-22T09:00:00",
          "2023-10-22T10:00:00",
          "2023-10-22T11:00:00",
          "2023-10-22T12:00:00",
          "2023-10-22T13:00:00",
          "2023-10-22T14:00:00",
          "2023-10-22T15:00:00",
          "2023-10-22T16:00:00",
          "2023-10-22T17:00:00",
          "2023-10-22T18:00:00",
          "2023-10-22T19:00:00",
          "2023-10-22T20:00:00",
          "2023-10-22T21:00:00",
          "2023-10-22T22:00:00",
          "2023-10-22T23:00:00",
          "2023-10-23T00:00:00",
          "2023-10-23T01:00:00",
          "2023-10-23T02:00:00",
          "2023-10-23T03:00:00",
          "2023-10-23T04:00:00",
          "2023-10-23T05:00:00",
          "2023-10-23T06:00:00",
          "2023-10-23T07:00:00",
          "2023-10-23T08:00:00",
          "2023-10-23T09:00:00",
          "2023-10-23T10:00:00",
          "2023-10-23T11:00:00",
          "2023-10-23T12:00:00",
          "2023-10-23T13:00:00",
          "2023-10-23T14:00:00",
          "2023-10-23T15:00:00",
          "2023-10-23T16:00:00",
          "2023-10-23T17:00:00",
          "2023-10-23T18:00:00",
          "2023-10-23T19:00:00",
          "2023-10-23T20:00:00",
          "2023-10-23T21:00:00",
          "2023-10-23T22:00:00",
          "2023-10-23T23:00:00",
          "2023-10-24T00:00:00",
          "2023-10-24T01:00:00",
          "2023-10-24T02:00:00",
          "2023-10-24T03:00:00",
          "2023-10-24T04:00:00",
          "2023-10-24T05:00:00",
          "2023-10-24T06:00:00",
          "2023-10-24T07:00:00",
          "2023-10-24T08:00:00",
          "2023-10-24T09:00:00",
          "2023-10-24T10:00:00",
          "2023-10-24T11:00:00",
          "2023-10-24T12:00:00",
          "2023-10-24T13:00:00",
          "2023-10-24T14:00:00",
          "2023-10-24T15:00:00",
          "2023-10-24T16:00:00",
          "2023-10-24T17:00:00",
          "2023-10-24T18:00:00",
          "2023-10-24T19:00:00",
          "2023-10-24T20:00:00",
          "2023-10-24T21:00:00",
          "2023-10-24T22:00:00",
          "2023-10-24T23:00:00",
          "2023-10-25T00:00:00",
          "2023-10-25T01:00:00",
          "2023-10-25T02:00:00",
          "2023-10-25T03:00:00",
          "2023-10-25T04:00:00",
          "2023-10-25T05:00:00",
          "2023-10-25T06:00:00",
          "2023-10-25T07:00:00",
          "2023-10-25T08:00:00",
          "2023-10-25T09:00:00",
          "2023-10-25T10:00:00",
          "2023-10-25T11:00:00",
          "2023-10-25T12:00:00",
          "2023-10-25T13:00:00",
          "2023-10-25T14:00:00",
          "2023-10-25T15:00:00",
          "2023-10-25T16:00:00",
          "2023-10-25T17:00:00",
          "2023-10-25T18:00:00",
          "2023-10-25T19:00:00",
          "2023-10-25T20:00:00",
          "2023-10-25T21:00:00",
          "2023-10-25T22:00:00",
          "2023-10-25T23:00:00",
          "2023-10-26T00:00:00",
          "2023-10-26T01:00:00",
          "2023-10-26T02:00:00",
          "2023-10-26T03:00:00",
          "2023-10-26T04:00:00",
          "2023-10-26T05:00:00",
          "2023-10-26T06:00:00",
          "2023-10-26T07:00:00",
          "2023-10-26T08:00:00",
          "2023-10-26T09:00:00",
          "2023-10-26T10:00:00",
          "2023-10-26T11:00:00",
          "2023-10-26T12:00:00",
          "2023-10-26T13:00:00",
          "2023-10-26T14:00:00",
          "2023-10-26T15:00:00",
          "2023-10-26T16:00:00",
          "2023-10-26T17:00:00",
          "2023-10-26T18:00:00",
          "2023-10-26T19:00:00",
          "2023-10-26T20:00:00",
          "2023-10-26T21:00:00",
          "2023-10-26T22:00:00",
          "2023-10-26T23:00:00",
          "2023-10-27T00:00:00",
          "2023-10-27T01:00:00",
          "2023-10-27T02:00:00",
          "2023-10-27T03:00:00",
          "2023-10-27T04:00:00",
          "2023-10-27T05:00:00",
          "2023-10-27T06:00:00",
          "2023-10-27T07:00:00",
          "2023-10-27T08:00:00",
          "2023-10-27T09:00:00",
          "2023-10-27T10:00:00",
          "2023-10-27T11:00:00",
          "2023-10-27T12:00:00",
          "2023-10-27T13:00:00",
          "2023-10-27T14:00:00",
          "2023-10-27T15:00:00",
          "2023-10-27T16:00:00",
          "2023-10-27T17:00:00",
          "2023-10-27T18:00:00",
          "2023-10-27T19:00:00",
          "2023-10-27T20:00:00",
          "2023-10-27T21:00:00",
          "2023-10-27T22:00:00",
          "2023-10-27T23:00:00",
          "2023-10-28T00:00:00",
          "2023-10-28T01:00:00",
          "2023-10-28T02:00:00",
          "2023-10-28T03:00:00",
          "2023-10-28T04:00:00",
          "2023-10-28T05:00:00",
          "2023-10-28T06:00:00",
          "2023-10-28T07:00:00",
          "2023-10-28T08:00:00",
          "2023-10-28T09:00:00",
          "2023-10-28T10:00:00",
          "2023-10-28T11:00:00",
          "2023-10-28T12:00:00",
          "2023-10-28T13:00:00",
          "2023-10-28T14:00:00",
          "2023-10-28T15:00:00",
          "2023-10-28T16:00:00",
          "2023-10-28T17:00:00",
          "2023-10-28T18:00:00",
          "2023-10-28T19:00:00",
          "2023-10-28T20:00:00",
          "2023-10-28T21:00:00",
          "2023-10-28T22:00:00",
          "2023-10-28T23:00:00",
          "2023-10-29T00:00:00",
          "2023-10-29T01:00:00",
          "2023-10-29T02:00:00",
          "2023-10-29T03:00:00",
          "2023-10-29T04:00:00",
          "2023-10-29T05:00:00",
          "2023-10-29T06:00:00",
          "2023-10-29T07:00:00",
          "2023-10-29T08:00:00",
          "2023-10-29T09:00:00",
          "2023-10-29T10:00:00",
          "2023-10-29T11:00:00",
          "2023-10-29T12:00:00",
          "2023-10-29T13:00:00",
          "2023-10-29T14:00:00",
          "2023-10-29T15:00:00",
          "2023-10-29T16:00:00",
          "2023-10-29T17:00:00",
          "2023-10-29T18:00:00",
          "2023-10-29T19:00:00",
          "2023-10-29T20:00:00",
          "2023-10-29T21:00:00",
          "2023-10-29T22:00:00",
          "2023-10-29T23:00:00",
          "2023-10-30T00:00:00",
          "2023-10-30T01:00:00",
          "2023-10-30T02:00:00",
          "2023-10-30T03:00:00",
          "2023-10-30T04:00:00",
          "2023-10-30T05:00:00",
          "2023-10-30T06:00:00",
          "2023-10-30T07:00:00",
          "2023-10-30T08:00:00",
          "2023-10-30T09:00:00",
          "2023-10-30T10:00:00",
          "2023-10-30T11:00:00",
          "2023-10-30T12:00:00",
          "2023-10-30T13:00:00",
          "2023-10-30T14:00:00",
          "2023-10-30T15:00:00",
          "2023-10-30T16:00:00",
          "2023-10-30T17:00:00",
          "2023-10-30T18:00:00",
          "2023-10-30T19:00:00",
          "2023-10-30T20:00:00",
          "2023-10-30T21:00:00",
          "2023-10-30T22:00:00",
          "2023-10-30T23:00:00",
          "2023-10-31T00:00:00",
          "2023-10-31T01:00:00",
          "2023-10-31T02:00:00",
          "2023-10-31T03:00:00",
          "2023-10-31T04:00:00",
          "2023-10-31T05:00:00",
          "2023-10-31T06:00:00",
          "2023-10-31T07:00:00",
          "2023-10-31T08:00:00",
          "2023-10-31T09:00:00",
          "2023-10-31T10:00:00",
          "2023-10-31T11:00:00",
          "2023-10-31T12:00:00",
          "2023-10-31T13:00:00",
          "2023-10-31T14:00:00",
          "2023-10-31T15:00:00",
          "2023-10-31T16:00:00",
          "2023-10-31T17:00:00",
          "2023-10-31T18:00:00",
          "2023-10-31T19:00:00",
          "2023-10-31T20:00:00",
          "2023-10-31T21:00:00",
          "2023-10-31T22:00:00",
          "2023-10-31T23:00:00",
          "2023-11-01T00:00:00",
          "2023-11-01T01:00:00",
          "2023-11-01T02:00:00",
          "2023-11-01T03:00:00",
          "2023-11-01T04:00:00",
          "2023-11-01T05:00:00",
          "2023-11-01T06:00:00",
          "2023-11-01T07:00:00",
          "2023-11-01T08:00:00",
          "2023-11-01T09:00:00",
          "2023-11-01T10:00:00",
          "2023-11-01T11:00:00",
          "2023-11-01T12:00:00",
          "2023-11-01T13:00:00",
          "2023-11-01T14:00:00",
          "2023-11-01T15:00:00",
          "2023-11-01T16:00:00",
          "2023-11-01T17:00:00",
          "2023-11-01T18:00:00",
          "2023-11-01T19:00:00",
          "2023-11-01T20:00:00",
          "2023-11-01T21:00:00",
          "2023-11-01T22:00:00",
          "2023-11-01T23:00:00",
          "2023-11-02T00:00:00",
          "2023-11-02T01:00:00",
          "2023-11-02T02:00:00",
          "2023-11-02T03:00:00",
          "2023-11-02T04:00:00",
          "2023-11-02T05:00:00",
          "2023-11-02T06:00:00",
          "2023-11-02T07:00:00",
          "2023-11-02T08:00:00",
          "2023-11-02T09:00:00",
          "2023-11-02T10:00:00",
          "2023-11-02T11:00:00",
          "2023-11-02T12:00:00",
          "2023-11-02T13:00:00",
          "2023-11-02T14:00:00",
          "2023-11-02T15:00:00",
          "2023-11-02T16:00:00",
          "2023-11-02T17:00:00",
          "2023-11-02T18:00:00",
          "2023-11-02T19:00:00",
          "2023-11-02T20:00:00",
          "2023-11-02T21:00:00",
          "2023-11-02T22:00:00",
          "2023-11-02T23:00:00",
          "2023-11-03T00:00:00",
          "2023-11-03T01:00:00",
          "2023-11-03T02:00:00",
          "2023-11-03T03:00:00",
          "2023-11-03T04:00:00",
          "2023-11-03T05:00:00",
          "2023-11-03T06:00:00",
          "2023-11-03T07:00:00",
          "2023-11-03T08:00:00",
          "2023-11-03T09:00:00",
          "2023-11-03T10:00:00",
          "2023-11-03T11:00:00",
          "2023-11-03T12:00:00",
          "2023-11-03T13:00:00",
          "2023-11-03T14:00:00",
          "2023-11-03T15:00:00",
          "2023-11-03T16:00:00",
          "2023-11-03T17:00:00",
          "2023-11-03T18:00:00",
          "2023-11-03T19:00:00",
          "2023-11-03T20:00:00",
          "2023-11-03T21:00:00",
          "2023-11-03T22:00:00",
          "2023-11-03T23:00:00",
          "2023-11-04T00:00:00",
          "2023-11-04T01:00:00",
          "2023-11-04T02:00:00",
          "2023-11-04T03:00:00",
          "2023-11-04T04:00:00",
          "2023-11-04T05:00:00",
          "2023-11-04T06:00:00",
          "2023-11-04T07:00:00",
          "2023-11-04T08:00:00",
          "2023-11-04T09:00:00",
          "2023-11-04T10:00:00",
          "2023-11-04T11:00:00",
          "2023-11-04T12:00:00",
          "2023-11-04T13:00:00",
          "2023-11-04T14:00:00",
          "2023-11-04T15:00:00",
          "2023-11-04T16:00:00",
          "2023-11-04T17:00:00",
          "2023-11-04T18:00:00",
          "2023-11-04T19:00:00",
          "2023-11-04T20:00:00",
          "2023-11-04T21:00:00",
          "2023-11-04T22:00:00",
          "2023-11-04T23:00:00",
          "2023-11-05T00:00:00",
          "2023-11-05T01:00:00",
          "2023-11-05T02:00:00",
          "2023-11-05T03:00:00",
          "2023-11-05T04:00:00",
          "2023-11-05T05:00:00",
          "2023-11-05T06:00:00",
          "2023-11-05T07:00:00",
          "2023-11-05T08:00:00",
          "2023-11-05T09:00:00",
          "2023-11-05T10:00:00",
          "2023-11-05T11:00:00",
          "2023-11-05T12:00:00",
          "2023-11-05T13:00:00",
          "2023-11-05T14:00:00",
          "2023-11-05T15:00:00",
          "2023-11-05T16:00:00",
          "2023-11-05T17:00:00",
          "2023-11-05T18:00:00",
          "2023-11-05T19:00:00",
          "2023-11-05T20:00:00",
          "2023-11-05T21:00:00",
          "2023-11-05T22:00:00",
          "2023-11-05T23:00:00",
          "2023-11-06T00:00:00",
          "2023-11-06T01:00:00",
          "2023-11-06T02:00:00",
          "2023-11-06T03:00:00",
          "2023-11-06T04:00:00",
          "2023-11-06T05:00:00",
          "2023-11-06T06:00:00",
          "2023-11-06T07:00:00",
          "2023-11-06T08:00:00",
          "2023-11-06T09:00:00",
          "2023-11-06T10:00:00",
          "2023-11-06T11:00:00",
          "2023-11-06T12:00:00",
          "2023-11-06T13:00:00",
          "2023-11-06T14:00:00",
          "2023-11-06T15:00:00",
          "2023-11-06T16:00:00",
          "2023-11-06T17:00:00",
          "2023-11-06T18:00:00",
          "2023-11-06T19:00:00",
          "2023-11-06T20:00:00",
          "2023-11-06T21:00:00",
          "2023-11-06T22:00:00",
          "2023-11-06T23:00:00",
          "2023-11-07T00:00:00",
          "2023-11-07T01:00:00",
          "2023-11-07T02:00:00",
          "2023-11-07T03:00:00",
          "2023-11-07T04:00:00",
          "2023-11-07T05:00:00",
          "2023-11-07T06:00:00",
          "2023-11-07T07:00:00",
          "2023-11-07T08:00:00",
          "2023-11-07T09:00:00",
          "2023-11-07T10:00:00",
          "2023-11-07T11:00:00",
          "2023-11-07T12:00:00",
          "2023-11-07T13:00:00",
          "2023-11-07T14:00:00",
          "2023-11-07T15:00:00",
          "2023-11-07T16:00:00",
          "2023-11-07T17:00:00",
          "2023-11-07T18:00:00",
          "2023-11-07T19:00:00",
          "2023-11-07T20:00:00",
          "2023-11-07T21:00:00",
          "2023-11-07T22:00:00",
          "2023-11-07T23:00:00",
          "2023-11-08T00:00:00",
          "2023-11-08T01:00:00",
          "2023-11-08T02:00:00",
          "2023-11-08T03:00:00",
          "2023-11-08T04:00:00",
          "2023-11-08T05:00:00",
          "2023-11-08T06:00:00",
          "2023-11-08T07:00:00",
          "2023-11-08T08:00:00",
          "2023-11-08T09:00:00",
          "2023-11-08T10:00:00",
          "2023-11-08T11:00:00",
          "2023-11-08T12:00:00",
          "2023-11-08T13:00:00",
          "2023-11-08T14:00:00",
          "2023-11-08T15:00:00",
          "2023-11-08T16:00:00",
          "2023-11-08T17:00:00",
          "2023-11-08T18:00:00",
          "2023-11-08T19:00:00",
          "2023-11-08T20:00:00",
          "2023-11-08T21:00:00",
          "2023-11-08T22:00:00",
          "2023-11-08T23:00:00",
          "2023-11-09T00:00:00",
          "2023-11-09T01:00:00",
          "2023-11-09T02:00:00",
          "2023-11-09T03:00:00",
          "2023-11-09T04:00:00",
          "2023-11-09T05:00:00",
          "2023-11-09T06:00:00",
          "2023-11-09T07:00:00",
          "2023-11-09T08:00:00",
          "2023-11-09T09:00:00",
          "2023-11-09T10:00:00",
          "2023-11-09T11:00:00",
          "2023-11-09T12:00:00",
          "2023-11-09T13:00:00",
          "2023-11-09T14:00:00",
          "2023-11-09T15:00:00",
          "2023-11-09T16:00:00",
          "2023-11-09T17:00:00",
          "2023-11-09T18:00:00",
          "2023-11-09T19:00:00",
          "2023-11-09T20:00:00",
          "2023-11-09T21:00:00",
          "2023-11-09T22:00:00",
          "2023-11-09T23:00:00",
          "2023-11-10T00:00:00",
          "2023-11-10T01:00:00",
          "2023-11-10T02:00:00",
          "2023-11-10T03:00:00",
          "2023-11-10T04:00:00",
          "2023-11-10T05:00:00",
          "2023-11-10T06:00:00",
          "2023-11-10T07:00:00",
          "2023-11-10T08:00:00",
          "2023-11-10T09:00:00",
          "2023-11-10T10:00:00",
          "2023-11-10T11:00:00",
          "2023-11-10T12:00:00",
          "2023-11-10T13:00:00",
          "2023-11-10T14:00:00",
          "2023-11-10T15:00:00",
          "2023-11-10T16:00:00",
          "2023-11-10T17:00:00",
          "2023-11-10T18:00:00",
          "2023-11-10T19:00:00",
          "2023-11-10T20:00:00",
          "2023-11-10T21:00:00",
          "2023-11-10T22:00:00",
          "2023-11-10T23:00:00",
          "2023-11-11T00:00:00",
          "2023-11-11T01:00:00",
          "2023-11-11T02:00:00",
          "2023-11-11T03:00:00",
          "2023-11-11T04:00:00",
          "2023-11-11T05:00:00",
          "2023-11-11T06:00:00",
          "2023-11-11T07:00:00",
          "2023-11-11T08:00:00",
          "2023-11-11T09:00:00",
          "2023-11-11T10:00:00",
          "2023-11-11T11:00:00",
          "2023-11-11T12:00:00",
          "2023-11-11T13:00:00",
          "2023-11-11T14:00:00",
          "2023-11-11T15:00:00",
          "2023-11-11T16:00:00",
          "2023-11-11T17:00:00",
          "2023-11-11T18:00:00",
          "2023-11-11T19:00:00",
          "2023-11-11T20:00:00",
          "2023-11-11T21:00:00",
          "2023-11-11T22:00:00",
          "2023-11-11T23:00:00",
          "2023-11-12T00:00:00",
          "2023-11-12T01:00:00",
          "2023-11-12T02:00:00",
          "2023-11-12T03:00:00",
          "2023-11-12T04:00:00",
          "2023-11-12T05:00:00",
          "2023-11-12T06:00:00",
          "2023-11-12T07:00:00",
          "2023-11-12T08:00:00",
          "2023-11-12T09:00:00",
          "2023-11-12T10:00:00",
          "2023-11-12T11:00:00",
          "2023-11-12T12:00:00",
          "2023-11-12T13:00:00",
          "2023-11-12T14:00:00",
          "2023-11-12T15:00:00",
          "2023-11-12T16:00:00",
          "2023-11-12T17:00:00",
          "2023-11-12T18:00:00",
          "2023-11-12T19:00:00",
          "2023-11-12T20:00:00",
          "2023-11-12T21:00:00",
          "2023-11-12T22:00:00",
          "2023-11-12T23:00:00",
          "2023-11-13T00:00:00",
          "2023-11-13T01:00:00",
          "2023-11-13T02:00:00",
          "2023-11-13T03:00:00",
          "2023-11-13T04:00:00",
          "2023-11-13T05:00:00",
          "2023-11-13T06:00:00",
          "2023-11-13T07:00:00",
          "2023-11-13T08:00:00",
          "2023-11-13T09:00:00",
          "2023-11-13T10:00:00",
          "2023-11-13T11:00:00",
          "2023-11-13T12:00:00",
          "2023-11-13T13:00:00",
          "2023-11-13T14:00:00",
          "2023-11-13T15:00:00",
          "2023-11-13T16:00:00",
          "2023-11-13T17:00:00",
          "2023-11-13T18:00:00",
          "2023-11-13T19:00:00",
          "2023-11-13T20:00:00",
          "2023-11-13T21:00:00",
          "2023-11-13T22:00:00",
          "2023-11-13T23:00:00",
          "2023-11-14T00:00:00",
          "2023-11-14T01:00:00",
          "2023-11-14T02:00:00",
          "2023-11-14T03:00:00",
          "2023-11-14T04:00:00",
          "2023-11-14T05:00:00",
          "2023-11-14T06:00:00",
          "2023-11-14T07:00:00",
          "2023-11-14T08:00:00",
          "2023-11-14T09:00:00",
          "2023-11-14T10:00:00",
          "2023-11-14T11:00:00",
          "2023-11-14T12:00:00",
          "2023-11-14T13:00:00",
          "2023-11-14T14:00:00",
          "2023-11-14T15:00:00",
          "2023-11-14T16:00:00",
          "2023-11-14T17:00:00",
          "2023-11-14T18:00:00",
          "2023-11-14T19:00:00",
          "2023-11-14T20:00:00",
          "2023-11-14T21:00:00",
          "2023-11-14T22:00:00",
          "2023-11-14T23:00:00",
          "2023-11-15T00:00:00",
          "2023-11-15T01:00:00",
          "2023-11-15T02:00:00",
          "2023-11-15T03:00:00",
          "2023-11-15T04:00:00",
          "2023-11-15T05:00:00",
          "2023-11-15T06:00:00",
          "2023-11-15T07:00:00",
          "2023-11-15T08:00:00",
          "2023-11-15T09:00:00",
          "2023-11-15T10:00:00",
          "2023-11-15T11:00:00",
          "2023-11-15T12:00:00",
          "2023-11-15T13:00:00",
          "2023-11-15T14:00:00",
          "2023-11-15T15:00:00",
          "2023-11-15T16:00:00",
          "2023-11-15T17:00:00",
          "2023-11-15T18:00:00",
          "2023-11-15T19:00:00",
          "2023-11-15T20:00:00",
          "2023-11-15T21:00:00",
          "2023-11-15T22:00:00",
          "2023-11-15T23:00:00",
          "2023-11-16T00:00:00",
          "2023-11-16T01:00:00",
          "2023-11-16T02:00:00",
          "2023-11-16T03:00:00",
          "2023-11-16T04:00:00",
          "2023-11-16T05:00:00",
          "2023-11-16T06:00:00",
          "2023-11-16T07:00:00",
          "2023-11-16T08:00:00",
          "2023-11-16T09:00:00",
          "2023-11-16T10:00:00",
          "2023-11-16T11:00:00",
          "2023-11-16T12:00:00",
          "2023-11-16T13:00:00",
          "2023-11-16T14:00:00",
          "2023-11-16T15:00:00",
          "2023-11-16T16:00:00",
          "2023-11-16T17:00:00",
          "2023-11-16T18:00:00",
          "2023-11-16T19:00:00",
          "2023-11-16T20:00:00",
          "2023-11-16T21:00:00",
          "2023-11-16T22:00:00",
          "2023-11-16T23:00:00",
          "2023-11-17T00:00:00",
          "2023-11-17T01:00:00",
          "2023-11-17T02:00:00",
          "2023-11-17T03:00:00",
          "2023-11-17T04:00:00",
          "2023-11-17T05:00:00",
          "2023-11-17T06:00:00",
          "2023-11-17T07:00:00",
          "2023-11-17T08:00:00",
          "2023-11-17T09:00:00",
          "2023-11-17T10:00:00",
          "2023-11-17T11:00:00",
          "2023-11-17T12:00:00",
          "2023-11-17T13:00:00",
          "2023-11-17T14:00:00",
          "2023-11-17T15:00:00",
          "2023-11-17T16:00:00",
          "2023-11-17T17:00:00",
          "2023-11-17T18:00:00",
          "2023-11-17T19:00:00",
          "2023-11-17T20:00:00",
          "2023-11-17T21:00:00",
          "2023-11-17T22:00:00",
          "2023-11-17T23:00:00",
          "2023-11-18T00:00:00",
          "2023-11-18T01:00:00",
          "2023-11-18T02:00:00",
          "2023-11-18T03:00:00",
          "2023-11-18T04:00:00",
          "2023-11-18T05:00:00",
          "2023-11-18T06:00:00",
          "2023-11-18T07:00:00",
          "2023-11-18T08:00:00",
          "2023-11-18T09:00:00",
          "2023-11-18T10:00:00",
          "2023-11-18T11:00:00",
          "2023-11-18T12:00:00",
          "2023-11-18T13:00:00",
          "2023-11-18T14:00:00",
          "2023-11-18T15:00:00",
          "2023-11-18T16:00:00",
          "2023-11-18T17:00:00",
          "2023-11-18T18:00:00",
          "2023-11-18T19:00:00",
          "2023-11-18T20:00:00",
          "2023-11-18T21:00:00",
          "2023-11-18T22:00:00",
          "2023-11-18T23:00:00",
          "2023-11-19T00:00:00",
          "2023-11-19T01:00:00",
          "2023-11-19T02:00:00",
          "2023-11-19T03:00:00",
          "2023-11-19T04:00:00",
          "2023-11-19T05:00:00",
          "2023-11-19T06:00:00",
          "2023-11-19T07:00:00",
          "2023-11-19T08:00:00",
          "2023-11-19T09:00:00",
          "2023-11-19T10:00:00",
          "2023-11-19T11:00:00",
          "2023-11-19T12:00:00",
          "2023-11-19T13:00:00",
          "2023-11-19T14:00:00",
          "2023-11-19T15:00:00",
          "2023-11-19T16:00:00",
          "2023-11-19T17:00:00",
          "2023-11-19T18:00:00",
          "2023-11-19T19:00:00",
          "2023-11-19T20:00:00",
          "2023-11-19T21:00:00",
          "2023-11-19T22:00:00",
          "2023-11-19T23:00:00",
          "2023-11-20T00:00:00",
          "2023-11-20T01:00:00",
          "2023-11-20T02:00:00",
          "2023-11-20T03:00:00",
          "2023-11-20T04:00:00",
          "2023-11-20T05:00:00",
          "2023-11-20T06:00:00",
          "2023-11-20T07:00:00",
          "2023-11-20T08:00:00",
          "2023-11-20T09:00:00",
          "2023-11-20T10:00:00",
          "2023-11-20T11:00:00",
          "2023-11-20T12:00:00",
          "2023-11-20T13:00:00",
          "2023-11-20T14:00:00",
          "2023-11-20T15:00:00",
          "2023-11-20T16:00:00",
          "2023-11-20T17:00:00",
          "2023-11-20T18:00:00",
          "2023-11-20T19:00:00",
          "2023-11-20T20:00:00",
          "2023-11-20T21:00:00",
          "2023-11-20T22:00:00",
          "2023-11-20T23:00:00",
          "2023-11-21T00:00:00",
          "2023-11-21T01:00:00",
          "2023-11-21T02:00:00",
          "2023-11-21T03:00:00",
          "2023-11-21T04:00:00",
          "2023-11-21T05:00:00",
          "2023-11-21T06:00:00",
          "2023-11-21T07:00:00",
          "2023-11-21T08:00:00",
          "2023-11-21T09:00:00",
          "2023-11-21T10:00:00",
          "2023-11-21T11:00:00",
          "2023-11-21T12:00:00",
          "2023-11-21T13:00:00",
          "2023-11-21T14:00:00",
          "2023-11-21T15:00:00",
          "2023-11-21T16:00:00",
          "2023-11-21T17:00:00",
          "2023-11-21T18:00:00",
          "2023-11-21T19:00:00",
          "2023-11-21T20:00:00",
          "2023-11-21T21:00:00",
          "2023-11-21T22:00:00",
          "2023-11-21T23:00:00",
          "2023-11-22T00:00:00",
          "2023-11-22T01:00:00",
          "2023-11-22T02:00:00",
          "2023-11-22T03:00:00",
          "2023-11-22T04:00:00",
          "2023-11-22T05:00:00",
          "2023-11-22T06:00:00",
          "2023-11-22T07:00:00",
          "2023-11-22T08:00:00",
          "2023-11-22T09:00:00",
          "2023-11-22T10:00:00",
          "2023-11-22T11:00:00",
          "2023-11-22T12:00:00",
          "2023-11-22T13:00:00",
          "2023-11-22T14:00:00",
          "2023-11-22T15:00:00",
          "2023-11-22T16:00:00",
          "2023-11-22T17:00:00",
          "2023-11-22T18:00:00",
          "2023-11-22T19:00:00",
          "2023-11-22T20:00:00",
          "2023-11-22T21:00:00",
          "2023-11-22T22:00:00",
          "2023-11-22T23:00:00",
          "2023-11-23T00:00:00",
          "2023-11-23T01:00:00",
          "2023-11-23T02:00:00",
          "2023-11-23T03:00:00",
          "2023-11-23T04:00:00",
          "2023-11-23T05:00:00",
          "2023-11-23T06:00:00",
          "2023-11-23T07:00:00",
          "2023-11-23T08:00:00",
          "2023-11-23T09:00:00",
          "2023-11-23T10:00:00",
          "2023-11-23T11:00:00",
          "2023-11-23T12:00:00",
          "2023-11-23T13:00:00",
          "2023-11-23T14:00:00",
          "2023-11-23T15:00:00",
          "2023-11-23T16:00:00",
          "2023-11-23T17:00:00",
          "2023-11-23T18:00:00",
          "2023-11-23T19:00:00",
          "2023-11-23T20:00:00",
          "2023-11-23T21:00:00",
          "2023-11-23T22:00:00",
          "2023-11-23T23:00:00",
          "2023-11-24T00:00:00",
          "2023-11-24T01:00:00",
          "2023-11-24T02:00:00",
          "2023-11-24T03:00:00",
          "2023-11-24T04:00:00",
          "2023-11-24T05:00:00",
          "2023-11-24T06:00:00",
          "2023-11-24T07:00:00",
          "2023-11-24T08:00:00",
          "2023-11-24T09:00:00",
          "2023-11-24T10:00:00",
          "2023-11-24T11:00:00",
          "2023-11-24T12:00:00",
          "2023-11-24T13:00:00",
          "2023-11-24T14:00:00",
          "2023-11-24T15:00:00",
          "2023-11-24T16:00:00",
          "2023-11-24T17:00:00",
          "2023-11-24T18:00:00",
          "2023-11-24T19:00:00",
          "2023-11-24T20:00:00",
          "2023-11-24T21:00:00",
          "2023-11-24T22:00:00",
          "2023-11-24T23:00:00",
          "2023-11-25T00:00:00",
          "2023-11-25T01:00:00",
          "2023-11-25T02:00:00",
          "2023-11-25T03:00:00",
          "2023-11-25T04:00:00",
          "2023-11-25T05:00:00",
          "2023-11-25T06:00:00",
          "2023-11-25T07:00:00",
          "2023-11-25T08:00:00",
          "2023-11-25T09:00:00",
          "2023-11-25T10:00:00",
          "2023-11-25T11:00:00",
          "2023-11-25T12:00:00",
          "2023-11-25T13:00:00",
          "2023-11-25T14:00:00",
          "2023-11-25T15:00:00",
          "2023-11-25T16:00:00",
          "2023-11-25T17:00:00",
          "2023-11-25T18:00:00",
          "2023-11-25T19:00:00",
          "2023-11-25T20:00:00",
          "2023-11-25T21:00:00",
          "2023-11-25T22:00:00",
          "2023-11-25T23:00:00",
          "2023-11-26T00:00:00",
          "2023-11-26T01:00:00",
          "2023-11-26T02:00:00",
          "2023-11-26T03:00:00",
          "2023-11-26T04:00:00",
          "2023-11-26T05:00:00",
          "2023-11-26T06:00:00",
          "2023-11-26T07:00:00",
          "2023-11-26T08:00:00",
          "2023-11-26T09:00:00",
          "2023-11-26T10:00:00",
          "2023-11-26T11:00:00",
          "2023-11-26T12:00:00",
          "2023-11-26T13:00:00",
          "2023-11-26T14:00:00",
          "2023-11-26T15:00:00",
          "2023-11-26T16:00:00",
          "2023-11-26T17:00:00",
          "2023-11-26T18:00:00",
          "2023-11-26T19:00:00",
          "2023-11-26T20:00:00",
          "2023-11-26T21:00:00",
          "2023-11-26T22:00:00",
          "2023-11-26T23:00:00",
          "2023-11-27T00:00:00",
          "2023-11-27T01:00:00",
          "2023-11-27T02:00:00",
          "2023-11-27T03:00:00",
          "2023-11-27T04:00:00",
          "2023-11-27T05:00:00",
          "2023-11-27T06:00:00",
          "2023-11-27T07:00:00",
          "2023-11-27T08:00:00",
          "2023-11-27T09:00:00",
          "2023-11-27T10:00:00",
          "2023-11-27T11:00:00",
          "2023-11-27T12:00:00",
          "2023-11-27T13:00:00",
          "2023-11-27T14:00:00",
          "2023-11-27T15:00:00",
          "2023-11-27T16:00:00",
          "2023-11-27T17:00:00",
          "2023-11-27T18:00:00",
          "2023-11-27T19:00:00",
          "2023-11-27T20:00:00",
          "2023-11-27T21:00:00",
          "2023-11-27T22:00:00",
          "2023-11-27T23:00:00",
          "2023-11-28T00:00:00",
          "2023-11-28T01:00:00",
          "2023-11-28T02:00:00",
          "2023-11-28T03:00:00",
          "2023-11-28T04:00:00",
          "2023-11-28T05:00:00",
          "2023-11-28T06:00:00",
          "2023-11-28T07:00:00",
          "2023-11-28T08:00:00",
          "2023-11-28T09:00:00",
          "2023-11-28T10:00:00",
          "2023-11-28T11:00:00",
          "2023-11-28T12:00:00",
          "2023-11-28T13:00:00",
          "2023-11-28T14:00:00",
          "2023-11-28T15:00:00",
          "2023-11-28T16:00:00",
          "2023-11-28T17:00:00",
          "2023-11-28T18:00:00",
          "2023-11-28T19:00:00",
          "2023-11-28T20:00:00",
          "2023-11-28T21:00:00",
          "2023-11-28T22:00:00",
          "2023-11-28T23:00:00",
          "2023-11-29T00:00:00",
          "2023-11-29T01:00:00",
          "2023-11-29T02:00:00",
          "2023-11-29T03:00:00",
          "2023-11-29T04:00:00",
          "2023-11-29T05:00:00",
          "2023-11-29T06:00:00",
          "2023-11-29T07:00:00",
          "2023-11-29T08:00:00",
          "2023-11-29T09:00:00",
          "2023-11-29T10:00:00",
          "2023-11-29T11:00:00",
          "2023-11-29T12:00:00",
          "2023-11-29T13:00:00",
          "2023-11-29T14:00:00",
          "2023-11-29T15:00:00",
          "2023-11-29T16:00:00",
          "2023-11-29T17:00:00",
          "2023-11-29T18:00:00",
          "2023-11-29T19:00:00",
          "2023-11-29T20:00:00",
          "2023-11-29T21:00:00",
          "2023-11-29T22:00:00",
          "2023-11-29T23:00:00",
          "2023-11-30T00:00:00",
          "2023-11-30T01:00:00",
          "2023-11-30T02:00:00",
          "2023-11-30T03:00:00",
          "2023-11-30T04:00:00",
          "2023-11-30T05:00:00",
          "2023-11-30T06:00:00",
          "2023-11-30T07:00:00",
          "2023-11-30T08:00:00",
          "2023-11-30T09:00:00",
          "2023-11-30T10:00:00",
          "2023-11-30T11:00:00",
          "2023-11-30T12:00:00",
          "2023-11-30T13:00:00",
          "2023-11-30T14:00:00",
          "2023-11-30T15:00:00",
          "2023-11-30T16:00:00",
          "2023-11-30T17:00:00",
          "2023-11-30T18:00:00",
          "2023-11-30T19:00:00",
          "2023-11-30T20:00:00",
          "2023-11-30T21:00:00",
          "2023-11-30T22:00:00",
          "2023-11-30T23:00:00",
          "2023-12-01T00:00:00",
          "2023-12-01T01:00:00",
          "2023-12-01T02:00:00",
          "2023-12-01T03:00:00",
          "2023-12-01T04:00:00",
          "2023-12-01T05:00:00",
          "2023-12-01T06:00:00",
          "2023-12-01T07:00:00",
          "2023-12-01T08:00:00",
          "2023-12-01T09:00:00",
          "2023-12-01T10:00:00",
          "2023-12-01T11:00:00",
          "2023-12-01T12:00:00",
          "2023-12-01T13:00:00",
          "2023-12-01T14:00:00",
          "2023-12-01T15:00:00",
          "2023-12-01T16:00:00",
          "2023-12-01T17:00:00",
          "2023-12-01T18:00:00",
          "2023-12-01T19:00:00",
          "2023-12-01T20:00:00",
          "2023-12-01T21:00:00",
          "2023-12-01T22:00:00",
          "2023-12-01T23:00:00",
          "2023-12-02T00:00:00",
          "2023-12-02T01:00:00",
          "2023-12-02T02:00:00",
          "2023-12-02T03:00:00",
          "2023-12-02T04:00:00",
          "2023-12-02T05:00:00",
          "2023-12-02T06:00:00",
          "2023-12-02T07:00:00",
          "2023-12-02T08:00:00",
          "2023-12-02T09:00:00",
          "2023-12-02T10:00:00",
          "2023-12-02T11:00:00",
          "2023-12-02T12:00:00",
          "2023-12-02T13:00:00",
          "2023-12-02T14:00:00",
          "2023-12-02T15:00:00",
          "2023-12-02T16:00:00",
          "2023-12-02T17:00:00",
          "2023-12-02T18:00:00",
          "2023-12-02T19:00:00",
          "2023-12-02T20:00:00",
          "2023-12-02T21:00:00",
          "2023-12-02T22:00:00",
          "2023-12-02T23:00:00",
          "2023-12-03T00:00:00",
          "2023-12-03T01:00:00",
          "2023-12-03T02:00:00",
          "2023-12-03T03:00:00",
          "2023-12-03T04:00:00",
          "2023-12-03T05:00:00",
          "2023-12-03T06:00:00",
          "2023-12-03T07:00:00",
          "2023-12-03T08:00:00",
          "2023-12-03T09:00:00",
          "2023-12-03T10:00:00",
          "2023-12-03T11:00:00",
          "2023-12-03T12:00:00",
          "2023-12-03T13:00:00",
          "2023-12-03T14:00:00",
          "2023-12-03T15:00:00",
          "2023-12-03T16:00:00",
          "2023-12-03T17:00:00",
          "2023-12-03T18:00:00",
          "2023-12-03T19:00:00",
          "2023-12-03T20:00:00",
          "2023-12-03T21:00:00",
          "2023-12-03T22:00:00",
          "2023-12-03T23:00:00",
          "2023-12-04T00:00:00",
          "2023-12-04T01:00:00",
          "2023-12-04T02:00:00",
          "2023-12-04T03:00:00",
          "2023-12-04T04:00:00",
          "2023-12-04T05:00:00",
          "2023-12-04T06:00:00",
          "2023-12-04T07:00:00",
          "2023-12-04T08:00:00",
          "2023-12-04T09:00:00",
          "2023-12-04T10:00:00",
          "2023-12-04T11:00:00",
          "2023-12-04T12:00:00",
          "2023-12-04T13:00:00",
          "2023-12-04T14:00:00",
          "2023-12-04T15:00:00",
          "2023-12-04T16:00:00",
          "2023-12-04T17:00:00",
          "2023-12-04T18:00:00",
          "2023-12-04T19:00:00",
          "2023-12-04T20:00:00",
          "2023-12-04T21:00:00",
          "2023-12-04T22:00:00",
          "2023-12-04T23:00:00",
          "2023-12-05T00:00:00",
          "2023-12-05T01:00:00",
          "2023-12-05T02:00:00",
          "2023-12-05T03:00:00",
          "2023-12-05T04:00:00",
          "2023-12-05T05:00:00",
          "2023-12-05T06:00:00",
          "2023-12-05T07:00:00",
          "2023-12-05T08:00:00",
          "2023-12-05T09:00:00",
          "2023-12-05T10:00:00",
          "2023-12-05T11:00:00",
          "2023-12-05T12:00:00",
          "2023-12-05T13:00:00",
          "2023-12-05T14:00:00",
          "2023-12-05T15:00:00",
          "2023-12-05T16:00:00",
          "2023-12-05T17:00:00",
          "2023-12-05T18:00:00",
          "2023-12-05T19:00:00",
          "2023-12-05T20:00:00",
          "2023-12-05T21:00:00",
          "2023-12-05T22:00:00",
          "2023-12-05T23:00:00",
          "2023-12-06T00:00:00",
          "2023-12-06T01:00:00",
          "2023-12-06T02:00:00",
          "2023-12-06T03:00:00",
          "2023-12-06T04:00:00",
          "2023-12-06T05:00:00",
          "2023-12-06T06:00:00",
          "2023-12-06T07:00:00",
          "2023-12-06T08:00:00",
          "2023-12-06T09:00:00",
          "2023-12-06T10:00:00",
          "2023-12-06T11:00:00",
          "2023-12-06T12:00:00",
          "2023-12-06T13:00:00",
          "2023-12-06T14:00:00",
          "2023-12-06T15:00:00",
          "2023-12-06T16:00:00",
          "2023-12-06T17:00:00",
          "2023-12-06T18:00:00",
          "2023-12-06T19:00:00",
          "2023-12-06T20:00:00",
          "2023-12-06T21:00:00",
          "2023-12-06T22:00:00",
          "2023-12-06T23:00:00",
          "2023-12-07T00:00:00",
          "2023-12-07T01:00:00",
          "2023-12-07T02:00:00",
          "2023-12-07T03:00:00",
          "2023-12-07T04:00:00",
          "2023-12-07T05:00:00",
          "2023-12-07T06:00:00",
          "2023-12-07T07:00:00",
          "2023-12-07T08:00:00",
          "2023-12-07T09:00:00",
          "2023-12-07T10:00:00",
          "2023-12-07T11:00:00",
          "2023-12-07T12:00:00",
          "2023-12-07T13:00:00",
          "2023-12-07T14:00:00",
          "2023-12-07T15:00:00",
          "2023-12-07T16:00:00",
          "2023-12-07T17:00:00",
          "2023-12-07T18:00:00",
          "2023-12-07T19:00:00",
          "2023-12-07T20:00:00",
          "2023-12-07T21:00:00",
          "2023-12-07T22:00:00",
          "2023-12-07T23:00:00",
          "2023-12-08T00:00:00",
          "2023-12-08T01:00:00",
          "2023-12-08T02:00:00",
          "2023-12-08T03:00:00",
          "2023-12-08T04:00:00",
          "2023-12-08T05:00:00",
          "2023-12-08T06:00:00",
          "2023-12-08T07:00:00",
          "2023-12-08T08:00:00",
          "2023-12-08T09:00:00",
          "2023-12-08T10:00:00",
          "2023-12-08T11:00:00",
          "2023-12-08T12:00:00",
          "2023-12-08T13:00:00",
          "2023-12-08T14:00:00",
          "2023-12-08T15:00:00",
          "2023-12-08T16:00:00",
          "2023-12-08T17:00:00",
          "2023-12-08T18:00:00",
          "2023-12-08T19:00:00",
          "2023-12-08T20:00:00",
          "2023-12-08T21:00:00",
          "2023-12-08T22:00:00",
          "2023-12-08T23:00:00",
          "2023-12-09T00:00:00",
          "2023-12-09T01:00:00",
          "2023-12-09T02:00:00",
          "2023-12-09T03:00:00",
          "2023-12-09T04:00:00",
          "2023-12-09T05:00:00",
          "2023-12-09T06:00:00",
          "2023-12-09T07:00:00",
          "2023-12-09T08:00:00",
          "2023-12-09T09:00:00",
          "2023-12-09T10:00:00",
          "2023-12-09T11:00:00",
          "2023-12-09T12:00:00",
          "2023-12-09T13:00:00",
          "2023-12-09T14:00:00",
          "2023-12-09T15:00:00",
          "2023-12-09T16:00:00",
          "2023-12-09T17:00:00",
          "2023-12-09T18:00:00",
          "2023-12-09T19:00:00",
          "2023-12-09T20:00:00",
          "2023-12-09T21:00:00",
          "2023-12-09T22:00:00",
          "2023-12-09T23:00:00",
          "2023-12-10T00:00:00",
          "2023-12-10T01:00:00",
          "2023-12-10T02:00:00",
          "2023-12-10T03:00:00",
          "2023-12-10T04:00:00",
          "2023-12-10T05:00:00",
          "2023-12-10T06:00:00",
          "2023-12-10T07:00:00",
          "2023-12-10T08:00:00",
          "2023-12-10T09:00:00",
          "2023-12-10T10:00:00",
          "2023-12-10T11:00:00",
          "2023-12-10T12:00:00",
          "2023-12-10T13:00:00",
          "2023-12-10T14:00:00",
          "2023-12-10T15:00:00",
          "2023-12-10T16:00:00",
          "2023-12-10T17:00:00",
          "2023-12-10T18:00:00",
          "2023-12-10T19:00:00",
          "2023-12-10T20:00:00",
          "2023-12-10T21:00:00",
          "2023-12-10T22:00:00",
          "2023-12-10T23:00:00",
          "2023-12-11T00:00:00",
          "2023-12-11T01:00:00",
          "2023-12-11T02:00:00",
          "2023-12-11T03:00:00",
          "2023-12-11T04:00:00",
          "2023-12-11T05:00:00",
          "2023-12-11T06:00:00",
          "2023-12-11T07:00:00",
          "2023-12-11T08:00:00",
          "2023-12-11T09:00:00",
          "2023-12-11T10:00:00",
          "2023-12-11T11:00:00",
          "2023-12-11T12:00:00",
          "2023-12-11T13:00:00",
          "2023-12-11T14:00:00",
          "2023-12-11T15:00:00",
          "2023-12-11T16:00:00",
          "2023-12-11T17:00:00",
          "2023-12-11T18:00:00",
          "2023-12-11T19:00:00",
          "2023-12-11T20:00:00",
          "2023-12-11T21:00:00",
          "2023-12-11T22:00:00",
          "2023-12-11T23:00:00",
          "2023-12-12T00:00:00",
          "2023-12-12T01:00:00",
          "2023-12-12T02:00:00",
          "2023-12-12T03:00:00",
          "2023-12-12T04:00:00",
          "2023-12-12T05:00:00",
          "2023-12-12T06:00:00",
          "2023-12-12T07:00:00",
          "2023-12-12T08:00:00",
          "2023-12-12T09:00:00",
          "2023-12-12T10:00:00",
          "2023-12-12T11:00:00",
          "2023-12-12T12:00:00",
          "2023-12-12T13:00:00",
          "2023-12-12T14:00:00",
          "2023-12-12T15:00:00",
          "2023-12-12T16:00:00",
          "2023-12-12T17:00:00",
          "2023-12-12T18:00:00",
          "2023-12-12T19:00:00",
          "2023-12-12T20:00:00",
          "2023-12-12T21:00:00",
          "2023-12-12T22:00:00",
          "2023-12-12T23:00:00",
          "2023-12-13T00:00:00",
          "2023-12-13T01:00:00",
          "2023-12-13T02:00:00",
          "2023-12-13T03:00:00",
          "2023-12-13T04:00:00",
          "2023-12-13T05:00:00",
          "2023-12-13T06:00:00",
          "2023-12-13T07:00:00",
          "2023-12-13T08:00:00",
          "2023-12-13T09:00:00",
          "2023-12-13T10:00:00",
          "2023-12-13T11:00:00",
          "2023-12-13T12:00:00",
          "2023-12-13T13:00:00",
          "2023-12-13T14:00:00",
          "2023-12-13T15:00:00",
          "2023-12-13T16:00:00",
          "2023-12-13T17:00:00",
          "2023-12-13T18:00:00",
          "2023-12-13T19:00:00",
          "2023-12-13T20:00:00",
          "2023-12-13T21:00:00",
          "2023-12-13T22:00:00",
          "2023-12-13T23:00:00",
          "2023-12-14T00:00:00",
          "2023-12-14T01:00:00",
          "2023-12-14T02:00:00",
          "2023-12-14T03:00:00",
          "2023-12-14T04:00:00",
          "2023-12-14T05:00:00",
          "2023-12-14T06:00:00",
          "2023-12-14T07:00:00",
          "2023-12-14T08:00:00",
          "2023-12-14T09:00:00",
          "2023-12-14T10:00:00",
          "2023-12-14T11:00:00",
          "2023-12-14T12:00:00",
          "2023-12-14T13:00:00",
          "2023-12-14T14:00:00",
          "2023-12-14T15:00:00",
          "2023-12-14T16:00:00",
          "2023-12-14T17:00:00",
          "2023-12-14T18:00:00",
          "2023-12-14T19:00:00",
          "2023-12-14T20:00:00",
          "2023-12-14T21:00:00",
          "2023-12-14T22:00:00",
          "2023-12-14T23:00:00",
          "2023-12-15T00:00:00",
          "2023-12-15T01:00:00",
          "2023-12-15T02:00:00",
          "2023-12-15T03:00:00",
          "2023-12-15T04:00:00",
          "2023-12-15T05:00:00",
          "2023-12-15T06:00:00",
          "2023-12-15T07:00:00",
          "2023-12-15T08:00:00",
          "2023-12-15T09:00:00",
          "2023-12-15T10:00:00",
          "2023-12-15T11:00:00",
          "2023-12-15T12:00:00",
          "2023-12-15T13:00:00",
          "2023-12-15T14:00:00",
          "2023-12-15T15:00:00",
          "2023-12-15T16:00:00",
          "2023-12-15T17:00:00",
          "2023-12-15T18:00:00",
          "2023-12-15T19:00:00",
          "2023-12-15T20:00:00",
          "2023-12-15T21:00:00",
          "2023-12-15T22:00:00",
          "2023-12-15T23:00:00",
          "2023-12-16T00:00:00",
          "2023-12-16T01:00:00",
          "2023-12-16T02:00:00",
          "2023-12-16T03:00:00",
          "2023-12-16T04:00:00",
          "2023-12-16T05:00:00",
          "2023-12-16T06:00:00",
          "2023-12-16T07:00:00",
          "2023-12-16T08:00:00",
          "2023-12-16T09:00:00",
          "2023-12-16T10:00:00",
          "2023-12-16T11:00:00",
          "2023-12-16T12:00:00",
          "2023-12-16T13:00:00",
          "2023-12-16T14:00:00",
          "2023-12-16T15:00:00",
          "2023-12-16T16:00:00",
          "2023-12-16T17:00:00",
          "2023-12-16T18:00:00",
          "2023-12-16T19:00:00",
          "2023-12-16T20:00:00",
          "2023-12-16T21:00:00",
          "2023-12-16T22:00:00",
          "2023-12-16T23:00:00",
          "2023-12-17T00:00:00",
          "2023-12-17T01:00:00",
          "2023-12-17T02:00:00",
          "2023-12-17T03:00:00",
          "2023-12-17T04:00:00",
          "2023-12-17T05:00:00",
          "2023-12-17T06:00:00",
          "2023-12-17T07:00:00",
          "2023-12-17T08:00:00",
          "2023-12-17T09:00:00",
          "2023-12-17T10:00:00",
          "2023-12-17T11:00:00",
          "2023-12-17T12:00:00",
          "2023-12-17T13:00:00",
          "2023-12-17T14:00:00",
          "2023-12-17T15:00:00",
          "2023-12-17T16:00:00",
          "2023-12-17T17:00:00",
          "2023-12-17T18:00:00",
          "2023-12-17T19:00:00",
          "2023-12-17T20:00:00",
          "2023-12-17T21:00:00",
          "2023-12-17T22:00:00",
          "2023-12-17T23:00:00",
          "2023-12-18T00:00:00",
          "2023-12-18T01:00:00",
          "2023-12-18T02:00:00",
          "2023-12-18T03:00:00",
          "2023-12-18T04:00:00",
          "2023-12-18T05:00:00",
          "2023-12-18T06:00:00",
          "2023-12-18T07:00:00",
          "2023-12-18T08:00:00",
          "2023-12-18T09:00:00",
          "2023-12-18T10:00:00",
          "2023-12-18T11:00:00",
          "2023-12-18T12:00:00",
          "2023-12-18T13:00:00",
          "2023-12-18T14:00:00",
          "2023-12-18T15:00:00",
          "2023-12-18T16:00:00",
          "2023-12-18T17:00:00",
          "2023-12-18T18:00:00",
          "2023-12-18T19:00:00",
          "2023-12-18T20:00:00",
          "2023-12-18T21:00:00",
          "2023-12-18T22:00:00",
          "2023-12-18T23:00:00",
          "2023-12-19T00:00:00",
          "2023-12-19T01:00:00",
          "2023-12-19T02:00:00",
          "2023-12-19T03:00:00",
          "2023-12-19T04:00:00",
          "2023-12-19T05:00:00",
          "2023-12-19T06:00:00",
          "2023-12-19T07:00:00",
          "2023-12-19T08:00:00",
          "2023-12-19T09:00:00",
          "2023-12-19T10:00:00",
          "2023-12-19T11:00:00",
          "2023-12-19T12:00:00",
          "2023-12-19T13:00:00",
          "2023-12-19T14:00:00",
          "2023-12-19T15:00:00",
          "2023-12-19T16:00:00",
          "2023-12-19T17:00:00",
          "2023-12-19T18:00:00",
          "2023-12-19T19:00:00",
          "2023-12-19T20:00:00",
          "2023-12-19T21:00:00",
          "2023-12-19T22:00:00",
          "2023-12-19T23:00:00",
          "2023-12-20T00:00:00",
          "2023-12-20T01:00:00",
          "2023-12-20T02:00:00",
          "2023-12-20T03:00:00",
          "2023-12-20T04:00:00",
          "2023-12-20T05:00:00",
          "2023-12-20T06:00:00",
          "2023-12-20T07:00:00",
          "2023-12-20T08:00:00",
          "2023-12-20T09:00:00",
          "2023-12-20T10:00:00",
          "2023-12-20T11:00:00",
          "2023-12-20T12:00:00",
          "2023-12-20T13:00:00",
          "2023-12-20T14:00:00",
          "2023-12-20T15:00:00",
          "2023-12-20T16:00:00",
          "2023-12-20T17:00:00",
          "2023-12-20T18:00:00",
          "2023-12-20T19:00:00",
          "2023-12-20T20:00:00",
          "2023-12-20T21:00:00",
          "2023-12-20T22:00:00",
          "2023-12-20T23:00:00",
          "2023-12-21T00:00:00",
          "2023-12-21T01:00:00",
          "2023-12-21T02:00:00",
          "2023-12-21T03:00:00",
          "2023-12-21T04:00:00",
          "2023-12-21T05:00:00",
          "2023-12-21T06:00:00",
          "2023-12-21T07:00:00",
          "2023-12-21T08:00:00",
          "2023-12-21T09:00:00",
          "2023-12-21T10:00:00",
          "2023-12-21T11:00:00",
          "2023-12-21T12:00:00",
          "2023-12-21T13:00:00",
          "2023-12-21T14:00:00",
          "2023-12-21T15:00:00",
          "2023-12-21T16:00:00",
          "2023-12-21T17:00:00",
          "2023-12-21T18:00:00",
          "2023-12-21T19:00:00",
          "2023-12-21T20:00:00",
          "2023-12-21T21:00:00",
          "2023-12-21T22:00:00",
          "2023-12-21T23:00:00",
          "2023-12-22T00:00:00",
          "2023-12-22T01:00:00",
          "2023-12-22T02:00:00",
          "2023-12-22T03:00:00",
          "2023-12-22T04:00:00",
          "2023-12-22T05:00:00",
          "2023-12-22T06:00:00",
          "2023-12-22T07:00:00",
          "2023-12-22T08:00:00",
          "2023-12-22T09:00:00",
          "2023-12-22T10:00:00",
          "2023-12-22T11:00:00",
          "2023-12-22T12:00:00",
          "2023-12-22T13:00:00",
          "2023-12-22T14:00:00",
          "2023-12-22T15:00:00",
          "2023-12-22T16:00:00",
          "2023-12-22T17:00:00",
          "2023-12-22T18:00:00",
          "2023-12-22T19:00:00",
          "2023-12-22T20:00:00",
          "2023-12-22T21:00:00",
          "2023-12-22T22:00:00",
          "2023-12-22T23:00:00",
          "2023-12-23T00:00:00",
          "2023-12-23T01:00:00",
          "2023-12-23T02:00:00",
          "2023-12-23T03:00:00",
          "2023-12-23T04:00:00",
          "2023-12-23T05:00:00",
          "2023-12-23T06:00:00",
          "2023-12-23T07:00:00",
          "2023-12-23T08:00:00",
          "2023-12-23T09:00:00",
          "2023-12-23T10:00:00",
          "2023-12-23T11:00:00",
          "2023-12-23T12:00:00",
          "2023-12-23T13:00:00",
          "2023-12-23T14:00:00",
          "2023-12-23T15:00:00",
          "2023-12-23T16:00:00",
          "2023-12-23T17:00:00",
          "2023-12-23T18:00:00",
          "2023-12-23T19:00:00",
          "2023-12-23T20:00:00",
          "2023-12-23T21:00:00",
          "2023-12-23T22:00:00",
          "2023-12-23T23:00:00",
          "2023-12-24T00:00:00",
          "2023-12-24T01:00:00",
          "2023-12-24T02:00:00",
          "2023-12-24T03:00:00",
          "2023-12-24T04:00:00",
          "2023-12-24T05:00:00",
          "2023-12-24T06:00:00",
          "2023-12-24T07:00:00",
          "2023-12-24T08:00:00",
          "2023-12-24T09:00:00",
          "2023-12-24T10:00:00",
          "2023-12-24T11:00:00",
          "2023-12-24T12:00:00",
          "2023-12-24T13:00:00",
          "2023-12-24T14:00:00",
          "2023-12-24T15:00:00",
          "2023-12-24T16:00:00",
          "2023-12-24T17:00:00",
          "2023-12-24T18:00:00",
          "2023-12-24T19:00:00",
          "2023-12-24T20:00:00",
          "2023-12-24T21:00:00",
          "2023-12-24T22:00:00",
          "2023-12-24T23:00:00",
          "2023-12-25T00:00:00",
          "2023-12-25T01:00:00",
          "2023-12-25T02:00:00",
          "2023-12-25T03:00:00",
          "2023-12-25T04:00:00",
          "2023-12-25T05:00:00",
          "2023-12-25T06:00:00",
          "2023-12-25T07:00:00",
          "2023-12-25T08:00:00",
          "2023-12-25T09:00:00",
          "2023-12-25T10:00:00",
          "2023-12-25T11:00:00",
          "2023-12-25T12:00:00",
          "2023-12-25T13:00:00",
          "2023-12-25T14:00:00",
          "2023-12-25T15:00:00",
          "2023-12-25T16:00:00",
          "2023-12-25T17:00:00",
          "2023-12-25T18:00:00",
          "2023-12-25T19:00:00",
          "2023-12-25T20:00:00",
          "2023-12-25T21:00:00",
          "2023-12-25T22:00:00",
          "2023-12-25T23:00:00",
          "2023-12-26T00:00:00",
          "2023-12-26T01:00:00",
          "2023-12-26T02:00:00",
          "2023-12-26T03:00:00",
          "2023-12-26T04:00:00",
          "2023-12-26T05:00:00",
          "2023-12-26T06:00:00",
          "2023-12-26T07:00:00",
          "2023-12-26T08:00:00",
          "2023-12-26T09:00:00",
          "2023-12-26T10:00:00",
          "2023-12-26T11:00:00",
          "2023-12-26T12:00:00",
          "2023-12-26T13:00:00",
          "2023-12-26T14:00:00",
          "2023-12-26T15:00:00",
          "2023-12-26T16:00:00",
          "2023-12-26T17:00:00",
          "2023-12-26T18:00:00",
          "2023-12-26T19:00:00",
          "2023-12-26T20:00:00",
          "2023-12-26T21:00:00",
          "2023-12-26T22:00:00",
          "2023-12-26T23:00:00",
          "2023-12-27T00:00:00",
          "2023-12-27T01:00:00",
          "2023-12-27T02:00:00",
          "2023-12-27T03:00:00",
          "2023-12-27T04:00:00",
          "2023-12-27T05:00:00",
          "2023-12-27T06:00:00",
          "2023-12-27T07:00:00",
          "2023-12-27T08:00:00",
          "2023-12-27T09:00:00",
          "2023-12-27T10:00:00",
          "2023-12-27T11:00:00",
          "2023-12-27T12:00:00",
          "2023-12-27T13:00:00",
          "2023-12-27T14:00:00",
          "2023-12-27T15:00:00",
          "2023-12-27T16:00:00",
          "2023-12-27T17:00:00",
          "2023-12-27T18:00:00",
          "2023-12-27T19:00:00",
          "2023-12-27T20:00:00",
          "2023-12-27T21:00:00",
          "2023-12-27T22:00:00",
          "2023-12-27T23:00:00",
          "2023-12-28T00:00:00",
          "2023-12-28T01:00:00",
          "2023-12-28T02:00:00",
          "2023-12-28T03:00:00",
          "2023-12-28T04:00:00",
          "2023-12-28T05:00:00",
          "2023-12-28T06:00:00",
          "2023-12-28T07:00:00",
          "2023-12-28T08:00:00",
          "2023-12-28T09:00:00",
          "2023-12-28T10:00:00",
          "2023-12-28T11:00:00",
          "2023-12-28T12:00:00",
          "2023-12-28T13:00:00",
          "2023-12-28T14:00:00",
          "2023-12-28T15:00:00",
          "2023-12-28T16:00:00",
          "2023-12-28T17:00:00",
          "2023-12-28T18:00:00",
          "2023-12-28T19:00:00",
          "2023-12-28T20:00:00",
          "2023-12-28T21:00:00",
          "2023-12-28T22:00:00",
          "2023-12-28T23:00:00",
          "2023-12-29T00:00:00",
          "2023-12-29T01:00:00",
          "2023-12-29T02:00:00",
          "2023-12-29T03:00:00",
          "2023-12-29T04:00:00",
          "2023-12-29T05:00:00",
          "2023-12-29T06:00:00",
          "2023-12-29T07:00:00",
          "2023-12-29T08:00:00",
          "2023-12-29T09:00:00",
          "2023-12-29T10:00:00",
          "2023-12-29T11:00:00",
          "2023-12-29T12:00:00",
          "2023-12-29T13:00:00",
          "2023-12-29T14:00:00",
          "2023-12-29T15:00:00",
          "2023-12-29T16:00:00",
          "2023-12-29T17:00:00",
          "2023-12-29T18:00:00",
          "2023-12-29T19:00:00",
          "2023-12-29T20:00:00",
          "2023-12-29T21:00:00",
          "2023-12-29T22:00:00",
          "2023-12-29T23:00:00",
          "2023-12-30T00:00:00",
          "2023-12-30T01:00:00",
          "2023-12-30T02:00:00",
          "2023-12-30T03:00:00",
          "2023-12-30T04:00:00",
          "2023-12-30T05:00:00",
          "2023-12-30T06:00:00",
          "2023-12-30T07:00:00",
          "2023-12-30T08:00:00",
          "2023-12-30T09:00:00",
          "2023-12-30T10:00:00",
          "2023-12-30T11:00:00",
          "2023-12-30T12:00:00",
          "2023-12-30T13:00:00",
          "2023-12-30T14:00:00",
          "2023-12-30T15:00:00",
          "2023-12-30T16:00:00",
          "2023-12-30T17:00:00",
          "2023-12-30T18:00:00",
          "2023-12-30T19:00:00",
          "2023-12-30T20:00:00",
          "2023-12-30T21:00:00",
          "2023-12-30T22:00:00",
          "2023-12-30T23:00:00",
          "2023-12-31T00:00:00",
          "2023-12-31T01:00:00",
          "2023-12-31T02:00:00",
          "2023-12-31T03:00:00",
          "2023-12-31T04:00:00",
          "2023-12-31T05:00:00",
          "2023-12-31T06:00:00",
          "2023-12-31T07:00:00",
          "2023-12-31T08:00:00",
          "2023-12-31T09:00:00",
          "2023-12-31T10:00:00",
          "2023-12-31T11:00:00",
          "2023-12-31T12:00:00",
          "2023-12-31T13:00:00",
          "2023-12-31T14:00:00",
          "2023-12-31T15:00:00",
          "2023-12-31T16:00:00",
          "2023-12-31T17:00:00",
          "2023-12-31T18:00:00",
          "2023-12-31T19:00:00",
          "2023-12-31T20:00:00",
          "2023-12-31T21:00:00",
          "2023-12-31T22:00:00",
          "2023-12-31T23:00:00"
         ],
         "xaxis": "x",
         "y": [
          4865,
          5070,
          4436,
          3376,
          2173,
          997,
          781,
          938,
          1056,
          1533,
          2518,
          3047,
          3525,
          3757,
          4008,
          4063,
          3999,
          3892,
          3526,
          3280,
          2756,
          2639,
          2504,
          1936,
          1218,
          720,
          408,
          353,
          314,
          355,
          734,
          1094,
          1440,
          2218,
          2973,
          3506,
          4106,
          4598,
          4948,
          5016,
          4848,
          4810,
          4145,
          3754,
          3440,
          3137,
          2640,
          1738,
          1258,
          720,
          376,
          273,
          230,
          610,
          1703,
          3074,
          4132,
          4292,
          5060,
          5151,
          4883,
          5046,
          5345,
          5452,
          5361,
          5680,
          5605,
          4815,
          3686,
          3533,
          2764,
          2218,
          1498,
          630,
          361,
          214,
          227,
          553,
          1488,
          3133,
          4089,
          4472,
          4529,
          4602,
          5001,
          5263,
          5744,
          6079,
          6630,
          6573,
          7680,
          6437,
          4447,
          4231,
          3636,
          2738,
          1655,
          758,
          456,
          298,
          275,
          517,
          1541,
          3293,
          4238,
          4797,
          4761,
          4961,
          5339,
          5704,
          6157,
          6369,
          6085,
          6938,
          7295,
          6041,
          5319,
          5244,
          4429,
          3439,
          2093,
          1066,
          525,
          318,
          275,
          577,
          1359,
          2921,
          3821,
          4231,
          4564,
          4721,
          4931,
          5354,
          6384,
          6184,
          5981,
          6788,
          6871,
          6638,
          5281,
          5531,
          5755,
          5229,
          4502,
          3719,
          2632,
          1588,
          759,
          445,
          753,
          1323,
          1949,
          3002,
          3918,
          4685,
          5377,
          5836,
          5976,
          6113,
          6196,
          6256,
          6278,
          6387,
          5390,
          5505,
          6079,
          5369,
          4967,
          4081,
          3037,
          1860,
          947,
          463,
          710,
          1072,
          1600,
          2443,
          3719,
          4224,
          4996,
          5229,
          5442,
          5289,
          5557,
          5098,
          4603,
          4035,
          3513,
          3475,
          2485,
          1982,
          1204,
          452,
          277,
          224,
          238,
          518,
          1588,
          3173,
          4157,
          4283,
          4182,
          4359,
          4695,
          4491,
          5256,
          5579,
          5433,
          6130,
          6026,
          5226,
          4325,
          3848,
          3116,
          1931,
          995,
          467,
          250,
          175,
          205,
          534,
          1631,
          3476,
          4514,
          4871,
          4881,
          4930,
          5343,
          5534,
          6229,
          6334,
          6009,
          6813,
          7241,
          6483,
          5712,
          5550,
          4254,
          2592,
          1419,
          684,
          308,
          228,
          244,
          545,
          1619,
          3441,
          4753,
          4750,
          4941,
          5117,
          5623,
          5748,
          6191,
          6503,
          6493,
          7327,
          7865,
          6763,
          6017,
          5969,
          5077,
          3260,
          1745,
          866,
          554,
          305,
          311,
          579,
          1779,
          3828,
          5016,
          4978,
          4958,
          5137,
          5581,
          5783,
          6398,
          6502,
          6336,
          7548,
          8832,
          6597,
          6722,
          5824,
          5137,
          3893,
          2805,
          1522,
          788,
          418,
          382,
          599,
          1538,
          2960,
          3828,
          4312,
          4778,
          4916,
          5254,
          5734,
          6582,
          6586,
          6499,
          7358,
          7458,
          6997,
          5761,
          5683,
          6342,
          5846,
          4945,
          4067,
          3030,
          1883,
          919,
          417,
          673,
          1293,
          2066,
          3105,
          4291,
          5158,
          5909,
          6181,
          6031,
          6665,
          6936,
          6960,
          6909,
          6779,
          5643,
          5661,
          5953,
          6005,
          5052,
          4135,
          3014,
          1975,
          974,
          347,
          640,
          1160,
          1741,
          2777,
          3772,
          4776,
          5355,
          5419,
          5615,
          5785,
          5925,
          5740,
          5629,
          4978,
          4778,
          4319,
          4108,
          3852,
          2273,
          1276,
          730,
          486,
          385,
          423,
          934,
          1491,
          2365,
          3080,
          3770,
          4358,
          4800,
          5055,
          5310,
          5567,
          5597,
          5600,
          5208,
          4410,
          3891,
          3728,
          3146,
          2255,
          1155,
          518,
          241,
          199,
          223,
          592,
          1749,
          3678,
          5056,
          5227,
          5059,
          5323,
          5605,
          5836,
          6004,
          6473,
          6205,
          6650,
          6970,
          5939,
          5222,
          5269,
          4089,
          2534,
          1226,
          553,
          304,
          220,
          254,
          609,
          1677,
          3518,
          4911,
          4919,
          5069,
          4936,
          5504,
          5652,
          6159,
          6362,
          6284,
          7021,
          7658,
          6908,
          6278,
          6281,
          5393,
          3210,
          1732,
          792,
          485,
          329,
          294,
          563,
          1697,
          3626,
          5060,
          5478,
          5258,
          5326,
          5786,
          5889,
          6720,
          7172,
          6762,
          7423,
          8079,
          7226,
          6533,
          6387,
          5593,
          3916,
          2483,
          1283,
          685,
          403,
          356,
          587,
          1407,
          3101,
          4051,
          4353,
          4561,
          4956,
          5605,
          6083,
          6220,
          6449,
          6399,
          6931,
          7200,
          6887,
          5729,
          5824,
          6449,
          5996,
          5177,
          4257,
          3114,
          1978,
          942,
          452,
          698,
          1159,
          1886,
          3017,
          4137,
          4898,
          5918,
          6073,
          6191,
          6299,
          6504,
          6526,
          6832,
          6916,
          5386,
          5412,
          6199,
          6578,
          5413,
          4629,
          3545,
          2257,
          1173,
          411,
          672,
          1082,
          1469,
          2460,
          3752,
          4249,
          5067,
          5410,
          5806,
          5458,
          5807,
          5420,
          5166,
          4403,
          3516,
          3413,
          2610,
          1735,
          1035,
          560,
          215,
          179,
          221,
          553,
          1675,
          3296,
          4425,
          4499,
          4601,
          4576,
          4760,
          5241,
          5578,
          5760,
          5405,
          6209,
          6253,
          5288,
          4752,
          4337,
          3504,
          1997,
          1249,
          478,
          267,
          170,
          226,
          521,
          1648,
          3574,
          4680,
          5038,
          4880,
          4990,
          5223,
          5383,
          6030,
          6451,
          6604,
          7164,
          7554,
          6622,
          6129,
          6016,
          4988,
          2752,
          1464,
          619,
          336,
          242,
          222,
          549,
          1730,
          3533,
          4782,
          4965,
          4802,
          5042,
          5425,
          6571,
          6410,
          6246,
          6425,
          7074,
          8181,
          7853,
          6510,
          5936,
          4929,
          3031,
          1797,
          918,
          430,
          264,
          273,
          505,
          1721,
          3608,
          4730,
          5080,
          5065,
          5289,
          5682,
          6023,
          6515,
          6690,
          6556,
          7349,
          8156,
          7407,
          6671,
          7014,
          6359,
          4722,
          2753,
          1583,
          876,
          568,
          428,
          545,
          1384,
          3054,
          4000,
          4384,
          4704,
          4942,
          5399,
          5640,
          6499,
          6454,
          6415,
          7408,
          7450,
          7220,
          5850,
          5904,
          6501,
          6068,
          5262,
          4274,
          3285,
          2031,
          1045,
          410,
          733,
          1154,
          1918,
          3093,
          4130,
          4865,
          5704,
          6141,
          6093,
          6314,
          6605,
          6498,
          6571,
          6526,
          5627,
          5686,
          6127,
          5926,
          5140,
          4527,
          3675,
          2293,
          1201,
          477,
          653,
          974,
          1543,
          2502,
          3742,
          4448,
          5177,
          5326,
          5818,
          5423,
          5367,
          5000,
          4681,
          3886,
          3485,
          3341,
          3091,
          1733,
          1023,
          479,
          264,
          181,
          218,
          543,
          1659,
          3179,
          4165,
          4263,
          4104,
          4015,
          4674,
          4845,
          5210,
          5417,
          5081,
          5802,
          5827,
          5021,
          4368,
          3944,
          3029,
          1944,
          1006,
          451,
          308,
          141,
          223,
          594,
          1790,
          3853,
          5033,
          4963,
          4710,
          4732,
          5082,
          5135,
          5556,
          5733,
          5826,
          6645,
          7292,
          6332,
          5928,
          5950,
          4910,
          2930,
          1424,
          658,
          356,
          201,
          226,
          597,
          1628,
          3670,
          4919,
          5083,
          5144,
          5057,
          5556,
          5598,
          5819,
          6193,
          6276,
          7029,
          7691,
          7096,
          6608,
          6589,
          5286,
          3066,
          1615,
          812,
          450,
          283,
          268,
          532,
          1777,
          3745,
          4995,
          4982,
          5018,
          5286,
          5591,
          5640,
          6342,
          6439,
          6513,
          7488,
          8402,
          7178,
          6460,
          6821,
          5931,
          4285,
          2582,
          1488,
          850,
          478,
          381,
          564,
          1504,
          3106,
          4236,
          4484,
          4835,
          5372,
          5622,
          5699,
          6580,
          7000,
          7051,
          8007,
          8238,
          7657,
          5598,
          5607,
          5597,
          4991,
          3888,
          2961,
          2075,
          1262,
          619,
          324,
          658,
          1144,
          1936,
          2821,
          3837,
          4532,
          5097,
          5295,
          5416,
          5557,
          6173,
          6100,
          6206,
          5661,
          4619,
          4941,
          5437,
          5151,
          4492,
          3535,
          2758,
          1732,
          960,
          391,
          662,
          1104,
          1602,
          2683,
          3683,
          4202,
          4857,
          5177,
          5295,
          5070,
          5476,
          5190,
          4935,
          4016,
          3719,
          3479,
          2529,
          1778,
          1098,
          514,
          282,
          191,
          219,
          624,
          1631,
          3333,
          4441,
          4558,
          4528,
          4412,
          4798,
          5113,
          5439,
          5982,
          5833,
          6337,
          6398,
          5349,
          4846,
          4453,
          3473,
          2272,
          1108,
          471,
          252,
          172,
          203,
          513,
          1636,
          3566,
          4942,
          5180,
          5165,
          5082,
          5425,
          5722,
          6527,
          6462,
          6433,
          7136,
          7610,
          6527,
          6154,
          6578,
          4701,
          2942,
          1377,
          632,
          321,
          198,
          263,
          561,
          1625,
          3582,
          4883,
          5037,
          4982,
          5175,
          5608,
          5595,
          6129,
          6400,
          6499,
          7137,
          7762,
          6979,
          6303,
          6524,
          5635,
          3555,
          1912,
          902,
          488,
          356,
          271,
          573,
          1666,
          3660,
          4903,
          5275,
          5132,
          5545,
          5661,
          5887,
          6408,
          6710,
          6573,
          7392,
          8206,
          7192,
          6526,
          6669,
          6363,
          4809,
          2674,
          1704,
          1014,
          578,
          468,
          551,
          1501,
          3093,
          3843,
          4479,
          4707,
          5075,
          5437,
          5627,
          6248,
          6249,
          6514,
          7357,
          7817,
          7610,
          6347,
          6436,
          6845,
          6252,
          5433,
          4337,
          3404,
          2211,
          1022,
          460,
          704,
          1218,
          2038,
          3262,
          4274,
          5161,
          5627,
          5915,
          6021,
          6210,
          6471,
          6759,
          7219,
          7114,
          5737,
          5723,
          6366,
          5799,
          5293,
          4356,
          3267,
          2210,
          1223,
          457,
          722,
          1015,
          1695,
          2576,
          3813,
          4305,
          5040,
          5373,
          5589,
          5204,
          5470,
          6611,
          5805,
          3571,
          3219,
          3742,
          5418,
          3297,
          1377,
          580,
          378,
          234,
          286,
          586,
          1661,
          3274,
          4369,
          4477,
          4578,
          4685,
          4828,
          4916,
          5585,
          5765,
          5792,
          6227,
          6596,
          5692,
          4905,
          4686,
          4185,
          2417,
          1128,
          477,
          277,
          201,
          205,
          513,
          1764,
          3559,
          4809,
          4977,
          4858,
          5111,
          5412,
          5483,
          6062,
          6258,
          6447,
          7523,
          8498,
          7635,
          6283,
          5815,
          5327,
          3996,
          2028,
          894,
          464,
          321,
          368,
          707,
          1755,
          3716,
          4851,
          5092,
          5153,
          5179,
          5613,
          5747,
          6336,
          6301,
          6140,
          7391,
          7827,
          6954,
          6408,
          6290,
          5518,
          3667,
          1877,
          886,
          487,
          318,
          354,
          612,
          1781,
          3496,
          4676,
          4972,
          4877,
          5171,
          5678,
          5964,
          7299,
          7681,
          6901,
          7082,
          7807,
          6874,
          6264,
          6284,
          5577,
          3998,
          2552,
          1530,
          951,
          518,
          442,
          618,
          1580,
          3115,
          3975,
          4836,
          4526,
          4740,
          5288,
          6087,
          6100,
          6643,
          7093,
          7126,
          7325,
          7130,
          5969,
          5913,
          5884,
          5380,
          4601,
          3612,
          2742,
          1762,
          852,
          385,
          769,
          1174,
          1979,
          3109,
          4149,
          4750,
          5176,
          5389,
          5671,
          5974,
          6373,
          6271,
          6547,
          6418,
          5255,
          5291,
          5888,
          5597,
          5302,
          4067,
          3128,
          2192,
          1165,
          444,
          665,
          1004,
          1486,
          2439,
          3516,
          4291,
          4906,
          5101,
          5269,
          5408,
          5551,
          5390,
          5242,
          4499,
          4101,
          3898,
          3579,
          2690,
          1776,
          1002,
          705,
          483,
          384,
          428,
          1001,
          1458,
          2258,
          3051,
          3709,
          4359,
          4632,
          5016,
          5560,
          5675,
          5516,
          5489,
          5333,
          4587,
          3953,
          3996,
          3119,
          2033,
          1164,
          467,
          209,
          171,
          208,
          620,
          1782,
          3217,
          4661,
          5024,
          5069,
          4934,
          5407,
          5520,
          5903,
          6501,
          6173,
          7345,
          6869,
          6005,
          5284,
          5247,
          4415,
          2580,
          1464,
          675,
          336,
          227,
          243,
          550,
          1654,
          3339,
          4883,
          5189,
          5140,
          5341,
          5707,
          6830,
          7578,
          7229,
          6846,
          7005,
          7668,
          7021,
          6145,
          5872,
          4942,
          3181,
          1638,
          832,
          488,
          342,
          282,
          572,
          1669,
          3352,
          4653,
          5090,
          5164,
          5583,
          5733,
          6013,
          6679,
          6702,
          7115,
          7872,
          8131,
          7319,
          6710,
          6871,
          6259,
          4329,
          2719,
          1550,
          927,
          539,
          383,
          602,
          1507,
          2820,
          3708,
          4485,
          4835,
          5123,
          5607,
          5664,
          6552,
          6729,
          6611,
          7361,
          8021,
          7712,
          6364,
          6515,
          6687,
          6113,
          5363,
          4352,
          3104,
          1966,
          1007,
          450,
          800,
          1243,
          2036,
          3265,
          4498,
          5023,
          5691,
          6206,
          6197,
          6186,
          6640,
          6436,
          6971,
          6612,
          5289,
          5496,
          6132,
          6081,
          5186,
          4435,
          3217,
          2200,
          1214,
          482,
          740,
          1125,
          1608,
          2715,
          4094,
          4971,
          5357,
          5740,
          5509,
          5131,
          5344,
          5395,
          4960,
          4529,
          3832,
          3569,
          2909,
          1982,
          1124,
          517,
          274,
          203,
          222,
          570,
          1627,
          3307,
          4439,
          4390,
          4496,
          4848,
          5139,
          5141,
          5614,
          5780,
          5929,
          6379,
          6818,
          5791,
          5049,
          4437,
          3352,
          2091,
          1161,
          462,
          326,
          234,
          267,
          517,
          1613,
          3482,
          4905,
          4908,
          4809,
          5031,
          5241,
          5373,
          5846,
          6100,
          5810,
          6726,
          7062,
          6024,
          5810,
          5820,
          4757,
          3185,
          1608,
          738,
          305,
          265,
          270,
          568,
          1706,
          3838,
          5348,
          5414,
          5235,
          5413,
          5925,
          6013,
          6537,
          6860,
          6703,
          7492,
          8248,
          7303,
          6941,
          6814,
          5875,
          3678,
          1934,
          965,
          523,
          320,
          270,
          580,
          1699,
          3863,
          5140,
          5214,
          5188,
          5597,
          5783,
          6031,
          6562,
          6726,
          6787,
          7717,
          8459,
          7282,
          6826,
          7176,
          6683,
          5264,
          2999,
          1576,
          937,
          531,
          427,
          620,
          1489,
          3028,
          4178,
          4592,
          4747,
          4955,
          5514,
          5861,
          6604,
          6866,
          6687,
          7379,
          7543,
          7551,
          6519,
          6700,
          6430,
          6030,
          4789,
          3377,
          2171,
          1427,
          686,
          347,
          878,
          1377,
          2045,
          3314,
          4140,
          5045,
          5869,
          6260,
          6151,
          6276,
          6682,
          6765,
          7169,
          6924,
          5766,
          6158,
          6502,
          6408,
          5486,
          4776,
          3425,
          2209,
          1043,
          487,
          830,
          1119,
          1707,
          2868,
          4129,
          4671,
          5746,
          6057,
          6136,
          5974,
          5816,
          5895,
          5607,
          4700,
          4114,
          3680,
          2875,
          2361,
          1172,
          582,
          343,
          231,
          219,
          542,
          1642,
          3347,
          4204,
          4397,
          4557,
          4698,
          5125,
          5398,
          5664,
          5954,
          5789,
          6308,
          6824,
          5767,
          5159,
          4575,
          3700,
          2362,
          1179,
          569,
          259,
          166,
          194,
          567,
          1703,
          3660,
          4687,
          5269,
          5365,
          5458,
          5614,
          5805,
          6473,
          6674,
          6988,
          8130,
          8933,
          7273,
          6702,
          6943,
          5595,
          3463,
          1540,
          697,
          349,
          232,
          250,
          543,
          1829,
          3893,
          5377,
          5479,
          5473,
          5780,
          6216,
          6105,
          6750,
          6842,
          6802,
          7829,
          8632,
          7616,
          7131,
          7104,
          6275,
          3830,
          2045,
          970,
          523,
          329,
          328,
          603,
          1724,
          3767,
          5199,
          5376,
          5296,
          5883,
          6082,
          6249,
          6752,
          7124,
          6935,
          7858,
          8770,
          7898,
          7000,
          7161,
          6385,
          5072,
          3323,
          1625,
          965,
          553,
          472,
          657,
          1550,
          3232,
          4253,
          4758,
          4986,
          5304,
          5658,
          5989,
          6856,
          6732,
          6933,
          8197,
          8450,
          8936,
          6760,
          6312,
          6239,
          5771,
          4584,
          3559,
          2636,
          1591,
          828,
          392,
          786,
          1412,
          2127,
          3328,
          4142,
          4928,
          5647,
          5771,
          5891,
          6210,
          6558,
          6865,
          7017,
          6703,
          5859,
          5589,
          6378,
          6451,
          5766,
          4951,
          0,
          3942,
          2298,
          829,
          702,
          1075,
          1585,
          2637,
          4072,
          4602,
          5464,
          5695,
          5682,
          5469,
          5765,
          5838,
          5658,
          4818,
          4018,
          3770,
          2986,
          2450,
          1642,
          759,
          370,
          260,
          220,
          556,
          1667,
          3490,
          4897,
          4889,
          4797,
          5065,
          5192,
          5076,
          6427,
          6613,
          6477,
          7067,
          7125,
          5967,
          5374,
          4897,
          3444,
          2446,
          1300,
          628,
          336,
          212,
          198,
          579,
          1542,
          3803,
          5064,
          5167,
          4865,
          5254,
          5562,
          5626,
          6372,
          6677,
          6580,
          7289,
          7792,
          6429,
          5998,
          6029,
          4974,
          3248,
          1792,
          916,
          423,
          233,
          235,
          538,
          1636,
          4043,
          5529,
          5551,
          5343,
          5687,
          5980,
          6001,
          6398,
          6880,
          6819,
          7742,
          8361,
          7781,
          7185,
          6872,
          6481,
          4783,
          2412,
          1310,
          519,
          332,
          344,
          604,
          1678,
          3846,
          5423,
          5591,
          5583,
          5906,
          6360,
          6049,
          6755,
          6905,
          7267,
          7866,
          8686,
          7595,
          7105,
          7219,
          6794,
          5153,
          3280,
          1897,
          1040,
          618,
          451,
          616,
          1590,
          3175,
          4419,
          4594,
          4364,
          4493,
          4686,
          4998,
          5811,
          6014,
          5864,
          7063,
          7882,
          7717,
          6214,
          6164,
          6804,
          6731,
          6017,
          5006,
          3437,
          2325,
          1272,
          534,
          820,
          1271,
          2199,
          3390,
          4439,
          5399,
          5816,
          5871,
          6050,
          6291,
          6464,
          7144,
          7669,
          7598,
          6324,
          6255,
          6821,
          6635,
          5441,
          4296,
          3159,
          2157,
          1174,
          552,
          982,
          1353,
          2005,
          3261,
          4309,
          5326,
          5935,
          5826,
          6319,
          5933,
          5887,
          6071,
          5616,
          4980,
          4538,
          4378,
          3173,
          2413,
          1407,
          625,
          298,
          241,
          281,
          533,
          1627,
          3118,
          4314,
          4493,
          4604,
          4641,
          5001,
          5016,
          5394,
          5419,
          5498,
          6094,
          6357,
          5406,
          4852,
          4744,
          3916,
          2540,
          1227,
          558,
          254,
          177,
          180,
          562,
          1620,
          3200,
          4629,
          4891,
          4748,
          4962,
          5320,
          5419,
          5949,
          5826,
          5912,
          6723,
          7361,
          6209,
          6036,
          6170,
          5102,
          3362,
          1568,
          701,
          328,
          187,
          218,
          519,
          1562,
          3295,
          4722,
          4982,
          4997,
          5114,
          5354,
          5438,
          6017,
          5902,
          5930,
          6897,
          7572,
          7029,
          6391,
          6453,
          5572,
          3689,
          1941,
          906,
          521,
          295,
          309,
          572,
          1584,
          3311,
          4595,
          4903,
          5028,
          6502,
          6249,
          5812,
          6531,
          6418,
          6515,
          7159,
          7835,
          6661,
          6463,
          6649,
          6185,
          4851,
          3176,
          1754,
          978,
          559,
          430,
          688,
          1425,
          2734,
          3932,
          4460,
          4797,
          5061,
          5471,
          5465,
          6163,
          6096,
          6060,
          6741,
          7320,
          7232,
          5942,
          5845,
          6418,
          6076,
          5340,
          4488,
          3284,
          1969,
          956,
          464,
          738,
          1145,
          1900,
          3021,
          4146,
          5832,
          6107,
          6068,
          6491,
          7379,
          6682,
          7138,
          6637,
          6367,
          5260,
          5348,
          5862,
          6139,
          5013,
          4273,
          3198,
          2098,
          1047,
          445,
          768,
          1148,
          1718,
          2580,
          3818,
          4617,
          5186,
          5449,
          5839,
          5657,
          5652,
          5821,
          5404,
          4744,
          4465,
          3948,
          3393,
          2668,
          1409,
          796,
          409,
          227,
          258,
          577,
          1496,
          3011,
          3981,
          4273,
          4324,
          4602,
          4824,
          4890,
          5848,
          5890,
          6477,
          7667,
          8002,
          6477,
          5046,
          4386,
          3607,
          2320,
          1218,
          579,
          263,
          150,
          196,
          587,
          1595,
          3263,
          4714,
          5449,
          5147,
          5194,
          5505,
          5636,
          6125,
          6097,
          5992,
          6889,
          7180,
          6207,
          6290,
          6175,
          5051,
          3439,
          1767,
          654,
          404,
          279,
          243,
          540,
          1647,
          3232,
          4622,
          5034,
          5031,
          5497,
          5843,
          5776,
          6172,
          6247,
          6337,
          7315,
          8055,
          7201,
          6814,
          6763,
          6098,
          3876,
          2173,
          1056,
          491,
          292,
          314,
          580,
          1703,
          3507,
          5057,
          5262,
          5414,
          5792,
          5948,
          6049,
          6497,
          6667,
          6765,
          7274,
          8349,
          7504,
          7367,
          7221,
          6469,
          4948,
          2919,
          1716,
          970,
          567,
          447,
          551,
          1459,
          2742,
          3812,
          4376,
          4729,
          5149,
          5713,
          5932,
          6642,
          6338,
          6040,
          7457,
          8594,
          7722,
          6154,
          5838,
          6477,
          6239,
          5330,
          4381,
          3182,
          2028,
          891,
          391,
          769,
          1297,
          2102,
          3311,
          4707,
          5030,
          5509,
          5905,
          5442,
          5842,
          6482,
          6832,
          7265,
          7719,
          7176,
          5210,
          6273,
          6999,
          5686,
          4752,
          3405,
          2218,
          996,
          427,
          816,
          1173,
          1861,
          3074,
          4216,
          5123,
          5790,
          5732,
          6116,
          5707,
          6068,
          5992,
          5696,
          4754,
          4889,
          4238,
          3124,
          2446,
          1368,
          648,
          325,
          232,
          302,
          537,
          1571,
          3289,
          4286,
          4667,
          4876,
          5048,
          5347,
          5426,
          5980,
          6216,
          6130,
          6546,
          6598,
          5576,
          5390,
          4717,
          3848,
          2749,
          1292,
          645,
          356,
          148,
          199,
          561,
          1500,
          3488,
          4614,
          4946,
          5079,
          5358,
          5657,
          5810,
          6496,
          6682,
          6464,
          7475,
          7920,
          6709,
          6607,
          6023,
          5362,
          3466,
          1753,
          801,
          397,
          221,
          229,
          598,
          1616,
          3597,
          4888,
          5221,
          5564,
          6244,
          6522,
          6630,
          6950,
          7022,
          7169,
          8140,
          8018,
          6472,
          5896,
          6046,
          5707,
          3778,
          2105,
          1153,
          504,
          335,
          310,
          548,
          1406,
          2932,
          3919,
          4518,
          4934,
          5353,
          5874,
          6029,
          6655,
          6621,
          6609,
          7287,
          7408,
          5944,
          5847,
          6030,
          5759,
          4524,
          3014,
          1843,
          1168,
          632,
          423,
          503,
          1206,
          1795,
          2898,
          3987,
          4721,
          5262,
          5523,
          5938,
          6370,
          6702,
          6419,
          6674,
          6999,
          6099,
          5585,
          5538,
          5910,
          5405,
          4290,
          3363,
          2493,
          1570,
          773,
          362,
          734,
          1117,
          1829,
          2824,
          4022,
          4819,
          5390,
          5644,
          5454,
          5911,
          6334,
          6265,
          6318,
          5854,
          5021,
          5071,
          5585,
          5137,
          3738,
          3094,
          2289,
          1479,
          870,
          422,
          662,
          1065,
          1711,
          2856,
          4218,
          4777,
          5196,
          5364,
          5318,
          5269,
          5491,
          5387,
          4830,
          4519,
          4786,
          4353,
          3450,
          2511,
          1157,
          528,
          296,
          195,
          209,
          527,
          1375,
          2831,
          4066,
          4559,
          4574,
          4748,
          5092,
          5242,
          5660,
          5774,
          5621,
          6030,
          6164,
          5194,
          4721,
          4333,
          3579,
          2471,
          1258,
          656,
          263,
          142,
          175,
          487,
          1449,
          3181,
          4380,
          5009,
          4959,
          5282,
          5594,
          5767,
          6361,
          6658,
          6613,
          7081,
          7470,
          6147,
          5920,
          6072,
          5124,
          3614,
          1801,
          849,
          370,
          209,
          226,
          507,
          1510,
          3174,
          4499,
          5130,
          5202,
          5820,
          6035,
          6161,
          6656,
          6766,
          6694,
          7620,
          7880,
          6817,
          6744,
          6711,
          5995,
          4097,
          2121,
          1146,
          665,
          349,
          346,
          554,
          1653,
          3297,
          4474,
          4975,
          5299,
          5710,
          6010,
          6414,
          7103,
          7118,
          7069,
          7813,
          8771,
          7566,
          7543,
          7351,
          6861,
          5346,
          3472,
          2059,
          1105,
          631,
          448,
          635,
          1513,
          2733,
          3727,
          4584,
          5051,
          5505,
          5869,
          6014,
          6983,
          7049,
          7079,
          8184,
          9214,
          8021,
          6737,
          6628,
          7109,
          6795,
          5873,
          4681,
          3443,
          1950,
          1044,
          508,
          936,
          1463,
          2262,
          3545,
          4628,
          5553,
          6074,
          6344,
          6094,
          5950,
          6255,
          7096,
          7618,
          6686,
          5498,
          5686,
          6474,
          6393,
          5636,
          4628,
          3286,
          2029,
          989,
          486,
          770,
          1161,
          1889,
          2861,
          4176,
          4893,
          5633,
          5918,
          6017,
          5809,
          5803,
          5810,
          5400,
          4739,
          4751,
          4219,
          3422,
          2388,
          1493,
          801,
          329,
          262,
          280,
          580,
          1664,
          3459,
          4703,
          4691,
          4782,
          4992,
          5413,
          5518,
          5717,
          6019,
          5750,
          6523,
          6883,
          5415,
          5426,
          5042,
          4108,
          2610,
          1419,
          613,
          287,
          160,
          206,
          566,
          1666,
          3649,
          5020,
          5616,
          5537,
          5867,
          6008,
          6135,
          6481,
          6650,
          6649,
          7510,
          8103,
          7137,
          6978,
          6917,
          6185,
          3665,
          1684,
          742,
          301,
          188,
          218,
          613,
          1738,
          3810,
          5237,
          5507,
          5741,
          5900,
          6231,
          6114,
          6686,
          6675,
          6813,
          7449,
          7928,
          6982,
          7016,
          7247,
          6316,
          4204,
          2267,
          1064,
          502,
          283,
          317,
          674,
          1832,
          3753,
          5192,
          5401,
          5227,
          5707,
          6262,
          6246,
          7026,
          6960,
          7261,
          8212,
          8969,
          7896,
          7616,
          7507,
          6843,
          5557,
          3408,
          2035,
          993,
          589,
          469,
          633,
          1545,
          2887,
          3748,
          4245,
          4743,
          5042,
          5574,
          5829,
          6351,
          6437,
          6525,
          7697,
          8272,
          7864,
          6410,
          6063,
          6278,
          5788,
          4762,
          3609,
          2756,
          1815,
          963,
          444,
          874,
          1309,
          2238,
          3439,
          4434,
          5322,
          6052,
          6228,
          5871,
          6219,
          6958,
          8144,
          7679,
          6910,
          5531,
          6316,
          6756,
          6151,
          5037,
          3960,
          2737,
          1658,
          908,
          438,
          844,
          1342,
          2083,
          3247,
          4147,
          5042,
          5862,
          5938,
          5902,
          5505,
          5872,
          6004,
          5859,
          5018,
          4584,
          4056,
          3440,
          2506,
          1303,
          593,
          296,
          224,
          254,
          607,
          1673,
          3474,
          4404,
          4682,
          4656,
          4805,
          5194,
          5261,
          6009,
          6285,
          6228,
          7082,
          7251,
          5775,
          5381,
          5584,
          4558,
          2790,
          1288,
          603,
          225,
          158,
          192,
          628,
          1711,
          3632,
          5041,
          5240,
          5264,
          5361,
          5837,
          6151,
          6774,
          6568,
          6667,
          7505,
          8012,
          6849,
          6420,
          6716,
          6051,
          4000,
          1826,
          752,
          369,
          241,
          243,
          595,
          1769,
          3898,
          5173,
          5357,
          5398,
          5769,
          6155,
          6098,
          6809,
          6892,
          6937,
          7737,
          8582,
          7812,
          7256,
          7401,
          6550,
          4330,
          2405,
          1098,
          563,
          332,
          275,
          643,
          1764,
          4032,
          5346,
          5532,
          5427,
          5722,
          6045,
          6368,
          6740,
          6838,
          7057,
          7924,
          8451,
          7846,
          7367,
          7509,
          6996,
          5590,
          3395,
          1781,
          1026,
          601,
          413,
          644,
          1578,
          3124,
          4368,
          4706,
          4980,
          5346,
          5756,
          5968,
          6863,
          7102,
          6645,
          7812,
          8277,
          8801,
          7169,
          6781,
          7261,
          5943,
          4767,
          3620,
          2719,
          1649,
          785,
          386,
          754,
          1240,
          2254,
          3650,
          4556,
          5677,
          6230,
          5759,
          5739,
          6237,
          6458,
          6609,
          6561,
          6190,
          4825,
          5019,
          5521,
          5797,
          5043,
          4040,
          3026,
          1981,
          1026,
          398,
          777,
          1381,
          1773,
          2874,
          4038,
          6012,
          5918,
          5284,
          5645,
          5611,
          5862,
          5634,
          4910,
          3886,
          3595,
          3521,
          3119,
          2262,
          1637,
          1252,
          534,
          291,
          261,
          585,
          1590,
          3350,
          4414,
          4552,
          4657,
          5029,
          5515,
          5540,
          6069,
          6055,
          5972,
          6711,
          6976,
          5689,
          5066,
          5131,
          4296,
          2950,
          1567,
          733,
          401,
          253,
          254,
          601,
          1822,
          4394,
          5296,
          5758,
          5926,
          5811,
          6041,
          5823,
          6472,
          6489,
          6753,
          7351,
          8256,
          6647,
          6345,
          6421,
          5900,
          3721,
          1778,
          761,
          392,
          223,
          258,
          576,
          1721,
          3729,
          5112,
          5376,
          5344,
          5684,
          5920,
          6159,
          6635,
          6863,
          6965,
          8280,
          8640,
          7972,
          7226,
          7377,
          6341,
          3883,
          1955,
          1002,
          451,
          281,
          323,
          679,
          1988,
          4017,
          5549,
          5642,
          5822,
          6211,
          6133,
          6172,
          6796,
          7677,
          7128,
          8251,
          9028,
          7921,
          6852,
          7306,
          7240,
          5442,
          3195,
          1760,
          1047,
          586,
          470,
          722,
          1671,
          3276,
          4138,
          4537,
          4958,
          5343,
          5696,
          5854,
          6922,
          6997,
          6722,
          7597,
          8684,
          8135,
          6329,
          6447,
          7124,
          6654,
          5602,
          4617,
          3596,
          2308,
          1151,
          525,
          873,
          1410,
          2144,
          3458,
          4510,
          5320,
          5979,
          6266,
          6213,
          6599,
          6949,
          7051,
          7325,
          7236,
          5994,
          5954,
          6712,
          6792,
          5669,
          4446,
          3300,
          2033,
          1133,
          526,
          784,
          1319,
          2130,
          3190,
          4026,
          4518,
          5408,
          5699,
          6122,
          5850,
          5872,
          6209,
          5849,
          5465,
          4952,
          4631,
          3504,
          2423,
          1382,
          656,
          302,
          233,
          274,
          564,
          1538,
          3190,
          4301,
          4437,
          4752,
          4875,
          5256,
          5202,
          5914,
          5972,
          6046,
          6677,
          7008,
          5973,
          5383,
          5386,
          4983,
          3045,
          1369,
          570,
          281,
          213,
          182,
          533,
          1714,
          3566,
          5005,
          5214,
          5213,
          5660,
          5677,
          5893,
          6695,
          6752,
          6964,
          7923,
          8882,
          7419,
          6697,
          7157,
          6039,
          4203,
          1757,
          861,
          361,
          241,
          248,
          575,
          1824,
          3860,
          5247,
          5426,
          5410,
          5721,
          6129,
          6132,
          6762,
          6929,
          6760,
          7581,
          8445,
          7465,
          7197,
          7564,
          7015,
          5059,
          2535,
          1219,
          624,
          433,
          332,
          602,
          1817,
          3803,
          5091,
          5490,
          5464,
          5932,
          6304,
          6358,
          7055,
          7464,
          7531,
          8553,
          9796,
          8084,
          7600,
          7757,
          7528,
          5557,
          3569,
          1920,
          1113,
          694,
          470,
          678,
          1609,
          3344,
          4414,
          4861,
          5187,
          5679,
          5829,
          6075,
          7152,
          7341,
          7216,
          7881,
          8462,
          7940,
          6663,
          6324,
          7060,
          6867,
          5184,
          4312,
          3171,
          2128,
          1013,
          454,
          911,
          1308,
          2398,
          3685,
          4793,
          5946,
          6325,
          6777,
          6552,
          6830,
          7321,
          7519,
          7152,
          6659,
          5689,
          5992,
          6296,
          6333,
          5114,
          4155,
          3036,
          2037,
          1136,
          519,
          807,
          1282,
          2004,
          3125,
          4716,
          5617,
          6269,
          6449,
          6618,
          6442,
          6546,
          6708,
          6672,
          5611,
          5640,
          5305,
          4109,
          3023,
          1307,
          635,
          334,
          212,
          283,
          583,
          1739,
          3538,
          4627,
          4944,
          4848,
          5340,
          5709,
          5785,
          6422,
          6848,
          6734,
          7702,
          8138,
          6694,
          6163,
          6084,
          5125,
          3083,
          1529,
          653,
          317,
          218,
          222,
          643,
          1827,
          4109,
          5287,
          5398,
          5509,
          5858,
          6215,
          6283,
          7323,
          7455,
          7557,
          8438,
          8893,
          7816,
          7393,
          7759,
          6557,
          4829,
          2251,
          919,
          403,
          266,
          254,
          618,
          1751,
          4122,
          5665,
          5795,
          5788,
          6294,
          6394,
          6702,
          7239,
          7483,
          7454,
          8265,
          9323,
          8558,
          8149,
          8523,
          7472,
          5265,
          2781,
          1191,
          654,
          411,
          372,
          660,
          2009,
          4239,
          5684,
          5772,
          5824,
          6091,
          6579,
          6628,
          7137,
          7157,
          7282,
          8453,
          9269,
          8584,
          8153,
          8480,
          7416,
          6092,
          3666,
          2044,
          1099,
          668,
          520,
          759,
          1700,
          3312,
          4445,
          4872,
          5323,
          5562,
          6030,
          6172,
          7168,
          7107,
          7059,
          7840,
          8691,
          8253,
          6657,
          7137,
          7145,
          7104,
          5720,
          4519,
          3477,
          2336,
          1047,
          684,
          1025,
          1388,
          2276,
          3805,
          5156,
          5877,
          6448,
          6123,
          6133,
          6527,
          5960,
          6615,
          6459,
          6297,
          5136,
          5415,
          5963,
          6263,
          5473,
          4414,
          3180,
          2138,
          1099,
          498,
          784,
          1178,
          2029,
          3171,
          4576,
          5245,
          5842,
          5809,
          5925,
          5769,
          5929,
          5999,
          5850,
          5105,
          4837,
          4520,
          3845,
          2737,
          1464,
          697,
          406,
          278,
          360,
          599,
          1689,
          3395,
          4464,
          4560,
          4817,
          5044,
          5438,
          5855,
          6223,
          6443,
          6513,
          7106,
          7529,
          6361,
          5611,
          5614,
          4533,
          2940,
          1478,
          672,
          336,
          179,
          214,
          549,
          1663,
          3673,
          5046,
          5251,
          5410,
          5555,
          5789,
          6080,
          6646,
          6810,
          6765,
          7699,
          8564,
          7183,
          6996,
          7188,
          6339,
          4161,
          2029,
          999,
          446,
          235,
          237,
          610,
          1706,
          3791,
          5149,
          5333,
          5352,
          5757,
          6201,
          6374,
          6899,
          6949,
          7031,
          7763,
          9005,
          10162,
          7410,
          7529,
          6777,
          4442,
          2522,
          1190,
          687,
          403,
          344,
          652,
          1732,
          3822,
          5002,
          5226,
          5257,
          5597,
          5944,
          6141,
          6701,
          6850,
          6731,
          7357,
          7842,
          6762,
          6070,
          6725,
          6135,
          4849,
          2917,
          1789,
          1077,
          687,
          509,
          655,
          1345,
          2691,
          3569,
          3982,
          4665,
          4836,
          5372,
          5485,
          6138,
          6359,
          5978,
          6177,
          6363,
          5721,
          4819,
          5015,
          5214,
          4817,
          4203,
          3698,
          2380,
          1623,
          844,
          420,
          702,
          1079,
          1769,
          2850,
          3638,
          4381,
          5012,
          5095,
          5063,
          5268,
          5465,
          5517,
          5515,
          5440,
          4383,
          4568,
          4799,
          4598,
          3748,
          2953,
          2027,
          1392,
          824,
          380,
          679,
          858,
          1497,
          2334,
          3200,
          3821,
          4558,
          4783,
          5308,
          4941,
          5100,
          5030,
          4993,
          4477,
          4080,
          3841,
          3713,
          3410,
          2427,
          1683,
          912,
          586,
          422,
          330,
          672,
          1042,
          1420,
          2019,
          2766,
          3429,
          4014,
          4409,
          4886,
          4966,
          4987,
          4841,
          5029,
          4759,
          4493,
          4199,
          3566,
          2540,
          1314,
          455,
          252,
          168,
          229,
          534,
          1612,
          3337,
          4659,
          4714,
          4840,
          4898,
          5288,
          5583,
          6078,
          6313,
          6269,
          6911,
          7051,
          5918,
          5285,
          5643,
          4552,
          2927,
          1449,
          688,
          365,
          226,
          250,
          553,
          1637,
          3538,
          4766,
          5266,
          5201,
          5476,
          6002,
          6026,
          6509,
          6626,
          6671,
          7505,
          8162,
          7330,
          6677,
          7111,
          6281,
          4049,
          2001,
          1054,
          444,
          303,
          271,
          647,
          1709,
          3630,
          4927,
          5187,
          5364,
          5628,
          6143,
          6306,
          7061,
          7407,
          7182,
          7965,
          8675,
          7450,
          7078,
          7525,
          7084,
          5121,
          3127,
          1722,
          969,
          547,
          404,
          647,
          1486,
          2990,
          4080,
          4641,
          5136,
          5388,
          5800,
          5892,
          6665,
          6921,
          6794,
          7410,
          10373,
          7514,
          5127,
          5698,
          6264,
          6104,
          5669,
          4483,
          3131,
          1887,
          906,
          508,
          807,
          1384,
          2201,
          3519,
          4489,
          5271,
          5867,
          6234,
          5985,
          6500,
          6814,
          6792,
          7036,
          6635,
          5688,
          6118,
          6847,
          6459,
          5383,
          4246,
          3317,
          2093,
          1127,
          547,
          757,
          1203,
          1875,
          2988,
          4052,
          4627,
          5181,
          5420,
          5385,
          5652,
          5899,
          6372,
          6258,
          5320,
          4872,
          4738,
          4062,
          2661,
          1476,
          658,
          342,
          244,
          241,
          598,
          1571,
          3457,
          4728,
          4789,
          4771,
          5041,
          5391,
          5370,
          6205,
          6262,
          6444,
          7163,
          7342,
          6159,
          5496,
          5780,
          4841,
          3136,
          1406,
          691,
          283,
          170,
          213,
          597,
          1599,
          3749,
          5285,
          6058,
          5462,
          5601,
          5872,
          6139,
          7354,
          6863,
          7206,
          7853,
          9267,
          7700,
          7101,
          7384,
          6634,
          4348,
          2200,
          967,
          453,
          251,
          232,
          587,
          1741,
          4149,
          5539,
          5532,
          5685,
          6178,
          6809,
          6835,
          7620,
          7399,
          7054,
          7785,
          8373,
          7414,
          6539,
          6755,
          6299,
          4337,
          2160,
          1017,
          609,
          303,
          319,
          642,
          1728,
          3560,
          5028,
          4999,
          5213,
          5591,
          5951,
          6071,
          6669,
          7057,
          7130,
          7719,
          8441,
          7165,
          6278,
          7308,
          7002,
          5384,
          3217,
          2020,
          1159,
          623,
          438,
          649,
          1465,
          2859,
          3874,
          4324,
          4748,
          5288,
          5640,
          5915,
          6228,
          6481,
          6415,
          7395,
          7367,
          7347,
          5838,
          6015,
          6795,
          6659,
          5306,
          4409,
          3419,
          2119,
          995,
          508,
          892,
          1487,
          2085,
          3284,
          4239,
          4791,
          5382,
          5550,
          5647,
          6190,
          6116,
          6470,
          6561,
          6306,
          5172,
          5648,
          6390,
          6927,
          5613,
          4378,
          3407,
          2218,
          1108,
          487,
          723,
          1136,
          1788,
          2783,
          3767,
          4445,
          5012,
          5275,
          5581,
          5599,
          5697,
          5790,
          5460,
          4731,
          4496,
          4365,
          3736,
          3219,
          1661,
          816,
          447,
          279,
          339,
          691,
          1713,
          3277,
          4842,
          4839,
          4999,
          5246,
          5573,
          5639,
          6375,
          6342,
          6334,
          7143,
          7073,
          7371,
          6970,
          5918,
          3945,
          2934,
          1661,
          872,
          365,
          168,
          242,
          614,
          1618,
          3673,
          5106,
          5273,
          5289,
          5668,
          6160,
          6207,
          7022,
          7100,
          7031,
          7674,
          8237,
          7127,
          6619,
          7196,
          6090,
          4471,
          2141,
          976,
          472,
          291,
          281,
          595,
          1727,
          3586,
          5257,
          5468,
          5563,
          5833,
          6625,
          6909,
          6697,
          6507,
          6565,
          7388,
          8777,
          7194,
          6861,
          7639,
          7268,
          5197,
          2928,
          1400,
          670,
          387,
          371,
          598,
          1771,
          3582,
          5185,
          5327,
          5600,
          5987,
          6406,
          6632,
          7203,
          7253,
          7286,
          8216,
          8870,
          7573,
          6983,
          7669,
          7218,
          5590,
          3801,
          2193,
          1266,
          682,
          548,
          687,
          1574,
          2822,
          4083,
          4703,
          4908,
          5307,
          5831,
          6842,
          7087,
          5698,
          5505,
          5945,
          6297,
          6269,
          5164,
          5459,
          5936,
          5534,
          4821,
          4025,
          3096,
          2038,
          1002,
          413,
          838,
          1170,
          1909,
          3100,
          4103,
          4581,
          5201,
          5644,
          5472,
          5698,
          5969,
          6036,
          7504,
          5908,
          4805,
          5105,
          5823,
          5726,
          4477,
          3915,
          2942,
          2050,
          1069,
          464,
          741,
          1031,
          1633,
          2620,
          3531,
          4151,
          4658,
          5076,
          5520,
          5118,
          5187,
          5434,
          5553,
          4939,
          4645,
          4381,
          3855,
          3336,
          1902,
          1088,
          685,
          451,
          373,
          465,
          991,
          1585,
          2376,
          3234,
          3815,
          4320,
          4839,
          5161,
          5645,
          6009,
          5520,
          5782,
          6176,
          5108,
          4757,
          4794,
          3905,
          2506,
          1344,
          648,
          390,
          182,
          225,
          618,
          1722,
          3362,
          4909,
          5212,
          5143,
          5353,
          5572,
          5828,
          6346,
          6297,
          6268,
          6837,
          7768,
          6516,
          6071,
          6543,
          5550,
          3781,
          2338,
          948,
          536,
          286,
          272,
          573,
          1702,
          3375,
          4977,
          5215,
          5252,
          5457,
          6026,
          6253,
          6489,
          6492,
          6654,
          7195,
          8138,
          7319,
          6563,
          7084,
          6334,
          4643,
          3263,
          1363,
          722,
          418,
          350,
          590,
          1734,
          3921,
          5538,
          5674,
          5509,
          5852,
          6192,
          6227,
          6538,
          6574,
          6551,
          7273,
          7907,
          7268,
          6367,
          6925,
          6606,
          5577,
          4475,
          2327,
          1423,
          766,
          529,
          614,
          1415,
          2593,
          3966,
          4319,
          5563,
          5401,
          5398,
          5585,
          6368,
          6602,
          6224,
          6778,
          7312,
          6643,
          5335,
          5709,
          6468,
          6224,
          5454,
          4556,
          3520,
          2300,
          1102,
          477,
          783,
          1223,
          2017,
          2969,
          3871,
          4606,
          5343,
          5701,
          5807,
          5642,
          5841,
          6019,
          6036,
          6325,
          5147,
          5480,
          6212,
          6190,
          5490,
          4738,
          3745,
          2636,
          1386,
          601,
          850,
          1241,
          1728,
          2911,
          3684,
          4389,
          4741,
          4913,
          4885,
          4455,
          4595,
          4706,
          4843,
          4776,
          4607,
          4761,
          4504,
          3353,
          2333,
          1470,
          773,
          482,
          473,
          666,
          1653,
          2960,
          4329,
          4738,
          5238,
          4771,
          5038,
          5881,
          5669,
          5773,
          5887,
          6752,
          6695,
          5708,
          4964,
          4653,
          4307,
          2856,
          1451,
          779,
          518,
          312,
          419,
          694,
          1609,
          3321,
          5050,
          5204,
          5210,
          5565,
          5801,
          5833,
          6330,
          6255,
          6194,
          6784,
          7854,
          6912,
          6040,
          6767,
          5312,
          3197,
          2035,
          1005,
          570,
          302,
          326,
          589,
          1547,
          2877,
          3910,
          4171,
          4616,
          4869,
          5412,
          5738,
          5871,
          6327,
          6121,
          7045,
          7950,
          6897,
          6043,
          5774,
          5075,
          4113,
          2495,
          1293,
          622,
          382,
          395,
          688,
          1608,
          2888,
          4173,
          4529,
          4692,
          5104,
          5486,
          5589,
          5689,
          5688,
          5324,
          6234,
          7133,
          6517,
          5825,
          5966,
          5566,
          4535,
          3039,
          1889,
          1120,
          682,
          532,
          629,
          1505,
          2354,
          3181,
          3762,
          4208,
          4494,
          4911,
          5157,
          5679,
          5806,
          5561,
          5798,
          5803,
          5216,
          4264,
          4526,
          4674,
          4387,
          3707,
          3092,
          2246,
          1559,
          897,
          429,
          807,
          1113,
          1694,
          2549,
          3143,
          3711,
          4181,
          4371,
          4344,
          4478,
          4712,
          4800,
          4760,
          4679,
          3712,
          3877,
          4122,
          3918,
          3081,
          2458,
          2061,
          1393,
          764,
          354,
          597,
          808,
          1292,
          1991,
          2701,
          3312,
          3764,
          4161,
          4368,
          3994,
          4146,
          4921,
          4061,
          3395,
          3047,
          3106,
          2856,
          2022,
          1440,
          814,
          464,
          272,
          237,
          367,
          832,
          1377,
          1851,
          2367,
          2950,
          3241,
          3852,
          4011,
          4436,
          4523,
          4408,
          4113,
          4301,
          3620,
          3423,
          3101,
          2714,
          2356,
          1837,
          1240,
          664,
          405,
          263,
          259,
          522,
          650,
          888,
          1458,
          2272,
          3409,
          2593,
          2960,
          4046,
          3345,
          3544,
          3467,
          3758,
          3465,
          3380,
          3234,
          3629,
          3020,
          1655,
          807,
          396,
          251,
          240,
          490,
          1343,
          2393,
          3584,
          4127,
          4204,
          4401,
          4783,
          5106,
          5247,
          5360,
          5509,
          5709,
          5718,
          4872,
          4234,
          4117,
          3512,
          2458,
          1470,
          702,
          440,
          231,
          184,
          492,
          1409,
          2450,
          3792,
          4331,
          4635,
          4876,
          5266,
          5486,
          5696,
          5569,
          5542,
          5994,
          6355,
          5456,
          4747,
          4961,
          4750,
          3390,
          2132,
          1239,
          736,
          422,
          343,
          507,
          1211,
          2081,
          3143,
          3662,
          4087,
          4487,
          4799,
          5059,
          5332,
          5342,
          5320,
          5789,
          5872,
          5427,
          4514,
          4711,
          4994,
          4773,
          4161,
          3532,
          2565,
          1660,
          873,
          452,
          674,
          1072,
          1675,
          2514,
          3478,
          4248,
          4612,
          4634,
          4837,
          4963,
          5259,
          5346,
          5570,
          5402,
          4462,
          4577,
          4966,
          4919,
          4272,
          3639,
          2778,
          1818,
          940,
          421,
          626,
          951,
          1534,
          2331,
          3199,
          3682,
          4195,
          4147,
          4402,
          4769,
          4669,
          4482,
          5212,
          4593,
          4018,
          3764,
          2856,
          2155,
          1272,
          660,
          383,
          258,
          286,
          556,
          1462,
          2677,
          4383,
          4532,
          4412,
          4584,
          4634,
          4923,
          5184,
          5345,
          5648,
          5813,
          6300,
          5606,
          4585,
          4643,
          3813,
          2403,
          1393,
          679,
          389,
          239,
          254,
          585,
          1522,
          3058,
          4543,
          4778,
          4867,
          5103,
          5400,
          5611,
          5964,
          6170,
          6156,
          6855,
          7666,
          6331,
          5799,
          6111,
          5478,
          3506,
          1775,
          883,
          445,
          291,
          270,
          563,
          1565,
          3187,
          4676,
          5070,
          5253,
          5606,
          5944,
          5945,
          6128,
          6189,
          6488,
          7101,
          7788,
          7176,
          6005,
          6358,
          5774,
          4223,
          2100,
          1143,
          528,
          352,
          314,
          588,
          1649,
          3148,
          4723,
          4990,
          5064,
          5474,
          5891,
          6000,
          6405,
          6499,
          6308,
          7220,
          8243,
          7052,
          6007,
          6416,
          5973,
          4683,
          2981,
          1699,
          1062,
          618,
          470,
          644,
          1375,
          2788,
          3280,
          3739,
          4187,
          4413,
          4853,
          5307,
          5375,
          5479,
          5795,
          6510,
          6959,
          5616,
          4590,
          4810,
          5455,
          5241,
          4288,
          3573,
          2782,
          1751,
          878,
          450,
          835,
          1159,
          1832,
          2874,
          3834,
          4421,
          4932,
          5543,
          5407,
          5364,
          5787,
          6490,
          6281,
          6889,
          4667,
          4629,
          5040,
          4867,
          4549,
          3745,
          2839,
          1843,
          995,
          426,
          689,
          977,
          1600,
          2473,
          3116,
          3701,
          4979,
          4178,
          4341,
          4628,
          4673,
          4627,
          4877,
          4197,
          3543,
          3421,
          2766,
          2207,
          1356,
          845,
          422,
          316,
          291,
          572,
          1516,
          2900,
          4282,
          4338,
          4470,
          4797,
          5081,
          5358,
          5570,
          5792,
          5857,
          6186,
          6581,
          5529,
          4988,
          4964,
          3994,
          2612,
          1507,
          668,
          475,
          211,
          234,
          583,
          1566,
          3257,
          4837,
          5089,
          5132,
          5642,
          6583,
          5199,
          5696,
          5984,
          5953,
          6463,
          7323,
          6562,
          5860,
          6381,
          5778,
          3613,
          2079,
          959,
          489,
          285,
          274,
          580,
          1685,
          3099,
          4857,
          5157,
          5198,
          5490,
          6212,
          5843,
          5916,
          5947,
          6031,
          7020,
          7611,
          7091,
          6502,
          6598,
          6023,
          4153,
          2192,
          1169,
          622,
          383,
          352,
          595,
          1562,
          3187,
          4787,
          4960,
          5071,
          5288,
          5655,
          5838,
          6178,
          6137,
          6173,
          7145,
          7748,
          6777,
          6328,
          6469,
          6128,
          4993,
          3271,
          2017,
          1154,
          653,
          470,
          663,
          1399,
          2360,
          3797,
          3862,
          4247,
          4660,
          4988,
          5013,
          5362,
          5679,
          5557,
          6061,
          6212,
          5922,
          5121,
          5091,
          5511,
          5576,
          4767,
          4040,
          3055,
          1910,
          1001,
          442,
          750,
          1280,
          1750,
          2808,
          3458,
          4396,
          4744,
          5097,
          5013,
          5219,
          5339,
          5529,
          5807,
          5633,
          5476,
          5112,
          5453,
          5366,
          4617,
          3815,
          3048,
          2039,
          1018,
          491,
          678,
          1039,
          1577,
          2403,
          3333,
          3989,
          4504,
          4900,
          5066,
          4912,
          4904,
          4911,
          5110,
          4526,
          4157,
          4250,
          3260,
          2808,
          1677,
          735,
          334,
          277,
          301,
          590,
          1472,
          2690,
          4015,
          4261,
          4318,
          4441,
          4840,
          5101,
          5254,
          5619,
          5506,
          6039,
          6264,
          5374,
          4377,
          4703,
          3806,
          2908,
          1513,
          605,
          307,
          186,
          193,
          528,
          1587,
          3119,
          4557,
          4872,
          4793,
          5030,
          5374,
          5572,
          6374,
          7331,
          6477,
          6490,
          6590,
          5565,
          5398,
          5897,
          4810,
          3695,
          2207,
          1287,
          671,
          288,
          261,
          583,
          1587,
          3259,
          4529,
          4800,
          4896,
          5097,
          5680,
          5773,
          5934,
          5956,
          6107,
          6748,
          7375,
          6808,
          6051,
          6501,
          5833,
          4535,
          2327,
          1255,
          672,
          365,
          326,
          627,
          1636,
          3096,
          4676,
          4942,
          5222,
          5230,
          5858,
          6117,
          6203,
          6354,
          6366,
          7117,
          7721,
          6668,
          5966,
          6821,
          6164,
          4401,
          3131,
          1853,
          1029,
          557,
          421,
          563,
          1326,
          2362,
          3422,
          3916,
          4236,
          4709,
          4970,
          5389,
          5902,
          5952,
          5814,
          6452,
          6777,
          6151,
          5085,
          5123,
          5403,
          5858,
          4755,
          4050,
          3136,
          1930,
          863,
          443,
          729,
          1086,
          1729,
          2597,
          3517,
          4187,
          4748,
          5149,
          5059,
          5146,
          5372,
          5690,
          5684,
          6044,
          4339,
          4493,
          4993,
          5045,
          4864,
          4200,
          3036,
          2018,
          1065,
          519,
          681,
          1088,
          1495,
          2375,
          3299,
          3833,
          4292,
          4678,
          5001,
          5041,
          5043,
          4875,
          4998,
          4509,
          4159,
          4233,
          3361,
          2952,
          1653,
          1128,
          521,
          318,
          317,
          584,
          1381,
          2523,
          3740,
          3913,
          4036,
          4251,
          4708,
          4853,
          5142,
          5255,
          5268,
          5621,
          5956,
          4893,
          4446,
          4414,
          3615,
          2273,
          1326,
          679,
          354,
          200,
          255,
          569,
          1478,
          2822,
          4300,
          4468,
          4478,
          4709,
          5304,
          5314,
          5778,
          5816,
          5693,
          6754,
          6890,
          5834,
          5602,
          5834,
          4858,
          3572,
          1970,
          941,
          422,
          246,
          227,
          548,
          1464,
          2919,
          4234,
          4497,
          4588,
          5020,
          5114,
          5357,
          5552,
          5518,
          5692,
          6439,
          6880,
          6172,
          5711,
          6354,
          5624,
          4266,
          2237,
          1095,
          576,
          377,
          280,
          552,
          1417,
          2759,
          4161,
          4563,
          4595,
          4730,
          5400,
          5494,
          6035,
          5940,
          5936,
          6407,
          7206,
          6179,
          5501,
          5944,
          5519,
          4436,
          2876,
          1728,
          942,
          562,
          394,
          545,
          1292,
          2187,
          3074,
          3616,
          4018,
          4469,
          4632,
          5075,
          5120,
          5290,
          5335,
          5710,
          5852,
          5414,
          4576,
          4543,
          4754,
          4675,
          4649,
          3730,
          2794,
          1789,
          861,
          441,
          714,
          1049,
          1655,
          2516,
          3386,
          3985,
          4410,
          4671,
          4837,
          5052,
          5407,
          5503,
          5596,
          5231,
          4445,
          4878,
          4845,
          4827,
          4358,
          3750,
          2719,
          1817,
          973,
          404,
          656,
          990,
          1564,
          2254,
          3065,
          3715,
          4208,
          4412,
          4787,
          4593,
          4626,
          4657,
          4614,
          4313,
          3988,
          3847,
          3197,
          2240,
          1463,
          698,
          317,
          248,
          230,
          631,
          1760,
          2596,
          3715,
          4040,
          4147,
          4138,
          4415,
          4589,
          4759,
          5012,
          4995,
          5435,
          5305,
          4659,
          5268,
          4677,
          3026,
          1960,
          1328,
          815,
          428,
          144,
          206,
          531,
          1491,
          2837,
          4185,
          4915,
          4580,
          4804,
          5104,
          5166,
          5474,
          5612,
          5754,
          6216,
          6487,
          5769,
          5583,
          5629,
          4610,
          2924,
          1493,
          712,
          436,
          263,
          277,
          535,
          1439,
          2812,
          4199,
          4429,
          4653,
          4797,
          5328,
          5558,
          5707,
          5711,
          5900,
          6612,
          6987,
          6216,
          5614,
          6023,
          5528,
          3578,
          1820,
          1001,
          556,
          314,
          288,
          543,
          1450,
          2730,
          4159,
          4592,
          4751,
          4850,
          5843,
          5778,
          5843,
          7230,
          6970,
          7192,
          6942,
          6643,
          5012,
          5152,
          4990,
          3708,
          2421,
          1574,
          936,
          560,
          388,
          536,
          1307,
          2147,
          3099,
          3563,
          4045,
          4259,
          4671,
          4806,
          5232,
          5425,
          5477,
          5771,
          5854,
          5375,
          4817,
          4772,
          5142,
          4840,
          4160,
          3489,
          2753,
          1728,
          884,
          384,
          777,
          1138,
          1773,
          2391,
          3302,
          3756,
          4194,
          4684,
          4843,
          5343,
          4920,
          5322,
          5345,
          4966,
          4309,
          4477,
          4787,
          4746,
          4249,
          3624,
          2654,
          1594,
          757,
          421,
          676,
          952,
          1480,
          2384,
          3228,
          3786,
          4147,
          4382,
          4667,
          4536,
          4552,
          4441,
          4620,
          4131,
          4150,
          3785,
          3117,
          2355,
          1464,
          621,
          355,
          231,
          240,
          542,
          1332,
          2450,
          3746,
          4075,
          4156,
          4383,
          4645,
          4878,
          5174,
          5370,
          5195,
          5415,
          5658,
          4613,
          4542,
          4363,
          3084,
          2344,
          1367,
          546,
          297,
          177,
          207,
          487,
          1435,
          2663,
          4138,
          4599,
          4694,
          4701,
          5180,
          5471,
          5711,
          5665,
          5646,
          6128,
          6516,
          5286,
          5243,
          5234,
          4169,
          2878,
          1678,
          830,
          421,
          286,
          245,
          592,
          1513,
          2828,
          4324,
          4584,
          4691,
          4923,
          5490,
          5529,
          5744,
          5755,
          5995,
          6813,
          6710,
          5970,
          5604,
          5544,
          4907,
          3290,
          1734,
          968,
          531,
          322,
          284,
          515,
          1473,
          2693,
          4152,
          4430,
          4652,
          4740,
          5151,
          5456,
          5625,
          6488,
          6710,
          6452,
          6978,
          6084,
          5430,
          5451,
          4772,
          3452,
          2391,
          1581,
          914,
          539,
          346,
          566,
          1410,
          2138,
          2946,
          3559,
          3824,
          4271,
          4487,
          4832,
          5140,
          5302,
          5165,
          5419,
          5692,
          5194,
          4712,
          4463,
          4946,
          4718,
          4151,
          3617,
          2610,
          1661,
          780,
          473,
          856,
          1138,
          1861,
          2612,
          3262,
          3670,
          4166,
          4560,
          4624,
          4886,
          4971,
          5190,
          5344,
          5261,
          4614,
          4443,
          4759,
          4719,
          4143,
          3772,
          2684,
          1553,
          913,
          414,
          675,
          1021,
          1459,
          2215,
          2956,
          3449,
          3948,
          4249,
          4523,
          4508,
          4492,
          4479,
          4497,
          4211,
          4026,
          3779,
          2991,
          2184,
          1259,
          573,
          292,
          233,
          236,
          554,
          1357,
          2494,
          3449,
          3734,
          3958,
          4163,
          4527,
          4869,
          5029,
          5155,
          5216,
          5260,
          5273,
          4650,
          4265,
          3803,
          3021,
          2110,
          1070,
          481,
          296,
          148,
          200,
          455,
          1353,
          2580,
          3741,
          4162,
          4172,
          4443,
          4689,
          4745,
          5342,
          5326,
          5386,
          5746,
          5949,
          5212,
          4787,
          4869,
          4221,
          2839,
          1397,
          717,
          361,
          243,
          231,
          503,
          1372,
          2622,
          3846,
          4234,
          4324,
          4589,
          5041,
          5308,
          5715,
          5352,
          5444,
          5986,
          6336,
          5620,
          5266,
          4908,
          4644,
          3260,
          2032,
          974,
          464,
          342,
          295,
          512,
          1355,
          2575,
          3514,
          4299,
          4312,
          4680,
          5146,
          5283,
          5527,
          7038,
          6709,
          5859,
          6062,
          5604,
          5094,
          5009,
          4125,
          3197,
          2197,
          1480,
          865,
          508,
          388,
          546,
          1333,
          2323,
          3051,
          3370,
          4118,
          4142,
          4577,
          4611,
          5367,
          5450,
          5148,
          5228,
          5698,
          5110,
          4465,
          4299,
          4870,
          4591,
          4021,
          3371,
          2412,
          1551,
          820,
          433,
          820,
          1219,
          1668,
          2582,
          3334,
          3782,
          4442,
          4631,
          4975,
          5142,
          5201,
          5337,
          5276,
          5371,
          4591,
          4527,
          4864,
          4809,
          4223,
          3496,
          2616,
          1744,
          924,
          387,
          716,
          1035,
          1474,
          2296,
          3254,
          3557,
          4263,
          4347,
          4894,
          4866,
          4851,
          4806,
          4561,
          4227,
          4158,
          3938,
          3109,
          2233,
          1227,
          549,
          328,
          232,
          219,
          495,
          1296,
          2398,
          3460,
          3886,
          3970,
          3903,
          4418,
          4641,
          4712,
          5054,
          4939,
          5217,
          5437,
          4442,
          4091,
          3717,
          3108,
          2137,
          1427,
          676,
          257,
          232,
          237,
          622,
          1785,
          3204,
          4850,
          5002,
          4897,
          4680,
          5007,
          5165,
          5583,
          5532,
          5399,
          5834,
          6176,
          5342,
          4819,
          4584,
          4086,
          3324,
          1658,
          734,
          377,
          213,
          242,
          530,
          1426,
          2509,
          4233,
          5513,
          4299,
          4626,
          4984,
          5052,
          5376,
          5451,
          5208,
          5835,
          6011,
          5317,
          4788,
          4722,
          4327,
          3434,
          2265,
          963,
          531,
          333,
          277,
          490,
          1401,
          2497,
          3481,
          4009,
          4378,
          4388,
          4799,
          4788,
          5402,
          5548,
          5286,
          5613,
          6012,
          5190,
          4930,
          5185,
          4488,
          3758,
          2522,
          1543,
          938,
          542,
          391,
          544,
          1311,
          1968,
          2816,
          3441,
          3922,
          4047,
          4490,
          4612,
          5270,
          5322,
          5080,
          5297,
          5457,
          5053,
          4438,
          4242,
          4320,
          4120,
          3451,
          2782,
          2125,
          1521,
          731,
          340,
          734,
          1055,
          1643,
          2453,
          3140,
          3737,
          4081,
          4414,
          4484,
          4638,
          4957,
          5070,
          4960,
          4870,
          4267,
          4009,
          4365,
          3920,
          3275,
          2658,
          2000,
          1320,
          722,
          326,
          587,
          892,
          1339,
          2256,
          3038,
          3704,
          4240,
          4356,
          4626,
          4854,
          4913,
          4814,
          4950,
          4236,
          3945,
          3610,
          3584,
          3405,
          2617,
          1553,
          840,
          565,
          473,
          446,
          737,
          1015,
          1392,
          2092,
          2790,
          3374,
          4008,
          4329,
          4879,
          4812,
          4688,
          4712,
          4735,
          4350,
          4263,
          3795,
          3051,
          2247,
          1198,
          568,
          327,
          179,
          239,
          534,
          1618,
          3386,
          4579,
          4959,
          5097,
          5348,
          5666,
          5969,
          6284,
          6482,
          6522,
          6977,
          7629,
          6098,
          5371,
          5155,
          3917,
          2661,
          1665,
          935,
          339,
          183,
          216,
          551,
          1694,
          3833,
          5205,
          5274,
          5528,
          6030,
          6296,
          6447,
          6774,
          7055,
          6793,
          8066,
          8686,
          7381,
          6946,
          6494,
          5213,
          3430,
          2333,
          963,
          510,
          379,
          302,
          579,
          1829,
          4347,
          5551,
          5665,
          5994,
          6120,
          6694,
          6734,
          7364,
          7565,
          7379,
          8253,
          9177,
          8127,
          7249,
          6742,
          6228,
          5345,
          3422,
          2319,
          1346,
          695,
          498,
          657,
          1550,
          3518,
          4673,
          5193,
          5358,
          5710,
          6050,
          6306,
          7552,
          7623,
          6758,
          7901,
          7804,
          6841,
          5792,
          5346,
          6305,
          6344,
          5508,
          4507,
          3228,
          2083,
          1032,
          440,
          795,
          1309,
          2225,
          3329,
          4271,
          5104,
          5673,
          5973,
          6323,
          6414,
          6793,
          6559,
          6439,
          6696,
          5799,
          5714,
          6277,
          6360,
          5565,
          4926,
          3737,
          2539,
          1406,
          561,
          749,
          1209,
          1883,
          3269,
          5029,
          5593,
          5646,
          4885,
          5112,
          5397,
          5688,
          5350,
          5713,
          5081,
          5268,
          4817,
          3597,
          2863,
          1786,
          801,
          523,
          345,
          391,
          714,
          1848,
          3919,
          4724,
          4754,
          4914,
          5305,
          5379,
          5746,
          6185,
          6761,
          6627,
          7998,
          7900,
          5891,
          5515,
          5012,
          3837,
          2869,
          1909,
          1055,
          405,
          248,
          299,
          583,
          1787,
          3939,
          5388,
          5360,
          5472,
          5611,
          5883,
          6052,
          6562,
          6766,
          6702,
          7664,
          8503,
          7938,
          7424,
          6844,
          5252,
          3576,
          1853,
          926,
          469,
          327,
          297,
          650,
          1996,
          4146,
          5281,
          5314,
          5555,
          5531,
          5822,
          5948,
          6596,
          6450,
          6549,
          7528,
          8111,
          7615,
          7427,
          6955,
          6102,
          3965,
          2190,
          1101,
          594,
          391,
          356,
          634,
          1829,
          4076,
          5331,
          5386,
          5228,
          5674,
          5984,
          6050,
          6540,
          7001,
          6945,
          7982,
          8820,
          8313,
          7904,
          7427,
          6687,
          5129,
          3034,
          1956,
          1062,
          627,
          445,
          609,
          1630,
          3241,
          4353,
          4585,
          4861,
          5140,
          5396,
          5512,
          6303,
          6620,
          6504,
          7637,
          7959,
          7411,
          6132,
          6206,
          6017,
          5543,
          4782,
          3999,
          3139,
          2060,
          987,
          401,
          726,
          1310,
          2229,
          3522,
          4583,
          4856,
          5294,
          5848,
          5659,
          5979,
          5948,
          6276,
          6512,
          6440,
          5481,
          5443,
          5995,
          5622,
          4956,
          4081,
          3185,
          2218,
          1084,
          467,
          704,
          1162,
          1823,
          3001,
          3873,
          4294,
          4906,
          4978,
          4965,
          4934,
          5078,
          5213,
          5035,
          4845,
          5433,
          4678,
          3459,
          2604,
          1388,
          504,
          304,
          179,
          219,
          672,
          2009,
          3629,
          4210,
          4533,
          4638,
          4353,
          4482,
          4893,
          5089,
          5368,
          5703,
          7074,
          6846,
          5410,
          5212,
          5083,
          4240,
          2820,
          1271,
          524,
          271,
          168,
          213,
          556,
          1720,
          3595,
          4401,
          4510,
          4581,
          4511,
          5059,
          5145,
          5515,
          5728,
          5755,
          6935,
          7358,
          6707,
          6835,
          6526,
          5653,
          3870,
          1843,
          779,
          414,
          271,
          250,
          628,
          1811,
          3727,
          4503,
          4608,
          4513,
          4843,
          5150,
          5257,
          5330,
          5647,
          5499,
          6601,
          7485,
          7168,
          7124,
          7198,
          6339,
          4384,
          2418,
          1113,
          631,
          373,
          362,
          632,
          1797,
          3865,
          4638,
          4514,
          4759,
          5127,
          5297,
          615,
          0,
          0,
          2,
          2,
          4,
          7,
          8,
          3,
          7,
          4,
          2,
          2,
          3,
          0,
          0,
          0,
          0,
          0,
          0,
          1,
          1,
          1,
          0,
          1,
          1,
          0,
          1,
          0,
          0,
          2,
          0,
          1,
          3,
          1,
          1,
          0,
          0,
          0,
          0,
          0,
          0,
          0,
          0,
          0,
          0,
          1,
          0,
          1,
          1,
          1,
          1,
          0,
          2,
          3,
          1,
          1,
          2,
          0,
          0,
          0,
          0,
          0,
          0,
          0,
          0,
          0,
          0,
          2,
          2,
          3,
          5,
          3,
          2,
          1,
          3,
          6,
          9,
          13,
          12,
          9,
          7,
          17,
          1440,
          609,
          227,
          206,
          270,
          532,
          1421,
          2470,
          3590,
          4360,
          4510,
          4871,
          4915,
          5317,
          5533,
          5553,
          5888,
          6024,
          6021,
          5808,
          5145,
          4831,
          3401,
          2164,
          1433,
          674,
          284,
          202,
          233,
          539,
          1722,
          3845,
          5199,
          5487,
          5422,
          5768,
          5897,
          5825,
          6502,
          6716,
          6717,
          7429,
          7539,
          6509,
          6223,
          6409,
          5212,
          3288,
          1738,
          744,
          431,
          289,
          297,
          592,
          1593,
          3816,
          4933,
          5012,
          5291,
          5514,
          5958,
          5874,
          6395,
          6445,
          6766,
          8044,
          8542,
          7818,
          7466,
          7263,
          6228,
          4352,
          2115,
          1013,
          568,
          385,
          341,
          641,
          1674,
          3713,
          5015,
          5051,
          5311,
          5701,
          6261,
          6681,
          6738,
          6681,
          7229,
          9969,
          8641,
          7437,
          7289,
          7677,
          6882,
          5292,
          3043,
          1560,
          895,
          529,
          406,
          693,
          1815,
          3583,
          4921,
          4877,
          4494,
          4104,
          4154,
          4048,
          4384,
          4851,
          5379,
          6614,
          7351,
          6334,
          4567,
          4490,
          5178,
          4693,
          4224,
          3341,
          2457,
          1659,
          852,
          383,
          790,
          1391,
          2445,
          3378,
          4414,
          5241,
          5554,
          5818,
          5799,
          6074,
          6630,
          6885,
          6908,
          7054,
          5572,
          5672,
          6594,
          6331,
          5537,
          4605,
          3530,
          2396,
          1232,
          603,
          835,
          1214,
          2034,
          3106,
          4245,
          4822,
          5478,
          5564,
          5671,
          5570,
          5708,
          5704,
          5663,
          5459,
          4617,
          4288,
          3759,
          2671,
          1728,
          888,
          404,
          264,
          304,
          565,
          1596,
          3397,
          4381,
          4506,
          4563,
          4823,
          5208,
          5351,
          5916,
          6133,
          6147,
          6750,
          6825,
          6014,
          5525,
          5334,
          4187,
          3033,
          1680,
          671,
          276,
          190,
          236,
          508,
          1615,
          3631,
          4922,
          4891,
          4967,
          5316,
          5594,
          5916,
          6541,
          6704,
          6549,
          7450,
          8250,
          7181,
          6782,
          6540,
          5602,
          3830,
          1638,
          709,
          367,
          268,
          267,
          562,
          1689,
          3896,
          5008,
          5306,
          5363,
          5484,
          5859,
          6005,
          6564,
          6780,
          6862,
          7759,
          8521,
          7798,
          6896,
          7155,
          6379,
          4437,
          2141,
          979,
          541,
          340,
          336,
          675,
          1685,
          3740,
          4828,
          5057,
          5223,
          5613,
          5975,
          6080,
          6793,
          6833,
          6825,
          8088,
          8702,
          8017,
          7527,
          7272,
          6819,
          5159,
          3299,
          1810,
          1067,
          612,
          437,
          695,
          1591,
          3226,
          4092,
          4595,
          5105,
          5492,
          5541,
          5500,
          6363,
          6522,
          6346,
          7195,
          7491,
          7193,
          5679,
          5737,
          6358,
          5895,
          5048,
          4293,
          3050,
          2019,
          974,
          414,
          705,
          1330,
          2017,
          3192,
          4666,
          5194,
          5800,
          6402,
          5921,
          5961,
          5845,
          6478,
          6167,
          6282,
          5256,
          5540,
          6164,
          5926,
          5511,
          4448,
          3292,
          2206,
          1100,
          448,
          778,
          1138,
          1715,
          2886,
          3860,
          4703,
          5203,
          5187,
          5385,
          5219,
          5269,
          5378,
          5599,
          5319,
          4589,
          4617,
          3945,
          2975,
          1625,
          723,
          398,
          275,
          330,
          483,
          1201,
          2163,
          3244,
          3767,
          4136,
          4371,
          4467,
          4799,
          5158,
          5439,
          5771,
          5799,
          6030,
          5185,
          4743,
          4343,
          3377,
          2226,
          1128,
          560,
          233,
          162,
          221,
          566,
          1587,
          3653,
          5049,
          5261,
          5134,
          5408,
          5674,
          5701,
          6320,
          6726,
          6980,
          7454,
          7828,
          7047,
          6357,
          6435,
          5139,
          3137,
          1514,
          632,
          348,
          229,
          266,
          579,
          1684,
          3838,
          5011,
          5315,
          5358,
          5581,
          6060,
          6007,
          6573,
          6737,
          6753,
          7739,
          8562,
          7788,
          7247,
          7153,
          6374,
          3824,
          2069,
          970,
          530,
          309,
          321,
          622,
          1625,
          3807,
          5077,
          5397,
          5575,
          5881,
          6159,
          6289,
          6840,
          7037,
          7131,
          8172,
          9027,
          8419,
          7594,
          7703,
          7010,
          5194,
          3019,
          1744,
          1006,
          641,
          476,
          621,
          1566,
          3242,
          4028,
          4462,
          4920,
          5164,
          5461,
          5612,
          6287,
          6576,
          6531,
          7434,
          7937,
          7675,
          6060,
          6073,
          6516,
          6076,
          5211,
          4448,
          2952,
          1906,
          988,
          493,
          755,
          1277,
          2319,
          3736,
          4995,
          5794,
          6606,
          6579,
          6525,
          6381,
          6215,
          6611,
          6790,
          6933,
          5327,
          5524,
          6347,
          5931,
          4945,
          4050,
          2934,
          1991,
          1084,
          521,
          754,
          1270,
          2073,
          3464,
          4332,
          5019,
          5646,
          5899,
          6312,
          5992,
          6182,
          6168,
          5912,
          5191,
          4842,
          4773,
          3562,
          2345,
          1328,
          659,
          357,
          223,
          332,
          644,
          1713,
          3489,
          4597,
          4772,
          4772,
          5007,
          5238,
          5342,
          5851,
          6095,
          6487,
          7116,
          7217,
          6083,
          5644,
          5590,
          4230,
          2782,
          1358,
          521,
          305,
          193,
          226,
          533,
          1622,
          3893,
          5114,
          5191,
          5138,
          5560,
          5776,
          5815,
          6571,
          6435,
          6567,
          7801,
          8634,
          7653,
          7298,
          7077,
          5724,
          3620,
          1716,
          759,
          390,
          255,
          282,
          613,
          1600,
          3769,
          5017,
          5265,
          5101,
          5756,
          5891,
          6117,
          7224,
          7041,
          6944,
          7881,
          8490,
          7526,
          7292,
          7561,
          6477,
          3902,
          2097,
          1001,
          581,
          366,
          321,
          609,
          1650,
          3741,
          5020,
          5309,
          5445,
          5560,
          5978,
          6320,
          6826,
          7122,
          7548,
          8489,
          9339,
          8201,
          7830,
          7844,
          6909,
          5582,
          3582,
          2049,
          1071,
          639,
          493,
          719,
          1718,
          3673,
          4585,
          5168,
          4955,
          5594,
          5411,
          5582,
          7068,
          7615,
          7174,
          8275,
          8161,
          7797,
          5785,
          5737,
          6090,
          6113,
          5297,
          4370,
          3223,
          1937,
          1009,
          517,
          790,
          1472,
          2392,
          3424,
          4663,
          5297,
          6165,
          6332,
          6187,
          6172,
          6650,
          7063,
          7408,
          7698,
          6200,
          6048,
          6776,
          6890,
          6007,
          4924,
          3838,
          2531,
          1334,
          529,
          813,
          1421,
          2083,
          3339,
          4687,
          5276,
          5953,
          6209,
          6654,
          6459,
          6596,
          6423,
          5862,
          5354,
          5045,
          4229,
          3382,
          2569,
          1368,
          494,
          305,
          238,
          244,
          714,
          1657,
          3687,
          4530,
          4688,
          4743,
          4924,
          5366,
          5196,
          5897,
          6286,
          6256,
          6776,
          7063,
          6049,
          5724,
          5298,
          4019,
          2726,
          1265,
          477,
          317,
          218,
          251,
          711,
          1631,
          3825,
          5085,
          5336,
          5219,
          5357,
          5634,
          5773,
          6466,
          6525,
          6546,
          7575,
          8184,
          7071,
          7178,
          6972,
          5700,
          3444,
          1690,
          583,
          373,
          227,
          250,
          619,
          1546,
          3933,
          5198,
          5365,
          5365,
          5696,
          6035,
          6119,
          6649,
          6892,
          6747,
          8045,
          8796,
          7829,
          7219,
          7271,
          6482,
          4064,
          2156,
          1072,
          568,
          355,
          371,
          708,
          1718,
          3814,
          5041,
          5368,
          5435,
          5859,
          6126,
          6286,
          6990,
          7103,
          7294,
          8388,
          9483,
          8595,
          7909,
          7832,
          7296,
          5949,
          3670,
          2194,
          1316,
          912,
          585,
          735,
          1526,
          3201,
          4295,
          4732,
          5037,
          5468,
          5810,
          5922,
          6748,
          6966,
          6906,
          7658,
          8515,
          8214,
          6979,
          6757,
          7233,
          6623,
          5530,
          5024,
          4117,
          2906,
          1606,
          626,
          895,
          1307,
          2310,
          3553,
          4481,
          5300,
          6015,
          6248,
          6277,
          6738,
          6849,
          7283,
          7410,
          7275,
          6676,
          6615,
          6766,
          6498,
          5487,
          5087,
          4422,
          3333,
          1902,
          777,
          751,
          1170,
          2025,
          3032,
          4306,
          5510,
          6550,
          6670,
          6087,
          6442,
          5721,
          5563,
          5287,
          4513,
          4223,
          3808,
          2973,
          2062,
          1198,
          650,
          314,
          202,
          312,
          683,
          1814,
          3363,
          4331,
          4468,
          4418,
          4481,
          4858,
          4999,
          5667,
          5949,
          5864,
          6675,
          7100,
          6463,
          5811,
          5358,
          3979,
          2509,
          1193,
          547,
          286,
          196,
          215,
          604,
          1637,
          3505,
          4604,
          4927,
          4808,
          4964,
          5467,
          5564,
          6322,
          6682,
          6540,
          6746,
          6879,
          5958,
          5485,
          5083,
          4423,
          3363,
          2213,
          1390,
          1043,
          720,
          547,
          683,
          1655,
          3934,
          5586,
          5583,
          5549,
          5784,
          5931,
          6052,
          6567,
          6622,
          6950,
          8132,
          8953,
          8011,
          7722,
          7805,
          6655,
          3721,
          1950,
          799,
          477,
          270,
          251,
          597,
          1572,
          3891,
          5197,
          5433,
          5418,
          5797,
          6200,
          6146,
          7029,
          7361,
          7132,
          8384,
          9426,
          8107,
          7888,
          8160,
          7633,
          5154,
          3036,
          1648,
          931,
          569,
          410,
          585,
          1477,
          3096,
          4193,
          4694,
          5210,
          5550,
          5783,
          5802,
          6778,
          7008,
          7334,
          8305,
          8972,
          7735,
          6398,
          6578,
          7039,
          6143,
          5375,
          4386,
          3117,
          1935,
          933,
          437,
          830,
          1440,
          2490,
          3748,
          4706,
          5857,
          6669,
          6519,
          6457,
          6932,
          7095,
          7299,
          7368,
          7064,
          5915,
          5969,
          6398,
          6452,
          5426,
          7733,
          2092,
          1225,
          772,
          899,
          1005,
          1472,
          2016,
          2970,
          3811,
          4686,
          5290,
          5698,
          6177,
          6212,
          6531,
          6355,
          6340,
          5843,
          5482,
          4608,
          3678,
          2696,
          1148,
          504,
          329,
          237,
          339,
          717,
          1852,
          3475,
          4416,
          4645,
          4900,
          5010,
          5319,
          5721,
          6073,
          6383,
          6471,
          7157,
          7440,
          6152,
          5462,
          5492,
          4353,
          2816,
          1458,
          549,
          271,
          197,
          298,
          624,
          1746,
          3559,
          4591,
          5149,
          5155,
          5551,
          5876,
          5991,
          6571,
          6621,
          6657,
          7563,
          8302,
          6882,
          6640,
          7035,
          5948,
          3396,
          1482,
          635,
          347,
          229,
          259,
          627,
          1759,
          3972,
          5297,
          5455,
          5468,
          5771,
          6211,
          6215,
          6769,
          7243,
          7215,
          8212,
          8943,
          8192,
          7538,
          7893,
          6970,
          4469,
          2075,
          929,
          557,
          386,
          363,
          709,
          1694,
          3921,
          5109,
          5498,
          5666,
          5951,
          6383,
          6462,
          6856,
          7125,
          7227,
          8151,
          9130,
          7955,
          7830,
          8124,
          7612,
          5778,
          3534,
          1922,
          1124,
          669,
          516,
          699,
          1571,
          3079,
          4185,
          4798,
          5317,
          5698,
          5899,
          6508,
          7047,
          7406,
          7241,
          7872,
          8278,
          7632,
          6425,
          6833,
          7365,
          6509,
          5673,
          4721,
          3562,
          2249,
          1025,
          471,
          746,
          1300,
          2333,
          3535,
          4509,
          5267,
          5671,
          6031,
          6120,
          7049,
          7078,
          7138,
          7599,
          7550,
          6004,
          6450,
          6895,
          6577,
          5718,
          4720,
          3610,
          2433,
          1344,
          533,
          827,
          1299,
          2079,
          3369,
          4642,
          5274,
          5751,
          6164,
          6391,
          6587,
          6657,
          6456,
          6023,
          5037,
          4659,
          4339,
          3688,
          2309,
          1147,
          531,
          277,
          266,
          289,
          615,
          1733,
          3407,
          4534,
          4912,
          4927,
          5366,
          5577,
          5744,
          6284,
          6650,
          6442,
          7007,
          7324,
          5938,
          5818,
          5541,
          4287,
          2493,
          1295,
          553,
          276,
          173,
          245,
          761,
          1851,
          3891,
          5236,
          5390,
          5495,
          5465,
          5755,
          5914,
          6512,
          6837,
          6726,
          7767,
          8422,
          7468,
          7126,
          7485,
          6480,
          3954,
          1683,
          725,
          417,
          272,
          269,
          573,
          1735,
          4070,
          5342,
          5464,
          5523,
          5744,
          6044,
          6298,
          6771,
          6982,
          6923,
          8166,
          8782,
          7935,
          7894,
          8012,
          7198,
          4378,
          2278,
          1036,
          551,
          389,
          389,
          626,
          1708,
          4027,
          5518,
          5547,
          5555,
          5731,
          6207,
          6421,
          6967,
          7361,
          7262,
          8603,
          9459,
          8279,
          7888,
          8212,
          7643,
          5820,
          3523,
          1840,
          1074,
          680,
          548,
          675,
          1606,
          3434,
          4292,
          4770,
          5026,
          5344,
          5746,
          6026,
          6782,
          7114,
          6842,
          7818,
          8259,
          7555,
          6106,
          6270,
          6675,
          6352,
          5615,
          4707,
          3384,
          2257,
          1158,
          560,
          944,
          1425,
          2367,
          3681,
          4839,
          5460,
          6049,
          6503,
          6501,
          7036,
          7444,
          7654,
          7738,
          7563,
          6050,
          6459,
          6752,
          6917,
          5756,
          4487,
          3397,
          2287,
          1224,
          477,
          815,
          1312,
          1947,
          3287,
          4450,
          5077,
          5741,
          5724,
          6017,
          6131,
          6113,
          5915,
          5490,
          4785,
          4234,
          3945,
          3064,
          2093,
          1031,
          561,
          297,
          218,
          294,
          592,
          1561,
          3330,
          4311,
          4721,
          4725,
          5081,
          5328,
          5718,
          6275,
          6640,
          6444,
          6791,
          6953,
          5890,
          5292,
          5174,
          3776,
          2477,
          1285,
          583,
          319,
          176,
          257,
          568,
          1506,
          3444,
          4546,
          5076,
          5297,
          5611,
          5895,
          6646,
          7244,
          7244,
          6826,
          7079,
          7595,
          6784,
          5532,
          5561,
          4327,
          2790,
          1420,
          693,
          312,
          218,
          306,
          593,
          1313,
          2521,
          3488,
          4111,
          4705,
          5094,
          5582,
          5978,
          6350,
          6396,
          6155,
          5809,
          5477,
          4723,
          3954,
          4055,
          3633,
          2920,
          2098,
          1498,
          1078,
          810,
          576,
          491,
          927,
          1288,
          1646,
          2036,
          2465,
          3034,
          3293,
          3649,
          3860,
          4149,
          3844,
          3511,
          3344,
          3522,
          3480,
          3496,
          2733,
          1700,
          913,
          490,
          332,
          225,
          214,
          291,
          573,
          1017,
          1678,
          2496,
          3246,
          3931,
          4406,
          4842,
          5268,
          5518,
          5494,
          5433,
          5722,
          5090,
          4424,
          4431,
          4485,
          3306,
          2092,
          1448,
          1093,
          893,
          581,
          321,
          659,
          925,
          1678,
          2561,
          3766,
          4344,
          5311,
          5311,
          5514,
          5736,
          5845,
          5730,
          5924,
          5536,
          4777,
          4761,
          5022,
          4246,
          3155,
          2225,
          1708,
          1258,
          823,
          414,
          684,
          1179,
          1775,
          2709,
          3517,
          4038,
          4857,
          5219,
          6070,
          6286,
          5646,
          5615,
          5211,
          4422,
          4296,
          3923,
          3021,
          1897,
          1282,
          795,
          392,
          221,
          238,
          542,
          1445,
          3265,
          4453,
          4432,
          4582,
          4845,
          5229,
          5516,
          6050,
          6327,
          5922,
          6429,
          6701,
          5794,
          5321,
          5396,
          3912,
          2520,
          1282,
          483,
          290,
          184,
          201,
          582,
          1560,
          3711,
          5071,
          5522,
          5494,
          5522,
          5967,
          6160,
          6571,
          7018,
          7979,
          9217,
          8932,
          7245,
          7054,
          7235,
          6120,
          3625,
          1655,
          764,
          302,
          241,
          258,
          540,
          1626,
          3838,
          5219,
          5377,
          5334,
          5640,
          5658,
          5661,
          6249,
          6667,
          6339,
          7446,
          7762,
          6973,
          6680,
          6963,
          6290,
          4183,
          2202,
          930,
          476,
          322,
          307,
          629,
          1692,
          3726,
          5132,
          5315,
          5526,
          5553,
          5941,
          5850,
          6653,
          6816,
          6783,
          8127,
          9024,
          7728,
          7425,
          7576,
          7309,
          5776,
          3827,
          1897,
          1220,
          668,
          496,
          595,
          1426,
          3284,
          4327,
          4894,
          5290,
          5576,
          6498,
          6237,
          6550,
          6887,
          7365,
          8829,
          10106,
          9001,
          7081,
          5678,
          6502,
          6447,
          5910,
          4917,
          3527,
          2158,
          967,
          411,
          779,
          1343,
          2338,
          3742,
          4971,
          5700,
          6379,
          6657,
          6711,
          7011,
          6750,
          6930,
          7025,
          7172,
          5719,
          6053,
          6650,
          7073,
          5977,
          5257,
          3962,
          2601,
          1364,
          515,
          718,
          1165,
          2058,
          3565,
          4964,
          5610,
          6334,
          6540,
          6316,
          6548,
          6146,
          5788,
          5781,
          5411,
          4548,
          4275,
          3168,
          2194,
          1015,
          515,
          284,
          226,
          325,
          598,
          1584,
          3536,
          4657,
          4870,
          4948,
          5063,
          5422,
          5733,
          6392,
          6476,
          6139,
          6665,
          7041,
          6429,
          6063,
          6017,
          4916,
          2644,
          1266,
          480,
          271,
          190,
          246,
          553,
          1628,
          3862,
          5320,
          5523,
          5430,
          5811,
          6219,
          6339,
          7022,
          7099,
          6985,
          7814,
          8598,
          7543,
          7598,
          7940,
          6995,
          4764,
          2224,
          840,
          434,
          254,
          277,
          562,
          1597,
          4256,
          5645,
          5652,
          5559,
          5730,
          6270,
          6416,
          7109,
          7444,
          7270,
          8519,
          8954,
          8239,
          8248,
          8789,
          7721,
          5634,
          3092,
          1448,
          701,
          415,
          362,
          582,
          1647,
          4147,
          5617,
          5895,
          6455,
          6215,
          6480,
          6680,
          7045,
          7303,
          7050,
          8046,
          8787,
          7884,
          7672,
          8011,
          7926,
          6691,
          4252,
          2491,
          1348,
          800,
          500,
          619,
          1507,
          3311,
          4439,
          4836,
          5311,
          5784,
          5859,
          6051,
          6989,
          7354,
          7034,
          8015,
          9060,
          7626,
          6850,
          7038,
          7247,
          6732,
          6523,
          4902,
          3323,
          2175,
          1063,
          398,
          725,
          1465,
          2563,
          3889,
          5048,
          5990,
          6779,
          6970,
          7215,
          7600,
          7494,
          7565,
          7466,
          7960,
          6779,
          6079,
          6873,
          7046,
          5321,
          4908,
          3965,
          2387,
          1301,
          538,
          725,
          1265,
          2075,
          3456,
          4762,
          5704,
          7099,
          7004,
          6711,
          6212,
          5720,
          5518,
          5222,
          4600,
          4773,
          4095,
          3107,
          2285,
          1238,
          683,
          322,
          202,
          279,
          638,
          1771,
          3826,
          4227,
          4827,
          5098,
          5246,
          5539,
          5722,
          6406,
          6690,
          6470,
          7166,
          7619,
          6694,
          6131,
          6181,
          5329,
          3271,
          1964,
          792,
          334,
          210,
          275,
          572,
          1549,
          3695,
          5289,
          5622,
          5566,
          5862,
          6006,
          6053,
          6843,
          7287,
          6948,
          7635,
          8890,
          7837,
          7570,
          8352,
          6435,
          4736,
          2449,
          1048,
          454,
          286,
          334,
          597,
          1633,
          3935,
          5203,
          5481,
          5572,
          5898,
          6120,
          6254,
          6933,
          7236,
          7377,
          8937,
          9233,
          8631,
          8427,
          8375,
          8066,
          6131,
          3209,
          1742,
          816,
          466,
          381,
          643,
          1680,
          3975,
          5644,
          5944,
          5994,
          6138,
          6541,
          6364,
          7220,
          7560,
          7578,
          8889,
          9937,
          8774,
          8160,
          8881,
          7839,
          6041,
          5343,
          3321,
          1661,
          923,
          557,
          710,
          1701,
          3648,
          4321,
          4925,
          5276,
          5664,
          5825,
          6288,
          6867,
          7475,
          7441,
          8366,
          8777,
          8675,
          7073,
          7226,
          7471,
          7756,
          5881,
          5018,
          3874,
          2378,
          1183,
          493,
          790,
          1239,
          2344,
          3689,
          4794,
          5706,
          6392,
          6646,
          7025,
          7451,
          6968,
          7391,
          7811,
          7197,
          6481,
          6607,
          6672,
          6448,
          6396,
          5394,
          3874,
          2713,
          1495,
          511,
          660,
          1142,
          1962,
          3303,
          4576,
          5141,
          5952,
          6871,
          6160,
          5815,
          5915,
          5474,
          5376,
          4855,
          4226,
          3871,
          3300,
          2262,
          1346,
          627,
          288,
          196,
          273,
          541,
          1406,
          3016,
          4078,
          4247,
          4803,
          5359,
          5871,
          5701,
          5736,
          6073,
          5940,
          6518,
          6701,
          5763,
          5496,
          5287,
          4053,
          2924,
          1578,
          747,
          391,
          257,
          306,
          600,
          1466,
          3667,
          4578,
          5181,
          5467,
          5798,
          6221,
          6275,
          7040,
          7251,
          7320,
          7893,
          7951,
          7425,
          6705,
          6744,
          5882,
          4720,
          2217,
          973,
          452,
          295,
          340,
          608,
          1446,
          3165,
          4624,
          5148,
          5555,
          5899,
          6168,
          6151,
          6655,
          7053,
          6782,
          7547,
          8259,
          6894,
          6085,
          6488,
          5869,
          3753,
          2229,
          1151,
          684,
          480,
          400,
          538,
          1384,
          3021,
          4038,
          4766,
          5345,
          5861,
          6394,
          6490,
          6934,
          7285,
          7120,
          7428,
          7471,
          6717,
          6271,
          6302,
          5404,
          4160,
          3012,
          1577,
          944,
          647,
          489,
          538,
          1164,
          2379,
          3489,
          4172,
          5046,
          5493,
          6049,
          5947,
          6518,
          7305,
          6998,
          6878,
          6496,
          5800,
          4671,
          4781,
          4778,
          3921,
          2739,
          1865,
          1394,
          978,
          667,
          360,
          580,
          955,
          1660,
          2693,
          3638,
          4508,
          5089,
          5290,
          5440,
          5747,
          5485,
          5335,
          5002,
          4400,
          3788,
          3604,
          3876,
          2797,
          1942,
          1331,
          851,
          660,
          533,
          293,
          483,
          822,
          1466,
          2150,
          2863,
          3487,
          4025,
          4158,
          4338,
          4628,
          4502,
          4347,
          3844,
          3401,
          3144,
          3027,
          2509,
          1981,
          1331,
          811,
          372,
          254,
          181,
          162,
          389,
          555,
          847,
          1275,
          1779,
          2302,
          2722,
          2892,
          3072,
          3238,
          3006,
          2803,
          2626,
          2454,
          2502,
          2358,
          2001,
          1454,
          794,
          306,
          202,
          147,
          166,
          332,
          760,
          1241,
          1781,
          2457,
          3337,
          3785,
          4395,
          4696,
          4797,
          5099,
          5130,
          4823,
          4373,
          4020,
          3610,
          3513,
          3016,
          2062,
          1346,
          791,
          347,
          222,
          216,
          422,
          985,
          1513,
          2397,
          3241,
          4133,
          4524,
          4821,
          5118,
          5369,
          5836,
          5519,
          5242,
          5504,
          4536,
          3988,
          4418,
          3975,
          2514,
          1555,
          927,
          474,
          302,
          242,
          409,
          965,
          1450,
          2445,
          3392,
          4087,
          4536,
          4973,
          5305,
          5919,
          6284,
          5737,
          5792,
          5244,
          4750,
          4197,
          4278,
          3906,
          3045,
          2200,
          1342,
          801,
          580,
          411,
          429,
          863,
          1371,
          2193,
          3048,
          3671,
          4375,
          4699,
          5128,
          5597,
          5878,
          5866,
          5567,
          5412,
          5053,
          4791,
          4274,
          4221,
          3786,
          3135,
          2252,
          1639,
          1193,
          696,
          321,
          680,
          914,
          1508,
          2458,
          3289,
          4026,
          4490,
          4914,
          5406,
          5449,
          5392,
          5107,
          4954,
          4676,
          4084,
          3855,
          4029,
          3924,
          3223,
          2067,
          1516,
          1045,
          632,
          325,
          591,
          884,
          1259,
          2053,
          2622,
          3193,
          3746,
          4255,
          4168,
          4363,
          4415,
          4236,
          4088,
          4564,
          4386,
          4113,
          3723,
          2716
         ],
         "yaxis": "y"
        }
       ],
       "layout": {
        "legend": {
         "tracegroupgap": 0
        },
        "template": {
         "data": {
          "bar": [
           {
            "error_x": {
             "color": "#2a3f5f"
            },
            "error_y": {
             "color": "#2a3f5f"
            },
            "marker": {
             "line": {
              "color": "#E5ECF6",
              "width": 0.5
             },
             "pattern": {
              "fillmode": "overlay",
              "size": 10,
              "solidity": 0.2
             }
            },
            "type": "bar"
           }
          ],
          "barpolar": [
           {
            "marker": {
             "line": {
              "color": "#E5ECF6",
              "width": 0.5
             },
             "pattern": {
              "fillmode": "overlay",
              "size": 10,
              "solidity": 0.2
             }
            },
            "type": "barpolar"
           }
          ],
          "carpet": [
           {
            "aaxis": {
             "endlinecolor": "#2a3f5f",
             "gridcolor": "white",
             "linecolor": "white",
             "minorgridcolor": "white",
             "startlinecolor": "#2a3f5f"
            },
            "baxis": {
             "endlinecolor": "#2a3f5f",
             "gridcolor": "white",
             "linecolor": "white",
             "minorgridcolor": "white",
             "startlinecolor": "#2a3f5f"
            },
            "type": "carpet"
           }
          ],
          "choropleth": [
           {
            "colorbar": {
             "outlinewidth": 0,
             "ticks": ""
            },
            "type": "choropleth"
           }
          ],
          "contour": [
           {
            "colorbar": {
             "outlinewidth": 0,
             "ticks": ""
            },
            "colorscale": [
             [
              0,
              "#0d0887"
             ],
             [
              0.1111111111111111,
              "#46039f"
             ],
             [
              0.2222222222222222,
              "#7201a8"
             ],
             [
              0.3333333333333333,
              "#9c179e"
             ],
             [
              0.4444444444444444,
              "#bd3786"
             ],
             [
              0.5555555555555556,
              "#d8576b"
             ],
             [
              0.6666666666666666,
              "#ed7953"
             ],
             [
              0.7777777777777778,
              "#fb9f3a"
             ],
             [
              0.8888888888888888,
              "#fdca26"
             ],
             [
              1,
              "#f0f921"
             ]
            ],
            "type": "contour"
           }
          ],
          "contourcarpet": [
           {
            "colorbar": {
             "outlinewidth": 0,
             "ticks": ""
            },
            "type": "contourcarpet"
           }
          ],
          "heatmap": [
           {
            "colorbar": {
             "outlinewidth": 0,
             "ticks": ""
            },
            "colorscale": [
             [
              0,
              "#0d0887"
             ],
             [
              0.1111111111111111,
              "#46039f"
             ],
             [
              0.2222222222222222,
              "#7201a8"
             ],
             [
              0.3333333333333333,
              "#9c179e"
             ],
             [
              0.4444444444444444,
              "#bd3786"
             ],
             [
              0.5555555555555556,
              "#d8576b"
             ],
             [
              0.6666666666666666,
              "#ed7953"
             ],
             [
              0.7777777777777778,
              "#fb9f3a"
             ],
             [
              0.8888888888888888,
              "#fdca26"
             ],
             [
              1,
              "#f0f921"
             ]
            ],
            "type": "heatmap"
           }
          ],
          "heatmapgl": [
           {
            "colorbar": {
             "outlinewidth": 0,
             "ticks": ""
            },
            "colorscale": [
             [
              0,
              "#0d0887"
             ],
             [
              0.1111111111111111,
              "#46039f"
             ],
             [
              0.2222222222222222,
              "#7201a8"
             ],
             [
              0.3333333333333333,
              "#9c179e"
             ],
             [
              0.4444444444444444,
              "#bd3786"
             ],
             [
              0.5555555555555556,
              "#d8576b"
             ],
             [
              0.6666666666666666,
              "#ed7953"
             ],
             [
              0.7777777777777778,
              "#fb9f3a"
             ],
             [
              0.8888888888888888,
              "#fdca26"
             ],
             [
              1,
              "#f0f921"
             ]
            ],
            "type": "heatmapgl"
           }
          ],
          "histogram": [
           {
            "marker": {
             "pattern": {
              "fillmode": "overlay",
              "size": 10,
              "solidity": 0.2
             }
            },
            "type": "histogram"
           }
          ],
          "histogram2d": [
           {
            "colorbar": {
             "outlinewidth": 0,
             "ticks": ""
            },
            "colorscale": [
             [
              0,
              "#0d0887"
             ],
             [
              0.1111111111111111,
              "#46039f"
             ],
             [
              0.2222222222222222,
              "#7201a8"
             ],
             [
              0.3333333333333333,
              "#9c179e"
             ],
             [
              0.4444444444444444,
              "#bd3786"
             ],
             [
              0.5555555555555556,
              "#d8576b"
             ],
             [
              0.6666666666666666,
              "#ed7953"
             ],
             [
              0.7777777777777778,
              "#fb9f3a"
             ],
             [
              0.8888888888888888,
              "#fdca26"
             ],
             [
              1,
              "#f0f921"
             ]
            ],
            "type": "histogram2d"
           }
          ],
          "histogram2dcontour": [
           {
            "colorbar": {
             "outlinewidth": 0,
             "ticks": ""
            },
            "colorscale": [
             [
              0,
              "#0d0887"
             ],
             [
              0.1111111111111111,
              "#46039f"
             ],
             [
              0.2222222222222222,
              "#7201a8"
             ],
             [
              0.3333333333333333,
              "#9c179e"
             ],
             [
              0.4444444444444444,
              "#bd3786"
             ],
             [
              0.5555555555555556,
              "#d8576b"
             ],
             [
              0.6666666666666666,
              "#ed7953"
             ],
             [
              0.7777777777777778,
              "#fb9f3a"
             ],
             [
              0.8888888888888888,
              "#fdca26"
             ],
             [
              1,
              "#f0f921"
             ]
            ],
            "type": "histogram2dcontour"
           }
          ],
          "mesh3d": [
           {
            "colorbar": {
             "outlinewidth": 0,
             "ticks": ""
            },
            "type": "mesh3d"
           }
          ],
          "parcoords": [
           {
            "line": {
             "colorbar": {
              "outlinewidth": 0,
              "ticks": ""
             }
            },
            "type": "parcoords"
           }
          ],
          "pie": [
           {
            "automargin": true,
            "type": "pie"
           }
          ],
          "scatter": [
           {
            "fillpattern": {
             "fillmode": "overlay",
             "size": 10,
             "solidity": 0.2
            },
            "type": "scatter"
           }
          ],
          "scatter3d": [
           {
            "line": {
             "colorbar": {
              "outlinewidth": 0,
              "ticks": ""
             }
            },
            "marker": {
             "colorbar": {
              "outlinewidth": 0,
              "ticks": ""
             }
            },
            "type": "scatter3d"
           }
          ],
          "scattercarpet": [
           {
            "marker": {
             "colorbar": {
              "outlinewidth": 0,
              "ticks": ""
             }
            },
            "type": "scattercarpet"
           }
          ],
          "scattergeo": [
           {
            "marker": {
             "colorbar": {
              "outlinewidth": 0,
              "ticks": ""
             }
            },
            "type": "scattergeo"
           }
          ],
          "scattergl": [
           {
            "marker": {
             "colorbar": {
              "outlinewidth": 0,
              "ticks": ""
             }
            },
            "type": "scattergl"
           }
          ],
          "scattermapbox": [
           {
            "marker": {
             "colorbar": {
              "outlinewidth": 0,
              "ticks": ""
             }
            },
            "type": "scattermapbox"
           }
          ],
          "scatterpolar": [
           {
            "marker": {
             "colorbar": {
              "outlinewidth": 0,
              "ticks": ""
             }
            },
            "type": "scatterpolar"
           }
          ],
          "scatterpolargl": [
           {
            "marker": {
             "colorbar": {
              "outlinewidth": 0,
              "ticks": ""
             }
            },
            "type": "scatterpolargl"
           }
          ],
          "scatterternary": [
           {
            "marker": {
             "colorbar": {
              "outlinewidth": 0,
              "ticks": ""
             }
            },
            "type": "scatterternary"
           }
          ],
          "surface": [
           {
            "colorbar": {
             "outlinewidth": 0,
             "ticks": ""
            },
            "colorscale": [
             [
              0,
              "#0d0887"
             ],
             [
              0.1111111111111111,
              "#46039f"
             ],
             [
              0.2222222222222222,
              "#7201a8"
             ],
             [
              0.3333333333333333,
              "#9c179e"
             ],
             [
              0.4444444444444444,
              "#bd3786"
             ],
             [
              0.5555555555555556,
              "#d8576b"
             ],
             [
              0.6666666666666666,
              "#ed7953"
             ],
             [
              0.7777777777777778,
              "#fb9f3a"
             ],
             [
              0.8888888888888888,
              "#fdca26"
             ],
             [
              1,
              "#f0f921"
             ]
            ],
            "type": "surface"
           }
          ],
          "table": [
           {
            "cells": {
             "fill": {
              "color": "#EBF0F8"
             },
             "line": {
              "color": "white"
             }
            },
            "header": {
             "fill": {
              "color": "#C8D4E3"
             },
             "line": {
              "color": "white"
             }
            },
            "type": "table"
           }
          ]
         },
         "layout": {
          "annotationdefaults": {
           "arrowcolor": "#2a3f5f",
           "arrowhead": 0,
           "arrowwidth": 1
          },
          "autotypenumbers": "strict",
          "coloraxis": {
           "colorbar": {
            "outlinewidth": 0,
            "ticks": ""
           }
          },
          "colorscale": {
           "diverging": [
            [
             0,
             "#8e0152"
            ],
            [
             0.1,
             "#c51b7d"
            ],
            [
             0.2,
             "#de77ae"
            ],
            [
             0.3,
             "#f1b6da"
            ],
            [
             0.4,
             "#fde0ef"
            ],
            [
             0.5,
             "#f7f7f7"
            ],
            [
             0.6,
             "#e6f5d0"
            ],
            [
             0.7,
             "#b8e186"
            ],
            [
             0.8,
             "#7fbc41"
            ],
            [
             0.9,
             "#4d9221"
            ],
            [
             1,
             "#276419"
            ]
           ],
           "sequential": [
            [
             0,
             "#0d0887"
            ],
            [
             0.1111111111111111,
             "#46039f"
            ],
            [
             0.2222222222222222,
             "#7201a8"
            ],
            [
             0.3333333333333333,
             "#9c179e"
            ],
            [
             0.4444444444444444,
             "#bd3786"
            ],
            [
             0.5555555555555556,
             "#d8576b"
            ],
            [
             0.6666666666666666,
             "#ed7953"
            ],
            [
             0.7777777777777778,
             "#fb9f3a"
            ],
            [
             0.8888888888888888,
             "#fdca26"
            ],
            [
             1,
             "#f0f921"
            ]
           ],
           "sequentialminus": [
            [
             0,
             "#0d0887"
            ],
            [
             0.1111111111111111,
             "#46039f"
            ],
            [
             0.2222222222222222,
             "#7201a8"
            ],
            [
             0.3333333333333333,
             "#9c179e"
            ],
            [
             0.4444444444444444,
             "#bd3786"
            ],
            [
             0.5555555555555556,
             "#d8576b"
            ],
            [
             0.6666666666666666,
             "#ed7953"
            ],
            [
             0.7777777777777778,
             "#fb9f3a"
            ],
            [
             0.8888888888888888,
             "#fdca26"
            ],
            [
             1,
             "#f0f921"
            ]
           ]
          },
          "colorway": [
           "#636efa",
           "#EF553B",
           "#00cc96",
           "#ab63fa",
           "#FFA15A",
           "#19d3f3",
           "#FF6692",
           "#B6E880",
           "#FF97FF",
           "#FECB52"
          ],
          "font": {
           "color": "#2a3f5f"
          },
          "geo": {
           "bgcolor": "white",
           "lakecolor": "white",
           "landcolor": "#E5ECF6",
           "showlakes": true,
           "showland": true,
           "subunitcolor": "white"
          },
          "hoverlabel": {
           "align": "left"
          },
          "hovermode": "closest",
          "mapbox": {
           "style": "light"
          },
          "paper_bgcolor": "white",
          "plot_bgcolor": "#E5ECF6",
          "polar": {
           "angularaxis": {
            "gridcolor": "white",
            "linecolor": "white",
            "ticks": ""
           },
           "bgcolor": "#E5ECF6",
           "radialaxis": {
            "gridcolor": "white",
            "linecolor": "white",
            "ticks": ""
           }
          },
          "scene": {
           "xaxis": {
            "backgroundcolor": "#E5ECF6",
            "gridcolor": "white",
            "gridwidth": 2,
            "linecolor": "white",
            "showbackground": true,
            "ticks": "",
            "zerolinecolor": "white"
           },
           "yaxis": {
            "backgroundcolor": "#E5ECF6",
            "gridcolor": "white",
            "gridwidth": 2,
            "linecolor": "white",
            "showbackground": true,
            "ticks": "",
            "zerolinecolor": "white"
           },
           "zaxis": {
            "backgroundcolor": "#E5ECF6",
            "gridcolor": "white",
            "gridwidth": 2,
            "linecolor": "white",
            "showbackground": true,
            "ticks": "",
            "zerolinecolor": "white"
           }
          },
          "shapedefaults": {
           "line": {
            "color": "#2a3f5f"
           }
          },
          "ternary": {
           "aaxis": {
            "gridcolor": "white",
            "linecolor": "white",
            "ticks": ""
           },
           "baxis": {
            "gridcolor": "white",
            "linecolor": "white",
            "ticks": ""
           },
           "bgcolor": "#E5ECF6",
           "caxis": {
            "gridcolor": "white",
            "linecolor": "white",
            "ticks": ""
           }
          },
          "title": {
           "x": 0.05
          },
          "xaxis": {
           "automargin": true,
           "gridcolor": "white",
           "linecolor": "white",
           "ticks": "",
           "title": {
            "standoff": 15
           },
           "zerolinecolor": "white",
           "zerolinewidth": 2
          },
          "yaxis": {
           "automargin": true,
           "gridcolor": "white",
           "linecolor": "white",
           "ticks": "",
           "title": {
            "standoff": 15
           },
           "zerolinecolor": "white",
           "zerolinewidth": 2
          }
         }
        },
        "title": {
         "text": "Tendances horaires des trajets en taxi"
        },
        "xaxis": {
         "anchor": "y",
         "domain": [
          0,
          1
         ],
         "title": {
          "text": "Heure de la journée"
         }
        },
        "yaxis": {
         "anchor": "x",
         "domain": [
          0,
          1
         ],
         "title": {
          "text": "Nombre total de trajets"
         }
        }
       }
      }
     },
     "metadata": {},
     "output_type": "display_data"
    }
   ],
   "source": [
    "# Analyse des tendances temporelles au fil des mois\n",
    "fig_monthly = px.line(df.resample('ME', on='tpep_pickup_datetime').sum(), \n",
    "                      x=df.resample('ME', on='tpep_pickup_datetime').sum().index, \n",
    "                      y='num_trips', \n",
    "                      title='Tendances mensuelles des trajets en taxi')\n",
    "fig_monthly.update_xaxes(title='Mois')\n",
    "fig_monthly.update_yaxes(title='Nombre total de trajets')\n",
    "\n",
    "# Analyse des tendances temporelles au fil des jours de la semaine\n",
    "fig_weekly = px.line(df.resample('D', on='tpep_pickup_datetime').sum(), \n",
    "                     x=df.resample('D', on='tpep_pickup_datetime').sum().index, \n",
    "                     y='num_trips', \n",
    "                     title='Tendances journalières des trajets en taxi')\n",
    "fig_weekly.update_xaxes(title='Jour de la semaine')\n",
    "fig_weekly.update_yaxes(title='Nombre total de trajets')\n",
    "\n",
    "# Analyse des tendances temporelles au fil des heures de la journée\n",
    "fig_hourly = px.line(df.resample('h', on='tpep_pickup_datetime').sum(), \n",
    "                     x=df.resample('h', on='tpep_pickup_datetime').sum().index, \n",
    "                     y='num_trips', \n",
    "                     title='Tendances horaires des trajets en taxi')\n",
    "fig_hourly.update_xaxes(title='Heure de la journée')\n",
    "fig_hourly.update_yaxes(title='Nombre total de trajets')\n",
    "\n",
    "# Affichage des résultats\n",
    "fig_monthly.show()\n",
    "fig_weekly.show()\n",
    "fig_hourly.show()\n"
   ]
  },
  {
   "cell_type": "code",
   "execution_count": 7,
   "metadata": {},
   "outputs": [
    {
     "data": {
      "text/html": [
       "<div>\n",
       "<style scoped>\n",
       "    .dataframe tbody tr th:only-of-type {\n",
       "        vertical-align: middle;\n",
       "    }\n",
       "\n",
       "    .dataframe tbody tr th {\n",
       "        vertical-align: top;\n",
       "    }\n",
       "\n",
       "    .dataframe thead th {\n",
       "        text-align: right;\n",
       "    }\n",
       "</style>\n",
       "<table border=\"1\" class=\"dataframe\">\n",
       "  <thead>\n",
       "    <tr style=\"text-align: right;\">\n",
       "      <th></th>\n",
       "      <th>month</th>\n",
       "      <th>num_trips</th>\n",
       "    </tr>\n",
       "  </thead>\n",
       "  <tbody>\n",
       "    <tr>\n",
       "      <th>0</th>\n",
       "      <td>1</td>\n",
       "      <td>2906641</td>\n",
       "    </tr>\n",
       "    <tr>\n",
       "      <th>1</th>\n",
       "      <td>2</td>\n",
       "      <td>2754749</td>\n",
       "    </tr>\n",
       "    <tr>\n",
       "      <th>2</th>\n",
       "      <td>3</td>\n",
       "      <td>3217068</td>\n",
       "    </tr>\n",
       "    <tr>\n",
       "      <th>3</th>\n",
       "      <td>4</td>\n",
       "      <td>3104611</td>\n",
       "    </tr>\n",
       "    <tr>\n",
       "      <th>4</th>\n",
       "      <td>5</td>\n",
       "      <td>3310158</td>\n",
       "    </tr>\n",
       "    <tr>\n",
       "      <th>5</th>\n",
       "      <td>6</td>\n",
       "      <td>3112723</td>\n",
       "    </tr>\n",
       "    <tr>\n",
       "      <th>6</th>\n",
       "      <td>7</td>\n",
       "      <td>2740824</td>\n",
       "    </tr>\n",
       "    <tr>\n",
       "      <th>7</th>\n",
       "      <td>8</td>\n",
       "      <td>2657120</td>\n",
       "    </tr>\n",
       "    <tr>\n",
       "      <th>8</th>\n",
       "      <td>9</td>\n",
       "      <td>2631427</td>\n",
       "    </tr>\n",
       "    <tr>\n",
       "      <th>9</th>\n",
       "      <td>10</td>\n",
       "      <td>3277334</td>\n",
       "    </tr>\n",
       "    <tr>\n",
       "      <th>10</th>\n",
       "      <td>11</td>\n",
       "      <td>3126074</td>\n",
       "    </tr>\n",
       "    <tr>\n",
       "      <th>11</th>\n",
       "      <td>12</td>\n",
       "      <td>3112179</td>\n",
       "    </tr>\n",
       "  </tbody>\n",
       "</table>\n",
       "</div>"
      ],
      "text/plain": [
       "    month  num_trips\n",
       "0       1    2906641\n",
       "1       2    2754749\n",
       "2       3    3217068\n",
       "3       4    3104611\n",
       "4       5    3310158\n",
       "5       6    3112723\n",
       "6       7    2740824\n",
       "7       8    2657120\n",
       "8       9    2631427\n",
       "9      10    3277334\n",
       "10     11    3126074\n",
       "11     12    3112179"
      ]
     },
     "execution_count": 7,
     "metadata": {},
     "output_type": "execute_result"
    }
   ],
   "source": [
    "# Extraire le mois à partir de tpep_pickup_datetime\n",
    "df['month'] = df['tpep_pickup_datetime'].dt.month\n",
    "\n",
    "# Agréger les données en fonction du mois\n",
    "df_monthly = df.groupby('month')['num_trips'].sum().reset_index()\n",
    "\n",
    "# Afficher la DataFrame résultante\n",
    "df_monthly"
   ]
  },
  {
   "cell_type": "code",
   "execution_count": 8,
   "metadata": {},
   "outputs": [
    {
     "data": {
      "application/vnd.plotly.v1+json": {
       "config": {
        "plotlyServerURL": "https://plot.ly"
       },
       "data": [
        {
         "alignmentgroup": "True",
         "hovertemplate": "Month=%{x}<br>num_trips=%{y}<extra></extra>",
         "legendgroup": "",
         "marker": {
          "color": "#636efa",
          "pattern": {
           "shape": ""
          }
         },
         "name": "",
         "offsetgroup": "",
         "orientation": "v",
         "showlegend": false,
         "textposition": "auto",
         "type": "bar",
         "x": [
          "January",
          "February",
          "March",
          "April",
          "May",
          "June",
          "July",
          "August",
          "September",
          "October",
          "November",
          "December"
         ],
         "xaxis": "x",
         "y": [
          2906641,
          2754749,
          3217068,
          3104611,
          3310158,
          3112723,
          2740824,
          2657120,
          2631427,
          3277334,
          3126074,
          3112179
         ],
         "yaxis": "y"
        }
       ],
       "layout": {
        "barmode": "relative",
        "legend": {
         "tracegroupgap": 0
        },
        "margin": {
         "t": 60
        },
        "template": {
         "data": {
          "bar": [
           {
            "error_x": {
             "color": "#2a3f5f"
            },
            "error_y": {
             "color": "#2a3f5f"
            },
            "marker": {
             "line": {
              "color": "#E5ECF6",
              "width": 0.5
             },
             "pattern": {
              "fillmode": "overlay",
              "size": 10,
              "solidity": 0.2
             }
            },
            "type": "bar"
           }
          ],
          "barpolar": [
           {
            "marker": {
             "line": {
              "color": "#E5ECF6",
              "width": 0.5
             },
             "pattern": {
              "fillmode": "overlay",
              "size": 10,
              "solidity": 0.2
             }
            },
            "type": "barpolar"
           }
          ],
          "carpet": [
           {
            "aaxis": {
             "endlinecolor": "#2a3f5f",
             "gridcolor": "white",
             "linecolor": "white",
             "minorgridcolor": "white",
             "startlinecolor": "#2a3f5f"
            },
            "baxis": {
             "endlinecolor": "#2a3f5f",
             "gridcolor": "white",
             "linecolor": "white",
             "minorgridcolor": "white",
             "startlinecolor": "#2a3f5f"
            },
            "type": "carpet"
           }
          ],
          "choropleth": [
           {
            "colorbar": {
             "outlinewidth": 0,
             "ticks": ""
            },
            "type": "choropleth"
           }
          ],
          "contour": [
           {
            "colorbar": {
             "outlinewidth": 0,
             "ticks": ""
            },
            "colorscale": [
             [
              0,
              "#0d0887"
             ],
             [
              0.1111111111111111,
              "#46039f"
             ],
             [
              0.2222222222222222,
              "#7201a8"
             ],
             [
              0.3333333333333333,
              "#9c179e"
             ],
             [
              0.4444444444444444,
              "#bd3786"
             ],
             [
              0.5555555555555556,
              "#d8576b"
             ],
             [
              0.6666666666666666,
              "#ed7953"
             ],
             [
              0.7777777777777778,
              "#fb9f3a"
             ],
             [
              0.8888888888888888,
              "#fdca26"
             ],
             [
              1,
              "#f0f921"
             ]
            ],
            "type": "contour"
           }
          ],
          "contourcarpet": [
           {
            "colorbar": {
             "outlinewidth": 0,
             "ticks": ""
            },
            "type": "contourcarpet"
           }
          ],
          "heatmap": [
           {
            "colorbar": {
             "outlinewidth": 0,
             "ticks": ""
            },
            "colorscale": [
             [
              0,
              "#0d0887"
             ],
             [
              0.1111111111111111,
              "#46039f"
             ],
             [
              0.2222222222222222,
              "#7201a8"
             ],
             [
              0.3333333333333333,
              "#9c179e"
             ],
             [
              0.4444444444444444,
              "#bd3786"
             ],
             [
              0.5555555555555556,
              "#d8576b"
             ],
             [
              0.6666666666666666,
              "#ed7953"
             ],
             [
              0.7777777777777778,
              "#fb9f3a"
             ],
             [
              0.8888888888888888,
              "#fdca26"
             ],
             [
              1,
              "#f0f921"
             ]
            ],
            "type": "heatmap"
           }
          ],
          "heatmapgl": [
           {
            "colorbar": {
             "outlinewidth": 0,
             "ticks": ""
            },
            "colorscale": [
             [
              0,
              "#0d0887"
             ],
             [
              0.1111111111111111,
              "#46039f"
             ],
             [
              0.2222222222222222,
              "#7201a8"
             ],
             [
              0.3333333333333333,
              "#9c179e"
             ],
             [
              0.4444444444444444,
              "#bd3786"
             ],
             [
              0.5555555555555556,
              "#d8576b"
             ],
             [
              0.6666666666666666,
              "#ed7953"
             ],
             [
              0.7777777777777778,
              "#fb9f3a"
             ],
             [
              0.8888888888888888,
              "#fdca26"
             ],
             [
              1,
              "#f0f921"
             ]
            ],
            "type": "heatmapgl"
           }
          ],
          "histogram": [
           {
            "marker": {
             "pattern": {
              "fillmode": "overlay",
              "size": 10,
              "solidity": 0.2
             }
            },
            "type": "histogram"
           }
          ],
          "histogram2d": [
           {
            "colorbar": {
             "outlinewidth": 0,
             "ticks": ""
            },
            "colorscale": [
             [
              0,
              "#0d0887"
             ],
             [
              0.1111111111111111,
              "#46039f"
             ],
             [
              0.2222222222222222,
              "#7201a8"
             ],
             [
              0.3333333333333333,
              "#9c179e"
             ],
             [
              0.4444444444444444,
              "#bd3786"
             ],
             [
              0.5555555555555556,
              "#d8576b"
             ],
             [
              0.6666666666666666,
              "#ed7953"
             ],
             [
              0.7777777777777778,
              "#fb9f3a"
             ],
             [
              0.8888888888888888,
              "#fdca26"
             ],
             [
              1,
              "#f0f921"
             ]
            ],
            "type": "histogram2d"
           }
          ],
          "histogram2dcontour": [
           {
            "colorbar": {
             "outlinewidth": 0,
             "ticks": ""
            },
            "colorscale": [
             [
              0,
              "#0d0887"
             ],
             [
              0.1111111111111111,
              "#46039f"
             ],
             [
              0.2222222222222222,
              "#7201a8"
             ],
             [
              0.3333333333333333,
              "#9c179e"
             ],
             [
              0.4444444444444444,
              "#bd3786"
             ],
             [
              0.5555555555555556,
              "#d8576b"
             ],
             [
              0.6666666666666666,
              "#ed7953"
             ],
             [
              0.7777777777777778,
              "#fb9f3a"
             ],
             [
              0.8888888888888888,
              "#fdca26"
             ],
             [
              1,
              "#f0f921"
             ]
            ],
            "type": "histogram2dcontour"
           }
          ],
          "mesh3d": [
           {
            "colorbar": {
             "outlinewidth": 0,
             "ticks": ""
            },
            "type": "mesh3d"
           }
          ],
          "parcoords": [
           {
            "line": {
             "colorbar": {
              "outlinewidth": 0,
              "ticks": ""
             }
            },
            "type": "parcoords"
           }
          ],
          "pie": [
           {
            "automargin": true,
            "type": "pie"
           }
          ],
          "scatter": [
           {
            "fillpattern": {
             "fillmode": "overlay",
             "size": 10,
             "solidity": 0.2
            },
            "type": "scatter"
           }
          ],
          "scatter3d": [
           {
            "line": {
             "colorbar": {
              "outlinewidth": 0,
              "ticks": ""
             }
            },
            "marker": {
             "colorbar": {
              "outlinewidth": 0,
              "ticks": ""
             }
            },
            "type": "scatter3d"
           }
          ],
          "scattercarpet": [
           {
            "marker": {
             "colorbar": {
              "outlinewidth": 0,
              "ticks": ""
             }
            },
            "type": "scattercarpet"
           }
          ],
          "scattergeo": [
           {
            "marker": {
             "colorbar": {
              "outlinewidth": 0,
              "ticks": ""
             }
            },
            "type": "scattergeo"
           }
          ],
          "scattergl": [
           {
            "marker": {
             "colorbar": {
              "outlinewidth": 0,
              "ticks": ""
             }
            },
            "type": "scattergl"
           }
          ],
          "scattermapbox": [
           {
            "marker": {
             "colorbar": {
              "outlinewidth": 0,
              "ticks": ""
             }
            },
            "type": "scattermapbox"
           }
          ],
          "scatterpolar": [
           {
            "marker": {
             "colorbar": {
              "outlinewidth": 0,
              "ticks": ""
             }
            },
            "type": "scatterpolar"
           }
          ],
          "scatterpolargl": [
           {
            "marker": {
             "colorbar": {
              "outlinewidth": 0,
              "ticks": ""
             }
            },
            "type": "scatterpolargl"
           }
          ],
          "scatterternary": [
           {
            "marker": {
             "colorbar": {
              "outlinewidth": 0,
              "ticks": ""
             }
            },
            "type": "scatterternary"
           }
          ],
          "surface": [
           {
            "colorbar": {
             "outlinewidth": 0,
             "ticks": ""
            },
            "colorscale": [
             [
              0,
              "#0d0887"
             ],
             [
              0.1111111111111111,
              "#46039f"
             ],
             [
              0.2222222222222222,
              "#7201a8"
             ],
             [
              0.3333333333333333,
              "#9c179e"
             ],
             [
              0.4444444444444444,
              "#bd3786"
             ],
             [
              0.5555555555555556,
              "#d8576b"
             ],
             [
              0.6666666666666666,
              "#ed7953"
             ],
             [
              0.7777777777777778,
              "#fb9f3a"
             ],
             [
              0.8888888888888888,
              "#fdca26"
             ],
             [
              1,
              "#f0f921"
             ]
            ],
            "type": "surface"
           }
          ],
          "table": [
           {
            "cells": {
             "fill": {
              "color": "#EBF0F8"
             },
             "line": {
              "color": "white"
             }
            },
            "header": {
             "fill": {
              "color": "#C8D4E3"
             },
             "line": {
              "color": "white"
             }
            },
            "type": "table"
           }
          ]
         },
         "layout": {
          "annotationdefaults": {
           "arrowcolor": "#2a3f5f",
           "arrowhead": 0,
           "arrowwidth": 1
          },
          "autotypenumbers": "strict",
          "coloraxis": {
           "colorbar": {
            "outlinewidth": 0,
            "ticks": ""
           }
          },
          "colorscale": {
           "diverging": [
            [
             0,
             "#8e0152"
            ],
            [
             0.1,
             "#c51b7d"
            ],
            [
             0.2,
             "#de77ae"
            ],
            [
             0.3,
             "#f1b6da"
            ],
            [
             0.4,
             "#fde0ef"
            ],
            [
             0.5,
             "#f7f7f7"
            ],
            [
             0.6,
             "#e6f5d0"
            ],
            [
             0.7,
             "#b8e186"
            ],
            [
             0.8,
             "#7fbc41"
            ],
            [
             0.9,
             "#4d9221"
            ],
            [
             1,
             "#276419"
            ]
           ],
           "sequential": [
            [
             0,
             "#0d0887"
            ],
            [
             0.1111111111111111,
             "#46039f"
            ],
            [
             0.2222222222222222,
             "#7201a8"
            ],
            [
             0.3333333333333333,
             "#9c179e"
            ],
            [
             0.4444444444444444,
             "#bd3786"
            ],
            [
             0.5555555555555556,
             "#d8576b"
            ],
            [
             0.6666666666666666,
             "#ed7953"
            ],
            [
             0.7777777777777778,
             "#fb9f3a"
            ],
            [
             0.8888888888888888,
             "#fdca26"
            ],
            [
             1,
             "#f0f921"
            ]
           ],
           "sequentialminus": [
            [
             0,
             "#0d0887"
            ],
            [
             0.1111111111111111,
             "#46039f"
            ],
            [
             0.2222222222222222,
             "#7201a8"
            ],
            [
             0.3333333333333333,
             "#9c179e"
            ],
            [
             0.4444444444444444,
             "#bd3786"
            ],
            [
             0.5555555555555556,
             "#d8576b"
            ],
            [
             0.6666666666666666,
             "#ed7953"
            ],
            [
             0.7777777777777778,
             "#fb9f3a"
            ],
            [
             0.8888888888888888,
             "#fdca26"
            ],
            [
             1,
             "#f0f921"
            ]
           ]
          },
          "colorway": [
           "#636efa",
           "#EF553B",
           "#00cc96",
           "#ab63fa",
           "#FFA15A",
           "#19d3f3",
           "#FF6692",
           "#B6E880",
           "#FF97FF",
           "#FECB52"
          ],
          "font": {
           "color": "#2a3f5f"
          },
          "geo": {
           "bgcolor": "white",
           "lakecolor": "white",
           "landcolor": "#E5ECF6",
           "showlakes": true,
           "showland": true,
           "subunitcolor": "white"
          },
          "hoverlabel": {
           "align": "left"
          },
          "hovermode": "closest",
          "mapbox": {
           "style": "light"
          },
          "paper_bgcolor": "white",
          "plot_bgcolor": "#E5ECF6",
          "polar": {
           "angularaxis": {
            "gridcolor": "white",
            "linecolor": "white",
            "ticks": ""
           },
           "bgcolor": "#E5ECF6",
           "radialaxis": {
            "gridcolor": "white",
            "linecolor": "white",
            "ticks": ""
           }
          },
          "scene": {
           "xaxis": {
            "backgroundcolor": "#E5ECF6",
            "gridcolor": "white",
            "gridwidth": 2,
            "linecolor": "white",
            "showbackground": true,
            "ticks": "",
            "zerolinecolor": "white"
           },
           "yaxis": {
            "backgroundcolor": "#E5ECF6",
            "gridcolor": "white",
            "gridwidth": 2,
            "linecolor": "white",
            "showbackground": true,
            "ticks": "",
            "zerolinecolor": "white"
           },
           "zaxis": {
            "backgroundcolor": "#E5ECF6",
            "gridcolor": "white",
            "gridwidth": 2,
            "linecolor": "white",
            "showbackground": true,
            "ticks": "",
            "zerolinecolor": "white"
           }
          },
          "shapedefaults": {
           "line": {
            "color": "#2a3f5f"
           }
          },
          "ternary": {
           "aaxis": {
            "gridcolor": "white",
            "linecolor": "white",
            "ticks": ""
           },
           "baxis": {
            "gridcolor": "white",
            "linecolor": "white",
            "ticks": ""
           },
           "bgcolor": "#E5ECF6",
           "caxis": {
            "gridcolor": "white",
            "linecolor": "white",
            "ticks": ""
           }
          },
          "title": {
           "x": 0.05
          },
          "xaxis": {
           "automargin": true,
           "gridcolor": "white",
           "linecolor": "white",
           "ticks": "",
           "title": {
            "standoff": 15
           },
           "zerolinecolor": "white",
           "zerolinewidth": 2
          },
          "yaxis": {
           "automargin": true,
           "gridcolor": "white",
           "linecolor": "white",
           "ticks": "",
           "title": {
            "standoff": 15
           },
           "zerolinecolor": "white",
           "zerolinewidth": 2
          }
         }
        },
        "title": {
         "text": "Average Number of Taxi Trips per Month"
        },
        "xaxis": {
         "anchor": "y",
         "domain": [
          0,
          1
         ],
         "title": {
          "text": "Month"
         }
        },
        "yaxis": {
         "anchor": "x",
         "domain": [
          0,
          1
         ],
         "title": {
          "text": "num_trips"
         }
        }
       }
      }
     },
     "metadata": {},
     "output_type": "display_data"
    }
   ],
   "source": [
    "# Mapper les numéros de mois aux noms des mois\n",
    "month_names = {\n",
    "    1: \"January\",\n",
    "    2: \"February\",\n",
    "    3: \"March\",\n",
    "    4: \"April\",\n",
    "    5: \"May\",\n",
    "    6: \"June\",\n",
    "    7: \"July\",\n",
    "    8: \"August\",\n",
    "    9: \"September\",\n",
    "    10: \"October\",\n",
    "    11: \"November\",\n",
    "    12: \"December\"\n",
    "}\n",
    "\n",
    "df_monthly['Month'] = df_monthly['month'].map(month_names)\n",
    "\n",
    "# Tracez le graphique de barres\n",
    "fig = px.bar(df_monthly, x=\"Month\", y=\"num_trips\", labels={\"Month\": \"Month\", \"Num_Trips\": \"Average Number of Trips\"})\n",
    "fig.update_layout(title=\"Total of Taxi Trips per Month\")\n",
    "fig.show()"
   ]
  },
  {
   "cell_type": "code",
   "execution_count": 9,
   "metadata": {},
   "outputs": [
    {
     "data": {
      "text/html": [
       "<div>\n",
       "<style scoped>\n",
       "    .dataframe tbody tr th:only-of-type {\n",
       "        vertical-align: middle;\n",
       "    }\n",
       "\n",
       "    .dataframe tbody tr th {\n",
       "        vertical-align: top;\n",
       "    }\n",
       "\n",
       "    .dataframe thead th {\n",
       "        text-align: right;\n",
       "    }\n",
       "</style>\n",
       "<table border=\"1\" class=\"dataframe\">\n",
       "  <thead>\n",
       "    <tr style=\"text-align: right;\">\n",
       "      <th></th>\n",
       "      <th>day_of_week</th>\n",
       "      <th>num_trips</th>\n",
       "    </tr>\n",
       "  </thead>\n",
       "  <tbody>\n",
       "    <tr>\n",
       "      <th>0</th>\n",
       "      <td>0</td>\n",
       "      <td>4491343</td>\n",
       "    </tr>\n",
       "    <tr>\n",
       "      <th>1</th>\n",
       "      <td>1</td>\n",
       "      <td>5222006</td>\n",
       "    </tr>\n",
       "    <tr>\n",
       "      <th>2</th>\n",
       "      <td>2</td>\n",
       "      <td>5528614</td>\n",
       "    </tr>\n",
       "    <tr>\n",
       "      <th>3</th>\n",
       "      <td>3</td>\n",
       "      <td>5641708</td>\n",
       "    </tr>\n",
       "    <tr>\n",
       "      <th>4</th>\n",
       "      <td>4</td>\n",
       "      <td>5334559</td>\n",
       "    </tr>\n",
       "    <tr>\n",
       "      <th>5</th>\n",
       "      <td>5</td>\n",
       "      <td>5220421</td>\n",
       "    </tr>\n",
       "    <tr>\n",
       "      <th>6</th>\n",
       "      <td>6</td>\n",
       "      <td>4512257</td>\n",
       "    </tr>\n",
       "  </tbody>\n",
       "</table>\n",
       "</div>"
      ],
      "text/plain": [
       "   day_of_week  num_trips\n",
       "0            0    4491343\n",
       "1            1    5222006\n",
       "2            2    5528614\n",
       "3            3    5641708\n",
       "4            4    5334559\n",
       "5            5    5220421\n",
       "6            6    4512257"
      ]
     },
     "execution_count": 9,
     "metadata": {},
     "output_type": "execute_result"
    }
   ],
   "source": [
    "# Extraire le jour de la semaine à partir de tpep_pickup_datetime (0 pour lundi, 1 pour mardi, ..., 6 pour dimanche)\n",
    "df['day_of_week'] = df['tpep_pickup_datetime'].dt.dayofweek\n",
    "\n",
    "# Agréger les données en fonction du jour de la semaine\n",
    "df_weekly = df.groupby('day_of_week')['num_trips'].sum().reset_index()\n",
    "\n",
    "# Afficher la DataFrame résultante\n",
    "df_weekly"
   ]
  },
  {
   "cell_type": "code",
   "execution_count": 10,
   "metadata": {},
   "outputs": [
    {
     "data": {
      "application/vnd.plotly.v1+json": {
       "config": {
        "plotlyServerURL": "https://plot.ly"
       },
       "data": [
        {
         "alignmentgroup": "True",
         "hovertemplate": "Day of Week=%{x}<br>num_trips=%{y}<extra></extra>",
         "legendgroup": "",
         "marker": {
          "color": "#636efa",
          "pattern": {
           "shape": ""
          }
         },
         "name": "",
         "offsetgroup": "",
         "orientation": "v",
         "showlegend": false,
         "textposition": "auto",
         "type": "bar",
         "x": [
          "Monday",
          "Tuesday",
          "Wednesday",
          "Thursday",
          "Friday",
          "Saturday",
          "Sunday"
         ],
         "xaxis": "x",
         "y": [
          4491343,
          5222006,
          5528614,
          5641708,
          5334559,
          5220421,
          4512257
         ],
         "yaxis": "y"
        }
       ],
       "layout": {
        "barmode": "relative",
        "legend": {
         "tracegroupgap": 0
        },
        "margin": {
         "t": 60
        },
        "template": {
         "data": {
          "bar": [
           {
            "error_x": {
             "color": "#2a3f5f"
            },
            "error_y": {
             "color": "#2a3f5f"
            },
            "marker": {
             "line": {
              "color": "#E5ECF6",
              "width": 0.5
             },
             "pattern": {
              "fillmode": "overlay",
              "size": 10,
              "solidity": 0.2
             }
            },
            "type": "bar"
           }
          ],
          "barpolar": [
           {
            "marker": {
             "line": {
              "color": "#E5ECF6",
              "width": 0.5
             },
             "pattern": {
              "fillmode": "overlay",
              "size": 10,
              "solidity": 0.2
             }
            },
            "type": "barpolar"
           }
          ],
          "carpet": [
           {
            "aaxis": {
             "endlinecolor": "#2a3f5f",
             "gridcolor": "white",
             "linecolor": "white",
             "minorgridcolor": "white",
             "startlinecolor": "#2a3f5f"
            },
            "baxis": {
             "endlinecolor": "#2a3f5f",
             "gridcolor": "white",
             "linecolor": "white",
             "minorgridcolor": "white",
             "startlinecolor": "#2a3f5f"
            },
            "type": "carpet"
           }
          ],
          "choropleth": [
           {
            "colorbar": {
             "outlinewidth": 0,
             "ticks": ""
            },
            "type": "choropleth"
           }
          ],
          "contour": [
           {
            "colorbar": {
             "outlinewidth": 0,
             "ticks": ""
            },
            "colorscale": [
             [
              0,
              "#0d0887"
             ],
             [
              0.1111111111111111,
              "#46039f"
             ],
             [
              0.2222222222222222,
              "#7201a8"
             ],
             [
              0.3333333333333333,
              "#9c179e"
             ],
             [
              0.4444444444444444,
              "#bd3786"
             ],
             [
              0.5555555555555556,
              "#d8576b"
             ],
             [
              0.6666666666666666,
              "#ed7953"
             ],
             [
              0.7777777777777778,
              "#fb9f3a"
             ],
             [
              0.8888888888888888,
              "#fdca26"
             ],
             [
              1,
              "#f0f921"
             ]
            ],
            "type": "contour"
           }
          ],
          "contourcarpet": [
           {
            "colorbar": {
             "outlinewidth": 0,
             "ticks": ""
            },
            "type": "contourcarpet"
           }
          ],
          "heatmap": [
           {
            "colorbar": {
             "outlinewidth": 0,
             "ticks": ""
            },
            "colorscale": [
             [
              0,
              "#0d0887"
             ],
             [
              0.1111111111111111,
              "#46039f"
             ],
             [
              0.2222222222222222,
              "#7201a8"
             ],
             [
              0.3333333333333333,
              "#9c179e"
             ],
             [
              0.4444444444444444,
              "#bd3786"
             ],
             [
              0.5555555555555556,
              "#d8576b"
             ],
             [
              0.6666666666666666,
              "#ed7953"
             ],
             [
              0.7777777777777778,
              "#fb9f3a"
             ],
             [
              0.8888888888888888,
              "#fdca26"
             ],
             [
              1,
              "#f0f921"
             ]
            ],
            "type": "heatmap"
           }
          ],
          "heatmapgl": [
           {
            "colorbar": {
             "outlinewidth": 0,
             "ticks": ""
            },
            "colorscale": [
             [
              0,
              "#0d0887"
             ],
             [
              0.1111111111111111,
              "#46039f"
             ],
             [
              0.2222222222222222,
              "#7201a8"
             ],
             [
              0.3333333333333333,
              "#9c179e"
             ],
             [
              0.4444444444444444,
              "#bd3786"
             ],
             [
              0.5555555555555556,
              "#d8576b"
             ],
             [
              0.6666666666666666,
              "#ed7953"
             ],
             [
              0.7777777777777778,
              "#fb9f3a"
             ],
             [
              0.8888888888888888,
              "#fdca26"
             ],
             [
              1,
              "#f0f921"
             ]
            ],
            "type": "heatmapgl"
           }
          ],
          "histogram": [
           {
            "marker": {
             "pattern": {
              "fillmode": "overlay",
              "size": 10,
              "solidity": 0.2
             }
            },
            "type": "histogram"
           }
          ],
          "histogram2d": [
           {
            "colorbar": {
             "outlinewidth": 0,
             "ticks": ""
            },
            "colorscale": [
             [
              0,
              "#0d0887"
             ],
             [
              0.1111111111111111,
              "#46039f"
             ],
             [
              0.2222222222222222,
              "#7201a8"
             ],
             [
              0.3333333333333333,
              "#9c179e"
             ],
             [
              0.4444444444444444,
              "#bd3786"
             ],
             [
              0.5555555555555556,
              "#d8576b"
             ],
             [
              0.6666666666666666,
              "#ed7953"
             ],
             [
              0.7777777777777778,
              "#fb9f3a"
             ],
             [
              0.8888888888888888,
              "#fdca26"
             ],
             [
              1,
              "#f0f921"
             ]
            ],
            "type": "histogram2d"
           }
          ],
          "histogram2dcontour": [
           {
            "colorbar": {
             "outlinewidth": 0,
             "ticks": ""
            },
            "colorscale": [
             [
              0,
              "#0d0887"
             ],
             [
              0.1111111111111111,
              "#46039f"
             ],
             [
              0.2222222222222222,
              "#7201a8"
             ],
             [
              0.3333333333333333,
              "#9c179e"
             ],
             [
              0.4444444444444444,
              "#bd3786"
             ],
             [
              0.5555555555555556,
              "#d8576b"
             ],
             [
              0.6666666666666666,
              "#ed7953"
             ],
             [
              0.7777777777777778,
              "#fb9f3a"
             ],
             [
              0.8888888888888888,
              "#fdca26"
             ],
             [
              1,
              "#f0f921"
             ]
            ],
            "type": "histogram2dcontour"
           }
          ],
          "mesh3d": [
           {
            "colorbar": {
             "outlinewidth": 0,
             "ticks": ""
            },
            "type": "mesh3d"
           }
          ],
          "parcoords": [
           {
            "line": {
             "colorbar": {
              "outlinewidth": 0,
              "ticks": ""
             }
            },
            "type": "parcoords"
           }
          ],
          "pie": [
           {
            "automargin": true,
            "type": "pie"
           }
          ],
          "scatter": [
           {
            "fillpattern": {
             "fillmode": "overlay",
             "size": 10,
             "solidity": 0.2
            },
            "type": "scatter"
           }
          ],
          "scatter3d": [
           {
            "line": {
             "colorbar": {
              "outlinewidth": 0,
              "ticks": ""
             }
            },
            "marker": {
             "colorbar": {
              "outlinewidth": 0,
              "ticks": ""
             }
            },
            "type": "scatter3d"
           }
          ],
          "scattercarpet": [
           {
            "marker": {
             "colorbar": {
              "outlinewidth": 0,
              "ticks": ""
             }
            },
            "type": "scattercarpet"
           }
          ],
          "scattergeo": [
           {
            "marker": {
             "colorbar": {
              "outlinewidth": 0,
              "ticks": ""
             }
            },
            "type": "scattergeo"
           }
          ],
          "scattergl": [
           {
            "marker": {
             "colorbar": {
              "outlinewidth": 0,
              "ticks": ""
             }
            },
            "type": "scattergl"
           }
          ],
          "scattermapbox": [
           {
            "marker": {
             "colorbar": {
              "outlinewidth": 0,
              "ticks": ""
             }
            },
            "type": "scattermapbox"
           }
          ],
          "scatterpolar": [
           {
            "marker": {
             "colorbar": {
              "outlinewidth": 0,
              "ticks": ""
             }
            },
            "type": "scatterpolar"
           }
          ],
          "scatterpolargl": [
           {
            "marker": {
             "colorbar": {
              "outlinewidth": 0,
              "ticks": ""
             }
            },
            "type": "scatterpolargl"
           }
          ],
          "scatterternary": [
           {
            "marker": {
             "colorbar": {
              "outlinewidth": 0,
              "ticks": ""
             }
            },
            "type": "scatterternary"
           }
          ],
          "surface": [
           {
            "colorbar": {
             "outlinewidth": 0,
             "ticks": ""
            },
            "colorscale": [
             [
              0,
              "#0d0887"
             ],
             [
              0.1111111111111111,
              "#46039f"
             ],
             [
              0.2222222222222222,
              "#7201a8"
             ],
             [
              0.3333333333333333,
              "#9c179e"
             ],
             [
              0.4444444444444444,
              "#bd3786"
             ],
             [
              0.5555555555555556,
              "#d8576b"
             ],
             [
              0.6666666666666666,
              "#ed7953"
             ],
             [
              0.7777777777777778,
              "#fb9f3a"
             ],
             [
              0.8888888888888888,
              "#fdca26"
             ],
             [
              1,
              "#f0f921"
             ]
            ],
            "type": "surface"
           }
          ],
          "table": [
           {
            "cells": {
             "fill": {
              "color": "#EBF0F8"
             },
             "line": {
              "color": "white"
             }
            },
            "header": {
             "fill": {
              "color": "#C8D4E3"
             },
             "line": {
              "color": "white"
             }
            },
            "type": "table"
           }
          ]
         },
         "layout": {
          "annotationdefaults": {
           "arrowcolor": "#2a3f5f",
           "arrowhead": 0,
           "arrowwidth": 1
          },
          "autotypenumbers": "strict",
          "coloraxis": {
           "colorbar": {
            "outlinewidth": 0,
            "ticks": ""
           }
          },
          "colorscale": {
           "diverging": [
            [
             0,
             "#8e0152"
            ],
            [
             0.1,
             "#c51b7d"
            ],
            [
             0.2,
             "#de77ae"
            ],
            [
             0.3,
             "#f1b6da"
            ],
            [
             0.4,
             "#fde0ef"
            ],
            [
             0.5,
             "#f7f7f7"
            ],
            [
             0.6,
             "#e6f5d0"
            ],
            [
             0.7,
             "#b8e186"
            ],
            [
             0.8,
             "#7fbc41"
            ],
            [
             0.9,
             "#4d9221"
            ],
            [
             1,
             "#276419"
            ]
           ],
           "sequential": [
            [
             0,
             "#0d0887"
            ],
            [
             0.1111111111111111,
             "#46039f"
            ],
            [
             0.2222222222222222,
             "#7201a8"
            ],
            [
             0.3333333333333333,
             "#9c179e"
            ],
            [
             0.4444444444444444,
             "#bd3786"
            ],
            [
             0.5555555555555556,
             "#d8576b"
            ],
            [
             0.6666666666666666,
             "#ed7953"
            ],
            [
             0.7777777777777778,
             "#fb9f3a"
            ],
            [
             0.8888888888888888,
             "#fdca26"
            ],
            [
             1,
             "#f0f921"
            ]
           ],
           "sequentialminus": [
            [
             0,
             "#0d0887"
            ],
            [
             0.1111111111111111,
             "#46039f"
            ],
            [
             0.2222222222222222,
             "#7201a8"
            ],
            [
             0.3333333333333333,
             "#9c179e"
            ],
            [
             0.4444444444444444,
             "#bd3786"
            ],
            [
             0.5555555555555556,
             "#d8576b"
            ],
            [
             0.6666666666666666,
             "#ed7953"
            ],
            [
             0.7777777777777778,
             "#fb9f3a"
            ],
            [
             0.8888888888888888,
             "#fdca26"
            ],
            [
             1,
             "#f0f921"
            ]
           ]
          },
          "colorway": [
           "#636efa",
           "#EF553B",
           "#00cc96",
           "#ab63fa",
           "#FFA15A",
           "#19d3f3",
           "#FF6692",
           "#B6E880",
           "#FF97FF",
           "#FECB52"
          ],
          "font": {
           "color": "#2a3f5f"
          },
          "geo": {
           "bgcolor": "white",
           "lakecolor": "white",
           "landcolor": "#E5ECF6",
           "showlakes": true,
           "showland": true,
           "subunitcolor": "white"
          },
          "hoverlabel": {
           "align": "left"
          },
          "hovermode": "closest",
          "mapbox": {
           "style": "light"
          },
          "paper_bgcolor": "white",
          "plot_bgcolor": "#E5ECF6",
          "polar": {
           "angularaxis": {
            "gridcolor": "white",
            "linecolor": "white",
            "ticks": ""
           },
           "bgcolor": "#E5ECF6",
           "radialaxis": {
            "gridcolor": "white",
            "linecolor": "white",
            "ticks": ""
           }
          },
          "scene": {
           "xaxis": {
            "backgroundcolor": "#E5ECF6",
            "gridcolor": "white",
            "gridwidth": 2,
            "linecolor": "white",
            "showbackground": true,
            "ticks": "",
            "zerolinecolor": "white"
           },
           "yaxis": {
            "backgroundcolor": "#E5ECF6",
            "gridcolor": "white",
            "gridwidth": 2,
            "linecolor": "white",
            "showbackground": true,
            "ticks": "",
            "zerolinecolor": "white"
           },
           "zaxis": {
            "backgroundcolor": "#E5ECF6",
            "gridcolor": "white",
            "gridwidth": 2,
            "linecolor": "white",
            "showbackground": true,
            "ticks": "",
            "zerolinecolor": "white"
           }
          },
          "shapedefaults": {
           "line": {
            "color": "#2a3f5f"
           }
          },
          "ternary": {
           "aaxis": {
            "gridcolor": "white",
            "linecolor": "white",
            "ticks": ""
           },
           "baxis": {
            "gridcolor": "white",
            "linecolor": "white",
            "ticks": ""
           },
           "bgcolor": "#E5ECF6",
           "caxis": {
            "gridcolor": "white",
            "linecolor": "white",
            "ticks": ""
           }
          },
          "title": {
           "x": 0.05
          },
          "xaxis": {
           "automargin": true,
           "gridcolor": "white",
           "linecolor": "white",
           "ticks": "",
           "title": {
            "standoff": 15
           },
           "zerolinecolor": "white",
           "zerolinewidth": 2
          },
          "yaxis": {
           "automargin": true,
           "gridcolor": "white",
           "linecolor": "white",
           "ticks": "",
           "title": {
            "standoff": 15
           },
           "zerolinecolor": "white",
           "zerolinewidth": 2
          }
         }
        },
        "title": {
         "text": "Average Number of Taxi Trips per Day of Week"
        },
        "xaxis": {
         "anchor": "y",
         "domain": [
          0,
          1
         ],
         "title": {
          "text": "Day of Week"
         }
        },
        "yaxis": {
         "anchor": "x",
         "domain": [
          0,
          1
         ],
         "title": {
          "text": "num_trips"
         }
        }
       }
      }
     },
     "metadata": {},
     "output_type": "display_data"
    }
   ],
   "source": [
    "# Mapper les numéros de jour de la semaine aux noms des jours de la semaine\n",
    "day_names = {\n",
    "    0: \"Monday\",\n",
    "    1: \"Tuesday\",\n",
    "    2: \"Wednesday\",\n",
    "    3: \"Thursday\",\n",
    "    4: \"Friday\",\n",
    "    5: \"Saturday\",\n",
    "    6: \"Sunday\"\n",
    "}\n",
    "\n",
    "df_weekly['Day_of_week'] = df_weekly['day_of_week'].map(day_names)\n",
    "\n",
    "# Tracez le graphique de barres\n",
    "fig = px.bar(df_weekly, x=\"Day_of_week\", y=\"num_trips\", labels={\"Day_of_week\": \"Day of Week\", \"Num_Trips\": \"Average Number of Trips\"})\n",
    "fig.update_layout(title=\"Total Number of Taxi Trips per Day of Week\")\n",
    "fig.show()"
   ]
  },
  {
   "cell_type": "code",
   "execution_count": 14,
   "metadata": {},
   "outputs": [
    {
     "data": {
      "text/html": [
       "<div>\n",
       "<style scoped>\n",
       "    .dataframe tbody tr th:only-of-type {\n",
       "        vertical-align: middle;\n",
       "    }\n",
       "\n",
       "    .dataframe tbody tr th {\n",
       "        vertical-align: top;\n",
       "    }\n",
       "\n",
       "    .dataframe thead th {\n",
       "        text-align: right;\n",
       "    }\n",
       "</style>\n",
       "<table border=\"1\" class=\"dataframe\">\n",
       "  <thead>\n",
       "    <tr style=\"text-align: right;\">\n",
       "      <th></th>\n",
       "      <th>day_of_week</th>\n",
       "      <th>num_trips</th>\n",
       "      <th>Day_of_week</th>\n",
       "      <th>is_weekend</th>\n",
       "    </tr>\n",
       "  </thead>\n",
       "  <tbody>\n",
       "    <tr>\n",
       "      <th>0</th>\n",
       "      <td>0</td>\n",
       "      <td>4491343</td>\n",
       "      <td>Monday</td>\n",
       "      <td>Week</td>\n",
       "    </tr>\n",
       "    <tr>\n",
       "      <th>1</th>\n",
       "      <td>1</td>\n",
       "      <td>5222006</td>\n",
       "      <td>Tuesday</td>\n",
       "      <td>Week</td>\n",
       "    </tr>\n",
       "    <tr>\n",
       "      <th>2</th>\n",
       "      <td>2</td>\n",
       "      <td>5528614</td>\n",
       "      <td>Wednesday</td>\n",
       "      <td>Week</td>\n",
       "    </tr>\n",
       "    <tr>\n",
       "      <th>3</th>\n",
       "      <td>3</td>\n",
       "      <td>5641708</td>\n",
       "      <td>Thursday</td>\n",
       "      <td>Week</td>\n",
       "    </tr>\n",
       "    <tr>\n",
       "      <th>4</th>\n",
       "      <td>4</td>\n",
       "      <td>5334559</td>\n",
       "      <td>Friday</td>\n",
       "      <td>Week</td>\n",
       "    </tr>\n",
       "    <tr>\n",
       "      <th>5</th>\n",
       "      <td>5</td>\n",
       "      <td>5220421</td>\n",
       "      <td>Saturday</td>\n",
       "      <td>Weekend</td>\n",
       "    </tr>\n",
       "    <tr>\n",
       "      <th>6</th>\n",
       "      <td>6</td>\n",
       "      <td>4512257</td>\n",
       "      <td>Sunday</td>\n",
       "      <td>Weekend</td>\n",
       "    </tr>\n",
       "  </tbody>\n",
       "</table>\n",
       "</div>"
      ],
      "text/plain": [
       "   day_of_week  num_trips Day_of_week is_weekend\n",
       "0            0    4491343      Monday       Week\n",
       "1            1    5222006     Tuesday       Week\n",
       "2            2    5528614   Wednesday       Week\n",
       "3            3    5641708    Thursday       Week\n",
       "4            4    5334559      Friday       Week\n",
       "5            5    5220421    Saturday    Weekend\n",
       "6            6    4512257      Sunday    Weekend"
      ]
     },
     "execution_count": 14,
     "metadata": {},
     "output_type": "execute_result"
    }
   ],
   "source": [
    "# Créez une fonction pour vérifier si le jour de la semaine est un week-end\n",
    "def is_weekend(day):\n",
    "    return day in [5, 6]  # 5 correspond à samedi et 6 correspond à dimanche\n",
    "\n",
    "# Appliquez la fonction à la colonne \"Day_of_week\" pour créer la nouvelle colonne booléenne \"is_weekend\"\n",
    "df_weekly['is_weekend'] = df_weekly['day_of_week'].apply(lambda x: is_weekend(x))\n",
    "\n",
    "# Remplacer les valeurs booléennes par des étiquettes explicites\n",
    "df_weekly['is_weekend'] = df_weekly['is_weekend'].replace({True: 'Weekend', False: 'Week'})\n",
    "\n",
    "# Affichez le DataFrame avec la nouvelle colonne\n",
    "df_weekly"
   ]
  },
  {
   "cell_type": "code",
   "execution_count": 15,
   "metadata": {},
   "outputs": [
    {
     "data": {
      "application/vnd.plotly.v1+json": {
       "config": {
        "plotlyServerURL": "https://plot.ly"
       },
       "data": [
        {
         "domain": {
          "x": [
           0,
           1
          ],
          "y": [
           0,
           1
          ]
         },
         "hovertemplate": "is_weekend=%{label}<br>num_trips=%{value}<extra></extra>",
         "labels": [
          "Week",
          "Weekend"
         ],
         "legendgroup": "",
         "name": "",
         "showlegend": true,
         "type": "pie",
         "values": [
          26218230,
          9732678
         ]
        }
       ],
       "layout": {
        "legend": {
         "tracegroupgap": 0
        },
        "template": {
         "data": {
          "bar": [
           {
            "error_x": {
             "color": "#2a3f5f"
            },
            "error_y": {
             "color": "#2a3f5f"
            },
            "marker": {
             "line": {
              "color": "#E5ECF6",
              "width": 0.5
             },
             "pattern": {
              "fillmode": "overlay",
              "size": 10,
              "solidity": 0.2
             }
            },
            "type": "bar"
           }
          ],
          "barpolar": [
           {
            "marker": {
             "line": {
              "color": "#E5ECF6",
              "width": 0.5
             },
             "pattern": {
              "fillmode": "overlay",
              "size": 10,
              "solidity": 0.2
             }
            },
            "type": "barpolar"
           }
          ],
          "carpet": [
           {
            "aaxis": {
             "endlinecolor": "#2a3f5f",
             "gridcolor": "white",
             "linecolor": "white",
             "minorgridcolor": "white",
             "startlinecolor": "#2a3f5f"
            },
            "baxis": {
             "endlinecolor": "#2a3f5f",
             "gridcolor": "white",
             "linecolor": "white",
             "minorgridcolor": "white",
             "startlinecolor": "#2a3f5f"
            },
            "type": "carpet"
           }
          ],
          "choropleth": [
           {
            "colorbar": {
             "outlinewidth": 0,
             "ticks": ""
            },
            "type": "choropleth"
           }
          ],
          "contour": [
           {
            "colorbar": {
             "outlinewidth": 0,
             "ticks": ""
            },
            "colorscale": [
             [
              0,
              "#0d0887"
             ],
             [
              0.1111111111111111,
              "#46039f"
             ],
             [
              0.2222222222222222,
              "#7201a8"
             ],
             [
              0.3333333333333333,
              "#9c179e"
             ],
             [
              0.4444444444444444,
              "#bd3786"
             ],
             [
              0.5555555555555556,
              "#d8576b"
             ],
             [
              0.6666666666666666,
              "#ed7953"
             ],
             [
              0.7777777777777778,
              "#fb9f3a"
             ],
             [
              0.8888888888888888,
              "#fdca26"
             ],
             [
              1,
              "#f0f921"
             ]
            ],
            "type": "contour"
           }
          ],
          "contourcarpet": [
           {
            "colorbar": {
             "outlinewidth": 0,
             "ticks": ""
            },
            "type": "contourcarpet"
           }
          ],
          "heatmap": [
           {
            "colorbar": {
             "outlinewidth": 0,
             "ticks": ""
            },
            "colorscale": [
             [
              0,
              "#0d0887"
             ],
             [
              0.1111111111111111,
              "#46039f"
             ],
             [
              0.2222222222222222,
              "#7201a8"
             ],
             [
              0.3333333333333333,
              "#9c179e"
             ],
             [
              0.4444444444444444,
              "#bd3786"
             ],
             [
              0.5555555555555556,
              "#d8576b"
             ],
             [
              0.6666666666666666,
              "#ed7953"
             ],
             [
              0.7777777777777778,
              "#fb9f3a"
             ],
             [
              0.8888888888888888,
              "#fdca26"
             ],
             [
              1,
              "#f0f921"
             ]
            ],
            "type": "heatmap"
           }
          ],
          "heatmapgl": [
           {
            "colorbar": {
             "outlinewidth": 0,
             "ticks": ""
            },
            "colorscale": [
             [
              0,
              "#0d0887"
             ],
             [
              0.1111111111111111,
              "#46039f"
             ],
             [
              0.2222222222222222,
              "#7201a8"
             ],
             [
              0.3333333333333333,
              "#9c179e"
             ],
             [
              0.4444444444444444,
              "#bd3786"
             ],
             [
              0.5555555555555556,
              "#d8576b"
             ],
             [
              0.6666666666666666,
              "#ed7953"
             ],
             [
              0.7777777777777778,
              "#fb9f3a"
             ],
             [
              0.8888888888888888,
              "#fdca26"
             ],
             [
              1,
              "#f0f921"
             ]
            ],
            "type": "heatmapgl"
           }
          ],
          "histogram": [
           {
            "marker": {
             "pattern": {
              "fillmode": "overlay",
              "size": 10,
              "solidity": 0.2
             }
            },
            "type": "histogram"
           }
          ],
          "histogram2d": [
           {
            "colorbar": {
             "outlinewidth": 0,
             "ticks": ""
            },
            "colorscale": [
             [
              0,
              "#0d0887"
             ],
             [
              0.1111111111111111,
              "#46039f"
             ],
             [
              0.2222222222222222,
              "#7201a8"
             ],
             [
              0.3333333333333333,
              "#9c179e"
             ],
             [
              0.4444444444444444,
              "#bd3786"
             ],
             [
              0.5555555555555556,
              "#d8576b"
             ],
             [
              0.6666666666666666,
              "#ed7953"
             ],
             [
              0.7777777777777778,
              "#fb9f3a"
             ],
             [
              0.8888888888888888,
              "#fdca26"
             ],
             [
              1,
              "#f0f921"
             ]
            ],
            "type": "histogram2d"
           }
          ],
          "histogram2dcontour": [
           {
            "colorbar": {
             "outlinewidth": 0,
             "ticks": ""
            },
            "colorscale": [
             [
              0,
              "#0d0887"
             ],
             [
              0.1111111111111111,
              "#46039f"
             ],
             [
              0.2222222222222222,
              "#7201a8"
             ],
             [
              0.3333333333333333,
              "#9c179e"
             ],
             [
              0.4444444444444444,
              "#bd3786"
             ],
             [
              0.5555555555555556,
              "#d8576b"
             ],
             [
              0.6666666666666666,
              "#ed7953"
             ],
             [
              0.7777777777777778,
              "#fb9f3a"
             ],
             [
              0.8888888888888888,
              "#fdca26"
             ],
             [
              1,
              "#f0f921"
             ]
            ],
            "type": "histogram2dcontour"
           }
          ],
          "mesh3d": [
           {
            "colorbar": {
             "outlinewidth": 0,
             "ticks": ""
            },
            "type": "mesh3d"
           }
          ],
          "parcoords": [
           {
            "line": {
             "colorbar": {
              "outlinewidth": 0,
              "ticks": ""
             }
            },
            "type": "parcoords"
           }
          ],
          "pie": [
           {
            "automargin": true,
            "type": "pie"
           }
          ],
          "scatter": [
           {
            "fillpattern": {
             "fillmode": "overlay",
             "size": 10,
             "solidity": 0.2
            },
            "type": "scatter"
           }
          ],
          "scatter3d": [
           {
            "line": {
             "colorbar": {
              "outlinewidth": 0,
              "ticks": ""
             }
            },
            "marker": {
             "colorbar": {
              "outlinewidth": 0,
              "ticks": ""
             }
            },
            "type": "scatter3d"
           }
          ],
          "scattercarpet": [
           {
            "marker": {
             "colorbar": {
              "outlinewidth": 0,
              "ticks": ""
             }
            },
            "type": "scattercarpet"
           }
          ],
          "scattergeo": [
           {
            "marker": {
             "colorbar": {
              "outlinewidth": 0,
              "ticks": ""
             }
            },
            "type": "scattergeo"
           }
          ],
          "scattergl": [
           {
            "marker": {
             "colorbar": {
              "outlinewidth": 0,
              "ticks": ""
             }
            },
            "type": "scattergl"
           }
          ],
          "scattermapbox": [
           {
            "marker": {
             "colorbar": {
              "outlinewidth": 0,
              "ticks": ""
             }
            },
            "type": "scattermapbox"
           }
          ],
          "scatterpolar": [
           {
            "marker": {
             "colorbar": {
              "outlinewidth": 0,
              "ticks": ""
             }
            },
            "type": "scatterpolar"
           }
          ],
          "scatterpolargl": [
           {
            "marker": {
             "colorbar": {
              "outlinewidth": 0,
              "ticks": ""
             }
            },
            "type": "scatterpolargl"
           }
          ],
          "scatterternary": [
           {
            "marker": {
             "colorbar": {
              "outlinewidth": 0,
              "ticks": ""
             }
            },
            "type": "scatterternary"
           }
          ],
          "surface": [
           {
            "colorbar": {
             "outlinewidth": 0,
             "ticks": ""
            },
            "colorscale": [
             [
              0,
              "#0d0887"
             ],
             [
              0.1111111111111111,
              "#46039f"
             ],
             [
              0.2222222222222222,
              "#7201a8"
             ],
             [
              0.3333333333333333,
              "#9c179e"
             ],
             [
              0.4444444444444444,
              "#bd3786"
             ],
             [
              0.5555555555555556,
              "#d8576b"
             ],
             [
              0.6666666666666666,
              "#ed7953"
             ],
             [
              0.7777777777777778,
              "#fb9f3a"
             ],
             [
              0.8888888888888888,
              "#fdca26"
             ],
             [
              1,
              "#f0f921"
             ]
            ],
            "type": "surface"
           }
          ],
          "table": [
           {
            "cells": {
             "fill": {
              "color": "#EBF0F8"
             },
             "line": {
              "color": "white"
             }
            },
            "header": {
             "fill": {
              "color": "#C8D4E3"
             },
             "line": {
              "color": "white"
             }
            },
            "type": "table"
           }
          ]
         },
         "layout": {
          "annotationdefaults": {
           "arrowcolor": "#2a3f5f",
           "arrowhead": 0,
           "arrowwidth": 1
          },
          "autotypenumbers": "strict",
          "coloraxis": {
           "colorbar": {
            "outlinewidth": 0,
            "ticks": ""
           }
          },
          "colorscale": {
           "diverging": [
            [
             0,
             "#8e0152"
            ],
            [
             0.1,
             "#c51b7d"
            ],
            [
             0.2,
             "#de77ae"
            ],
            [
             0.3,
             "#f1b6da"
            ],
            [
             0.4,
             "#fde0ef"
            ],
            [
             0.5,
             "#f7f7f7"
            ],
            [
             0.6,
             "#e6f5d0"
            ],
            [
             0.7,
             "#b8e186"
            ],
            [
             0.8,
             "#7fbc41"
            ],
            [
             0.9,
             "#4d9221"
            ],
            [
             1,
             "#276419"
            ]
           ],
           "sequential": [
            [
             0,
             "#0d0887"
            ],
            [
             0.1111111111111111,
             "#46039f"
            ],
            [
             0.2222222222222222,
             "#7201a8"
            ],
            [
             0.3333333333333333,
             "#9c179e"
            ],
            [
             0.4444444444444444,
             "#bd3786"
            ],
            [
             0.5555555555555556,
             "#d8576b"
            ],
            [
             0.6666666666666666,
             "#ed7953"
            ],
            [
             0.7777777777777778,
             "#fb9f3a"
            ],
            [
             0.8888888888888888,
             "#fdca26"
            ],
            [
             1,
             "#f0f921"
            ]
           ],
           "sequentialminus": [
            [
             0,
             "#0d0887"
            ],
            [
             0.1111111111111111,
             "#46039f"
            ],
            [
             0.2222222222222222,
             "#7201a8"
            ],
            [
             0.3333333333333333,
             "#9c179e"
            ],
            [
             0.4444444444444444,
             "#bd3786"
            ],
            [
             0.5555555555555556,
             "#d8576b"
            ],
            [
             0.6666666666666666,
             "#ed7953"
            ],
            [
             0.7777777777777778,
             "#fb9f3a"
            ],
            [
             0.8888888888888888,
             "#fdca26"
            ],
            [
             1,
             "#f0f921"
            ]
           ]
          },
          "colorway": [
           "#636efa",
           "#EF553B",
           "#00cc96",
           "#ab63fa",
           "#FFA15A",
           "#19d3f3",
           "#FF6692",
           "#B6E880",
           "#FF97FF",
           "#FECB52"
          ],
          "font": {
           "color": "#2a3f5f"
          },
          "geo": {
           "bgcolor": "white",
           "lakecolor": "white",
           "landcolor": "#E5ECF6",
           "showlakes": true,
           "showland": true,
           "subunitcolor": "white"
          },
          "hoverlabel": {
           "align": "left"
          },
          "hovermode": "closest",
          "mapbox": {
           "style": "light"
          },
          "paper_bgcolor": "white",
          "plot_bgcolor": "#E5ECF6",
          "polar": {
           "angularaxis": {
            "gridcolor": "white",
            "linecolor": "white",
            "ticks": ""
           },
           "bgcolor": "#E5ECF6",
           "radialaxis": {
            "gridcolor": "white",
            "linecolor": "white",
            "ticks": ""
           }
          },
          "scene": {
           "xaxis": {
            "backgroundcolor": "#E5ECF6",
            "gridcolor": "white",
            "gridwidth": 2,
            "linecolor": "white",
            "showbackground": true,
            "ticks": "",
            "zerolinecolor": "white"
           },
           "yaxis": {
            "backgroundcolor": "#E5ECF6",
            "gridcolor": "white",
            "gridwidth": 2,
            "linecolor": "white",
            "showbackground": true,
            "ticks": "",
            "zerolinecolor": "white"
           },
           "zaxis": {
            "backgroundcolor": "#E5ECF6",
            "gridcolor": "white",
            "gridwidth": 2,
            "linecolor": "white",
            "showbackground": true,
            "ticks": "",
            "zerolinecolor": "white"
           }
          },
          "shapedefaults": {
           "line": {
            "color": "#2a3f5f"
           }
          },
          "ternary": {
           "aaxis": {
            "gridcolor": "white",
            "linecolor": "white",
            "ticks": ""
           },
           "baxis": {
            "gridcolor": "white",
            "linecolor": "white",
            "ticks": ""
           },
           "bgcolor": "#E5ECF6",
           "caxis": {
            "gridcolor": "white",
            "linecolor": "white",
            "ticks": ""
           }
          },
          "title": {
           "x": 0.05
          },
          "xaxis": {
           "automargin": true,
           "gridcolor": "white",
           "linecolor": "white",
           "ticks": "",
           "title": {
            "standoff": 15
           },
           "zerolinecolor": "white",
           "zerolinewidth": 2
          },
          "yaxis": {
           "automargin": true,
           "gridcolor": "white",
           "linecolor": "white",
           "ticks": "",
           "title": {
            "standoff": 15
           },
           "zerolinecolor": "white",
           "zerolinewidth": 2
          }
         }
        },
        "title": {
         "text": "Percentage of Taxi Trips on Weekends"
        }
       }
      }
     },
     "metadata": {},
     "output_type": "display_data"
    }
   ],
   "source": [
    "# Groupez les données selon la colonne \"is_weekend\" et faites la somme de \"num_trips\"\n",
    "df_grouped = df_weekly.groupby('is_weekend')['num_trips'].sum().reset_index()\n",
    "\n",
    "# Tracez le Pie Chart\n",
    "fig = px.pie(df_grouped, values='num_trips', names='is_weekend', title='Percentage of Taxi Trips on Weekends')\n",
    "fig.show()"
   ]
  },
  {
   "cell_type": "code",
   "execution_count": 16,
   "metadata": {},
   "outputs": [
    {
     "data": {
      "text/html": [
       "<div>\n",
       "<style scoped>\n",
       "    .dataframe tbody tr th:only-of-type {\n",
       "        vertical-align: middle;\n",
       "    }\n",
       "\n",
       "    .dataframe tbody tr th {\n",
       "        vertical-align: top;\n",
       "    }\n",
       "\n",
       "    .dataframe thead th {\n",
       "        text-align: right;\n",
       "    }\n",
       "</style>\n",
       "<table border=\"1\" class=\"dataframe\">\n",
       "  <thead>\n",
       "    <tr style=\"text-align: right;\">\n",
       "      <th></th>\n",
       "      <th>pickup_hour</th>\n",
       "      <th>num_trips</th>\n",
       "    </tr>\n",
       "  </thead>\n",
       "  <tbody>\n",
       "    <tr>\n",
       "      <th>0</th>\n",
       "      <td>0</td>\n",
       "      <td>1009915</td>\n",
       "    </tr>\n",
       "    <tr>\n",
       "      <th>1</th>\n",
       "      <td>1</td>\n",
       "      <td>676610</td>\n",
       "    </tr>\n",
       "    <tr>\n",
       "      <th>2</th>\n",
       "      <td>2</td>\n",
       "      <td>444282</td>\n",
       "    </tr>\n",
       "    <tr>\n",
       "      <th>3</th>\n",
       "      <td>3</td>\n",
       "      <td>289555</td>\n",
       "    </tr>\n",
       "    <tr>\n",
       "      <th>4</th>\n",
       "      <td>4</td>\n",
       "      <td>185729</td>\n",
       "    </tr>\n",
       "    <tr>\n",
       "      <th>5</th>\n",
       "      <td>5</td>\n",
       "      <td>198122</td>\n",
       "    </tr>\n",
       "    <tr>\n",
       "      <th>6</th>\n",
       "      <td>6</td>\n",
       "      <td>480997</td>\n",
       "    </tr>\n",
       "    <tr>\n",
       "      <th>7</th>\n",
       "      <td>7</td>\n",
       "      <td>954160</td>\n",
       "    </tr>\n",
       "    <tr>\n",
       "      <th>8</th>\n",
       "      <td>8</td>\n",
       "      <td>1331709</td>\n",
       "    </tr>\n",
       "    <tr>\n",
       "      <th>9</th>\n",
       "      <td>9</td>\n",
       "      <td>1527516</td>\n",
       "    </tr>\n",
       "    <tr>\n",
       "      <th>10</th>\n",
       "      <td>10</td>\n",
       "      <td>1674806</td>\n",
       "    </tr>\n",
       "    <tr>\n",
       "      <th>11</th>\n",
       "      <td>11</td>\n",
       "      <td>1819672</td>\n",
       "    </tr>\n",
       "    <tr>\n",
       "      <th>12</th>\n",
       "      <td>12</td>\n",
       "      <td>1973822</td>\n",
       "    </tr>\n",
       "    <tr>\n",
       "      <th>13</th>\n",
       "      <td>13</td>\n",
       "      <td>2034910</td>\n",
       "    </tr>\n",
       "    <tr>\n",
       "      <th>14</th>\n",
       "      <td>14</td>\n",
       "      <td>2181966</td>\n",
       "    </tr>\n",
       "    <tr>\n",
       "      <th>15</th>\n",
       "      <td>15</td>\n",
       "      <td>2237045</td>\n",
       "    </tr>\n",
       "    <tr>\n",
       "      <th>16</th>\n",
       "      <td>16</td>\n",
       "      <td>2238664</td>\n",
       "    </tr>\n",
       "    <tr>\n",
       "      <th>17</th>\n",
       "      <td>17</td>\n",
       "      <td>2428899</td>\n",
       "    </tr>\n",
       "    <tr>\n",
       "      <th>18</th>\n",
       "      <td>18</td>\n",
       "      <td>2545319</td>\n",
       "    </tr>\n",
       "    <tr>\n",
       "      <th>19</th>\n",
       "      <td>19</td>\n",
       "      <td>2283604</td>\n",
       "    </tr>\n",
       "    <tr>\n",
       "      <th>20</th>\n",
       "      <td>20</td>\n",
       "      <td>2042245</td>\n",
       "    </tr>\n",
       "    <tr>\n",
       "      <th>21</th>\n",
       "      <td>21</td>\n",
       "      <td>2036329</td>\n",
       "    </tr>\n",
       "    <tr>\n",
       "      <th>22</th>\n",
       "      <td>22</td>\n",
       "      <td>1877303</td>\n",
       "    </tr>\n",
       "    <tr>\n",
       "      <th>23</th>\n",
       "      <td>23</td>\n",
       "      <td>1477729</td>\n",
       "    </tr>\n",
       "  </tbody>\n",
       "</table>\n",
       "</div>"
      ],
      "text/plain": [
       "    pickup_hour  num_trips\n",
       "0             0    1009915\n",
       "1             1     676610\n",
       "2             2     444282\n",
       "3             3     289555\n",
       "4             4     185729\n",
       "5             5     198122\n",
       "6             6     480997\n",
       "7             7     954160\n",
       "8             8    1331709\n",
       "9             9    1527516\n",
       "10           10    1674806\n",
       "11           11    1819672\n",
       "12           12    1973822\n",
       "13           13    2034910\n",
       "14           14    2181966\n",
       "15           15    2237045\n",
       "16           16    2238664\n",
       "17           17    2428899\n",
       "18           18    2545319\n",
       "19           19    2283604\n",
       "20           20    2042245\n",
       "21           21    2036329\n",
       "22           22    1877303\n",
       "23           23    1477729"
      ]
     },
     "execution_count": 16,
     "metadata": {},
     "output_type": "execute_result"
    }
   ],
   "source": [
    "# Extraire l'heure à partir de tpep_pickup_datetime\n",
    "df['pickup_hour'] = df['tpep_pickup_datetime'].dt.hour\n",
    "\n",
    "# Agréger les données en fonction de l'heure de la journée\n",
    "df_hourly = df.groupby('pickup_hour')['num_trips'].sum().reset_index()\n",
    "\n",
    "# Afficher la DataFrame résultante\n",
    "df_hourly"
   ]
  },
  {
   "cell_type": "code",
   "execution_count": 17,
   "metadata": {},
   "outputs": [
    {
     "data": {
      "application/vnd.plotly.v1+json": {
       "config": {
        "plotlyServerURL": "https://plot.ly"
       },
       "data": [
        {
         "alignmentgroup": "True",
         "hovertemplate": "pickup_hour=%{x}<br>num_trips=%{y}<extra></extra>",
         "legendgroup": "",
         "marker": {
          "color": "#636efa",
          "pattern": {
           "shape": ""
          }
         },
         "name": "",
         "offsetgroup": "",
         "orientation": "v",
         "showlegend": false,
         "textposition": "auto",
         "type": "bar",
         "x": [
          0,
          1,
          2,
          3,
          4,
          5,
          6,
          7,
          8,
          9,
          10,
          11,
          12,
          13,
          14,
          15,
          16,
          17,
          18,
          19,
          20,
          21,
          22,
          23
         ],
         "xaxis": "x",
         "y": [
          1009915,
          676610,
          444282,
          289555,
          185729,
          198122,
          480997,
          954160,
          1331709,
          1527516,
          1674806,
          1819672,
          1973822,
          2034910,
          2181966,
          2237045,
          2238664,
          2428899,
          2545319,
          2283604,
          2042245,
          2036329,
          1877303,
          1477729
         ],
         "yaxis": "y"
        }
       ],
       "layout": {
        "barmode": "relative",
        "legend": {
         "tracegroupgap": 0
        },
        "margin": {
         "t": 60
        },
        "template": {
         "data": {
          "bar": [
           {
            "error_x": {
             "color": "#2a3f5f"
            },
            "error_y": {
             "color": "#2a3f5f"
            },
            "marker": {
             "line": {
              "color": "#E5ECF6",
              "width": 0.5
             },
             "pattern": {
              "fillmode": "overlay",
              "size": 10,
              "solidity": 0.2
             }
            },
            "type": "bar"
           }
          ],
          "barpolar": [
           {
            "marker": {
             "line": {
              "color": "#E5ECF6",
              "width": 0.5
             },
             "pattern": {
              "fillmode": "overlay",
              "size": 10,
              "solidity": 0.2
             }
            },
            "type": "barpolar"
           }
          ],
          "carpet": [
           {
            "aaxis": {
             "endlinecolor": "#2a3f5f",
             "gridcolor": "white",
             "linecolor": "white",
             "minorgridcolor": "white",
             "startlinecolor": "#2a3f5f"
            },
            "baxis": {
             "endlinecolor": "#2a3f5f",
             "gridcolor": "white",
             "linecolor": "white",
             "minorgridcolor": "white",
             "startlinecolor": "#2a3f5f"
            },
            "type": "carpet"
           }
          ],
          "choropleth": [
           {
            "colorbar": {
             "outlinewidth": 0,
             "ticks": ""
            },
            "type": "choropleth"
           }
          ],
          "contour": [
           {
            "colorbar": {
             "outlinewidth": 0,
             "ticks": ""
            },
            "colorscale": [
             [
              0,
              "#0d0887"
             ],
             [
              0.1111111111111111,
              "#46039f"
             ],
             [
              0.2222222222222222,
              "#7201a8"
             ],
             [
              0.3333333333333333,
              "#9c179e"
             ],
             [
              0.4444444444444444,
              "#bd3786"
             ],
             [
              0.5555555555555556,
              "#d8576b"
             ],
             [
              0.6666666666666666,
              "#ed7953"
             ],
             [
              0.7777777777777778,
              "#fb9f3a"
             ],
             [
              0.8888888888888888,
              "#fdca26"
             ],
             [
              1,
              "#f0f921"
             ]
            ],
            "type": "contour"
           }
          ],
          "contourcarpet": [
           {
            "colorbar": {
             "outlinewidth": 0,
             "ticks": ""
            },
            "type": "contourcarpet"
           }
          ],
          "heatmap": [
           {
            "colorbar": {
             "outlinewidth": 0,
             "ticks": ""
            },
            "colorscale": [
             [
              0,
              "#0d0887"
             ],
             [
              0.1111111111111111,
              "#46039f"
             ],
             [
              0.2222222222222222,
              "#7201a8"
             ],
             [
              0.3333333333333333,
              "#9c179e"
             ],
             [
              0.4444444444444444,
              "#bd3786"
             ],
             [
              0.5555555555555556,
              "#d8576b"
             ],
             [
              0.6666666666666666,
              "#ed7953"
             ],
             [
              0.7777777777777778,
              "#fb9f3a"
             ],
             [
              0.8888888888888888,
              "#fdca26"
             ],
             [
              1,
              "#f0f921"
             ]
            ],
            "type": "heatmap"
           }
          ],
          "heatmapgl": [
           {
            "colorbar": {
             "outlinewidth": 0,
             "ticks": ""
            },
            "colorscale": [
             [
              0,
              "#0d0887"
             ],
             [
              0.1111111111111111,
              "#46039f"
             ],
             [
              0.2222222222222222,
              "#7201a8"
             ],
             [
              0.3333333333333333,
              "#9c179e"
             ],
             [
              0.4444444444444444,
              "#bd3786"
             ],
             [
              0.5555555555555556,
              "#d8576b"
             ],
             [
              0.6666666666666666,
              "#ed7953"
             ],
             [
              0.7777777777777778,
              "#fb9f3a"
             ],
             [
              0.8888888888888888,
              "#fdca26"
             ],
             [
              1,
              "#f0f921"
             ]
            ],
            "type": "heatmapgl"
           }
          ],
          "histogram": [
           {
            "marker": {
             "pattern": {
              "fillmode": "overlay",
              "size": 10,
              "solidity": 0.2
             }
            },
            "type": "histogram"
           }
          ],
          "histogram2d": [
           {
            "colorbar": {
             "outlinewidth": 0,
             "ticks": ""
            },
            "colorscale": [
             [
              0,
              "#0d0887"
             ],
             [
              0.1111111111111111,
              "#46039f"
             ],
             [
              0.2222222222222222,
              "#7201a8"
             ],
             [
              0.3333333333333333,
              "#9c179e"
             ],
             [
              0.4444444444444444,
              "#bd3786"
             ],
             [
              0.5555555555555556,
              "#d8576b"
             ],
             [
              0.6666666666666666,
              "#ed7953"
             ],
             [
              0.7777777777777778,
              "#fb9f3a"
             ],
             [
              0.8888888888888888,
              "#fdca26"
             ],
             [
              1,
              "#f0f921"
             ]
            ],
            "type": "histogram2d"
           }
          ],
          "histogram2dcontour": [
           {
            "colorbar": {
             "outlinewidth": 0,
             "ticks": ""
            },
            "colorscale": [
             [
              0,
              "#0d0887"
             ],
             [
              0.1111111111111111,
              "#46039f"
             ],
             [
              0.2222222222222222,
              "#7201a8"
             ],
             [
              0.3333333333333333,
              "#9c179e"
             ],
             [
              0.4444444444444444,
              "#bd3786"
             ],
             [
              0.5555555555555556,
              "#d8576b"
             ],
             [
              0.6666666666666666,
              "#ed7953"
             ],
             [
              0.7777777777777778,
              "#fb9f3a"
             ],
             [
              0.8888888888888888,
              "#fdca26"
             ],
             [
              1,
              "#f0f921"
             ]
            ],
            "type": "histogram2dcontour"
           }
          ],
          "mesh3d": [
           {
            "colorbar": {
             "outlinewidth": 0,
             "ticks": ""
            },
            "type": "mesh3d"
           }
          ],
          "parcoords": [
           {
            "line": {
             "colorbar": {
              "outlinewidth": 0,
              "ticks": ""
             }
            },
            "type": "parcoords"
           }
          ],
          "pie": [
           {
            "automargin": true,
            "type": "pie"
           }
          ],
          "scatter": [
           {
            "fillpattern": {
             "fillmode": "overlay",
             "size": 10,
             "solidity": 0.2
            },
            "type": "scatter"
           }
          ],
          "scatter3d": [
           {
            "line": {
             "colorbar": {
              "outlinewidth": 0,
              "ticks": ""
             }
            },
            "marker": {
             "colorbar": {
              "outlinewidth": 0,
              "ticks": ""
             }
            },
            "type": "scatter3d"
           }
          ],
          "scattercarpet": [
           {
            "marker": {
             "colorbar": {
              "outlinewidth": 0,
              "ticks": ""
             }
            },
            "type": "scattercarpet"
           }
          ],
          "scattergeo": [
           {
            "marker": {
             "colorbar": {
              "outlinewidth": 0,
              "ticks": ""
             }
            },
            "type": "scattergeo"
           }
          ],
          "scattergl": [
           {
            "marker": {
             "colorbar": {
              "outlinewidth": 0,
              "ticks": ""
             }
            },
            "type": "scattergl"
           }
          ],
          "scattermapbox": [
           {
            "marker": {
             "colorbar": {
              "outlinewidth": 0,
              "ticks": ""
             }
            },
            "type": "scattermapbox"
           }
          ],
          "scatterpolar": [
           {
            "marker": {
             "colorbar": {
              "outlinewidth": 0,
              "ticks": ""
             }
            },
            "type": "scatterpolar"
           }
          ],
          "scatterpolargl": [
           {
            "marker": {
             "colorbar": {
              "outlinewidth": 0,
              "ticks": ""
             }
            },
            "type": "scatterpolargl"
           }
          ],
          "scatterternary": [
           {
            "marker": {
             "colorbar": {
              "outlinewidth": 0,
              "ticks": ""
             }
            },
            "type": "scatterternary"
           }
          ],
          "surface": [
           {
            "colorbar": {
             "outlinewidth": 0,
             "ticks": ""
            },
            "colorscale": [
             [
              0,
              "#0d0887"
             ],
             [
              0.1111111111111111,
              "#46039f"
             ],
             [
              0.2222222222222222,
              "#7201a8"
             ],
             [
              0.3333333333333333,
              "#9c179e"
             ],
             [
              0.4444444444444444,
              "#bd3786"
             ],
             [
              0.5555555555555556,
              "#d8576b"
             ],
             [
              0.6666666666666666,
              "#ed7953"
             ],
             [
              0.7777777777777778,
              "#fb9f3a"
             ],
             [
              0.8888888888888888,
              "#fdca26"
             ],
             [
              1,
              "#f0f921"
             ]
            ],
            "type": "surface"
           }
          ],
          "table": [
           {
            "cells": {
             "fill": {
              "color": "#EBF0F8"
             },
             "line": {
              "color": "white"
             }
            },
            "header": {
             "fill": {
              "color": "#C8D4E3"
             },
             "line": {
              "color": "white"
             }
            },
            "type": "table"
           }
          ]
         },
         "layout": {
          "annotationdefaults": {
           "arrowcolor": "#2a3f5f",
           "arrowhead": 0,
           "arrowwidth": 1
          },
          "autotypenumbers": "strict",
          "coloraxis": {
           "colorbar": {
            "outlinewidth": 0,
            "ticks": ""
           }
          },
          "colorscale": {
           "diverging": [
            [
             0,
             "#8e0152"
            ],
            [
             0.1,
             "#c51b7d"
            ],
            [
             0.2,
             "#de77ae"
            ],
            [
             0.3,
             "#f1b6da"
            ],
            [
             0.4,
             "#fde0ef"
            ],
            [
             0.5,
             "#f7f7f7"
            ],
            [
             0.6,
             "#e6f5d0"
            ],
            [
             0.7,
             "#b8e186"
            ],
            [
             0.8,
             "#7fbc41"
            ],
            [
             0.9,
             "#4d9221"
            ],
            [
             1,
             "#276419"
            ]
           ],
           "sequential": [
            [
             0,
             "#0d0887"
            ],
            [
             0.1111111111111111,
             "#46039f"
            ],
            [
             0.2222222222222222,
             "#7201a8"
            ],
            [
             0.3333333333333333,
             "#9c179e"
            ],
            [
             0.4444444444444444,
             "#bd3786"
            ],
            [
             0.5555555555555556,
             "#d8576b"
            ],
            [
             0.6666666666666666,
             "#ed7953"
            ],
            [
             0.7777777777777778,
             "#fb9f3a"
            ],
            [
             0.8888888888888888,
             "#fdca26"
            ],
            [
             1,
             "#f0f921"
            ]
           ],
           "sequentialminus": [
            [
             0,
             "#0d0887"
            ],
            [
             0.1111111111111111,
             "#46039f"
            ],
            [
             0.2222222222222222,
             "#7201a8"
            ],
            [
             0.3333333333333333,
             "#9c179e"
            ],
            [
             0.4444444444444444,
             "#bd3786"
            ],
            [
             0.5555555555555556,
             "#d8576b"
            ],
            [
             0.6666666666666666,
             "#ed7953"
            ],
            [
             0.7777777777777778,
             "#fb9f3a"
            ],
            [
             0.8888888888888888,
             "#fdca26"
            ],
            [
             1,
             "#f0f921"
            ]
           ]
          },
          "colorway": [
           "#636efa",
           "#EF553B",
           "#00cc96",
           "#ab63fa",
           "#FFA15A",
           "#19d3f3",
           "#FF6692",
           "#B6E880",
           "#FF97FF",
           "#FECB52"
          ],
          "font": {
           "color": "#2a3f5f"
          },
          "geo": {
           "bgcolor": "white",
           "lakecolor": "white",
           "landcolor": "#E5ECF6",
           "showlakes": true,
           "showland": true,
           "subunitcolor": "white"
          },
          "hoverlabel": {
           "align": "left"
          },
          "hovermode": "closest",
          "mapbox": {
           "style": "light"
          },
          "paper_bgcolor": "white",
          "plot_bgcolor": "#E5ECF6",
          "polar": {
           "angularaxis": {
            "gridcolor": "white",
            "linecolor": "white",
            "ticks": ""
           },
           "bgcolor": "#E5ECF6",
           "radialaxis": {
            "gridcolor": "white",
            "linecolor": "white",
            "ticks": ""
           }
          },
          "scene": {
           "xaxis": {
            "backgroundcolor": "#E5ECF6",
            "gridcolor": "white",
            "gridwidth": 2,
            "linecolor": "white",
            "showbackground": true,
            "ticks": "",
            "zerolinecolor": "white"
           },
           "yaxis": {
            "backgroundcolor": "#E5ECF6",
            "gridcolor": "white",
            "gridwidth": 2,
            "linecolor": "white",
            "showbackground": true,
            "ticks": "",
            "zerolinecolor": "white"
           },
           "zaxis": {
            "backgroundcolor": "#E5ECF6",
            "gridcolor": "white",
            "gridwidth": 2,
            "linecolor": "white",
            "showbackground": true,
            "ticks": "",
            "zerolinecolor": "white"
           }
          },
          "shapedefaults": {
           "line": {
            "color": "#2a3f5f"
           }
          },
          "ternary": {
           "aaxis": {
            "gridcolor": "white",
            "linecolor": "white",
            "ticks": ""
           },
           "baxis": {
            "gridcolor": "white",
            "linecolor": "white",
            "ticks": ""
           },
           "bgcolor": "#E5ECF6",
           "caxis": {
            "gridcolor": "white",
            "linecolor": "white",
            "ticks": ""
           }
          },
          "title": {
           "x": 0.05
          },
          "xaxis": {
           "automargin": true,
           "gridcolor": "white",
           "linecolor": "white",
           "ticks": "",
           "title": {
            "standoff": 15
           },
           "zerolinecolor": "white",
           "zerolinewidth": 2
          },
          "yaxis": {
           "automargin": true,
           "gridcolor": "white",
           "linecolor": "white",
           "ticks": "",
           "title": {
            "standoff": 15
           },
           "zerolinecolor": "white",
           "zerolinewidth": 2
          }
         }
        },
        "title": {
         "text": "Average Number of Taxi Trips per Hour of the day"
        },
        "xaxis": {
         "anchor": "y",
         "domain": [
          0,
          1
         ],
         "title": {
          "text": "pickup_hour"
         }
        },
        "yaxis": {
         "anchor": "x",
         "domain": [
          0,
          1
         ],
         "title": {
          "text": "num_trips"
         }
        }
       }
      }
     },
     "metadata": {},
     "output_type": "display_data"
    }
   ],
   "source": [
    "# Tracez le graphique de barres\n",
    "fig = px.bar(df_hourly, x=\"pickup_hour\", y=\"num_trips\")\n",
    "fig.update_layout(title=\"Average Number of Taxi Trips per Hour of the day\")\n",
    "fig.show()"
   ]
  },
  {
   "cell_type": "markdown",
   "metadata": {},
   "source": [
    "## Analyse des zones"
   ]
  },
  {
   "cell_type": "code",
   "execution_count": 4,
   "metadata": {},
   "outputs": [
    {
     "data": {
      "text/plain": [
       "generator"
      ]
     },
     "execution_count": 4,
     "metadata": {},
     "output_type": "execute_result"
    }
   ],
   "source": [
    "# Extraction des données des trajets en taxi de l'annee 2023\n",
    "query = \"\"\"\n",
    "    SELECT *\n",
    "    FROM ytaxi_histo\n",
    "    WHERE \n",
    "\t(trip_distance > 0 AND passenger_count > 0) \n",
    "\tAND \n",
    "\t(EXTRACT(YEAR FROM tpep_pickup_datetime) = 2023 AND EXTRACT(YEAR FROM tpep_dropoff_datetime) = 2023);\n",
    "\"\"\"\n",
    "result_generator = pd.read_sql(query, engine, chunksize=100000)\n",
    "type(result_generator)"
   ]
  },
  {
   "cell_type": "code",
   "execution_count": 5,
   "metadata": {},
   "outputs": [
    {
     "name": "stdout",
     "output_type": "stream",
     "text": [
      "(35950908, 19)\n"
     ]
    },
    {
     "data": {
      "text/html": [
       "<div>\n",
       "<style scoped>\n",
       "    .dataframe tbody tr th:only-of-type {\n",
       "        vertical-align: middle;\n",
       "    }\n",
       "\n",
       "    .dataframe tbody tr th {\n",
       "        vertical-align: top;\n",
       "    }\n",
       "\n",
       "    .dataframe thead th {\n",
       "        text-align: right;\n",
       "    }\n",
       "</style>\n",
       "<table border=\"1\" class=\"dataframe\">\n",
       "  <thead>\n",
       "    <tr style=\"text-align: right;\">\n",
       "      <th></th>\n",
       "      <th>vendorid</th>\n",
       "      <th>tpep_pickup_datetime</th>\n",
       "      <th>tpep_dropoff_datetime</th>\n",
       "      <th>passenger_count</th>\n",
       "      <th>trip_distance</th>\n",
       "      <th>ratecodeid</th>\n",
       "      <th>store_and_fwd_flag</th>\n",
       "      <th>pulocationid</th>\n",
       "      <th>dolocationid</th>\n",
       "      <th>payment_type</th>\n",
       "      <th>fare_amount</th>\n",
       "      <th>extra</th>\n",
       "      <th>mta_tax</th>\n",
       "      <th>tip_amount</th>\n",
       "      <th>tolls_amount</th>\n",
       "      <th>improvement_surcharge</th>\n",
       "      <th>total_amount</th>\n",
       "      <th>congestion_surcharge</th>\n",
       "      <th>airport_fee</th>\n",
       "    </tr>\n",
       "  </thead>\n",
       "  <tbody>\n",
       "    <tr>\n",
       "      <th>0</th>\n",
       "      <td>2</td>\n",
       "      <td>2023-08-02 14:58:35</td>\n",
       "      <td>2023-08-02 15:39:09</td>\n",
       "      <td>1.0</td>\n",
       "      <td>14.59</td>\n",
       "      <td>1.0</td>\n",
       "      <td>N</td>\n",
       "      <td>132</td>\n",
       "      <td>226</td>\n",
       "      <td>2</td>\n",
       "      <td>58.3</td>\n",
       "      <td>0.0</td>\n",
       "      <td>0.5</td>\n",
       "      <td>0.00</td>\n",
       "      <td>0.00</td>\n",
       "      <td>1.0</td>\n",
       "      <td>61.55</td>\n",
       "      <td>0.0</td>\n",
       "      <td>1.75</td>\n",
       "    </tr>\n",
       "    <tr>\n",
       "      <th>1</th>\n",
       "      <td>2</td>\n",
       "      <td>2023-08-01 14:35:26</td>\n",
       "      <td>2023-08-01 14:55:15</td>\n",
       "      <td>1.0</td>\n",
       "      <td>2.76</td>\n",
       "      <td>1.0</td>\n",
       "      <td>N</td>\n",
       "      <td>137</td>\n",
       "      <td>262</td>\n",
       "      <td>1</td>\n",
       "      <td>18.4</td>\n",
       "      <td>0.0</td>\n",
       "      <td>0.5</td>\n",
       "      <td>2.24</td>\n",
       "      <td>0.00</td>\n",
       "      <td>1.0</td>\n",
       "      <td>24.64</td>\n",
       "      <td>2.5</td>\n",
       "      <td>0.00</td>\n",
       "    </tr>\n",
       "    <tr>\n",
       "      <th>2</th>\n",
       "      <td>1</td>\n",
       "      <td>2023-08-01 14:47:04</td>\n",
       "      <td>2023-08-01 15:15:28</td>\n",
       "      <td>1.0</td>\n",
       "      <td>3.50</td>\n",
       "      <td>1.0</td>\n",
       "      <td>N</td>\n",
       "      <td>231</td>\n",
       "      <td>48</td>\n",
       "      <td>1</td>\n",
       "      <td>23.3</td>\n",
       "      <td>2.5</td>\n",
       "      <td>0.5</td>\n",
       "      <td>5.45</td>\n",
       "      <td>0.00</td>\n",
       "      <td>1.0</td>\n",
       "      <td>32.75</td>\n",
       "      <td>2.5</td>\n",
       "      <td>0.00</td>\n",
       "    </tr>\n",
       "    <tr>\n",
       "      <th>3</th>\n",
       "      <td>2</td>\n",
       "      <td>2023-08-01 14:27:50</td>\n",
       "      <td>2023-08-01 14:47:58</td>\n",
       "      <td>1.0</td>\n",
       "      <td>3.08</td>\n",
       "      <td>1.0</td>\n",
       "      <td>N</td>\n",
       "      <td>107</td>\n",
       "      <td>140</td>\n",
       "      <td>2</td>\n",
       "      <td>19.8</td>\n",
       "      <td>0.0</td>\n",
       "      <td>0.5</td>\n",
       "      <td>0.00</td>\n",
       "      <td>0.00</td>\n",
       "      <td>1.0</td>\n",
       "      <td>23.80</td>\n",
       "      <td>2.5</td>\n",
       "      <td>0.00</td>\n",
       "    </tr>\n",
       "    <tr>\n",
       "      <th>4</th>\n",
       "      <td>2</td>\n",
       "      <td>2023-08-01 14:55:52</td>\n",
       "      <td>2023-08-01 15:23:06</td>\n",
       "      <td>1.0</td>\n",
       "      <td>9.98</td>\n",
       "      <td>1.0</td>\n",
       "      <td>N</td>\n",
       "      <td>140</td>\n",
       "      <td>138</td>\n",
       "      <td>1</td>\n",
       "      <td>40.1</td>\n",
       "      <td>5.0</td>\n",
       "      <td>0.5</td>\n",
       "      <td>11.13</td>\n",
       "      <td>6.55</td>\n",
       "      <td>1.0</td>\n",
       "      <td>66.78</td>\n",
       "      <td>2.5</td>\n",
       "      <td>0.00</td>\n",
       "    </tr>\n",
       "  </tbody>\n",
       "</table>\n",
       "</div>"
      ],
      "text/plain": [
       "   vendorid tpep_pickup_datetime tpep_dropoff_datetime  passenger_count  \\\n",
       "0         2  2023-08-02 14:58:35   2023-08-02 15:39:09              1.0   \n",
       "1         2  2023-08-01 14:35:26   2023-08-01 14:55:15              1.0   \n",
       "2         1  2023-08-01 14:47:04   2023-08-01 15:15:28              1.0   \n",
       "3         2  2023-08-01 14:27:50   2023-08-01 14:47:58              1.0   \n",
       "4         2  2023-08-01 14:55:52   2023-08-01 15:23:06              1.0   \n",
       "\n",
       "   trip_distance  ratecodeid store_and_fwd_flag  pulocationid  dolocationid  \\\n",
       "0          14.59         1.0                  N           132           226   \n",
       "1           2.76         1.0                  N           137           262   \n",
       "2           3.50         1.0                  N           231            48   \n",
       "3           3.08         1.0                  N           107           140   \n",
       "4           9.98         1.0                  N           140           138   \n",
       "\n",
       "   payment_type  fare_amount  extra  mta_tax  tip_amount  tolls_amount  \\\n",
       "0             2         58.3    0.0      0.5        0.00          0.00   \n",
       "1             1         18.4    0.0      0.5        2.24          0.00   \n",
       "2             1         23.3    2.5      0.5        5.45          0.00   \n",
       "3             2         19.8    0.0      0.5        0.00          0.00   \n",
       "4             1         40.1    5.0      0.5       11.13          6.55   \n",
       "\n",
       "   improvement_surcharge  total_amount  congestion_surcharge  airport_fee  \n",
       "0                    1.0         61.55                   0.0         1.75  \n",
       "1                    1.0         24.64                   2.5         0.00  \n",
       "2                    1.0         32.75                   2.5         0.00  \n",
       "3                    1.0         23.80                   2.5         0.00  \n",
       "4                    1.0         66.78                   2.5         0.00  "
      ]
     },
     "execution_count": 5,
     "metadata": {},
     "output_type": "execute_result"
    }
   ],
   "source": [
    "# Initialise une liste pour stocker les chunks de DataFrame\n",
    "df_chunks = []\n",
    "\n",
    "# Parcourir le générateur pour obtenir les DataFrame chunk par chunk\n",
    "for df_chunk in result_generator:\n",
    "    df_chunks.append(df_chunk)\n",
    "\n",
    "# Concaténer tous les chunks de DataFrame en une seule DataFrame\n",
    "df_trips = pd.concat(df_chunks, ignore_index=True)\n",
    "\n",
    "# Afficher la DataFrame complète\n",
    "print(df_trips.shape)\n",
    "df_trips.head()"
   ]
  },
  {
   "cell_type": "code",
   "execution_count": 6,
   "metadata": {},
   "outputs": [
    {
     "data": {
      "text/html": [
       "<div>\n",
       "<style scoped>\n",
       "    .dataframe tbody tr th:only-of-type {\n",
       "        vertical-align: middle;\n",
       "    }\n",
       "\n",
       "    .dataframe tbody tr th {\n",
       "        vertical-align: top;\n",
       "    }\n",
       "\n",
       "    .dataframe thead th {\n",
       "        text-align: right;\n",
       "    }\n",
       "</style>\n",
       "<table border=\"1\" class=\"dataframe\">\n",
       "  <thead>\n",
       "    <tr style=\"text-align: right;\">\n",
       "      <th></th>\n",
       "      <th>locationid</th>\n",
       "      <th>borough</th>\n",
       "      <th>zone</th>\n",
       "      <th>service_zone</th>\n",
       "    </tr>\n",
       "  </thead>\n",
       "  <tbody>\n",
       "    <tr>\n",
       "      <th>0</th>\n",
       "      <td>1</td>\n",
       "      <td>EWR</td>\n",
       "      <td>Newark Airport</td>\n",
       "      <td>EWR</td>\n",
       "    </tr>\n",
       "    <tr>\n",
       "      <th>1</th>\n",
       "      <td>2</td>\n",
       "      <td>Queens</td>\n",
       "      <td>Jamaica Bay</td>\n",
       "      <td>Boro Zone</td>\n",
       "    </tr>\n",
       "    <tr>\n",
       "      <th>2</th>\n",
       "      <td>3</td>\n",
       "      <td>Bronx</td>\n",
       "      <td>Allerton/Pelham Gardens</td>\n",
       "      <td>Boro Zone</td>\n",
       "    </tr>\n",
       "    <tr>\n",
       "      <th>3</th>\n",
       "      <td>4</td>\n",
       "      <td>Manhattan</td>\n",
       "      <td>Alphabet City</td>\n",
       "      <td>Yellow Zone</td>\n",
       "    </tr>\n",
       "    <tr>\n",
       "      <th>4</th>\n",
       "      <td>5</td>\n",
       "      <td>Staten Island</td>\n",
       "      <td>Arden Heights</td>\n",
       "      <td>Boro Zone</td>\n",
       "    </tr>\n",
       "    <tr>\n",
       "      <th>...</th>\n",
       "      <td>...</td>\n",
       "      <td>...</td>\n",
       "      <td>...</td>\n",
       "      <td>...</td>\n",
       "    </tr>\n",
       "    <tr>\n",
       "      <th>260</th>\n",
       "      <td>261</td>\n",
       "      <td>Manhattan</td>\n",
       "      <td>World Trade Center</td>\n",
       "      <td>Yellow Zone</td>\n",
       "    </tr>\n",
       "    <tr>\n",
       "      <th>261</th>\n",
       "      <td>262</td>\n",
       "      <td>Manhattan</td>\n",
       "      <td>Yorkville East</td>\n",
       "      <td>Yellow Zone</td>\n",
       "    </tr>\n",
       "    <tr>\n",
       "      <th>262</th>\n",
       "      <td>263</td>\n",
       "      <td>Manhattan</td>\n",
       "      <td>Yorkville West</td>\n",
       "      <td>Yellow Zone</td>\n",
       "    </tr>\n",
       "    <tr>\n",
       "      <th>263</th>\n",
       "      <td>264</td>\n",
       "      <td>Unknown</td>\n",
       "      <td>None</td>\n",
       "      <td>None</td>\n",
       "    </tr>\n",
       "    <tr>\n",
       "      <th>264</th>\n",
       "      <td>265</td>\n",
       "      <td>None</td>\n",
       "      <td>Outside of NYC</td>\n",
       "      <td>None</td>\n",
       "    </tr>\n",
       "  </tbody>\n",
       "</table>\n",
       "<p>265 rows × 4 columns</p>\n",
       "</div>"
      ],
      "text/plain": [
       "     locationid        borough                     zone service_zone\n",
       "0             1            EWR           Newark Airport          EWR\n",
       "1             2         Queens              Jamaica Bay    Boro Zone\n",
       "2             3          Bronx  Allerton/Pelham Gardens    Boro Zone\n",
       "3             4      Manhattan            Alphabet City  Yellow Zone\n",
       "4             5  Staten Island            Arden Heights    Boro Zone\n",
       "..          ...            ...                      ...          ...\n",
       "260         261      Manhattan       World Trade Center  Yellow Zone\n",
       "261         262      Manhattan           Yorkville East  Yellow Zone\n",
       "262         263      Manhattan           Yorkville West  Yellow Zone\n",
       "263         264        Unknown                     None         None\n",
       "264         265           None           Outside of NYC         None\n",
       "\n",
       "[265 rows x 4 columns]"
      ]
     },
     "execution_count": 6,
     "metadata": {},
     "output_type": "execute_result"
    }
   ],
   "source": [
    "df_zones = pd.read_sql(\"SELECT * FROM taxi_zone;\", engine)\n",
    "df_zones"
   ]
  },
  {
   "cell_type": "code",
   "execution_count": 4,
   "metadata": {},
   "outputs": [
    {
     "data": {
      "text/html": [
       "<div>\n",
       "<style scoped>\n",
       "    .dataframe tbody tr th:only-of-type {\n",
       "        vertical-align: middle;\n",
       "    }\n",
       "\n",
       "    .dataframe tbody tr th {\n",
       "        vertical-align: top;\n",
       "    }\n",
       "\n",
       "    .dataframe thead th {\n",
       "        text-align: right;\n",
       "    }\n",
       "</style>\n",
       "<table border=\"1\" class=\"dataframe\">\n",
       "  <thead>\n",
       "    <tr style=\"text-align: right;\">\n",
       "      <th></th>\n",
       "      <th>vendorid</th>\n",
       "      <th>tpep_pickup_datetime</th>\n",
       "      <th>tpep_dropoff_datetime</th>\n",
       "      <th>passenger_count</th>\n",
       "      <th>trip_distance</th>\n",
       "      <th>ratecodeid</th>\n",
       "      <th>store_and_fwd_flag</th>\n",
       "      <th>pulocationid</th>\n",
       "      <th>dolocationid</th>\n",
       "      <th>payment_type</th>\n",
       "      <th>...</th>\n",
       "      <th>improvement_surcharge</th>\n",
       "      <th>total_amount</th>\n",
       "      <th>congestion_surcharge</th>\n",
       "      <th>airport_fee</th>\n",
       "      <th>puborough</th>\n",
       "      <th>puzone</th>\n",
       "      <th>pu_service_zone</th>\n",
       "      <th>doborough</th>\n",
       "      <th>dozone</th>\n",
       "      <th>do_service_zone</th>\n",
       "    </tr>\n",
       "  </thead>\n",
       "  <tbody>\n",
       "    <tr>\n",
       "      <th>0</th>\n",
       "      <td>2</td>\n",
       "      <td>2023-08-01 14:35:26</td>\n",
       "      <td>2023-08-01 14:55:15</td>\n",
       "      <td>1.0</td>\n",
       "      <td>2.76</td>\n",
       "      <td>1.0</td>\n",
       "      <td>N</td>\n",
       "      <td>137</td>\n",
       "      <td>262</td>\n",
       "      <td>1</td>\n",
       "      <td>...</td>\n",
       "      <td>1.0</td>\n",
       "      <td>24.64</td>\n",
       "      <td>2.5</td>\n",
       "      <td>0.00</td>\n",
       "      <td>Manhattan</td>\n",
       "      <td>Kips Bay</td>\n",
       "      <td>Yellow Zone</td>\n",
       "      <td>Manhattan</td>\n",
       "      <td>Yorkville East</td>\n",
       "      <td>Yellow Zone</td>\n",
       "    </tr>\n",
       "    <tr>\n",
       "      <th>1</th>\n",
       "      <td>1</td>\n",
       "      <td>2023-08-01 14:47:04</td>\n",
       "      <td>2023-08-01 15:15:28</td>\n",
       "      <td>1.0</td>\n",
       "      <td>3.50</td>\n",
       "      <td>1.0</td>\n",
       "      <td>N</td>\n",
       "      <td>231</td>\n",
       "      <td>48</td>\n",
       "      <td>1</td>\n",
       "      <td>...</td>\n",
       "      <td>1.0</td>\n",
       "      <td>32.75</td>\n",
       "      <td>2.5</td>\n",
       "      <td>0.00</td>\n",
       "      <td>Manhattan</td>\n",
       "      <td>TriBeCa/Civic Center</td>\n",
       "      <td>Yellow Zone</td>\n",
       "      <td>Manhattan</td>\n",
       "      <td>Clinton East</td>\n",
       "      <td>Yellow Zone</td>\n",
       "    </tr>\n",
       "    <tr>\n",
       "      <th>2</th>\n",
       "      <td>2</td>\n",
       "      <td>2023-08-01 14:27:50</td>\n",
       "      <td>2023-08-01 14:47:58</td>\n",
       "      <td>1.0</td>\n",
       "      <td>3.08</td>\n",
       "      <td>1.0</td>\n",
       "      <td>N</td>\n",
       "      <td>107</td>\n",
       "      <td>140</td>\n",
       "      <td>2</td>\n",
       "      <td>...</td>\n",
       "      <td>1.0</td>\n",
       "      <td>23.80</td>\n",
       "      <td>2.5</td>\n",
       "      <td>0.00</td>\n",
       "      <td>Manhattan</td>\n",
       "      <td>Gramercy</td>\n",
       "      <td>Yellow Zone</td>\n",
       "      <td>Manhattan</td>\n",
       "      <td>Lenox Hill East</td>\n",
       "      <td>Yellow Zone</td>\n",
       "    </tr>\n",
       "    <tr>\n",
       "      <th>3</th>\n",
       "      <td>2</td>\n",
       "      <td>2023-08-01 14:55:52</td>\n",
       "      <td>2023-08-01 15:23:06</td>\n",
       "      <td>1.0</td>\n",
       "      <td>9.98</td>\n",
       "      <td>1.0</td>\n",
       "      <td>N</td>\n",
       "      <td>140</td>\n",
       "      <td>138</td>\n",
       "      <td>1</td>\n",
       "      <td>...</td>\n",
       "      <td>1.0</td>\n",
       "      <td>66.78</td>\n",
       "      <td>2.5</td>\n",
       "      <td>0.00</td>\n",
       "      <td>Manhattan</td>\n",
       "      <td>Lenox Hill East</td>\n",
       "      <td>Yellow Zone</td>\n",
       "      <td>Queens</td>\n",
       "      <td>LaGuardia Airport</td>\n",
       "      <td>Airports</td>\n",
       "    </tr>\n",
       "    <tr>\n",
       "      <th>4</th>\n",
       "      <td>1</td>\n",
       "      <td>2023-08-01 14:37:36</td>\n",
       "      <td>2023-08-01 15:43:07</td>\n",
       "      <td>2.0</td>\n",
       "      <td>10.10</td>\n",
       "      <td>1.0</td>\n",
       "      <td>N</td>\n",
       "      <td>138</td>\n",
       "      <td>79</td>\n",
       "      <td>2</td>\n",
       "      <td>...</td>\n",
       "      <td>1.0</td>\n",
       "      <td>72.55</td>\n",
       "      <td>2.5</td>\n",
       "      <td>1.75</td>\n",
       "      <td>Queens</td>\n",
       "      <td>LaGuardia Airport</td>\n",
       "      <td>Airports</td>\n",
       "      <td>Manhattan</td>\n",
       "      <td>East Village</td>\n",
       "      <td>Yellow Zone</td>\n",
       "    </tr>\n",
       "  </tbody>\n",
       "</table>\n",
       "<p>5 rows × 25 columns</p>\n",
       "</div>"
      ],
      "text/plain": [
       "   vendorid tpep_pickup_datetime tpep_dropoff_datetime  passenger_count  \\\n",
       "0         2  2023-08-01 14:35:26   2023-08-01 14:55:15              1.0   \n",
       "1         1  2023-08-01 14:47:04   2023-08-01 15:15:28              1.0   \n",
       "2         2  2023-08-01 14:27:50   2023-08-01 14:47:58              1.0   \n",
       "3         2  2023-08-01 14:55:52   2023-08-01 15:23:06              1.0   \n",
       "4         1  2023-08-01 14:37:36   2023-08-01 15:43:07              2.0   \n",
       "\n",
       "   trip_distance  ratecodeid store_and_fwd_flag  pulocationid  dolocationid  \\\n",
       "0           2.76         1.0                  N           137           262   \n",
       "1           3.50         1.0                  N           231            48   \n",
       "2           3.08         1.0                  N           107           140   \n",
       "3           9.98         1.0                  N           140           138   \n",
       "4          10.10         1.0                  N           138            79   \n",
       "\n",
       "   payment_type  ...  improvement_surcharge  total_amount  \\\n",
       "0             1  ...                    1.0         24.64   \n",
       "1             1  ...                    1.0         32.75   \n",
       "2             2  ...                    1.0         23.80   \n",
       "3             1  ...                    1.0         66.78   \n",
       "4             2  ...                    1.0         72.55   \n",
       "\n",
       "   congestion_surcharge  airport_fee  puborough                puzone  \\\n",
       "0                   2.5         0.00  Manhattan              Kips Bay   \n",
       "1                   2.5         0.00  Manhattan  TriBeCa/Civic Center   \n",
       "2                   2.5         0.00  Manhattan              Gramercy   \n",
       "3                   2.5         0.00  Manhattan       Lenox Hill East   \n",
       "4                   2.5         1.75     Queens     LaGuardia Airport   \n",
       "\n",
       "   pu_service_zone  doborough             dozone do_service_zone  \n",
       "0      Yellow Zone  Manhattan     Yorkville East     Yellow Zone  \n",
       "1      Yellow Zone  Manhattan       Clinton East     Yellow Zone  \n",
       "2      Yellow Zone  Manhattan    Lenox Hill East     Yellow Zone  \n",
       "3      Yellow Zone     Queens  LaGuardia Airport        Airports  \n",
       "4         Airports  Manhattan       East Village     Yellow Zone  \n",
       "\n",
       "[5 rows x 25 columns]"
      ]
     },
     "execution_count": 4,
     "metadata": {},
     "output_type": "execute_result"
    }
   ],
   "source": [
    "# Charger uniquement les colonnes pertinentes de df_zones pour réduire la mémoire utilisée\n",
    "df_zones_subset = df_zones[['locationid', 'borough', 'zone', 'service_zone']]\n",
    "\n",
    "# Extraction des données des trajets en taxi de l'annee 2023\n",
    "query = \"\"\"\n",
    "    SELECT *\n",
    "    FROM ytaxi_histo\n",
    "    WHERE \n",
    "\t(trip_distance > 0 AND passenger_count > 0) \n",
    "\tAND \n",
    "\t(EXTRACT(YEAR FROM tpep_pickup_datetime) = 2023 AND EXTRACT(YEAR FROM tpep_dropoff_datetime) = 2023);\n",
    "\"\"\"\n",
    "\n",
    "# Définir la taille des morceaux pour la fusion\n",
    "chunksize = 100000  # par exemple, fusionner par paquets de 100 milles lignes\n",
    "\n",
    "# Generateur des morceaux de la table ytaxi_histo\n",
    "result_generator = pd.read_sql(query, engine, chunksize=chunksize)\n",
    "\n",
    "# Initialiser une liste pour stocker les morceaux fusionnés\n",
    "merged_chunks = []\n",
    "\n",
    "# Parcourir les morceaux de df_trips\n",
    "for chunk in result_generator:\n",
    "    # Fusionner le morceau actuel avec df_zones_subset sur pulocationid\n",
    "    merged_chunk = pd.merge(chunk, df_zones_subset.rename(columns={'borough': 'puborough', 'zone': 'puzone', 'service_zone': 'pu_service_zone'}),\n",
    "                            how='left', left_on='pulocationid', right_on='locationid')\n",
    "    \n",
    "    # Fusionner le morceau actuel avec df_zones_subset sur dolocationid\n",
    "    merged_chunk = pd.merge(merged_chunk, df_zones_subset.rename(columns={'borough': 'doborough', 'zone': 'dozone', 'service_zone': 'do_service_zone'}),\n",
    "                            how='left', left_on='dolocationid', right_on='locationid')\n",
    "    \n",
    "    # Ajouter le morceau fusionné à la liste\n",
    "    merged_chunks.append(merged_chunk)\n",
    "\n",
    "# Concaténer tous les morceaux fusionnés pour former la DataFrame finale\n",
    "df_trips = pd.concat(merged_chunks, ignore_index=True)\n",
    "\n",
    "# Supprimer les colonnes redondantes\n",
    "df_trips.drop(columns=['locationid_x', 'locationid_y'], inplace=True)\n",
    "\n",
    "# Afficher la DataFrame avec les nouvelles colonnes\n",
    "df_trips.head()"
   ]
  },
  {
   "cell_type": "code",
   "execution_count": 5,
   "metadata": {},
   "outputs": [
    {
     "data": {
      "text/plain": [
       "vendorid                      0\n",
       "tpep_pickup_datetime          0\n",
       "tpep_dropoff_datetime         0\n",
       "passenger_count               0\n",
       "trip_distance                 0\n",
       "ratecodeid                    0\n",
       "store_and_fwd_flag            0\n",
       "pulocationid                  0\n",
       "dolocationid                  0\n",
       "payment_type                  0\n",
       "fare_amount                   0\n",
       "extra                         0\n",
       "mta_tax                       0\n",
       "tip_amount                    0\n",
       "tolls_amount                  0\n",
       "improvement_surcharge         0\n",
       "total_amount                  0\n",
       "congestion_surcharge          0\n",
       "airport_fee                   0\n",
       "puborough                  6778\n",
       "puzone                   317540\n",
       "pu_service_zone          324318\n",
       "doborough                144915\n",
       "dozone                   325987\n",
       "do_service_zone          470902\n",
       "dtype: int64"
      ]
     },
     "execution_count": 5,
     "metadata": {},
     "output_type": "execute_result"
    }
   ],
   "source": [
    "df_trips.isna().sum()"
   ]
  },
  {
   "cell_type": "markdown",
   "metadata": {},
   "source": [
    "Ce résultat de `df_trips.isna().sum()` indique le nombre de valeurs manquantes (NaN) pour chaque colonne de la DataFrame `df_trips`. Voici ce que chaque colonne représente :\n",
    "\n",
    "- `puborough`: Le nombre de valeurs manquantes dans cette colonne indique le nombre de trajets où la zone de prise en charge (`pulocationid`) n'a pas de correspondance dans la DataFrame `df_zones` pour le nom du borough.\n",
    "- `puzone`: Le nombre de valeurs manquantes dans cette colonne indique le nombre de trajets où la zone de prise en charge (`pulocationid`) n'a pas de correspondance dans la DataFrame `df_zones` pour le nom de la zone.\n",
    "- `pu_service_zone`: Le nombre de valeurs manquantes dans cette colonne indique le nombre de trajets où la zone de prise en charge (`pulocationid`) n'a pas de correspondance dans la DataFrame `df_zones` pour la zone de service.\n",
    "- `doborough`: Le nombre de valeurs manquantes dans cette colonne indique le nombre de trajets où la zone de dépose (`dolocationid`) n'a pas de correspondance dans la DataFrame `df_zones` pour le nom du borough.\n",
    "- `dozone`: Le nombre de valeurs manquantes dans cette colonne indique le nombre de trajets où la zone de dépose (`dolocationid`) n'a pas de correspondance dans la DataFrame `df_zones` pour le nom de la zone.\n",
    "- `do_service_zone`: Le nombre de valeurs manquantes dans cette colonne indique le nombre de trajets où la zone de dépose (`dolocationid`) n'a pas de correspondance dans la DataFrame `df_zones` pour la zone de service.\n",
    "\n",
    "En résumé, les valeurs manquantes dans ces colonnes indiquent des incohérences ou des données manquantes dans la correspondance entre les identifiants de localisation (`pulocationid` et `dolocationid`) dans la DataFrame `df_trips` et les données de la DataFrame `df_zones`. Il peut être nécessaire d'examiner de plus près ces données manquantes pour comprendre pourquoi elles se produisent et comment les traiter en conséquence."
   ]
  },
  {
   "cell_type": "code",
   "execution_count": 6,
   "metadata": {},
   "outputs": [],
   "source": [
    "# Supprimer les lignes avec des valeurs manquantes dans les donnees\n",
    "df_trips = df_trips.dropna(axis=0)\n",
    "\n",
    "# Enregistrer la DataFrame nettoyée au format Parquet\n",
    "df_trips.to_parquet('trips_cleaned.parquet', index=False)"
   ]
  },
  {
   "cell_type": "code",
   "execution_count": 7,
   "metadata": {},
   "outputs": [
    {
     "name": "stdout",
     "output_type": "stream",
     "text": [
      "(35412547, 25)\n"
     ]
    },
    {
     "data": {
      "text/plain": [
       "vendorid                 0\n",
       "tpep_pickup_datetime     0\n",
       "tpep_dropoff_datetime    0\n",
       "passenger_count          0\n",
       "trip_distance            0\n",
       "ratecodeid               0\n",
       "store_and_fwd_flag       0\n",
       "pulocationid             0\n",
       "dolocationid             0\n",
       "payment_type             0\n",
       "fare_amount              0\n",
       "extra                    0\n",
       "mta_tax                  0\n",
       "tip_amount               0\n",
       "tolls_amount             0\n",
       "improvement_surcharge    0\n",
       "total_amount             0\n",
       "congestion_surcharge     0\n",
       "airport_fee              0\n",
       "puborough                0\n",
       "puzone                   0\n",
       "pu_service_zone          0\n",
       "doborough                0\n",
       "dozone                   0\n",
       "do_service_zone          0\n",
       "dtype: int64"
      ]
     },
     "execution_count": 7,
     "metadata": {},
     "output_type": "execute_result"
    }
   ],
   "source": [
    "print(df_trips.shape)\n",
    "df_trips.isna().sum()"
   ]
  },
  {
   "cell_type": "markdown",
   "metadata": {},
   "source": [
    "### Arrondissements de prise en charge les plus populaires"
   ]
  },
  {
   "cell_type": "code",
   "execution_count": 12,
   "metadata": {},
   "outputs": [
    {
     "data": {
      "text/html": [
       "<div>\n",
       "<style scoped>\n",
       "    .dataframe tbody tr th:only-of-type {\n",
       "        vertical-align: middle;\n",
       "    }\n",
       "\n",
       "    .dataframe tbody tr th {\n",
       "        vertical-align: top;\n",
       "    }\n",
       "\n",
       "    .dataframe thead th {\n",
       "        text-align: right;\n",
       "    }\n",
       "</style>\n",
       "<table border=\"1\" class=\"dataframe\">\n",
       "  <thead>\n",
       "    <tr style=\"text-align: right;\">\n",
       "      <th></th>\n",
       "      <th>Arrondissement</th>\n",
       "      <th>Nombre de trajets</th>\n",
       "    </tr>\n",
       "  </thead>\n",
       "  <tbody>\n",
       "    <tr>\n",
       "      <th>0</th>\n",
       "      <td>Manhattan</td>\n",
       "      <td>31721709</td>\n",
       "    </tr>\n",
       "    <tr>\n",
       "      <th>1</th>\n",
       "      <td>Queens</td>\n",
       "      <td>3456194</td>\n",
       "    </tr>\n",
       "    <tr>\n",
       "      <th>2</th>\n",
       "      <td>Brooklyn</td>\n",
       "      <td>184051</td>\n",
       "    </tr>\n",
       "    <tr>\n",
       "      <th>3</th>\n",
       "      <td>Bronx</td>\n",
       "      <td>47932</td>\n",
       "    </tr>\n",
       "    <tr>\n",
       "      <th>4</th>\n",
       "      <td>Staten Island</td>\n",
       "      <td>1749</td>\n",
       "    </tr>\n",
       "    <tr>\n",
       "      <th>5</th>\n",
       "      <td>EWR</td>\n",
       "      <td>912</td>\n",
       "    </tr>\n",
       "  </tbody>\n",
       "</table>\n",
       "</div>"
      ],
      "text/plain": [
       "  Arrondissement  Nombre de trajets\n",
       "0      Manhattan           31721709\n",
       "1         Queens            3456194\n",
       "2       Brooklyn             184051\n",
       "3          Bronx              47932\n",
       "4  Staten Island               1749\n",
       "5            EWR                912"
      ]
     },
     "execution_count": 12,
     "metadata": {},
     "output_type": "execute_result"
    }
   ],
   "source": [
    "# Compter le nombre de trajets par arrondissement de prise en charge\n",
    "pickup_counts = df_trips['puborough'].value_counts().reset_index()\n",
    "pickup_counts.columns = ['Arrondissement', 'Nombre de trajets']\n",
    "pickup_counts"
   ]
  },
  {
   "cell_type": "code",
   "execution_count": 14,
   "metadata": {},
   "outputs": [
    {
     "data": {
      "application/vnd.plotly.v1+json": {
       "config": {
        "plotlyServerURL": "https://plot.ly"
       },
       "data": [
        {
         "alignmentgroup": "True",
         "hovertemplate": "Arrondissement de prise en charge=%{x}<br>Nombre de trajets=%{y}<extra></extra>",
         "legendgroup": "",
         "marker": {
          "color": "#636efa",
          "pattern": {
           "shape": ""
          }
         },
         "name": "",
         "offsetgroup": "",
         "orientation": "v",
         "showlegend": false,
         "textposition": "auto",
         "type": "bar",
         "x": [
          "Manhattan",
          "Queens",
          "Brooklyn",
          "Bronx",
          "Staten Island",
          "EWR"
         ],
         "xaxis": "x",
         "y": [
          31721709,
          3456194,
          184051,
          47932,
          1749,
          912
         ],
         "yaxis": "y"
        }
       ],
       "layout": {
        "barmode": "relative",
        "legend": {
         "tracegroupgap": 0
        },
        "template": {
         "data": {
          "bar": [
           {
            "error_x": {
             "color": "#2a3f5f"
            },
            "error_y": {
             "color": "#2a3f5f"
            },
            "marker": {
             "line": {
              "color": "#E5ECF6",
              "width": 0.5
             },
             "pattern": {
              "fillmode": "overlay",
              "size": 10,
              "solidity": 0.2
             }
            },
            "type": "bar"
           }
          ],
          "barpolar": [
           {
            "marker": {
             "line": {
              "color": "#E5ECF6",
              "width": 0.5
             },
             "pattern": {
              "fillmode": "overlay",
              "size": 10,
              "solidity": 0.2
             }
            },
            "type": "barpolar"
           }
          ],
          "carpet": [
           {
            "aaxis": {
             "endlinecolor": "#2a3f5f",
             "gridcolor": "white",
             "linecolor": "white",
             "minorgridcolor": "white",
             "startlinecolor": "#2a3f5f"
            },
            "baxis": {
             "endlinecolor": "#2a3f5f",
             "gridcolor": "white",
             "linecolor": "white",
             "minorgridcolor": "white",
             "startlinecolor": "#2a3f5f"
            },
            "type": "carpet"
           }
          ],
          "choropleth": [
           {
            "colorbar": {
             "outlinewidth": 0,
             "ticks": ""
            },
            "type": "choropleth"
           }
          ],
          "contour": [
           {
            "colorbar": {
             "outlinewidth": 0,
             "ticks": ""
            },
            "colorscale": [
             [
              0,
              "#0d0887"
             ],
             [
              0.1111111111111111,
              "#46039f"
             ],
             [
              0.2222222222222222,
              "#7201a8"
             ],
             [
              0.3333333333333333,
              "#9c179e"
             ],
             [
              0.4444444444444444,
              "#bd3786"
             ],
             [
              0.5555555555555556,
              "#d8576b"
             ],
             [
              0.6666666666666666,
              "#ed7953"
             ],
             [
              0.7777777777777778,
              "#fb9f3a"
             ],
             [
              0.8888888888888888,
              "#fdca26"
             ],
             [
              1,
              "#f0f921"
             ]
            ],
            "type": "contour"
           }
          ],
          "contourcarpet": [
           {
            "colorbar": {
             "outlinewidth": 0,
             "ticks": ""
            },
            "type": "contourcarpet"
           }
          ],
          "heatmap": [
           {
            "colorbar": {
             "outlinewidth": 0,
             "ticks": ""
            },
            "colorscale": [
             [
              0,
              "#0d0887"
             ],
             [
              0.1111111111111111,
              "#46039f"
             ],
             [
              0.2222222222222222,
              "#7201a8"
             ],
             [
              0.3333333333333333,
              "#9c179e"
             ],
             [
              0.4444444444444444,
              "#bd3786"
             ],
             [
              0.5555555555555556,
              "#d8576b"
             ],
             [
              0.6666666666666666,
              "#ed7953"
             ],
             [
              0.7777777777777778,
              "#fb9f3a"
             ],
             [
              0.8888888888888888,
              "#fdca26"
             ],
             [
              1,
              "#f0f921"
             ]
            ],
            "type": "heatmap"
           }
          ],
          "heatmapgl": [
           {
            "colorbar": {
             "outlinewidth": 0,
             "ticks": ""
            },
            "colorscale": [
             [
              0,
              "#0d0887"
             ],
             [
              0.1111111111111111,
              "#46039f"
             ],
             [
              0.2222222222222222,
              "#7201a8"
             ],
             [
              0.3333333333333333,
              "#9c179e"
             ],
             [
              0.4444444444444444,
              "#bd3786"
             ],
             [
              0.5555555555555556,
              "#d8576b"
             ],
             [
              0.6666666666666666,
              "#ed7953"
             ],
             [
              0.7777777777777778,
              "#fb9f3a"
             ],
             [
              0.8888888888888888,
              "#fdca26"
             ],
             [
              1,
              "#f0f921"
             ]
            ],
            "type": "heatmapgl"
           }
          ],
          "histogram": [
           {
            "marker": {
             "pattern": {
              "fillmode": "overlay",
              "size": 10,
              "solidity": 0.2
             }
            },
            "type": "histogram"
           }
          ],
          "histogram2d": [
           {
            "colorbar": {
             "outlinewidth": 0,
             "ticks": ""
            },
            "colorscale": [
             [
              0,
              "#0d0887"
             ],
             [
              0.1111111111111111,
              "#46039f"
             ],
             [
              0.2222222222222222,
              "#7201a8"
             ],
             [
              0.3333333333333333,
              "#9c179e"
             ],
             [
              0.4444444444444444,
              "#bd3786"
             ],
             [
              0.5555555555555556,
              "#d8576b"
             ],
             [
              0.6666666666666666,
              "#ed7953"
             ],
             [
              0.7777777777777778,
              "#fb9f3a"
             ],
             [
              0.8888888888888888,
              "#fdca26"
             ],
             [
              1,
              "#f0f921"
             ]
            ],
            "type": "histogram2d"
           }
          ],
          "histogram2dcontour": [
           {
            "colorbar": {
             "outlinewidth": 0,
             "ticks": ""
            },
            "colorscale": [
             [
              0,
              "#0d0887"
             ],
             [
              0.1111111111111111,
              "#46039f"
             ],
             [
              0.2222222222222222,
              "#7201a8"
             ],
             [
              0.3333333333333333,
              "#9c179e"
             ],
             [
              0.4444444444444444,
              "#bd3786"
             ],
             [
              0.5555555555555556,
              "#d8576b"
             ],
             [
              0.6666666666666666,
              "#ed7953"
             ],
             [
              0.7777777777777778,
              "#fb9f3a"
             ],
             [
              0.8888888888888888,
              "#fdca26"
             ],
             [
              1,
              "#f0f921"
             ]
            ],
            "type": "histogram2dcontour"
           }
          ],
          "mesh3d": [
           {
            "colorbar": {
             "outlinewidth": 0,
             "ticks": ""
            },
            "type": "mesh3d"
           }
          ],
          "parcoords": [
           {
            "line": {
             "colorbar": {
              "outlinewidth": 0,
              "ticks": ""
             }
            },
            "type": "parcoords"
           }
          ],
          "pie": [
           {
            "automargin": true,
            "type": "pie"
           }
          ],
          "scatter": [
           {
            "fillpattern": {
             "fillmode": "overlay",
             "size": 10,
             "solidity": 0.2
            },
            "type": "scatter"
           }
          ],
          "scatter3d": [
           {
            "line": {
             "colorbar": {
              "outlinewidth": 0,
              "ticks": ""
             }
            },
            "marker": {
             "colorbar": {
              "outlinewidth": 0,
              "ticks": ""
             }
            },
            "type": "scatter3d"
           }
          ],
          "scattercarpet": [
           {
            "marker": {
             "colorbar": {
              "outlinewidth": 0,
              "ticks": ""
             }
            },
            "type": "scattercarpet"
           }
          ],
          "scattergeo": [
           {
            "marker": {
             "colorbar": {
              "outlinewidth": 0,
              "ticks": ""
             }
            },
            "type": "scattergeo"
           }
          ],
          "scattergl": [
           {
            "marker": {
             "colorbar": {
              "outlinewidth": 0,
              "ticks": ""
             }
            },
            "type": "scattergl"
           }
          ],
          "scattermapbox": [
           {
            "marker": {
             "colorbar": {
              "outlinewidth": 0,
              "ticks": ""
             }
            },
            "type": "scattermapbox"
           }
          ],
          "scatterpolar": [
           {
            "marker": {
             "colorbar": {
              "outlinewidth": 0,
              "ticks": ""
             }
            },
            "type": "scatterpolar"
           }
          ],
          "scatterpolargl": [
           {
            "marker": {
             "colorbar": {
              "outlinewidth": 0,
              "ticks": ""
             }
            },
            "type": "scatterpolargl"
           }
          ],
          "scatterternary": [
           {
            "marker": {
             "colorbar": {
              "outlinewidth": 0,
              "ticks": ""
             }
            },
            "type": "scatterternary"
           }
          ],
          "surface": [
           {
            "colorbar": {
             "outlinewidth": 0,
             "ticks": ""
            },
            "colorscale": [
             [
              0,
              "#0d0887"
             ],
             [
              0.1111111111111111,
              "#46039f"
             ],
             [
              0.2222222222222222,
              "#7201a8"
             ],
             [
              0.3333333333333333,
              "#9c179e"
             ],
             [
              0.4444444444444444,
              "#bd3786"
             ],
             [
              0.5555555555555556,
              "#d8576b"
             ],
             [
              0.6666666666666666,
              "#ed7953"
             ],
             [
              0.7777777777777778,
              "#fb9f3a"
             ],
             [
              0.8888888888888888,
              "#fdca26"
             ],
             [
              1,
              "#f0f921"
             ]
            ],
            "type": "surface"
           }
          ],
          "table": [
           {
            "cells": {
             "fill": {
              "color": "#EBF0F8"
             },
             "line": {
              "color": "white"
             }
            },
            "header": {
             "fill": {
              "color": "#C8D4E3"
             },
             "line": {
              "color": "white"
             }
            },
            "type": "table"
           }
          ]
         },
         "layout": {
          "annotationdefaults": {
           "arrowcolor": "#2a3f5f",
           "arrowhead": 0,
           "arrowwidth": 1
          },
          "autotypenumbers": "strict",
          "coloraxis": {
           "colorbar": {
            "outlinewidth": 0,
            "ticks": ""
           }
          },
          "colorscale": {
           "diverging": [
            [
             0,
             "#8e0152"
            ],
            [
             0.1,
             "#c51b7d"
            ],
            [
             0.2,
             "#de77ae"
            ],
            [
             0.3,
             "#f1b6da"
            ],
            [
             0.4,
             "#fde0ef"
            ],
            [
             0.5,
             "#f7f7f7"
            ],
            [
             0.6,
             "#e6f5d0"
            ],
            [
             0.7,
             "#b8e186"
            ],
            [
             0.8,
             "#7fbc41"
            ],
            [
             0.9,
             "#4d9221"
            ],
            [
             1,
             "#276419"
            ]
           ],
           "sequential": [
            [
             0,
             "#0d0887"
            ],
            [
             0.1111111111111111,
             "#46039f"
            ],
            [
             0.2222222222222222,
             "#7201a8"
            ],
            [
             0.3333333333333333,
             "#9c179e"
            ],
            [
             0.4444444444444444,
             "#bd3786"
            ],
            [
             0.5555555555555556,
             "#d8576b"
            ],
            [
             0.6666666666666666,
             "#ed7953"
            ],
            [
             0.7777777777777778,
             "#fb9f3a"
            ],
            [
             0.8888888888888888,
             "#fdca26"
            ],
            [
             1,
             "#f0f921"
            ]
           ],
           "sequentialminus": [
            [
             0,
             "#0d0887"
            ],
            [
             0.1111111111111111,
             "#46039f"
            ],
            [
             0.2222222222222222,
             "#7201a8"
            ],
            [
             0.3333333333333333,
             "#9c179e"
            ],
            [
             0.4444444444444444,
             "#bd3786"
            ],
            [
             0.5555555555555556,
             "#d8576b"
            ],
            [
             0.6666666666666666,
             "#ed7953"
            ],
            [
             0.7777777777777778,
             "#fb9f3a"
            ],
            [
             0.8888888888888888,
             "#fdca26"
            ],
            [
             1,
             "#f0f921"
            ]
           ]
          },
          "colorway": [
           "#636efa",
           "#EF553B",
           "#00cc96",
           "#ab63fa",
           "#FFA15A",
           "#19d3f3",
           "#FF6692",
           "#B6E880",
           "#FF97FF",
           "#FECB52"
          ],
          "font": {
           "color": "#2a3f5f"
          },
          "geo": {
           "bgcolor": "white",
           "lakecolor": "white",
           "landcolor": "#E5ECF6",
           "showlakes": true,
           "showland": true,
           "subunitcolor": "white"
          },
          "hoverlabel": {
           "align": "left"
          },
          "hovermode": "closest",
          "mapbox": {
           "style": "light"
          },
          "paper_bgcolor": "white",
          "plot_bgcolor": "#E5ECF6",
          "polar": {
           "angularaxis": {
            "gridcolor": "white",
            "linecolor": "white",
            "ticks": ""
           },
           "bgcolor": "#E5ECF6",
           "radialaxis": {
            "gridcolor": "white",
            "linecolor": "white",
            "ticks": ""
           }
          },
          "scene": {
           "xaxis": {
            "backgroundcolor": "#E5ECF6",
            "gridcolor": "white",
            "gridwidth": 2,
            "linecolor": "white",
            "showbackground": true,
            "ticks": "",
            "zerolinecolor": "white"
           },
           "yaxis": {
            "backgroundcolor": "#E5ECF6",
            "gridcolor": "white",
            "gridwidth": 2,
            "linecolor": "white",
            "showbackground": true,
            "ticks": "",
            "zerolinecolor": "white"
           },
           "zaxis": {
            "backgroundcolor": "#E5ECF6",
            "gridcolor": "white",
            "gridwidth": 2,
            "linecolor": "white",
            "showbackground": true,
            "ticks": "",
            "zerolinecolor": "white"
           }
          },
          "shapedefaults": {
           "line": {
            "color": "#2a3f5f"
           }
          },
          "ternary": {
           "aaxis": {
            "gridcolor": "white",
            "linecolor": "white",
            "ticks": ""
           },
           "baxis": {
            "gridcolor": "white",
            "linecolor": "white",
            "ticks": ""
           },
           "bgcolor": "#E5ECF6",
           "caxis": {
            "gridcolor": "white",
            "linecolor": "white",
            "ticks": ""
           }
          },
          "title": {
           "x": 0.05
          },
          "xaxis": {
           "automargin": true,
           "gridcolor": "white",
           "linecolor": "white",
           "ticks": "",
           "title": {
            "standoff": 15
           },
           "zerolinecolor": "white",
           "zerolinewidth": 2
          },
          "yaxis": {
           "automargin": true,
           "gridcolor": "white",
           "linecolor": "white",
           "ticks": "",
           "title": {
            "standoff": 15
           },
           "zerolinecolor": "white",
           "zerolinewidth": 2
          }
         }
        },
        "title": {
         "text": "Arrondissements de prise en charge"
        },
        "xaxis": {
         "anchor": "y",
         "domain": [
          0,
          1
         ],
         "tickangle": -45,
         "tickfont": {
          "size": 10
         },
         "title": {
          "text": "Arrondissement de prise en charge"
         }
        },
        "yaxis": {
         "anchor": "x",
         "domain": [
          0,
          1
         ],
         "title": {
          "text": "Nombre de trajets"
         }
        }
       }
      }
     },
     "metadata": {},
     "output_type": "display_data"
    }
   ],
   "source": [
    "# Créer le graphique des arrondissements de prise en charge\n",
    "fig = px.bar(pickup_counts, x='Arrondissement', y='Nombre de trajets', \n",
    "             title='Arrondissements de prise en charge',\n",
    "             labels={'Arrondissement': 'Arrondissement de prise en charge', 'Nombre de trajets': 'Nombre de trajets'})\n",
    "\n",
    "# Personnaliser la mise en page\n",
    "fig.update_layout(xaxis_tickangle=-45, xaxis_tickfont=dict(size=10))\n",
    "\n",
    "# Afficher le graphique\n",
    "fig.show()"
   ]
  },
  {
   "cell_type": "markdown",
   "metadata": {},
   "source": [
    "### Arrondissements de depose les plus populaires"
   ]
  },
  {
   "cell_type": "code",
   "execution_count": 15,
   "metadata": {},
   "outputs": [
    {
     "name": "stdout",
     "output_type": "stream",
     "text": [
      "  Arrondissement  Nombre de trajets\n",
      "0      Manhattan           31870398\n",
      "1         Queens            1845413\n",
      "2       Brooklyn            1375151\n",
      "3          Bronx             207571\n",
      "4            EWR             103976\n",
      "5  Staten Island              10038\n"
     ]
    },
    {
     "data": {
      "application/vnd.plotly.v1+json": {
       "config": {
        "plotlyServerURL": "https://plot.ly"
       },
       "data": [
        {
         "alignmentgroup": "True",
         "hovertemplate": "Arrondissement de dépose=%{x}<br>Nombre de trajets=%{y}<extra></extra>",
         "legendgroup": "",
         "marker": {
          "color": "#636efa",
          "pattern": {
           "shape": ""
          }
         },
         "name": "",
         "offsetgroup": "",
         "orientation": "v",
         "showlegend": false,
         "textposition": "auto",
         "type": "bar",
         "x": [
          "Manhattan",
          "Queens",
          "Brooklyn",
          "Bronx",
          "EWR",
          "Staten Island"
         ],
         "xaxis": "x",
         "y": [
          31870398,
          1845413,
          1375151,
          207571,
          103976,
          10038
         ],
         "yaxis": "y"
        }
       ],
       "layout": {
        "barmode": "relative",
        "legend": {
         "tracegroupgap": 0
        },
        "template": {
         "data": {
          "bar": [
           {
            "error_x": {
             "color": "#2a3f5f"
            },
            "error_y": {
             "color": "#2a3f5f"
            },
            "marker": {
             "line": {
              "color": "#E5ECF6",
              "width": 0.5
             },
             "pattern": {
              "fillmode": "overlay",
              "size": 10,
              "solidity": 0.2
             }
            },
            "type": "bar"
           }
          ],
          "barpolar": [
           {
            "marker": {
             "line": {
              "color": "#E5ECF6",
              "width": 0.5
             },
             "pattern": {
              "fillmode": "overlay",
              "size": 10,
              "solidity": 0.2
             }
            },
            "type": "barpolar"
           }
          ],
          "carpet": [
           {
            "aaxis": {
             "endlinecolor": "#2a3f5f",
             "gridcolor": "white",
             "linecolor": "white",
             "minorgridcolor": "white",
             "startlinecolor": "#2a3f5f"
            },
            "baxis": {
             "endlinecolor": "#2a3f5f",
             "gridcolor": "white",
             "linecolor": "white",
             "minorgridcolor": "white",
             "startlinecolor": "#2a3f5f"
            },
            "type": "carpet"
           }
          ],
          "choropleth": [
           {
            "colorbar": {
             "outlinewidth": 0,
             "ticks": ""
            },
            "type": "choropleth"
           }
          ],
          "contour": [
           {
            "colorbar": {
             "outlinewidth": 0,
             "ticks": ""
            },
            "colorscale": [
             [
              0,
              "#0d0887"
             ],
             [
              0.1111111111111111,
              "#46039f"
             ],
             [
              0.2222222222222222,
              "#7201a8"
             ],
             [
              0.3333333333333333,
              "#9c179e"
             ],
             [
              0.4444444444444444,
              "#bd3786"
             ],
             [
              0.5555555555555556,
              "#d8576b"
             ],
             [
              0.6666666666666666,
              "#ed7953"
             ],
             [
              0.7777777777777778,
              "#fb9f3a"
             ],
             [
              0.8888888888888888,
              "#fdca26"
             ],
             [
              1,
              "#f0f921"
             ]
            ],
            "type": "contour"
           }
          ],
          "contourcarpet": [
           {
            "colorbar": {
             "outlinewidth": 0,
             "ticks": ""
            },
            "type": "contourcarpet"
           }
          ],
          "heatmap": [
           {
            "colorbar": {
             "outlinewidth": 0,
             "ticks": ""
            },
            "colorscale": [
             [
              0,
              "#0d0887"
             ],
             [
              0.1111111111111111,
              "#46039f"
             ],
             [
              0.2222222222222222,
              "#7201a8"
             ],
             [
              0.3333333333333333,
              "#9c179e"
             ],
             [
              0.4444444444444444,
              "#bd3786"
             ],
             [
              0.5555555555555556,
              "#d8576b"
             ],
             [
              0.6666666666666666,
              "#ed7953"
             ],
             [
              0.7777777777777778,
              "#fb9f3a"
             ],
             [
              0.8888888888888888,
              "#fdca26"
             ],
             [
              1,
              "#f0f921"
             ]
            ],
            "type": "heatmap"
           }
          ],
          "heatmapgl": [
           {
            "colorbar": {
             "outlinewidth": 0,
             "ticks": ""
            },
            "colorscale": [
             [
              0,
              "#0d0887"
             ],
             [
              0.1111111111111111,
              "#46039f"
             ],
             [
              0.2222222222222222,
              "#7201a8"
             ],
             [
              0.3333333333333333,
              "#9c179e"
             ],
             [
              0.4444444444444444,
              "#bd3786"
             ],
             [
              0.5555555555555556,
              "#d8576b"
             ],
             [
              0.6666666666666666,
              "#ed7953"
             ],
             [
              0.7777777777777778,
              "#fb9f3a"
             ],
             [
              0.8888888888888888,
              "#fdca26"
             ],
             [
              1,
              "#f0f921"
             ]
            ],
            "type": "heatmapgl"
           }
          ],
          "histogram": [
           {
            "marker": {
             "pattern": {
              "fillmode": "overlay",
              "size": 10,
              "solidity": 0.2
             }
            },
            "type": "histogram"
           }
          ],
          "histogram2d": [
           {
            "colorbar": {
             "outlinewidth": 0,
             "ticks": ""
            },
            "colorscale": [
             [
              0,
              "#0d0887"
             ],
             [
              0.1111111111111111,
              "#46039f"
             ],
             [
              0.2222222222222222,
              "#7201a8"
             ],
             [
              0.3333333333333333,
              "#9c179e"
             ],
             [
              0.4444444444444444,
              "#bd3786"
             ],
             [
              0.5555555555555556,
              "#d8576b"
             ],
             [
              0.6666666666666666,
              "#ed7953"
             ],
             [
              0.7777777777777778,
              "#fb9f3a"
             ],
             [
              0.8888888888888888,
              "#fdca26"
             ],
             [
              1,
              "#f0f921"
             ]
            ],
            "type": "histogram2d"
           }
          ],
          "histogram2dcontour": [
           {
            "colorbar": {
             "outlinewidth": 0,
             "ticks": ""
            },
            "colorscale": [
             [
              0,
              "#0d0887"
             ],
             [
              0.1111111111111111,
              "#46039f"
             ],
             [
              0.2222222222222222,
              "#7201a8"
             ],
             [
              0.3333333333333333,
              "#9c179e"
             ],
             [
              0.4444444444444444,
              "#bd3786"
             ],
             [
              0.5555555555555556,
              "#d8576b"
             ],
             [
              0.6666666666666666,
              "#ed7953"
             ],
             [
              0.7777777777777778,
              "#fb9f3a"
             ],
             [
              0.8888888888888888,
              "#fdca26"
             ],
             [
              1,
              "#f0f921"
             ]
            ],
            "type": "histogram2dcontour"
           }
          ],
          "mesh3d": [
           {
            "colorbar": {
             "outlinewidth": 0,
             "ticks": ""
            },
            "type": "mesh3d"
           }
          ],
          "parcoords": [
           {
            "line": {
             "colorbar": {
              "outlinewidth": 0,
              "ticks": ""
             }
            },
            "type": "parcoords"
           }
          ],
          "pie": [
           {
            "automargin": true,
            "type": "pie"
           }
          ],
          "scatter": [
           {
            "fillpattern": {
             "fillmode": "overlay",
             "size": 10,
             "solidity": 0.2
            },
            "type": "scatter"
           }
          ],
          "scatter3d": [
           {
            "line": {
             "colorbar": {
              "outlinewidth": 0,
              "ticks": ""
             }
            },
            "marker": {
             "colorbar": {
              "outlinewidth": 0,
              "ticks": ""
             }
            },
            "type": "scatter3d"
           }
          ],
          "scattercarpet": [
           {
            "marker": {
             "colorbar": {
              "outlinewidth": 0,
              "ticks": ""
             }
            },
            "type": "scattercarpet"
           }
          ],
          "scattergeo": [
           {
            "marker": {
             "colorbar": {
              "outlinewidth": 0,
              "ticks": ""
             }
            },
            "type": "scattergeo"
           }
          ],
          "scattergl": [
           {
            "marker": {
             "colorbar": {
              "outlinewidth": 0,
              "ticks": ""
             }
            },
            "type": "scattergl"
           }
          ],
          "scattermapbox": [
           {
            "marker": {
             "colorbar": {
              "outlinewidth": 0,
              "ticks": ""
             }
            },
            "type": "scattermapbox"
           }
          ],
          "scatterpolar": [
           {
            "marker": {
             "colorbar": {
              "outlinewidth": 0,
              "ticks": ""
             }
            },
            "type": "scatterpolar"
           }
          ],
          "scatterpolargl": [
           {
            "marker": {
             "colorbar": {
              "outlinewidth": 0,
              "ticks": ""
             }
            },
            "type": "scatterpolargl"
           }
          ],
          "scatterternary": [
           {
            "marker": {
             "colorbar": {
              "outlinewidth": 0,
              "ticks": ""
             }
            },
            "type": "scatterternary"
           }
          ],
          "surface": [
           {
            "colorbar": {
             "outlinewidth": 0,
             "ticks": ""
            },
            "colorscale": [
             [
              0,
              "#0d0887"
             ],
             [
              0.1111111111111111,
              "#46039f"
             ],
             [
              0.2222222222222222,
              "#7201a8"
             ],
             [
              0.3333333333333333,
              "#9c179e"
             ],
             [
              0.4444444444444444,
              "#bd3786"
             ],
             [
              0.5555555555555556,
              "#d8576b"
             ],
             [
              0.6666666666666666,
              "#ed7953"
             ],
             [
              0.7777777777777778,
              "#fb9f3a"
             ],
             [
              0.8888888888888888,
              "#fdca26"
             ],
             [
              1,
              "#f0f921"
             ]
            ],
            "type": "surface"
           }
          ],
          "table": [
           {
            "cells": {
             "fill": {
              "color": "#EBF0F8"
             },
             "line": {
              "color": "white"
             }
            },
            "header": {
             "fill": {
              "color": "#C8D4E3"
             },
             "line": {
              "color": "white"
             }
            },
            "type": "table"
           }
          ]
         },
         "layout": {
          "annotationdefaults": {
           "arrowcolor": "#2a3f5f",
           "arrowhead": 0,
           "arrowwidth": 1
          },
          "autotypenumbers": "strict",
          "coloraxis": {
           "colorbar": {
            "outlinewidth": 0,
            "ticks": ""
           }
          },
          "colorscale": {
           "diverging": [
            [
             0,
             "#8e0152"
            ],
            [
             0.1,
             "#c51b7d"
            ],
            [
             0.2,
             "#de77ae"
            ],
            [
             0.3,
             "#f1b6da"
            ],
            [
             0.4,
             "#fde0ef"
            ],
            [
             0.5,
             "#f7f7f7"
            ],
            [
             0.6,
             "#e6f5d0"
            ],
            [
             0.7,
             "#b8e186"
            ],
            [
             0.8,
             "#7fbc41"
            ],
            [
             0.9,
             "#4d9221"
            ],
            [
             1,
             "#276419"
            ]
           ],
           "sequential": [
            [
             0,
             "#0d0887"
            ],
            [
             0.1111111111111111,
             "#46039f"
            ],
            [
             0.2222222222222222,
             "#7201a8"
            ],
            [
             0.3333333333333333,
             "#9c179e"
            ],
            [
             0.4444444444444444,
             "#bd3786"
            ],
            [
             0.5555555555555556,
             "#d8576b"
            ],
            [
             0.6666666666666666,
             "#ed7953"
            ],
            [
             0.7777777777777778,
             "#fb9f3a"
            ],
            [
             0.8888888888888888,
             "#fdca26"
            ],
            [
             1,
             "#f0f921"
            ]
           ],
           "sequentialminus": [
            [
             0,
             "#0d0887"
            ],
            [
             0.1111111111111111,
             "#46039f"
            ],
            [
             0.2222222222222222,
             "#7201a8"
            ],
            [
             0.3333333333333333,
             "#9c179e"
            ],
            [
             0.4444444444444444,
             "#bd3786"
            ],
            [
             0.5555555555555556,
             "#d8576b"
            ],
            [
             0.6666666666666666,
             "#ed7953"
            ],
            [
             0.7777777777777778,
             "#fb9f3a"
            ],
            [
             0.8888888888888888,
             "#fdca26"
            ],
            [
             1,
             "#f0f921"
            ]
           ]
          },
          "colorway": [
           "#636efa",
           "#EF553B",
           "#00cc96",
           "#ab63fa",
           "#FFA15A",
           "#19d3f3",
           "#FF6692",
           "#B6E880",
           "#FF97FF",
           "#FECB52"
          ],
          "font": {
           "color": "#2a3f5f"
          },
          "geo": {
           "bgcolor": "white",
           "lakecolor": "white",
           "landcolor": "#E5ECF6",
           "showlakes": true,
           "showland": true,
           "subunitcolor": "white"
          },
          "hoverlabel": {
           "align": "left"
          },
          "hovermode": "closest",
          "mapbox": {
           "style": "light"
          },
          "paper_bgcolor": "white",
          "plot_bgcolor": "#E5ECF6",
          "polar": {
           "angularaxis": {
            "gridcolor": "white",
            "linecolor": "white",
            "ticks": ""
           },
           "bgcolor": "#E5ECF6",
           "radialaxis": {
            "gridcolor": "white",
            "linecolor": "white",
            "ticks": ""
           }
          },
          "scene": {
           "xaxis": {
            "backgroundcolor": "#E5ECF6",
            "gridcolor": "white",
            "gridwidth": 2,
            "linecolor": "white",
            "showbackground": true,
            "ticks": "",
            "zerolinecolor": "white"
           },
           "yaxis": {
            "backgroundcolor": "#E5ECF6",
            "gridcolor": "white",
            "gridwidth": 2,
            "linecolor": "white",
            "showbackground": true,
            "ticks": "",
            "zerolinecolor": "white"
           },
           "zaxis": {
            "backgroundcolor": "#E5ECF6",
            "gridcolor": "white",
            "gridwidth": 2,
            "linecolor": "white",
            "showbackground": true,
            "ticks": "",
            "zerolinecolor": "white"
           }
          },
          "shapedefaults": {
           "line": {
            "color": "#2a3f5f"
           }
          },
          "ternary": {
           "aaxis": {
            "gridcolor": "white",
            "linecolor": "white",
            "ticks": ""
           },
           "baxis": {
            "gridcolor": "white",
            "linecolor": "white",
            "ticks": ""
           },
           "bgcolor": "#E5ECF6",
           "caxis": {
            "gridcolor": "white",
            "linecolor": "white",
            "ticks": ""
           }
          },
          "title": {
           "x": 0.05
          },
          "xaxis": {
           "automargin": true,
           "gridcolor": "white",
           "linecolor": "white",
           "ticks": "",
           "title": {
            "standoff": 15
           },
           "zerolinecolor": "white",
           "zerolinewidth": 2
          },
          "yaxis": {
           "automargin": true,
           "gridcolor": "white",
           "linecolor": "white",
           "ticks": "",
           "title": {
            "standoff": 15
           },
           "zerolinecolor": "white",
           "zerolinewidth": 2
          }
         }
        },
        "title": {
         "text": "Arrondissements de dépose"
        },
        "xaxis": {
         "anchor": "y",
         "domain": [
          0,
          1
         ],
         "tickangle": -45,
         "tickfont": {
          "size": 10
         },
         "title": {
          "text": "Arrondissement de dépose"
         }
        },
        "yaxis": {
         "anchor": "x",
         "domain": [
          0,
          1
         ],
         "title": {
          "text": "Nombre de trajets"
         }
        }
       }
      }
     },
     "metadata": {},
     "output_type": "display_data"
    }
   ],
   "source": [
    "# Compter le nombre de trajets par arrondissement de dépose\n",
    "dropoff_counts = df_trips['doborough'].value_counts().reset_index()\n",
    "dropoff_counts.columns = ['Arrondissement', 'Nombre de trajets']\n",
    "print(dropoff_counts)\n",
    "\n",
    "# Créer le graphique des arrondissements de dépose\n",
    "fig = px.bar(dropoff_counts, x='Arrondissement', y='Nombre de trajets', \n",
    "             title='Arrondissements de dépose',\n",
    "             labels={'Arrondissement': 'Arrondissement de dépose', 'Nombre de trajets': 'Nombre de trajets'})\n",
    "\n",
    "# Personnaliser la mise en page\n",
    "fig.update_layout(xaxis_tickangle=-45, xaxis_tickfont=dict(size=10))\n",
    "\n",
    "# Afficher le graphique\n",
    "fig.show()"
   ]
  },
  {
   "cell_type": "markdown",
   "metadata": {},
   "source": [
    "### Itinéraires les plus populaires entre arrondissements"
   ]
  },
  {
   "cell_type": "code",
   "execution_count": 25,
   "metadata": {},
   "outputs": [
    {
     "data": {
      "text/html": [
       "<div>\n",
       "<style scoped>\n",
       "    .dataframe tbody tr th:only-of-type {\n",
       "        vertical-align: middle;\n",
       "    }\n",
       "\n",
       "    .dataframe tbody tr th {\n",
       "        vertical-align: top;\n",
       "    }\n",
       "\n",
       "    .dataframe thead th {\n",
       "        text-align: right;\n",
       "    }\n",
       "</style>\n",
       "<table border=\"1\" class=\"dataframe\">\n",
       "  <thead>\n",
       "    <tr style=\"text-align: right;\">\n",
       "      <th></th>\n",
       "      <th>puborough</th>\n",
       "      <th>doborough</th>\n",
       "      <th>Nombre de trajets</th>\n",
       "      <th>Itineraire</th>\n",
       "    </tr>\n",
       "  </thead>\n",
       "  <tbody>\n",
       "    <tr>\n",
       "      <th>21</th>\n",
       "      <td>Manhattan</td>\n",
       "      <td>Manhattan</td>\n",
       "      <td>29711723</td>\n",
       "      <td>Manhattan-Manhattan</td>\n",
       "    </tr>\n",
       "    <tr>\n",
       "      <th>27</th>\n",
       "      <td>Queens</td>\n",
       "      <td>Manhattan</td>\n",
       "      <td>2078477</td>\n",
       "      <td>Queens-Manhattan</td>\n",
       "    </tr>\n",
       "    <tr>\n",
       "      <th>22</th>\n",
       "      <td>Manhattan</td>\n",
       "      <td>Queens</td>\n",
       "      <td>1074903</td>\n",
       "      <td>Manhattan-Queens</td>\n",
       "    </tr>\n",
       "    <tr>\n",
       "      <th>28</th>\n",
       "      <td>Queens</td>\n",
       "      <td>Queens</td>\n",
       "      <td>749164</td>\n",
       "      <td>Queens-Queens</td>\n",
       "    </tr>\n",
       "    <tr>\n",
       "      <th>19</th>\n",
       "      <td>Manhattan</td>\n",
       "      <td>Brooklyn</td>\n",
       "      <td>731743</td>\n",
       "      <td>Manhattan-Brooklyn</td>\n",
       "    </tr>\n",
       "    <tr>\n",
       "      <th>25</th>\n",
       "      <td>Queens</td>\n",
       "      <td>Brooklyn</td>\n",
       "      <td>540765</td>\n",
       "      <td>Queens-Brooklyn</td>\n",
       "    </tr>\n",
       "    <tr>\n",
       "      <th>18</th>\n",
       "      <td>Manhattan</td>\n",
       "      <td>Bronx</td>\n",
       "      <td>102301</td>\n",
       "      <td>Manhattan-Bronx</td>\n",
       "    </tr>\n",
       "    <tr>\n",
       "      <th>7</th>\n",
       "      <td>Brooklyn</td>\n",
       "      <td>Brooklyn</td>\n",
       "      <td>98546</td>\n",
       "      <td>Brooklyn-Brooklyn</td>\n",
       "    </tr>\n",
       "    <tr>\n",
       "      <th>20</th>\n",
       "      <td>Manhattan</td>\n",
       "      <td>EWR</td>\n",
       "      <td>97262</td>\n",
       "      <td>Manhattan-EWR</td>\n",
       "    </tr>\n",
       "    <tr>\n",
       "      <th>24</th>\n",
       "      <td>Queens</td>\n",
       "      <td>Bronx</td>\n",
       "      <td>77321</td>\n",
       "      <td>Queens-Bronx</td>\n",
       "    </tr>\n",
       "    <tr>\n",
       "      <th>9</th>\n",
       "      <td>Brooklyn</td>\n",
       "      <td>Manhattan</td>\n",
       "      <td>63574</td>\n",
       "      <td>Brooklyn-Manhattan</td>\n",
       "    </tr>\n",
       "    <tr>\n",
       "      <th>0</th>\n",
       "      <td>Bronx</td>\n",
       "      <td>Bronx</td>\n",
       "      <td>24249</td>\n",
       "      <td>Bronx-Bronx</td>\n",
       "    </tr>\n",
       "    <tr>\n",
       "      <th>10</th>\n",
       "      <td>Brooklyn</td>\n",
       "      <td>Queens</td>\n",
       "      <td>17453</td>\n",
       "      <td>Brooklyn-Queens</td>\n",
       "    </tr>\n",
       "    <tr>\n",
       "      <th>3</th>\n",
       "      <td>Bronx</td>\n",
       "      <td>Manhattan</td>\n",
       "      <td>16138</td>\n",
       "      <td>Bronx-Manhattan</td>\n",
       "    </tr>\n",
       "    <tr>\n",
       "      <th>26</th>\n",
       "      <td>Queens</td>\n",
       "      <td>EWR</td>\n",
       "      <td>5537</td>\n",
       "      <td>Queens-EWR</td>\n",
       "    </tr>\n",
       "    <tr>\n",
       "      <th>29</th>\n",
       "      <td>Queens</td>\n",
       "      <td>Staten Island</td>\n",
       "      <td>4930</td>\n",
       "      <td>Queens-Staten Island</td>\n",
       "    </tr>\n",
       "    <tr>\n",
       "      <th>23</th>\n",
       "      <td>Manhattan</td>\n",
       "      <td>Staten Island</td>\n",
       "      <td>3777</td>\n",
       "      <td>Manhattan-Staten Island</td>\n",
       "    </tr>\n",
       "    <tr>\n",
       "      <th>1</th>\n",
       "      <td>Bronx</td>\n",
       "      <td>Brooklyn</td>\n",
       "      <td>3738</td>\n",
       "      <td>Bronx-Brooklyn</td>\n",
       "    </tr>\n",
       "    <tr>\n",
       "      <th>4</th>\n",
       "      <td>Bronx</td>\n",
       "      <td>Queens</td>\n",
       "      <td>3620</td>\n",
       "      <td>Bronx-Queens</td>\n",
       "    </tr>\n",
       "    <tr>\n",
       "      <th>6</th>\n",
       "      <td>Brooklyn</td>\n",
       "      <td>Bronx</td>\n",
       "      <td>3481</td>\n",
       "      <td>Brooklyn-Bronx</td>\n",
       "    </tr>\n",
       "    <tr>\n",
       "      <th>14</th>\n",
       "      <td>EWR</td>\n",
       "      <td>EWR</td>\n",
       "      <td>748</td>\n",
       "      <td>EWR-EWR</td>\n",
       "    </tr>\n",
       "    <tr>\n",
       "      <th>11</th>\n",
       "      <td>Brooklyn</td>\n",
       "      <td>Staten Island</td>\n",
       "      <td>596</td>\n",
       "      <td>Brooklyn-Staten Island</td>\n",
       "    </tr>\n",
       "    <tr>\n",
       "      <th>35</th>\n",
       "      <td>Staten Island</td>\n",
       "      <td>Staten Island</td>\n",
       "      <td>547</td>\n",
       "      <td>Staten Island-Staten Island</td>\n",
       "    </tr>\n",
       "    <tr>\n",
       "      <th>8</th>\n",
       "      <td>Brooklyn</td>\n",
       "      <td>EWR</td>\n",
       "      <td>401</td>\n",
       "      <td>Brooklyn-EWR</td>\n",
       "    </tr>\n",
       "    <tr>\n",
       "      <th>33</th>\n",
       "      <td>Staten Island</td>\n",
       "      <td>Manhattan</td>\n",
       "      <td>376</td>\n",
       "      <td>Staten Island-Manhattan</td>\n",
       "    </tr>\n",
       "    <tr>\n",
       "      <th>31</th>\n",
       "      <td>Staten Island</td>\n",
       "      <td>Brooklyn</td>\n",
       "      <td>342</td>\n",
       "      <td>Staten Island-Brooklyn</td>\n",
       "    </tr>\n",
       "    <tr>\n",
       "      <th>34</th>\n",
       "      <td>Staten Island</td>\n",
       "      <td>Queens</td>\n",
       "      <td>250</td>\n",
       "      <td>Staten Island-Queens</td>\n",
       "    </tr>\n",
       "    <tr>\n",
       "      <th>30</th>\n",
       "      <td>Staten Island</td>\n",
       "      <td>Bronx</td>\n",
       "      <td>217</td>\n",
       "      <td>Staten Island-Bronx</td>\n",
       "    </tr>\n",
       "    <tr>\n",
       "      <th>5</th>\n",
       "      <td>Bronx</td>\n",
       "      <td>Staten Island</td>\n",
       "      <td>176</td>\n",
       "      <td>Bronx-Staten Island</td>\n",
       "    </tr>\n",
       "    <tr>\n",
       "      <th>15</th>\n",
       "      <td>EWR</td>\n",
       "      <td>Manhattan</td>\n",
       "      <td>110</td>\n",
       "      <td>EWR-Manhattan</td>\n",
       "    </tr>\n",
       "    <tr>\n",
       "      <th>16</th>\n",
       "      <td>EWR</td>\n",
       "      <td>Queens</td>\n",
       "      <td>23</td>\n",
       "      <td>EWR-Queens</td>\n",
       "    </tr>\n",
       "    <tr>\n",
       "      <th>13</th>\n",
       "      <td>EWR</td>\n",
       "      <td>Brooklyn</td>\n",
       "      <td>17</td>\n",
       "      <td>EWR-Brooklyn</td>\n",
       "    </tr>\n",
       "    <tr>\n",
       "      <th>32</th>\n",
       "      <td>Staten Island</td>\n",
       "      <td>EWR</td>\n",
       "      <td>17</td>\n",
       "      <td>Staten Island-EWR</td>\n",
       "    </tr>\n",
       "    <tr>\n",
       "      <th>17</th>\n",
       "      <td>EWR</td>\n",
       "      <td>Staten Island</td>\n",
       "      <td>12</td>\n",
       "      <td>EWR-Staten Island</td>\n",
       "    </tr>\n",
       "    <tr>\n",
       "      <th>2</th>\n",
       "      <td>Bronx</td>\n",
       "      <td>EWR</td>\n",
       "      <td>11</td>\n",
       "      <td>Bronx-EWR</td>\n",
       "    </tr>\n",
       "    <tr>\n",
       "      <th>12</th>\n",
       "      <td>EWR</td>\n",
       "      <td>Bronx</td>\n",
       "      <td>2</td>\n",
       "      <td>EWR-Bronx</td>\n",
       "    </tr>\n",
       "  </tbody>\n",
       "</table>\n",
       "</div>"
      ],
      "text/plain": [
       "        puborough      doborough  Nombre de trajets  \\\n",
       "21      Manhattan      Manhattan           29711723   \n",
       "27         Queens      Manhattan            2078477   \n",
       "22      Manhattan         Queens            1074903   \n",
       "28         Queens         Queens             749164   \n",
       "19      Manhattan       Brooklyn             731743   \n",
       "25         Queens       Brooklyn             540765   \n",
       "18      Manhattan          Bronx             102301   \n",
       "7        Brooklyn       Brooklyn              98546   \n",
       "20      Manhattan            EWR              97262   \n",
       "24         Queens          Bronx              77321   \n",
       "9        Brooklyn      Manhattan              63574   \n",
       "0           Bronx          Bronx              24249   \n",
       "10       Brooklyn         Queens              17453   \n",
       "3           Bronx      Manhattan              16138   \n",
       "26         Queens            EWR               5537   \n",
       "29         Queens  Staten Island               4930   \n",
       "23      Manhattan  Staten Island               3777   \n",
       "1           Bronx       Brooklyn               3738   \n",
       "4           Bronx         Queens               3620   \n",
       "6        Brooklyn          Bronx               3481   \n",
       "14            EWR            EWR                748   \n",
       "11       Brooklyn  Staten Island                596   \n",
       "35  Staten Island  Staten Island                547   \n",
       "8        Brooklyn            EWR                401   \n",
       "33  Staten Island      Manhattan                376   \n",
       "31  Staten Island       Brooklyn                342   \n",
       "34  Staten Island         Queens                250   \n",
       "30  Staten Island          Bronx                217   \n",
       "5           Bronx  Staten Island                176   \n",
       "15            EWR      Manhattan                110   \n",
       "16            EWR         Queens                 23   \n",
       "13            EWR       Brooklyn                 17   \n",
       "32  Staten Island            EWR                 17   \n",
       "17            EWR  Staten Island                 12   \n",
       "2           Bronx            EWR                 11   \n",
       "12            EWR          Bronx                  2   \n",
       "\n",
       "                     Itineraire  \n",
       "21          Manhattan-Manhattan  \n",
       "27             Queens-Manhattan  \n",
       "22             Manhattan-Queens  \n",
       "28                Queens-Queens  \n",
       "19           Manhattan-Brooklyn  \n",
       "25              Queens-Brooklyn  \n",
       "18              Manhattan-Bronx  \n",
       "7             Brooklyn-Brooklyn  \n",
       "20                Manhattan-EWR  \n",
       "24                 Queens-Bronx  \n",
       "9            Brooklyn-Manhattan  \n",
       "0                   Bronx-Bronx  \n",
       "10              Brooklyn-Queens  \n",
       "3               Bronx-Manhattan  \n",
       "26                   Queens-EWR  \n",
       "29         Queens-Staten Island  \n",
       "23      Manhattan-Staten Island  \n",
       "1                Bronx-Brooklyn  \n",
       "4                  Bronx-Queens  \n",
       "6                Brooklyn-Bronx  \n",
       "14                      EWR-EWR  \n",
       "11       Brooklyn-Staten Island  \n",
       "35  Staten Island-Staten Island  \n",
       "8                  Brooklyn-EWR  \n",
       "33      Staten Island-Manhattan  \n",
       "31       Staten Island-Brooklyn  \n",
       "34         Staten Island-Queens  \n",
       "30          Staten Island-Bronx  \n",
       "5           Bronx-Staten Island  \n",
       "15                EWR-Manhattan  \n",
       "16                   EWR-Queens  \n",
       "13                 EWR-Brooklyn  \n",
       "32            Staten Island-EWR  \n",
       "17            EWR-Staten Island  \n",
       "2                     Bronx-EWR  \n",
       "12                    EWR-Bronx  "
      ]
     },
     "execution_count": 25,
     "metadata": {},
     "output_type": "execute_result"
    }
   ],
   "source": [
    "# Compter le nombre de trajets par paire d'arrondissements\n",
    "route_counts = df_trips.groupby(['puborough', 'doborough']).size().reset_index(name='Nombre de trajets')\n",
    "# Créer une nouvelle colonne par concaténation de puborough et doborough\n",
    "route_counts['Itineraire'] = route_counts.apply(lambda row: f\"{row['puborough']}-{row['doborough']}\", axis=1)\n",
    "route_counts = route_counts.sort_values(by='Nombre de trajets', ascending=False)\n",
    "route_counts"
   ]
  },
  {
   "cell_type": "code",
   "execution_count": 26,
   "metadata": {},
   "outputs": [
    {
     "data": {
      "application/vnd.plotly.v1+json": {
       "config": {
        "plotlyServerURL": "https://plot.ly"
       },
       "data": [
        {
         "alignmentgroup": "True",
         "hovertemplate": "Itineraire=%{x}<br>Nombre de trajets=%{y}<extra></extra>",
         "legendgroup": "",
         "marker": {
          "color": "#636efa",
          "pattern": {
           "shape": ""
          }
         },
         "name": "",
         "offsetgroup": "",
         "orientation": "v",
         "showlegend": false,
         "textposition": "auto",
         "type": "bar",
         "x": [
          "Manhattan-Manhattan",
          "Queens-Manhattan",
          "Manhattan-Queens",
          "Queens-Queens",
          "Manhattan-Brooklyn"
         ],
         "xaxis": "x",
         "y": [
          29711723,
          2078477,
          1074903,
          749164,
          731743
         ],
         "yaxis": "y"
        }
       ],
       "layout": {
        "barmode": "relative",
        "legend": {
         "tracegroupgap": 0
        },
        "template": {
         "data": {
          "bar": [
           {
            "error_x": {
             "color": "#2a3f5f"
            },
            "error_y": {
             "color": "#2a3f5f"
            },
            "marker": {
             "line": {
              "color": "#E5ECF6",
              "width": 0.5
             },
             "pattern": {
              "fillmode": "overlay",
              "size": 10,
              "solidity": 0.2
             }
            },
            "type": "bar"
           }
          ],
          "barpolar": [
           {
            "marker": {
             "line": {
              "color": "#E5ECF6",
              "width": 0.5
             },
             "pattern": {
              "fillmode": "overlay",
              "size": 10,
              "solidity": 0.2
             }
            },
            "type": "barpolar"
           }
          ],
          "carpet": [
           {
            "aaxis": {
             "endlinecolor": "#2a3f5f",
             "gridcolor": "white",
             "linecolor": "white",
             "minorgridcolor": "white",
             "startlinecolor": "#2a3f5f"
            },
            "baxis": {
             "endlinecolor": "#2a3f5f",
             "gridcolor": "white",
             "linecolor": "white",
             "minorgridcolor": "white",
             "startlinecolor": "#2a3f5f"
            },
            "type": "carpet"
           }
          ],
          "choropleth": [
           {
            "colorbar": {
             "outlinewidth": 0,
             "ticks": ""
            },
            "type": "choropleth"
           }
          ],
          "contour": [
           {
            "colorbar": {
             "outlinewidth": 0,
             "ticks": ""
            },
            "colorscale": [
             [
              0,
              "#0d0887"
             ],
             [
              0.1111111111111111,
              "#46039f"
             ],
             [
              0.2222222222222222,
              "#7201a8"
             ],
             [
              0.3333333333333333,
              "#9c179e"
             ],
             [
              0.4444444444444444,
              "#bd3786"
             ],
             [
              0.5555555555555556,
              "#d8576b"
             ],
             [
              0.6666666666666666,
              "#ed7953"
             ],
             [
              0.7777777777777778,
              "#fb9f3a"
             ],
             [
              0.8888888888888888,
              "#fdca26"
             ],
             [
              1,
              "#f0f921"
             ]
            ],
            "type": "contour"
           }
          ],
          "contourcarpet": [
           {
            "colorbar": {
             "outlinewidth": 0,
             "ticks": ""
            },
            "type": "contourcarpet"
           }
          ],
          "heatmap": [
           {
            "colorbar": {
             "outlinewidth": 0,
             "ticks": ""
            },
            "colorscale": [
             [
              0,
              "#0d0887"
             ],
             [
              0.1111111111111111,
              "#46039f"
             ],
             [
              0.2222222222222222,
              "#7201a8"
             ],
             [
              0.3333333333333333,
              "#9c179e"
             ],
             [
              0.4444444444444444,
              "#bd3786"
             ],
             [
              0.5555555555555556,
              "#d8576b"
             ],
             [
              0.6666666666666666,
              "#ed7953"
             ],
             [
              0.7777777777777778,
              "#fb9f3a"
             ],
             [
              0.8888888888888888,
              "#fdca26"
             ],
             [
              1,
              "#f0f921"
             ]
            ],
            "type": "heatmap"
           }
          ],
          "heatmapgl": [
           {
            "colorbar": {
             "outlinewidth": 0,
             "ticks": ""
            },
            "colorscale": [
             [
              0,
              "#0d0887"
             ],
             [
              0.1111111111111111,
              "#46039f"
             ],
             [
              0.2222222222222222,
              "#7201a8"
             ],
             [
              0.3333333333333333,
              "#9c179e"
             ],
             [
              0.4444444444444444,
              "#bd3786"
             ],
             [
              0.5555555555555556,
              "#d8576b"
             ],
             [
              0.6666666666666666,
              "#ed7953"
             ],
             [
              0.7777777777777778,
              "#fb9f3a"
             ],
             [
              0.8888888888888888,
              "#fdca26"
             ],
             [
              1,
              "#f0f921"
             ]
            ],
            "type": "heatmapgl"
           }
          ],
          "histogram": [
           {
            "marker": {
             "pattern": {
              "fillmode": "overlay",
              "size": 10,
              "solidity": 0.2
             }
            },
            "type": "histogram"
           }
          ],
          "histogram2d": [
           {
            "colorbar": {
             "outlinewidth": 0,
             "ticks": ""
            },
            "colorscale": [
             [
              0,
              "#0d0887"
             ],
             [
              0.1111111111111111,
              "#46039f"
             ],
             [
              0.2222222222222222,
              "#7201a8"
             ],
             [
              0.3333333333333333,
              "#9c179e"
             ],
             [
              0.4444444444444444,
              "#bd3786"
             ],
             [
              0.5555555555555556,
              "#d8576b"
             ],
             [
              0.6666666666666666,
              "#ed7953"
             ],
             [
              0.7777777777777778,
              "#fb9f3a"
             ],
             [
              0.8888888888888888,
              "#fdca26"
             ],
             [
              1,
              "#f0f921"
             ]
            ],
            "type": "histogram2d"
           }
          ],
          "histogram2dcontour": [
           {
            "colorbar": {
             "outlinewidth": 0,
             "ticks": ""
            },
            "colorscale": [
             [
              0,
              "#0d0887"
             ],
             [
              0.1111111111111111,
              "#46039f"
             ],
             [
              0.2222222222222222,
              "#7201a8"
             ],
             [
              0.3333333333333333,
              "#9c179e"
             ],
             [
              0.4444444444444444,
              "#bd3786"
             ],
             [
              0.5555555555555556,
              "#d8576b"
             ],
             [
              0.6666666666666666,
              "#ed7953"
             ],
             [
              0.7777777777777778,
              "#fb9f3a"
             ],
             [
              0.8888888888888888,
              "#fdca26"
             ],
             [
              1,
              "#f0f921"
             ]
            ],
            "type": "histogram2dcontour"
           }
          ],
          "mesh3d": [
           {
            "colorbar": {
             "outlinewidth": 0,
             "ticks": ""
            },
            "type": "mesh3d"
           }
          ],
          "parcoords": [
           {
            "line": {
             "colorbar": {
              "outlinewidth": 0,
              "ticks": ""
             }
            },
            "type": "parcoords"
           }
          ],
          "pie": [
           {
            "automargin": true,
            "type": "pie"
           }
          ],
          "scatter": [
           {
            "fillpattern": {
             "fillmode": "overlay",
             "size": 10,
             "solidity": 0.2
            },
            "type": "scatter"
           }
          ],
          "scatter3d": [
           {
            "line": {
             "colorbar": {
              "outlinewidth": 0,
              "ticks": ""
             }
            },
            "marker": {
             "colorbar": {
              "outlinewidth": 0,
              "ticks": ""
             }
            },
            "type": "scatter3d"
           }
          ],
          "scattercarpet": [
           {
            "marker": {
             "colorbar": {
              "outlinewidth": 0,
              "ticks": ""
             }
            },
            "type": "scattercarpet"
           }
          ],
          "scattergeo": [
           {
            "marker": {
             "colorbar": {
              "outlinewidth": 0,
              "ticks": ""
             }
            },
            "type": "scattergeo"
           }
          ],
          "scattergl": [
           {
            "marker": {
             "colorbar": {
              "outlinewidth": 0,
              "ticks": ""
             }
            },
            "type": "scattergl"
           }
          ],
          "scattermapbox": [
           {
            "marker": {
             "colorbar": {
              "outlinewidth": 0,
              "ticks": ""
             }
            },
            "type": "scattermapbox"
           }
          ],
          "scatterpolar": [
           {
            "marker": {
             "colorbar": {
              "outlinewidth": 0,
              "ticks": ""
             }
            },
            "type": "scatterpolar"
           }
          ],
          "scatterpolargl": [
           {
            "marker": {
             "colorbar": {
              "outlinewidth": 0,
              "ticks": ""
             }
            },
            "type": "scatterpolargl"
           }
          ],
          "scatterternary": [
           {
            "marker": {
             "colorbar": {
              "outlinewidth": 0,
              "ticks": ""
             }
            },
            "type": "scatterternary"
           }
          ],
          "surface": [
           {
            "colorbar": {
             "outlinewidth": 0,
             "ticks": ""
            },
            "colorscale": [
             [
              0,
              "#0d0887"
             ],
             [
              0.1111111111111111,
              "#46039f"
             ],
             [
              0.2222222222222222,
              "#7201a8"
             ],
             [
              0.3333333333333333,
              "#9c179e"
             ],
             [
              0.4444444444444444,
              "#bd3786"
             ],
             [
              0.5555555555555556,
              "#d8576b"
             ],
             [
              0.6666666666666666,
              "#ed7953"
             ],
             [
              0.7777777777777778,
              "#fb9f3a"
             ],
             [
              0.8888888888888888,
              "#fdca26"
             ],
             [
              1,
              "#f0f921"
             ]
            ],
            "type": "surface"
           }
          ],
          "table": [
           {
            "cells": {
             "fill": {
              "color": "#EBF0F8"
             },
             "line": {
              "color": "white"
             }
            },
            "header": {
             "fill": {
              "color": "#C8D4E3"
             },
             "line": {
              "color": "white"
             }
            },
            "type": "table"
           }
          ]
         },
         "layout": {
          "annotationdefaults": {
           "arrowcolor": "#2a3f5f",
           "arrowhead": 0,
           "arrowwidth": 1
          },
          "autotypenumbers": "strict",
          "coloraxis": {
           "colorbar": {
            "outlinewidth": 0,
            "ticks": ""
           }
          },
          "colorscale": {
           "diverging": [
            [
             0,
             "#8e0152"
            ],
            [
             0.1,
             "#c51b7d"
            ],
            [
             0.2,
             "#de77ae"
            ],
            [
             0.3,
             "#f1b6da"
            ],
            [
             0.4,
             "#fde0ef"
            ],
            [
             0.5,
             "#f7f7f7"
            ],
            [
             0.6,
             "#e6f5d0"
            ],
            [
             0.7,
             "#b8e186"
            ],
            [
             0.8,
             "#7fbc41"
            ],
            [
             0.9,
             "#4d9221"
            ],
            [
             1,
             "#276419"
            ]
           ],
           "sequential": [
            [
             0,
             "#0d0887"
            ],
            [
             0.1111111111111111,
             "#46039f"
            ],
            [
             0.2222222222222222,
             "#7201a8"
            ],
            [
             0.3333333333333333,
             "#9c179e"
            ],
            [
             0.4444444444444444,
             "#bd3786"
            ],
            [
             0.5555555555555556,
             "#d8576b"
            ],
            [
             0.6666666666666666,
             "#ed7953"
            ],
            [
             0.7777777777777778,
             "#fb9f3a"
            ],
            [
             0.8888888888888888,
             "#fdca26"
            ],
            [
             1,
             "#f0f921"
            ]
           ],
           "sequentialminus": [
            [
             0,
             "#0d0887"
            ],
            [
             0.1111111111111111,
             "#46039f"
            ],
            [
             0.2222222222222222,
             "#7201a8"
            ],
            [
             0.3333333333333333,
             "#9c179e"
            ],
            [
             0.4444444444444444,
             "#bd3786"
            ],
            [
             0.5555555555555556,
             "#d8576b"
            ],
            [
             0.6666666666666666,
             "#ed7953"
            ],
            [
             0.7777777777777778,
             "#fb9f3a"
            ],
            [
             0.8888888888888888,
             "#fdca26"
            ],
            [
             1,
             "#f0f921"
            ]
           ]
          },
          "colorway": [
           "#636efa",
           "#EF553B",
           "#00cc96",
           "#ab63fa",
           "#FFA15A",
           "#19d3f3",
           "#FF6692",
           "#B6E880",
           "#FF97FF",
           "#FECB52"
          ],
          "font": {
           "color": "#2a3f5f"
          },
          "geo": {
           "bgcolor": "white",
           "lakecolor": "white",
           "landcolor": "#E5ECF6",
           "showlakes": true,
           "showland": true,
           "subunitcolor": "white"
          },
          "hoverlabel": {
           "align": "left"
          },
          "hovermode": "closest",
          "mapbox": {
           "style": "light"
          },
          "paper_bgcolor": "white",
          "plot_bgcolor": "#E5ECF6",
          "polar": {
           "angularaxis": {
            "gridcolor": "white",
            "linecolor": "white",
            "ticks": ""
           },
           "bgcolor": "#E5ECF6",
           "radialaxis": {
            "gridcolor": "white",
            "linecolor": "white",
            "ticks": ""
           }
          },
          "scene": {
           "xaxis": {
            "backgroundcolor": "#E5ECF6",
            "gridcolor": "white",
            "gridwidth": 2,
            "linecolor": "white",
            "showbackground": true,
            "ticks": "",
            "zerolinecolor": "white"
           },
           "yaxis": {
            "backgroundcolor": "#E5ECF6",
            "gridcolor": "white",
            "gridwidth": 2,
            "linecolor": "white",
            "showbackground": true,
            "ticks": "",
            "zerolinecolor": "white"
           },
           "zaxis": {
            "backgroundcolor": "#E5ECF6",
            "gridcolor": "white",
            "gridwidth": 2,
            "linecolor": "white",
            "showbackground": true,
            "ticks": "",
            "zerolinecolor": "white"
           }
          },
          "shapedefaults": {
           "line": {
            "color": "#2a3f5f"
           }
          },
          "ternary": {
           "aaxis": {
            "gridcolor": "white",
            "linecolor": "white",
            "ticks": ""
           },
           "baxis": {
            "gridcolor": "white",
            "linecolor": "white",
            "ticks": ""
           },
           "bgcolor": "#E5ECF6",
           "caxis": {
            "gridcolor": "white",
            "linecolor": "white",
            "ticks": ""
           }
          },
          "title": {
           "x": 0.05
          },
          "xaxis": {
           "automargin": true,
           "gridcolor": "white",
           "linecolor": "white",
           "ticks": "",
           "title": {
            "standoff": 15
           },
           "zerolinecolor": "white",
           "zerolinewidth": 2
          },
          "yaxis": {
           "automargin": true,
           "gridcolor": "white",
           "linecolor": "white",
           "ticks": "",
           "title": {
            "standoff": 15
           },
           "zerolinecolor": "white",
           "zerolinewidth": 2
          }
         }
        },
        "title": {
         "text": "Itinéraires les plus populaires entre arrondissements"
        },
        "xaxis": {
         "anchor": "y",
         "domain": [
          0,
          1
         ],
         "title": {
          "text": "Itineraire"
         }
        },
        "yaxis": {
         "anchor": "x",
         "domain": [
          0,
          1
         ],
         "title": {
          "text": "Nombre de trajets"
         }
        }
       }
      }
     },
     "metadata": {},
     "output_type": "display_data"
    }
   ],
   "source": [
    "# Top 5 des itineraires les plus populaires entre arrondissements\n",
    "top5_route_counts = route_counts.head()\n",
    "\n",
    "# Créer le graphique à barres horizontales\n",
    "fig = px.bar(top5_route_counts, x='Itineraire', y='Nombre de trajets',\n",
    "             title='Itinéraires les plus populaires entre arrondissements'\n",
    "             )\n",
    "\n",
    "# Afficher le graphique\n",
    "fig.show()"
   ]
  },
  {
   "cell_type": "markdown",
   "metadata": {},
   "source": [
    "### Zones de prise en charge"
   ]
  },
  {
   "cell_type": "code",
   "execution_count": 32,
   "metadata": {},
   "outputs": [
    {
     "name": "stdout",
     "output_type": "stream",
     "text": [
      "                                              Zone  Nombre de trajets\n",
      "0                                      JFK Airport            1849275\n",
      "1                            Upper East Side South            1712138\n",
      "2                                   Midtown Center            1685771\n",
      "3                            Upper East Side North            1507798\n",
      "4                                     Midtown East            1298008\n",
      "..                                             ...                ...\n",
      "254  Governor's Island/Ellis Island/Liberty Island                 10\n",
      "255              Eltingville/Annadale/Prince's Bay                  9\n",
      "256                                  West Brighton                  7\n",
      "257                                  Port Richmond                  6\n",
      "258                                        Oakwood                  3\n",
      "\n",
      "[259 rows x 2 columns]\n"
     ]
    },
    {
     "data": {
      "application/vnd.plotly.v1+json": {
       "config": {
        "plotlyServerURL": "https://plot.ly"
       },
       "data": [
        {
         "alignmentgroup": "True",
         "hovertemplate": "Nombre de trajets=%{x}<br>Zone de prise en charge=%{y}<extra></extra>",
         "legendgroup": "",
         "marker": {
          "color": "#636efa",
          "pattern": {
           "shape": ""
          }
         },
         "name": "",
         "offsetgroup": "",
         "orientation": "h",
         "showlegend": false,
         "textposition": "auto",
         "type": "bar",
         "x": [
          1849275,
          1712138,
          1685771,
          1507798,
          1298008,
          1251957,
          1251643,
          1206878,
          1187532,
          1072897,
          1058044,
          987821,
          973929,
          958727,
          942154,
          853778,
          841353,
          838029,
          802688,
          757034
         ],
         "xaxis": "x",
         "y": [
          "JFK Airport",
          "Upper East Side South",
          "Midtown Center",
          "Upper East Side North",
          "Midtown East",
          "LaGuardia Airport",
          "Penn Station/Madison Sq West",
          "Times Sq/Theatre District",
          "Lincoln Square East",
          "Murray Hill",
          "Midtown North",
          "Upper West Side South",
          "Union Sq",
          "Clinton East",
          "East Chelsea",
          "Lenox Hill West",
          "East Village",
          "Midtown South",
          "West Village",
          "Gramercy"
         ],
         "yaxis": "y"
        }
       ],
       "layout": {
        "barmode": "relative",
        "legend": {
         "tracegroupgap": 0
        },
        "template": {
         "data": {
          "bar": [
           {
            "error_x": {
             "color": "#2a3f5f"
            },
            "error_y": {
             "color": "#2a3f5f"
            },
            "marker": {
             "line": {
              "color": "#E5ECF6",
              "width": 0.5
             },
             "pattern": {
              "fillmode": "overlay",
              "size": 10,
              "solidity": 0.2
             }
            },
            "type": "bar"
           }
          ],
          "barpolar": [
           {
            "marker": {
             "line": {
              "color": "#E5ECF6",
              "width": 0.5
             },
             "pattern": {
              "fillmode": "overlay",
              "size": 10,
              "solidity": 0.2
             }
            },
            "type": "barpolar"
           }
          ],
          "carpet": [
           {
            "aaxis": {
             "endlinecolor": "#2a3f5f",
             "gridcolor": "white",
             "linecolor": "white",
             "minorgridcolor": "white",
             "startlinecolor": "#2a3f5f"
            },
            "baxis": {
             "endlinecolor": "#2a3f5f",
             "gridcolor": "white",
             "linecolor": "white",
             "minorgridcolor": "white",
             "startlinecolor": "#2a3f5f"
            },
            "type": "carpet"
           }
          ],
          "choropleth": [
           {
            "colorbar": {
             "outlinewidth": 0,
             "ticks": ""
            },
            "type": "choropleth"
           }
          ],
          "contour": [
           {
            "colorbar": {
             "outlinewidth": 0,
             "ticks": ""
            },
            "colorscale": [
             [
              0,
              "#0d0887"
             ],
             [
              0.1111111111111111,
              "#46039f"
             ],
             [
              0.2222222222222222,
              "#7201a8"
             ],
             [
              0.3333333333333333,
              "#9c179e"
             ],
             [
              0.4444444444444444,
              "#bd3786"
             ],
             [
              0.5555555555555556,
              "#d8576b"
             ],
             [
              0.6666666666666666,
              "#ed7953"
             ],
             [
              0.7777777777777778,
              "#fb9f3a"
             ],
             [
              0.8888888888888888,
              "#fdca26"
             ],
             [
              1,
              "#f0f921"
             ]
            ],
            "type": "contour"
           }
          ],
          "contourcarpet": [
           {
            "colorbar": {
             "outlinewidth": 0,
             "ticks": ""
            },
            "type": "contourcarpet"
           }
          ],
          "heatmap": [
           {
            "colorbar": {
             "outlinewidth": 0,
             "ticks": ""
            },
            "colorscale": [
             [
              0,
              "#0d0887"
             ],
             [
              0.1111111111111111,
              "#46039f"
             ],
             [
              0.2222222222222222,
              "#7201a8"
             ],
             [
              0.3333333333333333,
              "#9c179e"
             ],
             [
              0.4444444444444444,
              "#bd3786"
             ],
             [
              0.5555555555555556,
              "#d8576b"
             ],
             [
              0.6666666666666666,
              "#ed7953"
             ],
             [
              0.7777777777777778,
              "#fb9f3a"
             ],
             [
              0.8888888888888888,
              "#fdca26"
             ],
             [
              1,
              "#f0f921"
             ]
            ],
            "type": "heatmap"
           }
          ],
          "heatmapgl": [
           {
            "colorbar": {
             "outlinewidth": 0,
             "ticks": ""
            },
            "colorscale": [
             [
              0,
              "#0d0887"
             ],
             [
              0.1111111111111111,
              "#46039f"
             ],
             [
              0.2222222222222222,
              "#7201a8"
             ],
             [
              0.3333333333333333,
              "#9c179e"
             ],
             [
              0.4444444444444444,
              "#bd3786"
             ],
             [
              0.5555555555555556,
              "#d8576b"
             ],
             [
              0.6666666666666666,
              "#ed7953"
             ],
             [
              0.7777777777777778,
              "#fb9f3a"
             ],
             [
              0.8888888888888888,
              "#fdca26"
             ],
             [
              1,
              "#f0f921"
             ]
            ],
            "type": "heatmapgl"
           }
          ],
          "histogram": [
           {
            "marker": {
             "pattern": {
              "fillmode": "overlay",
              "size": 10,
              "solidity": 0.2
             }
            },
            "type": "histogram"
           }
          ],
          "histogram2d": [
           {
            "colorbar": {
             "outlinewidth": 0,
             "ticks": ""
            },
            "colorscale": [
             [
              0,
              "#0d0887"
             ],
             [
              0.1111111111111111,
              "#46039f"
             ],
             [
              0.2222222222222222,
              "#7201a8"
             ],
             [
              0.3333333333333333,
              "#9c179e"
             ],
             [
              0.4444444444444444,
              "#bd3786"
             ],
             [
              0.5555555555555556,
              "#d8576b"
             ],
             [
              0.6666666666666666,
              "#ed7953"
             ],
             [
              0.7777777777777778,
              "#fb9f3a"
             ],
             [
              0.8888888888888888,
              "#fdca26"
             ],
             [
              1,
              "#f0f921"
             ]
            ],
            "type": "histogram2d"
           }
          ],
          "histogram2dcontour": [
           {
            "colorbar": {
             "outlinewidth": 0,
             "ticks": ""
            },
            "colorscale": [
             [
              0,
              "#0d0887"
             ],
             [
              0.1111111111111111,
              "#46039f"
             ],
             [
              0.2222222222222222,
              "#7201a8"
             ],
             [
              0.3333333333333333,
              "#9c179e"
             ],
             [
              0.4444444444444444,
              "#bd3786"
             ],
             [
              0.5555555555555556,
              "#d8576b"
             ],
             [
              0.6666666666666666,
              "#ed7953"
             ],
             [
              0.7777777777777778,
              "#fb9f3a"
             ],
             [
              0.8888888888888888,
              "#fdca26"
             ],
             [
              1,
              "#f0f921"
             ]
            ],
            "type": "histogram2dcontour"
           }
          ],
          "mesh3d": [
           {
            "colorbar": {
             "outlinewidth": 0,
             "ticks": ""
            },
            "type": "mesh3d"
           }
          ],
          "parcoords": [
           {
            "line": {
             "colorbar": {
              "outlinewidth": 0,
              "ticks": ""
             }
            },
            "type": "parcoords"
           }
          ],
          "pie": [
           {
            "automargin": true,
            "type": "pie"
           }
          ],
          "scatter": [
           {
            "fillpattern": {
             "fillmode": "overlay",
             "size": 10,
             "solidity": 0.2
            },
            "type": "scatter"
           }
          ],
          "scatter3d": [
           {
            "line": {
             "colorbar": {
              "outlinewidth": 0,
              "ticks": ""
             }
            },
            "marker": {
             "colorbar": {
              "outlinewidth": 0,
              "ticks": ""
             }
            },
            "type": "scatter3d"
           }
          ],
          "scattercarpet": [
           {
            "marker": {
             "colorbar": {
              "outlinewidth": 0,
              "ticks": ""
             }
            },
            "type": "scattercarpet"
           }
          ],
          "scattergeo": [
           {
            "marker": {
             "colorbar": {
              "outlinewidth": 0,
              "ticks": ""
             }
            },
            "type": "scattergeo"
           }
          ],
          "scattergl": [
           {
            "marker": {
             "colorbar": {
              "outlinewidth": 0,
              "ticks": ""
             }
            },
            "type": "scattergl"
           }
          ],
          "scattermapbox": [
           {
            "marker": {
             "colorbar": {
              "outlinewidth": 0,
              "ticks": ""
             }
            },
            "type": "scattermapbox"
           }
          ],
          "scatterpolar": [
           {
            "marker": {
             "colorbar": {
              "outlinewidth": 0,
              "ticks": ""
             }
            },
            "type": "scatterpolar"
           }
          ],
          "scatterpolargl": [
           {
            "marker": {
             "colorbar": {
              "outlinewidth": 0,
              "ticks": ""
             }
            },
            "type": "scatterpolargl"
           }
          ],
          "scatterternary": [
           {
            "marker": {
             "colorbar": {
              "outlinewidth": 0,
              "ticks": ""
             }
            },
            "type": "scatterternary"
           }
          ],
          "surface": [
           {
            "colorbar": {
             "outlinewidth": 0,
             "ticks": ""
            },
            "colorscale": [
             [
              0,
              "#0d0887"
             ],
             [
              0.1111111111111111,
              "#46039f"
             ],
             [
              0.2222222222222222,
              "#7201a8"
             ],
             [
              0.3333333333333333,
              "#9c179e"
             ],
             [
              0.4444444444444444,
              "#bd3786"
             ],
             [
              0.5555555555555556,
              "#d8576b"
             ],
             [
              0.6666666666666666,
              "#ed7953"
             ],
             [
              0.7777777777777778,
              "#fb9f3a"
             ],
             [
              0.8888888888888888,
              "#fdca26"
             ],
             [
              1,
              "#f0f921"
             ]
            ],
            "type": "surface"
           }
          ],
          "table": [
           {
            "cells": {
             "fill": {
              "color": "#EBF0F8"
             },
             "line": {
              "color": "white"
             }
            },
            "header": {
             "fill": {
              "color": "#C8D4E3"
             },
             "line": {
              "color": "white"
             }
            },
            "type": "table"
           }
          ]
         },
         "layout": {
          "annotationdefaults": {
           "arrowcolor": "#2a3f5f",
           "arrowhead": 0,
           "arrowwidth": 1
          },
          "autotypenumbers": "strict",
          "coloraxis": {
           "colorbar": {
            "outlinewidth": 0,
            "ticks": ""
           }
          },
          "colorscale": {
           "diverging": [
            [
             0,
             "#8e0152"
            ],
            [
             0.1,
             "#c51b7d"
            ],
            [
             0.2,
             "#de77ae"
            ],
            [
             0.3,
             "#f1b6da"
            ],
            [
             0.4,
             "#fde0ef"
            ],
            [
             0.5,
             "#f7f7f7"
            ],
            [
             0.6,
             "#e6f5d0"
            ],
            [
             0.7,
             "#b8e186"
            ],
            [
             0.8,
             "#7fbc41"
            ],
            [
             0.9,
             "#4d9221"
            ],
            [
             1,
             "#276419"
            ]
           ],
           "sequential": [
            [
             0,
             "#0d0887"
            ],
            [
             0.1111111111111111,
             "#46039f"
            ],
            [
             0.2222222222222222,
             "#7201a8"
            ],
            [
             0.3333333333333333,
             "#9c179e"
            ],
            [
             0.4444444444444444,
             "#bd3786"
            ],
            [
             0.5555555555555556,
             "#d8576b"
            ],
            [
             0.6666666666666666,
             "#ed7953"
            ],
            [
             0.7777777777777778,
             "#fb9f3a"
            ],
            [
             0.8888888888888888,
             "#fdca26"
            ],
            [
             1,
             "#f0f921"
            ]
           ],
           "sequentialminus": [
            [
             0,
             "#0d0887"
            ],
            [
             0.1111111111111111,
             "#46039f"
            ],
            [
             0.2222222222222222,
             "#7201a8"
            ],
            [
             0.3333333333333333,
             "#9c179e"
            ],
            [
             0.4444444444444444,
             "#bd3786"
            ],
            [
             0.5555555555555556,
             "#d8576b"
            ],
            [
             0.6666666666666666,
             "#ed7953"
            ],
            [
             0.7777777777777778,
             "#fb9f3a"
            ],
            [
             0.8888888888888888,
             "#fdca26"
            ],
            [
             1,
             "#f0f921"
            ]
           ]
          },
          "colorway": [
           "#636efa",
           "#EF553B",
           "#00cc96",
           "#ab63fa",
           "#FFA15A",
           "#19d3f3",
           "#FF6692",
           "#B6E880",
           "#FF97FF",
           "#FECB52"
          ],
          "font": {
           "color": "#2a3f5f"
          },
          "geo": {
           "bgcolor": "white",
           "lakecolor": "white",
           "landcolor": "#E5ECF6",
           "showlakes": true,
           "showland": true,
           "subunitcolor": "white"
          },
          "hoverlabel": {
           "align": "left"
          },
          "hovermode": "closest",
          "mapbox": {
           "style": "light"
          },
          "paper_bgcolor": "white",
          "plot_bgcolor": "#E5ECF6",
          "polar": {
           "angularaxis": {
            "gridcolor": "white",
            "linecolor": "white",
            "ticks": ""
           },
           "bgcolor": "#E5ECF6",
           "radialaxis": {
            "gridcolor": "white",
            "linecolor": "white",
            "ticks": ""
           }
          },
          "scene": {
           "xaxis": {
            "backgroundcolor": "#E5ECF6",
            "gridcolor": "white",
            "gridwidth": 2,
            "linecolor": "white",
            "showbackground": true,
            "ticks": "",
            "zerolinecolor": "white"
           },
           "yaxis": {
            "backgroundcolor": "#E5ECF6",
            "gridcolor": "white",
            "gridwidth": 2,
            "linecolor": "white",
            "showbackground": true,
            "ticks": "",
            "zerolinecolor": "white"
           },
           "zaxis": {
            "backgroundcolor": "#E5ECF6",
            "gridcolor": "white",
            "gridwidth": 2,
            "linecolor": "white",
            "showbackground": true,
            "ticks": "",
            "zerolinecolor": "white"
           }
          },
          "shapedefaults": {
           "line": {
            "color": "#2a3f5f"
           }
          },
          "ternary": {
           "aaxis": {
            "gridcolor": "white",
            "linecolor": "white",
            "ticks": ""
           },
           "baxis": {
            "gridcolor": "white",
            "linecolor": "white",
            "ticks": ""
           },
           "bgcolor": "#E5ECF6",
           "caxis": {
            "gridcolor": "white",
            "linecolor": "white",
            "ticks": ""
           }
          },
          "title": {
           "x": 0.05
          },
          "xaxis": {
           "automargin": true,
           "gridcolor": "white",
           "linecolor": "white",
           "ticks": "",
           "title": {
            "standoff": 15
           },
           "zerolinecolor": "white",
           "zerolinewidth": 2
          },
          "yaxis": {
           "automargin": true,
           "gridcolor": "white",
           "linecolor": "white",
           "ticks": "",
           "title": {
            "standoff": 15
           },
           "zerolinecolor": "white",
           "zerolinewidth": 2
          }
         }
        },
        "title": {
         "text": "Top 20 des Zones de prise en charge les plus populaires"
        },
        "xaxis": {
         "anchor": "y",
         "domain": [
          0,
          1
         ],
         "tickangle": -45,
         "tickfont": {
          "size": 10
         },
         "title": {
          "text": "Nombre de trajets"
         }
        },
        "yaxis": {
         "anchor": "x",
         "domain": [
          0,
          1
         ],
         "title": {
          "text": "Zone de prise en charge"
         }
        }
       }
      }
     },
     "metadata": {},
     "output_type": "display_data"
    }
   ],
   "source": [
    "# Compter le nombre de trajets par zone de prise en charge\n",
    "pickup_counts = df_trips['puzone'].value_counts().reset_index()\n",
    "pickup_counts.columns = ['Zone', 'Nombre de trajets']\n",
    "pickup_counts = pickup_counts.sort_values(by='Nombre de trajets', ascending=False)\n",
    "print(pickup_counts)\n",
    "\n",
    "# Créer le graphique des 20 zones de prise en charge les plus populaires\n",
    "top20_pickup_counts = pickup_counts.head(20)\n",
    "\n",
    "fig = px.bar(top20_pickup_counts, x='Nombre de trajets', y='Zone', \n",
    "             orientation='h',\n",
    "             title='Top 20 des Zones de prise en charge les plus populaires',\n",
    "             labels={'Zone': 'Zone de prise en charge', 'Nombre de trajets': 'Nombre de trajets'})\n",
    "\n",
    "# Personnaliser la mise en page\n",
    "fig.update_layout(xaxis_tickangle=-45, xaxis_tickfont=dict(size=10))\n",
    "\n",
    "# Afficher le graphique\n",
    "fig.show()"
   ]
  },
  {
   "cell_type": "markdown",
   "metadata": {},
   "source": [
    "### Zones de deposes"
   ]
  },
  {
   "cell_type": "code",
   "execution_count": 34,
   "metadata": {},
   "outputs": [
    {
     "name": "stdout",
     "output_type": "stream",
     "text": [
      "                                              Zone  Nombre de trajets\n",
      "0                            Upper East Side North            1595275\n",
      "1                            Upper East Side South            1530028\n",
      "2                                   Midtown Center            1405248\n",
      "3                        Times Sq/Theatre District            1114621\n",
      "4                                      Murray Hill            1070376\n",
      "..                                             ...                ...\n",
      "254                              Rossville/Woodrow                176\n",
      "255                                    Jamaica Bay                 71\n",
      "256                                Freshkills Park                 41\n",
      "257  Governor's Island/Ellis Island/Liberty Island                 17\n",
      "258                               Great Kills Park                  2\n",
      "\n",
      "[259 rows x 2 columns]\n"
     ]
    },
    {
     "data": {
      "application/vnd.plotly.v1+json": {
       "config": {
        "plotlyServerURL": "https://plot.ly"
       },
       "data": [
        {
         "alignmentgroup": "True",
         "hovertemplate": "Nombre de trajets=%{x}<br>Zone de depose=%{y}<extra></extra>",
         "legendgroup": "",
         "marker": {
          "color": "#636efa",
          "pattern": {
           "shape": ""
          }
         },
         "name": "",
         "offsetgroup": "",
         "orientation": "h",
         "showlegend": false,
         "textposition": "auto",
         "type": "bar",
         "x": [
          1595275,
          1530028,
          1405248,
          1114621,
          1070376,
          1027587,
          1011576,
          1002853,
          955031,
          909472,
          899217,
          891702,
          845539,
          800108,
          793214,
          774937,
          767490,
          739575,
          727677,
          722351
         ],
         "xaxis": "x",
         "y": [
          "Upper East Side North",
          "Upper East Side South",
          "Midtown Center",
          "Times Sq/Theatre District",
          "Murray Hill",
          "Midtown East",
          "Lincoln Square East",
          "Upper West Side South",
          "Lenox Hill West",
          "East Chelsea",
          "Midtown North",
          "Clinton East",
          "Union Sq",
          "Upper West Side North",
          "Penn Station/Madison Sq West",
          "Midtown South",
          "Sutton Place/Turtle Bay North",
          "Yorkville West",
          "East Village",
          "Lenox Hill East"
         ],
         "yaxis": "y"
        }
       ],
       "layout": {
        "barmode": "relative",
        "legend": {
         "tracegroupgap": 0
        },
        "template": {
         "data": {
          "bar": [
           {
            "error_x": {
             "color": "#2a3f5f"
            },
            "error_y": {
             "color": "#2a3f5f"
            },
            "marker": {
             "line": {
              "color": "#E5ECF6",
              "width": 0.5
             },
             "pattern": {
              "fillmode": "overlay",
              "size": 10,
              "solidity": 0.2
             }
            },
            "type": "bar"
           }
          ],
          "barpolar": [
           {
            "marker": {
             "line": {
              "color": "#E5ECF6",
              "width": 0.5
             },
             "pattern": {
              "fillmode": "overlay",
              "size": 10,
              "solidity": 0.2
             }
            },
            "type": "barpolar"
           }
          ],
          "carpet": [
           {
            "aaxis": {
             "endlinecolor": "#2a3f5f",
             "gridcolor": "white",
             "linecolor": "white",
             "minorgridcolor": "white",
             "startlinecolor": "#2a3f5f"
            },
            "baxis": {
             "endlinecolor": "#2a3f5f",
             "gridcolor": "white",
             "linecolor": "white",
             "minorgridcolor": "white",
             "startlinecolor": "#2a3f5f"
            },
            "type": "carpet"
           }
          ],
          "choropleth": [
           {
            "colorbar": {
             "outlinewidth": 0,
             "ticks": ""
            },
            "type": "choropleth"
           }
          ],
          "contour": [
           {
            "colorbar": {
             "outlinewidth": 0,
             "ticks": ""
            },
            "colorscale": [
             [
              0,
              "#0d0887"
             ],
             [
              0.1111111111111111,
              "#46039f"
             ],
             [
              0.2222222222222222,
              "#7201a8"
             ],
             [
              0.3333333333333333,
              "#9c179e"
             ],
             [
              0.4444444444444444,
              "#bd3786"
             ],
             [
              0.5555555555555556,
              "#d8576b"
             ],
             [
              0.6666666666666666,
              "#ed7953"
             ],
             [
              0.7777777777777778,
              "#fb9f3a"
             ],
             [
              0.8888888888888888,
              "#fdca26"
             ],
             [
              1,
              "#f0f921"
             ]
            ],
            "type": "contour"
           }
          ],
          "contourcarpet": [
           {
            "colorbar": {
             "outlinewidth": 0,
             "ticks": ""
            },
            "type": "contourcarpet"
           }
          ],
          "heatmap": [
           {
            "colorbar": {
             "outlinewidth": 0,
             "ticks": ""
            },
            "colorscale": [
             [
              0,
              "#0d0887"
             ],
             [
              0.1111111111111111,
              "#46039f"
             ],
             [
              0.2222222222222222,
              "#7201a8"
             ],
             [
              0.3333333333333333,
              "#9c179e"
             ],
             [
              0.4444444444444444,
              "#bd3786"
             ],
             [
              0.5555555555555556,
              "#d8576b"
             ],
             [
              0.6666666666666666,
              "#ed7953"
             ],
             [
              0.7777777777777778,
              "#fb9f3a"
             ],
             [
              0.8888888888888888,
              "#fdca26"
             ],
             [
              1,
              "#f0f921"
             ]
            ],
            "type": "heatmap"
           }
          ],
          "heatmapgl": [
           {
            "colorbar": {
             "outlinewidth": 0,
             "ticks": ""
            },
            "colorscale": [
             [
              0,
              "#0d0887"
             ],
             [
              0.1111111111111111,
              "#46039f"
             ],
             [
              0.2222222222222222,
              "#7201a8"
             ],
             [
              0.3333333333333333,
              "#9c179e"
             ],
             [
              0.4444444444444444,
              "#bd3786"
             ],
             [
              0.5555555555555556,
              "#d8576b"
             ],
             [
              0.6666666666666666,
              "#ed7953"
             ],
             [
              0.7777777777777778,
              "#fb9f3a"
             ],
             [
              0.8888888888888888,
              "#fdca26"
             ],
             [
              1,
              "#f0f921"
             ]
            ],
            "type": "heatmapgl"
           }
          ],
          "histogram": [
           {
            "marker": {
             "pattern": {
              "fillmode": "overlay",
              "size": 10,
              "solidity": 0.2
             }
            },
            "type": "histogram"
           }
          ],
          "histogram2d": [
           {
            "colorbar": {
             "outlinewidth": 0,
             "ticks": ""
            },
            "colorscale": [
             [
              0,
              "#0d0887"
             ],
             [
              0.1111111111111111,
              "#46039f"
             ],
             [
              0.2222222222222222,
              "#7201a8"
             ],
             [
              0.3333333333333333,
              "#9c179e"
             ],
             [
              0.4444444444444444,
              "#bd3786"
             ],
             [
              0.5555555555555556,
              "#d8576b"
             ],
             [
              0.6666666666666666,
              "#ed7953"
             ],
             [
              0.7777777777777778,
              "#fb9f3a"
             ],
             [
              0.8888888888888888,
              "#fdca26"
             ],
             [
              1,
              "#f0f921"
             ]
            ],
            "type": "histogram2d"
           }
          ],
          "histogram2dcontour": [
           {
            "colorbar": {
             "outlinewidth": 0,
             "ticks": ""
            },
            "colorscale": [
             [
              0,
              "#0d0887"
             ],
             [
              0.1111111111111111,
              "#46039f"
             ],
             [
              0.2222222222222222,
              "#7201a8"
             ],
             [
              0.3333333333333333,
              "#9c179e"
             ],
             [
              0.4444444444444444,
              "#bd3786"
             ],
             [
              0.5555555555555556,
              "#d8576b"
             ],
             [
              0.6666666666666666,
              "#ed7953"
             ],
             [
              0.7777777777777778,
              "#fb9f3a"
             ],
             [
              0.8888888888888888,
              "#fdca26"
             ],
             [
              1,
              "#f0f921"
             ]
            ],
            "type": "histogram2dcontour"
           }
          ],
          "mesh3d": [
           {
            "colorbar": {
             "outlinewidth": 0,
             "ticks": ""
            },
            "type": "mesh3d"
           }
          ],
          "parcoords": [
           {
            "line": {
             "colorbar": {
              "outlinewidth": 0,
              "ticks": ""
             }
            },
            "type": "parcoords"
           }
          ],
          "pie": [
           {
            "automargin": true,
            "type": "pie"
           }
          ],
          "scatter": [
           {
            "fillpattern": {
             "fillmode": "overlay",
             "size": 10,
             "solidity": 0.2
            },
            "type": "scatter"
           }
          ],
          "scatter3d": [
           {
            "line": {
             "colorbar": {
              "outlinewidth": 0,
              "ticks": ""
             }
            },
            "marker": {
             "colorbar": {
              "outlinewidth": 0,
              "ticks": ""
             }
            },
            "type": "scatter3d"
           }
          ],
          "scattercarpet": [
           {
            "marker": {
             "colorbar": {
              "outlinewidth": 0,
              "ticks": ""
             }
            },
            "type": "scattercarpet"
           }
          ],
          "scattergeo": [
           {
            "marker": {
             "colorbar": {
              "outlinewidth": 0,
              "ticks": ""
             }
            },
            "type": "scattergeo"
           }
          ],
          "scattergl": [
           {
            "marker": {
             "colorbar": {
              "outlinewidth": 0,
              "ticks": ""
             }
            },
            "type": "scattergl"
           }
          ],
          "scattermapbox": [
           {
            "marker": {
             "colorbar": {
              "outlinewidth": 0,
              "ticks": ""
             }
            },
            "type": "scattermapbox"
           }
          ],
          "scatterpolar": [
           {
            "marker": {
             "colorbar": {
              "outlinewidth": 0,
              "ticks": ""
             }
            },
            "type": "scatterpolar"
           }
          ],
          "scatterpolargl": [
           {
            "marker": {
             "colorbar": {
              "outlinewidth": 0,
              "ticks": ""
             }
            },
            "type": "scatterpolargl"
           }
          ],
          "scatterternary": [
           {
            "marker": {
             "colorbar": {
              "outlinewidth": 0,
              "ticks": ""
             }
            },
            "type": "scatterternary"
           }
          ],
          "surface": [
           {
            "colorbar": {
             "outlinewidth": 0,
             "ticks": ""
            },
            "colorscale": [
             [
              0,
              "#0d0887"
             ],
             [
              0.1111111111111111,
              "#46039f"
             ],
             [
              0.2222222222222222,
              "#7201a8"
             ],
             [
              0.3333333333333333,
              "#9c179e"
             ],
             [
              0.4444444444444444,
              "#bd3786"
             ],
             [
              0.5555555555555556,
              "#d8576b"
             ],
             [
              0.6666666666666666,
              "#ed7953"
             ],
             [
              0.7777777777777778,
              "#fb9f3a"
             ],
             [
              0.8888888888888888,
              "#fdca26"
             ],
             [
              1,
              "#f0f921"
             ]
            ],
            "type": "surface"
           }
          ],
          "table": [
           {
            "cells": {
             "fill": {
              "color": "#EBF0F8"
             },
             "line": {
              "color": "white"
             }
            },
            "header": {
             "fill": {
              "color": "#C8D4E3"
             },
             "line": {
              "color": "white"
             }
            },
            "type": "table"
           }
          ]
         },
         "layout": {
          "annotationdefaults": {
           "arrowcolor": "#2a3f5f",
           "arrowhead": 0,
           "arrowwidth": 1
          },
          "autotypenumbers": "strict",
          "coloraxis": {
           "colorbar": {
            "outlinewidth": 0,
            "ticks": ""
           }
          },
          "colorscale": {
           "diverging": [
            [
             0,
             "#8e0152"
            ],
            [
             0.1,
             "#c51b7d"
            ],
            [
             0.2,
             "#de77ae"
            ],
            [
             0.3,
             "#f1b6da"
            ],
            [
             0.4,
             "#fde0ef"
            ],
            [
             0.5,
             "#f7f7f7"
            ],
            [
             0.6,
             "#e6f5d0"
            ],
            [
             0.7,
             "#b8e186"
            ],
            [
             0.8,
             "#7fbc41"
            ],
            [
             0.9,
             "#4d9221"
            ],
            [
             1,
             "#276419"
            ]
           ],
           "sequential": [
            [
             0,
             "#0d0887"
            ],
            [
             0.1111111111111111,
             "#46039f"
            ],
            [
             0.2222222222222222,
             "#7201a8"
            ],
            [
             0.3333333333333333,
             "#9c179e"
            ],
            [
             0.4444444444444444,
             "#bd3786"
            ],
            [
             0.5555555555555556,
             "#d8576b"
            ],
            [
             0.6666666666666666,
             "#ed7953"
            ],
            [
             0.7777777777777778,
             "#fb9f3a"
            ],
            [
             0.8888888888888888,
             "#fdca26"
            ],
            [
             1,
             "#f0f921"
            ]
           ],
           "sequentialminus": [
            [
             0,
             "#0d0887"
            ],
            [
             0.1111111111111111,
             "#46039f"
            ],
            [
             0.2222222222222222,
             "#7201a8"
            ],
            [
             0.3333333333333333,
             "#9c179e"
            ],
            [
             0.4444444444444444,
             "#bd3786"
            ],
            [
             0.5555555555555556,
             "#d8576b"
            ],
            [
             0.6666666666666666,
             "#ed7953"
            ],
            [
             0.7777777777777778,
             "#fb9f3a"
            ],
            [
             0.8888888888888888,
             "#fdca26"
            ],
            [
             1,
             "#f0f921"
            ]
           ]
          },
          "colorway": [
           "#636efa",
           "#EF553B",
           "#00cc96",
           "#ab63fa",
           "#FFA15A",
           "#19d3f3",
           "#FF6692",
           "#B6E880",
           "#FF97FF",
           "#FECB52"
          ],
          "font": {
           "color": "#2a3f5f"
          },
          "geo": {
           "bgcolor": "white",
           "lakecolor": "white",
           "landcolor": "#E5ECF6",
           "showlakes": true,
           "showland": true,
           "subunitcolor": "white"
          },
          "hoverlabel": {
           "align": "left"
          },
          "hovermode": "closest",
          "mapbox": {
           "style": "light"
          },
          "paper_bgcolor": "white",
          "plot_bgcolor": "#E5ECF6",
          "polar": {
           "angularaxis": {
            "gridcolor": "white",
            "linecolor": "white",
            "ticks": ""
           },
           "bgcolor": "#E5ECF6",
           "radialaxis": {
            "gridcolor": "white",
            "linecolor": "white",
            "ticks": ""
           }
          },
          "scene": {
           "xaxis": {
            "backgroundcolor": "#E5ECF6",
            "gridcolor": "white",
            "gridwidth": 2,
            "linecolor": "white",
            "showbackground": true,
            "ticks": "",
            "zerolinecolor": "white"
           },
           "yaxis": {
            "backgroundcolor": "#E5ECF6",
            "gridcolor": "white",
            "gridwidth": 2,
            "linecolor": "white",
            "showbackground": true,
            "ticks": "",
            "zerolinecolor": "white"
           },
           "zaxis": {
            "backgroundcolor": "#E5ECF6",
            "gridcolor": "white",
            "gridwidth": 2,
            "linecolor": "white",
            "showbackground": true,
            "ticks": "",
            "zerolinecolor": "white"
           }
          },
          "shapedefaults": {
           "line": {
            "color": "#2a3f5f"
           }
          },
          "ternary": {
           "aaxis": {
            "gridcolor": "white",
            "linecolor": "white",
            "ticks": ""
           },
           "baxis": {
            "gridcolor": "white",
            "linecolor": "white",
            "ticks": ""
           },
           "bgcolor": "#E5ECF6",
           "caxis": {
            "gridcolor": "white",
            "linecolor": "white",
            "ticks": ""
           }
          },
          "title": {
           "x": 0.05
          },
          "xaxis": {
           "automargin": true,
           "gridcolor": "white",
           "linecolor": "white",
           "ticks": "",
           "title": {
            "standoff": 15
           },
           "zerolinecolor": "white",
           "zerolinewidth": 2
          },
          "yaxis": {
           "automargin": true,
           "gridcolor": "white",
           "linecolor": "white",
           "ticks": "",
           "title": {
            "standoff": 15
           },
           "zerolinecolor": "white",
           "zerolinewidth": 2
          }
         }
        },
        "title": {
         "text": "Top 20 des Zones de depose les plus populaires"
        },
        "xaxis": {
         "anchor": "y",
         "domain": [
          0,
          1
         ],
         "tickangle": -45,
         "tickfont": {
          "size": 10
         },
         "title": {
          "text": "Nombre de trajets"
         }
        },
        "yaxis": {
         "anchor": "x",
         "domain": [
          0,
          1
         ],
         "title": {
          "text": "Zone de depose"
         }
        }
       }
      }
     },
     "metadata": {},
     "output_type": "display_data"
    }
   ],
   "source": [
    "# Compter le nombre de trajets par zone de prise en charge\n",
    "dropoff_counts = df_trips['dozone'].value_counts().reset_index()\n",
    "dropoff_counts.columns = ['Zone', 'Nombre de trajets']\n",
    "dropoff_counts = dropoff_counts.sort_values(by='Nombre de trajets', ascending=False)\n",
    "print(dropoff_counts)\n",
    "\n",
    "# Créer le graphique des 20 zones de depose les plus populaires\n",
    "top20_dropoff_counts = dropoff_counts.head(20)\n",
    "\n",
    "fig = px.bar(top20_dropoff_counts, x='Nombre de trajets', y='Zone', \n",
    "             orientation='h',\n",
    "             title='Top 20 des Zones de depose les plus populaires',\n",
    "             labels={'Zone': 'Zone de depose', 'Nombre de trajets': 'Nombre de trajets'})\n",
    "\n",
    "# Personnaliser la mise en page\n",
    "fig.update_layout(xaxis_tickangle=-45, xaxis_tickfont=dict(size=10))\n",
    "\n",
    "# Afficher le graphique\n",
    "fig.show()"
   ]
  },
  {
   "cell_type": "markdown",
   "metadata": {},
   "source": [
    "### Itineraires les plus populaires entre zones"
   ]
  },
  {
   "cell_type": "code",
   "execution_count": 37,
   "metadata": {},
   "outputs": [
    {
     "name": "stdout",
     "output_type": "stream",
     "text": [
      "                                  puzone                     dozone  \\\n",
      "37122              Upper East Side South      Upper East Side North   \n",
      "36876              Upper East Side North      Upper East Side South   \n",
      "37123              Upper East Side South      Upper East Side South   \n",
      "36875              Upper East Side North      Upper East Side North   \n",
      "24724                     Midtown Center      Upper East Side South   \n",
      "...                                  ...                        ...   \n",
      "30771                      Rockaway Park             Sheepshead Bay   \n",
      "30774                      Rockaway Park  Springfield Gardens South   \n",
      "30775                      Rockaway Park              Starrett City   \n",
      "30776                      Rockaway Park                   Steinway   \n",
      "11505  East New York/Pennsylvania Avenue                 Whitestone   \n",
      "\n",
      "       Nombre de trajets                                       Itinéraire  \n",
      "37122             249331   Upper East Side South TO Upper East Side North  \n",
      "36876             212384   Upper East Side North TO Upper East Side South  \n",
      "37123             168292   Upper East Side South TO Upper East Side South  \n",
      "36875             161159   Upper East Side North TO Upper East Side North  \n",
      "24724             117748          Midtown Center TO Upper East Side South  \n",
      "...                  ...                                              ...  \n",
      "30771                  1                  Rockaway Park TO Sheepshead Bay  \n",
      "30774                  1       Rockaway Park TO Springfield Gardens South  \n",
      "30775                  1                   Rockaway Park TO Starrett City  \n",
      "30776                  1                        Rockaway Park TO Steinway  \n",
      "11505                  1  East New York/Pennsylvania Avenue TO Whitestone  \n",
      "\n",
      "[41440 rows x 4 columns]\n"
     ]
    },
    {
     "data": {
      "application/vnd.plotly.v1+json": {
       "config": {
        "plotlyServerURL": "https://plot.ly"
       },
       "data": [
        {
         "alignmentgroup": "True",
         "hovertemplate": "Itinéraire=%{x}<br>Nombre de trajets=%{y}<extra></extra>",
         "legendgroup": "",
         "marker": {
          "color": "#636efa",
          "pattern": {
           "shape": ""
          }
         },
         "name": "",
         "offsetgroup": "",
         "orientation": "v",
         "showlegend": false,
         "textposition": "auto",
         "type": "bar",
         "x": [
          "Upper East Side South TO Upper East Side North",
          "Upper East Side North TO Upper East Side South",
          "Upper East Side South TO Upper East Side South",
          "Upper East Side North TO Upper East Side North",
          "Midtown Center TO Upper East Side South",
          "Upper East Side South TO Midtown Center",
          "Midtown Center TO Upper East Side North",
          "Lincoln Square East TO Upper West Side South",
          "Upper West Side South TO Lincoln Square East",
          "JFK Airport TO Times Sq/Theatre District",
          "Upper East Side South TO Midtown East",
          "Upper West Side South TO Upper West Side North",
          "Upper East Side North TO Midtown Center",
          "Lenox Hill West TO Upper East Side North",
          "Midtown East TO Upper East Side South",
          "Penn Station/Madison Sq West TO Times Sq/Theatre District",
          "LaGuardia Airport TO Times Sq/Theatre District",
          "Lincoln Square East TO Upper West Side North",
          "Upper West Side North TO Upper West Side South",
          "Upper East Side North TO Upper West Side South"
         ],
         "xaxis": "x",
         "y": [
          249331,
          212384,
          168292,
          161159,
          117748,
          114361,
          101029,
          95276,
          91172,
          90783,
          90603,
          89785,
          85471,
          83290,
          78499,
          77925,
          75981,
          74295,
          74176,
          72873
         ],
         "yaxis": "y"
        }
       ],
       "layout": {
        "barmode": "relative",
        "legend": {
         "tracegroupgap": 0
        },
        "template": {
         "data": {
          "bar": [
           {
            "error_x": {
             "color": "#2a3f5f"
            },
            "error_y": {
             "color": "#2a3f5f"
            },
            "marker": {
             "line": {
              "color": "#E5ECF6",
              "width": 0.5
             },
             "pattern": {
              "fillmode": "overlay",
              "size": 10,
              "solidity": 0.2
             }
            },
            "type": "bar"
           }
          ],
          "barpolar": [
           {
            "marker": {
             "line": {
              "color": "#E5ECF6",
              "width": 0.5
             },
             "pattern": {
              "fillmode": "overlay",
              "size": 10,
              "solidity": 0.2
             }
            },
            "type": "barpolar"
           }
          ],
          "carpet": [
           {
            "aaxis": {
             "endlinecolor": "#2a3f5f",
             "gridcolor": "white",
             "linecolor": "white",
             "minorgridcolor": "white",
             "startlinecolor": "#2a3f5f"
            },
            "baxis": {
             "endlinecolor": "#2a3f5f",
             "gridcolor": "white",
             "linecolor": "white",
             "minorgridcolor": "white",
             "startlinecolor": "#2a3f5f"
            },
            "type": "carpet"
           }
          ],
          "choropleth": [
           {
            "colorbar": {
             "outlinewidth": 0,
             "ticks": ""
            },
            "type": "choropleth"
           }
          ],
          "contour": [
           {
            "colorbar": {
             "outlinewidth": 0,
             "ticks": ""
            },
            "colorscale": [
             [
              0,
              "#0d0887"
             ],
             [
              0.1111111111111111,
              "#46039f"
             ],
             [
              0.2222222222222222,
              "#7201a8"
             ],
             [
              0.3333333333333333,
              "#9c179e"
             ],
             [
              0.4444444444444444,
              "#bd3786"
             ],
             [
              0.5555555555555556,
              "#d8576b"
             ],
             [
              0.6666666666666666,
              "#ed7953"
             ],
             [
              0.7777777777777778,
              "#fb9f3a"
             ],
             [
              0.8888888888888888,
              "#fdca26"
             ],
             [
              1,
              "#f0f921"
             ]
            ],
            "type": "contour"
           }
          ],
          "contourcarpet": [
           {
            "colorbar": {
             "outlinewidth": 0,
             "ticks": ""
            },
            "type": "contourcarpet"
           }
          ],
          "heatmap": [
           {
            "colorbar": {
             "outlinewidth": 0,
             "ticks": ""
            },
            "colorscale": [
             [
              0,
              "#0d0887"
             ],
             [
              0.1111111111111111,
              "#46039f"
             ],
             [
              0.2222222222222222,
              "#7201a8"
             ],
             [
              0.3333333333333333,
              "#9c179e"
             ],
             [
              0.4444444444444444,
              "#bd3786"
             ],
             [
              0.5555555555555556,
              "#d8576b"
             ],
             [
              0.6666666666666666,
              "#ed7953"
             ],
             [
              0.7777777777777778,
              "#fb9f3a"
             ],
             [
              0.8888888888888888,
              "#fdca26"
             ],
             [
              1,
              "#f0f921"
             ]
            ],
            "type": "heatmap"
           }
          ],
          "heatmapgl": [
           {
            "colorbar": {
             "outlinewidth": 0,
             "ticks": ""
            },
            "colorscale": [
             [
              0,
              "#0d0887"
             ],
             [
              0.1111111111111111,
              "#46039f"
             ],
             [
              0.2222222222222222,
              "#7201a8"
             ],
             [
              0.3333333333333333,
              "#9c179e"
             ],
             [
              0.4444444444444444,
              "#bd3786"
             ],
             [
              0.5555555555555556,
              "#d8576b"
             ],
             [
              0.6666666666666666,
              "#ed7953"
             ],
             [
              0.7777777777777778,
              "#fb9f3a"
             ],
             [
              0.8888888888888888,
              "#fdca26"
             ],
             [
              1,
              "#f0f921"
             ]
            ],
            "type": "heatmapgl"
           }
          ],
          "histogram": [
           {
            "marker": {
             "pattern": {
              "fillmode": "overlay",
              "size": 10,
              "solidity": 0.2
             }
            },
            "type": "histogram"
           }
          ],
          "histogram2d": [
           {
            "colorbar": {
             "outlinewidth": 0,
             "ticks": ""
            },
            "colorscale": [
             [
              0,
              "#0d0887"
             ],
             [
              0.1111111111111111,
              "#46039f"
             ],
             [
              0.2222222222222222,
              "#7201a8"
             ],
             [
              0.3333333333333333,
              "#9c179e"
             ],
             [
              0.4444444444444444,
              "#bd3786"
             ],
             [
              0.5555555555555556,
              "#d8576b"
             ],
             [
              0.6666666666666666,
              "#ed7953"
             ],
             [
              0.7777777777777778,
              "#fb9f3a"
             ],
             [
              0.8888888888888888,
              "#fdca26"
             ],
             [
              1,
              "#f0f921"
             ]
            ],
            "type": "histogram2d"
           }
          ],
          "histogram2dcontour": [
           {
            "colorbar": {
             "outlinewidth": 0,
             "ticks": ""
            },
            "colorscale": [
             [
              0,
              "#0d0887"
             ],
             [
              0.1111111111111111,
              "#46039f"
             ],
             [
              0.2222222222222222,
              "#7201a8"
             ],
             [
              0.3333333333333333,
              "#9c179e"
             ],
             [
              0.4444444444444444,
              "#bd3786"
             ],
             [
              0.5555555555555556,
              "#d8576b"
             ],
             [
              0.6666666666666666,
              "#ed7953"
             ],
             [
              0.7777777777777778,
              "#fb9f3a"
             ],
             [
              0.8888888888888888,
              "#fdca26"
             ],
             [
              1,
              "#f0f921"
             ]
            ],
            "type": "histogram2dcontour"
           }
          ],
          "mesh3d": [
           {
            "colorbar": {
             "outlinewidth": 0,
             "ticks": ""
            },
            "type": "mesh3d"
           }
          ],
          "parcoords": [
           {
            "line": {
             "colorbar": {
              "outlinewidth": 0,
              "ticks": ""
             }
            },
            "type": "parcoords"
           }
          ],
          "pie": [
           {
            "automargin": true,
            "type": "pie"
           }
          ],
          "scatter": [
           {
            "fillpattern": {
             "fillmode": "overlay",
             "size": 10,
             "solidity": 0.2
            },
            "type": "scatter"
           }
          ],
          "scatter3d": [
           {
            "line": {
             "colorbar": {
              "outlinewidth": 0,
              "ticks": ""
             }
            },
            "marker": {
             "colorbar": {
              "outlinewidth": 0,
              "ticks": ""
             }
            },
            "type": "scatter3d"
           }
          ],
          "scattercarpet": [
           {
            "marker": {
             "colorbar": {
              "outlinewidth": 0,
              "ticks": ""
             }
            },
            "type": "scattercarpet"
           }
          ],
          "scattergeo": [
           {
            "marker": {
             "colorbar": {
              "outlinewidth": 0,
              "ticks": ""
             }
            },
            "type": "scattergeo"
           }
          ],
          "scattergl": [
           {
            "marker": {
             "colorbar": {
              "outlinewidth": 0,
              "ticks": ""
             }
            },
            "type": "scattergl"
           }
          ],
          "scattermapbox": [
           {
            "marker": {
             "colorbar": {
              "outlinewidth": 0,
              "ticks": ""
             }
            },
            "type": "scattermapbox"
           }
          ],
          "scatterpolar": [
           {
            "marker": {
             "colorbar": {
              "outlinewidth": 0,
              "ticks": ""
             }
            },
            "type": "scatterpolar"
           }
          ],
          "scatterpolargl": [
           {
            "marker": {
             "colorbar": {
              "outlinewidth": 0,
              "ticks": ""
             }
            },
            "type": "scatterpolargl"
           }
          ],
          "scatterternary": [
           {
            "marker": {
             "colorbar": {
              "outlinewidth": 0,
              "ticks": ""
             }
            },
            "type": "scatterternary"
           }
          ],
          "surface": [
           {
            "colorbar": {
             "outlinewidth": 0,
             "ticks": ""
            },
            "colorscale": [
             [
              0,
              "#0d0887"
             ],
             [
              0.1111111111111111,
              "#46039f"
             ],
             [
              0.2222222222222222,
              "#7201a8"
             ],
             [
              0.3333333333333333,
              "#9c179e"
             ],
             [
              0.4444444444444444,
              "#bd3786"
             ],
             [
              0.5555555555555556,
              "#d8576b"
             ],
             [
              0.6666666666666666,
              "#ed7953"
             ],
             [
              0.7777777777777778,
              "#fb9f3a"
             ],
             [
              0.8888888888888888,
              "#fdca26"
             ],
             [
              1,
              "#f0f921"
             ]
            ],
            "type": "surface"
           }
          ],
          "table": [
           {
            "cells": {
             "fill": {
              "color": "#EBF0F8"
             },
             "line": {
              "color": "white"
             }
            },
            "header": {
             "fill": {
              "color": "#C8D4E3"
             },
             "line": {
              "color": "white"
             }
            },
            "type": "table"
           }
          ]
         },
         "layout": {
          "annotationdefaults": {
           "arrowcolor": "#2a3f5f",
           "arrowhead": 0,
           "arrowwidth": 1
          },
          "autotypenumbers": "strict",
          "coloraxis": {
           "colorbar": {
            "outlinewidth": 0,
            "ticks": ""
           }
          },
          "colorscale": {
           "diverging": [
            [
             0,
             "#8e0152"
            ],
            [
             0.1,
             "#c51b7d"
            ],
            [
             0.2,
             "#de77ae"
            ],
            [
             0.3,
             "#f1b6da"
            ],
            [
             0.4,
             "#fde0ef"
            ],
            [
             0.5,
             "#f7f7f7"
            ],
            [
             0.6,
             "#e6f5d0"
            ],
            [
             0.7,
             "#b8e186"
            ],
            [
             0.8,
             "#7fbc41"
            ],
            [
             0.9,
             "#4d9221"
            ],
            [
             1,
             "#276419"
            ]
           ],
           "sequential": [
            [
             0,
             "#0d0887"
            ],
            [
             0.1111111111111111,
             "#46039f"
            ],
            [
             0.2222222222222222,
             "#7201a8"
            ],
            [
             0.3333333333333333,
             "#9c179e"
            ],
            [
             0.4444444444444444,
             "#bd3786"
            ],
            [
             0.5555555555555556,
             "#d8576b"
            ],
            [
             0.6666666666666666,
             "#ed7953"
            ],
            [
             0.7777777777777778,
             "#fb9f3a"
            ],
            [
             0.8888888888888888,
             "#fdca26"
            ],
            [
             1,
             "#f0f921"
            ]
           ],
           "sequentialminus": [
            [
             0,
             "#0d0887"
            ],
            [
             0.1111111111111111,
             "#46039f"
            ],
            [
             0.2222222222222222,
             "#7201a8"
            ],
            [
             0.3333333333333333,
             "#9c179e"
            ],
            [
             0.4444444444444444,
             "#bd3786"
            ],
            [
             0.5555555555555556,
             "#d8576b"
            ],
            [
             0.6666666666666666,
             "#ed7953"
            ],
            [
             0.7777777777777778,
             "#fb9f3a"
            ],
            [
             0.8888888888888888,
             "#fdca26"
            ],
            [
             1,
             "#f0f921"
            ]
           ]
          },
          "colorway": [
           "#636efa",
           "#EF553B",
           "#00cc96",
           "#ab63fa",
           "#FFA15A",
           "#19d3f3",
           "#FF6692",
           "#B6E880",
           "#FF97FF",
           "#FECB52"
          ],
          "font": {
           "color": "#2a3f5f"
          },
          "geo": {
           "bgcolor": "white",
           "lakecolor": "white",
           "landcolor": "#E5ECF6",
           "showlakes": true,
           "showland": true,
           "subunitcolor": "white"
          },
          "hoverlabel": {
           "align": "left"
          },
          "hovermode": "closest",
          "mapbox": {
           "style": "light"
          },
          "paper_bgcolor": "white",
          "plot_bgcolor": "#E5ECF6",
          "polar": {
           "angularaxis": {
            "gridcolor": "white",
            "linecolor": "white",
            "ticks": ""
           },
           "bgcolor": "#E5ECF6",
           "radialaxis": {
            "gridcolor": "white",
            "linecolor": "white",
            "ticks": ""
           }
          },
          "scene": {
           "xaxis": {
            "backgroundcolor": "#E5ECF6",
            "gridcolor": "white",
            "gridwidth": 2,
            "linecolor": "white",
            "showbackground": true,
            "ticks": "",
            "zerolinecolor": "white"
           },
           "yaxis": {
            "backgroundcolor": "#E5ECF6",
            "gridcolor": "white",
            "gridwidth": 2,
            "linecolor": "white",
            "showbackground": true,
            "ticks": "",
            "zerolinecolor": "white"
           },
           "zaxis": {
            "backgroundcolor": "#E5ECF6",
            "gridcolor": "white",
            "gridwidth": 2,
            "linecolor": "white",
            "showbackground": true,
            "ticks": "",
            "zerolinecolor": "white"
           }
          },
          "shapedefaults": {
           "line": {
            "color": "#2a3f5f"
           }
          },
          "ternary": {
           "aaxis": {
            "gridcolor": "white",
            "linecolor": "white",
            "ticks": ""
           },
           "baxis": {
            "gridcolor": "white",
            "linecolor": "white",
            "ticks": ""
           },
           "bgcolor": "#E5ECF6",
           "caxis": {
            "gridcolor": "white",
            "linecolor": "white",
            "ticks": ""
           }
          },
          "title": {
           "x": 0.05
          },
          "xaxis": {
           "automargin": true,
           "gridcolor": "white",
           "linecolor": "white",
           "ticks": "",
           "title": {
            "standoff": 15
           },
           "zerolinecolor": "white",
           "zerolinewidth": 2
          },
          "yaxis": {
           "automargin": true,
           "gridcolor": "white",
           "linecolor": "white",
           "ticks": "",
           "title": {
            "standoff": 15
           },
           "zerolinecolor": "white",
           "zerolinewidth": 2
          }
         }
        },
        "title": {
         "text": "Itinéraires les plus populaires entre zones"
        },
        "xaxis": {
         "anchor": "y",
         "domain": [
          0,
          1
         ],
         "title": {
          "text": "Itinéraire"
         }
        },
        "yaxis": {
         "anchor": "x",
         "domain": [
          0,
          1
         ],
         "title": {
          "text": "Nombre de trajets"
         }
        }
       }
      }
     },
     "metadata": {},
     "output_type": "display_data"
    }
   ],
   "source": [
    "# Compter le nombre de trajets par paire de zones\n",
    "route_counts_zones = df_trips.groupby(['puzone', 'dozone']).size().reset_index(name='Nombre de trajets')\n",
    "\n",
    "# Créer une nouvelle colonne par concaténation de puzone et dozone\n",
    "route_counts_zones['Itinéraire'] = route_counts_zones.apply(lambda row: f\"{row['puzone']} TO {row['dozone']}\", axis=1)\n",
    "\n",
    "# Trier par nombre de trajets\n",
    "route_counts_zones = route_counts_zones.sort_values(by='Nombre de trajets', ascending=False)\n",
    "print(route_counts_zones)\n",
    "\n",
    "# Top 20 des itinéraires les plus populaires entre zones\n",
    "top20_route_counts_zones = route_counts_zones.head(20)\n",
    "\n",
    "# Créer le graphique à barres horizontales\n",
    "fig = px.bar(top20_route_counts_zones, x='Itinéraire', y='Nombre de trajets',\n",
    "             title='Top 20 Itinéraires les plus populaires entre zones'\n",
    "             )\n",
    "\n",
    "# Afficher le graphique\n",
    "fig.show()"
   ]
  },
  {
   "cell_type": "markdown",
   "metadata": {},
   "source": [
    "## Analyses sur le nombre de passagers"
   ]
  },
  {
   "cell_type": "code",
   "execution_count": 11,
   "metadata": {},
   "outputs": [
    {
     "data": {
      "text/html": [
       "<div>\n",
       "<style scoped>\n",
       "    .dataframe tbody tr th:only-of-type {\n",
       "        vertical-align: middle;\n",
       "    }\n",
       "\n",
       "    .dataframe tbody tr th {\n",
       "        vertical-align: top;\n",
       "    }\n",
       "\n",
       "    .dataframe thead th {\n",
       "        text-align: right;\n",
       "    }\n",
       "</style>\n",
       "<table border=\"1\" class=\"dataframe\">\n",
       "  <thead>\n",
       "    <tr style=\"text-align: right;\">\n",
       "      <th></th>\n",
       "      <th>Itineraire Arrondissement</th>\n",
       "      <th>passenger_count</th>\n",
       "    </tr>\n",
       "  </thead>\n",
       "  <tbody>\n",
       "    <tr>\n",
       "      <th>15</th>\n",
       "      <td>EWR - Staten Island</td>\n",
       "      <td>4.000000</td>\n",
       "    </tr>\n",
       "    <tr>\n",
       "      <th>13</th>\n",
       "      <td>EWR - Manhattan</td>\n",
       "      <td>3.000000</td>\n",
       "    </tr>\n",
       "    <tr>\n",
       "      <th>12</th>\n",
       "      <td>EWR - EWR</td>\n",
       "      <td>2.181818</td>\n",
       "    </tr>\n",
       "    <tr>\n",
       "      <th>30</th>\n",
       "      <td>Staten Island - EWR</td>\n",
       "      <td>2.000000</td>\n",
       "    </tr>\n",
       "    <tr>\n",
       "      <th>18</th>\n",
       "      <td>Manhattan - EWR</td>\n",
       "      <td>1.840620</td>\n",
       "    </tr>\n",
       "    <tr>\n",
       "      <th>24</th>\n",
       "      <td>Queens - EWR</td>\n",
       "      <td>1.780405</td>\n",
       "    </tr>\n",
       "    <tr>\n",
       "      <th>7</th>\n",
       "      <td>Brooklyn - EWR</td>\n",
       "      <td>1.700000</td>\n",
       "    </tr>\n",
       "    <tr>\n",
       "      <th>27</th>\n",
       "      <td>Queens - Staten Island</td>\n",
       "      <td>1.654008</td>\n",
       "    </tr>\n",
       "    <tr>\n",
       "      <th>25</th>\n",
       "      <td>Queens - Manhattan</td>\n",
       "      <td>1.549703</td>\n",
       "    </tr>\n",
       "    <tr>\n",
       "      <th>20</th>\n",
       "      <td>Manhattan - Queens</td>\n",
       "      <td>1.522834</td>\n",
       "    </tr>\n",
       "    <tr>\n",
       "      <th>33</th>\n",
       "      <td>Staten Island - Staten Island</td>\n",
       "      <td>1.461538</td>\n",
       "    </tr>\n",
       "    <tr>\n",
       "      <th>26</th>\n",
       "      <td>Queens - Queens</td>\n",
       "      <td>1.456427</td>\n",
       "    </tr>\n",
       "    <tr>\n",
       "      <th>22</th>\n",
       "      <td>Queens - Bronx</td>\n",
       "      <td>1.429323</td>\n",
       "    </tr>\n",
       "    <tr>\n",
       "      <th>19</th>\n",
       "      <td>Manhattan - Manhattan</td>\n",
       "      <td>1.407494</td>\n",
       "    </tr>\n",
       "    <tr>\n",
       "      <th>8</th>\n",
       "      <td>Brooklyn - Manhattan</td>\n",
       "      <td>1.407011</td>\n",
       "    </tr>\n",
       "    <tr>\n",
       "      <th>23</th>\n",
       "      <td>Queens - Brooklyn</td>\n",
       "      <td>1.390189</td>\n",
       "    </tr>\n",
       "    <tr>\n",
       "      <th>10</th>\n",
       "      <td>Brooklyn - Staten Island</td>\n",
       "      <td>1.375000</td>\n",
       "    </tr>\n",
       "    <tr>\n",
       "      <th>17</th>\n",
       "      <td>Manhattan - Brooklyn</td>\n",
       "      <td>1.372905</td>\n",
       "    </tr>\n",
       "    <tr>\n",
       "      <th>16</th>\n",
       "      <td>Manhattan - Bronx</td>\n",
       "      <td>1.369024</td>\n",
       "    </tr>\n",
       "    <tr>\n",
       "      <th>6</th>\n",
       "      <td>Brooklyn - Brooklyn</td>\n",
       "      <td>1.277284</td>\n",
       "    </tr>\n",
       "    <tr>\n",
       "      <th>21</th>\n",
       "      <td>Manhattan - Staten Island</td>\n",
       "      <td>1.262774</td>\n",
       "    </tr>\n",
       "    <tr>\n",
       "      <th>2</th>\n",
       "      <td>Bronx - Manhattan</td>\n",
       "      <td>1.209106</td>\n",
       "    </tr>\n",
       "    <tr>\n",
       "      <th>9</th>\n",
       "      <td>Brooklyn - Queens</td>\n",
       "      <td>1.206581</td>\n",
       "    </tr>\n",
       "    <tr>\n",
       "      <th>3</th>\n",
       "      <td>Bronx - Queens</td>\n",
       "      <td>1.173554</td>\n",
       "    </tr>\n",
       "    <tr>\n",
       "      <th>0</th>\n",
       "      <td>Bronx - Bronx</td>\n",
       "      <td>1.116453</td>\n",
       "    </tr>\n",
       "    <tr>\n",
       "      <th>1</th>\n",
       "      <td>Bronx - Brooklyn</td>\n",
       "      <td>1.062016</td>\n",
       "    </tr>\n",
       "    <tr>\n",
       "      <th>5</th>\n",
       "      <td>Brooklyn - Bronx</td>\n",
       "      <td>1.020408</td>\n",
       "    </tr>\n",
       "    <tr>\n",
       "      <th>14</th>\n",
       "      <td>EWR - Queens</td>\n",
       "      <td>1.000000</td>\n",
       "    </tr>\n",
       "    <tr>\n",
       "      <th>11</th>\n",
       "      <td>EWR - Brooklyn</td>\n",
       "      <td>1.000000</td>\n",
       "    </tr>\n",
       "    <tr>\n",
       "      <th>4</th>\n",
       "      <td>Bronx - Staten Island</td>\n",
       "      <td>1.000000</td>\n",
       "    </tr>\n",
       "    <tr>\n",
       "      <th>28</th>\n",
       "      <td>Staten Island - Bronx</td>\n",
       "      <td>1.000000</td>\n",
       "    </tr>\n",
       "    <tr>\n",
       "      <th>29</th>\n",
       "      <td>Staten Island - Brooklyn</td>\n",
       "      <td>1.000000</td>\n",
       "    </tr>\n",
       "    <tr>\n",
       "      <th>31</th>\n",
       "      <td>Staten Island - Manhattan</td>\n",
       "      <td>1.000000</td>\n",
       "    </tr>\n",
       "    <tr>\n",
       "      <th>32</th>\n",
       "      <td>Staten Island - Queens</td>\n",
       "      <td>1.000000</td>\n",
       "    </tr>\n",
       "  </tbody>\n",
       "</table>\n",
       "</div>"
      ],
      "text/plain": [
       "        Itineraire Arrondissement  passenger_count\n",
       "15            EWR - Staten Island         4.000000\n",
       "13                EWR - Manhattan         3.000000\n",
       "12                      EWR - EWR         2.181818\n",
       "30            Staten Island - EWR         2.000000\n",
       "18                Manhattan - EWR         1.840620\n",
       "24                   Queens - EWR         1.780405\n",
       "7                  Brooklyn - EWR         1.700000\n",
       "27         Queens - Staten Island         1.654008\n",
       "25             Queens - Manhattan         1.549703\n",
       "20             Manhattan - Queens         1.522834\n",
       "33  Staten Island - Staten Island         1.461538\n",
       "26                Queens - Queens         1.456427\n",
       "22                 Queens - Bronx         1.429323\n",
       "19          Manhattan - Manhattan         1.407494\n",
       "8            Brooklyn - Manhattan         1.407011\n",
       "23              Queens - Brooklyn         1.390189\n",
       "10       Brooklyn - Staten Island         1.375000\n",
       "17           Manhattan - Brooklyn         1.372905\n",
       "16              Manhattan - Bronx         1.369024\n",
       "6             Brooklyn - Brooklyn         1.277284\n",
       "21      Manhattan - Staten Island         1.262774\n",
       "2               Bronx - Manhattan         1.209106\n",
       "9               Brooklyn - Queens         1.206581\n",
       "3                  Bronx - Queens         1.173554\n",
       "0                   Bronx - Bronx         1.116453\n",
       "1                Bronx - Brooklyn         1.062016\n",
       "5                Brooklyn - Bronx         1.020408\n",
       "14                   EWR - Queens         1.000000\n",
       "11                 EWR - Brooklyn         1.000000\n",
       "4           Bronx - Staten Island         1.000000\n",
       "28          Staten Island - Bronx         1.000000\n",
       "29       Staten Island - Brooklyn         1.000000\n",
       "31      Staten Island - Manhattan         1.000000\n",
       "32         Staten Island - Queens         1.000000"
      ]
     },
     "execution_count": 11,
     "metadata": {},
     "output_type": "execute_result"
    }
   ],
   "source": [
    "# Définir la taille du lot pour l'itération\n",
    "chunk_size = 100000\n",
    "\n",
    "# Lire le fichier parquet et obtenir les métadonnées\n",
    "parquet_file = pq.ParquetFile('trips_cleaned.parquet')\n",
    "\n",
    "# Initialiser une liste pour stocker les résultats partiels\n",
    "partial_results = []\n",
    "\n",
    "# Itérer sur les segments parquet par petits morceaux\n",
    "for i in range(0, parquet_file.num_row_groups, chunk_size):\n",
    "    # Lire un segment parquet\n",
    "    chunk = parquet_file.read_row_group(i, columns=['puborough', 'doborough', 'passenger_count'])\n",
    "    # Convertir le segment en DataFrame pandas\n",
    "    chunk_df = chunk.to_pandas()\n",
    "    # Créer une nouvelle colonne par concaténation de puborough et doborough pour chaque morceau\n",
    "    chunk_df['Itineraire Arrondissement'] = chunk_df.apply(lambda row: f\"{row['puborough']} - {row['doborough']}\", axis=1)\n",
    "    # Regrouper par Itineraire pour chaque morceau et calculer la moyenne du nombre de passagers\n",
    "    partial_passengers_per_route = chunk_df.groupby('Itineraire Arrondissement')['passenger_count'].mean().reset_index()\n",
    "    # Ajouter les résultats partiels à la liste\n",
    "    partial_results.append(partial_passengers_per_route)\n",
    "\n",
    "# Concaténer les résultats partiels en un seul DataFrame\n",
    "passengers_per_route = pd.concat(partial_results)\n",
    "\n",
    "# Regrouper à nouveau par Itineraire sur l'ensemble des données et calculer la moyenne finale du nombre de passagers\n",
    "passengers_per_route = passengers_per_route.groupby('Itineraire Arrondissement')['passenger_count'].mean().reset_index()\n",
    "\n",
    "# Trier les résultats par nombre moyen de passagers de manière décroissante\n",
    "passengers_per_route = passengers_per_route.sort_values(by='passenger_count', ascending=False)\n",
    "\n",
    "# Afficher le résultat\n",
    "passengers_per_route"
   ]
  },
  {
   "cell_type": "markdown",
   "metadata": {},
   "source": [
    "Ce résultat montre la moyenne du nombre de passagers pour différents itinéraires entre les arrondissements. Voici quelques interprétations possibles :\n",
    "\n",
    "1. **Itinéraires avec le plus grand nombre moyen de passagers :**\n",
    "   - \"EWR - Staten Island\" a la plus grande moyenne avec 4 passagers par trajet.\n",
    "   - \"EWR - Manhattan\" suit avec une moyenne de 3 passagers par trajet.\n",
    "\n",
    "2. **Itinéraires avec une moyenne modérée de passagers :**\n",
    "   - \"EWR - EWR\" a une moyenne de 2.18 passagers par trajet.\n",
    "   - \"Staten Island - EWR\" a une moyenne de 2 passagers par trajet.\n",
    "\n",
    "3. **Itinéraires avec une moyenne plus basse de passagers :**\n",
    "   - Les itinéraires reliant les aéroports aux autres arrondissements ont généralement des moyennes de passagers plus élevées.\n",
    "   - Les itinéraires entre les arrondissements de Manhattan, Brooklyn et Queens ont des moyennes de passagers variables, allant d'environ 1.4 à 1.8 passagers par trajet.\n",
    "   - Certains itinéraires, comme \"Brooklyn - Brooklyn\" et \"Bronx - Bronx\", ont des moyennes plus basses, autour de 1.0 à 1.3 passagers par trajet.\n",
    "\n",
    "En résumé, cette analyse fournit des informations sur la densité de passagers pour différents itinéraires entre les arrondissements, ce qui peut être utile pour la planification des transports ou d'autres analyses liées aux déplacements dans la ville."
   ]
  },
  {
   "cell_type": "code",
   "execution_count": 12,
   "metadata": {},
   "outputs": [
    {
     "data": {
      "text/html": [
       "<div>\n",
       "<style scoped>\n",
       "    .dataframe tbody tr th:only-of-type {\n",
       "        vertical-align: middle;\n",
       "    }\n",
       "\n",
       "    .dataframe tbody tr th {\n",
       "        vertical-align: top;\n",
       "    }\n",
       "\n",
       "    .dataframe thead th {\n",
       "        text-align: right;\n",
       "    }\n",
       "</style>\n",
       "<table border=\"1\" class=\"dataframe\">\n",
       "  <thead>\n",
       "    <tr style=\"text-align: right;\">\n",
       "      <th></th>\n",
       "      <th>Itineraire Zone</th>\n",
       "      <th>passenger_count</th>\n",
       "    </tr>\n",
       "  </thead>\n",
       "  <tbody>\n",
       "    <tr>\n",
       "      <th>12216</th>\n",
       "      <td>Steinway - Saint Albans</td>\n",
       "      <td>6.0</td>\n",
       "    </tr>\n",
       "    <tr>\n",
       "      <th>8811</th>\n",
       "      <td>Manhattanville - Greenwich Village North</td>\n",
       "      <td>6.0</td>\n",
       "    </tr>\n",
       "    <tr>\n",
       "      <th>8027</th>\n",
       "      <td>Lincoln Square West - Borough Park</td>\n",
       "      <td>6.0</td>\n",
       "    </tr>\n",
       "    <tr>\n",
       "      <th>11661</th>\n",
       "      <td>SoHo - Dyker Heights</td>\n",
       "      <td>6.0</td>\n",
       "    </tr>\n",
       "    <tr>\n",
       "      <th>8295</th>\n",
       "      <td>Long Island City/Hunters Point - Clinton Hill</td>\n",
       "      <td>6.0</td>\n",
       "    </tr>\n",
       "    <tr>\n",
       "      <th>...</th>\n",
       "      <td>...</td>\n",
       "      <td>...</td>\n",
       "    </tr>\n",
       "    <tr>\n",
       "      <th>3880</th>\n",
       "      <td>East New York - Kips Bay</td>\n",
       "      <td>1.0</td>\n",
       "    </tr>\n",
       "    <tr>\n",
       "      <th>3881</th>\n",
       "      <td>East New York - LaGuardia Airport</td>\n",
       "      <td>1.0</td>\n",
       "    </tr>\n",
       "    <tr>\n",
       "      <th>10176</th>\n",
       "      <td>Murray Hill - Crown Heights South</td>\n",
       "      <td>1.0</td>\n",
       "    </tr>\n",
       "    <tr>\n",
       "      <th>3882</th>\n",
       "      <td>East New York - Laurelton</td>\n",
       "      <td>1.0</td>\n",
       "    </tr>\n",
       "    <tr>\n",
       "      <th>0</th>\n",
       "      <td>Allerton/Pelham Gardens - Allerton/Pelham Gardens</td>\n",
       "      <td>1.0</td>\n",
       "    </tr>\n",
       "  </tbody>\n",
       "</table>\n",
       "<p>15662 rows × 2 columns</p>\n",
       "</div>"
      ],
      "text/plain": [
       "                                         Itineraire Zone  passenger_count\n",
       "12216                            Steinway - Saint Albans              6.0\n",
       "8811            Manhattanville - Greenwich Village North              6.0\n",
       "8027                  Lincoln Square West - Borough Park              6.0\n",
       "11661                               SoHo - Dyker Heights              6.0\n",
       "8295       Long Island City/Hunters Point - Clinton Hill              6.0\n",
       "...                                                  ...              ...\n",
       "3880                            East New York - Kips Bay              1.0\n",
       "3881                   East New York - LaGuardia Airport              1.0\n",
       "10176                  Murray Hill - Crown Heights South              1.0\n",
       "3882                           East New York - Laurelton              1.0\n",
       "0      Allerton/Pelham Gardens - Allerton/Pelham Gardens              1.0\n",
       "\n",
       "[15662 rows x 2 columns]"
      ]
     },
     "execution_count": 12,
     "metadata": {},
     "output_type": "execute_result"
    }
   ],
   "source": [
    "# Définir la taille du lot pour l'itération\n",
    "chunk_size = 100000\n",
    "\n",
    "# Initialiser une liste pour stocker les résultats partiels\n",
    "partial_results = []\n",
    "\n",
    "# Itérer sur les segments parquet par petits morceaux\n",
    "for i in range(0, parquet_file.num_row_groups, chunk_size):\n",
    "    # Lire un segment parquet\n",
    "    chunk = parquet_file.read_row_group(i, columns=['puzone', 'dozone', 'passenger_count'])\n",
    "    # Convertir le segment en DataFrame pandas\n",
    "    chunk_df = chunk.to_pandas()\n",
    "    # Créer une nouvelle colonne par concaténation de puzone et dozone pour chaque morceau\n",
    "    chunk_df['Itineraire Zone'] = chunk_df.apply(lambda row: f\"{row['puzone']} - {row['dozone']}\", axis=1)\n",
    "    # Regrouper par Itineraire pour chaque morceau et calculer la moyenne du nombre de passagers\n",
    "    partial_passengers_per_route = chunk_df.groupby('Itineraire Zone')['passenger_count'].mean().reset_index()\n",
    "    # Ajouter les résultats partiels à la liste\n",
    "    partial_results.append(partial_passengers_per_route)\n",
    "\n",
    "# Concaténer les résultats partiels en un seul DataFrame\n",
    "passengers_per_route = pd.concat(partial_results)\n",
    "\n",
    "# Regrouper à nouveau par Itineraire sur l'ensemble des données et calculer la moyenne finale du nombre de passagers\n",
    "passengers_per_route = passengers_per_route.groupby('Itineraire Zone')['passenger_count'].mean().reset_index()\n",
    "\n",
    "# Trier les résultats par nombre moyen de passagers de manière décroissante\n",
    "passengers_per_route = passengers_per_route.sort_values(by='passenger_count', ascending=False)\n",
    "\n",
    "# Afficher le résultat\n",
    "passengers_per_route"
   ]
  },
  {
   "cell_type": "code",
   "execution_count": 14,
   "metadata": {},
   "outputs": [
    {
     "data": {
      "text/html": [
       "<div>\n",
       "<style scoped>\n",
       "    .dataframe tbody tr th:only-of-type {\n",
       "        vertical-align: middle;\n",
       "    }\n",
       "\n",
       "    .dataframe tbody tr th {\n",
       "        vertical-align: top;\n",
       "    }\n",
       "\n",
       "    .dataframe thead th {\n",
       "        text-align: right;\n",
       "    }\n",
       "</style>\n",
       "<table border=\"1\" class=\"dataframe\">\n",
       "  <thead>\n",
       "    <tr style=\"text-align: right;\">\n",
       "      <th></th>\n",
       "      <th>Itineraire Zone</th>\n",
       "      <th>passenger_count</th>\n",
       "    </tr>\n",
       "  </thead>\n",
       "  <tbody>\n",
       "    <tr>\n",
       "      <th>8914</th>\n",
       "      <td>Maspeth-Murray Hill</td>\n",
       "      <td>6.0</td>\n",
       "    </tr>\n",
       "    <tr>\n",
       "      <th>8915</th>\n",
       "      <td>Maspeth-Parkchester</td>\n",
       "      <td>6.0</td>\n",
       "    </tr>\n",
       "    <tr>\n",
       "      <th>9939</th>\n",
       "      <td>Morningside Heights-Flushing</td>\n",
       "      <td>6.0</td>\n",
       "    </tr>\n",
       "    <tr>\n",
       "      <th>8811</th>\n",
       "      <td>Manhattanville-Greenwich Village North</td>\n",
       "      <td>6.0</td>\n",
       "    </tr>\n",
       "    <tr>\n",
       "      <th>903</th>\n",
       "      <td>Boerum Hill-Borough Park</td>\n",
       "      <td>6.0</td>\n",
       "    </tr>\n",
       "    <tr>\n",
       "      <th>2040</th>\n",
       "      <td>Clinton East-Bensonhurst West</td>\n",
       "      <td>6.0</td>\n",
       "    </tr>\n",
       "    <tr>\n",
       "      <th>4289</th>\n",
       "      <td>Elmhurst-Stuy Town/Peter Cooper Village</td>\n",
       "      <td>6.0</td>\n",
       "    </tr>\n",
       "    <tr>\n",
       "      <th>13001</th>\n",
       "      <td>TriBeCa/Civic Center-Queens Village</td>\n",
       "      <td>6.0</td>\n",
       "    </tr>\n",
       "    <tr>\n",
       "      <th>2149</th>\n",
       "      <td>Clinton East-North Corona</td>\n",
       "      <td>6.0</td>\n",
       "    </tr>\n",
       "    <tr>\n",
       "      <th>12216</th>\n",
       "      <td>Steinway-Saint Albans</td>\n",
       "      <td>6.0</td>\n",
       "    </tr>\n",
       "    <tr>\n",
       "      <th>8295</th>\n",
       "      <td>Long Island City/Hunters Point-Clinton Hill</td>\n",
       "      <td>6.0</td>\n",
       "    </tr>\n",
       "    <tr>\n",
       "      <th>5623</th>\n",
       "      <td>Gramercy-Rosedale</td>\n",
       "      <td>6.0</td>\n",
       "    </tr>\n",
       "    <tr>\n",
       "      <th>177</th>\n",
       "      <td>Astoria-Newark Airport</td>\n",
       "      <td>6.0</td>\n",
       "    </tr>\n",
       "    <tr>\n",
       "      <th>14977</th>\n",
       "      <td>Williamsburg (North Side)-Jamaica Estates</td>\n",
       "      <td>6.0</td>\n",
       "    </tr>\n",
       "    <tr>\n",
       "      <th>11159</th>\n",
       "      <td>Red Hook-Laurelton</td>\n",
       "      <td>6.0</td>\n",
       "    </tr>\n",
       "    <tr>\n",
       "      <th>10468</th>\n",
       "      <td>Old Astoria-Gramercy</td>\n",
       "      <td>6.0</td>\n",
       "    </tr>\n",
       "    <tr>\n",
       "      <th>12040</th>\n",
       "      <td>Springfield Gardens South-Columbia Street</td>\n",
       "      <td>6.0</td>\n",
       "    </tr>\n",
       "    <tr>\n",
       "      <th>10654</th>\n",
       "      <td>Pelham Parkway-Belmont</td>\n",
       "      <td>6.0</td>\n",
       "    </tr>\n",
       "    <tr>\n",
       "      <th>10935</th>\n",
       "      <td>Prospect Park-Red Hook</td>\n",
       "      <td>6.0</td>\n",
       "    </tr>\n",
       "    <tr>\n",
       "      <th>11146</th>\n",
       "      <td>Red Hook-Financial District North</td>\n",
       "      <td>6.0</td>\n",
       "    </tr>\n",
       "  </tbody>\n",
       "</table>\n",
       "</div>"
      ],
      "text/plain": [
       "                                   Itineraire Zone  passenger_count\n",
       "8914                           Maspeth-Murray Hill              6.0\n",
       "8915                           Maspeth-Parkchester              6.0\n",
       "9939                  Morningside Heights-Flushing              6.0\n",
       "8811        Manhattanville-Greenwich Village North              6.0\n",
       "903                       Boerum Hill-Borough Park              6.0\n",
       "2040                 Clinton East-Bensonhurst West              6.0\n",
       "4289       Elmhurst-Stuy Town/Peter Cooper Village              6.0\n",
       "13001          TriBeCa/Civic Center-Queens Village              6.0\n",
       "2149                     Clinton East-North Corona              6.0\n",
       "12216                        Steinway-Saint Albans              6.0\n",
       "8295   Long Island City/Hunters Point-Clinton Hill              6.0\n",
       "5623                             Gramercy-Rosedale              6.0\n",
       "177                         Astoria-Newark Airport              6.0\n",
       "14977    Williamsburg (North Side)-Jamaica Estates              6.0\n",
       "11159                           Red Hook-Laurelton              6.0\n",
       "10468                         Old Astoria-Gramercy              6.0\n",
       "12040    Springfield Gardens South-Columbia Street              6.0\n",
       "10654                       Pelham Parkway-Belmont              6.0\n",
       "10935                       Prospect Park-Red Hook              6.0\n",
       "11146            Red Hook-Financial District North              6.0"
      ]
     },
     "execution_count": 14,
     "metadata": {},
     "output_type": "execute_result"
    }
   ],
   "source": [
    "passengers_per_route.head(20)"
   ]
  },
  {
   "cell_type": "markdown",
   "metadata": {},
   "source": [
    "Dans ces lignes du résultat, nous avons les itinéraires de zone avec le nombre moyen le plus élevé de passagers. Voici une explication pour chacun :\n",
    "\n",
    "1. **Maspeth-Murray Hill (6.0 passagers en moyenne)** :\n",
    "   - Cet itinéraire relie Maspeth à Murray Hill et a une moyenne de 6 passagers par trajet en moyenne. Cela indique une forte demande de transport sur cet itinéraire spécifique.\n",
    "\n",
    "2. **Maspeth-Parkchester (6.0 passagers en moyenne)** :\n",
    "   - Cet itinéraire relie Maspeth à Parkchester et a également une moyenne de 6 passagers par trajet en moyenne. Il semble y avoir une demande élevée de transport entre ces deux zones.\n",
    "\n",
    "3. **Morningside Heights-Flushing (6.0 passagers en moyenne)** :\n",
    "   - Cet itinéraire relie Morningside Heights à Flushing et affiche une moyenne de 6 passagers par trajet en moyenne. Cela suggère une forte activité de déplacement entre ces deux zones.\n",
    "\n",
    "4. **Manhattanville-Greenwich Village North (6.0 passagers en moyenne)** :\n",
    "   - Cet itinéraire relie Manhattanville à Greenwich Village North et a également une moyenne de 6 passagers par trajet en moyenne. Cela indique une demande importante de transport entre ces deux zones de Manhattan.\n",
    "\n",
    "5. **Boerum Hill-Borough Park (6.0 passagers en moyenne)** :\n",
    "   - Cet itinéraire relie Boerum Hill à Borough Park et a une moyenne de 6 passagers par trajet en moyenne. Cela suggère une forte demande de déplacement entre ces deux zones.\n",
    "\n",
    "En résumé, ces lignes indiquent les itinéraires de zone avec la plus forte moyenne de passagers par trajet, ce qui peut être utile pour la planification des transports et la gestion des ressources."
   ]
  },
  {
   "cell_type": "code",
   "execution_count": 15,
   "metadata": {},
   "outputs": [
    {
     "data": {
      "text/plain": [
       "array([6.        , 5.        , 4.5       , ..., 1.02777778, 1.02564103,\n",
       "       1.        ])"
      ]
     },
     "execution_count": 15,
     "metadata": {},
     "output_type": "execute_result"
    }
   ],
   "source": [
    "passengers_per_route.passenger_count.unique()"
   ]
  },
  {
   "cell_type": "code",
   "execution_count": 16,
   "metadata": {},
   "outputs": [
    {
     "data": {
      "text/html": [
       "<div>\n",
       "<style scoped>\n",
       "    .dataframe tbody tr th:only-of-type {\n",
       "        vertical-align: middle;\n",
       "    }\n",
       "\n",
       "    .dataframe tbody tr th {\n",
       "        vertical-align: top;\n",
       "    }\n",
       "\n",
       "    .dataframe thead th {\n",
       "        text-align: right;\n",
       "    }\n",
       "</style>\n",
       "<table border=\"1\" class=\"dataframe\">\n",
       "  <thead>\n",
       "    <tr style=\"text-align: right;\">\n",
       "      <th></th>\n",
       "      <th>Itineraire Zone</th>\n",
       "      <th>passenger_count</th>\n",
       "    </tr>\n",
       "  </thead>\n",
       "  <tbody>\n",
       "    <tr>\n",
       "      <th>3869</th>\n",
       "      <td>East New York-Flatbush/Ditmas Park</td>\n",
       "      <td>1.0</td>\n",
       "    </tr>\n",
       "    <tr>\n",
       "      <th>10194</th>\n",
       "      <td>Murray Hill-Erasmus</td>\n",
       "      <td>1.0</td>\n",
       "    </tr>\n",
       "    <tr>\n",
       "      <th>3870</th>\n",
       "      <td>East New York-Flatiron</td>\n",
       "      <td>1.0</td>\n",
       "    </tr>\n",
       "    <tr>\n",
       "      <th>3871</th>\n",
       "      <td>East New York-Flushing</td>\n",
       "      <td>1.0</td>\n",
       "    </tr>\n",
       "    <tr>\n",
       "      <th>3873</th>\n",
       "      <td>East New York-Garment District</td>\n",
       "      <td>1.0</td>\n",
       "    </tr>\n",
       "    <tr>\n",
       "      <th>3874</th>\n",
       "      <td>East New York-Gramercy</td>\n",
       "      <td>1.0</td>\n",
       "    </tr>\n",
       "    <tr>\n",
       "      <th>3875</th>\n",
       "      <td>East New York-Hammels/Arverne</td>\n",
       "      <td>1.0</td>\n",
       "    </tr>\n",
       "    <tr>\n",
       "      <th>3876</th>\n",
       "      <td>East New York-Homecrest</td>\n",
       "      <td>1.0</td>\n",
       "    </tr>\n",
       "    <tr>\n",
       "      <th>10185</th>\n",
       "      <td>Murray Hill-East Flushing</td>\n",
       "      <td>1.0</td>\n",
       "    </tr>\n",
       "    <tr>\n",
       "      <th>10184</th>\n",
       "      <td>Murray Hill-East Flatbush/Remsen Village</td>\n",
       "      <td>1.0</td>\n",
       "    </tr>\n",
       "    <tr>\n",
       "      <th>3877</th>\n",
       "      <td>East New York-Jamaica</td>\n",
       "      <td>1.0</td>\n",
       "    </tr>\n",
       "    <tr>\n",
       "      <th>10182</th>\n",
       "      <td>Murray Hill-East Elmhurst</td>\n",
       "      <td>1.0</td>\n",
       "    </tr>\n",
       "    <tr>\n",
       "      <th>10181</th>\n",
       "      <td>Murray Hill-East Concourse/Concourse Village</td>\n",
       "      <td>1.0</td>\n",
       "    </tr>\n",
       "    <tr>\n",
       "      <th>3878</th>\n",
       "      <td>East New York-Kensington</td>\n",
       "      <td>1.0</td>\n",
       "    </tr>\n",
       "    <tr>\n",
       "      <th>3879</th>\n",
       "      <td>East New York-Kingsbridge Heights</td>\n",
       "      <td>1.0</td>\n",
       "    </tr>\n",
       "    <tr>\n",
       "      <th>3880</th>\n",
       "      <td>East New York-Kips Bay</td>\n",
       "      <td>1.0</td>\n",
       "    </tr>\n",
       "    <tr>\n",
       "      <th>3881</th>\n",
       "      <td>East New York-LaGuardia Airport</td>\n",
       "      <td>1.0</td>\n",
       "    </tr>\n",
       "    <tr>\n",
       "      <th>10176</th>\n",
       "      <td>Murray Hill-Crown Heights South</td>\n",
       "      <td>1.0</td>\n",
       "    </tr>\n",
       "    <tr>\n",
       "      <th>3882</th>\n",
       "      <td>East New York-Laurelton</td>\n",
       "      <td>1.0</td>\n",
       "    </tr>\n",
       "    <tr>\n",
       "      <th>0</th>\n",
       "      <td>Allerton/Pelham Gardens-Allerton/Pelham Gardens</td>\n",
       "      <td>1.0</td>\n",
       "    </tr>\n",
       "  </tbody>\n",
       "</table>\n",
       "</div>"
      ],
      "text/plain": [
       "                                       Itineraire Zone  passenger_count\n",
       "3869                East New York-Flatbush/Ditmas Park              1.0\n",
       "10194                              Murray Hill-Erasmus              1.0\n",
       "3870                            East New York-Flatiron              1.0\n",
       "3871                            East New York-Flushing              1.0\n",
       "3873                    East New York-Garment District              1.0\n",
       "3874                            East New York-Gramercy              1.0\n",
       "3875                     East New York-Hammels/Arverne              1.0\n",
       "3876                           East New York-Homecrest              1.0\n",
       "10185                        Murray Hill-East Flushing              1.0\n",
       "10184         Murray Hill-East Flatbush/Remsen Village              1.0\n",
       "3877                             East New York-Jamaica              1.0\n",
       "10182                        Murray Hill-East Elmhurst              1.0\n",
       "10181     Murray Hill-East Concourse/Concourse Village              1.0\n",
       "3878                          East New York-Kensington              1.0\n",
       "3879                 East New York-Kingsbridge Heights              1.0\n",
       "3880                            East New York-Kips Bay              1.0\n",
       "3881                   East New York-LaGuardia Airport              1.0\n",
       "10176                  Murray Hill-Crown Heights South              1.0\n",
       "3882                           East New York-Laurelton              1.0\n",
       "0      Allerton/Pelham Gardens-Allerton/Pelham Gardens              1.0"
      ]
     },
     "execution_count": 16,
     "metadata": {},
     "output_type": "execute_result"
    }
   ],
   "source": [
    "passengers_per_route.tail (20)"
   ]
  },
  {
   "cell_type": "markdown",
   "metadata": {},
   "source": [
    "### Tarif moyen par itineraire de zone"
   ]
  },
  {
   "cell_type": "code",
   "execution_count": 20,
   "metadata": {},
   "outputs": [
    {
     "data": {
      "text/html": [
       "<div>\n",
       "<style scoped>\n",
       "    .dataframe tbody tr th:only-of-type {\n",
       "        vertical-align: middle;\n",
       "    }\n",
       "\n",
       "    .dataframe tbody tr th {\n",
       "        vertical-align: top;\n",
       "    }\n",
       "\n",
       "    .dataframe thead th {\n",
       "        text-align: right;\n",
       "    }\n",
       "</style>\n",
       "<table border=\"1\" class=\"dataframe\">\n",
       "  <thead>\n",
       "    <tr style=\"text-align: right;\">\n",
       "      <th></th>\n",
       "      <th>Itineraire Zone</th>\n",
       "      <th>total_amount</th>\n",
       "    </tr>\n",
       "  </thead>\n",
       "  <tbody>\n",
       "    <tr>\n",
       "      <th>6894</th>\n",
       "      <td>Kensington-Downtown Brooklyn/MetroTech</td>\n",
       "      <td>369.000000</td>\n",
       "    </tr>\n",
       "    <tr>\n",
       "      <th>9133</th>\n",
       "      <td>Midtown Center-Bloomfield/Emerson Hill</td>\n",
       "      <td>236.500000</td>\n",
       "    </tr>\n",
       "    <tr>\n",
       "      <th>11440</th>\n",
       "      <td>Schuylerville/Edgewater Park-Bellerose</td>\n",
       "      <td>228.000000</td>\n",
       "    </tr>\n",
       "    <tr>\n",
       "      <th>12077</th>\n",
       "      <td>Springfield Gardens South-Newark Airport</td>\n",
       "      <td>210.646667</td>\n",
       "    </tr>\n",
       "    <tr>\n",
       "      <th>6895</th>\n",
       "      <td>Kensington-East Flatbush/Farragut</td>\n",
       "      <td>201.000000</td>\n",
       "    </tr>\n",
       "    <tr>\n",
       "      <th>...</th>\n",
       "      <td>...</td>\n",
       "      <td>...</td>\n",
       "    </tr>\n",
       "    <tr>\n",
       "      <th>556</th>\n",
       "      <td>Bay Ridge-Bath Beach</td>\n",
       "      <td>-21.600000</td>\n",
       "    </tr>\n",
       "    <tr>\n",
       "      <th>5032</th>\n",
       "      <td>Flushing-Kew Gardens</td>\n",
       "      <td>-23.800000</td>\n",
       "    </tr>\n",
       "    <tr>\n",
       "      <th>14956</th>\n",
       "      <td>Williamsburg (North Side)-Crown Heights South</td>\n",
       "      <td>-36.000000</td>\n",
       "    </tr>\n",
       "    <tr>\n",
       "      <th>7671</th>\n",
       "      <td>Lenox Hill West-Bensonhurst East</td>\n",
       "      <td>-81.140000</td>\n",
       "    </tr>\n",
       "    <tr>\n",
       "      <th>6893</th>\n",
       "      <td>Kensington-Brooklyn Heights</td>\n",
       "      <td>-369.000000</td>\n",
       "    </tr>\n",
       "  </tbody>\n",
       "</table>\n",
       "<p>15662 rows × 2 columns</p>\n",
       "</div>"
      ],
      "text/plain": [
       "                                     Itineraire Zone  total_amount\n",
       "6894          Kensington-Downtown Brooklyn/MetroTech    369.000000\n",
       "9133          Midtown Center-Bloomfield/Emerson Hill    236.500000\n",
       "11440         Schuylerville/Edgewater Park-Bellerose    228.000000\n",
       "12077       Springfield Gardens South-Newark Airport    210.646667\n",
       "6895               Kensington-East Flatbush/Farragut    201.000000\n",
       "...                                              ...           ...\n",
       "556                             Bay Ridge-Bath Beach    -21.600000\n",
       "5032                            Flushing-Kew Gardens    -23.800000\n",
       "14956  Williamsburg (North Side)-Crown Heights South    -36.000000\n",
       "7671                Lenox Hill West-Bensonhurst East    -81.140000\n",
       "6893                     Kensington-Brooklyn Heights   -369.000000\n",
       "\n",
       "[15662 rows x 2 columns]"
      ]
     },
     "execution_count": 20,
     "metadata": {},
     "output_type": "execute_result"
    }
   ],
   "source": [
    "# Définir la taille du lot pour l'itération\n",
    "chunk_size = 100000\n",
    "\n",
    "# Lire le fichier parquet et obtenir les métadonnées\n",
    "parquet_file = pq.ParquetFile('trips_cleaned.parquet')\n",
    "\n",
    "# Initialiser une liste pour stocker les résultats partiels\n",
    "partial_results = []\n",
    "\n",
    "# Itérer sur les segments parquet par petits morceaux\n",
    "for i in range(0, parquet_file.num_row_groups, chunk_size):\n",
    "    # Lire un segment parquet\n",
    "    chunk = parquet_file.read_row_group(i, columns=['puzone', 'dozone', 'total_amount'])\n",
    "    # Convertir le segment en DataFrame pandas\n",
    "    chunk_df = chunk.to_pandas()\n",
    "    # Créer une nouvelle colonne par concaténation de puzone et dozone pour chaque morceau\n",
    "    chunk_df['Itineraire Zone'] = chunk_df.apply(lambda row: f\"{row['puzone']}-{row['dozone']}\", axis=1)\n",
    "    # Calculer le tarif moyen par itinéraire de zone pour chaque morceau\n",
    "    partial_fare_per_route = chunk_df.groupby('Itineraire Zone')['total_amount'].mean().reset_index()\n",
    "    # Ajouter les résultats partiels à la liste\n",
    "    partial_results.append(partial_fare_per_route)\n",
    "\n",
    "# Concaténer les résultats partiels en un seul DataFrame\n",
    "fare_per_route = pd.concat(partial_results)\n",
    "\n",
    "# Regrouper à nouveau par itinéraire de zone sur l'ensemble des données et calculer le tarif moyen final\n",
    "fare_per_route = fare_per_route.groupby('Itineraire Zone')['total_amount'].mean().reset_index()\n",
    "\n",
    "# Trier les résultats par tarif moyen de manière décroissante\n",
    "fare_per_route = fare_per_route.sort_values(by='total_amount', ascending=False)\n",
    "\n",
    "# Afficher le résultat\n",
    "fare_per_route"
   ]
  },
  {
   "cell_type": "code",
   "execution_count": null,
   "metadata": {},
   "outputs": [],
   "source": []
  },
  {
   "cell_type": "code",
   "execution_count": null,
   "metadata": {},
   "outputs": [],
   "source": []
  },
  {
   "cell_type": "code",
   "execution_count": null,
   "metadata": {},
   "outputs": [],
   "source": []
  },
  {
   "cell_type": "code",
   "execution_count": null,
   "metadata": {},
   "outputs": [],
   "source": []
  },
  {
   "cell_type": "code",
   "execution_count": 17,
   "metadata": {},
   "outputs": [
    {
     "data": {
      "application/vnd.plotly.v1+json": {
       "config": {
        "plotlyServerURL": "https://plot.ly"
       },
       "data": [
        {
         "alignmentgroup": "True",
         "hovertemplate": "Zone de depose=%{x}<br>Tarif moyen ($)=%{marker.color}<extra></extra>",
         "legendgroup": "",
         "marker": {
          "color": [
           114.80730769230769,
           97.28599271402551,
           91.33555555555556,
           90.16285223367697,
           86.81121422248451,
           78.88782945575448,
           78.83474846282839,
           78.098125,
           71.84777777777778,
           71.14996683673469,
           71.03327466820542,
           71.02615384615385,
           70.91153846153847,
           70.19179752066115,
           70.15908536585366,
           69.48902777777778,
           69.39333333333333,
           69.20396305897602,
           68.22384615384615,
           67.50033472803348,
           67.12712771996216,
           66.06173564731016,
           65.3260647103085,
           64.02121212121212,
           63.37,
           62.83090909090909,
           62.705000000000005,
           62.42209678679382,
           62.34733333333334,
           61.89909090909091,
           58.6284107987754,
           57.34298420883017,
           56.55788659793814,
           55.8778,
           55.87083333333334,
           55.860773758005884,
           55.087238421955405,
           54.559615384615384,
           54.41947368421053,
           54.14000000000001,
           53.739416832339295,
           53.38527397260274,
           52.71182896890343,
           51.55590909090909,
           51.36477578475336,
           51.25317654245571,
           51.182056826753836,
           50.996953793496864,
           49.70048714479025,
           49.33472929199445,
           48.90138942307692,
           48.79196498054475,
           48.33497340425532,
           48.30494845360825,
           48.204966216216214,
           47.440037357785705,
           46.99085046663392,
           46.07348008385744,
           45.89037037037038,
           45.34424321959755,
           45.2076454789615,
           45.07953081232493,
           44.482841781874036,
           44.2786941580756,
           43.86876126126126,
           43.528246753246755,
           42.66129550827423,
           42.418322440087145,
           42.371092233009705,
           42.369166666666665,
           42.285912653975366,
           42.14509803921569,
           41.79579365079365,
           41.73135922330097,
           41.614420651217365,
           41.435019788918204,
           40.7810964467005,
           40.755279402209226,
           40.547950693374425,
           40.26547619047619,
           40.248255813953485,
           39.899199178644764,
           39.552973229092636,
           39.55243049327354,
           38.27478773584905,
           37.84505592841164,
           37.811136363636365,
           37.398643067846606,
           37.24110122358176,
           37.19219151420786,
           37.18620635747786,
           36.72430379746835,
           36.59904255319149,
           36.20378289473685,
           36.10662068965517,
           36.07197624190065,
           36.01610169491525,
           35.869077733860344,
           35.858094278807414,
           35.783946886446884,
           35.77508161512027,
           35.76346041953759,
           35.703428571428574,
           35.69804768331084,
           35.67971416904859,
           35.58383966244726,
           35.46297805642634,
           35.39170731707317,
           35.31749405233941,
           35.277537447573394,
           35.18347208121828,
           34.68906976744186,
           34.61046863734679,
           34.586940594059406,
           34.48520944881889,
           34.46409155937053,
           34.447613458528956,
           34.44612983770287,
           34.3893534932221,
           34.33833333333333,
           34.33020242914979,
           34.284470588235294,
           34.2616,
           34.07589743589744,
           33.805948203842945,
           33.52722222222222,
           33.46250775265438,
           33.309639468690705,
           33.22671905697446,
           33.06216216216216,
           33.047886809675944,
           32.926593406593405,
           32.915727272727274,
           32.85050324675325,
           32.77436834396511,
           32.58078458681523,
           32.52381813851267,
           32.50603636363636,
           32.50118918918919,
           32.47450639729988,
           32.428049205854876,
           32.37186418109188,
           32.27473019517796,
           32.232039835164834,
           32.20930384336476,
           32.12825688073394,
           31.830141065830723,
           31.76524774774775,
           31.709386640976238,
           31.673024390243903,
           31.584432832141975,
           31.58353200883002,
           31.52481099656357,
           31.516609758911063,
           31.426173657100808,
           31.172134502923978,
           31.147041139240507,
           31.139867924528303,
           31.135920792079208,
           31.063020043540273,
           30.97024911032028,
           30.962083333333332,
           30.728633818589024,
           30.721137532133675,
           30.667626534798984,
           30.546746242263485,
           30.494373590982285,
           30.351338912133894,
           30.33920204978038,
           30.265409836065576,
           30.074,
           30.026363636363637,
           29.860845347313237,
           29.803169291338584,
           29.720769230769232,
           29.647498875393612,
           29.5656833712984,
           29.53035594035594,
           29.4387982832618,
           29.275382048715386,
           29.256155555555555,
           29.225762500000002,
           29.14546180159635,
           29.071300366300367,
           29.01868569813454,
           28.692356115107916,
           28.64544336281309,
           28.40612804232804,
           28.400444893832155,
           28.314201937786844,
           28.285533899716807,
           28.282400816802802,
           28.25648796147673,
           28.20994252873563,
           28.205169841997474,
           28.190960249595562,
           28.047651280062063,
           27.943709476309227,
           27.62259277147227,
           27.10429867986799,
           27.03695000902364,
           26.831386575545114,
           26.41898566703418,
           26.082600304723208,
           26.060281054823037,
           25.937813664596273,
           25.548677287884402,
           25.51908376963351,
           25.33170578719662,
           25.331551783560226,
           25.326693541742806,
           25.314706898598125,
           25.113735085841924,
           24.927223635438047,
           24.897978719630927,
           24.87815589843575,
           24.6562637109042,
           24.544556426157673,
           24.54394050313207,
           24.459122838944495,
           24.39285181227169,
           24.331630041448463,
           24.12492767313711,
           24.013910443881198,
           23.93375904082326,
           23.889662603816355,
           23.856104757675013,
           23.805055708645288,
           23.317357025687325,
           23.21845456746438,
           23.206058772004653,
           23.197687918142464,
           23.155924734327776,
           22.978198192219217,
           22.92155254796381,
           22.825025892568625,
           22.785452548457794,
           22.671136494778334,
           22.668690829712894,
           22.537314239845685,
           22.476297106901033,
           22.309796754714593,
           22.19466685825957,
           22.148528089452583,
           22.067328967696984,
           21.97948995784711,
           21.97127312797909,
           21.923413730078604,
           21.593653302782876,
           21.44871726046065,
           21.23686547379992,
           21.210803272850917,
           21.044275355287187,
           20.958826821075725,
           20.892672369401215,
           20.64143351359949,
           20.63041012817966,
           20.376296817889692,
           20.18835560226913,
           20.031787061096676
          ],
          "coloraxis": "coloraxis",
          "pattern": {
           "shape": ""
          }
         },
         "name": "",
         "offsetgroup": "",
         "orientation": "v",
         "showlegend": false,
         "textposition": "auto",
         "type": "bar",
         "x": [
          "Westerleigh",
          "Newark Airport",
          "Eltingville/Annadale/Prince's Bay",
          "Arden Heights",
          "Outside of NYC",
          "JFK Airport",
          "Baisley Park",
          "New Dorp/Midland Beach",
          "Great Kills",
          "Flushing Meadows-Corona Park",
          "Springfield Gardens South",
          "Grymes Hill/Clifton",
          "Pelham Bay Park",
          "Bloomfield/Emerson Hill",
          "Astoria Park",
          "South Beach/Dongan Hills",
          "Willets Point",
          "South Ozone Park",
          "Freshkills Park",
          "Charleston/Tottenville",
          "South Jamaica",
          "LaGuardia Airport",
          "Randalls Island",
          "Jamaica Bay",
          "West Brighton",
          "Rossville/Woodrow",
          "Mariners Harbor",
          "East Elmhurst",
          "Green-Wood Cemetery",
          "Stapleton",
          "Red Hook",
          "Briarwood/Jamaica Hills",
          "Kew Gardens",
          "Heartland Village/Todt Hill",
          "Breezy Point/Fort Tilden/Riis Beach",
          "Jamaica",
          "Howard Beach",
          "Saint George/New Brighton",
          "Rikers Island",
          "Oakwood",
          "Hammels/Arverne",
          "Highbridge Park",
          "Maspeth",
          "Brighton Beach",
          "Rockaway Park",
          "Far Rockaway",
          "Richmond Hill",
          "Coney Island",
          "Middle Village",
          "Corona",
          "Rego Park",
          "Saint Michaels Cemetery/Woodside",
          "Manhattan Beach",
          "Gravesend",
          "Ozone Park",
          "Steinway",
          "Long Island City/Hunters Point",
          "Bath Beach",
          "Whitestone",
          "Sheepshead Bay",
          "Cambria Heights",
          "Rosedale",
          "Riverdale/North Riverdale/Fieldston",
          "Laurelton",
          "College Point",
          "Bay Terrace/Fort Totten",
          "Bay Ridge",
          "Glen Oaks",
          "Marine Park/Floyd Bennett Field",
          "Bronx Park",
          "Woodlawn/Wakefield",
          "Douglaston",
          "Bensonhurst West",
          "Van Cortlandt Park",
          "Canarsie",
          "Starrett City",
          "Queens Village",
          "Co-Op City",
          "University Heights/Morris Heights",
          "Bensonhurst East",
          "City Island",
          "Dyker Heights",
          "Elmhurst",
          "Marine Park/Mill Basin",
          "Sunset Park West",
          "Bayside",
          "Cypress Hills",
          "Madison",
          "Eastchester",
          "Springfield Gardens North",
          "Williamsbridge/Olinville",
          "Bellerose",
          "Sunset Park East",
          "Bedford Park",
          "Van Cortlandt Village",
          "Schuylerville/Edgewater Park",
          "East Flushing",
          "Inwood",
          "East Williamsburg",
          "Kingsbridge Heights",
          "Soundview/Castle Hill",
          "Jackson Heights",
          "Ocean Parkway South",
          "East New York",
          "Sunnyside",
          "Saint Albans",
          "Allerton/Pelham Gardens",
          "Homecrest",
          "Norwood",
          "Flushing",
          "Woodhaven",
          "Pelham Bay",
          "Elmhurst/Maspeth",
          "East New York/Pennsylvania Avenue",
          "Woodside",
          "Hollis",
          "Spuyten Duyvil/Kingsbridge",
          "Kensington",
          "Bronxdale",
          "Port Richmond",
          "Fresh Meadows",
          "Forest Park/Highland Park",
          "Broad Channel",
          "Belmont",
          "Roosevelt Island",
          "Jamaica Estates",
          "Financial District South",
          "Windsor Terrace",
          "Murray Hill-Queens",
          "Crotona Park",
          "Flatlands",
          "Highbridge",
          "Ocean Hill",
          "Fordham South",
          "World Trade Center",
          "Forest Hills",
          "Financial District North",
          "West Farms/Bronx River",
          "Borough Park",
          "Battery Park City",
          "Battery Park",
          "Soundview/Bruckner",
          "Westchester Village/Unionport",
          "Parkchester",
          "East Tremont",
          "Hunts Point",
          "Glendale",
          "Columbia Street",
          "Flatbush/Ditmas Park",
          "Crotona Park East",
          "Downtown Brooklyn/MetroTech",
          "Bushwick North",
          "Marble Hill",
          "DUMBO/Vinegar Hill",
          "Brownsville",
          "Mount Hope",
          "Midwood",
          "East Flatbush/Remsen Village",
          "Queensboro Hill",
          "Brooklyn Heights",
          "Claremont/Bathgate",
          "Inwood Hill Park",
          "Pelham Parkway",
          "Hillcrest/Pomonok",
          "Seaport",
          "Washington Heights North",
          "West Concourse",
          "Oakland Gardens",
          "Kew Gardens Hills",
          "Longwood",
          "Governor's Island/Ellis Island/Liberty Island",
          "Country Club",
          "Morrisania/Melrose",
          "Van Nest/Morris Park",
          "Erasmus",
          "East Concourse/Concourse Village",
          "East Flatbush/Farragut",
          "Bushwick South",
          "Brooklyn Navy Yard",
          "Cobble Hill",
          "Auburndale",
          "Williamsburg (South Side)",
          "Ridgewood",
          "North Corona",
          "Prospect-Lefferts Gardens",
          "Prospect Park",
          "Chinatown",
          "Williamsburg (North Side)",
          "Gowanus",
          "Greenpoint",
          "Washington Heights South",
          "Carroll Gardens",
          "Mott Haven/Port Morris",
          "Stuyvesant Heights",
          "Times Sq/Theatre District",
          "Park Slope",
          "Crown Heights North",
          "Crown Heights South",
          "Two Bridges/Seward Park",
          "Prospect Heights",
          "Boerum Hill",
          "TriBeCa/Civic Center",
          "South Williamsburg",
          "Melrose South",
          "Fort Greene",
          "Clinton Hill",
          "Bedford",
          "Arrochar/Fort Wadsworth",
          "Lower East Side",
          "Meatpacking/West Village West",
          "East Chelsea",
          "Garment District",
          "UN/Turtle Bay South",
          "Penn Station/Madison Sq West",
          "Midtown Center",
          "Hudson Sq",
          "Midtown North",
          "SoHo",
          "Little Italy/NoLiTa",
          "Queensbridge/Ravenswood",
          "Midtown South",
          "West Chelsea/Hudson Yards",
          "Midtown East",
          "Long Island City/Queens Plaza",
          "Hamilton Heights",
          "Murray Hill",
          "Alphabet City",
          "Clinton East",
          "Clinton West",
          "West Village",
          "Greenwich Village South",
          "Old Astoria",
          "Morningside Heights",
          "East Village",
          "Stuy Town/Peter Cooper Village",
          "Central Park",
          "Flatiron",
          "Greenwich Village North",
          "Lenox Hill East",
          "Union Sq",
          "Astoria",
          "Gramercy",
          "Bloomingdale",
          "Yorkville East",
          "Upper West Side South",
          "Kips Bay",
          "Manhattanville",
          "Lincoln Square East",
          "Sutton Place/Turtle Bay North",
          "Upper West Side North",
          "Manhattan Valley",
          "Lincoln Square West",
          "Yorkville West",
          "Upper East Side North",
          "East Harlem South",
          "Central Harlem North",
          "Lenox Hill West",
          "Upper East Side South",
          "East Harlem North",
          "Central Harlem"
         ],
         "xaxis": "x",
         "y": [
          114.80730769230769,
          97.28599271402551,
          91.33555555555556,
          90.16285223367697,
          86.81121422248451,
          78.88782945575448,
          78.83474846282839,
          78.098125,
          71.84777777777778,
          71.14996683673469,
          71.03327466820542,
          71.02615384615385,
          70.91153846153847,
          70.19179752066115,
          70.15908536585366,
          69.48902777777778,
          69.39333333333333,
          69.20396305897602,
          68.22384615384615,
          67.50033472803348,
          67.12712771996216,
          66.06173564731016,
          65.3260647103085,
          64.02121212121212,
          63.37,
          62.83090909090909,
          62.705000000000005,
          62.42209678679382,
          62.34733333333334,
          61.89909090909091,
          58.6284107987754,
          57.34298420883017,
          56.55788659793814,
          55.8778,
          55.87083333333334,
          55.860773758005884,
          55.087238421955405,
          54.559615384615384,
          54.41947368421053,
          54.14000000000001,
          53.739416832339295,
          53.38527397260274,
          52.71182896890343,
          51.55590909090909,
          51.36477578475336,
          51.25317654245571,
          51.182056826753836,
          50.996953793496864,
          49.70048714479025,
          49.33472929199445,
          48.90138942307692,
          48.79196498054475,
          48.33497340425532,
          48.30494845360825,
          48.204966216216214,
          47.440037357785705,
          46.99085046663392,
          46.07348008385744,
          45.89037037037038,
          45.34424321959755,
          45.2076454789615,
          45.07953081232493,
          44.482841781874036,
          44.2786941580756,
          43.86876126126126,
          43.528246753246755,
          42.66129550827423,
          42.418322440087145,
          42.371092233009705,
          42.369166666666665,
          42.285912653975366,
          42.14509803921569,
          41.79579365079365,
          41.73135922330097,
          41.614420651217365,
          41.435019788918204,
          40.7810964467005,
          40.755279402209226,
          40.547950693374425,
          40.26547619047619,
          40.248255813953485,
          39.899199178644764,
          39.552973229092636,
          39.55243049327354,
          38.27478773584905,
          37.84505592841164,
          37.811136363636365,
          37.398643067846606,
          37.24110122358176,
          37.19219151420786,
          37.18620635747786,
          36.72430379746835,
          36.59904255319149,
          36.20378289473685,
          36.10662068965517,
          36.07197624190065,
          36.01610169491525,
          35.869077733860344,
          35.858094278807414,
          35.783946886446884,
          35.77508161512027,
          35.76346041953759,
          35.703428571428574,
          35.69804768331084,
          35.67971416904859,
          35.58383966244726,
          35.46297805642634,
          35.39170731707317,
          35.31749405233941,
          35.277537447573394,
          35.18347208121828,
          34.68906976744186,
          34.61046863734679,
          34.586940594059406,
          34.48520944881889,
          34.46409155937053,
          34.447613458528956,
          34.44612983770287,
          34.3893534932221,
          34.33833333333333,
          34.33020242914979,
          34.284470588235294,
          34.2616,
          34.07589743589744,
          33.805948203842945,
          33.52722222222222,
          33.46250775265438,
          33.309639468690705,
          33.22671905697446,
          33.06216216216216,
          33.047886809675944,
          32.926593406593405,
          32.915727272727274,
          32.85050324675325,
          32.77436834396511,
          32.58078458681523,
          32.52381813851267,
          32.50603636363636,
          32.50118918918919,
          32.47450639729988,
          32.428049205854876,
          32.37186418109188,
          32.27473019517796,
          32.232039835164834,
          32.20930384336476,
          32.12825688073394,
          31.830141065830723,
          31.76524774774775,
          31.709386640976238,
          31.673024390243903,
          31.584432832141975,
          31.58353200883002,
          31.52481099656357,
          31.516609758911063,
          31.426173657100808,
          31.172134502923978,
          31.147041139240507,
          31.139867924528303,
          31.135920792079208,
          31.063020043540273,
          30.97024911032028,
          30.962083333333332,
          30.728633818589024,
          30.721137532133675,
          30.667626534798984,
          30.546746242263485,
          30.494373590982285,
          30.351338912133894,
          30.33920204978038,
          30.265409836065576,
          30.074,
          30.026363636363637,
          29.860845347313237,
          29.803169291338584,
          29.720769230769232,
          29.647498875393612,
          29.5656833712984,
          29.53035594035594,
          29.4387982832618,
          29.275382048715386,
          29.256155555555555,
          29.225762500000002,
          29.14546180159635,
          29.071300366300367,
          29.01868569813454,
          28.692356115107916,
          28.64544336281309,
          28.40612804232804,
          28.400444893832155,
          28.314201937786844,
          28.285533899716807,
          28.282400816802802,
          28.25648796147673,
          28.20994252873563,
          28.205169841997474,
          28.190960249595562,
          28.047651280062063,
          27.943709476309227,
          27.62259277147227,
          27.10429867986799,
          27.03695000902364,
          26.831386575545114,
          26.41898566703418,
          26.082600304723208,
          26.060281054823037,
          25.937813664596273,
          25.548677287884402,
          25.51908376963351,
          25.33170578719662,
          25.331551783560226,
          25.326693541742806,
          25.314706898598125,
          25.113735085841924,
          24.927223635438047,
          24.897978719630927,
          24.87815589843575,
          24.6562637109042,
          24.544556426157673,
          24.54394050313207,
          24.459122838944495,
          24.39285181227169,
          24.331630041448463,
          24.12492767313711,
          24.013910443881198,
          23.93375904082326,
          23.889662603816355,
          23.856104757675013,
          23.805055708645288,
          23.317357025687325,
          23.21845456746438,
          23.206058772004653,
          23.197687918142464,
          23.155924734327776,
          22.978198192219217,
          22.92155254796381,
          22.825025892568625,
          22.785452548457794,
          22.671136494778334,
          22.668690829712894,
          22.537314239845685,
          22.476297106901033,
          22.309796754714593,
          22.19466685825957,
          22.148528089452583,
          22.067328967696984,
          21.97948995784711,
          21.97127312797909,
          21.923413730078604,
          21.593653302782876,
          21.44871726046065,
          21.23686547379992,
          21.210803272850917,
          21.044275355287187,
          20.958826821075725,
          20.892672369401215,
          20.64143351359949,
          20.63041012817966,
          20.376296817889692,
          20.18835560226913,
          20.031787061096676
         ],
         "yaxis": "y"
        }
       ],
       "layout": {
        "barmode": "relative",
        "coloraxis": {
         "colorbar": {
          "title": {
           "text": "Tarif moyen ($)"
          }
         },
         "colorscale": [
          [
           0,
           "rgb(247,251,255)"
          ],
          [
           0.125,
           "rgb(222,235,247)"
          ],
          [
           0.25,
           "rgb(198,219,239)"
          ],
          [
           0.375,
           "rgb(158,202,225)"
          ],
          [
           0.5,
           "rgb(107,174,214)"
          ],
          [
           0.625,
           "rgb(66,146,198)"
          ],
          [
           0.75,
           "rgb(33,113,181)"
          ],
          [
           0.875,
           "rgb(8,81,156)"
          ],
          [
           1,
           "rgb(8,48,107)"
          ]
         ]
        },
        "legend": {
         "tracegroupgap": 0
        },
        "template": {
         "data": {
          "bar": [
           {
            "error_x": {
             "color": "#2a3f5f"
            },
            "error_y": {
             "color": "#2a3f5f"
            },
            "marker": {
             "line": {
              "color": "#E5ECF6",
              "width": 0.5
             },
             "pattern": {
              "fillmode": "overlay",
              "size": 10,
              "solidity": 0.2
             }
            },
            "type": "bar"
           }
          ],
          "barpolar": [
           {
            "marker": {
             "line": {
              "color": "#E5ECF6",
              "width": 0.5
             },
             "pattern": {
              "fillmode": "overlay",
              "size": 10,
              "solidity": 0.2
             }
            },
            "type": "barpolar"
           }
          ],
          "carpet": [
           {
            "aaxis": {
             "endlinecolor": "#2a3f5f",
             "gridcolor": "white",
             "linecolor": "white",
             "minorgridcolor": "white",
             "startlinecolor": "#2a3f5f"
            },
            "baxis": {
             "endlinecolor": "#2a3f5f",
             "gridcolor": "white",
             "linecolor": "white",
             "minorgridcolor": "white",
             "startlinecolor": "#2a3f5f"
            },
            "type": "carpet"
           }
          ],
          "choropleth": [
           {
            "colorbar": {
             "outlinewidth": 0,
             "ticks": ""
            },
            "type": "choropleth"
           }
          ],
          "contour": [
           {
            "colorbar": {
             "outlinewidth": 0,
             "ticks": ""
            },
            "colorscale": [
             [
              0,
              "#0d0887"
             ],
             [
              0.1111111111111111,
              "#46039f"
             ],
             [
              0.2222222222222222,
              "#7201a8"
             ],
             [
              0.3333333333333333,
              "#9c179e"
             ],
             [
              0.4444444444444444,
              "#bd3786"
             ],
             [
              0.5555555555555556,
              "#d8576b"
             ],
             [
              0.6666666666666666,
              "#ed7953"
             ],
             [
              0.7777777777777778,
              "#fb9f3a"
             ],
             [
              0.8888888888888888,
              "#fdca26"
             ],
             [
              1,
              "#f0f921"
             ]
            ],
            "type": "contour"
           }
          ],
          "contourcarpet": [
           {
            "colorbar": {
             "outlinewidth": 0,
             "ticks": ""
            },
            "type": "contourcarpet"
           }
          ],
          "heatmap": [
           {
            "colorbar": {
             "outlinewidth": 0,
             "ticks": ""
            },
            "colorscale": [
             [
              0,
              "#0d0887"
             ],
             [
              0.1111111111111111,
              "#46039f"
             ],
             [
              0.2222222222222222,
              "#7201a8"
             ],
             [
              0.3333333333333333,
              "#9c179e"
             ],
             [
              0.4444444444444444,
              "#bd3786"
             ],
             [
              0.5555555555555556,
              "#d8576b"
             ],
             [
              0.6666666666666666,
              "#ed7953"
             ],
             [
              0.7777777777777778,
              "#fb9f3a"
             ],
             [
              0.8888888888888888,
              "#fdca26"
             ],
             [
              1,
              "#f0f921"
             ]
            ],
            "type": "heatmap"
           }
          ],
          "heatmapgl": [
           {
            "colorbar": {
             "outlinewidth": 0,
             "ticks": ""
            },
            "colorscale": [
             [
              0,
              "#0d0887"
             ],
             [
              0.1111111111111111,
              "#46039f"
             ],
             [
              0.2222222222222222,
              "#7201a8"
             ],
             [
              0.3333333333333333,
              "#9c179e"
             ],
             [
              0.4444444444444444,
              "#bd3786"
             ],
             [
              0.5555555555555556,
              "#d8576b"
             ],
             [
              0.6666666666666666,
              "#ed7953"
             ],
             [
              0.7777777777777778,
              "#fb9f3a"
             ],
             [
              0.8888888888888888,
              "#fdca26"
             ],
             [
              1,
              "#f0f921"
             ]
            ],
            "type": "heatmapgl"
           }
          ],
          "histogram": [
           {
            "marker": {
             "pattern": {
              "fillmode": "overlay",
              "size": 10,
              "solidity": 0.2
             }
            },
            "type": "histogram"
           }
          ],
          "histogram2d": [
           {
            "colorbar": {
             "outlinewidth": 0,
             "ticks": ""
            },
            "colorscale": [
             [
              0,
              "#0d0887"
             ],
             [
              0.1111111111111111,
              "#46039f"
             ],
             [
              0.2222222222222222,
              "#7201a8"
             ],
             [
              0.3333333333333333,
              "#9c179e"
             ],
             [
              0.4444444444444444,
              "#bd3786"
             ],
             [
              0.5555555555555556,
              "#d8576b"
             ],
             [
              0.6666666666666666,
              "#ed7953"
             ],
             [
              0.7777777777777778,
              "#fb9f3a"
             ],
             [
              0.8888888888888888,
              "#fdca26"
             ],
             [
              1,
              "#f0f921"
             ]
            ],
            "type": "histogram2d"
           }
          ],
          "histogram2dcontour": [
           {
            "colorbar": {
             "outlinewidth": 0,
             "ticks": ""
            },
            "colorscale": [
             [
              0,
              "#0d0887"
             ],
             [
              0.1111111111111111,
              "#46039f"
             ],
             [
              0.2222222222222222,
              "#7201a8"
             ],
             [
              0.3333333333333333,
              "#9c179e"
             ],
             [
              0.4444444444444444,
              "#bd3786"
             ],
             [
              0.5555555555555556,
              "#d8576b"
             ],
             [
              0.6666666666666666,
              "#ed7953"
             ],
             [
              0.7777777777777778,
              "#fb9f3a"
             ],
             [
              0.8888888888888888,
              "#fdca26"
             ],
             [
              1,
              "#f0f921"
             ]
            ],
            "type": "histogram2dcontour"
           }
          ],
          "mesh3d": [
           {
            "colorbar": {
             "outlinewidth": 0,
             "ticks": ""
            },
            "type": "mesh3d"
           }
          ],
          "parcoords": [
           {
            "line": {
             "colorbar": {
              "outlinewidth": 0,
              "ticks": ""
             }
            },
            "type": "parcoords"
           }
          ],
          "pie": [
           {
            "automargin": true,
            "type": "pie"
           }
          ],
          "scatter": [
           {
            "fillpattern": {
             "fillmode": "overlay",
             "size": 10,
             "solidity": 0.2
            },
            "type": "scatter"
           }
          ],
          "scatter3d": [
           {
            "line": {
             "colorbar": {
              "outlinewidth": 0,
              "ticks": ""
             }
            },
            "marker": {
             "colorbar": {
              "outlinewidth": 0,
              "ticks": ""
             }
            },
            "type": "scatter3d"
           }
          ],
          "scattercarpet": [
           {
            "marker": {
             "colorbar": {
              "outlinewidth": 0,
              "ticks": ""
             }
            },
            "type": "scattercarpet"
           }
          ],
          "scattergeo": [
           {
            "marker": {
             "colorbar": {
              "outlinewidth": 0,
              "ticks": ""
             }
            },
            "type": "scattergeo"
           }
          ],
          "scattergl": [
           {
            "marker": {
             "colorbar": {
              "outlinewidth": 0,
              "ticks": ""
             }
            },
            "type": "scattergl"
           }
          ],
          "scattermapbox": [
           {
            "marker": {
             "colorbar": {
              "outlinewidth": 0,
              "ticks": ""
             }
            },
            "type": "scattermapbox"
           }
          ],
          "scatterpolar": [
           {
            "marker": {
             "colorbar": {
              "outlinewidth": 0,
              "ticks": ""
             }
            },
            "type": "scatterpolar"
           }
          ],
          "scatterpolargl": [
           {
            "marker": {
             "colorbar": {
              "outlinewidth": 0,
              "ticks": ""
             }
            },
            "type": "scatterpolargl"
           }
          ],
          "scatterternary": [
           {
            "marker": {
             "colorbar": {
              "outlinewidth": 0,
              "ticks": ""
             }
            },
            "type": "scatterternary"
           }
          ],
          "surface": [
           {
            "colorbar": {
             "outlinewidth": 0,
             "ticks": ""
            },
            "colorscale": [
             [
              0,
              "#0d0887"
             ],
             [
              0.1111111111111111,
              "#46039f"
             ],
             [
              0.2222222222222222,
              "#7201a8"
             ],
             [
              0.3333333333333333,
              "#9c179e"
             ],
             [
              0.4444444444444444,
              "#bd3786"
             ],
             [
              0.5555555555555556,
              "#d8576b"
             ],
             [
              0.6666666666666666,
              "#ed7953"
             ],
             [
              0.7777777777777778,
              "#fb9f3a"
             ],
             [
              0.8888888888888888,
              "#fdca26"
             ],
             [
              1,
              "#f0f921"
             ]
            ],
            "type": "surface"
           }
          ],
          "table": [
           {
            "cells": {
             "fill": {
              "color": "#EBF0F8"
             },
             "line": {
              "color": "white"
             }
            },
            "header": {
             "fill": {
              "color": "#C8D4E3"
             },
             "line": {
              "color": "white"
             }
            },
            "type": "table"
           }
          ]
         },
         "layout": {
          "annotationdefaults": {
           "arrowcolor": "#2a3f5f",
           "arrowhead": 0,
           "arrowwidth": 1
          },
          "autotypenumbers": "strict",
          "coloraxis": {
           "colorbar": {
            "outlinewidth": 0,
            "ticks": ""
           }
          },
          "colorscale": {
           "diverging": [
            [
             0,
             "#8e0152"
            ],
            [
             0.1,
             "#c51b7d"
            ],
            [
             0.2,
             "#de77ae"
            ],
            [
             0.3,
             "#f1b6da"
            ],
            [
             0.4,
             "#fde0ef"
            ],
            [
             0.5,
             "#f7f7f7"
            ],
            [
             0.6,
             "#e6f5d0"
            ],
            [
             0.7,
             "#b8e186"
            ],
            [
             0.8,
             "#7fbc41"
            ],
            [
             0.9,
             "#4d9221"
            ],
            [
             1,
             "#276419"
            ]
           ],
           "sequential": [
            [
             0,
             "#0d0887"
            ],
            [
             0.1111111111111111,
             "#46039f"
            ],
            [
             0.2222222222222222,
             "#7201a8"
            ],
            [
             0.3333333333333333,
             "#9c179e"
            ],
            [
             0.4444444444444444,
             "#bd3786"
            ],
            [
             0.5555555555555556,
             "#d8576b"
            ],
            [
             0.6666666666666666,
             "#ed7953"
            ],
            [
             0.7777777777777778,
             "#fb9f3a"
            ],
            [
             0.8888888888888888,
             "#fdca26"
            ],
            [
             1,
             "#f0f921"
            ]
           ],
           "sequentialminus": [
            [
             0,
             "#0d0887"
            ],
            [
             0.1111111111111111,
             "#46039f"
            ],
            [
             0.2222222222222222,
             "#7201a8"
            ],
            [
             0.3333333333333333,
             "#9c179e"
            ],
            [
             0.4444444444444444,
             "#bd3786"
            ],
            [
             0.5555555555555556,
             "#d8576b"
            ],
            [
             0.6666666666666666,
             "#ed7953"
            ],
            [
             0.7777777777777778,
             "#fb9f3a"
            ],
            [
             0.8888888888888888,
             "#fdca26"
            ],
            [
             1,
             "#f0f921"
            ]
           ]
          },
          "colorway": [
           "#636efa",
           "#EF553B",
           "#00cc96",
           "#ab63fa",
           "#FFA15A",
           "#19d3f3",
           "#FF6692",
           "#B6E880",
           "#FF97FF",
           "#FECB52"
          ],
          "font": {
           "color": "#2a3f5f"
          },
          "geo": {
           "bgcolor": "white",
           "lakecolor": "white",
           "landcolor": "#E5ECF6",
           "showlakes": true,
           "showland": true,
           "subunitcolor": "white"
          },
          "hoverlabel": {
           "align": "left"
          },
          "hovermode": "closest",
          "mapbox": {
           "style": "light"
          },
          "paper_bgcolor": "white",
          "plot_bgcolor": "#E5ECF6",
          "polar": {
           "angularaxis": {
            "gridcolor": "white",
            "linecolor": "white",
            "ticks": ""
           },
           "bgcolor": "#E5ECF6",
           "radialaxis": {
            "gridcolor": "white",
            "linecolor": "white",
            "ticks": ""
           }
          },
          "scene": {
           "xaxis": {
            "backgroundcolor": "#E5ECF6",
            "gridcolor": "white",
            "gridwidth": 2,
            "linecolor": "white",
            "showbackground": true,
            "ticks": "",
            "zerolinecolor": "white"
           },
           "yaxis": {
            "backgroundcolor": "#E5ECF6",
            "gridcolor": "white",
            "gridwidth": 2,
            "linecolor": "white",
            "showbackground": true,
            "ticks": "",
            "zerolinecolor": "white"
           },
           "zaxis": {
            "backgroundcolor": "#E5ECF6",
            "gridcolor": "white",
            "gridwidth": 2,
            "linecolor": "white",
            "showbackground": true,
            "ticks": "",
            "zerolinecolor": "white"
           }
          },
          "shapedefaults": {
           "line": {
            "color": "#2a3f5f"
           }
          },
          "ternary": {
           "aaxis": {
            "gridcolor": "white",
            "linecolor": "white",
            "ticks": ""
           },
           "baxis": {
            "gridcolor": "white",
            "linecolor": "white",
            "ticks": ""
           },
           "bgcolor": "#E5ECF6",
           "caxis": {
            "gridcolor": "white",
            "linecolor": "white",
            "ticks": ""
           }
          },
          "title": {
           "x": 0.05
          },
          "xaxis": {
           "automargin": true,
           "gridcolor": "white",
           "linecolor": "white",
           "ticks": "",
           "title": {
            "standoff": 15
           },
           "zerolinecolor": "white",
           "zerolinewidth": 2
          },
          "yaxis": {
           "automargin": true,
           "gridcolor": "white",
           "linecolor": "white",
           "ticks": "",
           "title": {
            "standoff": 15
           },
           "zerolinecolor": "white",
           "zerolinewidth": 2
          }
         }
        },
        "title": {
         "text": "Tarif moyen par zone de depose"
        },
        "xaxis": {
         "anchor": "y",
         "domain": [
          0,
          1
         ],
         "tickangle": -45,
         "title": {
          "text": "Zone de depose"
         }
        },
        "yaxis": {
         "anchor": "x",
         "domain": [
          0,
          1
         ],
         "title": {
          "text": "Tarif moyen ($)"
         }
        }
       }
      }
     },
     "metadata": {},
     "output_type": "display_data"
    }
   ],
   "source": [
    "# Calculer le tarif moyen par zone de prise en charge\n",
    "fare_means = df_trips_with_zones.groupby('zone_dropoff')['total_amount'].mean().reset_index(name='Tarif_moyen')\n",
    "\n",
    "# Trier les zones par tarif moyen dans l'ordre décroissant\n",
    "fare_means_sorted = fare_means.sort_values(by='Tarif_moyen', ascending=False)\n",
    "\n",
    "# Créer un graphique des tarifs moyens par zone de prise en charge en utilisant Plotly Express\n",
    "fig = px.bar(fare_means_sorted, x='zone_dropoff', y='Tarif_moyen', title='Tarif moyen par zone de depose',\n",
    "             labels={'zone_dropoff': 'Zone de depose', 'Tarif_moyen': 'Tarif moyen ($)'},\n",
    "             color='Tarif_moyen', color_continuous_scale='blues')\n",
    "fig.update_layout(xaxis_tickangle=-45)\n",
    "fig.show()"
   ]
  },
  {
   "cell_type": "code",
   "execution_count": 18,
   "metadata": {},
   "outputs": [
    {
     "ename": "",
     "evalue": "",
     "output_type": "error",
     "traceback": [
      "\u001b[1;31mThe Kernel crashed while executing code in the current cell or a previous cell. \n",
      "\u001b[1;31mPlease review the code in the cell(s) to identify a possible cause of the failure. \n",
      "\u001b[1;31mClick <a href='https://aka.ms/vscodeJupyterKernelCrash'>here</a> for more info. \n",
      "\u001b[1;31mView Jupyter <a href='command:jupyter.viewOutput'>log</a> for further details."
     ]
    }
   ],
   "source": [
    "# Convertir les colonnes de date en format datetime\n",
    "df_trips['tpep_pickup_datetime'] = pd.to_datetime(df_trips['tpep_pickup_datetime'])\n",
    "df_trips['tpep_dropoff_datetime'] = pd.to_datetime(df_trips['tpep_dropoff_datetime'])\n",
    "\n",
    "# Calculer la durée du trajet en minutes\n",
    "df_trips['Trip_duration'] = (df_trips['tpep_dropoff_datetime'] - df_trips['tpep_pickup_datetime']).dt.total_seconds() / 60\n",
    "\n",
    "# Analyse bivariée avec la durée du trajet\n",
    "plt.figure(figsize=(10, 6))\n",
    "plt.scatter(df_trips['Trip_duration'], df_trips['Total_amount'], alpha=0.5)\n",
    "plt.title('Tarifs de taxi en fonction de la durée du trajet')\n",
    "plt.xlabel('Durée du trajet (minutes)')\n",
    "plt.ylabel('Tarif ($)')\n",
    "plt.show()"
   ]
  }
 ],
 "metadata": {
  "kernelspec": {
   "display_name": ".venv",
   "language": "python",
   "name": "python3"
  },
  "language_info": {
   "codemirror_mode": {
    "name": "ipython",
    "version": 3
   },
   "file_extension": ".py",
   "mimetype": "text/x-python",
   "name": "python",
   "nbconvert_exporter": "python",
   "pygments_lexer": "ipython3",
   "version": "3.10.12"
  }
 },
 "nbformat": 4,
 "nbformat_minor": 2
}
