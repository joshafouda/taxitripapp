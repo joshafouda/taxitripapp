{
 "cells": [
  {
   "cell_type": "markdown",
   "metadata": {},
   "source": [
    "# Apercu des donnees"
   ]
  },
  {
   "cell_type": "code",
   "execution_count": 36,
   "metadata": {},
   "outputs": [],
   "source": [
    "import requests\n",
    "import pandas as pd"
   ]
  },
  {
   "cell_type": "code",
   "execution_count": 4,
   "metadata": {},
   "outputs": [],
   "source": [
    "# Telechargement des donnees (Janvier 2024)\n",
    "download_url = f\"https://d37ci6vzurychx.cloudfront.net/trip-data/yellow_tripdata_2024-01.parquet\"\n",
    "response = requests.get(download_url)\n",
    "with open(\"yellow_tripdata_2024-01.parquet\", \"wb\") as f:\n",
    "    f.write(response.content)"
   ]
  },
  {
   "cell_type": "code",
   "execution_count": 37,
   "metadata": {},
   "outputs": [
    {
     "data": {
      "text/html": [
       "<div>\n",
       "<style scoped>\n",
       "    .dataframe tbody tr th:only-of-type {\n",
       "        vertical-align: middle;\n",
       "    }\n",
       "\n",
       "    .dataframe tbody tr th {\n",
       "        vertical-align: top;\n",
       "    }\n",
       "\n",
       "    .dataframe thead th {\n",
       "        text-align: right;\n",
       "    }\n",
       "</style>\n",
       "<table border=\"1\" class=\"dataframe\">\n",
       "  <thead>\n",
       "    <tr style=\"text-align: right;\">\n",
       "      <th></th>\n",
       "      <th>VendorID</th>\n",
       "      <th>tpep_pickup_datetime</th>\n",
       "      <th>tpep_dropoff_datetime</th>\n",
       "      <th>passenger_count</th>\n",
       "      <th>trip_distance</th>\n",
       "      <th>RatecodeID</th>\n",
       "      <th>store_and_fwd_flag</th>\n",
       "      <th>PULocationID</th>\n",
       "      <th>DOLocationID</th>\n",
       "      <th>payment_type</th>\n",
       "      <th>fare_amount</th>\n",
       "      <th>extra</th>\n",
       "      <th>mta_tax</th>\n",
       "      <th>tip_amount</th>\n",
       "      <th>tolls_amount</th>\n",
       "      <th>improvement_surcharge</th>\n",
       "      <th>total_amount</th>\n",
       "      <th>congestion_surcharge</th>\n",
       "      <th>Airport_fee</th>\n",
       "    </tr>\n",
       "  </thead>\n",
       "  <tbody>\n",
       "    <tr>\n",
       "      <th>0</th>\n",
       "      <td>2</td>\n",
       "      <td>2024-01-01 00:57:55</td>\n",
       "      <td>2024-01-01 01:17:43</td>\n",
       "      <td>1.0</td>\n",
       "      <td>1.72</td>\n",
       "      <td>1.0</td>\n",
       "      <td>N</td>\n",
       "      <td>186</td>\n",
       "      <td>79</td>\n",
       "      <td>2</td>\n",
       "      <td>17.7</td>\n",
       "      <td>1.0</td>\n",
       "      <td>0.5</td>\n",
       "      <td>0.00</td>\n",
       "      <td>0.0</td>\n",
       "      <td>1.0</td>\n",
       "      <td>22.70</td>\n",
       "      <td>2.5</td>\n",
       "      <td>0.0</td>\n",
       "    </tr>\n",
       "    <tr>\n",
       "      <th>1</th>\n",
       "      <td>1</td>\n",
       "      <td>2024-01-01 00:03:00</td>\n",
       "      <td>2024-01-01 00:09:36</td>\n",
       "      <td>1.0</td>\n",
       "      <td>1.80</td>\n",
       "      <td>1.0</td>\n",
       "      <td>N</td>\n",
       "      <td>140</td>\n",
       "      <td>236</td>\n",
       "      <td>1</td>\n",
       "      <td>10.0</td>\n",
       "      <td>3.5</td>\n",
       "      <td>0.5</td>\n",
       "      <td>3.75</td>\n",
       "      <td>0.0</td>\n",
       "      <td>1.0</td>\n",
       "      <td>18.75</td>\n",
       "      <td>2.5</td>\n",
       "      <td>0.0</td>\n",
       "    </tr>\n",
       "    <tr>\n",
       "      <th>2</th>\n",
       "      <td>1</td>\n",
       "      <td>2024-01-01 00:17:06</td>\n",
       "      <td>2024-01-01 00:35:01</td>\n",
       "      <td>1.0</td>\n",
       "      <td>4.70</td>\n",
       "      <td>1.0</td>\n",
       "      <td>N</td>\n",
       "      <td>236</td>\n",
       "      <td>79</td>\n",
       "      <td>1</td>\n",
       "      <td>23.3</td>\n",
       "      <td>3.5</td>\n",
       "      <td>0.5</td>\n",
       "      <td>3.00</td>\n",
       "      <td>0.0</td>\n",
       "      <td>1.0</td>\n",
       "      <td>31.30</td>\n",
       "      <td>2.5</td>\n",
       "      <td>0.0</td>\n",
       "    </tr>\n",
       "    <tr>\n",
       "      <th>3</th>\n",
       "      <td>1</td>\n",
       "      <td>2024-01-01 00:36:38</td>\n",
       "      <td>2024-01-01 00:44:56</td>\n",
       "      <td>1.0</td>\n",
       "      <td>1.40</td>\n",
       "      <td>1.0</td>\n",
       "      <td>N</td>\n",
       "      <td>79</td>\n",
       "      <td>211</td>\n",
       "      <td>1</td>\n",
       "      <td>10.0</td>\n",
       "      <td>3.5</td>\n",
       "      <td>0.5</td>\n",
       "      <td>2.00</td>\n",
       "      <td>0.0</td>\n",
       "      <td>1.0</td>\n",
       "      <td>17.00</td>\n",
       "      <td>2.5</td>\n",
       "      <td>0.0</td>\n",
       "    </tr>\n",
       "    <tr>\n",
       "      <th>4</th>\n",
       "      <td>1</td>\n",
       "      <td>2024-01-01 00:46:51</td>\n",
       "      <td>2024-01-01 00:52:57</td>\n",
       "      <td>1.0</td>\n",
       "      <td>0.80</td>\n",
       "      <td>1.0</td>\n",
       "      <td>N</td>\n",
       "      <td>211</td>\n",
       "      <td>148</td>\n",
       "      <td>1</td>\n",
       "      <td>7.9</td>\n",
       "      <td>3.5</td>\n",
       "      <td>0.5</td>\n",
       "      <td>3.20</td>\n",
       "      <td>0.0</td>\n",
       "      <td>1.0</td>\n",
       "      <td>16.10</td>\n",
       "      <td>2.5</td>\n",
       "      <td>0.0</td>\n",
       "    </tr>\n",
       "  </tbody>\n",
       "</table>\n",
       "</div>"
      ],
      "text/plain": [
       "   VendorID tpep_pickup_datetime tpep_dropoff_datetime  passenger_count  \\\n",
       "0         2  2024-01-01 00:57:55   2024-01-01 01:17:43              1.0   \n",
       "1         1  2024-01-01 00:03:00   2024-01-01 00:09:36              1.0   \n",
       "2         1  2024-01-01 00:17:06   2024-01-01 00:35:01              1.0   \n",
       "3         1  2024-01-01 00:36:38   2024-01-01 00:44:56              1.0   \n",
       "4         1  2024-01-01 00:46:51   2024-01-01 00:52:57              1.0   \n",
       "\n",
       "   trip_distance  RatecodeID store_and_fwd_flag  PULocationID  DOLocationID  \\\n",
       "0           1.72         1.0                  N           186            79   \n",
       "1           1.80         1.0                  N           140           236   \n",
       "2           4.70         1.0                  N           236            79   \n",
       "3           1.40         1.0                  N            79           211   \n",
       "4           0.80         1.0                  N           211           148   \n",
       "\n",
       "   payment_type  fare_amount  extra  mta_tax  tip_amount  tolls_amount  \\\n",
       "0             2         17.7    1.0      0.5        0.00           0.0   \n",
       "1             1         10.0    3.5      0.5        3.75           0.0   \n",
       "2             1         23.3    3.5      0.5        3.00           0.0   \n",
       "3             1         10.0    3.5      0.5        2.00           0.0   \n",
       "4             1          7.9    3.5      0.5        3.20           0.0   \n",
       "\n",
       "   improvement_surcharge  total_amount  congestion_surcharge  Airport_fee  \n",
       "0                    1.0         22.70                   2.5          0.0  \n",
       "1                    1.0         18.75                   2.5          0.0  \n",
       "2                    1.0         31.30                   2.5          0.0  \n",
       "3                    1.0         17.00                   2.5          0.0  \n",
       "4                    1.0         16.10                   2.5          0.0  "
      ]
     },
     "execution_count": 37,
     "metadata": {},
     "output_type": "execute_result"
    }
   ],
   "source": [
    "# Importation des donnes de Janvier 2024\n",
    "#installer pyarrow sinon ce code ne fonctionnera pas\n",
    "df_janv_2024 = pd.read_parquet(\"yellow_tripdata_2024-01.parquet\")\n",
    "df_janv_2024.head()"
   ]
  },
  {
   "cell_type": "code",
   "execution_count": 9,
   "metadata": {},
   "outputs": [
    {
     "name": "stdout",
     "output_type": "stream",
     "text": [
      "<class 'pandas.core.frame.DataFrame'>\n",
      "RangeIndex: 2964624 entries, 0 to 2964623\n",
      "Data columns (total 19 columns):\n",
      " #   Column                 Dtype         \n",
      "---  ------                 -----         \n",
      " 0   VendorID               int32         \n",
      " 1   tpep_pickup_datetime   datetime64[us]\n",
      " 2   tpep_dropoff_datetime  datetime64[us]\n",
      " 3   passenger_count        float64       \n",
      " 4   trip_distance          float64       \n",
      " 5   RatecodeID             float64       \n",
      " 6   store_and_fwd_flag     object        \n",
      " 7   PULocationID           int32         \n",
      " 8   DOLocationID           int32         \n",
      " 9   payment_type           int64         \n",
      " 10  fare_amount            float64       \n",
      " 11  extra                  float64       \n",
      " 12  mta_tax                float64       \n",
      " 13  tip_amount             float64       \n",
      " 14  tolls_amount           float64       \n",
      " 15  improvement_surcharge  float64       \n",
      " 16  total_amount           float64       \n",
      " 17  congestion_surcharge   float64       \n",
      " 18  Airport_fee            float64       \n",
      "dtypes: datetime64[us](2), float64(12), int32(3), int64(1), object(1)\n",
      "memory usage: 395.8+ MB\n"
     ]
    }
   ],
   "source": [
    "df_janv_2024.info()"
   ]
  },
  {
   "cell_type": "code",
   "execution_count": 11,
   "metadata": {},
   "outputs": [
    {
     "data": {
      "text/plain": [
       "VendorID                      0\n",
       "tpep_pickup_datetime          0\n",
       "tpep_dropoff_datetime         0\n",
       "passenger_count          140162\n",
       "trip_distance                 0\n",
       "RatecodeID               140162\n",
       "store_and_fwd_flag       140162\n",
       "PULocationID                  0\n",
       "DOLocationID                  0\n",
       "payment_type                  0\n",
       "fare_amount                   0\n",
       "extra                         0\n",
       "mta_tax                       0\n",
       "tip_amount                    0\n",
       "tolls_amount                  0\n",
       "improvement_surcharge         0\n",
       "total_amount                  0\n",
       "congestion_surcharge     140162\n",
       "Airport_fee              140162\n",
       "dtype: int64"
      ]
     },
     "execution_count": 11,
     "metadata": {},
     "output_type": "execute_result"
    }
   ],
   "source": [
    "df_janv_2024.isna().sum()"
   ]
  },
  {
   "cell_type": "markdown",
   "metadata": {},
   "source": [
    "# Description des variables \n",
    "\n",
    "Voici la description de chaque variable du jeu de données des enregistrements de voyages en taxi jaune :\n",
    "\n",
    "1. **VendorID** : Un code indiquant le fournisseur TPEP qui a fourni l'enregistrement. 1= Creative Mobile Technologies, LLC; 2= VeriFone Inc.\n",
    "\n",
    "2. **tpep_pickup_datetime** : La date et l'heure auxquelles le compteur a été engagé.\n",
    "\n",
    "3. **tpep_dropoff_datetime** : La date et l'heure auxquelles le compteur a été désengagé.\n",
    "\n",
    "4. **Passenger_count** : Le nombre de passagers dans le véhicule. Ceci est une valeur saisie par le conducteur.\n",
    "\n",
    "5. **Trip_distance** : La distance de voyage écoulée en miles rapportée par le taximètre.\n",
    "\n",
    "6. **RateCodeID** : Le code tarifaire final en vigueur à la fin du voyage.\n",
    "   1= Tarif standard\n",
    "   2= JFK\n",
    "   3= Newark\n",
    "   4= Nassau ou Westchester\n",
    "   5= Tarif négocié\n",
    "   6= Trajet en groupe\n",
    "\n",
    "7. **Store_and_fwd_flag** : Ce drapeau indique si l'enregistrement du voyage a été conservé en mémoire dans le véhicule avant d'être envoyé au fournisseur, autrement dit \"stockage et transmission différée\", car le véhicule n'avait pas de connexion au serveur.\n",
    "   Y= Voyage enregistré et transmis ultérieurement\n",
    "   N= Pas de voyage enregistré et transmis ultérieurement\n",
    "\n",
    "8. **PULocationID** : Zone de taxi TLC dans laquelle le taximètre a été engagé.\n",
    "\n",
    "9. **DOLocationID** : Zone de taxi TLC dans laquelle le taximètre a été désengagé.\n",
    "\n",
    "10. **Payment_type** : Un code numérique indiquant comment le passager a payé pour le voyage.\n",
    "    1= Carte de crédit\n",
    "    2= Espèces\n",
    "    3= Gratuit\n",
    "    4= Litige\n",
    "    5= Inconnu\n",
    "    6= Voyage annulé\n",
    "\n",
    "11. **Fare_amount** : Le montant du tarif calculé en fonction du temps et de la distance par le compteur.\n",
    "\n",
    "12. **Extra** : Extras et suppléments divers. Actuellement, cela inclut uniquement les frais de $0,50 et $1 pour les heures de pointe et les trajets de nuit.\n",
    "\n",
    "13. **MTA_tax** : Taxe MTA de $0,50 automatiquement déclenchée en fonction du tarif en cours d'utilisation.\n",
    "\n",
    "14. **Tip_amount** : Montant du pourboire - Ce champ est automatiquement renseigné pour les pourboires par carte de crédit. Les pourboires en espèces ne sont pas inclus.\n",
    "\n",
    "15. **Tolls_amount** : Montant total de tous les péages payés lors du voyage.\n",
    "\n",
    "16. **Improvement_surcharge** : Supplément d'amélioration de $0,30 facturé au départ du drapeau. Le supplément d'amélioration a commencé à être prélevé en 2015.\n",
    "\n",
    "17. **Total_amount** : Le montant total facturé aux passagers. Ne comprend pas les pourboires en espèces.\n",
    "\n",
    "18. **Congestion_Surcharge** : Montant total collecté lors du voyage pour la surcharge de congestion de l'État de New York.\n",
    "\n",
    "19. **Airport_fee** : $1.25 pour les prises en charge uniquement aux aéroports de LaGuardia et John F. Kennedy."
   ]
  },
  {
   "cell_type": "code",
   "execution_count": 14,
   "metadata": {},
   "outputs": [
    {
     "data": {
      "text/plain": [
       "VendorID                 0\n",
       "tpep_pickup_datetime     0\n",
       "tpep_dropoff_datetime    0\n",
       "passenger_count          0\n",
       "trip_distance            0\n",
       "RatecodeID               0\n",
       "store_and_fwd_flag       0\n",
       "PULocationID             0\n",
       "DOLocationID             0\n",
       "payment_type             0\n",
       "fare_amount              0\n",
       "extra                    0\n",
       "mta_tax                  0\n",
       "tip_amount               0\n",
       "tolls_amount             0\n",
       "improvement_surcharge    0\n",
       "total_amount             0\n",
       "congestion_surcharge     0\n",
       "Airport_fee              0\n",
       "dtype: int64"
      ]
     },
     "execution_count": 14,
     "metadata": {},
     "output_type": "execute_result"
    }
   ],
   "source": [
    "df_passengers_not_missing = df_janv_2024.dropna(subset=['passenger_count', 'total_amount'])\n",
    "df_passengers_not_missing.isna().sum()"
   ]
  },
  {
   "cell_type": "code",
   "execution_count": 15,
   "metadata": {},
   "outputs": [
    {
     "data": {
      "text/plain": [
       "(2824462, 19)"
      ]
     },
     "execution_count": 15,
     "metadata": {},
     "output_type": "execute_result"
    }
   ],
   "source": [
    "df_passengers_not_missing.shape"
   ]
  },
  {
   "cell_type": "markdown",
   "metadata": {},
   "source": [
    "Je vais travailler uniquement avec des donnees ou le nombre de passengers ainsi que le montant total facture dans un trajet n'est pas une valeur manquante."
   ]
  },
  {
   "cell_type": "markdown",
   "metadata": {},
   "source": [
    "Je choisis de travailler avec les donnees historiques de 2016 a Fevrier 2024 (donnees les plus recentes a ce jour)."
   ]
  },
  {
   "cell_type": "markdown",
   "metadata": {},
   "source": [
    "# Idees d'analyses\n",
    "\n",
    "Avec ces données sur les trajets en taxi jaune à New York, il y a plusieurs analyses que tu peux effectuer pour en tirer des informations utiles. Voici quelques suggestions :\n",
    "\n",
    "1. **Analyse temporelle** :\n",
    "   - Analyser les tendances saisonnières, mensuelles, hebdomadaires et journalières des voyages en taxi pour identifier les moments de pointe et les creux d'activité.\n",
    "   - Examiner les variations de la durée moyenne des trajets et du montant total facturé au fil du temps.\n",
    "   - Identifier les jours fériés ou les événements spéciaux qui influencent le nombre de voyages en taxi.\n",
    "\n",
    "2. **Analyse de la géographie** :\n",
    "   - Cartographier les trajets en taxi pour visualiser les zones les plus fréquentées et les itinéraires populaires.\n",
    "   - Examiner les différences de tarification et de durée de trajet entre les zones géographiques de la ville.\n",
    "\n",
    "3. **Analyse des tarifs** :\n",
    "   - Étudier la distribution des tarifs de taxi et des suppléments pour comprendre les variations et identifier les facteurs qui influencent les prix.\n",
    "   - Analyser la corrélation entre la distance parcourue et le montant total facturé.\n",
    "\n",
    "4. **Analyse des clients** :\n",
    "   - Examiner la répartition des passagers par nombre de passagers, mode de paiement et zone géographique.\n",
    "   - Identifier les habitudes de voyage des différents segments de clients.\n",
    "\n",
    "5. **Analyse des pourboires** :\n",
    "   - Étudier les montants de pourboires pour comprendre les comportements des passagers et des chauffeurs.\n",
    "   - Examiner la corrélation entre le montant total facturé et le pourcentage de pourboires.\n",
    "\n",
    "6. **Analyse des anomalies** :\n",
    "   - Identifier les voyages atypiques, comme les trajets très courts ou très longs, les tarifs anormalement élevés ou bas, pour détecter d'éventuelles erreurs ou fraudes.\n",
    "\n",
    "7. **Analyse comparative** :\n",
    "   - Comparer les performances des différents fournisseurs de services de paiement et des zones géographiques pour identifier les tendances et les opportunités d'amélioration.\n",
    "\n",
    "8. **Prévisions et modèles prédictifs** :\n",
    "   - Utiliser les données historiques pour développer des modèles de prévision du nombre de trajets, des tarifs ou des pourboires.\n",
    "   - Prédire la demande future de taxis en fonction de variables telles que le temps, les événements locaux ou les tendances saisonnières.\n",
    "\n",
    "Ces analyses peuvent fournir des informations précieuses pour les opérateurs de taxis, les autorités de régulation et les chercheurs en urbanisme pour optimiser les services de transport et prendre des décisions éclairées."
   ]
  },
  {
   "cell_type": "markdown",
   "metadata": {},
   "source": [
    "# Execution des activites ETL (Extract, Tranform, Load)\n",
    "\n",
    "1. Executer le script download_data_files.py (lq fonction est ecrite de telle sorte aue les fichiers de donnees existant deja ne seront pas retelecharges de nouveau)\n",
    "\n"
   ]
  }
 ],
 "metadata": {
  "kernelspec": {
   "display_name": ".venv",
   "language": "python",
   "name": "python3"
  },
  "language_info": {
   "codemirror_mode": {
    "name": "ipython",
    "version": 3
   },
   "file_extension": ".py",
   "mimetype": "text/x-python",
   "name": "python",
   "nbconvert_exporter": "python",
   "pygments_lexer": "ipython3",
   "version": "3.10.12"
  }
 },
 "nbformat": 4,
 "nbformat_minor": 2
}
